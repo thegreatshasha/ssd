{
 "cells": [
  {
   "cell_type": "markdown",
   "metadata": {
    "toc": "true"
   },
   "source": [
    "# Table of Contents\n",
    " <p><div class=\"lev2 toc-item\"><a href=\"#Connet-definitions\" data-toc-modified-id=\"Connet-definitions-01\"><span class=\"toc-item-num\">0.1&nbsp;&nbsp;</span>Connet definitions</a></div><div class=\"lev2 toc-item\"><a href=\"#Default-boxes\" data-toc-modified-id=\"Default-boxes-02\"><span class=\"toc-item-num\">0.2&nbsp;&nbsp;</span>Default boxes</a></div><div class=\"lev2 toc-item\"><a href=\"#center-to-coords\" data-toc-modified-id=\"center-to-coords-03\"><span class=\"toc-item-num\">0.3&nbsp;&nbsp;</span>center to coords</a></div><div class=\"lev2 toc-item\"><a href=\"#Get-prediction-boxes\" data-toc-modified-id=\"Get-prediction-boxes-04\"><span class=\"toc-item-num\">0.4&nbsp;&nbsp;</span>Get prediction boxes</a></div><div class=\"lev2 toc-item\"><a href=\"#Draw-pred-boxes\" data-toc-modified-id=\"Draw-pred-boxes-05\"><span class=\"toc-item-num\">0.5&nbsp;&nbsp;</span>Draw pred boxes</a></div><div class=\"lev2 toc-item\"><a href=\"#Calculate-IOU-score-and-find-matches\" data-toc-modified-id=\"Calculate-IOU-score-and-find-matches-06\"><span class=\"toc-item-num\">0.6&nbsp;&nbsp;</span>Calculate IOU score and find matches</a></div><div class=\"lev2 toc-item\"><a href=\"#Normalize-shifts\" data-toc-modified-id=\"Normalize-shifts-07\"><span class=\"toc-item-num\">0.7&nbsp;&nbsp;</span>Normalize shifts</a></div><div class=\"lev2 toc-item\"><a href=\"#Regression-Loss\" data-toc-modified-id=\"Regression-Loss-08\"><span class=\"toc-item-num\">0.8&nbsp;&nbsp;</span>Regression Loss</a></div><div class=\"lev2 toc-item\"><a href=\"#Compute-regression-loss\" data-toc-modified-id=\"Compute-regression-loss-09\"><span class=\"toc-item-num\">0.9&nbsp;&nbsp;</span>Compute regression loss</a></div><div class=\"lev2 toc-item\"><a href=\"#Everything-connected\" data-toc-modified-id=\"Everything-connected-010\"><span class=\"toc-item-num\">0.10&nbsp;&nbsp;</span>Everything connected</a></div>"
   ]
  },
  {
   "cell_type": "code",
   "execution_count": 1,
   "metadata": {
    "ExecuteTime": {
     "end_time": "2017-11-16T21:07:28.620213Z",
     "start_time": "2017-11-16T21:07:27.968263Z"
    }
   },
   "outputs": [
    {
     "data": {
      "image/png": "[encoded data removed]",
      "text/plain": [
       "<matplotlib.figure.Figure at 0x7fa164798d68>"
      ]
     },
     "metadata": {},
     "output_type": "display_data"
    }
   ],
   "source": [
    "import chainer\n",
    "import numpy as np\n",
    "import matplotlib.pyplot as plt\n",
    "from matplotlib import patches\n",
    "import random \n",
    "from chainer.functions import log, hstack, huber_loss\n",
    "\n",
    "# %matplotlib notebook\n",
    "def get_single_image(): \n",
    "    \n",
    "    image = np.zeros((1,3,128,128), dtype=np.float32)\n",
    "\n",
    "    gts = []\n",
    "\n",
    "    for i in range(1):\n",
    "        # Choose random coordinate, this can also be run in a loop\n",
    "        width = 20\n",
    "        height = 20\n",
    "        pos_r = np.random.randint(10, 60)\n",
    "        pos_c = np.random.randint(10, 60)\n",
    "        image[0,:,pos_r:pos_r+height,pos_c:pos_c+width]=1\n",
    "        #print(pos_r, pos_c)\n",
    "\n",
    "        cx = pos_c #+ width/2.0\n",
    "        cy = pos_r #+ height/2.0\n",
    "\n",
    "        box = [cx, cy, width, height, 1, 0]\n",
    "\n",
    "        gts.append(box)\n",
    "\n",
    "    # Create ground truth object\n",
    "    gts2 = chainer.Variable(np.array(gts, dtype=np.float32))\n",
    "    return gts2, image \n",
    "\n",
    "\n",
    "gt, img  = get_single_image()\n",
    "for i in range(1):\n",
    "    # Initialize the image\n",
    "    \n",
    "    # Visualize the entire thing\n",
    "    plt.imshow(img[0,0,:,:])\n",
    "    plt.show()"
   ]
  },
  {
   "cell_type": "markdown",
   "metadata": {},
   "source": [
    "## Connet definitions "
   ]
  },
  {
   "cell_type": "code",
   "execution_count": 2,
   "metadata": {
    "ExecuteTime": {
     "end_time": "2017-11-16T21:07:28.642714Z",
     "start_time": "2017-11-16T21:07:28.621765Z"
    },
    "collapsed": true
   },
   "outputs": [],
   "source": [
    "from chainer import Chain\n",
    "import chainer\n",
    "import chainer.functions as F\n",
    "import chainer.links as L\n",
    "\n",
    "class ConvNet(Chain):\n",
    "    def __init__(self):\n",
    "        super(ConvNet, self).__init__(\n",
    "            l1=L.Convolution2D(None,32,ksize=(3,3),stride=1,pad=1),\n",
    "            l2=L.Convolution2D(32,32,ksize=(3,3),stride=1,pad=1),\n",
    "            l3=L.Convolution2D(32,32,ksize=(3,3),stride=1,pad=1),\n",
    "            l4=L.Convolution2D(32,32,ksize=(3,3),stride=1,pad=1)\n",
    "        )\n",
    "        \n",
    "    def __call__(self, x):\n",
    "        h1 = F.relu(self.l1(x))\n",
    "        h2 = F.max_pooling_2d(h1, 2)\n",
    "        h3 = F.relu(self.l2(h2))\n",
    "#         h4 = F.max_pooling_2d(h3, 2)\n",
    "#         h5 = F.relu(self.l3(h4))\n",
    "#         h6 = F.max_pooling_2d(h5, 2)\n",
    "#         h7 = F.relu(self.l4(h6))\n",
    "        \n",
    "        return self.l3(F.sigmoid(h3))"
   ]
  },
  {
   "cell_type": "code",
   "execution_count": 3,
   "metadata": {
    "ExecuteTime": {
     "end_time": "2017-11-16T21:07:28.862967Z",
     "start_time": "2017-11-16T21:07:28.644088Z"
    },
    "collapsed": true
   },
   "outputs": [],
   "source": [
    "class BoxNet(Chain):\n",
    "    def __init__(self, predictor):\n",
    "        super(BoxNet, self).__init__(\n",
    "            l1=L.Convolution2D(None,6,ksize=(3,3),stride=1,pad=1)\n",
    "        )\n",
    "        self.predictor = predictor\n",
    "        \n",
    "    def __call__(self, x):\n",
    "        h1 = self.l1(self.predictor(x))\n",
    "        return h1\n",
    "    \n",
    "convnet = ConvNet()\n",
    "boxnet = BoxNet(ConvNet())\n",
    "fm = convnet(img)\n",
    "shifts = boxnet(img)\n",
    "shifts= shifts[:,:,8,8]\n",
    "shifts =F.reshape(shifts,[1,6,1,1])\n"
   ]
  },
  {
   "cell_type": "code",
   "execution_count": null,
   "metadata": {
    "ExecuteTime": {
     "end_time": "2017-11-16T09:11:33.331627Z",
     "start_time": "2017-11-16T09:11:33.319115Z"
    },
    "collapsed": true
   },
   "outputs": [],
   "source": []
  },
  {
   "cell_type": "markdown",
   "metadata": {},
   "source": [
    "## Default boxes "
   ]
  },
  {
   "cell_type": "code",
   "execution_count": 4,
   "metadata": {
    "ExecuteTime": {
     "end_time": "2017-11-16T21:07:28.908211Z",
     "start_time": "2017-11-16T21:07:28.868712Z"
    },
    "collapsed": true
   },
   "outputs": [],
   "source": [
    "\n",
    "def defaultgen(I, F, width, height):\n",
    "    \"\"\"\n",
    "    Generates an array of default boxes: Chainer TESTED\n",
    "    \n",
    "    Args:\n",
    "        I: Input image tensor (N,channels,rows,cols)\n",
    "        F: Feature map tensor to generate default boxes for\n",
    "        width: Width of the box\n",
    "        height: Height of the box\n",
    "        \n",
    "    Returns:\n",
    "        db: Default boxes tensor, flattened\n",
    "    \"\"\"\n",
    "    scale = (I.shape[2] / F.shape[2])\n",
    "    offset = np.ones((2,F.shape[2],F.shape[3]), dtype=np.float32)\n",
    "    iterator = np.flip(np.indices((F.shape[2],F.shape[3])), axis=0).astype(np.float32)\n",
    "    \n",
    "    xys = offset * ((scale-1)/2) + iterator * scale\n",
    "    xys = np.moveaxis(xys,0,2)\n",
    "    ws = np.full((F.shape[2],F.shape[3],1), width, dtype=np.float32)\n",
    "    hs = np.full((F.shape[2],F.shape[3],1), height,dtype=np.float32)\n",
    "    class_scores = np.zeros((F.shape[2],F.shape[3],2), dtype=np.float32)\n",
    "    db = np.dstack([xys, ws, hs, class_scores])\n",
    "   \n",
    "    db = db[8,8,:]\n",
    "    db = db.reshape([1,1,6])\n",
    "    \n",
    "    return chainer.Variable(db.reshape((db.shape[0] * db.shape[1], 6)))\n"
   ]
  },
  {
   "cell_type": "code",
   "execution_count": 5,
   "metadata": {
    "ExecuteTime": {
     "end_time": "2017-11-16T21:07:29.007325Z",
     "start_time": "2017-11-16T21:07:28.914672Z"
    },
    "collapsed": true
   },
   "outputs": [],
   "source": [
    "def_boxes=defaultgen(img, fm, 50,50 )"
   ]
  },
  {
   "cell_type": "code",
   "execution_count": 6,
   "metadata": {
    "ExecuteTime": {
     "end_time": "2017-11-16T21:07:29.079769Z",
     "start_time": "2017-11-16T21:07:29.009904Z"
    }
   },
   "outputs": [
    {
     "data": {
      "text/plain": [
       "variable([[ 16.5,  16.5,  50. ,  50. ,   0. ,   0. ]])"
      ]
     },
     "execution_count": 6,
     "metadata": {},
     "output_type": "execute_result"
    }
   ],
   "source": [
    "def_boxes"
   ]
  },
  {
   "cell_type": "markdown",
   "metadata": {},
   "source": [
    "## center to coords\n"
   ]
  },
  {
   "cell_type": "code",
   "execution_count": 7,
   "metadata": {
    "ExecuteTime": {
     "end_time": "2017-11-16T21:07:29.174565Z",
     "start_time": "2017-11-16T21:07:29.081415Z"
    },
    "collapsed": true
   },
   "outputs": [],
   "source": [
    "def center_to_coords(box):\n",
    "    \"\"\" \n",
    "    Converts bounding box from (cx, cy, w, h) format to (x1, y1, x2, y2) format\n",
    "    \n",
    "    Args:\n",
    "        box: 6d numpy array\n",
    "        \n",
    "    Returns:\n",
    "        box_transformed: Box in the second format\n",
    "    \n",
    "    \"\"\"\n",
    "    box_transformed = np.array([box[0]-box[2]/2.0, box[1]-box[3]/2.0, box[0]+box[2]/2.0, box[1]+box[3]/2.0, box[4], box[5]])\n",
    "    return box_transformed\n",
    "\n"
   ]
  },
  {
   "cell_type": "code",
   "execution_count": 8,
   "metadata": {
    "ExecuteTime": {
     "end_time": "2017-11-16T21:07:29.375004Z",
     "start_time": "2017-11-16T21:07:29.176175Z"
    }
   },
   "outputs": [
    {
     "data": {
      "image/png": "[encoded data removed]",
      "text/plain": [
       "<matplotlib.figure.Figure at 0x7fa10fcc4e48>"
      ]
     },
     "metadata": {},
     "output_type": "display_data"
    }
   ],
   "source": [
    "def draw_boxes(image, boxes):\n",
    "    img = image\n",
    "    plt.figure()\n",
    "    ax = plt.axes()\n",
    "\n",
    "    for box in boxes:\n",
    "        box = center_to_coords(box.data)\n",
    "        ax.imshow(img[0,0,:,:])\n",
    "        p = patches.Rectangle((box[0], box[1]), box[2]-box[0], box[3]-box[1], fill=False, color = 'red')\n",
    "        ax.add_patch(p)\n",
    "\n",
    "    plt.show()\n",
    "draw_boxes(img, def_boxes)    "
   ]
  },
  {
   "cell_type": "markdown",
   "metadata": {},
   "source": [
    "## Get prediction boxes "
   ]
  },
  {
   "cell_type": "code",
   "execution_count": 9,
   "metadata": {
    "ExecuteTime": {
     "end_time": "2017-11-16T21:07:29.400580Z",
     "start_time": "2017-11-16T21:07:29.376432Z"
    },
    "collapsed": true
   },
   "outputs": [],
   "source": [
    "def get_pred_boxes(shift_vals, default_boxes ): \n",
    "    \"\"\"\n",
    "    Get predicted boxes by combining shift values to default boxes\n",
    "    Input: \n",
    "\n",
    "    shift_values : Shifts generated by the network  NDarray (None, Num of Default boxes, 4+num of classes)\n",
    "    Default boxes  : Default boxes generated by the network NDarray (None, Num of Default boxes, 4+num of classes)\n",
    "\n",
    "    Output: \n",
    "\n",
    "    Predicted boxes  : Predicted boxes, same shape as default boxes  NDarray (None, Num of Default boxes, 4+num of classes)\n",
    "\n",
    "    \"\"\"\n",
    "    \n",
    "    shift_val_shape= default_boxes.shape\n",
    "    shift_vals= F.swapaxes(shift_vals,1,3)\n",
    "    shift_vals= F.reshape(shift_vals,shift_val_shape)\n",
    "    \n",
    "    shifts = shift_vals \n",
    "    def_boxes= default_boxes\n",
    "    \n",
    "    \n",
    "    cx_pred = (shifts[:,0]*def_boxes[:,2])+def_boxes[:,0]\n",
    "    cy_pred = (shifts[:,1]*def_boxes[:,3])+def_boxes[:,1]\n",
    "    \n",
    "    H_pred = F.exp(shifts[:,3])*def_boxes[:,3]\n",
    "    W_pred = F.exp(shifts[:,2])*def_boxes[:,2]\n",
    "    \n",
    "    class1 = shifts[:,4]\n",
    "    class2 = shifts[:,5]\n",
    "    \n",
    "    \n",
    "    pred_boxes = F.vstack((cx_pred,cy_pred,W_pred,H_pred, class1, class2))\n",
    "    pred_boxes = F.transpose(pred_boxes)\n",
    "    \n",
    "    return  pred_boxes "
   ]
  },
  {
   "cell_type": "markdown",
   "metadata": {},
   "source": [
    "## Draw pred boxes"
   ]
  },
  {
   "cell_type": "code",
   "execution_count": 10,
   "metadata": {
    "ExecuteTime": {
     "end_time": "2017-11-16T21:07:29.498681Z",
     "start_time": "2017-11-16T21:07:29.402500Z"
    },
    "collapsed": true
   },
   "outputs": [],
   "source": [
    "def draw_pred_boxes(prediction_boxes, default_boxes, shifts): \n",
    "    \"\"\"Draw predicted boxes on the original image \"\"\"\n",
    "    \n",
    "    pred_boxes= prediction_boxes\n",
    "    def_boxes =default_boxes.data\n",
    "     \n",
    "    boxes = pred_boxes.data\n",
    "    \n",
    "    plt.figure()\n",
    "    ax = plt.axes()\n",
    "\n",
    "    for i in range(def_boxes.shape[0]):\n",
    "        box = def_boxes[i]\n",
    "        box2 =boxes[i]         \n",
    "        \n",
    "        box2cx = box2[0]\n",
    "        box2cy = box2[1]\n",
    "        \n",
    "        box = center_to_coords(box)\n",
    "        box2 = center_to_coords(box2)  \n",
    "        \n",
    "        ax.imshow(img[0,0,:,:])\n",
    "\n",
    "        boxes = patches.Rectangle((box[0], box[1]), box[2]-box[0], box[3]-box[1], fill=False, color = 'red')\n",
    "        boxes2 = patches.Rectangle((box2cx, box2cx), box2[2]-box2[0], box2[3]-box2[1], fill=False, color = 'green')\n",
    "\n",
    "        ax.add_patch(boxes)\n",
    "        ax.add_patch(boxes2)\n",
    "\n",
    "\n",
    "    plt.show()"
   ]
  },
  {
   "cell_type": "code",
   "execution_count": 11,
   "metadata": {
    "ExecuteTime": {
     "end_time": "2017-11-16T21:07:29.674631Z",
     "start_time": "2017-11-16T21:07:29.500496Z"
    }
   },
   "outputs": [
    {
     "data": {
      "image/png": "[encoded data removed]",
      "text/plain": [
       "<matplotlib.figure.Figure at 0x7fa10fc86438>"
      ]
     },
     "metadata": {},
     "output_type": "display_data"
    }
   ],
   "source": [
    "\n",
    "pred_boxes = get_pred_boxes(shifts, def_boxes)\n",
    "draw_pred_boxes(pred_boxes, def_boxes, shifts)\n"
   ]
  },
  {
   "cell_type": "markdown",
   "metadata": {},
   "source": [
    "## Calculate IOU score and find matches\n"
   ]
  },
  {
   "cell_type": "markdown",
   "metadata": {},
   "source": [
    "## Normalize shifts "
   ]
  },
  {
   "cell_type": "code",
   "execution_count": 12,
   "metadata": {
    "ExecuteTime": {
     "end_time": "2017-11-16T21:07:29.684193Z",
     "start_time": "2017-11-16T21:07:29.676565Z"
    },
    "collapsed": true
   },
   "outputs": [],
   "source": [
    "\n",
    "def normalize_shift(box, def_box):\n",
    "    \"\"\"\n",
    "    Scales down absolute shifts, % for centers, log for height and width.\n",
    "    \n",
    "    Args:\n",
    "        box: 6x1 bounding box coordinates\n",
    "        def_box: 6x1 reference box coordinates\n",
    "        \n",
    "    Returns:\n",
    "        normalized_shift_vector: 4x1 normalized shift vector. Note that we discard the last 2 channels.\n",
    "    \"\"\"\n",
    "    tx = (box[0] - def_box[0])/def_box[2]\n",
    "    ty = (box[1] - def_box[1])/def_box[3]\n",
    "    tw = log(box[2]/def_box[2])\n",
    "    th = log(box[3]/def_box[3])\n",
    "    \n",
    "    return hstack([tx, ty, tw, th])\n",
    "    "
   ]
  },
  {
   "cell_type": "markdown",
   "metadata": {},
   "source": [
    "## Regression Loss "
   ]
  },
  {
   "cell_type": "code",
   "execution_count": 13,
   "metadata": {
    "ExecuteTime": {
     "end_time": "2017-11-16T21:07:29.799509Z",
     "start_time": "2017-11-16T21:07:29.686365Z"
    },
    "collapsed": true
   },
   "outputs": [],
   "source": [
    "\n",
    "\n",
    "\n",
    "\n",
    "\n",
    "def regression_loss(pred_box, gt_box, def_box):\n",
    "    \"\"\"\n",
    "    Calculates regression loss between two boxes w.r.t a reference default box.\n",
    "    \n",
    "    Args:\n",
    "        pred_box: 6x1 bounding box predicted by the network\n",
    "        gt_box: 6x1 bounding box overlapping with pred_box\n",
    "        def_box: 6x1 bounding box with same index as pred_box\n",
    "        \n",
    "    Returns:\n",
    "        reg_loss: Scalar of huber loss between two vectors\n",
    "    \"\"\"\n",
    " \n",
    "    pred_shift = normalize_shift(pred_box[0], def_box[0]).reshape((1, 4))\n",
    "    gt_shift = normalize_shift(gt_box[0], def_box[0]).reshape((1, 4))\n",
    "    xdiff = gt_shift- pred_shift \n",
    "    \n",
    "    ydiff =F.absolute(xdiff) \n",
    "    ydiff= F.sum(ydiff)\n",
    "    \n",
    "    \n",
    "    return ydiff.reshape(1)\n",
    "    "
   ]
  },
  {
   "cell_type": "code",
   "execution_count": 14,
   "metadata": {
    "ExecuteTime": {
     "end_time": "2017-11-16T21:07:29.902898Z",
     "start_time": "2017-11-16T21:07:29.801185Z"
    },
    "run_control": {
     "marked": false
    }
   },
   "outputs": [
    {
     "data": {
      "text/plain": [
       "variable([ 4.31780338])"
      ]
     },
     "execution_count": 14,
     "metadata": {},
     "output_type": "execute_result"
    }
   ],
   "source": [
    "loss_check = regression_loss(pred_boxes,gt, def_boxes)\n",
    "loss_check\n"
   ]
  },
  {
   "cell_type": "markdown",
   "metadata": {},
   "source": [
    "## Compute regression loss"
   ]
  },
  {
   "cell_type": "code",
   "execution_count": 15,
   "metadata": {
    "ExecuteTime": {
     "end_time": "2017-11-16T21:07:29.963951Z",
     "start_time": "2017-11-16T21:07:29.904459Z"
    },
    "collapsed": true
   },
   "outputs": [],
   "source": [
    "def compute_loss(gt_boxes, pred_boxes, def_boxes):\n",
    "    \n",
    "    loss_class = chainer.Variable(np.array([0.], dtype=np.float32))\n",
    "    loss_reg = chainer.Variable(np.array([0.], dtype=np.float32))\n",
    "    \n",
    "    gt_box, pred_box, def_box = gt_boxes, pred_boxes, def_boxes    \n",
    "    loss_reg += regression_loss(pred_box, gt_box, def_box)\n",
    "    \n",
    "    return loss_reg"
   ]
  },
  {
   "cell_type": "code",
   "execution_count": 16,
   "metadata": {
    "ExecuteTime": {
     "end_time": "2017-11-16T21:07:30.070730Z",
     "start_time": "2017-11-16T21:07:29.965830Z"
    }
   },
   "outputs": [
    {
     "data": {
      "text/plain": [
       "variable([ 4.31780338])"
      ]
     },
     "execution_count": 16,
     "metadata": {},
     "output_type": "execute_result"
    }
   ],
   "source": [
    "loss_value = compute_loss(gt, pred_boxes, def_boxes )\n",
    "loss_value"
   ]
  },
  {
   "cell_type": "markdown",
   "metadata": {},
   "source": [
    "## Everything connected "
   ]
  },
  {
   "cell_type": "code",
   "execution_count": 17,
   "metadata": {
    "ExecuteTime": {
     "end_time": "2017-11-16T21:08:24.391067Z",
     "start_time": "2017-11-16T21:07:30.072262Z"
    },
    "scrolled": false
   },
   "outputs": [
    {
     "name": "stderr",
     "output_type": "stream",
     "text": [
      "\r",
      "  0%|          | 0/700 [00:00<?, ?it/s]"
     ]
    },
    {
     "data": {
      "image/png": "[encoded data removed]",
      "text/plain": [
       "<matplotlib.figure.Figure at 0x7fa10fc73160>"
      ]
     },
     "metadata": {},
     "output_type": "display_data"
    },
    {
     "name": "stderr",
     "output_type": "stream",
     "text": [
      "  0%|          | 3/700 [00:00<01:49,  6.34it/s]"
     ]
    },
    {
     "name": "stdout",
     "output_type": "stream",
     "text": [
      "pred box loc:   variable(-41.45446014404297) variable(20.04299545288086)\n",
      "gt variable([[ 42.  49.  20.  20.   1.   0.]])\n"
     ]
    },
    {
     "name": "stderr",
     "output_type": "stream",
     "text": [
      "  7%|▋         | 49/700 [00:03<00:47, 13.60it/s]"
     ]
    },
    {
     "data": {
      "image/png": "[encoded data removed]",
      "text/plain": [
       "<matplotlib.figure.Figure at 0x7fa10fd3de48>"
      ]
     },
     "metadata": {},
     "output_type": "display_data"
    },
    {
     "name": "stderr",
     "output_type": "stream",
     "text": [
      "  8%|▊         | 53/700 [00:04<00:54, 11.96it/s]"
     ]
    },
    {
     "name": "stdout",
     "output_type": "stream",
     "text": [
      "pred box loc:   variable(33.349853515625) variable(33.8472900390625)\n",
      "gt variable([[ 14.  36.  20.  20.   1.   0.]])\n"
     ]
    },
    {
     "name": "stderr",
     "output_type": "stream",
     "text": [
      " 14%|█▍        | 99/700 [00:07<00:42, 14.05it/s]"
     ]
    },
    {
     "data": {
      "image/png": "[encoded data removed]",
      "text/plain": [
       "<matplotlib.figure.Figure at 0x7fa10fd53ac8>"
      ]
     },
     "metadata": {},
     "output_type": "display_data"
    },
    {
     "name": "stderr",
     "output_type": "stream",
     "text": [
      " 15%|█▍        | 103/700 [00:07<00:48, 12.32it/s]"
     ]
    },
    {
     "name": "stdout",
     "output_type": "stream",
     "text": [
      "pred box loc:   variable(44.007877349853516) variable(26.675174713134766)\n",
      "gt variable([[ 52.  33.  20.  20.   1.   0.]])\n"
     ]
    },
    {
     "name": "stderr",
     "output_type": "stream",
     "text": [
      " 21%|██▏       | 149/700 [00:11<00:43, 12.66it/s]"
     ]
    },
    {
     "data": {
      "image/png": "[encoded data removed]",
      "text/plain": [
       "<matplotlib.figure.Figure at 0x7fa10faec358>"
      ]
     },
     "metadata": {},
     "output_type": "display_data"
    },
    {
     "name": "stderr",
     "output_type": "stream",
     "text": [
      "\r",
      " 22%|██▏       | 151/700 [00:11<00:53, 10.28it/s]"
     ]
    },
    {
     "name": "stdout",
     "output_type": "stream",
     "text": [
      "pred box loc:   variable(40.26464080810547) variable(33.6300048828125)\n",
      "gt variable([[ 17.  35.  20.  20.   1.   0.]])\n"
     ]
    },
    {
     "name": "stderr",
     "output_type": "stream",
     "text": [
      " 28%|██▊       | 199/700 [00:15<00:35, 13.99it/s]"
     ]
    },
    {
     "data": {
      "image/png": "[encoded data removed]",
      "text/plain": [
       "<matplotlib.figure.Figure at 0x7fa10fb03dd8>"
      ]
     },
     "metadata": {},
     "output_type": "display_data"
    },
    {
     "name": "stderr",
     "output_type": "stream",
     "text": [
      "\r",
      " 29%|██▊       | 201/700 [00:15<00:46, 10.75it/s]"
     ]
    },
    {
     "name": "stdout",
     "output_type": "stream",
     "text": [
      "pred box loc:   variable(36.60808563232422) variable(33.53950119018555)\n",
      "gt variable([[ 49.  40.  20.  20.   1.   0.]])\n"
     ]
    },
    {
     "name": "stderr",
     "output_type": "stream",
     "text": [
      " 36%|███▌      | 249/700 [00:19<00:32, 13.82it/s]"
     ]
    },
    {
     "data": {
      "image/png": "[encoded data removed]",
      "text/plain": [
       "<matplotlib.figure.Figure at 0x7fa1648900b8>"
      ]
     },
     "metadata": {},
     "output_type": "display_data"
    },
    {
     "name": "stderr",
     "output_type": "stream",
     "text": [
      " 36%|███▌      | 253/700 [00:19<00:37, 12.00it/s]"
     ]
    },
    {
     "name": "stdout",
     "output_type": "stream",
     "text": [
      "pred box loc:   variable(29.01012420654297) variable(33.07357406616211)\n",
      "gt variable([[ 53.  56.  20.  20.   1.   0.]])\n"
     ]
    },
    {
     "name": "stderr",
     "output_type": "stream",
     "text": [
      " 43%|████▎     | 299/700 [00:22<00:28, 13.96it/s]"
     ]
    },
    {
     "data": {
      "image/png": "[encoded data removed]",
      "text/plain": [
       "<matplotlib.figure.Figure at 0x7fa10fa60ba8>"
      ]
     },
     "metadata": {},
     "output_type": "display_data"
    },
    {
     "name": "stderr",
     "output_type": "stream",
     "text": [
      " 43%|████▎     | 303/700 [00:23<00:32, 12.36it/s]"
     ]
    },
    {
     "name": "stdout",
     "output_type": "stream",
     "text": [
      "pred box loc:   variable(39.41532897949219) variable(29.214683532714844)\n",
      "gt variable([[ 36.  45.  20.  20.   1.   0.]])\n"
     ]
    },
    {
     "name": "stderr",
     "output_type": "stream",
     "text": [
      " 50%|████▉     | 349/700 [00:26<00:28, 12.18it/s]"
     ]
    },
    {
     "data": {
      "image/png": "[encoded data removed]",
      "text/plain": [
       "<matplotlib.figure.Figure at 0x7fa10faa25f8>"
      ]
     },
     "metadata": {},
     "output_type": "display_data"
    },
    {
     "name": "stderr",
     "output_type": "stream",
     "text": [
      " 50%|█████     | 353/700 [00:27<00:32, 10.53it/s]"
     ]
    },
    {
     "name": "stdout",
     "output_type": "stream",
     "text": [
      "pred box loc:   variable(35.630516052246094) variable(39.694000244140625)\n",
      "gt variable([[ 18.  36.  20.  20.   1.   0.]])\n"
     ]
    },
    {
     "name": "stderr",
     "output_type": "stream",
     "text": [
      " 57%|█████▋    | 399/700 [00:30<00:21, 14.26it/s]"
     ]
    },
    {
     "data": {
      "image/png": "[encoded data removed]",
      "text/plain": [
       "<matplotlib.figure.Figure at 0x7fa10fae9c50>"
      ]
     },
     "metadata": {},
     "output_type": "display_data"
    },
    {
     "name": "stderr",
     "output_type": "stream",
     "text": [
      "\r",
      " 57%|█████▋    | 401/700 [00:30<00:27, 11.00it/s]"
     ]
    },
    {
     "name": "stdout",
     "output_type": "stream",
     "text": [
      "pred box loc:   variable(35.437381744384766) variable(35.9348258972168)\n",
      "gt variable([[ 45.  42.  20.  20.   1.   0.]])\n"
     ]
    },
    {
     "name": "stderr",
     "output_type": "stream",
     "text": [
      " 64%|██████▍   | 449/700 [00:34<00:17, 14.01it/s]"
     ]
    },
    {
     "data": {
      "image/png": "[encoded data removed]",
      "text/plain": [
       "<matplotlib.figure.Figure at 0x7fa10fc48780>"
      ]
     },
     "metadata": {},
     "output_type": "display_data"
    },
    {
     "name": "stderr",
     "output_type": "stream",
     "text": [
      "\r",
      " 64%|██████▍   | 451/700 [00:34<00:23, 10.60it/s]"
     ]
    },
    {
     "name": "stdout",
     "output_type": "stream",
     "text": [
      "pred box loc:   variable(31.462627410888672) variable(31.960050582885742)\n",
      "gt variable([[ 53.  11.  20.  20.   1.   0.]])\n"
     ]
    },
    {
     "name": "stderr",
     "output_type": "stream",
     "text": [
      " 71%|███████▏  | 499/700 [00:38<00:14, 14.18it/s]"
     ]
    },
    {
     "data": {
      "image/png": "[encoded data removed]",
      "text/plain": [
       "<matplotlib.figure.Figure at 0x7fa10fb36c50>"
      ]
     },
     "metadata": {},
     "output_type": "display_data"
    },
    {
     "name": "stderr",
     "output_type": "stream",
     "text": [
      " 72%|███████▏  | 503/700 [00:38<00:16, 11.78it/s]"
     ]
    },
    {
     "name": "stdout",
     "output_type": "stream",
     "text": [
      "pred box loc:   variable(34.33955383300781) variable(31.27096176147461)\n",
      "gt variable([[ 22.  52.  20.  20.   1.   0.]])\n"
     ]
    },
    {
     "name": "stderr",
     "output_type": "stream",
     "text": [
      " 78%|███████▊  | 549/700 [00:42<00:10, 14.16it/s]"
     ]
    },
    {
     "data": {
      "image/png": "[encoded data removed]",
      "text/plain": [
       "<matplotlib.figure.Figure at 0x7fa10fc44978>"
      ]
     },
     "metadata": {},
     "output_type": "display_data"
    },
    {
     "name": "stderr",
     "output_type": "stream",
     "text": [
      " 79%|███████▉  | 553/700 [00:42<00:12, 12.15it/s]"
     ]
    },
    {
     "name": "stdout",
     "output_type": "stream",
     "text": [
      "pred box loc:   variable(30.395320892333984) variable(38.024818420410156)\n",
      "gt variable([[ 19.  58.  20.  20.   1.   0.]])\n"
     ]
    },
    {
     "name": "stderr",
     "output_type": "stream",
     "text": [
      " 86%|████████▌ | 599/700 [00:45<00:07, 14.16it/s]"
     ]
    },
    {
     "data": {
      "image/png": "[encoded data removed]",
      "text/plain": [
       "<matplotlib.figure.Figure at 0x7fa10fcf74e0>"
      ]
     },
     "metadata": {},
     "output_type": "display_data"
    },
    {
     "name": "stderr",
     "output_type": "stream",
     "text": [
      " 86%|████████▌ | 603/700 [00:46<00:07, 12.23it/s]"
     ]
    },
    {
     "name": "stdout",
     "output_type": "stream",
     "text": [
      "pred box loc:   variable(40.59368896484375) variable(37.52509307861328)\n",
      "gt variable([[ 52.  32.  20.  20.   1.   0.]])\n"
     ]
    },
    {
     "name": "stderr",
     "output_type": "stream",
     "text": [
      " 93%|█████████▎| 649/700 [00:49<00:03, 13.34it/s]"
     ]
    },
    {
     "data": {
      "image/png": "[encoded data removed]",
      "text/plain": [
       "<matplotlib.figure.Figure at 0x7fa10fd4c2e8>"
      ]
     },
     "metadata": {},
     "output_type": "display_data"
    },
    {
     "name": "stderr",
     "output_type": "stream",
     "text": [
      " 93%|█████████▎| 653/700 [00:50<00:03, 11.80it/s]"
     ]
    },
    {
     "name": "stdout",
     "output_type": "stream",
     "text": [
      "pred box loc:   variable(39.97395324707031) variable(36.90534973144531)\n",
      "gt variable([[ 21.  41.  20.  20.   1.   0.]])\n"
     ]
    },
    {
     "name": "stderr",
     "output_type": "stream",
     "text": [
      "100%|██████████| 700/700 [00:54<00:00, 12.96it/s]\n"
     ]
    },
    {
     "data": {
      "image/png": "[encoded data removed]",
      "text/plain": [
       "<matplotlib.figure.Figure at 0x7fa10f9e6438>"
      ]
     },
     "metadata": {},
     "output_type": "display_data"
    }
   ],
   "source": [
    "from chainer.optimizers import SGD,Adam,MomentumSGD\n",
    "from tqdm import tqdm\n",
    "\n",
    "\n",
    "boxnet = BoxNet(ConvNet())\n",
    "#boxnet(img)\n",
    "\n",
    "# optimizer =SGD(lr= 0.00004)\n",
    "# optimizer = Adam(alpha=0.001)\n",
    "\n",
    "optimizer =SGD(lr= 0.0004)\n",
    "optimizer.setup(boxnet)\n",
    "loss_history = []\n",
    "\n",
    "for i in tqdm(range(700)):\n",
    " \n",
    "    gt, img = get_single_image()\n",
    "    \n",
    "\n",
    "    # Initializing the network and computing the features and shifts\n",
    "    #fm = convnet(img)\n",
    "    shifts = boxnet(img)\n",
    "    shifts= shifts[:,:,8,8]\n",
    "    shifts =F.reshape(shifts,[1,6,1,1])\n",
    "    \n",
    "    \n",
    "    #shifts.shape\n",
    "\n",
    "    # Getting default_boxes and predictions\n",
    "    # Forward pass ends here\n",
    "    \n",
    "    def_boxes = defaultgen(img, fm, 120,120)\n",
    "    \n",
    "    pred_boxes = get_pred_boxes(shifts, def_boxes)\n",
    "#     print(pred_boxes)\n",
    "\n",
    "    # Computing the loss\n",
    "    boxnet.zerograds()\n",
    "    loss = compute_loss(gt, pred_boxes, def_boxes)\n",
    "    \n",
    "    if i % 50 == 0:\n",
    "        draw_pred_boxes(pred_boxes, def_boxes,shifts)\n",
    "        print('pred box loc:  ' , pred_boxes[0][0],pred_boxes[0][1] )\n",
    "        print('gt', gt)\n",
    "    \n",
    "    loss_history.append(loss.data[0])\n",
    "    loss.backward()\n",
    "    \n",
    "    optimizer.update()\n",
    "\n",
    "import matplotlib.pyplot as plt\n",
    "plt.figure(figsize=(30,10))\n",
    "plt.plot(range(len(loss_history)), loss_history)\n",
    "plt.ylim([0,10])\n",
    "plt.show()"
   ]
  },
  {
   "cell_type": "code",
   "execution_count": 18,
   "metadata": {
    "ExecuteTime": {
     "end_time": "2017-11-16T21:08:24.405390Z",
     "start_time": "2017-11-16T21:08:24.392447Z"
    }
   },
   "outputs": [
    {
     "data": {
      "text/plain": [
       "[3.949259,\n",
       " 3.823158,\n",
       " 3.8887246,\n",
       " 3.7876244,\n",
       " 3.6031899,\n",
       " 3.6430578,\n",
       " 3.4473729,\n",
       " 3.3462725,\n",
       " 3.5035052,\n",
       " 3.1690712,\n",
       " 3.0814226,\n",
       " 3.3303223,\n",
       " 3.3502033,\n",
       " 3.3161716,\n",
       " 3.165071,\n",
       " 3.0896692,\n",
       " 3.2425866,\n",
       " 2.8438871,\n",
       " 2.9872594,\n",
       " 2.8278248,\n",
       " 2.9972005,\n",
       " 2.7886744,\n",
       " 2.8163829,\n",
       " 2.6152821,\n",
       " 2.7948062,\n",
       " 2.8603728,\n",
       " 2.5380816,\n",
       " 2.187577,\n",
       " 2.2133417,\n",
       " 2.508852,\n",
       " 2.1408582,\n",
       " 2.3530345,\n",
       " 2.3600404,\n",
       " 2.2172732,\n",
       " 2.2175004,\n",
       " 2.1913993,\n",
       " 2.1067386,\n",
       " 2.2605827,\n",
       " 2.026149,\n",
       " 1.7980845,\n",
       " 1.8471648,\n",
       " 1.8500481,\n",
       " 2.1192446,\n",
       " 2.1775641,\n",
       " 1.9347968,\n",
       " 1.9586962,\n",
       " 1.921718,\n",
       " 1.7789499,\n",
       " 1.9064951,\n",
       " 1.9492768,\n",
       " 1.6981761,\n",
       " 1.7231328,\n",
       " 1.8720318,\n",
       " 1.6054085,\n",
       " 1.6734776,\n",
       " 1.4473767,\n",
       " 1.6115398,\n",
       " 1.4248927,\n",
       " 1.4154592,\n",
       " 1.4476918,\n",
       " 1.2962885,\n",
       " 1.3752081,\n",
       " 1.4923292,\n",
       " 1.4629135,\n",
       " 1.3027234,\n",
       " 1.3448451,\n",
       " 1.2604117,\n",
       " 1.0882711,\n",
       " 1.3559961,\n",
       " 1.1798944,\n",
       " 1.1704626,\n",
       " 1.0038383,\n",
       " 0.97739255,\n",
       " 0.93131083,\n",
       " 0.98854285,\n",
       " 1.0668597,\n",
       " 0.96860522,\n",
       " 0.77191961,\n",
       " 0.77112132,\n",
       " 1.0494362,\n",
       " 0.82299197,\n",
       " 0.7519089,\n",
       " 0.80225331,\n",
       " 0.94655156,\n",
       " 0.81684989,\n",
       " 0.64643633,\n",
       " 0.63502216,\n",
       " 0.62033522,\n",
       " 0.64322352,\n",
       " 0.6682654,\n",
       " 0.5328207,\n",
       " 0.46505496,\n",
       " 0.41602299,\n",
       " 0.59433085,\n",
       " 0.41130626,\n",
       " 0.33013713,\n",
       " 0.38785395,\n",
       " 0.46237063,\n",
       " 0.31272197,\n",
       " 0.37321889,\n",
       " 0.2706517,\n",
       " 0.3026641,\n",
       " 0.21523827,\n",
       " 0.3555848,\n",
       " 0.57801598,\n",
       " 0.37184697,\n",
       " 0.25955203,\n",
       " 0.17074749,\n",
       " 0.14816767,\n",
       " 0.30866539,\n",
       " 0.29028061,\n",
       " 0.13168322,\n",
       " 0.13058284,\n",
       " 0.21959408,\n",
       " 0.18864414,\n",
       " 0.25504878,\n",
       " 0.28392708,\n",
       " 0.26126069,\n",
       " 0.28150743,\n",
       " 0.2253319,\n",
       " 0.4292101,\n",
       " 0.22431099,\n",
       " 0.051790476,\n",
       " 0.23855813,\n",
       " 0.20196648,\n",
       " 0.33264428,\n",
       " 0.18771939,\n",
       " 0.22079095,\n",
       " 0.3231743,\n",
       " 0.38718522,\n",
       " 0.34345722,\n",
       " 0.087281659,\n",
       " 0.22559366,\n",
       " 0.12550789,\n",
       " 0.13048656,\n",
       " 0.21580169,\n",
       " 0.18874022,\n",
       " 0.25884122,\n",
       " 0.28891629,\n",
       " 0.17902793,\n",
       " 0.87550378,\n",
       " 0.15460815,\n",
       " 0.22194146,\n",
       " 0.15743536,\n",
       " 0.13030896,\n",
       " 0.3505435,\n",
       " 0.12228218,\n",
       " 0.12444296,\n",
       " 0.20059213,\n",
       " 0.244726,\n",
       " 0.21254192,\n",
       " 0.11355937,\n",
       " 0.248042,\n",
       " 0.21139266,\n",
       " 0.12087525,\n",
       " 0.31470251,\n",
       " 0.18644124,\n",
       " 0.2979933,\n",
       " 0.20813137,\n",
       " 0.28494307,\n",
       " 0.031681597,\n",
       " 0.09441945,\n",
       " 0.22775894,\n",
       " 0.31470251,\n",
       " 0.31139868,\n",
       " 0.28167576,\n",
       " 0.17775893,\n",
       " 0.19000907,\n",
       " 0.12449165,\n",
       " 0.28498548,\n",
       " 0.11174777,\n",
       " 0.18026873,\n",
       " 0.33749911,\n",
       " 0.072686583,\n",
       " 0.14944893,\n",
       " 0.22665215,\n",
       " 0.41611558,\n",
       " 0.30165216,\n",
       " 0.53011692,\n",
       " 0.32990381,\n",
       " 0.23713601,\n",
       " 0.18782146,\n",
       " 0.13970876,\n",
       " 0.5092684,\n",
       " 0.3557173,\n",
       " 0.11746798,\n",
       " 0.2665239,\n",
       " 0.23457688,\n",
       " 0.34196615,\n",
       " 0.12580131,\n",
       " 0.13363284,\n",
       " 0.17152661,\n",
       " 0.23724915,\n",
       " 0.16139191,\n",
       " 0.16295005,\n",
       " 0.17981741,\n",
       " 0.10461673,\n",
       " 0.18523514,\n",
       " 0.28429115,\n",
       " 0.19176716,\n",
       " 0.16586557,\n",
       " 0.28819335,\n",
       " 0.33795005,\n",
       " 0.4132742,\n",
       " 0.1933248,\n",
       " 0.23687834,\n",
       " 0.22255549,\n",
       " 0.16703907,\n",
       " 0.29239482,\n",
       " 0.15777549,\n",
       " 0.46841311,\n",
       " 0.25577575,\n",
       " 0.09694168,\n",
       " 0.075041533,\n",
       " 0.4271175,\n",
       " 0.22398371,\n",
       " 0.34428546,\n",
       " 0.14426669,\n",
       " 0.24634252,\n",
       " 0.057775646,\n",
       " 0.19162548,\n",
       " 0.4743284,\n",
       " 0.18471207,\n",
       " 0.19280849,\n",
       " 0.57068682,\n",
       " 0.16388929,\n",
       " 0.22495815,\n",
       " 0.2579121,\n",
       " 0.15357453,\n",
       " 0.13373254,\n",
       " 0.24236803,\n",
       " 0.32252592,\n",
       " 0.32665369,\n",
       " 0.21780895,\n",
       " 0.3198837,\n",
       " 0.16670841,\n",
       " 0.11772543,\n",
       " 0.1812167,\n",
       " 0.46988371,\n",
       " 0.2667084,\n",
       " 0.17605874,\n",
       " 0.089550048,\n",
       " 0.32193667,\n",
       " 0.36309204,\n",
       " 0.34850013,\n",
       " 0.17916384,\n",
       " 0.11360338,\n",
       " 0.23749718,\n",
       " 0.12290519,\n",
       " 0.74110508,\n",
       " 0.43277735,\n",
       " 0.21687576,\n",
       " 0.33761883,\n",
       " 0.30743915,\n",
       " 0.25019687,\n",
       " 0.31331223,\n",
       " 0.42162302,\n",
       " 0.17526199,\n",
       " 0.35023946,\n",
       " 0.2258606,\n",
       " 0.19959806,\n",
       " 0.24316856,\n",
       " 0.19250476,\n",
       " 0.34618646,\n",
       " 0.32158038,\n",
       " 0.39618647,\n",
       " 0.14598173,\n",
       " 0.37586057,\n",
       " 0.084171437,\n",
       " 0.19614369,\n",
       " 0.22162299,\n",
       " 0.39192864,\n",
       " 0.28357279,\n",
       " 0.38419393,\n",
       " 0.35023946,\n",
       " 0.43039757,\n",
       " 0.21470802,\n",
       " 0.17455299,\n",
       " 0.32416818,\n",
       " 0.085265845,\n",
       " 0.28847444,\n",
       " 0.28758359,\n",
       " 0.23018378,\n",
       " 0.36966091,\n",
       " 0.41111791,\n",
       " 0.029250309,\n",
       " 0.31473446,\n",
       " 0.203033,\n",
       " 0.21473448,\n",
       " 0.59231365,\n",
       " 0.17297065,\n",
       " 0.24407944,\n",
       " 0.13257578,\n",
       " 0.29355976,\n",
       " 0.18147525,\n",
       " 0.20075418,\n",
       " 0.2267583,\n",
       " 0.28271484,\n",
       " 0.17672005,\n",
       " 0.099343151,\n",
       " 0.17534713,\n",
       " 0.21966456,\n",
       " 0.42000169,\n",
       " 0.095864803,\n",
       " 0.17809694,\n",
       " 0.12799288,\n",
       " 0.3481077,\n",
       " 0.48133689,\n",
       " 0.20754088,\n",
       " 0.19104305,\n",
       " 0.16839071,\n",
       " 0.1935595,\n",
       " 0.12200698,\n",
       " 0.38884258,\n",
       " 0.14559102,\n",
       " 0.25523654,\n",
       " 0.070906721,\n",
       " 0.25519389,\n",
       " 0.2842297,\n",
       " 0.3341257,\n",
       " 0.3581292,\n",
       " 0.42190814,\n",
       " 0.3879357,\n",
       " 0.27673578,\n",
       " 0.25392479,\n",
       " 0.1296557,\n",
       " 0.19640172,\n",
       " 0.38384575,\n",
       " 0.22782493,\n",
       " 0.19076696,\n",
       " 0.44266129,\n",
       " 0.15010664,\n",
       " 0.36873603,\n",
       " 0.22771665,\n",
       " 0.27235237,\n",
       " 0.21466643,\n",
       " 0.049894035,\n",
       " 0.33708215,\n",
       " 0.13281837,\n",
       " 0.21569848,\n",
       " 0.40822738,\n",
       " 0.3109816,\n",
       " 0.16511956,\n",
       " 0.13598162,\n",
       " 0.27851045,\n",
       " 0.24759069,\n",
       " 0.3401196,\n",
       " 0.078791395,\n",
       " 0.28068569,\n",
       " 0.12189914,\n",
       " 0.1958687,\n",
       " 0.24435753,\n",
       " 0.20458505,\n",
       " 0.78699231,\n",
       " 0.31496239,\n",
       " 0.16679725,\n",
       " 0.30202621,\n",
       " 0.1292924,\n",
       " 0.33068523,\n",
       " 0.078746885,\n",
       " 0.22180629,\n",
       " 0.090739302,\n",
       " 0.31763494,\n",
       " 0.37513059,\n",
       " 0.16763493,\n",
       " 0.25214341,\n",
       " 0.13791811,\n",
       " 0.21734276,\n",
       " 0.25257176,\n",
       " 0.18492171,\n",
       " 0.34951031,\n",
       " 0.10790888,\n",
       " 0.42812681,\n",
       " 0.16985852,\n",
       " 0.26291797,\n",
       " 0.24129421,\n",
       " 0.20152324,\n",
       " 0.22984746,\n",
       " 0.13847291,\n",
       " 0.29091448,\n",
       " 0.31997252,\n",
       " 0.47513139,\n",
       " 0.13536027,\n",
       " 0.24638379,\n",
       " 0.30564329,\n",
       " 0.32500017,\n",
       " 0.30925971,\n",
       " 0.28615445,\n",
       " 0.24011981,\n",
       " 0.15000017,\n",
       " 0.13443357,\n",
       " 0.26477093,\n",
       " 0.24425077,\n",
       " 0.21943165,\n",
       " 0.3210929,\n",
       " 0.20133522,\n",
       " 0.16966319,\n",
       " 0.44667539,\n",
       " 0.24833654,\n",
       " 0.33724138,\n",
       " 0.14827967,\n",
       " 0.13252451,\n",
       " 0.21024363,\n",
       " 0.27318302,\n",
       " 0.10561195,\n",
       " 0.19434699,\n",
       " 0.27342179,\n",
       " 0.216901,\n",
       " 0.052065536,\n",
       " 0.71282065,\n",
       " 0.17502314,\n",
       " 0.09787789,\n",
       " 0.25322294,\n",
       " 0.12529114,\n",
       " 0.21045549,\n",
       " 0.215645,\n",
       " 0.10561109,\n",
       " 0.14434637,\n",
       " 0.27712235,\n",
       " 0.22520626,\n",
       " 0.19256088,\n",
       " 0.19085723,\n",
       " 0.09617728,\n",
       " 0.086140275,\n",
       " 0.16646038,\n",
       " 0.10964011,\n",
       " 0.039960116,\n",
       " 0.34908962,\n",
       " 0.41375822,\n",
       " 0.18857223,\n",
       " 0.13977316,\n",
       " 0.16966201,\n",
       " 0.23524334,\n",
       " 0.18252501,\n",
       " 0.7859354,\n",
       " 0.34907022,\n",
       " 0.30095586,\n",
       " 0.28632867,\n",
       " 0.35457224,\n",
       " 0.26893812,\n",
       " 0.29513842,\n",
       " 0.3059628,\n",
       " 0.29810593,\n",
       " 0.24755453,\n",
       " 0.34521329,\n",
       " 0.11791253,\n",
       " 0.29338896,\n",
       " 0.26608807,\n",
       " 0.37667969,\n",
       " 0.37196693,\n",
       " 0.3826516,\n",
       " 0.30004323,\n",
       " 0.17605847,\n",
       " 0.23337656,\n",
       " 0.17624676,\n",
       " 0.032276094,\n",
       " 0.18347965,\n",
       " 0.14784209,\n",
       " 0.89888668,\n",
       " 0.39834818,\n",
       " 0.097005054,\n",
       " 0.025448978,\n",
       " 0.058984488,\n",
       " 0.35303694,\n",
       " 0.064699948,\n",
       " 0.020731941,\n",
       " 0.18870147,\n",
       " 0.70010865,\n",
       " 0.32195097,\n",
       " 0.33637163,\n",
       " 0.14196245,\n",
       " 0.27580658,\n",
       " 0.29367372,\n",
       " 0.20742862,\n",
       " 0.11867373,\n",
       " 0.1490953,\n",
       " 0.29367372,\n",
       " 0.35048005,\n",
       " 0.32668018,\n",
       " 0.67416191,\n",
       " 0.32330304,\n",
       " 0.21966091,\n",
       " 0.35644037,\n",
       " 0.28126267,\n",
       " 0.14913161,\n",
       " 0.27696985,\n",
       " 0.80314088,\n",
       " 0.28091758,\n",
       " 0.18862996,\n",
       " 0.12301394,\n",
       " 0.45861501,\n",
       " 0.20544857,\n",
       " 0.23280413,\n",
       " 0.28406495,\n",
       " 0.3364206,\n",
       " 0.20634814,\n",
       " 0.30870366,\n",
       " 0.17568898,\n",
       " 0.06326253,\n",
       " 0.4295063,\n",
       " 0.29207981,\n",
       " 0.2081227,\n",
       " 0.56552196,\n",
       " 0.22848058,\n",
       " 0.29707652,\n",
       " 0.30544704,\n",
       " 0.13232133,\n",
       " 0.19377823,\n",
       " 0.26946265,\n",
       " 0.19275215,\n",
       " 0.18522562,\n",
       " 0.27242628,\n",
       " 0.2286295,\n",
       " 0.24087292,\n",
       " 0.24707608,\n",
       " 0.30354124,\n",
       " 0.24889322,\n",
       " 0.31885245,\n",
       " 0.26013988,\n",
       " 0.26648724,\n",
       " 0.12220506,\n",
       " 0.17372009,\n",
       " 0.42481321,\n",
       " 0.091943815,\n",
       " 0.37009615,\n",
       " 0.30600241,\n",
       " 0.6151818,\n",
       " 0.29390699,\n",
       " 0.13672201,\n",
       " 0.21816912,\n",
       " 0.14886177,\n",
       " 0.39390707,\n",
       " 0.26626658,\n",
       " 0.38105935,\n",
       " 0.14488301,\n",
       " 0.32629973,\n",
       " 0.14996229,\n",
       " 0.17650244,\n",
       " 0.39032599,\n",
       " 0.2725234,\n",
       " 0.27951929,\n",
       " 0.20983577,\n",
       " 0.22459991,\n",
       " 0.18824956,\n",
       " 0.35451931,\n",
       " 0.18105936,\n",
       " 0.33706152,\n",
       " 0.052188113,\n",
       " 0.21451843,\n",
       " 0.11588258,\n",
       " 0.27646828,\n",
       " 0.19316809,\n",
       " 0.68622077,\n",
       " 0.20032933,\n",
       " 0.14238727,\n",
       " 0.38420552,\n",
       " 0.021003678,\n",
       " 0.30448866,\n",
       " 0.30494463,\n",
       " 0.22115533,\n",
       " 0.099620119,\n",
       " 0.25533891,\n",
       " 0.16242769,\n",
       " 0.2914384,\n",
       " 0.26604405,\n",
       " 0.17009753,\n",
       " 0.13632709,\n",
       " 0.34977162,\n",
       " 0.2429523,\n",
       " 0.14867115,\n",
       " 0.15242876,\n",
       " 0.34148103,\n",
       " 0.26795226,\n",
       " 0.74078345,\n",
       " 0.27028292,\n",
       " 0.27633095,\n",
       " 0.29133287,\n",
       " 0.1320041,\n",
       " 0.22559132,\n",
       " 0.27297771,\n",
       " 0.24409431,\n",
       " 0.22367081,\n",
       " 0.55099815,\n",
       " 0.10890624,\n",
       " 0.087135762,\n",
       " 0.47229916,\n",
       " 0.3228842,\n",
       " 0.1702697,\n",
       " 0.038450487,\n",
       " 0.23583579,\n",
       " 0.13713574,\n",
       " 0.46396589,\n",
       " 0.27901655,\n",
       " 0.33424902,\n",
       " 0.19929971,\n",
       " 0.20453207,\n",
       " 0.2830331,\n",
       " 0.39705962,\n",
       " 0.065235078,\n",
       " 0.31172159,\n",
       " 0.1549028,\n",
       " 0.14619786,\n",
       " 0.26479763,\n",
       " 0.29981422,\n",
       " 0.18466248,\n",
       " 0.40810508,\n",
       " 0.12674735,\n",
       " 0.29505479,\n",
       " 0.22156951,\n",
       " 0.2324653,\n",
       " 0.11030205,\n",
       " 0.18786448,\n",
       " 0.26391843,\n",
       " 0.34033799,\n",
       " 0.24185258,\n",
       " 0.34822419,\n",
       " 0.023934007,\n",
       " 0.26883394,\n",
       " 0.10726736,\n",
       " 0.090557232,\n",
       " 0.51445055,\n",
       " 0.20499793,\n",
       " 0.27198529,\n",
       " 0.70710135,\n",
       " 0.2824775,\n",
       " 0.19756708,\n",
       " 0.22165596,\n",
       " 0.16724232,\n",
       " 0.32776707,\n",
       " 0.69177341,\n",
       " 0.35784164,\n",
       " 0.2316661,\n",
       " 0.19443513,\n",
       " 0.50460196,\n",
       " 0.14805152,\n",
       " 0.16971639,\n",
       " 0.073460698,\n",
       " 0.36183476,\n",
       " 0.20569345,\n",
       " 0.62544018,\n",
       " 0.10855857,\n",
       " 0.16971591,\n",
       " 0.2203732,\n",
       " 0.24114262,\n",
       " 0.3126362,\n",
       " 0.18846436,\n",
       " 0.22930288,\n",
       " 0.35304922,\n",
       " 0.26625255,\n",
       " 0.17129372,\n",
       " 0.20638457,\n",
       " 0.27804953,\n",
       " 0.21515201,\n",
       " 0.14833243,\n",
       " 0.2928572,\n",
       " 0.27919284,\n",
       " 0.14805123,\n",
       " 0.20309196,\n",
       " 0.23814043,\n",
       " 0.31363142,\n",
       " 0.23149769,\n",
       " 0.76858354,\n",
       " 0.23728929,\n",
       " 0.20383984,\n",
       " 0.28511387,\n",
       " 0.21504287,\n",
       " 0.3130399,\n",
       " 0.28296894,\n",
       " 0.42816582,\n",
       " 0.4258402,\n",
       " 0.33027533,\n",
       " 0.34091184,\n",
       " 0.041314572,\n",
       " 0.059785642,\n",
       " 0.26481104,\n",
       " 0.33840209,\n",
       " 0.38725245,\n",
       " 0.21701851,\n",
       " 0.24086894,\n",
       " 0.31852207,\n",
       " 0.3075783,\n",
       " 0.26645195,\n",
       " 0.22786127,\n",
       " 0.19506833,\n",
       " 0.34769872,\n",
       " 0.15868516,\n",
       " 0.16586894,\n",
       " 0.27689812,\n",
       " 0.15647766,\n",
       " 0.13730162,\n",
       " 0.27058592,\n",
       " 0.24616882,\n",
       " 0.057535604,\n",
       " 0.25189811,\n",
       " 0.2382649,\n",
       " 0.20758471,\n",
       " 0.23253556,\n",
       " 0.21852198,\n",
       " 0.12883094,\n",
       " 0.33047175]"
      ]
     },
     "execution_count": 18,
     "metadata": {},
     "output_type": "execute_result"
    }
   ],
   "source": [
    "loss_history"
   ]
  },
  {
   "cell_type": "code",
   "execution_count": 19,
   "metadata": {
    "ExecuteTime": {
     "end_time": "2017-11-16T21:08:24.506055Z",
     "start_time": "2017-11-16T21:08:24.406765Z"
    }
   },
   "outputs": [
    {
     "data": {
      "text/plain": [
       "variable([[  4.15078583e+01,   3.84392548e+01,   1.99186840e+01,\n",
       "             2.02071171e+01,  -1.23181371e-02,  -3.20176840e-01]])"
      ]
     },
     "execution_count": 19,
     "metadata": {},
     "output_type": "execute_result"
    }
   ],
   "source": [
    "pred_boxes"
   ]
  },
  {
   "cell_type": "code",
   "execution_count": 20,
   "metadata": {
    "ExecuteTime": {
     "end_time": "2017-11-16T21:08:24.583615Z",
     "start_time": "2017-11-16T21:08:24.507498Z"
    }
   },
   "outputs": [
    {
     "data": {
      "text/plain": [
       "variable([[ 56.,  15.,  20.,  20.,   1.,   0.]])"
      ]
     },
     "execution_count": 20,
     "metadata": {},
     "output_type": "execute_result"
    }
   ],
   "source": [
    "gt"
   ]
  },
  {
   "cell_type": "code",
   "execution_count": 21,
   "metadata": {
    "ExecuteTime": {
     "end_time": "2017-11-16T21:08:24.672101Z",
     "start_time": "2017-11-16T21:08:24.585316Z"
    }
   },
   "outputs": [
    {
     "data": {
      "text/plain": [
       "8"
      ]
     },
     "execution_count": 21,
     "metadata": {},
     "output_type": "execute_result"
    }
   ],
   "source": [
    "\n",
    "25-17"
   ]
  },
  {
   "cell_type": "code",
   "execution_count": null,
   "metadata": {
    "collapsed": true
   },
   "outputs": [],
   "source": []
  }
 ],
 "metadata": {
  "kernelspec": {
   "display_name": "Python 3",
   "language": "python",
   "name": "python3"
  },
  "language_info": {
   "codemirror_mode": {
    "name": "ipython",
    "version": 3
   },
   "file_extension": ".py",
   "mimetype": "text/x-python",
   "name": "python",
   "nbconvert_exporter": "python",
   "pygments_lexer": "ipython3",
   "version": "3.5.2"
  },
  "toc": {
   "colors": {
    "hover_highlight": "#DAA520",
    "navigate_num": "#000000",
    "navigate_text": "#333333",
    "running_highlight": "#FF0000",
    "selected_highlight": "#FFD700",
    "sidebar_border": "#EEEEEE",
    "wrapper_background": "#FFFFFF"
   },
   "moveMenuLeft": true,
   "nav_menu": {
    "height": "192px",
    "width": "252px"
   },
   "navigate_menu": true,
   "number_sections": false,
   "sideBar": true,
   "threshold": 4,
   "toc_cell": true,
   "toc_section_display": "block",
   "toc_window_display": true,
   "widenNotebook": false
  },
  "varInspector": {
   "cols": {
    "lenName": 16,
    "lenType": 16,
    "lenVar": 40
   },
   "kernels_config": {
    "python": {
     "delete_cmd_postfix": "",
     "delete_cmd_prefix": "del ",
     "library": "var_list.py",
     "varRefreshCmd": "print(var_dic_list())"
    },
    "r": {
     "delete_cmd_postfix": ") ",
     "delete_cmd_prefix": "rm(",
     "library": "var_list.r",
     "varRefreshCmd": "cat(var_dic_list()) "
    }
   },
   "types_to_exclude": [
    "module",
    "function",
    "builtin_function_or_method",
    "instance",
    "_Feature"
   ],
   "window_display": false
  }
 },
 "nbformat": 4,
 "nbformat_minor": 2
}
