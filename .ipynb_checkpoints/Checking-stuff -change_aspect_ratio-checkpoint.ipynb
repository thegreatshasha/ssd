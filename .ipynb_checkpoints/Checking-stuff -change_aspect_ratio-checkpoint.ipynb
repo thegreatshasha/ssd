{
 "cells": [
  {
   "cell_type": "markdown",
   "metadata": {
    "toc": "true"
   },
   "source": [
    "# Table of Contents\n",
    " <p><div class=\"lev1 toc-item\"><a href=\"#Checking-regression\" data-toc-modified-id=\"Checking-regression-1\"><span class=\"toc-item-num\">1&nbsp;&nbsp;</span>Checking regression</a></div><div class=\"lev2 toc-item\"><a href=\"#Checking-functions\" data-toc-modified-id=\"Checking-functions-11\"><span class=\"toc-item-num\">1.1&nbsp;&nbsp;</span>Checking functions</a></div><div class=\"lev3 toc-item\"><a href=\"#Generate-boxes\" data-toc-modified-id=\"Generate-boxes-111\"><span class=\"toc-item-num\">1.1.1&nbsp;&nbsp;</span>Generate boxes</a></div><div class=\"lev3 toc-item\"><a href=\"#Generate-test-dataset\" data-toc-modified-id=\"Generate-test-dataset-112\"><span class=\"toc-item-num\">1.1.2&nbsp;&nbsp;</span>Generate test dataset</a></div><div class=\"lev3 toc-item\"><a href=\"#Conv-net-definitions\" data-toc-modified-id=\"Conv-net-definitions-113\"><span class=\"toc-item-num\">1.1.3&nbsp;&nbsp;</span>Conv net definitions</a></div><div class=\"lev3 toc-item\"><a href=\"#Generate-Default-boxes\" data-toc-modified-id=\"Generate-Default-boxes-114\"><span class=\"toc-item-num\">1.1.4&nbsp;&nbsp;</span>Generate Default boxes</a></div><div class=\"lev3 toc-item\"><a href=\"#Center-to-coords\" data-toc-modified-id=\"Center-to-coords-115\"><span class=\"toc-item-num\">1.1.5&nbsp;&nbsp;</span>Center to coords</a></div><div class=\"lev3 toc-item\"><a href=\"#Draw-boxes\" data-toc-modified-id=\"Draw-boxes-116\"><span class=\"toc-item-num\">1.1.6&nbsp;&nbsp;</span>Draw boxes</a></div><div class=\"lev3 toc-item\"><a href=\"#Get-prediction-boxes\" data-toc-modified-id=\"Get-prediction-boxes-117\"><span class=\"toc-item-num\">1.1.7&nbsp;&nbsp;</span>Get prediction boxes</a></div><div class=\"lev3 toc-item\"><a href=\"#Draw-predicted-boxes\" data-toc-modified-id=\"Draw-predicted-boxes-118\"><span class=\"toc-item-num\">1.1.8&nbsp;&nbsp;</span>Draw predicted boxes</a></div><div class=\"lev3 toc-item\"><a href=\"#Normalize-shifts\" data-toc-modified-id=\"Normalize-shifts-119\"><span class=\"toc-item-num\">1.1.9&nbsp;&nbsp;</span>Normalize shifts</a></div><div class=\"lev3 toc-item\"><a href=\"#Regression-loss\" data-toc-modified-id=\"Regression-loss-1110\"><span class=\"toc-item-num\">1.1.10&nbsp;&nbsp;</span>Regression loss</a></div><div class=\"lev3 toc-item\"><a href=\"#Get-aspect-ratio\" data-toc-modified-id=\"Get-aspect-ratio-1111\"><span class=\"toc-item-num\">1.1.11&nbsp;&nbsp;</span>Get aspect ratio</a></div><div class=\"lev3 toc-item\"><a href=\"#Do-the-matching\" data-toc-modified-id=\"Do-the-matching-1112\"><span class=\"toc-item-num\">1.1.12&nbsp;&nbsp;</span>Do the matching</a></div><div class=\"lev4 toc-item\"><a href=\"#IOU-cpu\" data-toc-modified-id=\"IOU-cpu-11121\"><span class=\"toc-item-num\">1.1.12.1&nbsp;&nbsp;</span>IOU cpu</a></div><div class=\"lev4 toc-item\"><a href=\"#Find-matching-indices\" data-toc-modified-id=\"Find-matching-indices-11122\"><span class=\"toc-item-num\">1.1.12.2&nbsp;&nbsp;</span>Find matching indices</a></div><div class=\"lev3 toc-item\"><a href=\"#Eveyrthing-connected\" data-toc-modified-id=\"Eveyrthing-connected-1113\"><span class=\"toc-item-num\">1.1.13&nbsp;&nbsp;</span>Eveyrthing connected</a></div><div class=\"lev2 toc-item\"><a href=\"#Experiments\" data-toc-modified-id=\"Experiments-12\"><span class=\"toc-item-num\">1.2&nbsp;&nbsp;</span>Experiments</a></div>"
   ]
  },
  {
   "cell_type": "markdown",
   "metadata": {},
   "source": [
    "# Checking regression "
   ]
  },
  {
   "cell_type": "markdown",
   "metadata": {},
   "source": [
    "The strategy will be to check regression in x and y and see how that works out when you combine it. Clearly something must be amiss. So the list of things to do is the following - \n",
    "\n",
    "\n",
    "1) check regression in x \n",
    "\n",
    "2) check regression in y \n",
    "\n",
    "3) check regression when you combine both\n",
    "\n",
    "4) For all of this you need to check each function to make sure that it is doing what its supposed to do\n",
    "\n",
    "\n"
   ]
  },
  {
   "cell_type": "markdown",
   "metadata": {},
   "source": [
    "## Checking functions "
   ]
  },
  {
   "cell_type": "markdown",
   "metadata": {},
   "source": [
    "### Generate boxes\n",
    "\n",
    "First attempt chose a static box to see what is going on,  you will replicate the code for random boxes"
   ]
  },
  {
   "cell_type": "code",
   "execution_count": 1,
   "metadata": {
    "ExecuteTime": {
     "end_time": "2017-11-21T09:53:39.060320Z",
     "start_time": "2017-11-21T09:53:38.330229Z"
    }
   },
   "outputs": [
    {
     "data": {
      "image/png": "[encoded data removed]",
      "text/plain": [
       "<matplotlib.figure.Figure at 0x7f054a6c6fd0>"
      ]
     },
     "metadata": {},
     "output_type": "display_data"
    }
   ],
   "source": [
    "import chainer\n",
    "import numpy as np\n",
    "import matplotlib.pyplot as plt\n",
    "from matplotlib import patches\n",
    "import random \n",
    "from chainer.functions import log, hstack, huber_loss\n",
    "\n",
    "# %matplotlib notebook\n",
    "def get_single_image(pos_r, pos_c, height, width  ): \n",
    "    \n",
    "    image = np.zeros((1,3,128,128), dtype=np.float32)\n",
    "\n",
    "    gts = []\n",
    "\n",
    "    for i in range(1):\n",
    "        # Choose random coordinate, this can also be run in a loop\n",
    "        width = width\n",
    "        height =height\n",
    "        pos_r =pos_r\n",
    "        pos_c =pos_c\n",
    "        image[0,:,pos_r:pos_r+height,pos_c:pos_c+width]=1\n",
    "        #print(pos_r, pos_c)\n",
    "\n",
    "        cx = pos_c #+ width/2.0\n",
    "        cy = pos_r #- height/2.0\n",
    "\n",
    "        box = [cx, cy, width, height, 1, 0]\n",
    "\n",
    "        gts.append(box)\n",
    "\n",
    "    # Create ground truth object\n",
    "    gts2 = chainer.Variable(np.array(gts, dtype=np.float32))\n",
    "    return gts2, image \n",
    "\n",
    "\n",
    "gt, img  = get_single_image(50,50, 50,20)\n",
    "for i in range(1):\n",
    "    # Initialize the image\n",
    "    \n",
    "    # Visualize the entire thing\n",
    "    plt.imshow(img[0,0,:,:])\n",
    "    plt.show()"
   ]
  },
  {
   "cell_type": "code",
   "execution_count": 2,
   "metadata": {
    "ExecuteTime": {
     "end_time": "2017-11-21T09:53:39.065771Z",
     "start_time": "2017-11-21T09:53:39.061750Z"
    }
   },
   "outputs": [
    {
     "name": "stdout",
     "output_type": "stream",
     "text": [
      "ground truth box coordinates:  variable([[ 50.  50.  20.  50.   1.   0.]]) gt shape : (1, 6)\n",
      "-----------------------------------------------\n",
      "Image shape (1, 3, 128, 128)\n"
     ]
    }
   ],
   "source": [
    "print('ground truth box coordinates: ' ,gt,'gt shape :' ,gt.shape)\n",
    "print('-----------------------------------------------')\n",
    "print('Image shape', img.shape)\n"
   ]
  },
  {
   "cell_type": "markdown",
   "metadata": {},
   "source": [
    "### Generate test dataset"
   ]
  },
  {
   "cell_type": "code",
   "execution_count": 59,
   "metadata": {
    "ExecuteTime": {
     "end_time": "2017-11-21T10:12:40.613265Z",
     "start_time": "2017-11-21T10:12:40.471107Z"
    }
   },
   "outputs": [
    {
     "data": {
      "image/png": "[encoded data removed]",
      "text/plain": [
       "<matplotlib.figure.Figure at 0x7f0501933208>"
      ]
     },
     "metadata": {},
     "output_type": "display_data"
    }
   ],
   "source": [
    "def generate_test_set():\n",
    "    \n",
    "    image_sizes = [10,15,20,25,30,35,40,45,50,55,60]\n",
    "    locx =[20,20,30,30,40,40,50, 60,60,80,80]\n",
    "    locy = [80,80,30,30,40,60,50, 70,70,50,50]\n",
    "    test_gts = []\n",
    "    imgs = []\n",
    "    \n",
    "    for i in range(len(locx)): \n",
    "\n",
    "        image = np.zeros((1,3,128,128), dtype=np.float32)\n",
    "        # Choose random coordinate, this can also be run in a loop\n",
    "        width = image_sizes[i]\n",
    "        height =image_sizes[i]\n",
    "        pos_r =locx[i]\n",
    "        pos_c =locy[i]\n",
    "        image[0,:,pos_r:pos_r+height,pos_c:pos_c+width]=1\n",
    "        #print(pos_r, pos_c)\n",
    "\n",
    "        cx = pos_c #+ width/2.0\n",
    "        cy = pos_r #- height/2.0\n",
    "\n",
    "        box = [cx, cy, width, height, 1, 0]\n",
    "\n",
    "        test_gts.append(box)\n",
    "        imgs.append(image)\n",
    "    # Create ground truth object\n",
    "    test_gts2 = chainer.Variable(np.array(test_gts, dtype=np.float32))\n",
    "    return test_gts2, imgs \n",
    "\n",
    "test_gts, test_imgs = generate_test_set()\n",
    "test_gts\n",
    "\n",
    "img_test = test_imgs[1]\n",
    "\n",
    "plt.imshow(img_test[0,0,:,:])\n",
    "\n",
    "\n",
    "plt.show()\n"
   ]
  },
  {
   "cell_type": "markdown",
   "metadata": {},
   "source": [
    "### Conv net definitions "
   ]
  },
  {
   "cell_type": "code",
   "execution_count": 4,
   "metadata": {
    "ExecuteTime": {
     "end_time": "2017-11-21T09:53:39.318401Z",
     "start_time": "2017-11-21T09:53:39.225184Z"
    }
   },
   "outputs": [],
   "source": [
    "from chainer import Chain\n",
    "import chainer\n",
    "import chainer.functions as F\n",
    "import chainer.links as L\n",
    "\n",
    "class ConvNet(Chain):\n",
    "    def __init__(self):\n",
    "        super(ConvNet, self).__init__(\n",
    "            l1=L.Convolution2D(None,32,ksize=(3,3),stride=1,pad=1),\n",
    "            l2=L.Convolution2D(32,32,ksize=(3,3),stride=1,pad=1),\n",
    "            l3=L.DilatedConvolution2D(32,32,ksize=(5,5),stride=1,pad=1),\n",
    "            l4=L.Convolution2D(32,32,ksize=(3,3),stride=1,pad=1),\n",
    "            l5=L.Convolution2D(32,32,ksize=(3,3),stride=1,pad=1),    \n",
    "            l6=L.DilatedConvolution2D(32,32,ksize=(7,7),stride=1,pad=1),\n",
    "            l7=L.Convolution2D(32,32,ksize=(3,3),stride=1,pad=1),\n",
    "            l8=L.Convolution2D(32,32,ksize=(3,3),stride=1,pad=1)\n",
    "            \n",
    "        )\n",
    "        \n",
    "    def __call__(self, x):\n",
    "        h1 = F.relu(self.l1(x))\n",
    "        h2= F.relu(self.l2(h1))\n",
    "        h3 = F.relu(self.l3(h2))\n",
    "#         h4 = F.max_pooling_2d(h3, 2)\n",
    "        \n",
    "        h5 = F.relu(self.l4(h3))\n",
    "        h6= F.relu(self.l5(h5))\n",
    "        h7 = F.relu(self.l6(h6))\n",
    "        h8 = F.relu(self.l7(h7))\n",
    "       \n",
    "        \n",
    "#         h8 = F.max_pooling_2d(h7, 2)\n",
    "#         h5 = F.relu(self.l3(h4))\n",
    "#         h6 = F.max_pooling_2d(h5, 2)\n",
    "#         h7 = F.relu(self.l4(h6))\n",
    "        \n",
    "        return self.l8(F.sigmoid(h8))\n",
    "    "
   ]
  },
  {
   "cell_type": "code",
   "execution_count": 5,
   "metadata": {
    "ExecuteTime": {
     "end_time": "2017-11-21T09:53:39.947656Z",
     "start_time": "2017-11-21T09:53:39.320150Z"
    }
   },
   "outputs": [
    {
     "data": {
      "text/plain": [
       "(1, 6, 122, 122)"
      ]
     },
     "execution_count": 5,
     "metadata": {},
     "output_type": "execute_result"
    }
   ],
   "source": [
    "class BoxNet(Chain):\n",
    "    def __init__(self, predictor):\n",
    "        super(BoxNet, self).__init__(\n",
    "            l1=L.Convolution2D(None,6,ksize=(3,3),stride=1,pad=1)\n",
    "        )\n",
    "        self.predictor = predictor\n",
    "        \n",
    "    def __call__(self, x):\n",
    "        h1 = self.l1(self.predictor(x))\n",
    "        return h1\n",
    "    \n",
    "convnet = ConvNet()\n",
    "boxnet = BoxNet(ConvNet())\n",
    "fm = convnet(img)\n",
    "shifts_all = boxnet(img)\n",
    "\n",
    "shifts= shifts_all[:,:,64,64]\n",
    "shifts =F.reshape(shifts,[1,6,1,1])\n",
    "shifts_all.shape"
   ]
  },
  {
   "cell_type": "code",
   "execution_count": 6,
   "metadata": {
    "ExecuteTime": {
     "end_time": "2017-11-21T09:53:39.978253Z",
     "start_time": "2017-11-21T09:53:39.953648Z"
    }
   },
   "outputs": [
    {
     "name": "stdout",
     "output_type": "stream",
     "text": [
      "shifts all shape : (1, 6, 122, 122)  \n",
      " shifts shape : (1, 6, 1, 1)\n",
      "------------------------------------------\n",
      "shifts value : variable([[[ 1.03554642]]\n",
      "\n",
      "          [[ 0.36216611]]\n",
      "\n",
      "          [[ 0.08855822]]\n",
      "\n",
      "          [[ 0.7184462 ]]\n",
      "\n",
      "          [[-0.09222319]]\n",
      "\n",
      "          [[ 0.29794979]]])\n"
     ]
    }
   ],
   "source": [
    "print('shifts all shape :', shifts_all.shape,  ' \\n shifts shape :', shifts.shape)\n",
    "print('------------------------------------------')\n",
    "print('shifts value :', shifts[0])"
   ]
  },
  {
   "cell_type": "markdown",
   "metadata": {},
   "source": [
    "### Generate Default boxes"
   ]
  },
  {
   "cell_type": "code",
   "execution_count": 7,
   "metadata": {
    "ExecuteTime": {
     "end_time": "2017-11-21T09:53:40.052378Z",
     "start_time": "2017-11-21T09:53:39.979915Z"
    },
    "collapsed": true
   },
   "outputs": [],
   "source": [
    "def defaultgen(I, F, width, height):\n",
    "    \"\"\"\n",
    "    Generates an array of default boxes: Chainer TESTED\n",
    "    \n",
    "    Args:\n",
    "        I: Input image tensor (N,channels,rows,cols)\n",
    "        F: Feature map tensor to generate default boxes for\n",
    "        width: Width of the box\n",
    "        height: Height of the box\n",
    "        \n",
    "    Returns:\n",
    "        db: Default boxes tensor, flattened\n",
    "    \"\"\"\n",
    "    scale = (I.shape[2] / F.shape[2])\n",
    "    offset = np.ones((2,F.shape[2],F.shape[3]), dtype=np.float32)\n",
    "    iterator = np.flip(np.indices((F.shape[2],F.shape[3])), axis=0).astype(np.float32)\n",
    "    \n",
    "    xys = offset * ((scale-1)/2) + iterator * scale\n",
    "    xys = np.moveaxis(xys,0,2)\n",
    "    ws = np.full((F.shape[2],F.shape[3],1), width, dtype=np.float32)\n",
    "    hs = np.full((F.shape[2],F.shape[3],1), height,dtype=np.float32)\n",
    "    class_scores = np.zeros((F.shape[2],F.shape[3],2), dtype=np.float32)\n",
    "    db = np.dstack([xys, ws, hs, class_scores])\n",
    "   \n",
    "    db = db[64,64,:]\n",
    "    db = db.reshape([1,1,6])\n",
    "    \n",
    "    return chainer.Variable(db.reshape((db.shape[0] * db.shape[1], 6)))\n"
   ]
  },
  {
   "cell_type": "code",
   "execution_count": 8,
   "metadata": {
    "ExecuteTime": {
     "end_time": "2017-11-21T09:53:40.142175Z",
     "start_time": "2017-11-21T09:53:40.054087Z"
    }
   },
   "outputs": [
    {
     "name": "stdout",
     "output_type": "stream",
     "text": [
      "def_boxes values: variable([[ 67.17212677  67.17212677  60.          60.           0.           0.        ]])\n",
      "---------------------------------------\n",
      "print shape of def boxes : (1, 6)\n"
     ]
    }
   ],
   "source": [
    "def_boxes = defaultgen(img,fm, 60,60)\n",
    "print('def_boxes values:', def_boxes)\n",
    "print('---------------------------------------')\n",
    "print('print shape of def boxes :', def_boxes.shape)"
   ]
  },
  {
   "cell_type": "markdown",
   "metadata": {},
   "source": [
    "### Center to coords \n",
    "\n",
    "This function has been checked, seems correct, some examples below"
   ]
  },
  {
   "cell_type": "code",
   "execution_count": 9,
   "metadata": {
    "ExecuteTime": {
     "end_time": "2017-11-21T09:53:40.231742Z",
     "start_time": "2017-11-21T09:53:40.143692Z"
    },
    "collapsed": true
   },
   "outputs": [],
   "source": [
    "def center_to_coords(box):\n",
    "    \"\"\" \n",
    "    Converts bounding box from (cx, cy, w, h) format to (x1, y1, x2, y2) format\n",
    "    \n",
    "    Args:\n",
    "        box: 6d numpy array\n",
    "        \n",
    "    Returns:\n",
    "        box_transformed: Box in the second format\n",
    "    \n",
    "    \"\"\"\n",
    "    box_transformed = np.array([box[0]-box[2]/2.0, box[1]-box[3]/2.0, box[0]+box[2]/2.0, box[1]+box[3]/2.0, box[4], box[5]])\n",
    "    return box_transformed\n",
    "\n"
   ]
  },
  {
   "cell_type": "markdown",
   "metadata": {
    "ExecuteTime": {
     "end_time": "2017-11-19T04:14:15.764172Z",
     "start_time": "2017-11-19T04:14:15.761232Z"
    }
   },
   "source": [
    "Checking center to coords..."
   ]
  },
  {
   "cell_type": "code",
   "execution_count": 10,
   "metadata": {
    "ExecuteTime": {
     "end_time": "2017-11-21T09:53:40.377799Z",
     "start_time": "2017-11-21T09:53:40.233538Z"
    }
   },
   "outputs": [
    {
     "data": {
      "text/plain": [
       "array([variable(37.17212677001953), variable(37.17212677001953),\n",
       "       variable(97.17212677001953), variable(97.17212677001953),\n",
       "       variable(0.0), variable(0.0)], dtype=object)"
      ]
     },
     "execution_count": 10,
     "metadata": {},
     "output_type": "execute_result"
    }
   ],
   "source": [
    "center_to_coords(def_boxes[0])"
   ]
  },
  {
   "cell_type": "code",
   "execution_count": 11,
   "metadata": {
    "ExecuteTime": {
     "end_time": "2017-11-21T09:53:40.465339Z",
     "start_time": "2017-11-21T09:53:40.379329Z"
    }
   },
   "outputs": [
    {
     "name": "stdout",
     "output_type": "stream",
     "text": [
      "[  73.5   -1.5  106.5   31.5    0.     0. ] [  8.5   7.5  11.5  10.5   0.    0. ]\n"
     ]
    }
   ],
   "source": [
    "# some more checks \n",
    "\n",
    "box1= np.array([10,9, 3,3,0,0])\n",
    "box2= np.array([90,15, 33,33,0,0])\n",
    "\n",
    "print(center_to_coords(box2), center_to_coords(box1)) "
   ]
  },
  {
   "cell_type": "markdown",
   "metadata": {},
   "source": [
    "### Draw boxes \n"
   ]
  },
  {
   "cell_type": "code",
   "execution_count": 12,
   "metadata": {
    "ExecuteTime": {
     "end_time": "2017-11-21T09:53:40.647237Z",
     "start_time": "2017-11-21T09:53:40.466921Z"
    },
    "collapsed": true
   },
   "outputs": [],
   "source": [
    "def draw_boxes(image, boxes):\n",
    "    img = image\n",
    "    plt.figure()\n",
    "    ax = plt.axes()\n",
    "\n",
    "    for box in boxes:\n",
    "        box = center_to_coords(box.data)\n",
    "        ax.imshow(img[0,0,:,:])\n",
    "        p = patches.Rectangle((box[0], box[1]), box[2]-box[0], box[3]-box[1], fill=False, color = 'red')\n",
    "        ax.add_patch(p)\n",
    "\n",
    "    \n",
    "    return ax\n",
    "ax  = draw_boxes(img, def_boxes)"
   ]
  },
  {
   "cell_type": "markdown",
   "metadata": {},
   "source": [
    "### Get prediction boxes \n",
    "\n",
    "This seems to be correct as well"
   ]
  },
  {
   "cell_type": "code",
   "execution_count": 13,
   "metadata": {
    "ExecuteTime": {
     "end_time": "2017-11-21T09:53:40.732863Z",
     "start_time": "2017-11-21T09:53:40.648873Z"
    },
    "collapsed": true
   },
   "outputs": [],
   "source": [
    "def get_pred_boxes(shift_vals, default_boxes ): \n",
    "    \"\"\"\n",
    "    Get predicted boxes by combining shift values to default boxes\n",
    "    Input: \n",
    "\n",
    "    shift_values : Shifts generated by the network  NDarray (None, Num of Default boxes, 4+num of classes)\n",
    "    Default boxes  : Default boxes generated by the network NDarray (None, Num of Default boxes, 4+num of classes)\n",
    "\n",
    "    Output: \n",
    "\n",
    "    Predicted boxes  : Predicted boxes, same shape as default boxes  NDarray (None, Num of Default boxes, 4+num of classes)\n",
    "\n",
    "    \"\"\"\n",
    "    \n",
    "    shift_val_shape= default_boxes.shape\n",
    "    shift_vals= F.swapaxes(shift_vals,1,3)\n",
    "    shift_vals= F.reshape(shift_vals,shift_val_shape)\n",
    "    \n",
    "    shifts = shift_vals \n",
    "    def_boxes= default_boxes\n",
    "    \n",
    "    \n",
    "    cx_pred = (shifts[:,0]*def_boxes[:,2])+def_boxes[:,0]\n",
    "    cy_pred = (shifts[:,1]*def_boxes[:,3])+def_boxes[:,1]\n",
    "    \n",
    "    H_pred = F.exp(shifts[:,3])*def_boxes[:,3]\n",
    "    W_pred = F.exp(shifts[:,2])*def_boxes[:,2]\n",
    "    \n",
    "    class1 = shifts[:,4]\n",
    "    class2 = shifts[:,5]\n",
    "    \n",
    "    \n",
    "    pred_boxes = F.vstack((cx_pred,cy_pred,W_pred,H_pred, class1, class2))\n",
    "    pred_boxes = F.transpose(pred_boxes)\n",
    "    \n",
    "    return  pred_boxes "
   ]
  },
  {
   "cell_type": "code",
   "execution_count": 14,
   "metadata": {
    "ExecuteTime": {
     "end_time": "2017-11-21T09:53:40.846901Z",
     "start_time": "2017-11-21T09:53:40.734527Z"
    }
   },
   "outputs": [
    {
     "name": "stdout",
     "output_type": "stream",
     "text": [
      "prediction box coordinates : variable([[  1.29304916e+02   8.89020920e+01   6.55558701e+01\n",
      "             1.23074615e+02  -9.22231898e-02   2.97949791e-01]])\n"
     ]
    }
   ],
   "source": [
    "pred_boxes= get_pred_boxes(shifts, def_boxes)\n",
    "print('prediction box coordinates :', pred_boxes)"
   ]
  },
  {
   "cell_type": "code",
   "execution_count": 15,
   "metadata": {
    "ExecuteTime": {
     "end_time": "2017-11-21T09:53:40.946670Z",
     "start_time": "2017-11-21T09:53:40.848483Z"
    }
   },
   "outputs": [
    {
     "data": {
      "text/plain": [
       "variable([[[[ 1.03554642]],\n",
       "\n",
       "           [[ 0.36216611]],\n",
       "\n",
       "           [[ 0.08855822]],\n",
       "\n",
       "           [[ 0.7184462 ]],\n",
       "\n",
       "           [[-0.09222319]],\n",
       "\n",
       "           [[ 0.29794979]]]])"
      ]
     },
     "execution_count": 15,
     "metadata": {},
     "output_type": "execute_result"
    }
   ],
   "source": [
    "shifts"
   ]
  },
  {
   "cell_type": "code",
   "execution_count": 16,
   "metadata": {
    "ExecuteTime": {
     "end_time": "2017-11-21T09:53:41.029908Z",
     "start_time": "2017-11-21T09:53:40.948369Z"
    }
   },
   "outputs": [
    {
     "data": {
      "text/plain": [
       "variable([[ 67.17212677,  67.17212677,  60.        ,  60.        ,\n",
       "             0.        ,   0.        ]])"
      ]
     },
     "execution_count": 16,
     "metadata": {},
     "output_type": "execute_result"
    }
   ],
   "source": [
    "def_boxes"
   ]
  },
  {
   "cell_type": "markdown",
   "metadata": {},
   "source": [
    "### Draw predicted boxes"
   ]
  },
  {
   "cell_type": "code",
   "execution_count": 17,
   "metadata": {
    "ExecuteTime": {
     "end_time": "2017-11-21T09:53:41.196548Z",
     "start_time": "2017-11-21T09:53:41.031620Z"
    }
   },
   "outputs": [
    {
     "data": {
      "image/png": "[encoded data removed]",
      "text/plain": [
       "<matplotlib.figure.Figure at 0x7f0501b57eb8>"
      ]
     },
     "metadata": {},
     "output_type": "display_data"
    }
   ],
   "source": [
    "\n",
    "def draw_pred_boxes(prediction_boxes,img, ax): \n",
    "    \"\"\"Draw predicted boxes on the original image \"\"\"\n",
    "    box =prediction_boxes\n",
    "    \n",
    "    for box in prediction_boxes:\n",
    "        box2= box.data\n",
    "        box = center_to_coords(box.data)\n",
    "        ax.imshow(img[0,0,:,:])\n",
    "        p = patches.Rectangle((box2[0], box2[1]), box[2]-box[0], box[3]-box[1], fill=False, color = 'green')\n",
    "        ax.add_patch(p)\n",
    "\n",
    "\n",
    "    plt.show()\n",
    "\n",
    "draw_pred_boxes(pred_boxes, img, ax)"
   ]
  },
  {
   "cell_type": "markdown",
   "metadata": {
    "ExecuteTime": {
     "end_time": "2017-11-19T06:23:08.749346Z",
     "start_time": "2017-11-19T06:23:08.729143Z"
    }
   },
   "source": [
    "### Normalize shifts     "
   ]
  },
  {
   "cell_type": "code",
   "execution_count": 18,
   "metadata": {
    "ExecuteTime": {
     "end_time": "2017-11-21T09:53:41.211644Z",
     "start_time": "2017-11-21T09:53:41.198814Z"
    },
    "collapsed": true
   },
   "outputs": [],
   "source": [
    "\n",
    "def normalize_shift(box, def_box):\n",
    "    \"\"\"\n",
    "    Scales down absolute shifts, % for centers, log for height and width.\n",
    "    \n",
    "    Args:\n",
    "        box: 6x1 bounding box coordinates\n",
    "        def_box: 6x1 reference box coordinates\n",
    "        \n",
    "    Returns:\n",
    "        normalized_shift_vector: 4x1 normalized shift vector. Note that we discard the last 2 channels.\n",
    "    \"\"\"\n",
    "    tx = (box[0] - def_box[0])/def_box[2]\n",
    "    ty = (box[1] - def_box[1])/def_box[3]\n",
    "    tw = log(box[2]/def_box[2])\n",
    "    th = log(box[3]/def_box[3])\n",
    "    \n",
    "    return hstack([tx, ty, tw, th])\n",
    "    "
   ]
  },
  {
   "cell_type": "markdown",
   "metadata": {},
   "source": [
    "### Regression loss \n",
    "\n",
    "This too seems to work "
   ]
  },
  {
   "cell_type": "code",
   "execution_count": 19,
   "metadata": {
    "ExecuteTime": {
     "end_time": "2017-11-21T09:53:41.294320Z",
     "start_time": "2017-11-21T09:53:41.213199Z"
    }
   },
   "outputs": [
    {
     "name": "stdout",
     "output_type": "stream",
     "text": [
      " regression loss value : variable([ 1.85254717])\n"
     ]
    }
   ],
   "source": [
    "def regression_loss(pred_box, gt_box, def_box):\n",
    "    \"\"\"\n",
    "    Calculates regression loss between two boxes w.r.t a reference default box.\n",
    "    \n",
    "    Args:\n",
    "        pred_box: 6x1 bounding box predicted by the network\n",
    "        gt_box: 6x1 bounding box overlapping with pred_box\n",
    "        def_box: 6x1 bounding box with same index as pred_box\n",
    "        \n",
    "    Returns:\n",
    "        reg_loss: Scalar of huber loss between two vectors\n",
    "    \"\"\"\n",
    "    \n",
    "    gt_normalized  = normalize_shift(gt_box[0],def_box[0])\n",
    "    pred_normalized = normalize_shift(pred_box[0],def_box[0])\n",
    "  \n",
    "    gt_normalized = gt_normalized\n",
    "    pred_normalized = pred_normalized\n",
    "    gt_normalized = gt_normalized.reshape((1,4))\n",
    "    pred_normalized = pred_normalized.reshape((1,4))\n",
    "    # l1 loss \n",
    "#     loss_val= pred_normalized - gt_normalized \n",
    "#     x_reg = F.absolute(loss_val )\n",
    "#     x_reg =F.sum(x_reg)\n",
    "    \n",
    "    #huber loss \n",
    "    return F.huber_loss(gt_normalized,pred_normalized, delta =1.0)\n",
    "    \n",
    "    \n",
    "reg_loss_value = regression_loss(pred_boxes, gt, pred_boxes)\n",
    "print(' regression loss value :', reg_loss_value)\n",
    "\n",
    "\n"
   ]
  },
  {
   "cell_type": "code",
   "execution_count": 20,
   "metadata": {
    "ExecuteTime": {
     "end_time": "2017-11-21T09:53:41.380222Z",
     "start_time": "2017-11-21T09:53:41.295914Z"
    },
    "collapsed": true
   },
   "outputs": [],
   "source": [
    "def compute_loss(gt_boxes, pred_boxes, def_boxes):\n",
    "    \n",
    "    loss_class = chainer.Variable(np.array([0.], dtype=np.float32))\n",
    "    loss_reg = chainer.Variable(np.array([0.], dtype=np.float32))\n",
    "    \n",
    "    gt_box, pred_box, def_box = gt_boxes, pred_boxes, def_boxes    \n",
    "#     loss_reg += regression_loss(pred_box, gt_box, def_box)\n",
    "    loss_reg = regression_loss(pred_box, gt_box, def_box)\n",
    "    \n",
    "    return loss_reg \n"
   ]
  },
  {
   "cell_type": "markdown",
   "metadata": {},
   "source": [
    "### Get aspect ratio "
   ]
  },
  {
   "cell_type": "code",
   "execution_count": 21,
   "metadata": {
    "ExecuteTime": {
     "end_time": "2017-11-21T09:53:41.471229Z",
     "start_time": "2017-11-21T09:53:41.381769Z"
    }
   },
   "outputs": [
    {
     "name": "stdout",
     "output_type": "stream",
     "text": [
      "height list : [360, 240, 60, 30]\n",
      "------------------------------\n",
      "width list : [40, 60, 240, 480]\n"
     ]
    }
   ],
   "source": [
    "def get_aspect_ratios(def_size ):\n",
    "\n",
    "    def_area = def_size*def_size\n",
    "    aspect_ratios = [3, 2,0.50, 0.25]\n",
    "    height_list =[]\n",
    "    width_list = []\n",
    "\n",
    "    for i in aspect_ratios: \n",
    "\n",
    "        height_list.append(int(def_size*i))  \n",
    "        width_list.append(int(def_area/(def_size*i)) )\n",
    "\n",
    "    return height_list,width_list\n",
    "\n",
    "def_size= 120 \n",
    "height_list, width_list= get_aspect_ratios(def_size)\n",
    "\n",
    "\n",
    "print('height list :',height_list)\n",
    "print('------------------------------')\n",
    "print('width list :', width_list)"
   ]
  },
  {
   "cell_type": "markdown",
   "metadata": {},
   "source": [
    "### Do the matching "
   ]
  },
  {
   "cell_type": "markdown",
   "metadata": {},
   "source": [
    "#### IOU cpu"
   ]
  },
  {
   "cell_type": "code",
   "execution_count": 22,
   "metadata": {
    "ExecuteTime": {
     "end_time": "2017-11-21T09:53:41.559538Z",
     "start_time": "2017-11-21T09:53:41.472578Z"
    },
    "collapsed": true
   },
   "outputs": [],
   "source": [
    "# Let's define some useful functions first.\n",
    "# Work with chainer variables for instahook.\n",
    "#from chainer.functions import max, min, hstack\n",
    "\n",
    "def iou_cpu(boxA, boxB):\n",
    "    \"\"\"\n",
    "    Calculates intersection over union score of two rectangles, none of them rotated.: TESTED\n",
    "    \n",
    "    Args:\n",
    "        boxA: Box1\n",
    "        boxB: Box2\n",
    "        \n",
    "    Returns:\n",
    "        iou (scalar): IOU score of the two boxes\n",
    "    \"\"\"\n",
    "        # determine the (x, y)-coordinates of the intersection rectangle\n",
    "        # Maybe we can accelerate this by writing this as a cython extension\n",
    "        \n",
    "    boxA = center_to_coords(boxA)\n",
    "    boxB = center_to_coords(boxB)\n",
    "    \n",
    "    xA = max(boxA[0], boxB[0])\n",
    "    yA = max(boxA[1], boxB[1])\n",
    "    xB = min(boxA[2], boxB[2])\n",
    "    yB = min(boxA[3], boxB[3])\n",
    "    \n",
    "    # compute the area of intersection rectangle\n",
    "    interArea = max((xB - xA), 0) * max((yB - yA), 0)\n",
    "    \n",
    "    # compute the area of both the prediction and ground-truth\n",
    "    # rectangles\n",
    "    boxa_area = (boxA[2] - boxA[0]) * (boxA[3] - boxA[1])\n",
    "    boxb_area = (boxB[2] - boxB[0]) * (boxB[3] - boxB[1])\n",
    "    \n",
    "    # compute the intersection over union by taking the intersection\n",
    "    # area and dividing it by the sum of prediction + ground-truth\n",
    "    # areas - the interesection area\n",
    "    #print(interArea, boxa_area, boxb_area)\n",
    "    iou = interArea / (boxa_area + boxb_area - interArea)\n",
    "\n",
    "    # return the intersection over union value\n",
    "    return iou\n",
    "\n",
    "\n"
   ]
  },
  {
   "cell_type": "markdown",
   "metadata": {},
   "source": [
    "#### Find matching indices "
   ]
  },
  {
   "cell_type": "code",
   "execution_count": 23,
   "metadata": {
    "ExecuteTime": {
     "end_time": "2017-11-21T09:53:41.650051Z",
     "start_time": "2017-11-21T09:53:41.560875Z"
    },
    "collapsed": true
   },
   "outputs": [],
   "source": [
    "def find_match_indices_cpu(def_box, gt): \n",
    "    \"\"\"\n",
    "    Find matches between ground truth boxes and boxes predicted by network.\n",
    "    \n",
    "    Args:\n",
    "        gt (): Tensor of ground truth boxes\n",
    "        pred_boxes (): Tensor of default boxes\n",
    "        \n",
    "    Returns:\n",
    "        pos_inds: Indices of the connectivity matrix where there is a positive match\n",
    "        neg_inds: Indices of the connectivity matrix where there is a negative match\n",
    "    \"\"\"\n",
    "    \n",
    "    \n",
    "    pos_iou_score =  np.zeros((gt.shape[0], def_box.shape[0]), dtype=np.float32)\n",
    "    neg_iou_score = np.ones((gt.shape[0], def_box.shape[0]), dtype=np.float32)\n",
    "    iou_score =  np.zeros((gt.shape[0], def_box.shape[0]), dtype=np.float32)\n",
    "    \n",
    "    thresh = 0.1\n",
    "    \n",
    "    for i in range(gt.shape[0]): \n",
    "        for j in range(def_box.shape[0]): \n",
    "            iou_score[i,j]  = iou_cpu(gt[i].data, def_box[j].data)\n",
    "            iou_value =  iou_cpu(gt[i].data, def_box[j].data)\n",
    "            \n",
    "            if iou_value > thresh:  \n",
    "                pos_iou_score[i,j] = iou_value\n",
    "            else :\n",
    "                neg_iou_score[i,j] = iou_value\n",
    "    \n",
    "    pos_inds  = np.argwhere(pos_iou_score>thresh)\n",
    "    \n",
    "    if not pos_inds: \n",
    "         pos_inds = np.argwhere(np.max(iou_score))\n",
    "            \n",
    "    neg_inds = np.argwhere(neg_iou_score<=thresh)\n",
    "    \n",
    "    return  pos_inds, neg_inds,iou_score, pos_iou_score, neg_iou_score\n"
   ]
  },
  {
   "cell_type": "code",
   "execution_count": 24,
   "metadata": {
    "ExecuteTime": {
     "end_time": "2017-11-21T09:53:41.743198Z",
     "start_time": "2017-11-21T09:53:41.651627Z"
    }
   },
   "outputs": [
    {
     "data": {
      "text/plain": [
       "array([[ 0.06944445,  0.03749517,  0.05166527,  0.06944445,  0.02607795]], dtype=float32)"
      ]
     },
     "execution_count": 24,
     "metadata": {},
     "output_type": "execute_result"
    }
   ],
   "source": [
    "## lets test the above functions \n",
    "def_size =120 \n",
    "height_list, width_list  = get_aspect_ratios(def_size )\n",
    "def_boxes_all = defaultgen(img,fm,def_size, def_size)\n",
    "def_box_new = chainer.Variable(np.zeros([1,6],dtype = np.float32) )\n",
    "def_box_new.copydata(def_boxes_all)\n",
    "\n",
    "for i in range(len(height_list)): \n",
    "\n",
    "    def_box_new.data[0][2:4]=height_list[i], width_list[i]    \n",
    "    def_boxes_all = F.vstack((def_boxes_all,def_box_new))\n",
    "    \n",
    "\n",
    "pos_inds, neg_inds, iou_score, pos_iou_score, neg_iou_score = find_match_indices_cpu(def_boxes_all, gt)\n",
    "iou_score\n",
    "\n"
   ]
  },
  {
   "cell_type": "markdown",
   "metadata": {
    "ExecuteTime": {
     "end_time": "2017-11-19T06:31:55.610205Z",
     "start_time": "2017-11-19T06:31:55.606389Z"
    }
   },
   "source": [
    "### Eveyrthing connected\n",
    "\n",
    "Now we connect it all and first test x regression, they y regression and then combination of both\n",
    "\n",
    "could it be that the aspect ratio of a box vs the aspect ratio of the default box have something to do with the loss? \n"
   ]
  },
  {
   "cell_type": "code",
   "execution_count": 25,
   "metadata": {
    "ExecuteTime": {
     "end_time": "2017-11-21T09:53:41.830955Z",
     "start_time": "2017-11-21T09:53:41.744906Z"
    },
    "collapsed": true
   },
   "outputs": [],
   "source": [
    "from chainer.optimizers import SGD,Adam,MomentumSGD\n",
    "from tqdm import tqdm\n",
    "import matplotlib.pyplot as plt\n",
    "\n",
    "def all_connected(posr, posc, width_gt, height_gt, alpha, number_loops):\n",
    "    \"\"\"\n",
    "    Input\n",
    "\n",
    "    width_gt     : width of the ground truth box \n",
    "    height_gt    : height of the ground truth box \n",
    "    alpha        : alpha value for the adam optimizer \n",
    "    number_loops : number of examples generate\n",
    "\n",
    "\n",
    "    Ouput \n",
    "    Image of the loss function \n",
    "    Loss history \n",
    "    \"\"\"\n",
    "\n",
    "    \n",
    "    \n",
    "    boxnet = BoxNet(ConvNet())\n",
    "\n",
    "    optimizer =Adam(alpha= alpha)\n",
    "    optimizer.setup(boxnet)\n",
    "    loss_history = []\n",
    "    def_size =120 \n",
    "    height_list, width_list = get_aspect_ratios(def_size)\n",
    "    width_list=[def_size]\n",
    "    height_list=[def_size]\n",
    "    \n",
    "    for i in tqdm(range(number_loops)):\n",
    "        \n",
    "        width_gt = np.random.randint(30, 60)\n",
    "        height_gt = width_gt\n",
    "        \n",
    "        gt, img =get_single_image(posr, posc, width_gt, height_gt)\n",
    "\n",
    "\n",
    "        # Initializing the network and computing the features and shifts\n",
    "        #fm = convnet(img)\n",
    "        shifts2 = boxnet(img)\n",
    "        shifts2= shifts2[:,:,64,64]\n",
    "        shifts2 =F.reshape(shifts2,[1,6,1,1])\n",
    "\n",
    "        # Getting default_boxes and predictions\n",
    "        # Forward pass ends here\n",
    "        loss_total = chainer.Variable(np.array([0.], dtype=np.float32))\n",
    "\n",
    "        for j in [0]: \n",
    "            \n",
    "            def_boxes2 = defaultgen(img, fm,height_list[j] ,width_list[j])\n",
    "            pred_boxes2 = get_pred_boxes(shifts2, def_boxes2)\n",
    "            \n",
    "            loss = compute_loss( gt ,pred_boxes2, def_boxes2)\n",
    "            loss_total += loss\n",
    "\n",
    "    #     if i % 50 == 0:\n",
    "    #         draw_pred_boxes(pred_boxes2,img, ax)\n",
    "    #         print('pred box loc:  ' , pred_boxes2[0][0],pred_boxes2[0][1] )\n",
    "    #         print('gt', gt)\n",
    "        boxnet.zerograds()\n",
    "        loss_history.append(loss_total.data)\n",
    "        loss_total.backward()\n",
    "\n",
    "        optimizer.update()\n",
    "\n",
    "#     plt.figure(figsize=(30,10))\n",
    "#     plt.plot(range(len(loss_history)), loss_history)\n",
    "#     plt.ylim([0,1])\n",
    "#     plt.show()\n",
    "\n",
    "    return loss_history, pred_boxes2,def_boxes2,  gt,img, boxnet\n"
   ]
  },
  {
   "cell_type": "code",
   "execution_count": 26,
   "metadata": {
    "ExecuteTime": {
     "end_time": "2017-11-21T09:53:41.940561Z",
     "start_time": "2017-11-21T09:53:41.832454Z"
    }
   },
   "outputs": [],
   "source": [
    "def testing_model(model, test_imgs,test_gts): \n",
    "\n",
    "    test_pred_boxes_all = []\n",
    "\n",
    "    for i in range(len(test_imgs)): \n",
    "        test_shifts=boxnet(test_imgs[i])\n",
    "        test_shifts = test_shifts[:,:,64,64]\n",
    "\n",
    "        test_shifts =F.reshape(test_shifts,[1,6,1,1])\n",
    "        test_def_boxes = defaultgen(test_imgs[i], fm,height_list[0] ,width_list[0])\n",
    "        test_pred_boxes = get_pred_boxes(test_shifts, test_def_boxes)\n",
    "        test_pred_boxes_all.append(test_pred_boxes)\n",
    "\n",
    "    return test_pred_boxes_all "
   ]
  },
  {
   "cell_type": "code",
   "execution_count": null,
   "metadata": {
    "ExecuteTime": {
     "end_time": "2017-11-21T09:45:41.915809Z",
     "start_time": "2017-11-21T09:45:41.909644Z"
    }
   },
   "outputs": [],
   "source": []
  },
  {
   "cell_type": "code",
   "execution_count": null,
   "metadata": {
    "ExecuteTime": {
     "end_time": "2017-11-21T09:45:42.089935Z",
     "start_time": "2017-11-21T09:45:41.921726Z"
    }
   },
   "outputs": [],
   "source": []
  },
  {
   "cell_type": "markdown",
   "metadata": {},
   "source": [
    "\n",
    "## Experiments "
   ]
  },
  {
   "cell_type": "markdown",
   "metadata": {},
   "source": [
    "In all experiments using, adam optimizer- \n",
    "\n",
    "First case is where we have a 20 by 20 box located at 50, 50 for 100 runs using a rate of 0.01  "
   ]
  },
  {
   "cell_type": "code",
   "execution_count": 27,
   "metadata": {
    "ExecuteTime": {
     "end_time": "2017-11-21T09:53:42.040413Z",
     "start_time": "2017-11-21T09:53:41.942686Z"
    },
    "code_folding": [
     0
    ],
    "collapsed": true
   },
   "outputs": [],
   "source": [
    "# all_losses = []\n",
    "# alpha = 0.01\n",
    "# locx= 50 \n",
    "# locy= 50\n",
    "# size= 20\n",
    "# nloops= 100 \n",
    "# ensemble = 5\n",
    "# for i in range(ensemble): \n",
    "    \n",
    "#     loss_history, pred_boxes2, ground_truth,image = all_connected(locx,locy, size,size, alpha, nloops)\n",
    "#     all_losses.append(loss_history)\n",
    "\n",
    "    \n",
    "# all_losses = np.array(all_losses)\n",
    "# all_losses2 = all_losses.transpose()\n",
    "# all_losses2.shape   "
   ]
  },
  {
   "cell_type": "code",
   "execution_count": 28,
   "metadata": {
    "ExecuteTime": {
     "end_time": "2017-11-21T09:53:42.124467Z",
     "start_time": "2017-11-21T09:53:42.042022Z"
    },
    "code_folding": [
     0
    ],
    "collapsed": true,
    "run_control": {
     "marked": false
    }
   },
   "outputs": [],
   "source": [
    "# random_or_not = 'no'\n",
    "# plt.figure(figsize=(30,10))\n",
    "# plt.xlabel('number of runs', size =20)\n",
    "# plt.ylabel('Loss value', size =20)\n",
    "# title_name ='Loss_vs_loops num-'+ str(nloops)+ '-size-'+ str(size) + '-alpha-'+ str(alpha)+'-ensemble-'+str(ensemble)+'-random-'+random_or_not\n",
    "# plt.title(title_name, size=22 )\n",
    "# plt.ylim([0,1])\n",
    "# plt.plot(range(len(loss_history)), np.mean(all_losses2,axis=1))\n",
    "# plt.savefig(title_name+'.png')\n",
    "# plt.show()"
   ]
  },
  {
   "cell_type": "markdown",
   "metadata": {},
   "source": [
    "\n",
    "Second case is where we have a 5 by 5 box located at 50, 50 for 100 runs using a rate of 0.0001  "
   ]
  },
  {
   "cell_type": "code",
   "execution_count": 29,
   "metadata": {
    "ExecuteTime": {
     "end_time": "2017-11-21T09:53:42.219330Z",
     "start_time": "2017-11-21T09:53:42.125989Z"
    },
    "code_folding": [
     0
    ],
    "collapsed": true
   },
   "outputs": [],
   "source": [
    "# all_losses = []\n",
    "# alpha = 0.0001\n",
    "# locx= 50 \n",
    "# locy= 50\n",
    "# size= 5\n",
    "# nloops= 300 \n",
    "# ensemble = 5\n",
    "\n",
    "# for i in range(ensemble): \n",
    "    \n",
    "#     loss_history, pred_boxes2, ground_truth,image = all_connected(locx,locy, size,size, alpha, nloops)\n",
    "#     all_losses.append(loss_history)\n",
    "\n",
    "    \n",
    "# all_losses = np.array(all_losses)\n",
    "# all_losses2 = all_losses.transpose()\n",
    "# all_losses2.shape  \n",
    "\n",
    "\n",
    "\n",
    "\n",
    "# random_or_not = 'no'\n",
    "# plt.figure(figsize=(30,10))\n",
    "# plt.xlabel('number of runs', size =20)\n",
    "# plt.ylabel('Loss value', size =20)\n",
    "# title_name ='Loss_vs_loops num-'+ str(nloops)+ '-size-'+ str(size) + '-alpha-'+ str(alpha)+'-ensemble-'+str(ensemble)+'-random-'+random_or_not\n",
    "# plt.title(title_name, size=22 )\n",
    "# plt.ylim([0,1])\n",
    "# plt.plot(range(len(loss_history)), np.mean(all_losses2,axis=1))\n",
    "# plt.savefig(title_name+'.png')\n",
    "# plt.show()"
   ]
  },
  {
   "cell_type": "code",
   "execution_count": 30,
   "metadata": {
    "ExecuteTime": {
     "end_time": "2017-11-21T09:53:42.308865Z",
     "start_time": "2017-11-21T09:53:42.221100Z"
    },
    "code_folding": [
     0
    ],
    "collapsed": true,
    "run_control": {
     "marked": true
    }
   },
   "outputs": [],
   "source": [
    "# all_losses = []\n",
    "# alpha = 0.0001\n",
    "# locx= np.random.randint(10, 60) \n",
    "# locy= 50\n",
    "# size= 5\n",
    "# nloops= 300 \n",
    "# ensemble = 5\n",
    "\n",
    "# for i in range(ensemble): \n",
    "    \n",
    "#     loss_history, pred_boxes2, ground_truth, image = all_connected(locx,locy, size,size, alpha, nloops)\n",
    "#     all_losses.append(loss_history)\n",
    "\n",
    "    \n",
    "# all_losses = np.array(all_losses)\n",
    "# all_losses2 = all_losses.transpose()\n",
    "# all_losses2.shape  \n",
    "\n",
    "\n",
    "\n",
    "\n",
    "# random_or_not = 'random_x'\n",
    "# plt.figure(figsize=(30,10))\n",
    "# plt.xlabel('number of runs', size =20)\n",
    "# plt.ylabel('Loss value', size =20)\n",
    "# title_name ='Loss_vs_loops num-'+ str(nloops)+ '-size-'+ str(size) + '-alpha-'+ str(alpha)+'-ensemble-'+str(ensemble)+'-random-'+random_or_not\n",
    "# plt.title(title_name, size=22 )\n",
    "# plt.ylim([0,1])\n",
    "# plt.plot(range(len(loss_history)), np.mean(all_losses2,axis=1))\n",
    "# plt.savefig(title_name+'.png')\n",
    "# plt.show()"
   ]
  },
  {
   "cell_type": "code",
   "execution_count": 31,
   "metadata": {
    "ExecuteTime": {
     "end_time": "2017-11-21T09:57:24.346584Z",
     "start_time": "2017-11-21T09:53:42.310779Z"
    }
   },
   "outputs": [
    {
     "name": "stderr",
     "output_type": "stream",
     "text": [
      "100%|██████████| 500/500 [03:41<00:00,  2.28it/s]\n"
     ]
    },
    {
     "data": {
      "image/png": "[encoded data removed]",
      "text/plain": [
       "<matplotlib.figure.Figure at 0x7f054a7271d0>"
      ]
     },
     "metadata": {},
     "output_type": "display_data"
    },
    {
     "data": {
      "image/png": "[encoded data removed]",
      "text/plain": [
       "<matplotlib.figure.Figure at 0x7f0501c016d8>"
      ]
     },
     "metadata": {},
     "output_type": "display_data"
    },
    {
     "data": {
      "text/plain": [
       "(1, 500, 1)"
      ]
     },
     "execution_count": 31,
     "metadata": {},
     "output_type": "execute_result"
    }
   ],
   "source": [
    "all_losses = []\n",
    "alpha = 0.00005\n",
    "locx= np.random.randint(10, 60) \n",
    "locy= np.random.randint(10, 60) \n",
    "size= 20\n",
    "nloops= 500\n",
    "ensemble = 1\n",
    "\n",
    "\n",
    "for i in range(ensemble): \n",
    "\n",
    "    locx= np.random.randint(10, 60) \n",
    "    locy= np.random.randint(10, 60) \n",
    "\n",
    "    loss_history, pred_boxes, def_boxes, ground_truth, image,boxnet = all_connected(locx,locy, size,size, alpha, nloops)\n",
    "    \n",
    "    \n",
    "    ax=draw_boxes(image,def_boxes)\n",
    "    draw_pred_boxes(pred_boxes, image, ax)\n",
    "    all_losses.append(loss_history)\n",
    "\n",
    "    \n",
    "    random_or_not = 'both_xy'\n",
    "    plt.figure(figsize=(30,10))\n",
    "    plt.xlabel('number of runs', size =20)\n",
    "    plt.ylabel('Loss value', size =20)\n",
    "    title_name ='Loss_vs_loops num-'+ str(nloops)+ '-size-'+ str(size) + '-alpha-'+ str(alpha)+'-ensemble-'+str(ensemble)+'-random-'+random_or_not\n",
    "    plt.title(title_name, size=22 )\n",
    "    plt.ylim([0,1])\n",
    "    plt.plot(range(len(loss_history)), loss_history)\n",
    "    # plt.savefig(title_name+'.png')\n",
    "    plt.show()\n",
    "    \n",
    "    \n",
    "    \n",
    "    \n",
    "    \n",
    "    \n",
    "    \n",
    "    \n",
    "all_losses = np.array(all_losses)\n",
    "all_losses2 = all_losses.transpose()\n",
    "all_losses2.shape  \n",
    "\n",
    "\n",
    "\n",
    "\n",
    "# random_or_not = 'both_xy'\n",
    "# plt.figure(figsize=(30,10))\n",
    "# plt.xlabel('number of runs', size =20)\n",
    "# plt.ylabel('Loss value', size =20)\n",
    "# title_name ='Loss_vs_loops num-'+ str(nloops)+ '-size-'+ str(size) + '-alpha-'+ str(alpha)+'-ensemble-'+str(ensemble)+'-random-'+random_or_not\n",
    "# plt.title(title_name, size=22 )\n",
    "# plt.ylim([0,1])\n",
    "# plt.plot(range(len(loss_history)), np.mean(all_losses2,axis=1))\n",
    "# # plt.savefig(title_name+'.png')\n",
    "# plt.show()"
   ]
  },
  {
   "cell_type": "code",
   "execution_count": 32,
   "metadata": {
    "ExecuteTime": {
     "end_time": "2017-11-21T09:57:24.351406Z",
     "start_time": "2017-11-21T09:57:24.348127Z"
    }
   },
   "outputs": [
    {
     "data": {
      "text/plain": [
       "variable([[ 45.,  26.,  51.,  51.,   1.,   0.]])"
      ]
     },
     "execution_count": 32,
     "metadata": {},
     "output_type": "execute_result"
    }
   ],
   "source": [
    "ground_truth"
   ]
  },
  {
   "cell_type": "code",
   "execution_count": 33,
   "metadata": {
    "ExecuteTime": {
     "end_time": "2017-11-21T09:57:24.462522Z",
     "start_time": "2017-11-21T09:57:24.352617Z"
    }
   },
   "outputs": [
    {
     "data": {
      "text/plain": [
       "variable([[ 45.51480865,  24.98677444,  44.21800995,  44.36753845,\n",
       "             0.46322617,   0.06938816]])"
      ]
     },
     "execution_count": 33,
     "metadata": {},
     "output_type": "execute_result"
    }
   ],
   "source": [
    "pred_boxes"
   ]
  },
  {
   "cell_type": "code",
   "execution_count": 51,
   "metadata": {
    "ExecuteTime": {
     "end_time": "2017-11-21T10:05:01.689873Z",
     "start_time": "2017-11-21T10:04:58.777623Z"
    }
   },
   "outputs": [
    {
     "name": "stdout",
     "output_type": "stream",
     "text": [
      "test_box0 [  81  -34 -121   -4    0    0]\n",
      "------------------------------\n",
      "test_box1 [  81  -34 -116    0    0    0]\n",
      "------------------------------\n",
      "test_box2 [  31  -24 -111    5    0    0]\n",
      "------------------------------\n",
      "test_box3 [  31  -24 -106   10    0    0]\n",
      "------------------------------\n",
      "test_box4 [  41  -13 -101   15    0    0]\n",
      "------------------------------\n",
      "test_box5 [ 58 -13 -98  20   0   0]\n",
      "------------------------------\n",
      "test_box6 [ 47  -3 -92  25   0   0]\n",
      "------------------------------\n",
      "test_box7 [ 69   6 -86  30   0   0]\n",
      "------------------------------\n",
      "test_box8 [ 69   6 -81  35   0   0]\n",
      "------------------------------\n",
      "test_box9 [ 51  25 -76  40   0   0]\n",
      "------------------------------\n"
     ]
    }
   ],
   "source": [
    "test_pred_boxes_all  = testing_model(boxnet,test_imgs,test_gts)\n",
    "for i in range(10): \n",
    "    diff_values = test_gts[i].data- test_pred_boxes_all[i][0].data\n",
    "    print('test_box'+str(i),diff_values.astype(int))\n",
    "    print('------------------------------')"
   ]
  },
  {
   "cell_type": "code",
   "execution_count": 35,
   "metadata": {
    "ExecuteTime": {
     "end_time": "2017-11-21T09:57:26.903727Z",
     "start_time": "2017-11-21T09:57:26.826533Z"
    }
   },
   "outputs": [
    {
     "data": {
      "text/plain": [
       "[array([ 0.54617387], dtype=float32),\n",
       " array([ 0.36281133], dtype=float32),\n",
       " array([ 0.56233144], dtype=float32),\n",
       " array([ 0.5837149], dtype=float32),\n",
       " array([ 0.32031816], dtype=float32),\n",
       " array([ 0.97915989], dtype=float32),\n",
       " array([ 0.2366371], dtype=float32),\n",
       " array([ 0.32094705], dtype=float32),\n",
       " array([ 0.31445175], dtype=float32),\n",
       " array([ 0.44717565], dtype=float32),\n",
       " array([ 0.3910372], dtype=float32),\n",
       " array([ 0.97952485], dtype=float32),\n",
       " array([ 0.48185039], dtype=float32),\n",
       " array([ 0.24605574], dtype=float32),\n",
       " array([ 0.27724725], dtype=float32),\n",
       " array([ 0.33099905], dtype=float32),\n",
       " array([ 0.24681883], dtype=float32),\n",
       " array([ 0.13108513], dtype=float32),\n",
       " array([ 0.17444119], dtype=float32),\n",
       " array([ 0.52476811], dtype=float32),\n",
       " array([ 0.372453], dtype=float32),\n",
       " array([ 0.53834867], dtype=float32),\n",
       " array([ 0.2164958], dtype=float32),\n",
       " array([ 0.52405721], dtype=float32),\n",
       " array([ 0.24421319], dtype=float32),\n",
       " array([ 0.32136729], dtype=float32),\n",
       " array([ 0.50311065], dtype=float32),\n",
       " array([ 0.13737534], dtype=float32),\n",
       " array([ 0.66268498], dtype=float32),\n",
       " array([ 0.29915044], dtype=float32),\n",
       " array([ 0.44985566], dtype=float32),\n",
       " array([ 0.50701833], dtype=float32),\n",
       " array([ 0.28294364], dtype=float32),\n",
       " array([ 0.2170271], dtype=float32),\n",
       " array([ 0.13611162], dtype=float32),\n",
       " array([ 0.4801358], dtype=float32),\n",
       " array([ 0.35392129], dtype=float32),\n",
       " array([ 0.59498346], dtype=float32),\n",
       " array([ 0.29273236], dtype=float32),\n",
       " array([ 0.09682338], dtype=float32),\n",
       " array([ 0.06089918], dtype=float32),\n",
       " array([ 0.66565144], dtype=float32),\n",
       " array([ 0.13401012], dtype=float32),\n",
       " array([ 0.14496429], dtype=float32),\n",
       " array([ 0.5949229], dtype=float32),\n",
       " array([ 0.15398082], dtype=float32),\n",
       " array([ 0.13500591], dtype=float32),\n",
       " array([ 0.1318652], dtype=float32),\n",
       " array([ 0.14401899], dtype=float32),\n",
       " array([ 0.11269246], dtype=float32),\n",
       " array([ 0.11002554], dtype=float32),\n",
       " array([ 0.16209728], dtype=float32),\n",
       " array([ 0.27589712], dtype=float32),\n",
       " array([ 0.34640762], dtype=float32),\n",
       " array([ 0.12652552], dtype=float32),\n",
       " array([ 0.18485937], dtype=float32),\n",
       " array([ 0.12102725], dtype=float32),\n",
       " array([ 0.43272638], dtype=float32),\n",
       " array([ 0.42760417], dtype=float32),\n",
       " array([ 0.03490747], dtype=float32),\n",
       " array([ 0.59626186], dtype=float32),\n",
       " array([ 0.05654765], dtype=float32),\n",
       " array([ 0.14575608], dtype=float32),\n",
       " array([ 0.02284865], dtype=float32),\n",
       " array([ 0.36133993], dtype=float32),\n",
       " array([ 0.35695562], dtype=float32),\n",
       " array([ 0.38874573], dtype=float32),\n",
       " array([ 0.31585622], dtype=float32),\n",
       " array([ 0.05234682], dtype=float32),\n",
       " array([ 0.41284591], dtype=float32),\n",
       " array([ 0.03635384], dtype=float32),\n",
       " array([ 0.03010736], dtype=float32),\n",
       " array([ 0.24626237], dtype=float32),\n",
       " array([ 0.01813611], dtype=float32),\n",
       " array([ 0.05049776], dtype=float32),\n",
       " array([ 0.21535356], dtype=float32),\n",
       " array([ 0.07507141], dtype=float32),\n",
       " array([ 0.0733793], dtype=float32),\n",
       " array([ 0.18366897], dtype=float32),\n",
       " array([ 0.11651295], dtype=float32),\n",
       " array([ 0.11436911], dtype=float32),\n",
       " array([ 0.07557638], dtype=float32),\n",
       " array([ 0.01558069], dtype=float32),\n",
       " array([ 0.08239482], dtype=float32),\n",
       " array([ 0.35298729], dtype=float32),\n",
       " array([ 0.42807776], dtype=float32),\n",
       " array([ 0.01833687], dtype=float32),\n",
       " array([ 0.10040849], dtype=float32),\n",
       " array([ 0.01177933], dtype=float32),\n",
       " array([ 0.0724826], dtype=float32),\n",
       " array([ 0.1540235], dtype=float32),\n",
       " array([ 0.02189202], dtype=float32),\n",
       " array([ 0.05169488], dtype=float32),\n",
       " array([ 0.01296119], dtype=float32),\n",
       " array([ 0.22803292], dtype=float32),\n",
       " array([ 0.20052397], dtype=float32),\n",
       " array([ 0.01584886], dtype=float32),\n",
       " array([ 0.01073374], dtype=float32),\n",
       " array([ 0.30905196], dtype=float32),\n",
       " array([ 0.01722222], dtype=float32),\n",
       " array([ 0.21389937], dtype=float32),\n",
       " array([ 0.01186846], dtype=float32),\n",
       " array([ 0.04775281], dtype=float32),\n",
       " array([ 0.01527044], dtype=float32),\n",
       " array([ 0.02172118], dtype=float32),\n",
       " array([ 0.01223327], dtype=float32),\n",
       " array([ 0.01021072], dtype=float32),\n",
       " array([ 0.01161966], dtype=float32),\n",
       " array([ 0.02956141], dtype=float32),\n",
       " array([ 0.19720323], dtype=float32),\n",
       " array([ 0.07920722], dtype=float32),\n",
       " array([ 0.13726439], dtype=float32),\n",
       " array([ 0.00884222], dtype=float32),\n",
       " array([ 0.00900799], dtype=float32),\n",
       " array([ 0.00882473], dtype=float32),\n",
       " array([ 0.2409104], dtype=float32),\n",
       " array([ 0.02472075], dtype=float32),\n",
       " array([ 0.20890324], dtype=float32),\n",
       " array([ 0.07070355], dtype=float32),\n",
       " array([ 0.12596793], dtype=float32),\n",
       " array([ 0.01417394], dtype=float32),\n",
       " array([ 0.0171074], dtype=float32),\n",
       " array([ 0.01082703], dtype=float32),\n",
       " array([ 0.19745618], dtype=float32),\n",
       " array([ 0.07435949], dtype=float32),\n",
       " array([ 0.01518714], dtype=float32),\n",
       " array([ 0.21896414], dtype=float32),\n",
       " array([ 0.02827962], dtype=float32),\n",
       " array([ 0.01378561], dtype=float32),\n",
       " array([ 0.04096313], dtype=float32),\n",
       " array([ 0.00990325], dtype=float32),\n",
       " array([ 0.00826266], dtype=float32),\n",
       " array([ 0.00838833], dtype=float32),\n",
       " array([ 0.00947119], dtype=float32),\n",
       " array([ 0.01967912], dtype=float32),\n",
       " array([ 0.0126941], dtype=float32),\n",
       " array([ 0.29637852], dtype=float32),\n",
       " array([ 0.07380051], dtype=float32),\n",
       " array([ 0.10116883], dtype=float32),\n",
       " array([ 0.08394177], dtype=float32),\n",
       " array([ 0.32448953], dtype=float32),\n",
       " array([ 0.32174253], dtype=float32),\n",
       " array([ 0.11007071], dtype=float32),\n",
       " array([ 0.00698047], dtype=float32),\n",
       " array([ 0.16149868], dtype=float32),\n",
       " array([ 0.01274166], dtype=float32),\n",
       " array([ 0.03505189], dtype=float32),\n",
       " array([ 0.03417972], dtype=float32),\n",
       " array([ 0.00719306], dtype=float32),\n",
       " array([ 0.26474702], dtype=float32),\n",
       " array([ 0.00600958], dtype=float32),\n",
       " array([ 0.01138356], dtype=float32),\n",
       " array([ 0.00631318], dtype=float32),\n",
       " array([ 0.0366761], dtype=float32),\n",
       " array([ 0.04367342], dtype=float32),\n",
       " array([ 0.16607004], dtype=float32),\n",
       " array([ 0.00632652], dtype=float32),\n",
       " array([ 0.05124231], dtype=float32),\n",
       " array([ 0.00498243], dtype=float32),\n",
       " array([ 0.00869203], dtype=float32),\n",
       " array([ 0.0271696], dtype=float32),\n",
       " array([ 0.096642], dtype=float32),\n",
       " array([ 0.01860063], dtype=float32),\n",
       " array([ 0.02824148], dtype=float32),\n",
       " array([ 0.05611923], dtype=float32),\n",
       " array([ 0.02280341], dtype=float32),\n",
       " array([ 0.00520147], dtype=float32),\n",
       " array([ 0.02947502], dtype=float32),\n",
       " array([ 0.10830249], dtype=float32),\n",
       " array([ 0.00434534], dtype=float32),\n",
       " array([ 0.0894898], dtype=float32),\n",
       " array([ 0.02526193], dtype=float32),\n",
       " array([ 0.08807904], dtype=float32),\n",
       " array([ 0.0509141], dtype=float32),\n",
       " array([ 0.02116187], dtype=float32),\n",
       " array([ 0.01695992], dtype=float32),\n",
       " array([ 0.01319376], dtype=float32),\n",
       " array([ 0.0095512], dtype=float32),\n",
       " array([ 0.16662544], dtype=float32),\n",
       " array([ 0.00394401], dtype=float32),\n",
       " array([ 0.03869657], dtype=float32),\n",
       " array([ 0.00875188], dtype=float32),\n",
       " array([ 0.00854157], dtype=float32),\n",
       " array([ 0.00387971], dtype=float32),\n",
       " array([ 0.0460026], dtype=float32),\n",
       " array([ 0.00307243], dtype=float32),\n",
       " array([ 0.1602443], dtype=float32),\n",
       " array([ 0.11385164], dtype=float32),\n",
       " array([ 0.05577977], dtype=float32),\n",
       " array([ 0.03443007], dtype=float32),\n",
       " array([ 0.09242005], dtype=float32),\n",
       " array([ 0.00617808], dtype=float32),\n",
       " array([ 0.01233823], dtype=float32),\n",
       " array([ 0.00310143], dtype=float32),\n",
       " array([ 0.03144431], dtype=float32),\n",
       " array([ 0.00952233], dtype=float32),\n",
       " array([ 0.07147278], dtype=float32),\n",
       " array([ 0.17281118], dtype=float32),\n",
       " array([ 0.0227845], dtype=float32),\n",
       " array([ 0.00328684], dtype=float32),\n",
       " array([ 0.08388399], dtype=float32),\n",
       " array([ 0.01066514], dtype=float32),\n",
       " array([ 0.00238107], dtype=float32),\n",
       " array([ 0.05651436], dtype=float32),\n",
       " array([ 0.02462359], dtype=float32),\n",
       " array([ 0.13986167], dtype=float32),\n",
       " array([ 0.03086781], dtype=float32),\n",
       " array([ 0.00554387], dtype=float32),\n",
       " array([ 0.00205426], dtype=float32),\n",
       " array([ 0.00834926], dtype=float32),\n",
       " array([ 0.04324348], dtype=float32),\n",
       " array([ 0.00564407], dtype=float32),\n",
       " array([ 0.1604338], dtype=float32),\n",
       " array([ 0.01624988], dtype=float32),\n",
       " array([ 0.00307731], dtype=float32),\n",
       " array([ 0.15849745], dtype=float32),\n",
       " array([ 0.18410479], dtype=float32),\n",
       " array([ 0.06005967], dtype=float32),\n",
       " array([ 0.0094301], dtype=float32),\n",
       " array([ 0.12983033], dtype=float32),\n",
       " array([ 0.0067784], dtype=float32),\n",
       " array([ 0.04969133], dtype=float32),\n",
       " array([ 0.12677918], dtype=float32),\n",
       " array([ 0.02448841], dtype=float32),\n",
       " array([ 0.08511688], dtype=float32),\n",
       " array([ 0.00365106], dtype=float32),\n",
       " array([ 0.0522141], dtype=float32),\n",
       " array([ 0.03813083], dtype=float32),\n",
       " array([ 0.00904154], dtype=float32),\n",
       " array([ 0.00299544], dtype=float32),\n",
       " array([ 0.01152049], dtype=float32),\n",
       " array([ 0.02525248], dtype=float32),\n",
       " array([ 0.04369029], dtype=float32),\n",
       " array([ 0.12081079], dtype=float32),\n",
       " array([ 0.08097591], dtype=float32),\n",
       " array([ 0.02412773], dtype=float32),\n",
       " array([ 0.00862813], dtype=float32),\n",
       " array([ 0.00571349], dtype=float32),\n",
       " array([ 0.03424074], dtype=float32),\n",
       " array([ 0.00236871], dtype=float32),\n",
       " array([ 0.00426277], dtype=float32),\n",
       " array([ 0.09533703], dtype=float32),\n",
       " array([ 0.11510803], dtype=float32),\n",
       " array([ 0.029154], dtype=float32),\n",
       " array([ 0.03030741], dtype=float32),\n",
       " array([ 0.05061565], dtype=float32),\n",
       " array([ 0.02996252], dtype=float32),\n",
       " array([ 0.05889883], dtype=float32),\n",
       " array([ 0.03642463], dtype=float32),\n",
       " array([ 0.00974956], dtype=float32),\n",
       " array([ 0.03612555], dtype=float32),\n",
       " array([ 0.0298229], dtype=float32),\n",
       " array([ 0.18750584], dtype=float32),\n",
       " array([ 0.15987146], dtype=float32),\n",
       " array([ 0.01855032], dtype=float32),\n",
       " array([ 0.00645909], dtype=float32),\n",
       " array([ 0.00323311], dtype=float32),\n",
       " array([ 0.01000623], dtype=float32),\n",
       " array([ 0.05838626], dtype=float32),\n",
       " array([ 0.07281656], dtype=float32),\n",
       " array([ 0.03655537], dtype=float32),\n",
       " array([ 0.00130716], dtype=float32),\n",
       " array([ 0.03826146], dtype=float32),\n",
       " array([ 0.04568689], dtype=float32),\n",
       " array([ 0.03186188], dtype=float32),\n",
       " array([ 0.05340305], dtype=float32),\n",
       " array([ 0.00202101], dtype=float32),\n",
       " array([ 0.03563136], dtype=float32),\n",
       " array([ 0.15462276], dtype=float32),\n",
       " array([ 0.0050223], dtype=float32),\n",
       " array([ 0.03526338], dtype=float32),\n",
       " array([ 0.06176657], dtype=float32),\n",
       " array([ 0.0258374], dtype=float32),\n",
       " array([ 0.0128163], dtype=float32),\n",
       " array([ 0.05544624], dtype=float32),\n",
       " array([ 0.03892998], dtype=float32),\n",
       " array([ 0.0003694], dtype=float32),\n",
       " array([ 0.0109803], dtype=float32),\n",
       " array([ 0.05394344], dtype=float32),\n",
       " array([ 0.01813228], dtype=float32),\n",
       " array([ 0.00192075], dtype=float32),\n",
       " array([ 0.00029975], dtype=float32),\n",
       " array([ 0.04566228], dtype=float32),\n",
       " array([ 0.00239585], dtype=float32),\n",
       " array([ 0.01967504], dtype=float32),\n",
       " array([ 0.00091862], dtype=float32),\n",
       " array([ 0.01443673], dtype=float32),\n",
       " array([ 0.0049029], dtype=float32),\n",
       " array([ 0.03052448], dtype=float32),\n",
       " array([ 0.0302622], dtype=float32),\n",
       " array([ 0.0185287], dtype=float32),\n",
       " array([ 0.13281251], dtype=float32),\n",
       " array([ 0.03588382], dtype=float32),\n",
       " array([ 0.11107576], dtype=float32),\n",
       " array([ 0.09102082], dtype=float32),\n",
       " array([ 0.07316124], dtype=float32),\n",
       " array([ 0.0504868], dtype=float32),\n",
       " array([ 0.02362755], dtype=float32),\n",
       " array([ 0.01347723], dtype=float32),\n",
       " array([ 0.04303175], dtype=float32),\n",
       " array([ 0.00878907], dtype=float32),\n",
       " array([ 0.02923677], dtype=float32),\n",
       " array([ 0.00028265], dtype=float32),\n",
       " array([ 0.18550251], dtype=float32),\n",
       " array([ 0.18531409], dtype=float32),\n",
       " array([ 0.05807538], dtype=float32),\n",
       " array([ 0.00104756], dtype=float32),\n",
       " array([ 0.00866778], dtype=float32),\n",
       " array([ 0.0136053], dtype=float32),\n",
       " array([ 0.00844978], dtype=float32),\n",
       " array([ 0.01861119], dtype=float32),\n",
       " array([ 0.0437979], dtype=float32),\n",
       " array([ 0.05625685], dtype=float32),\n",
       " array([ 0.00359825], dtype=float32),\n",
       " array([ 0.01446241], dtype=float32),\n",
       " array([ 0.03122541], dtype=float32),\n",
       " array([ 0.06966457], dtype=float32),\n",
       " array([ 0.00217577], dtype=float32),\n",
       " array([ 0.00390086], dtype=float32),\n",
       " array([ 0.06884344], dtype=float32),\n",
       " array([ 0.00055761], dtype=float32),\n",
       " array([ 0.0464111], dtype=float32),\n",
       " array([ 0.15023619], dtype=float32),\n",
       " array([ 0.01683433], dtype=float32),\n",
       " array([ 0.02096135], dtype=float32),\n",
       " array([ 0.0475218], dtype=float32),\n",
       " array([ 0.10283498], dtype=float32),\n",
       " array([ 0.00011633], dtype=float32),\n",
       " array([ 0.17352507], dtype=float32),\n",
       " array([ 0.01577646], dtype=float32),\n",
       " array([ 0.06567441], dtype=float32),\n",
       " array([ 0.01712638], dtype=float32),\n",
       " array([ 0.00513406], dtype=float32),\n",
       " array([ 0.0578686], dtype=float32),\n",
       " array([ 0.00852736], dtype=float32),\n",
       " array([ 0.00017457], dtype=float32),\n",
       " array([ 0.00031574], dtype=float32),\n",
       " array([ 0.01532459], dtype=float32),\n",
       " array([ 0.00091585], dtype=float32),\n",
       " array([ 0.14506152], dtype=float32),\n",
       " array([ 0.01022396], dtype=float32),\n",
       " array([ 0.03517805], dtype=float32),\n",
       " array([ 0.03027839], dtype=float32),\n",
       " array([ 0.01275939], dtype=float32),\n",
       " array([ 0.00022992], dtype=float32),\n",
       " array([ 0.05041814], dtype=float32),\n",
       " array([ 0.00563973], dtype=float32),\n",
       " array([ 0.01284558], dtype=float32),\n",
       " array([ 0.01755211], dtype=float32),\n",
       " array([ 0.03010561], dtype=float32),\n",
       " array([ 0.02879795], dtype=float32),\n",
       " array([ 0.00023567], dtype=float32),\n",
       " array([ 0.01252537], dtype=float32),\n",
       " array([ 0.00013055], dtype=float32),\n",
       " array([ 0.00012024], dtype=float32),\n",
       " array([ 0.00825701], dtype=float32),\n",
       " array([ 0.14539352], dtype=float32),\n",
       " array([ 0.00227146], dtype=float32),\n",
       " array([ 0.05697367], dtype=float32),\n",
       " array([ 0.00811796], dtype=float32),\n",
       " array([ 0.03413475], dtype=float32),\n",
       " array([ 0.00333908], dtype=float32),\n",
       " array([ 0.06558201], dtype=float32),\n",
       " array([ 0.12316449], dtype=float32),\n",
       " array([ 0.06447757], dtype=float32),\n",
       " array([ 0.05608502], dtype=float32),\n",
       " array([ 0.03151471], dtype=float32),\n",
       " array([ 0.05584607], dtype=float32),\n",
       " array([ 0.08261459], dtype=float32),\n",
       " array([ 0.00200794], dtype=float32),\n",
       " array([ 0.03939553], dtype=float32),\n",
       " array([ 0.03155426], dtype=float32),\n",
       " array([ 0.14640954], dtype=float32),\n",
       " array([  9.03221517e-05], dtype=float32),\n",
       " array([ 0.00029655], dtype=float32),\n",
       " array([ 0.04939999], dtype=float32),\n",
       " array([ 0.0377052], dtype=float32),\n",
       " array([ 0.00515889], dtype=float32),\n",
       " array([ 0.0097371], dtype=float32),\n",
       " array([ 0.0054959], dtype=float32),\n",
       " array([ 0.02172548], dtype=float32),\n",
       " array([ 0.00525598], dtype=float32),\n",
       " array([ 0.02383168], dtype=float32),\n",
       " array([ 0.02848626], dtype=float32),\n",
       " array([ 0.00885051], dtype=float32),\n",
       " array([ 0.07652357], dtype=float32),\n",
       " array([ 0.07586485], dtype=float32),\n",
       " array([ 0.00648922], dtype=float32),\n",
       " array([ 0.16126847], dtype=float32),\n",
       " array([ 0.05760892], dtype=float32),\n",
       " array([ 0.00200644], dtype=float32),\n",
       " array([ 0.00148821], dtype=float32),\n",
       " array([ 0.05512172], dtype=float32),\n",
       " array([ 0.0226818], dtype=float32),\n",
       " array([ 0.06891902], dtype=float32),\n",
       " array([ 0.02361595], dtype=float32),\n",
       " array([ 0.06740476], dtype=float32),\n",
       " array([ 0.00259297], dtype=float32),\n",
       " array([ 0.01414311], dtype=float32),\n",
       " array([ 0.14777619], dtype=float32),\n",
       " array([ 0.05510701], dtype=float32),\n",
       " array([ 0.03269669], dtype=float32),\n",
       " array([ 0.01522439], dtype=float32),\n",
       " array([ 0.000641], dtype=float32),\n",
       " array([ 0.01539945], dtype=float32),\n",
       " array([ 0.04853193], dtype=float32),\n",
       " array([ 0.07980014], dtype=float32),\n",
       " array([ 0.06243558], dtype=float32),\n",
       " array([ 0.00425667], dtype=float32),\n",
       " array([  5.03566771e-05], dtype=float32),\n",
       " array([ 0.02495105], dtype=float32),\n",
       " array([ 0.00043734], dtype=float32),\n",
       " array([ 0.00040282], dtype=float32),\n",
       " array([ 0.11561269], dtype=float32),\n",
       " array([ 0.07904976], dtype=float32),\n",
       " array([ 0.09342621], dtype=float32),\n",
       " array([ 0.0325516], dtype=float32),\n",
       " array([ 0.07342813], dtype=float32),\n",
       " array([ 0.01643183], dtype=float32),\n",
       " array([ 0.03088559], dtype=float32),\n",
       " array([ 0.01554934], dtype=float32),\n",
       " array([ 0.01507742], dtype=float32),\n",
       " array([ 0.00031432], dtype=float32),\n",
       " array([ 0.00217939], dtype=float32),\n",
       " array([ 0.01414932], dtype=float32),\n",
       " array([ 0.0986452], dtype=float32),\n",
       " array([ 0.0885804], dtype=float32),\n",
       " array([ 0.06658525], dtype=float32),\n",
       " array([ 0.00185657], dtype=float32),\n",
       " array([ 0.06945257], dtype=float32),\n",
       " array([ 0.01681184], dtype=float32),\n",
       " array([ 0.01150321], dtype=float32),\n",
       " array([ 0.00186705], dtype=float32),\n",
       " array([ 0.00018567], dtype=float32),\n",
       " array([ 0.03537747], dtype=float32),\n",
       " array([ 0.12668797], dtype=float32),\n",
       " array([ 0.05149113], dtype=float32),\n",
       " array([ 0.00429978], dtype=float32),\n",
       " array([ 0.05980483], dtype=float32),\n",
       " array([ 0.04307302], dtype=float32),\n",
       " array([ 0.02847574], dtype=float32),\n",
       " array([ 0.05931723], dtype=float32),\n",
       " array([ 0.00015696], dtype=float32),\n",
       " array([ 0.02144874], dtype=float32),\n",
       " array([ 0.04140513], dtype=float32),\n",
       " array([ 0.10692728], dtype=float32),\n",
       " array([ 0.0568831], dtype=float32),\n",
       " array([ 0.01507497], dtype=float32),\n",
       " array([ 0.03988998], dtype=float32),\n",
       " array([ 0.05558521], dtype=float32),\n",
       " array([ 0.0092902], dtype=float32),\n",
       " array([ 0.04610678], dtype=float32),\n",
       " array([ 0.08096261], dtype=float32),\n",
       " array([ 0.02274275], dtype=float32),\n",
       " array([ 0.00508162], dtype=float32),\n",
       " array([ 0.0448305], dtype=float32),\n",
       " array([ 0.00035804], dtype=float32),\n",
       " array([ 0.00147199], dtype=float32),\n",
       " array([ 0.02202693], dtype=float32),\n",
       " array([ 0.04189072], dtype=float32),\n",
       " array([ 0.14135163], dtype=float32),\n",
       " array([  6.77353528e-05], dtype=float32),\n",
       " array([ 0.00199096], dtype=float32),\n",
       " array([ 0.06571688], dtype=float32),\n",
       " array([ 0.00434023], dtype=float32),\n",
       " array([ 0.00044447], dtype=float32),\n",
       " array([ 0.11985342], dtype=float32),\n",
       " array([ 0.06247378], dtype=float32),\n",
       " array([ 0.0038974], dtype=float32),\n",
       " array([ 0.04758948], dtype=float32),\n",
       " array([ 0.02692348], dtype=float32),\n",
       " array([ 0.01093686], dtype=float32),\n",
       " array([ 0.01095393], dtype=float32),\n",
       " array([  3.08689341e-05], dtype=float32),\n",
       " array([ 0.00676659], dtype=float32),\n",
       " array([ 0.06541882], dtype=float32),\n",
       " array([ 0.02556968], dtype=float32),\n",
       " array([ 0.02654519], dtype=float32),\n",
       " array([ 0.11975032], dtype=float32),\n",
       " array([ 0.00041355], dtype=float32),\n",
       " array([ 0.00041815], dtype=float32),\n",
       " array([ 0.00782929], dtype=float32),\n",
       " array([ 0.00443132], dtype=float32),\n",
       " array([ 0.06214269], dtype=float32),\n",
       " array([  4.17159245e-05], dtype=float32),\n",
       " array([ 0.00674576], dtype=float32),\n",
       " array([ 0.01095923], dtype=float32),\n",
       " array([ 0.00410314], dtype=float32),\n",
       " array([ 0.03375307], dtype=float32),\n",
       " array([ 0.08443716], dtype=float32),\n",
       " array([ 0.00187334], dtype=float32),\n",
       " array([ 0.11931035], dtype=float32),\n",
       " array([ 0.01347861], dtype=float32),\n",
       " array([ 0.00385468], dtype=float32),\n",
       " array([ 0.0264322], dtype=float32),\n",
       " array([ 0.01956775], dtype=float32),\n",
       " array([ 0.03285346], dtype=float32),\n",
       " array([ 0.01041404], dtype=float32),\n",
       " array([ 0.01494129], dtype=float32),\n",
       " array([ 0.01993025], dtype=float32)]"
      ]
     },
     "execution_count": 35,
     "metadata": {},
     "output_type": "execute_result"
    }
   ],
   "source": [
    "loss_history\n",
    "    "
   ]
  },
  {
   "cell_type": "code",
   "execution_count": 91,
   "metadata": {
    "ExecuteTime": {
     "end_time": "2017-11-21T10:22:10.855582Z",
     "start_time": "2017-11-21T10:22:10.849584Z"
    }
   },
   "outputs": [
    {
     "data": {
      "text/plain": [
       "(variable([ 80.,  20.,  10.,  10.,   1.,   0.]),\n",
       " variable([[ -1.05782318e+00,   5.40012321e+01,   1.31523193e+02,\n",
       "              1.46525431e+01,   4.70527709e-01,   7.68254101e-02]]))"
      ]
     },
     "execution_count": 91,
     "metadata": {},
     "output_type": "execute_result"
    }
   ],
   "source": [
    "test_gts[0], test_pred_boxes_all[0]"
   ]
  },
  {
   "cell_type": "code",
   "execution_count": 101,
   "metadata": {
    "ExecuteTime": {
     "end_time": "2017-11-21T10:29:09.573375Z",
     "start_time": "2017-11-21T10:28:28.600063Z"
    }
   },
   "outputs": [
    {
     "data": {
      "text/plain": [
       "[variable([[ 44.42881012,  27.65943909,  43.84106445,  43.95763016,\n",
       "              0.47052771,   0.07682541]]),\n",
       " variable([[ 44.42881012,  27.65943909,  43.84106445,  43.95763016,\n",
       "              0.47052771,   0.07682541]]),\n",
       " variable([[ 44.42881012,  27.65943909,  43.84106445,  43.95763016,\n",
       "              0.47052771,   0.07682541]]),\n",
       " variable([[ 44.42881012,  27.65943909,  43.84106445,  43.95763016,\n",
       "              0.47052771,   0.07682541]]),\n",
       " variable([[ 44.23975372,  25.80445862,  43.7568512 ,  44.47699356,\n",
       "              0.48417383,   0.0721169 ]]),\n",
       " variable([[ 45.23677444,  24.99111176,  44.35557556,  44.30162811,\n",
       "              0.46021998,   0.06956782]]),\n",
       " variable([[ 45.5287323 ,  25.02348328,  44.25506973,  44.40918732,\n",
       "              0.46318325,   0.06918316]]),\n",
       " variable([[ 44.80395508,  27.47998428,  43.8408699 ,  44.34190369,\n",
       "              0.46624374,   0.07873411]]),\n",
       " variable([[ 44.80395508,  27.47998428,  43.8408699 ,  44.34190369,\n",
       "              0.46624374,   0.07873411]]),\n",
       " variable([[ 44.42881012,  27.65943909,  43.84106445,  43.95763016,\n",
       "              0.47052771,   0.07682541]])]"
      ]
     },
     "execution_count": 101,
     "metadata": {},
     "output_type": "execute_result"
    }
   ],
   "source": [
    "pred_box_list = []\n",
    "for i in range(10):     \n",
    "    test_shifts=boxnet(test_imgs[i])\n",
    "    test_shifts = test_shifts[:,:,64,64]\n",
    "    test_shifts =F.reshape(test_shifts,[1,6,1,1])\n",
    "    test_pred_boxes=get_pred_boxes(test_shifts,def_boxes)\n",
    "    pred_box_list.append(test_pred_boxes)\n",
    "    \n",
    "pred_box_list    "
   ]
  },
  {
   "cell_type": "code",
   "execution_count": 102,
   "metadata": {
    "ExecuteTime": {
     "end_time": "2017-11-21T10:31:34.248413Z",
     "start_time": "2017-11-21T10:30:48.270843Z"
    },
    "scrolled": false
   },
   "outputs": [
    {
     "data": {
      "image/png": "[encoded data removed]",
      "text/plain": [
       "<matplotlib.figure.Figure at 0x7f04edac46d8>"
      ]
     },
     "metadata": {},
     "output_type": "display_data"
    },
    {
     "data": {
      "image/png": "[encoded data removed]",
      "text/plain": [
       "<matplotlib.figure.Figure at 0x7f04eda6ccc0>"
      ]
     },
     "metadata": {},
     "output_type": "display_data"
    },
    {
     "data": {
      "image/png": "[encoded data removed]",
      "text/plain": [
       "<matplotlib.figure.Figure at 0x7f050183d2e8>"
      ]
     },
     "metadata": {},
     "output_type": "display_data"
    },
    {
     "data": {
      "image/png": "[encoded data removed]",
      "text/plain": [
       "<matplotlib.figure.Figure at 0x7f04eda3fc18>"
      ]
     },
     "metadata": {},
     "output_type": "display_data"
    },
    {
     "data": {
      "image/png": "[encoded data removed]",
      "text/plain": [
       "<matplotlib.figure.Figure at 0x7f04edac0a20>"
      ]
     },
     "metadata": {},
     "output_type": "display_data"
    },
    {
     "data": {
      "image/png": "[encoded data removed]",
      "text/plain": [
       "<matplotlib.figure.Figure at 0x7f0501b1eef0>"
      ]
     },
     "metadata": {},
     "output_type": "display_data"
    },
    {
     "data": {
      "image/png": "[encoded data removed]",
      "text/plain": [
       "<matplotlib.figure.Figure at 0x7f04ed9e7550>"
      ]
     },
     "metadata": {},
     "output_type": "display_data"
    },
    {
     "data": {
      "image/png": "[encoded data removed]",
      "text/plain": [
       "<matplotlib.figure.Figure at 0x7f04ed9c9438>"
      ]
     },
     "metadata": {},
     "output_type": "display_data"
    },
    {
     "data": {
      "image/png": "[encoded data removed]",
      "text/plain": [
       "<matplotlib.figure.Figure at 0x7f04ed96c710>"
      ]
     },
     "metadata": {},
     "output_type": "display_data"
    },
    {
     "data": {
      "image/png": "[encoded data removed]",
      "text/plain": [
       "<matplotlib.figure.Figure at 0x7f04ed992fd0>"
      ]
     },
     "metadata": {},
     "output_type": "display_data"
    }
   ],
   "source": [
    "for i in range(10): \n",
    "    img_test = test_imgs[i]\n",
    "    ax=draw_boxes(img_test,def_boxes)\n",
    "    draw_pred_boxes(test_pred_boxes, img_test, ax)\n"
   ]
  },
  {
   "cell_type": "code",
   "execution_count": 97,
   "metadata": {
    "ExecuteTime": {
     "end_time": "2017-11-21T10:22:32.883688Z",
     "start_time": "2017-11-21T10:22:32.681832Z"
    }
   },
   "outputs": [
    {
     "data": {
      "image/png": "[encoded data removed]",
      "text/plain": [
       "<matplotlib.figure.Figure at 0x7f04edb2c240>"
      ]
     },
     "metadata": {},
     "output_type": "display_data"
    }
   ],
   "source": [
    "\n"
   ]
  },
  {
   "cell_type": "code",
   "execution_count": null,
   "metadata": {
    "ExecuteTime": {
     "end_time": "2017-11-21T10:21:18.241304Z",
     "start_time": "2017-11-21T10:21:18.236345Z"
    }
   },
   "outputs": [],
   "source": []
  },
  {
   "cell_type": "code",
   "execution_count": null,
   "metadata": {
    "collapsed": true
   },
   "outputs": [],
   "source": []
  }
 ],
 "metadata": {
  "kernelspec": {
   "display_name": "Python 3",
   "language": "python",
   "name": "python3"
  },
  "language_info": {
   "codemirror_mode": {
    "name": "ipython",
    "version": 3
   },
   "file_extension": ".py",
   "mimetype": "text/x-python",
   "name": "python",
   "nbconvert_exporter": "python",
   "pygments_lexer": "ipython3",
   "version": "3.5.2"
  },
  "toc": {
   "colors": {
    "hover_highlight": "#DAA520",
    "navigate_num": "#000000",
    "navigate_text": "#333333",
    "running_highlight": "#FF0000",
    "selected_highlight": "#FFD700",
    "sidebar_border": "#EEEEEE",
    "wrapper_background": "#FFFFFF"
   },
   "moveMenuLeft": true,
   "nav_menu": {
    "height": "228px",
    "width": "252px"
   },
   "navigate_menu": true,
   "number_sections": false,
   "sideBar": true,
   "threshold": 4,
   "toc_cell": true,
   "toc_position": {
    "height": "809px",
    "left": "0px",
    "right": "1653px",
    "top": "107px",
    "width": "212px"
   },
   "toc_section_display": "block",
   "toc_window_display": true,
   "widenNotebook": false
  },
  "varInspector": {
   "cols": {
    "lenName": 16,
    "lenType": 16,
    "lenVar": 40
   },
   "kernels_config": {
    "python": {
     "delete_cmd_postfix": "",
     "delete_cmd_prefix": "del ",
     "library": "var_list.py",
     "varRefreshCmd": "print(var_dic_list())"
    },
    "r": {
     "delete_cmd_postfix": ") ",
     "delete_cmd_prefix": "rm(",
     "library": "var_list.r",
     "varRefreshCmd": "cat(var_dic_list()) "
    }
   },
   "types_to_exclude": [
    "module",
    "function",
    "builtin_function_or_method",
    "instance",
    "_Feature"
   ],
   "window_display": false
  }
 },
 "nbformat": 4,
 "nbformat_minor": 2
}
