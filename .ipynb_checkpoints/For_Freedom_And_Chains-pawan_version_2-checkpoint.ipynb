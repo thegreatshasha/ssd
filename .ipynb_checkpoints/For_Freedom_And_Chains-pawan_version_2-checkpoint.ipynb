{
 "cells": [
  {
   "cell_type": "code",
   "execution_count": null,
   "metadata": {
    "collapsed": true
   },
   "outputs": [],
   "source": []
  },
  {
   "cell_type": "markdown",
   "metadata": {},
   "source": [
    "## Generating Dataset\n",
    "Let's create the toy dataset. We'll have a 1 16x16 image with a 4x4 square placed somewhere inside."
   ]
  },
  {
   "cell_type": "code",
   "execution_count": 1,
   "metadata": {
    "ExecuteTime": {
     "end_time": "2017-11-16T07:11:40.029044Z",
     "start_time": "2017-11-16T07:11:39.391860Z"
    }
   },
   "outputs": [
    {
     "data": {
      "image/png": "[encoded data removed]",
      "text/plain": [
       "<matplotlib.figure.Figure at 0x7f0778d8f278>"
      ]
     },
     "metadata": {},
     "output_type": "display_data"
    }
   ],
   "source": [
    "import chainer\n",
    "import numpy as np\n",
    "import matplotlib.pyplot as plt\n",
    "# %matplotlib notebook\n",
    "\n",
    "def get_random_image():\n",
    "    # Returns random image along with its ground truth\n",
    "    img = np.zeros((1,3,32,32), dtype=np.float32)\n",
    "    \n",
    "    gts = []\n",
    "    \n",
    "    for i in range(1):\n",
    "        # Choose random coordinate, this can also be run in a loop\n",
    "        width = 4\n",
    "        height = 4\n",
    "        pos_r = np.random.randint(0, img.shape[2]-height-1)\n",
    "        pos_c = np.random.randint(0, img.shape[3]-width-1)\n",
    "        img[0,:,pos_r:pos_r+height,pos_c:pos_c+width]=1\n",
    "        #print(pos_r, pos_c)\n",
    "\n",
    "        cx = pos_c + width/2.0\n",
    "        cy = pos_r + height/2.0\n",
    "        \n",
    "        box = [cx, cy, width, height, 1, 0]\n",
    "        \n",
    "        gts.append(box)\n",
    "    \n",
    "    # Create ground truth object\n",
    "    gt = chainer.Variable(np.array(gts, dtype=np.float32))\n",
    "    return img, gt\n",
    "\n",
    "#------------------------------------------------------------\n",
    "\n",
    "img = np.zeros((1,3,32,32), dtype=np.float32)\n",
    "    \n",
    "gts = []\n",
    "\n",
    "for i in range(1):\n",
    "    # Choose random coordinate, this can also be run in a loop\n",
    "    width = 4\n",
    "    height = 4\n",
    "    pos_r = 15\n",
    "    pos_c = 15\n",
    "    img[0,:,pos_r:pos_r+height,pos_c:pos_c+width]=1\n",
    "    #print(pos_r, pos_c)\n",
    "\n",
    "    cx = pos_c + width/2.0\n",
    "    cy = pos_r + height/2.0\n",
    "\n",
    "    box = [cx, cy, width, height, 1, 0]\n",
    "\n",
    "    gts.append(box)\n",
    "\n",
    "# Create ground truth object\n",
    "gt = chainer.Variable(np.array(gts, dtype=np.float32))\n",
    "\n",
    "#_------------------------------------------------------------\n",
    "\n",
    "\n",
    "\n",
    "\n",
    "for i in range(1):\n",
    "    # Initialize the image\n",
    "#     img, gt = get_random_image()\n",
    "    \n",
    "    # Visualize the entire thing\n",
    "    plt.imshow(img[0,0,:,:])\n",
    "    plt.show()"
   ]
  },
  {
   "cell_type": "markdown",
   "metadata": {},
   "source": [
    "## Generating Feature maps\n",
    "Now that we have the image, we'll go over it one by one and generate feature maps of size 4x4."
   ]
  },
  {
   "cell_type": "code",
   "execution_count": 2,
   "metadata": {
    "ExecuteTime": {
     "end_time": "2017-11-16T07:11:40.046824Z",
     "start_time": "2017-11-16T07:11:40.030721Z"
    },
    "collapsed": true
   },
   "outputs": [],
   "source": [
    "from chainer import Chain\n",
    "import chainer\n",
    "import chainer.functions as F\n",
    "import chainer.links as L\n",
    "\n",
    "class ConvNet(Chain):\n",
    "    def __init__(self):\n",
    "        super(ConvNet, self).__init__(\n",
    "            l1=L.Convolution2D(None,32,ksize=(3,3),stride=1,pad=1),\n",
    "            l2=L.Convolution2D(32,32,ksize=(3,3),stride=1,pad=1),\n",
    "            l3=L.Convolution2D(32,32,ksize=(3,3),stride=1,pad=1)\n",
    "        )\n",
    "        \n",
    "    def __call__(self, x):\n",
    "        h1 = F.relu(self.l1(x))\n",
    "        h2 = F.max_pooling_2d(h1, 2)\n",
    "        h3 = F.relu(self.l2(h2))\n",
    "#         h4 = F.max_pooling_2d(h3, 2)\n",
    "#         h5 = F.relu(self.l3(h4))\n",
    "#         h6 = F.max_pooling_2d(h5, 2)\n",
    "        return self.l3(F.sigmoid(h3))"
   ]
  },
  {
   "cell_type": "markdown",
   "metadata": {},
   "source": [
    "## Linear Convolution to generate shifts"
   ]
  },
  {
   "cell_type": "code",
   "execution_count": 3,
   "metadata": {
    "ExecuteTime": {
     "end_time": "2017-11-16T07:11:40.195409Z",
     "start_time": "2017-11-16T07:11:40.048173Z"
    }
   },
   "outputs": [
    {
     "data": {
      "text/plain": [
       "(1, 6, 1, 1)"
      ]
     },
     "execution_count": 3,
     "metadata": {},
     "output_type": "execute_result"
    }
   ],
   "source": [
    "class BoxNet(Chain):\n",
    "    def __init__(self, predictor):\n",
    "        super(BoxNet, self).__init__(\n",
    "            l1=L.Convolution2D(None,6,ksize=(3,3),stride=1,pad=1)\n",
    "        )\n",
    "        self.predictor = predictor\n",
    "        \n",
    "    def __call__(self, x):\n",
    "        h1 = self.l1(self.predictor(x))\n",
    "        return h1\n",
    "    \n",
    "convnet = ConvNet()\n",
    "boxnet = BoxNet(ConvNet())\n",
    "fm = convnet(img)\n",
    "shifts = boxnet(img)\n",
    "fm.shape\n",
    "shifts= shifts[:,:,8,8]\n",
    "shifts =F.reshape(shifts,[1,6,1,1])\n",
    "shifts.shape"
   ]
  },
  {
   "cell_type": "markdown",
   "metadata": {},
   "source": [
    "## Draw generated default boxes on top of the original image"
   ]
  },
  {
   "cell_type": "code",
   "execution_count": 4,
   "metadata": {
    "ExecuteTime": {
     "end_time": "2017-11-16T07:11:40.320778Z",
     "start_time": "2017-11-16T07:11:40.197668Z"
    },
    "collapsed": true
   },
   "outputs": [],
   "source": [
    "from matplotlib import patches\n",
    "import random \n",
    "def defaultgen(I, F, width, height):\n",
    "    \"\"\"\n",
    "    Generates an array of default boxes: Chainer TESTED\n",
    "    \n",
    "    Args:\n",
    "        I: Input image tensor (N,channels,rows,cols)\n",
    "        F: Feature map tensor to generate default boxes for\n",
    "        width: Width of the box\n",
    "        height: Height of the box\n",
    "        \n",
    "    Returns:\n",
    "        db: Default boxes tensor, flattened\n",
    "    \"\"\"\n",
    "    scale = (I.shape[2] / F.shape[2])\n",
    "    offset = np.ones((2,F.shape[2],F.shape[3]), dtype=np.float32)\n",
    "    iterator = np.flip(np.indices((F.shape[2],F.shape[3])), axis=0).astype(np.float32)\n",
    "    \n",
    "    xys = offset * ((scale-1)/2) + iterator * scale\n",
    "    xys = np.moveaxis(xys,0,2)\n",
    "    ws = np.full((F.shape[2],F.shape[3],1), width, dtype=np.float32)\n",
    "    hs = np.full((F.shape[2],F.shape[3],1), height,dtype=np.float32)\n",
    "    class_scores = np.zeros((F.shape[2],F.shape[3],2), dtype=np.float32)\n",
    "    db = np.dstack([xys, ws, hs, class_scores])\n",
    "   \n",
    "    db = db[8,8,:]\n",
    "    db = db.reshape([1,1,6])\n",
    "    \n",
    "    return chainer.Variable(db.reshape((db.shape[0] * db.shape[1], 6)))\n",
    "\n",
    "def center_to_coords(box):\n",
    "    \"\"\" \n",
    "    Converts bounding box from (cx, cy, w, h) format to (x1, y1, x2, y2) format\n",
    "    \n",
    "    Args:\n",
    "        box: 6d numpy array\n",
    "        \n",
    "    Returns:\n",
    "        box_transformed: Box in the second format\n",
    "    \n",
    "    \"\"\"\n",
    "    box_transformed = np.array([box[0]-box[2]/2.0, box[1]-box[3]/2.0, box[0]+box[2]/2.0, box[1]+box[3]/2.0, box[4], box[5]])\n",
    "    return box_transformed\n",
    "\n",
    "\n",
    "def draw_boxes(img, boxes):\n",
    "    plt.figure()\n",
    "    ax = plt.axes()\n",
    "\n",
    "    for box in boxes:\n",
    "        box = center_to_coords(box.data)\n",
    "        ax.imshow(img[0,0,:,:])\n",
    "        p = patches.Rectangle((box[0], box[1]), box[2]-box[0], box[3]-box[1], fill=False, color = 'red')\n",
    "        ax.add_patch(p)\n",
    "\n",
    "    plt.show()\n",
    "\n",
    "# def_boxes = defaultgen(img, fm, 10,10)\n",
    "# def_boxes[0][2:4]\n",
    "# draw_boxes(img, def_boxes)\n",
    "# def_boxes.dtype\n"
   ]
  },
  {
   "cell_type": "code",
   "execution_count": null,
   "metadata": {
    "ExecuteTime": {
     "end_time": "2017-11-16T05:42:31.405317Z",
     "start_time": "2017-11-16T05:42:31.397990Z"
    },
    "collapsed": true
   },
   "outputs": [],
   "source": []
  },
  {
   "cell_type": "markdown",
   "metadata": {},
   "source": [
    "### This tiling is really bad. Most of the default boxes will not overlap!\n",
    "* We need lot more boxes.\n",
    "* We need a large enough receptive field."
   ]
  },
  {
   "cell_type": "markdown",
   "metadata": {},
   "source": [
    "## Draw predictions on top of the original image\n",
    "Now with the shift tensor we have obtained from running convnet and boxnet together, let's offset the default boxes."
   ]
  },
  {
   "cell_type": "code",
   "execution_count": 6,
   "metadata": {
    "ExecuteTime": {
     "end_time": "2017-11-16T07:12:05.958397Z",
     "start_time": "2017-11-16T07:12:05.848948Z"
    },
    "collapsed": true
   },
   "outputs": [],
   "source": [
    "def get_pred_boxes(shift_vals, default_boxes ): \n",
    "    \"\"\"\n",
    "    Get predicted boxes by combining shift values to default boxes\n",
    "    Input: \n",
    "\n",
    "    shift_values : Shifts generated by the network  NDarray (None, Num of Default boxes, 4+num of classes)\n",
    "    Default boxes  : Default boxes generated by the network NDarray (None, Num of Default boxes, 4+num of classes)\n",
    "\n",
    "    Output: \n",
    "\n",
    "    Predicted boxes  : Predicted boxes, same shape as default boxes  NDarray (None, Num of Default boxes, 4+num of classes)\n",
    "\n",
    "    \"\"\"\n",
    "    \n",
    "    shift_val_shape= default_boxes.shape\n",
    "    shift_vals= F.swapaxes(shift_vals,1,3)\n",
    "    shift_vals= F.reshape(shift_vals,shift_val_shape)\n",
    "    shifts = shift_vals \n",
    "    def_boxes= default_boxes\n",
    "    \n",
    "    \n",
    "    cx_pred = (shifts[:,0]*shifts[:,2])+def_boxes[:,0]\n",
    "    cy_pred = (shifts[:,1]*shifts[:,2])+def_boxes[:,1]\n",
    "    \n",
    "    H_pred = F.exp(shifts[:,2])*def_boxes[:,2]\n",
    "    W_pred = F.exp(shifts[:,3])*def_boxes[:,3]\n",
    "    \n",
    "    class1 = shifts[:,4]\n",
    "    class2 = shifts[:,5]\n",
    "    \n",
    "    \n",
    "    pred_boxes = F.vstack((cx_pred,cy_pred,W_pred,H_pred, class1, class2))\n",
    "    pred_boxes = F.transpose(pred_boxes)\n",
    "    \n",
    "    return  pred_boxes \n",
    "\n",
    "\n",
    "def draw_pred_boxes(prediction_boxes, default_boxes): \n",
    "    \"\"\"Draw predicted boxes on the original image \"\"\"\n",
    "    \n",
    "    pred_boxes= prediction_boxes\n",
    "    def_boxes =default_boxes.data\n",
    "    pred_boxes = get_pred_boxes(shifts, def_boxes)\n",
    "     \n",
    "    boxes = pred_boxes.data\n",
    "    \n",
    "    plt.figure()\n",
    "    ax = plt.axes()\n",
    "\n",
    "    for i in range(def_boxes.shape[0]):\n",
    "        box = def_boxes[i]\n",
    "        box2 =boxes[i]            \n",
    "        box = center_to_coords(box)\n",
    "        box2 = center_to_coords(box2)            \n",
    "        ax.imshow(img[0,0,:,:])\n",
    "\n",
    "        default_boxes = patches.Rectangle((box[0], box[1]), box[2]-box[0], box[3]-box[1], fill=False, color = 'red')\n",
    "        pred_boxes = patches.Rectangle((box2[0], box2[1]), box2[2]-box2[0], box2[3]-box2[1], fill=False, color = 'yellow')\n",
    "\n",
    "        ax.add_patch(default_boxes)\n",
    "        ax.add_patch(pred_boxes)\n",
    "\n",
    "\n",
    "    plt.show()\n",
    "#     plt.savefig('shifts')\n",
    "\n",
    "\n",
    "\n",
    "\n",
    "\n",
    "#pred_boxes = get_pred_boxes(shifts, def_boxes)\n",
    "#draw_pred_boxes(pred_boxes, def_boxes)\n",
    "\n"
   ]
  },
  {
   "cell_type": "code",
   "execution_count": 7,
   "metadata": {
    "ExecuteTime": {
     "end_time": "2017-11-16T07:12:06.269547Z",
     "start_time": "2017-11-16T07:12:06.260839Z"
    }
   },
   "outputs": [
    {
     "ename": "NameError",
     "evalue": "name 'pred_boxes' is not defined",
     "output_type": "error",
     "traceback": [
      "\u001b[0;31m---------------------------------------------------------------------------\u001b[0m",
      "\u001b[0;31mNameError\u001b[0m                                 Traceback (most recent call last)",
      "\u001b[0;32m<ipython-input-7-be3e2c333497>\u001b[0m in \u001b[0;36m<module>\u001b[0;34m()\u001b[0m\n\u001b[0;32m----> 1\u001b[0;31m \u001b[0mpred_boxes\u001b[0m\u001b[0;34m.\u001b[0m\u001b[0mshape\u001b[0m\u001b[0;34m,\u001b[0m \u001b[0mdef_boxes\u001b[0m\u001b[0;34m.\u001b[0m\u001b[0mshape\u001b[0m\u001b[0;34m\u001b[0m\u001b[0m\n\u001b[0m",
      "\u001b[0;31mNameError\u001b[0m: name 'pred_boxes' is not defined"
     ]
    }
   ],
   "source": [
    "pred_boxes.shape, def_boxes.shape"
   ]
  },
  {
   "cell_type": "code",
   "execution_count": null,
   "metadata": {
    "ExecuteTime": {
     "end_time": "2017-11-16T05:52:49.719976Z",
     "start_time": "2017-11-16T05:52:49.714170Z"
    },
    "collapsed": true
   },
   "outputs": [],
   "source": []
  },
  {
   "cell_type": "code",
   "execution_count": null,
   "metadata": {
    "ExecuteTime": {
     "end_time": "2017-11-16T05:52:50.458684Z",
     "start_time": "2017-11-16T05:52:50.451800Z"
    },
    "collapsed": true
   },
   "outputs": [],
   "source": [
    "\n"
   ]
  },
  {
   "cell_type": "code",
   "execution_count": null,
   "metadata": {
    "collapsed": true
   },
   "outputs": [],
   "source": []
  },
  {
   "cell_type": "markdown",
   "metadata": {},
   "source": [
    "## Do matching"
   ]
  },
  {
   "cell_type": "code",
   "execution_count": 8,
   "metadata": {
    "ExecuteTime": {
     "end_time": "2017-11-16T07:12:09.129424Z",
     "start_time": "2017-11-16T07:12:09.025091Z"
    },
    "collapsed": true
   },
   "outputs": [],
   "source": [
    "# Let's define some useful functions first.\n",
    "# Work with chainer variables for instahook.\n",
    "#from chainer.functions import max, min, hstack\n",
    "\n",
    "def iou_cpu(boxA, boxB):\n",
    "    \"\"\"\n",
    "    Calculates intersection over union score of two rectangles, none of them rotated.: TESTED\n",
    "    \n",
    "    Args:\n",
    "        boxA: Box1\n",
    "        boxB: Box2\n",
    "        \n",
    "    Returns:\n",
    "        iou (scalar): IOU score of the two boxes\n",
    "    \"\"\"\n",
    "        # determine the (x, y)-coordinates of the intersection rectangle\n",
    "        # Maybe we can accelerate this by writing this as a cython extension\n",
    "        \n",
    "    boxA = center_to_coords(boxA)\n",
    "    boxB = center_to_coords(boxB)\n",
    "    \n",
    "    xA = max(boxA[0], boxB[0])\n",
    "    yA = max(boxA[1], boxB[1])\n",
    "    xB = min(boxA[2], boxB[2])\n",
    "    yB = min(boxA[3], boxB[3])\n",
    "    \n",
    "    # compute the area of intersection rectangle\n",
    "    interArea = max((xB - xA), 0) * max((yB - yA), 0)\n",
    "    \n",
    "    # compute the area of both the prediction and ground-truth\n",
    "    # rectangles\n",
    "    boxa_area = (boxA[2] - boxA[0]) * (boxA[3] - boxA[1])\n",
    "    boxb_area = (boxB[2] - boxB[0]) * (boxB[3] - boxB[1])\n",
    "    \n",
    "    # compute the intersection over union by taking the intersection\n",
    "    # area and dividing it by the sum of prediction + ground-truth\n",
    "    # areas - the interesection area\n",
    "    #print(interArea, boxa_area, boxb_area)\n",
    "    iou = interArea / (boxa_area + boxb_area - interArea)\n",
    "\n",
    "    # return the intersection over union value\n",
    "    return iou\n",
    "\n",
    "def find_match_indices_cpu(pred_boxes, gt): \n",
    "    \"\"\"\n",
    "    Find matches between ground truth boxes and boxes predicted by network.\n",
    "    \n",
    "    Args:\n",
    "        gt (): Tensor of ground truth boxes\n",
    "        pred_boxes (): Tensor of predicted boxes\n",
    "        \n",
    "    Returns:\n",
    "        pos_inds: Indices of the connectivity matrix where there is a positive match\n",
    "        neg_inds: Indices of the connectivity matrix where there is a negative match\n",
    "    \"\"\"\n",
    "    \n",
    "    pos_iou_score =  np.zeros((gt.shape[0], pred_boxes.shape[0]), dtype=np.float32)\n",
    "    neg_iou_score = np.ones((gt.shape[0], pred_boxes.shape[0]), dtype=np.float32)\n",
    "    \n",
    "    thresh = 0.0\n",
    "    \n",
    "    for i in range(gt.shape[0]): \n",
    "        for j in range(pred_boxes.shape[0]): \n",
    "            iou_score  = iou_cpu(gt[i].data, pred_boxes[j].data)\n",
    "            \n",
    "            if iou_score > thresh:  \n",
    "                pos_iou_score[i,j] = iou_score\n",
    "            else :\n",
    "                neg_iou_score[i,j] = iou_score\n",
    "    \n",
    "    pos_inds  = np.argwhere(pos_iou_score>thresh)\n",
    "    neg_inds = np.argwhere(neg_iou_score<=thresh)\n",
    "    neg_val_indices = np.where(neg_iou_score<=thresh)\n",
    "    neg_values = np.array([neg_val_indices[0], \n",
    "                           neg_val_indices[1],\n",
    "                           neg_iou_score[np.where(neg_iou_score<=thresh)]])\n",
    "\n",
    "\n",
    "    neg_values = neg_values.transpose()\n",
    "    neg_values= np.flipud(neg_values[neg_values[:,2].argsort()])\n",
    "    number_of_neg_examples  = len(pos_inds)*3 \n",
    "    neg_values = neg_values[0:number_of_neg_examples,: ]   \n",
    "    neg_inds = tuple(neg_inds)\n",
    "\n",
    "    return  pos_inds, neg_inds, pos_iou_score, neg_iou_score"
   ]
  },
  {
   "cell_type": "code",
   "execution_count": 9,
   "metadata": {
    "ExecuteTime": {
     "end_time": "2017-11-16T07:12:09.467719Z",
     "start_time": "2017-11-16T07:12:09.465447Z"
    },
    "collapsed": true
   },
   "outputs": [],
   "source": [
    "# pos_inds, neg_inds, pos_iou_score, neg_iou_score = find_match_indices_cpu( pred_boxes, gt)\n",
    "# pos_inds\n",
    "# pos_iou_score"
   ]
  },
  {
   "cell_type": "markdown",
   "metadata": {},
   "source": [
    "Ok let's try some examples now and see if it works. Copy pasting some unit tests from before."
   ]
  },
  {
   "cell_type": "code",
   "execution_count": 10,
   "metadata": {
    "ExecuteTime": {
     "end_time": "2017-11-16T07:12:09.983903Z",
     "start_time": "2017-11-16T07:12:09.977391Z"
    },
    "collapsed": true
   },
   "outputs": [],
   "source": [
    "# # In the default network, these variables will be parameterized\n",
    "# gt_test = chainer.Variable(np.array([[0.5,0.5,3,3,0,0]], dtype=np.float32))\n",
    "# pred_boxes_test = chainer.Variable(np.array([[0,0,4,2,0,0], [2.5,2.5,3,3,0,0], [12.5,2.5,3,3,0,0]], dtype=np.float32))\n",
    "# #def_boxes = chainer.Variable(np.array([[0,0,4,2,0,0], [2.5,2.5,3,3,0,0], [12.5,2.5,3,3,0,0]], dtype=np.float32))\n",
    "\n",
    "# iou_cpu(gt_test[0].data, pred_boxes_test[1].data)\n",
    "# pos_inds, neg_inds, pos_score, neg_score = find_match_indices_cpu(pred_boxes_test, gt_test)\n",
    "\n",
    "# #pos_inds\n",
    "# np.testing.assert_almost_equal(iou_cpu(gt_test[0].data, pred_boxes_test[0].data), 0.54, 1,'IOU calculation not working')\n",
    "# np.testing.assert_array_equal(pos_inds[0], [0, 0], 'Posititve matching not working')\n",
    "# #np.testing.assert_array_equal(neg_inds[0], [0, 1], 'Negative matching not working')\n",
    "# #np.testing.assert_array_equal(neg_inds[1], [0, 2], 'Positive matching not working')\n",
    "\n",
    "# print('Everything works')\n",
    "# #box1 = gt[0]\n",
    "# #box2 = pred_boxes[0]"
   ]
  },
  {
   "cell_type": "markdown",
   "metadata": {},
   "source": [
    "Ok/"
   ]
  },
  {
   "cell_type": "markdown",
   "metadata": {},
   "source": [
    "## Compute regression loss from indices (brute force for loop cpu)\n",
    "* Run for loop over all the positive indices.\n",
    "* Calculate relative shift vector for ground truth.\n",
    "* Regress for relative shift vector with prediction shift vector."
   ]
  },
  {
   "cell_type": "code",
   "execution_count": 11,
   "metadata": {
    "ExecuteTime": {
     "end_time": "2017-11-16T07:12:10.614580Z",
     "start_time": "2017-11-16T07:12:10.571869Z"
    },
    "collapsed": true
   },
   "outputs": [],
   "source": [
    "from chainer.functions import log, hstack, huber_loss\n",
    "\n",
    "def normalize_shift(box, def_box):\n",
    "    \"\"\"\n",
    "    Scales down absolute shifts, % for centers, log for height and width.\n",
    "    \n",
    "    Args:\n",
    "        box: 6x1 bounding box coordinates\n",
    "        def_box: 6x1 reference box coordinates\n",
    "        \n",
    "    Returns:\n",
    "        normalized_shift_vector: 4x1 normalized shift vector. Note that we discard the last 2 channels.\n",
    "    \"\"\"\n",
    "    tx = (box[0] - def_box[0])/def_box[2]\n",
    "    ty = (box[1] - def_box[1])/def_box[3]\n",
    "    tw = log(box[2]/def_box[2])\n",
    "    th = log(box[3]/def_box[3])\n",
    "    \n",
    "    return hstack([tx, ty, tw, th])\n",
    "    \n",
    "\n",
    "def regression_loss(pred_box, gt_box, def_box):\n",
    "    \"\"\"\n",
    "    Calculates regression loss between two boxes w.r.t a reference default box.\n",
    "    \n",
    "    Args:\n",
    "        pred_box: 6x1 bounding box predicted by the network\n",
    "        gt_box: 6x1 bounding box overlapping with pred_box\n",
    "        def_box: 6x1 bounding box with same index as pred_box\n",
    "        \n",
    "    Returns:\n",
    "        reg_loss: Scalar of huber loss between two vectors\n",
    "    \"\"\"\n",
    "    print(pred_box.shape, gt_box.shape)\n",
    "    %pdb\n",
    "    ydiff = pred_box[1] - gt_box[1]\n",
    "    \n",
    "    return ydiff.reshape(1)\n",
    "    \n",
    "    #pred_shift = normalize_shift(pred_box, def_box).reshape((1, 4))\n",
    "    #gt_shift = normalize_shift(gt_box, def_box).reshape((1, 4))\n",
    "    \n",
    "    #return huber_loss(pred_shift, gt_shift, delta=0.5)"
   ]
  },
  {
   "cell_type": "markdown",
   "metadata": {},
   "source": [
    "So let's try it for the boxes above and see if it actually works."
   ]
  },
  {
   "cell_type": "markdown",
   "metadata": {},
   "source": [
    "Awesome. No bugs. Still have to check it for logical consistency though. Moving on to implement classification loss"
   ]
  },
  {
   "cell_type": "markdown",
   "metadata": {},
   "source": [
    "## Compute classification loss from indices (brute force for loop cpu). All DONE!"
   ]
  },
  {
   "cell_type": "code",
   "execution_count": 12,
   "metadata": {
    "ExecuteTime": {
     "end_time": "2017-11-16T07:12:11.458712Z",
     "start_time": "2017-11-16T07:12:11.432331Z"
    },
    "collapsed": true
   },
   "outputs": [],
   "source": [
    "from chainer.functions import softmax, log, matmul\n",
    "\n",
    "def soft_max(x): \n",
    "    \n",
    "    x = x.reshape([1,2])\n",
    "    soft_score  = F.softmax(x)\n",
    "    #soft_score =soft_score.reshape([2])\n",
    "    return soft_score\n",
    "\n",
    "def classification_loss(pred_box, gt_box, switch):\n",
    "    \"\"\"\n",
    "    Calculates classification loss between two predicted and true box.\n",
    "    \n",
    "    Args:\n",
    "        pred_box: 6x1 box, last two are classification scores\n",
    "        gt_box: 6x1 box, last two are classification scores\n",
    "        switch: Positive or negative indicator\n",
    "        \n",
    "    Returns:\n",
    "        loss: Scalar positive or negative cross entropy loss. Only one is active at a time.\n",
    "    \"\"\"\n",
    "    pred_prob = soft_max(pred_box[4:6])\n",
    "    gt_prob =soft_max(gt_box[4:6])\n",
    "    \n",
    "    pos_loss = -matmul(gt_prob, log(pred_prob).transpose())\n",
    "    neg_loss = -matmul(gt_prob, log(1.0 - pred_prob).transpose())\n",
    "    \n",
    "    loss = switch * pos_loss + (1 - switch) * neg_loss\n",
    "    return loss.reshape(1)\n",
    "    \n",
    "#cl1 = classification_loss(pred_boxes[0], gt[0], 1.0)    \n",
    "\n"
   ]
  },
  {
   "cell_type": "code",
   "execution_count": 13,
   "metadata": {
    "ExecuteTime": {
     "end_time": "2017-11-16T07:12:11.652491Z",
     "start_time": "2017-11-16T07:12:11.628163Z"
    },
    "collapsed": true
   },
   "outputs": [],
   "source": [
    "def compute_loss(gt_boxes, pred_boxes, def_boxes, pos_inds, neg_inds):\n",
    "    loss_class = chainer.Variable(np.array([0.], dtype=np.float32))\n",
    "    loss_reg = chainer.Variable(np.array([0.], dtype=np.float32))\n",
    "    \n",
    "    for i, j in pos_inds:\n",
    "        gt_box, pred_box, def_box = gt_boxes[i], pred_boxes[j], def_boxes[j]\n",
    "        \n",
    "        loss_reg += regression_loss(pred_box, gt_box, def_box)\n",
    "        #loss_class += classification_loss(pred_box, gt_box, 1)\n",
    "        \n",
    "    for i, j in neg_inds:\n",
    "        gt_box, pred_box, def_box = gt_boxes[i], pred_boxes[j], def_boxes[j]\n",
    "        \n",
    "        #loss_class += classification_loss(pred_box, gt_box, 0)\n",
    "        \n",
    "    if loss_reg.data<0:\n",
    "        return -1*loss_reg\n",
    "    \n",
    "    \n",
    "    else:       \n",
    "        return loss_reg# + loss_class # Can also do lambda weighting here\n",
    "        "
   ]
  },
  {
   "cell_type": "markdown",
   "metadata": {},
   "source": [
    "## Functional connectivity?"
   ]
  },
  {
   "cell_type": "code",
   "execution_count": 14,
   "metadata": {
    "ExecuteTime": {
     "end_time": "2017-11-16T07:12:13.599293Z",
     "start_time": "2017-11-16T07:12:12.005710Z"
    }
   },
   "outputs": [
    {
     "name": "stderr",
     "output_type": "stream",
     "text": [
      "\r",
      "  0%|          | 0/10 [00:00<?, ?it/s]"
     ]
    },
    {
     "name": "stdout",
     "output_type": "stream",
     "text": [
      "variable([ 15.97893715  16.601614     7.00828552   6.55624485   0.35080093\n",
      "            0.57815111])\n",
      "1\n",
      "(6,) (6,)\n",
      "Automatic pdb calling has been turned ON\n"
     ]
    },
    {
     "data": {
      "image/png": "[encoded data removed]",
      "text/plain": [
       "<matplotlib.figure.Figure at 0x7f072825ce48>"
      ]
     },
     "metadata": {},
     "output_type": "display_data"
    },
    {
     "name": "stderr",
     "output_type": "stream",
     "text": [
      "\r",
      " 10%|█         | 1/10 [00:00<00:01,  6.37it/s]"
     ]
    },
    {
     "name": "stdout",
     "output_type": "stream",
     "text": [
      "variable([ 16.23723412  16.47310066   7.00828552   8.08241653   0.35080093\n",
      "            0.57815111])\n",
      "1\n",
      "(6,) (6,)\n",
      "Automatic pdb calling has been turned OFF\n"
     ]
    },
    {
     "data": {
      "image/png": "[encoded data removed]",
      "text/plain": [
       "<matplotlib.figure.Figure at 0x7f0728298668>"
      ]
     },
     "metadata": {},
     "output_type": "display_data"
    },
    {
     "name": "stderr",
     "output_type": "stream",
     "text": [
      "\r",
      " 20%|██        | 2/10 [00:00<00:01,  6.16it/s]"
     ]
    },
    {
     "name": "stdout",
     "output_type": "stream",
     "text": [
      "variable([ 16.10164261  16.39947891   7.00828552   7.24154234   0.35080093\n",
      "            0.57815111])\n",
      "1\n",
      "(6,) (6,)\n",
      "Automatic pdb calling has been turned ON\n"
     ]
    },
    {
     "data": {
      "image/png": "[encoded data removed]",
      "text/plain": [
       "<matplotlib.figure.Figure at 0x7f0727945d30>"
      ]
     },
     "metadata": {},
     "output_type": "display_data"
    },
    {
     "name": "stderr",
     "output_type": "stream",
     "text": [
      "\r",
      " 30%|███       | 3/10 [00:00<00:01,  6.52it/s]"
     ]
    },
    {
     "name": "stdout",
     "output_type": "stream",
     "text": [
      "variable([ 15.76741695  16.14858437   7.00828552   5.52368069   0.35080093\n",
      "            0.57815111])\n",
      "1\n",
      "(6,) (6,)\n",
      "Automatic pdb calling has been turned OFF\n"
     ]
    },
    {
     "data": {
      "image/png": "[encoded data removed]",
      "text/plain": [
       "<matplotlib.figure.Figure at 0x7f072791dbe0>"
      ]
     },
     "metadata": {},
     "output_type": "display_data"
    },
    {
     "name": "stderr",
     "output_type": "stream",
     "text": [
      "\r",
      " 40%|████      | 4/10 [00:00<00:00,  6.52it/s]"
     ]
    },
    {
     "name": "stdout",
     "output_type": "stream",
     "text": [
      "variable([ 15.13206196  15.2718668    7.00828552   3.30117178   0.35080093\n",
      "            0.57815111])\n",
      "1\n",
      "(6,) (6,)\n",
      "Automatic pdb calling has been turned ON\n"
     ]
    },
    {
     "data": {
      "image/png": "[encoded data removed]",
      "text/plain": [
       "<matplotlib.figure.Figure at 0x7f0727945a58>"
      ]
     },
     "metadata": {},
     "output_type": "display_data"
    },
    {
     "name": "stderr",
     "output_type": "stream",
     "text": [
      "\r",
      " 50%|█████     | 5/10 [00:00<00:00,  6.64it/s]"
     ]
    },
    {
     "name": "stdout",
     "output_type": "stream",
     "text": [
      "variable([ 13.9429245   12.20790291   7.00828552   1.25965106   0.35080093\n",
      "            0.57815111])\n",
      "1\n",
      "(6,) (6,)\n",
      "Automatic pdb calling has been turned OFF\n"
     ]
    },
    {
     "data": {
      "image/png": "[encoded data removed]",
      "text/plain": [
       "<matplotlib.figure.Figure at 0x7f07278c56a0>"
      ]
     },
     "metadata": {},
     "output_type": "display_data"
    },
    {
     "name": "stderr",
     "output_type": "stream",
     "text": [
      "\r",
      " 60%|██████    | 6/10 [00:00<00:00,  6.66it/s]"
     ]
    },
    {
     "name": "stdout",
     "output_type": "stream",
     "text": [
      "variable([ 11.71972084   1.49991322   7.00828552   0.20795964   0.35080093\n",
      "            0.57815111])\n",
      "0\n"
     ]
    },
    {
     "data": {
      "image/png": "[encoded data removed]",
      "text/plain": [
       "<matplotlib.figure.Figure at 0x7f072795b978>"
      ]
     },
     "metadata": {},
     "output_type": "display_data"
    },
    {
     "name": "stderr",
     "output_type": "stream",
     "text": [
      "\r",
      " 70%|███████   | 7/10 [00:01<00:00,  6.60it/s]"
     ]
    },
    {
     "name": "stdout",
     "output_type": "stream",
     "text": [
      "variable([ 11.71972084   1.49991322   7.00828552   0.20795964   0.35080093\n",
      "            0.57815111])\n",
      "0\n"
     ]
    },
    {
     "data": {
      "image/png": "[encoded data removed]",
      "text/plain": [
       "<matplotlib.figure.Figure at 0x7f072785a048>"
      ]
     },
     "metadata": {},
     "output_type": "display_data"
    },
    {
     "name": "stderr",
     "output_type": "stream",
     "text": [
      "\r",
      " 80%|████████  | 8/10 [00:01<00:00,  6.90it/s]"
     ]
    },
    {
     "name": "stdout",
     "output_type": "stream",
     "text": [
      "variable([ 11.71972084   1.49991322   7.00828552   0.20795964   0.35080093\n",
      "            0.57815111])\n",
      "0\n"
     ]
    },
    {
     "data": {
      "image/png": "[encoded data removed]",
      "text/plain": [
       "<matplotlib.figure.Figure at 0x7f0727812358>"
      ]
     },
     "metadata": {},
     "output_type": "display_data"
    },
    {
     "name": "stderr",
     "output_type": "stream",
     "text": [
      "\r",
      " 90%|█████████ | 9/10 [00:01<00:00,  7.34it/s]"
     ]
    },
    {
     "name": "stdout",
     "output_type": "stream",
     "text": [
      "variable([ 11.71972084   1.49991322   7.00828552   0.20795964   0.35080093\n",
      "            0.57815111])\n",
      "0\n"
     ]
    },
    {
     "data": {
      "image/png": "[encoded data removed]",
      "text/plain": [
       "<matplotlib.figure.Figure at 0x7f072785abe0>"
      ]
     },
     "metadata": {},
     "output_type": "display_data"
    },
    {
     "name": "stderr",
     "output_type": "stream",
     "text": [
      "100%|██████████| 10/10 [00:01<00:00,  7.41it/s]\n"
     ]
    }
   ],
   "source": [
    "from chainer.optimizers import SGD\n",
    "from tqdm import tqdm\n",
    "\n",
    "boxnet = BoxNet(ConvNet())\n",
    "#boxnet(img)\n",
    "\n",
    "optimizer = SGD()\n",
    "optimizer.setup(boxnet)\n",
    "\n",
    "loss_history = []\n",
    "\n",
    "for i in tqdm(range(10)):\n",
    "    # Verifying the image nad ground truth size\n",
    "#     img, gt = get_random_image()\n",
    "\n",
    "    img = np.zeros((1,3,32,32), dtype=np.float32)\n",
    "    \n",
    "    gts = []\n",
    "    \n",
    "    for i in range(1):\n",
    "        # Choose random coordinate, this can also be run in a loop\n",
    "        width = 4\n",
    "        height = 4\n",
    "        pos_r = 10\n",
    "        pos_c = 15\n",
    "        img[0,:,pos_r:pos_r+height,pos_c:pos_c+width]=1\n",
    "        #print(pos_r, pos_c)\n",
    "\n",
    "        cx = pos_c + width/2.0\n",
    "        cy = pos_r + height/2.0\n",
    "        \n",
    "        box = [cx, cy, width, height, 1, 0]\n",
    "        \n",
    "        gts.append(box)\n",
    "    \n",
    "    # Create ground truth object\n",
    "    gt = chainer.Variable(np.array(gts, dtype=np.float32))\n",
    "    \n",
    "    \n",
    "    \n",
    "    \n",
    "    \n",
    "    \n",
    "    \n",
    "    \n",
    "    # Initializing the network and computing the features and shifts\n",
    "    #fm = convnet(img)\n",
    "    shifts = boxnet(img)\n",
    "    shifts= shifts[:,:,8,8]\n",
    "    shifts =F.reshape(shifts,[1,6,1,1])\n",
    "    \n",
    "    #shifts.shape\n",
    "\n",
    "    # Getting default_boxes and predictions\n",
    "    # Forward pass ends here\n",
    "    def_boxes = defaultgen(img, fm, 10,12)\n",
    "    \n",
    "    pred_boxes = get_pred_boxes(shifts, def_boxes)\n",
    "\n",
    "    def_boxes.shape, pred_boxes.shape\n",
    "    print(pred_boxes[0])\n",
    "\n",
    "    # Matching step\n",
    "    pos_inds, neg_inds, pos_score, neg_score = find_match_indices_cpu(pred_boxes, gt)\n",
    "    print(len(pos_inds))\n",
    "    # Computing the loss\n",
    "    boxnet.zerograds()\n",
    "    loss = compute_loss(gt, pred_boxes, def_boxes, pos_inds, neg_inds)\n",
    "    \n",
    "    if i % 10 == 0:\n",
    "        draw_pred_boxes(pred_boxes, def_boxes)\n",
    "    \n",
    "    #print(loss)\n",
    "    loss_history.append(loss.data[0])\n",
    "    loss.backward()\n",
    "    \n",
    "    optimizer.update()\n",
    "\n",
    "#pos_score\n",
    "\n",
    "#gt"
   ]
  },
  {
   "cell_type": "markdown",
   "metadata": {},
   "source": [
    "### As we can see from eyeballing and plot, loss is decreasing, so learning is happening\n",
    "Couple of points\n",
    "* Process is really noisy. Learning sometimes works, sometimes not.\n",
    "* Negative sorting and thresholding needs to be implemented\n",
    "* Tiling is a problem. Most boxes overlap very less. We need better tiling.\n",
    "* Network cheats by outputting larger boxes.\n",
    "* Network should be improved.\n",
    "* If operated purely by regression, network generates really large boxes.\n",
    "* There's some wierd discretization. The predicted boxes seem to be making jumps."
   ]
  },
  {
   "cell_type": "code",
   "execution_count": 15,
   "metadata": {
    "ExecuteTime": {
     "end_time": "2017-11-16T07:12:36.289812Z",
     "start_time": "2017-11-16T07:12:36.102347Z"
    }
   },
   "outputs": [
    {
     "data": {
      "image/png": "[encoded data removed]",
      "text/plain": [
       "<matplotlib.figure.Figure at 0x7f07282000b8>"
      ]
     },
     "metadata": {},
     "output_type": "display_data"
    }
   ],
   "source": [
    "import matplotlib.pyplot as plt\n",
    "plt.figure(figsize=(30,10))\n",
    "plt.plot(range(len(loss_history)), loss_history)\n",
    "plt.ylim([0,0.5])\n",
    "plt.show()"
   ]
  },
  {
   "cell_type": "code",
   "execution_count": null,
   "metadata": {
    "ExecuteTime": {
     "end_time": "2017-11-16T07:12:13.630204Z",
     "start_time": "2017-11-16T07:12:12.659Z"
    },
    "collapsed": true
   },
   "outputs": [],
   "source": [
    "loss_history"
   ]
  },
  {
   "cell_type": "markdown",
   "metadata": {},
   "source": [
    "This needs a lot of improvement but is a good starting point."
   ]
  },
  {
   "cell_type": "code",
   "execution_count": null,
   "metadata": {
    "ExecuteTime": {
     "end_time": "2017-11-16T07:11:40.526969Z",
     "start_time": "2017-11-16T07:11:39.396Z"
    },
    "collapsed": true
   },
   "outputs": [],
   "source": [
    "pred_boxes[0,1]"
   ]
  },
  {
   "cell_type": "code",
   "execution_count": null,
   "metadata": {
    "ExecuteTime": {
     "end_time": "2017-11-16T07:11:40.528254Z",
     "start_time": "2017-11-16T07:11:39.401Z"
    },
    "collapsed": true
   },
   "outputs": [],
   "source": [
    "pred_boxes[0][2] - gt[0][2]"
   ]
  },
  {
   "cell_type": "code",
   "execution_count": null,
   "metadata": {
    "collapsed": true
   },
   "outputs": [],
   "source": []
  }
 ],
 "metadata": {
  "kernelspec": {
   "display_name": "Python 3",
   "language": "python",
   "name": "python3"
  },
  "language_info": {
   "codemirror_mode": {
    "name": "ipython",
    "version": 3
   },
   "file_extension": ".py",
   "mimetype": "text/x-python",
   "name": "python",
   "nbconvert_exporter": "python",
   "pygments_lexer": "ipython3",
   "version": "3.5.2"
  },
  "toc": {
   "colors": {
    "hover_highlight": "#DAA520",
    "navigate_num": "#000000",
    "navigate_text": "#333333",
    "running_highlight": "#FF0000",
    "selected_highlight": "#FFD700",
    "sidebar_border": "#EEEEEE",
    "wrapper_background": "#FFFFFF"
   },
   "moveMenuLeft": true,
   "navigate_menu": false,
   "number_sections": true,
   "sideBar": true,
   "threshold": 4,
   "toc_cell": false,
   "toc_section_display": "block",
   "toc_window_display": false,
   "widenNotebook": false
  },
  "varInspector": {
   "cols": {
    "lenName": 16,
    "lenType": 16,
    "lenVar": 40
   },
   "kernels_config": {
    "python": {
     "delete_cmd_postfix": "",
     "delete_cmd_prefix": "del ",
     "library": "var_list.py",
     "varRefreshCmd": "print(var_dic_list())"
    },
    "r": {
     "delete_cmd_postfix": ") ",
     "delete_cmd_prefix": "rm(",
     "library": "var_list.r",
     "varRefreshCmd": "cat(var_dic_list()) "
    }
   },
   "types_to_exclude": [
    "module",
    "function",
    "builtin_function_or_method",
    "instance",
    "_Feature"
   ],
   "window_display": false
  }
 },
 "nbformat": 4,
 "nbformat_minor": 2
}
