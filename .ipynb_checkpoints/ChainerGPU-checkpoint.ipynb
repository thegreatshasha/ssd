{
 "cells": [
  {
   "cell_type": "markdown",
   "metadata": {
    "toc": "true"
   },
   "source": [
    "# Table of Contents\n",
    " <p><div class=\"lev1 toc-item\"><a href=\"#Model-with-gpu\" data-toc-modified-id=\"Model-with-gpu-1\"><span class=\"toc-item-num\">1&nbsp;&nbsp;</span>Model with gpu</a></div><div class=\"lev1 toc-item\"><a href=\"#Model-Without-gpu\" data-toc-modified-id=\"Model-Without-gpu-2\"><span class=\"toc-item-num\">2&nbsp;&nbsp;</span>Model Without gpu</a></div>"
   ]
  },
  {
   "cell_type": "markdown",
   "metadata": {},
   "source": [
    "## Model with gpu"
   ]
  },
  {
   "cell_type": "code",
   "execution_count": 1,
   "metadata": {
    "ExecuteTime": {
     "end_time": "2017-11-26T06:36:04.303644Z",
     "start_time": "2017-11-26T06:35:22.906283Z"
    },
    "collapsed": true
   },
   "outputs": [],
   "source": [
    "import chainer\n",
    "from chainer import Chain\n",
    "from chainer import optimizers\n",
    "import chainer.links as L\n",
    "import chainer.functions as F\n",
    "from chainer import datasets, iterators, training\n",
    "from chainer.training import extensions\n",
    "import numpy as np\n",
    "\n",
    "class MLP(Chain):\n",
    "       def __init__(self, n_units, n_out):\n",
    "           super(MLP, self).__init__()\n",
    "           with self.init_scope():\n",
    "               self.l1 = L.Linear(None, n_units)\n",
    "               self.l2 = L.Linear(None, n_units)\n",
    "               self.l3 = L.Linear(None, n_out)\n",
    "\n",
    "       def __call__(self, x):\n",
    "           h1 = F.relu(self.l1(x))\n",
    "           h2 = F.relu(self.l2(h1))\n",
    "           y = self.l3(h2)\n",
    "           return y\n",
    "\n",
    "model = L.Classifier(MLP(1000, 10)).to_gpu(0)  # to_gpu returns itself\n",
    "optimizer = optimizers.SGD()\n",
    "optimizer.setup(model)"
   ]
  },
  {
   "cell_type": "code",
   "execution_count": 2,
   "metadata": {
    "ExecuteTime": {
     "end_time": "2017-11-26T06:36:04.969715Z",
     "start_time": "2017-11-26T06:36:04.309124Z"
    },
    "collapsed": true
   },
   "outputs": [],
   "source": [
    "data = np.random.rand(70000, 784).astype(np.float32)\n",
    "target = np.random.randint(10, size=70000).astype(np.int32)\n",
    "train = datasets.TupleDataset(data[:60000], target[:60000])\n",
    "test = datasets.TupleDataset(data[60000:], target[60000:])\n",
    "train_iter = iterators.SerialIterator(train, batch_size=100)\n",
    "test_iter = iterators.SerialIterator(test, batch_size=100, repeat=False, shuffle=False)"
   ]
  },
  {
   "cell_type": "code",
   "execution_count": 3,
   "metadata": {
    "ExecuteTime": {
     "end_time": "2017-11-26T06:36:04.985524Z",
     "start_time": "2017-11-26T06:36:04.972185Z"
    },
    "collapsed": true
   },
   "outputs": [],
   "source": [
    "updater = training.StandardUpdater(train_iter, optimizer, device=0)\n",
    "trainer = training.Trainer(updater, (2, 'epoch'), out='result')\n",
    "trainer.extend(extensions.LogReport())\n",
    "trainer.extend(extensions.snapshot(filename='snapshot_epoch-{.updater.epoch}'))\n",
    "trainer.extend(extensions.snapshot_object(model.predictor, filename='model_epoch-{.updater.epoch}'))\n",
    "trainer.extend(extensions.Evaluator(test_iter, model, device=0))\n",
    "trainer.extend(extensions.PrintReport(['epoch', 'main/loss', 'main/accuracy', 'validation/main/loss', 'validation/main/accuracy', 'elapsed_time']))\n",
    "trainer.extend(extensions.PlotReport(['main/loss', 'validation/main/loss'], x_key='epoch', file_name='loss.png'))\n",
    "trainer.extend(extensions.PlotReport(['main/accuracy', 'validation/main/accuracy'], x_key='epoch', file_name='accuracy.png'))\n",
    "trainer.extend(extensions.dump_graph('main/loss'))"
   ]
  },
  {
   "cell_type": "code",
   "execution_count": 4,
   "metadata": {
    "ExecuteTime": {
     "end_time": "2017-11-26T06:36:46.011773Z",
     "start_time": "2017-11-26T06:36:04.987374Z"
    },
    "scrolled": true
   },
   "outputs": [
    {
     "name": "stdout",
     "output_type": "stream",
     "text": [
      "epoch       main/loss   main/accuracy  validation/main/loss  validation/main/accuracy  elapsed_time\n",
      "\u001b[J1           2.31185     0.0997334      2.30877               0.1034                    35.9906       \n",
      "\u001b[J2           2.30532     0.104717       2.31024               0.1                       39.9821       \n"
     ]
    }
   ],
   "source": [
    "trainer.run()"
   ]
  },
  {
   "cell_type": "markdown",
   "metadata": {},
   "source": [
    "## Model Without gpu"
   ]
  },
  {
   "cell_type": "code",
   "execution_count": 5,
   "metadata": {
    "ExecuteTime": {
     "end_time": "2017-11-26T06:36:46.082165Z",
     "start_time": "2017-11-26T06:36:46.013449Z"
    },
    "collapsed": true
   },
   "outputs": [],
   "source": [
    "import chainer\n",
    "from chainer import Chain\n",
    "from chainer import optimizers\n",
    "import chainer.links as L\n",
    "import chainer.functions as F\n",
    "from chainer import datasets, iterators, training\n",
    "from chainer.training import extensions\n",
    "import numpy as np\n",
    "\n",
    "class MLP(Chain):\n",
    "       def __init__(self, n_units, n_out):\n",
    "           super(MLP, self).__init__()\n",
    "           with self.init_scope():\n",
    "               self.l1 = L.Linear(None, n_units)\n",
    "               self.l2 = L.Linear(None, n_units)\n",
    "               self.l3 = L.Linear(None, n_out)\n",
    "\n",
    "       def __call__(self, x):\n",
    "           h1 = F.relu(self.l1(x))\n",
    "           h2 = F.relu(self.l2(h1))\n",
    "           y = self.l3(h2)\n",
    "           return y\n",
    "\n",
    "model = L.Classifier(MLP(1000, 10))  # to_gpu returns itself\n",
    "optimizer = optimizers.SGD()\n",
    "optimizer.setup(model)"
   ]
  },
  {
   "cell_type": "code",
   "execution_count": 6,
   "metadata": {
    "ExecuteTime": {
     "end_time": "2017-11-26T06:36:47.035033Z",
     "start_time": "2017-11-26T06:36:46.083918Z"
    },
    "collapsed": true
   },
   "outputs": [],
   "source": [
    "data = np.random.rand(70000, 784).astype(np.float32)\n",
    "target = np.random.randint(10, size=70000).astype(np.int32)\n",
    "train = datasets.TupleDataset(data[:60000], target[:60000])\n",
    "test = datasets.TupleDataset(data[60000:], target[60000:])\n",
    "train_iter = iterators.SerialIterator(train, batch_size=100)\n",
    "test_iter = iterators.SerialIterator(test, batch_size=100, repeat=False, shuffle=False)"
   ]
  },
  {
   "cell_type": "code",
   "execution_count": 7,
   "metadata": {
    "ExecuteTime": {
     "end_time": "2017-11-26T06:36:47.121355Z",
     "start_time": "2017-11-26T06:36:47.036642Z"
    }
   },
   "outputs": [
    {
     "ename": "AttributeError",
     "evalue": "module 'chainer.training.extensions' has no attribute 'PrintRepogitt'",
     "output_type": "error",
     "traceback": [
      "\u001b[0;31m---------------------------------------------------------------------------\u001b[0m",
      "\u001b[0;31mAttributeError\u001b[0m                            Traceback (most recent call last)",
      "\u001b[0;32m<ipython-input-7-e2e6251865ed>\u001b[0m in \u001b[0;36m<module>\u001b[0;34m()\u001b[0m\n\u001b[1;32m      5\u001b[0m \u001b[0mtrainer\u001b[0m\u001b[0;34m.\u001b[0m\u001b[0mextend\u001b[0m\u001b[0;34m(\u001b[0m\u001b[0mextensions\u001b[0m\u001b[0;34m.\u001b[0m\u001b[0msnapshot_object\u001b[0m\u001b[0;34m(\u001b[0m\u001b[0mmodel\u001b[0m\u001b[0;34m.\u001b[0m\u001b[0mpredictor\u001b[0m\u001b[0;34m,\u001b[0m \u001b[0mfilename\u001b[0m\u001b[0;34m=\u001b[0m\u001b[0;34m'model_epoch-{.updater.epoch}'\u001b[0m\u001b[0;34m)\u001b[0m\u001b[0;34m)\u001b[0m\u001b[0;34m\u001b[0m\u001b[0m\n\u001b[1;32m      6\u001b[0m \u001b[0mtrainer\u001b[0m\u001b[0;34m.\u001b[0m\u001b[0mextend\u001b[0m\u001b[0;34m(\u001b[0m\u001b[0mextensions\u001b[0m\u001b[0;34m.\u001b[0m\u001b[0mEvaluator\u001b[0m\u001b[0;34m(\u001b[0m\u001b[0mtest_iter\u001b[0m\u001b[0;34m,\u001b[0m \u001b[0mmodel\u001b[0m\u001b[0;34m)\u001b[0m\u001b[0;34m)\u001b[0m\u001b[0;34m\u001b[0m\u001b[0m\n\u001b[0;32m----> 7\u001b[0;31m \u001b[0mtrainer\u001b[0m\u001b[0;34m.\u001b[0m\u001b[0mextend\u001b[0m\u001b[0;34m(\u001b[0m\u001b[0mextensions\u001b[0m\u001b[0;34m.\u001b[0m\u001b[0mPrintRepogitt\u001b[0m\u001b[0;34m(\u001b[0m\u001b[0;34m[\u001b[0m\u001b[0;34m'epoch'\u001b[0m\u001b[0;34m,\u001b[0m \u001b[0;34m'main/loss'\u001b[0m\u001b[0;34m,\u001b[0m \u001b[0;34m'main/accuracy'\u001b[0m\u001b[0;34m,\u001b[0m \u001b[0;34m'validation/main/loss'\u001b[0m\u001b[0;34m,\u001b[0m \u001b[0;34m'validation/main/accuracy'\u001b[0m\u001b[0;34m,\u001b[0m \u001b[0;34m'elapsed_time'\u001b[0m\u001b[0;34m]\u001b[0m\u001b[0;34m)\u001b[0m\u001b[0;34m)\u001b[0m\u001b[0;34m\u001b[0m\u001b[0m\n\u001b[0m\u001b[1;32m      8\u001b[0m \u001b[0mtrainer\u001b[0m\u001b[0;34m.\u001b[0m\u001b[0mextend\u001b[0m\u001b[0;34m(\u001b[0m\u001b[0mextensions\u001b[0m\u001b[0;34m.\u001b[0m\u001b[0mPlotReport\u001b[0m\u001b[0;34m(\u001b[0m\u001b[0;34m[\u001b[0m\u001b[0;34m'main/loss'\u001b[0m\u001b[0;34m,\u001b[0m \u001b[0;34m'validation/main/loss'\u001b[0m\u001b[0;34m]\u001b[0m\u001b[0;34m,\u001b[0m \u001b[0mx_key\u001b[0m\u001b[0;34m=\u001b[0m\u001b[0;34m'epoch'\u001b[0m\u001b[0;34m,\u001b[0m \u001b[0mfile_name\u001b[0m\u001b[0;34m=\u001b[0m\u001b[0;34m'loss.png'\u001b[0m\u001b[0;34m)\u001b[0m\u001b[0;34m)\u001b[0m\u001b[0;34m\u001b[0m\u001b[0m\n\u001b[1;32m      9\u001b[0m \u001b[0mtrainer\u001b[0m\u001b[0;34m.\u001b[0m\u001b[0mextend\u001b[0m\u001b[0;34m(\u001b[0m\u001b[0mextensions\u001b[0m\u001b[0;34m.\u001b[0m\u001b[0mPlotReport\u001b[0m\u001b[0;34m(\u001b[0m\u001b[0;34m[\u001b[0m\u001b[0;34m'main/accuracy'\u001b[0m\u001b[0;34m,\u001b[0m \u001b[0;34m'validation/main/accuracy'\u001b[0m\u001b[0;34m]\u001b[0m\u001b[0;34m,\u001b[0m \u001b[0mx_key\u001b[0m\u001b[0;34m=\u001b[0m\u001b[0;34m'epoch'\u001b[0m\u001b[0;34m,\u001b[0m \u001b[0mfile_name\u001b[0m\u001b[0;34m=\u001b[0m\u001b[0;34m'accuracy.png'\u001b[0m\u001b[0;34m)\u001b[0m\u001b[0;34m)\u001b[0m\u001b[0;34m\u001b[0m\u001b[0m\n",
      "\u001b[0;31mAttributeError\u001b[0m: module 'chainer.training.extensions' has no attribute 'PrintRepogitt'"
     ]
    }
   ],
   "source": [
    "updater = training.StandardUpdater(train_iter, optimizer)\n",
    "trainer = training.Trainer(updater, (2, 'epoch'), out='result')\n",
    "trainer.extend(extensions.LogReport())\n",
    "trainer.extend(extensions.snapshot(filename='snapshot_epoch-{.updater.epoch}'))\n",
    "trainer.extend(extensions.snapshot_object(model.predictor, filename='model_epoch-{.updater.epoch}'))\n",
    "trainer.extend(extensions.Evaluator(test_iter, model))\n",
    "trainer.extend(extensions.PrintRepogitt(['epoch', 'main/loss', 'main/accuracy', 'validation/main/loss', 'validation/main/accuracy', 'elapsed_time']))\n",
    "trainer.extend(extensions.PlotReport(['main/loss', 'validation/main/loss'], x_key='epoch', file_name='loss.png'))\n",
    "trainer.extend(extensions.PlotReport(['main/accuracy', 'validation/main/accuracy'], x_key='epoch', file_name='accuracy.png'))\n",
    "trainer.extend(extensions.dump_graph('main/loss'))\n",
    "trainer.run()"
   ]
  },
  {
   "cell_type": "code",
   "execution_count": null,
   "metadata": {
    "collapsed": true
   },
   "outputs": [],
   "source": []
  }
 ],
 "metadata": {
  "kernelspec": {
   "display_name": "Python 3",
   "language": "python",
   "name": "python3"
  },
  "language_info": {
   "codemirror_mode": {
    "name": "ipython",
    "version": 3
   },
   "file_extension": ".py",
   "mimetype": "text/x-python",
   "name": "python",
   "nbconvert_exporter": "python",
   "pygments_lexer": "ipython3",
   "version": "3.5.2"
  },
  "toc": {
   "colors": {
    "hover_highlight": "#DAA520",
    "navigate_num": "#000000",
    "navigate_text": "#333333",
    "running_highlight": "#FF0000",
    "selected_highlight": "#FFD700",
    "sidebar_border": "#EEEEEE",
    "wrapper_background": "#FFFFFF"
   },
   "moveMenuLeft": true,
   "nav_menu": {
    "height": "48px",
    "width": "252px"
   },
   "navigate_menu": true,
   "number_sections": true,
   "sideBar": true,
   "threshold": 4,
   "toc_cell": true,
   "toc_section_display": "block",
   "toc_window_display": true,
   "widenNotebook": false
  },
  "varInspector": {
   "cols": {
    "lenName": 16,
    "lenType": 16,
    "lenVar": 40
   },
   "kernels_config": {
    "python": {
     "delete_cmd_postfix": "",
     "delete_cmd_prefix": "del ",
     "library": "var_list.py",
     "varRefreshCmd": "print(var_dic_list())"
    },
    "r": {
     "delete_cmd_postfix": ") ",
     "delete_cmd_prefix": "rm(",
     "library": "var_list.r",
     "varRefreshCmd": "cat(var_dic_list()) "
    }
   },
   "types_to_exclude": [
    "module",
    "function",
    "builtin_function_or_method",
    "instance",
    "_Feature"
   ],
   "window_display": false
  }
 },
 "nbformat": 4,
 "nbformat_minor": 2
}
