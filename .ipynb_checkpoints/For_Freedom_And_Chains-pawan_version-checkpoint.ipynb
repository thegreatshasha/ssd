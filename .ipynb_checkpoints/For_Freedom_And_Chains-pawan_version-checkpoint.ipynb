{
 "cells": [
  {
   "cell_type": "markdown",
   "metadata": {
    "deletable": true,
    "editable": true
   },
   "source": [
    "## Generating Dataset\n",
    "Let's create the toy dataset. We'll have a 1 16x16 image with a 4x4 square placed somewhere inside."
   ]
  },
  {
   "cell_type": "code",
   "execution_count": 1,
   "metadata": {
    "ExecuteTime": {
     "end_time": "2017-11-13T16:18:36.494409Z",
     "start_time": "2017-11-13T16:18:35.677566Z"
    },
    "collapsed": false,
    "deletable": true,
    "editable": true
   },
   "outputs": [
    {
     "data": {
      "image/png": "[encoded data removed]",
      "text/plain": [
       "<matplotlib.figure.Figure at 0x7f9debd82150>"
      ]
     },
     "metadata": {},
     "output_type": "display_data"
    },
    {
     "data": {
      "text/plain": [
       "(1, 3, 32, 32)"
      ]
     },
     "execution_count": 1,
     "metadata": {},
     "output_type": "execute_result"
    }
   ],
   "source": [
    "import numpy as np\n",
    "import matplotlib.pyplot as plt\n",
    "from matplotlib import patches\n",
    "import chainer \n",
    "#%matplotlib notebook \n",
    "\n",
    "\n",
    "\n",
    "\n",
    "number_of_images= 1\n",
    "size = 4\n",
    "bbox_size =5\n",
    "\n",
    "\n",
    "# object to hold  ground truth box \n",
    "\n",
    "\n",
    "def generate_ground_truth_boxes(number_images, size_obj, bbox_size_obj ): \n",
    "    \n",
    "    image_size =32\n",
    "    number_of_images = number_images\n",
    "    size = size_obj\n",
    "    bbox_size = bbox_size_obj\n",
    "    \n",
    "    gt_generated = np.zeros([1, number_of_images, 6])\n",
    "    images = np.zeros([1, number_of_images,3,32,32 ], dtype = np.float32)\n",
    "    \n",
    "    \n",
    "    for i in range(number_of_images):\n",
    "\n",
    "        img = np.zeros((1,3,32,32), dtype=np.float32)\n",
    "\n",
    "        # randomly generate top left position of box\n",
    "        pos_r = np.random.randint(0, img.shape[2]-size)\n",
    "        pos_c = np.random.randint(0, img.shape[3]-size)\n",
    "        \n",
    "\n",
    "        #make accordingly \n",
    "        img[0,:,int(pos_r):int(pos_r+4),int(pos_c):int(pos_c+4)]=1\n",
    "\n",
    "    \n",
    "        # generate and plot box and bounding box \n",
    "        patch1 = patches.Rectangle((pos_c-1,pos_r-1),bbox_size, bbox_size, fill= False, color ='red')\n",
    "        if i ==0 : \n",
    "\n",
    "            plt.figure()\n",
    "            ax= plt.axes()\n",
    "            ax.add_patch(patch1)\n",
    "            ax.imshow(img[0,0,:,:])\n",
    "            plt.show()\n",
    "#             plt.savefig(str(i))\n",
    "\n",
    "        # find centers of box \n",
    "        center_r = pos_r+int(size/2)\n",
    "        center_c = pos_c+int(size/2)\n",
    "\n",
    "        # store values of center, bounding box size and class \n",
    "        gt_generated[:,i,:] =[center_c-1,center_r-1,bbox_size ,bbox_size ,1, 0]   \n",
    "        \n",
    "        images[:,i,:,:,:]= img\n",
    "    \n",
    "    return gt_generated[0], images \n",
    "\n",
    "\n",
    "gt, images = generate_ground_truth_boxes( number_of_images, size, bbox_size)    \n",
    "gt = chainer.Variable(gt)\n",
    "img = images[:,0,:,:,:]\n",
    "img.shape"
   ]
  },
  {
   "cell_type": "code",
   "execution_count": null,
   "metadata": {
    "ExecuteTime": {
     "end_time": "2017-11-13T15:49:33.881644Z",
     "start_time": "2017-11-13T15:49:33.875805Z"
    },
    "collapsed": true,
    "deletable": true,
    "editable": true
   },
   "outputs": [],
   "source": [
    "\n"
   ]
  },
  {
   "cell_type": "markdown",
   "metadata": {
    "deletable": true,
    "editable": true
   },
   "source": [
    "## Generating Feature maps\n",
    "Now that we have the image, we'll go over it one by one and generate feature maps of size 4x4."
   ]
  },
  {
   "cell_type": "code",
   "execution_count": 2,
   "metadata": {
    "ExecuteTime": {
     "end_time": "2017-11-13T16:18:45.797900Z",
     "start_time": "2017-11-13T16:18:45.761549Z"
    },
    "collapsed": true,
    "deletable": true,
    "editable": true
   },
   "outputs": [],
   "source": [
    "from chainer import Chain\n",
    "import chainer\n",
    "import chainer.functions as F\n",
    "import chainer.links as L\n",
    "\n",
    "class ConvNet(Chain):\n",
    "    def __init__(self):\n",
    "        super(ConvNet, self).__init__(\n",
    "            l1=L.Convolution2D(None,32,ksize=(3,3),stride=1,pad=1),\n",
    "            l2=L.Convolution2D(32,32,ksize=(3,3),stride=1,pad=1),\n",
    "            l3=L.Convolution2D(32,32,ksize=(3,3),stride=1,pad=1)\n",
    "        )\n",
    "        \n",
    "    def __call__(self, x):\n",
    "        h1 = F.relu(self.l1(x))\n",
    "        h2 = F.max_pooling_2d(h1, 2)\n",
    "        h3 = F.relu(self.l2(h2))\n",
    "        h4 = F.max_pooling_2d(h3, 2)\n",
    "        h5 = F.relu(self.l3(h4))\n",
    "        h6 = F.max_pooling_2d(h5, 2)\n",
    "        return self.l3(F.sigmoid(h6))"
   ]
  },
  {
   "cell_type": "markdown",
   "metadata": {
    "deletable": true,
    "editable": true
   },
   "source": [
    "## Linear Convolution to generate shifts"
   ]
  },
  {
   "cell_type": "code",
   "execution_count": null,
   "metadata": {
    "ExecuteTime": {
     "end_time": "2017-11-13T15:51:20.840567Z",
     "start_time": "2017-11-13T15:51:20.833565Z"
    },
    "collapsed": true,
    "deletable": true,
    "editable": true
   },
   "outputs": [],
   "source": []
  },
  {
   "cell_type": "code",
   "execution_count": 3,
   "metadata": {
    "ExecuteTime": {
     "end_time": "2017-11-13T16:18:48.467450Z",
     "start_time": "2017-11-13T16:18:48.443076Z"
    },
    "collapsed": false,
    "deletable": true,
    "editable": true
   },
   "outputs": [
    {
     "name": "stdout",
     "output_type": "stream",
     "text": [
      "variable([[[[-0.25414667 -0.4117423  -0.45740846 -0.07600264]\n",
      "            [-0.32865611 -0.40297243 -0.35210794 -0.00436636]\n",
      "            [-0.29303616 -0.32767063 -0.12706561  0.1030966 ]\n",
      "            [-0.14626606 -0.17454636  0.08776638  0.11746695]]\n",
      "\n",
      "           [[-0.10699113 -0.0115352   0.17108338  0.05094292]\n",
      "            [-0.16670716  0.14318471  0.43345413  0.27325788]\n",
      "            [-0.42868212 -0.18372861  0.19273283  0.13404137]\n",
      "            [-0.27746361  0.00927583  0.3220064   0.1929327 ]]\n",
      "\n",
      "           [[ 0.04855289  0.34948677  0.25107488  0.30817229]\n",
      "            [ 0.30836406  0.5430491   0.39072725  0.37963393]\n",
      "            [ 0.24287264  0.43878132  0.20474441  0.21450253]\n",
      "            [ 0.22836556  0.2147646   0.16138253  0.0848616 ]]\n",
      "\n",
      "           [[-0.04647477 -0.53463835 -0.04142343 -0.1294772 ]\n",
      "            [ 0.01849595 -0.70910054 -0.36522511 -0.45989254]\n",
      "            [ 0.08173747 -0.61840659 -0.35841697 -0.37127963]\n",
      "            [ 0.03141667 -0.3319838  -0.31083363 -0.23167123]]\n",
      "\n",
      "           [[ 0.07088031 -0.39593717 -0.18096241 -0.19748047]\n",
      "            [-0.060985   -0.44031706 -0.28590161 -0.27273226]\n",
      "            [-0.10818318 -0.39133149 -0.37670064 -0.35516074]\n",
      "            [-0.1152979  -0.14625287 -0.30433938 -0.37411144]]\n",
      "\n",
      "           [[ 0.13885261  0.00204717  0.12758031 -0.01437154]\n",
      "            [ 0.07599335  0.04534331  0.07454631 -0.02536746]\n",
      "            [-0.12908278 -0.17365618  0.075317    0.16797687]\n",
      "            [-0.12772024 -0.01992859 -0.02595108  0.08860892]]]])\n"
     ]
    }
   ],
   "source": [
    "class BoxNet(Chain):\n",
    "    def __init__(self):\n",
    "        super(BoxNet, self).__init__(\n",
    "            l1=L.Convolution2D(None,6,ksize=(3,3),stride=1,pad=1)\n",
    "        )\n",
    "        \n",
    "    def __call__(self, x):\n",
    "        h1 = self.l1(x)\n",
    "        return h1\n",
    "    \n",
    "convnet = ConvNet()\n",
    "boxnet = BoxNet()\n",
    "\n",
    "fm = convnet(img)\n",
    "shifts = boxnet(fm)\n",
    "print(shifts)"
   ]
  },
  {
   "cell_type": "markdown",
   "metadata": {
    "deletable": true,
    "editable": true
   },
   "source": [
    "## Draw generated default boxes on top of the original image"
   ]
  },
  {
   "cell_type": "code",
   "execution_count": 4,
   "metadata": {
    "ExecuteTime": {
     "end_time": "2017-11-13T16:18:50.168663Z",
     "start_time": "2017-11-13T16:18:50.026498Z"
    },
    "collapsed": false,
    "deletable": true,
    "editable": true
   },
   "outputs": [
    {
     "data": {
      "image/png": "[encoded data removed]",
      "text/plain": [
       "<matplotlib.figure.Figure at 0x7f9de9c986d0>"
      ]
     },
     "metadata": {},
     "output_type": "display_data"
    },
    {
     "data": {
      "text/plain": [
       "dtype('float32')"
      ]
     },
     "execution_count": 4,
     "metadata": {},
     "output_type": "execute_result"
    }
   ],
   "source": [
    "from matplotlib import patches\n",
    "\n",
    "def defaultgen(I, F, width, height):\n",
    "    \"\"\"\n",
    "    Generates an array of default boxes: Chainer TESTED\n",
    "    \n",
    "    Args:\n",
    "        I: Input image tensor (N,channels,rows,cols)\n",
    "        F: Feature map tensor to generate default boxes for\n",
    "        width: Width of the box\n",
    "        height: Height of the box\n",
    "        \n",
    "    Returns:\n",
    "        db: Default boxes tensor, flattened\n",
    "    \"\"\"\n",
    "    scale = I.shape[2] / F.shape[2]\n",
    "    offset = np.ones((2,F.shape[2],F.shape[3]), dtype=np.float32)\n",
    "    iterator = np.flip(np.indices((F.shape[2],F.shape[3])), axis=0).astype(np.float32)\n",
    "    \n",
    "    xys = offset * ((scale-1)/2) + iterator * scale\n",
    "    xys = np.moveaxis(xys,0,2)\n",
    "    ws = np.full((F.shape[2],F.shape[3],1), width, dtype=np.float32)\n",
    "    hs = np.full((F.shape[2],F.shape[3],1), height,dtype=np.float32)\n",
    "    class_scores = np.zeros((F.shape[2],F.shape[3],2), dtype=np.float32)\n",
    "    \n",
    "    db = np.dstack([xys, ws, hs, class_scores])\n",
    "    \n",
    "    return chainer.Variable(db.reshape((db.shape[0] * db.shape[1], 6)))\n",
    "\n",
    "def center_to_coords(box):\n",
    "    \"\"\" \n",
    "    Converts bounding box from (cx, cy, w, h) format to (x1, y1, x2, y2) format\n",
    "    \n",
    "    Args:\n",
    "        box: 6d numpy array\n",
    "        \n",
    "    Returns:\n",
    "        box_transformed: Box in the second format\n",
    "    \n",
    "    \"\"\"\n",
    "    box_transformed = np.array([box[0]-box[2]/2.0, box[1]+box[3]/2.0, box[0]+box[2]/2.0, box[1]-box[3]/2.0, box[4], box[5]])\n",
    "    return box_transformed\n",
    "\n",
    "\n",
    "def draw_boxes(img, boxes):\n",
    "    plt.figure()\n",
    "    ax = plt.axes()\n",
    "\n",
    "    for box in boxes:\n",
    "        box = center_to_coords(box.data)\n",
    "        ax.imshow(img[0,0,:,:])\n",
    "        p = patches.Rectangle((box[0], box[1]), box[2]-box[0], box[3]-box[1], fill=False, color='red')\n",
    "        ax.add_patch(p)\n",
    "\n",
    "    plt.show()\n",
    "\n",
    "def_boxes = defaultgen(img, fm, 5,5)\n",
    "def_boxes[0][2:4]\n",
    "draw_boxes(img, def_boxes)\n",
    "def_boxes.dtype\n"
   ]
  },
  {
   "cell_type": "markdown",
   "metadata": {
    "deletable": true,
    "editable": true
   },
   "source": [
    "## Draw predictions on top of the original image\n",
    "Now with the shift tensor we have obtained from running convnet and boxnet together, let's offset the default boxes."
   ]
  },
  {
   "cell_type": "code",
   "execution_count": 5,
   "metadata": {
    "ExecuteTime": {
     "end_time": "2017-11-13T16:18:52.366009Z",
     "start_time": "2017-11-13T16:18:52.203383Z"
    },
    "collapsed": false,
    "deletable": true,
    "editable": true
   },
   "outputs": [
    {
     "data": {
      "image/png": "[encoded data removed]",
      "text/plain": [
       "<matplotlib.figure.Figure at 0x7f9debda0d50>"
      ]
     },
     "metadata": {},
     "output_type": "display_data"
    }
   ],
   "source": [
    "def get_pred_boxes(shift_vals, default_boxes ): \n",
    "    \"\"\"\n",
    "    Get predicted boxes by combining shift values to default boxes\n",
    "    Input: \n",
    "\n",
    "    shift_values : Shifts generated by the network  NDarray (None, Num of Default boxes, 4+num of classes)\n",
    "    Default boxes  : Default boxes generated by the network NDarray (None, Num of Default boxes, 4+num of classes)\n",
    "\n",
    "    Output: \n",
    "\n",
    "    Predicted boxes  : Predicted boxes, same shape as default boxes  NDarray (None, Num of Default boxes, 4+num of classes)\n",
    "\n",
    "    \"\"\"\n",
    "    shift_vals= shift_vals.reshape(4*4,6)\n",
    "\n",
    "    shifts = shift_vals \n",
    "    def_boxes= default_boxes\n",
    "    \n",
    "    \n",
    "    cx_pred = (shifts[:,0]*shifts[:,2])+def_boxes[:,0]\n",
    "    cy_pred = (shifts[:,1]*shifts[:,2])+def_boxes[:,1]\n",
    "    \n",
    "    H_pred = F.exp(shifts[:,2])*def_boxes[:,2]\n",
    "    W_pred = F.exp(shifts[:,3])*def_boxes[:,3]\n",
    "    \n",
    "    class1 = shifts[:,4]\n",
    "    class2 = shifts[:,5]\n",
    "    \n",
    "    \n",
    "    pred_boxes = F.vstack((cx_pred,cy_pred,W_pred,H_pred, class1, class2))\n",
    "    pred_boxes = F.transpose(pred_boxes)\n",
    "    \n",
    "    return  pred_boxes \n",
    "\n",
    "\n",
    "def draw_pred_boxes(prediction_boxes, default_boxes): \n",
    "    \"\"\"Draw predicted boxes on the original image \"\"\"\n",
    "    \n",
    "    pred_boxes= prediction_boxes\n",
    "    def_boxes =default_boxes.data\n",
    "    pred_boxes = get_pred_boxes(shifts, def_boxes)\n",
    "     \n",
    "    boxes = pred_boxes.data\n",
    "    \n",
    "    plt.figure()\n",
    "    ax = plt.axes()\n",
    "\n",
    "    for i in range(def_boxes.shape[0]):\n",
    "        box = def_boxes[i]\n",
    "        box2 =boxes[i]            \n",
    "        box = center_to_coords(box)\n",
    "        box2 = center_to_coords(box2)            \n",
    "        ax.imshow(img[0,0,:,:])\n",
    "\n",
    "        default_boxes = patches.Rectangle((box[0], box[1]), box[2]-box[0], box[3]-box[1], fill=False, color = 'red')\n",
    "        pred_boxes = patches.Rectangle((box2[0], box2[1]), box2[2]-box2[0], box2[3]-box2[1], fill=False, color = 'yellow')\n",
    "\n",
    "        ax.add_patch(default_boxes)\n",
    "        ax.add_patch(pred_boxes)\n",
    "\n",
    "\n",
    "    plt.show()\n",
    "#     plt.savefig('shifts')\n",
    "\n",
    "\n",
    "\n",
    "\n",
    "\n",
    "pred_boxes = get_pred_boxes(shifts, def_boxes)\n",
    "draw_pred_boxes(pred_boxes, def_boxes)"
   ]
  },
  {
   "cell_type": "markdown",
   "metadata": {
    "deletable": true,
    "editable": true
   },
   "source": [
    "## Do matching"
   ]
  },
  {
   "cell_type": "code",
   "execution_count": 21,
   "metadata": {
    "ExecuteTime": {
     "end_time": "2017-11-13T19:00:14.066394Z",
     "start_time": "2017-11-13T19:00:13.949732Z"
    },
    "collapsed": false,
    "deletable": true,
    "editable": true
   },
   "outputs": [],
   "source": [
    "# Let's define some useful functions first.\n",
    "# Work with chainer variables for instahook.\n",
    "#from chainer.functions import max, min, hstack\n",
    "\n",
    "def iou_cpu(boxA, boxB):\n",
    "    \"\"\"\n",
    "    Calculates intersection over union score of two rectangles, none of them rotated.: TESTED\n",
    "    \n",
    "    Args:\n",
    "        boxA: Box1\n",
    "        boxB: Box2\n",
    "        \n",
    "    Returns:\n",
    "        iou (scalar): IOU score of the two boxes\n",
    "    \"\"\"\n",
    "        # determine the (x, y)-coordinates of the intersection rectangle\n",
    "        # Maybe we can accelerate this by writing this as a cython extension\n",
    "        \n",
    "    boxA = center_to_coords(boxA)\n",
    "    boxB = center_to_coords(boxB)\n",
    "    \n",
    "    xA = max(boxA[0], boxB[0])\n",
    "    yA = max(boxA[1], boxB[1])\n",
    "    xB = min(boxA[2], boxB[2])\n",
    "    yB = min(boxA[3], boxB[3])\n",
    "    \n",
    "    \n",
    "    print('boxA ', boxA, 'boxB ', boxB)\n",
    "    # compute the area of intersection rectangle\n",
    "    interArea = (xB - xA) * (yA - yB)\n",
    "    \n",
    "    print('interArea ', interArea)\n",
    "    \n",
    "    # compute the area of both the prediction and ground-truth\n",
    "    # rectangles\n",
    "    boxa_area = max((boxA[2] - boxA[0]), 0) * max((boxA[1] - boxA[3]), 0)\n",
    "    boxb_area = (boxB[2] - boxB[0]) * (boxB[1] - boxB[3])\n",
    "    \n",
    "    \n",
    "    \n",
    "    # compute the intersection over union by taking the intersection\n",
    "    # area and dividing it by the sum of prediction + ground-truth\n",
    "    # areas - the interesection area\n",
    "    \n",
    "    if interArea > 0 : \n",
    "        \n",
    "        iou = interArea / ((boxa_area + boxb_area) - interArea)\n",
    "    \n",
    "    else: \n",
    "        iou = 0 \n",
    "        \n",
    "    \n",
    "    # return the intersection over union value\n",
    "    return iou\n",
    "\n",
    "def find_match_indices_cpu(pred_boxes, gt): \n",
    "    \"\"\"\n",
    "    Find matches between ground truth boxes and boxes predicted by network.\n",
    "    \n",
    "    Args:\n",
    "        gt (): Tensor of ground truth boxes\n",
    "        pred_boxes (): Tensor of predicted boxes\n",
    "        \n",
    "    Returns:\n",
    "        pos_inds: Indices of the connectivity matrix where there is a positive match\n",
    "        neg_inds: Indices of the connectivity matrix where there is a negative match\n",
    "    \"\"\"\n",
    "    \n",
    "    pos_iou_score =  np.zeros((gt.shape[0], pred_boxes.shape[0]))\n",
    "    neg_iou_score = np.ones((gt.shape[0], pred_boxes.shape[0]))\n",
    "    \n",
    "    for i in range(gt.shape[0]): \n",
    "        for j in range(pred_boxes.shape[0]): \n",
    "            iou_score  = iou_cpu(gt[i].data, pred_boxes[j].data)\n",
    "            \n",
    "            if iou_score > 0.5:  \n",
    "                pos_iou_score[i,j] = iou_score\n",
    "            else :\n",
    "                neg_iou_score[i,j] = iou_score\n",
    "    \n",
    "    pos_inds  = np.argwhere(pos_iou_score>0.5)\n",
    "    neg_inds = np.argwhere(neg_iou_score<=0.5)\n",
    "    \n",
    "    return  pos_inds, neg_inds\n",
    "\n",
    "\n",
    "#pos_inds, neg_inds = find_match_indices_cpu(pred_boxes, gt)"
   ]
  },
  {
   "cell_type": "code",
   "execution_count": 18,
   "metadata": {
    "ExecuteTime": {
     "end_time": "2017-11-13T19:00:14.683159Z",
     "start_time": "2017-11-13T19:00:14.674526Z"
    },
    "collapsed": false,
    "deletable": true,
    "editable": true
   },
   "outputs": [
    {
     "name": "stdout",
     "output_type": "stream",
     "text": [
      "('boxA ', array([  1.25,   5.75,  13.75,   5.25,   1.  ,   0.  ]), 'boxB ', array([ 11.63164311,  42.48361527,  40.66182131,  17.18623555,\n",
      "        -0.53887826,  -0.48075315]))\n",
      "('interArea ', 78.874085271237448)\n"
     ]
    },
    {
     "data": {
      "text/plain": [
       "0.11918774974837326"
      ]
     },
     "execution_count": 18,
     "metadata": {},
     "output_type": "execute_result"
    }
   ],
   "source": [
    "import numpy as np\n",
    "boxA = np.array([  7.5,   5.5,  12.5,   0.5,   1.,    0. ])\n",
    "boxB = np.array([ 26.14673221,  29.83492541,  29.03017819,  25.29737973,  -0.53887826\n",
    "  ,-0.48075315])\n",
    "iou_cpu(boxA, boxB)"
   ]
  },
  {
   "cell_type": "code",
   "execution_count": 19,
   "metadata": {
    "ExecuteTime": {
     "end_time": "2017-11-13T19:00:45.123736Z",
     "start_time": "2017-11-13T19:00:45.103161Z"
    },
    "collapsed": false,
    "deletable": true,
    "editable": true
   },
   "outputs": [
    {
     "name": "stdout",
     "output_type": "stream",
     "text": [
      "('boxA ', array([ -0.5,  16.5,   4.5,  11.5,   1. ,   0. ]), 'boxB ', array([  7.46978617,  13.63374424,  14.56148291,   8.38498974,\n",
      "         0.25107488,   0.30817229]))\n",
      "('interArea ', -24.099845220946463)\n"
     ]
    }
   ],
   "source": [
    "\n",
    "pos_iou_score =  np.zeros((gt.shape[0], pred_boxes.shape[0]))\n",
    "neg_iou_score = np.ones((gt.shape[0], pred_boxes.shape[0]))\n",
    "    \n",
    "for i in [0] : #range(gt.shape[0]): \n",
    "    for j in  [5] :#range(pred_boxes.shape[0]): \n",
    "        iou_score  = iou_cpu( gt[i].data, pred_boxes[j].data)\n",
    "    \n",
    "        if iou_score > 0.5:  \n",
    "            pos_iou_score[i,j] = iou_score\n",
    "        else :\n",
    "            neg_iou_score[i,j] = iou_score\n",
    "    \n",
    "        \n",
    "    pos_inds  = np.argwhere(pos_iou_score>0.5)\n",
    "    neg_inds = np.argwhere(neg_iou_score<=0.5)\n",
    "\n",
    "\n",
    "# print(iou_score) \n",
    "# print(pos_inds)\n",
    "\n"
   ]
  },
  {
   "cell_type": "code",
   "execution_count": 20,
   "metadata": {
    "ExecuteTime": {
     "end_time": "2017-11-13T18:55:44.606769Z",
     "start_time": "2017-11-13T18:55:44.602909Z"
    },
    "collapsed": false,
    "deletable": true,
    "editable": true
   },
   "outputs": [
    {
     "data": {
      "text/plain": [
       "(variable([  2.,  14.,   5.,   5.,   1.,   0.]),\n",
       " variable([ 11.01563454,  11.00936699,   7.09169674,   5.2487545 ,\n",
       "             0.25107488,   0.30817229]))"
      ]
     },
     "execution_count": 20,
     "metadata": {},
     "output_type": "execute_result"
    }
   ],
   "source": [
    "gt[0], pred_boxes[5]"
   ]
  },
  {
   "cell_type": "code",
   "execution_count": null,
   "metadata": {
    "collapsed": true,
    "deletable": true,
    "editable": true
   },
   "outputs": [],
   "source": []
  },
  {
   "cell_type": "markdown",
   "metadata": {
    "deletable": true,
    "editable": true
   },
   "source": [
    "Ok let's try some examples now and see if it works. Copy pasting some unit tests from before."
   ]
  },
  {
   "cell_type": "code",
   "execution_count": 10,
   "metadata": {
    "ExecuteTime": {
     "end_time": "2017-11-13T14:40:53.979406Z",
     "start_time": "2017-11-13T14:40:53.961945Z"
    },
    "collapsed": false,
    "deletable": true,
    "editable": true
   },
   "outputs": [
    {
     "data": {
      "text/plain": [
       "array([], shape=(0, 2), dtype=int64)"
      ]
     },
     "execution_count": 10,
     "metadata": {},
     "output_type": "execute_result"
    }
   ],
   "source": [
    "# In the default network, these variables will be parameterized\n",
    "# gt = chainer.Variable(np.array([[0.5,0.5,3,3,0,0]], dtype=np.float32))\n",
    "# pred_boxes = chainer.Variable(np.array([[0,0,4,2,0,0], [2.5,2.5,3,3,0,0], [12.5,2.5,3,3,0,0]], dtype=np.float32))\n",
    "# def_boxes = chainer.Variable(np.array([[0,0,4,2,0,0], [2.5,2.5,3,3,0,0], [12.5,2.5,3,3,0,0]], dtype=np.float32))\n",
    "\n",
    "# iou_cpu(gt[0].data, pred_boxes[1].data)\n",
    "# pos_inds, neg_inds = find_match_indices_cpu(pred_boxes, gt)\n",
    "\n",
    "# #pos_inds\n",
    "# np.testing.assert_array_equal(pos_inds[0], [0, 0], 'Posititve matching not working')\n",
    "# np.testing.assert_array_equal(neg_inds[0], [0, 1], 'Negative matching not working')\n",
    "# np.testing.assert_array_equal(neg_inds[1], [0, 2], 'Positive matching not working')\n",
    "\n",
    "#box1 = gt[0]\n",
    "#box2 = pred_boxes[0]\n",
    "\n",
    "pos_inds"
   ]
  },
  {
   "cell_type": "code",
   "execution_count": 11,
   "metadata": {
    "ExecuteTime": {
     "end_time": "2017-11-13T14:42:58.793564Z",
     "start_time": "2017-11-13T14:42:58.780875Z"
    },
    "collapsed": false,
    "deletable": true,
    "editable": true
   },
   "outputs": [
    {
     "data": {
      "text/plain": [
       "(variable([  3.04075265,  27.14741516,   3.50530386,   3.43060732,\n",
       "            -0.1152979 ,  -0.14625287]),\n",
       " variable([  2.,  14.,   5.,   5.,   1.,   0.]))"
      ]
     },
     "execution_count": 11,
     "metadata": {},
     "output_type": "execute_result"
    }
   ],
   "source": [
    "pred_boxes[12], gt[0]"
   ]
  },
  {
   "cell_type": "markdown",
   "metadata": {
    "deletable": true,
    "editable": true
   },
   "source": [
    "Awesome. The tests work and we are able to get the pos_inds just fine."
   ]
  },
  {
   "cell_type": "markdown",
   "metadata": {
    "deletable": true,
    "editable": true
   },
   "source": [
    "## Compute regression loss from indices (brute force for loop cpu)\n",
    "* Run for loop over all the positive indices.\n",
    "* Calculate relative shift vector for ground truth.\n",
    "* Regress for relative shift vector with prediction shift vector."
   ]
  },
  {
   "cell_type": "code",
   "execution_count": 12,
   "metadata": {
    "ExecuteTime": {
     "end_time": "2017-11-13T04:37:27.146314Z",
     "start_time": "2017-11-13T04:37:27.143391Z"
    },
    "collapsed": true,
    "deletable": true,
    "editable": true
   },
   "outputs": [],
   "source": [
    "regression_loss = chainer.Variable(np.array([0]))\n",
    "regression_loss += 1"
   ]
  },
  {
   "cell_type": "code",
   "execution_count": 13,
   "metadata": {
    "ExecuteTime": {
     "end_time": "2017-11-13T04:37:27.525140Z",
     "start_time": "2017-11-13T04:37:27.497087Z"
    },
    "collapsed": true,
    "deletable": true,
    "editable": true
   },
   "outputs": [],
   "source": [
    "from chainer.functions import log, hstack, huber_loss\n",
    "\n",
    "def normalize_shift(box, def_box):\n",
    "    \"\"\"\n",
    "    Scales down absolute shifts, % for centers, log for height and width.\n",
    "    \n",
    "    Args:\n",
    "        box: 6x1 bounding box coordinates\n",
    "        def_box: 6x1 reference box coordinates\n",
    "        \n",
    "    Returns:\n",
    "        normalized_shift_vector: 4x1 normalized shift vector. Note that we discard the last 2 channels.\n",
    "    \"\"\"\n",
    "    tx = (box[0] - def_box[0])/def_box[2]\n",
    "    ty = (box[1] - def_box[1])/def_box[3]\n",
    "    tw = log(box[2]/def_box[2])\n",
    "    th = log(box[3]/def_box[3])\n",
    "    \n",
    "    return hstack([tx, ty, tw, th])\n",
    "    \n",
    "\n",
    "def regression_loss(pred_box, gt_box, def_box):\n",
    "    \"\"\"\n",
    "    Calculates regression loss between two boxes w.r.t a reference default box.\n",
    "    \n",
    "    Args:\n",
    "        pred_box: 6x1 bounding box predicted by the network\n",
    "        gt_box: 6x1 bounding box overlapping with pred_box\n",
    "        def_box: 6x1 bounding box with same index as pred_box\n",
    "        \n",
    "    Returns:\n",
    "        reg_loss: Scalar of huber loss between two vectors\n",
    "    \"\"\"\n",
    "    pred_shift = normalize_shift(pred_box, def_box).reshape((1, 4))\n",
    "    gt_shift = normalize_shift(gt_box, def_box).reshape((1, 4))\n",
    "    \n",
    "    return huber_loss(pred_shift, gt_shift, delta=0.5)"
   ]
  },
  {
   "cell_type": "markdown",
   "metadata": {
    "deletable": true,
    "editable": true
   },
   "source": [
    "So let's try it for the boxes above and see if it actually works."
   ]
  },
  {
   "cell_type": "code",
   "execution_count": 14,
   "metadata": {
    "ExecuteTime": {
     "end_time": "2017-11-13T04:37:28.244331Z",
     "start_time": "2017-11-13T04:37:28.238064Z"
    },
    "collapsed": false,
    "deletable": true,
    "editable": true
   },
   "outputs": [
    {
     "ename": "InvalidType",
     "evalue": "\nInvalid operation is performed in: _ - _ (Forward)\n\nExpect: in_types[0].dtype == in_types[1].dtype\nActual: float64 != float32",
     "output_type": "error",
     "traceback": [
      "\u001b[0;31m---------------------------------------------------------------------------\u001b[0m",
      "\u001b[0;31mInvalidType\u001b[0m                               Traceback (most recent call last)",
      "\u001b[0;32m<ipython-input-14-d7b8027bc73b>\u001b[0m in \u001b[0;36m<module>\u001b[0;34m()\u001b[0m\n\u001b[0;32m----> 1\u001b[0;31m \u001b[0mregression_loss\u001b[0m\u001b[0;34m(\u001b[0m\u001b[0mpred_boxes\u001b[0m\u001b[0;34m[\u001b[0m\u001b[0;36m0\u001b[0m\u001b[0;34m]\u001b[0m\u001b[0;34m,\u001b[0m \u001b[0mgt\u001b[0m\u001b[0;34m[\u001b[0m\u001b[0;36m0\u001b[0m\u001b[0;34m]\u001b[0m\u001b[0;34m,\u001b[0m \u001b[0mdef_boxes\u001b[0m\u001b[0;34m[\u001b[0m\u001b[0;36m0\u001b[0m\u001b[0;34m]\u001b[0m\u001b[0;34m)\u001b[0m\u001b[0;34m\u001b[0m\u001b[0m\n\u001b[0m",
      "\u001b[0;32m<ipython-input-13-b85d87e7a631>\u001b[0m in \u001b[0;36mregression_loss\u001b[0;34m(pred_box, gt_box, def_box)\u001b[0m\n\u001b[1;32m     33\u001b[0m     \"\"\"\n\u001b[1;32m     34\u001b[0m     \u001b[0mpred_shift\u001b[0m \u001b[0;34m=\u001b[0m \u001b[0mnormalize_shift\u001b[0m\u001b[0;34m(\u001b[0m\u001b[0mpred_box\u001b[0m\u001b[0;34m,\u001b[0m \u001b[0mdef_box\u001b[0m\u001b[0;34m)\u001b[0m\u001b[0;34m.\u001b[0m\u001b[0mreshape\u001b[0m\u001b[0;34m(\u001b[0m\u001b[0;34m(\u001b[0m\u001b[0;36m1\u001b[0m\u001b[0;34m,\u001b[0m \u001b[0;36m4\u001b[0m\u001b[0;34m)\u001b[0m\u001b[0;34m)\u001b[0m\u001b[0;34m\u001b[0m\u001b[0m\n\u001b[0;32m---> 35\u001b[0;31m     \u001b[0mgt_shift\u001b[0m \u001b[0;34m=\u001b[0m \u001b[0mnormalize_shift\u001b[0m\u001b[0;34m(\u001b[0m\u001b[0mgt_box\u001b[0m\u001b[0;34m,\u001b[0m \u001b[0mdef_box\u001b[0m\u001b[0;34m)\u001b[0m\u001b[0;34m.\u001b[0m\u001b[0mreshape\u001b[0m\u001b[0;34m(\u001b[0m\u001b[0;34m(\u001b[0m\u001b[0;36m1\u001b[0m\u001b[0;34m,\u001b[0m \u001b[0;36m4\u001b[0m\u001b[0;34m)\u001b[0m\u001b[0;34m)\u001b[0m\u001b[0;34m\u001b[0m\u001b[0m\n\u001b[0m\u001b[1;32m     36\u001b[0m \u001b[0;34m\u001b[0m\u001b[0m\n\u001b[1;32m     37\u001b[0m     \u001b[0;32mreturn\u001b[0m \u001b[0mhuber_loss\u001b[0m\u001b[0;34m(\u001b[0m\u001b[0mpred_shift\u001b[0m\u001b[0;34m,\u001b[0m \u001b[0mgt_shift\u001b[0m\u001b[0;34m,\u001b[0m \u001b[0mdelta\u001b[0m\u001b[0;34m=\u001b[0m\u001b[0;36m0.5\u001b[0m\u001b[0;34m)\u001b[0m\u001b[0;34m\u001b[0m\u001b[0m\n",
      "\u001b[0;32m<ipython-input-13-b85d87e7a631>\u001b[0m in \u001b[0;36mnormalize_shift\u001b[0;34m(box, def_box)\u001b[0m\n\u001b[1;32m     12\u001b[0m         \u001b[0mnormalized_shift_vector\u001b[0m\u001b[0;34m:\u001b[0m \u001b[0;36m4\u001b[0m\u001b[0mx1\u001b[0m \u001b[0mnormalized\u001b[0m \u001b[0mshift\u001b[0m \u001b[0mvector\u001b[0m\u001b[0;34m.\u001b[0m \u001b[0mNote\u001b[0m \u001b[0mthat\u001b[0m \u001b[0mwe\u001b[0m \u001b[0mdiscard\u001b[0m \u001b[0mthe\u001b[0m \u001b[0mlast\u001b[0m \u001b[0;36m2\u001b[0m \u001b[0mchannels\u001b[0m\u001b[0;34m.\u001b[0m\u001b[0;34m\u001b[0m\u001b[0m\n\u001b[1;32m     13\u001b[0m     \"\"\"\n\u001b[0;32m---> 14\u001b[0;31m     \u001b[0mtx\u001b[0m \u001b[0;34m=\u001b[0m \u001b[0;34m(\u001b[0m\u001b[0mbox\u001b[0m\u001b[0;34m[\u001b[0m\u001b[0;36m0\u001b[0m\u001b[0;34m]\u001b[0m \u001b[0;34m-\u001b[0m \u001b[0mdef_box\u001b[0m\u001b[0;34m[\u001b[0m\u001b[0;36m0\u001b[0m\u001b[0;34m]\u001b[0m\u001b[0;34m)\u001b[0m\u001b[0;34m/\u001b[0m\u001b[0mdef_box\u001b[0m\u001b[0;34m[\u001b[0m\u001b[0;36m2\u001b[0m\u001b[0;34m]\u001b[0m\u001b[0;34m\u001b[0m\u001b[0m\n\u001b[0m\u001b[1;32m     15\u001b[0m     \u001b[0mty\u001b[0m \u001b[0;34m=\u001b[0m \u001b[0;34m(\u001b[0m\u001b[0mbox\u001b[0m\u001b[0;34m[\u001b[0m\u001b[0;36m1\u001b[0m\u001b[0;34m]\u001b[0m \u001b[0;34m-\u001b[0m \u001b[0mdef_box\u001b[0m\u001b[0;34m[\u001b[0m\u001b[0;36m1\u001b[0m\u001b[0;34m]\u001b[0m\u001b[0;34m)\u001b[0m\u001b[0;34m/\u001b[0m\u001b[0mdef_box\u001b[0m\u001b[0;34m[\u001b[0m\u001b[0;36m3\u001b[0m\u001b[0;34m]\u001b[0m\u001b[0;34m\u001b[0m\u001b[0m\n\u001b[1;32m     16\u001b[0m     \u001b[0mtw\u001b[0m \u001b[0;34m=\u001b[0m \u001b[0mlog\u001b[0m\u001b[0;34m(\u001b[0m\u001b[0mbox\u001b[0m\u001b[0;34m[\u001b[0m\u001b[0;36m2\u001b[0m\u001b[0;34m]\u001b[0m\u001b[0;34m/\u001b[0m\u001b[0mdef_box\u001b[0m\u001b[0;34m[\u001b[0m\u001b[0;36m2\u001b[0m\u001b[0;34m]\u001b[0m\u001b[0;34m)\u001b[0m\u001b[0;34m\u001b[0m\u001b[0m\n",
      "\u001b[0;32m/usr/local/lib/python2.7/dist-packages/chainer/functions/math/basic_math.pyc\u001b[0m in \u001b[0;36msub\u001b[0;34m(self, rhs)\u001b[0m\n\u001b[1;32m    190\u001b[0m \u001b[0;34m\u001b[0m\u001b[0m\n\u001b[1;32m    191\u001b[0m     \u001b[0;32mif\u001b[0m \u001b[0misinstance\u001b[0m\u001b[0;34m(\u001b[0m\u001b[0mrhs\u001b[0m\u001b[0;34m,\u001b[0m \u001b[0mvariable\u001b[0m\u001b[0;34m.\u001b[0m\u001b[0mVariable\u001b[0m\u001b[0;34m)\u001b[0m\u001b[0;34m:\u001b[0m\u001b[0;34m\u001b[0m\u001b[0m\n\u001b[0;32m--> 192\u001b[0;31m         \u001b[0;32mreturn\u001b[0m \u001b[0mSub\u001b[0m\u001b[0;34m(\u001b[0m\u001b[0;34m)\u001b[0m\u001b[0;34m(\u001b[0m\u001b[0mself\u001b[0m\u001b[0;34m,\u001b[0m \u001b[0mrhs\u001b[0m\u001b[0;34m)\u001b[0m\u001b[0;34m\u001b[0m\u001b[0m\n\u001b[0m\u001b[1;32m    193\u001b[0m     \u001b[0m_check_constant_type\u001b[0m\u001b[0;34m(\u001b[0m\u001b[0mrhs\u001b[0m\u001b[0;34m)\u001b[0m\u001b[0;34m\u001b[0m\u001b[0m\n\u001b[1;32m    194\u001b[0m     \u001b[0;32mreturn\u001b[0m \u001b[0mAddConstant\u001b[0m\u001b[0;34m(\u001b[0m\u001b[0;34m-\u001b[0m\u001b[0mrhs\u001b[0m\u001b[0;34m)\u001b[0m\u001b[0;34m(\u001b[0m\u001b[0mself\u001b[0m\u001b[0;34m)\u001b[0m\u001b[0;34m\u001b[0m\u001b[0m\n",
      "\u001b[0;32m/usr/local/lib/python2.7/dist-packages/chainer/function.pyc\u001b[0m in \u001b[0;36m__call__\u001b[0;34m(self, *inputs)\u001b[0m\n\u001b[1;32m    185\u001b[0m \u001b[0;34m\u001b[0m\u001b[0m\n\u001b[1;32m    186\u001b[0m         \u001b[0;32mif\u001b[0m \u001b[0mconfiguration\u001b[0m\u001b[0;34m.\u001b[0m\u001b[0mconfig\u001b[0m\u001b[0;34m.\u001b[0m\u001b[0mtype_check\u001b[0m\u001b[0;34m:\u001b[0m\u001b[0;34m\u001b[0m\u001b[0m\n\u001b[0;32m--> 187\u001b[0;31m             \u001b[0mself\u001b[0m\u001b[0;34m.\u001b[0m\u001b[0m_check_data_type_forward\u001b[0m\u001b[0;34m(\u001b[0m\u001b[0min_data\u001b[0m\u001b[0;34m)\u001b[0m\u001b[0;34m\u001b[0m\u001b[0m\n\u001b[0m\u001b[1;32m    188\u001b[0m \u001b[0;34m\u001b[0m\u001b[0m\n\u001b[1;32m    189\u001b[0m         \u001b[0mhooks\u001b[0m \u001b[0;34m=\u001b[0m \u001b[0mchainer\u001b[0m\u001b[0;34m.\u001b[0m\u001b[0mget_function_hooks\u001b[0m\u001b[0;34m(\u001b[0m\u001b[0;34m)\u001b[0m\u001b[0;34m\u001b[0m\u001b[0m\n",
      "\u001b[0;32m/usr/local/lib/python2.7/dist-packages/chainer/function.pyc\u001b[0m in \u001b[0;36m_check_data_type_forward\u001b[0;34m(self, in_data)\u001b[0m\n\u001b[1;32m    288\u001b[0m         \u001b[0min_type\u001b[0m \u001b[0;34m=\u001b[0m \u001b[0mtype_check\u001b[0m\u001b[0;34m.\u001b[0m\u001b[0mget_types\u001b[0m\u001b[0;34m(\u001b[0m\u001b[0min_data\u001b[0m\u001b[0;34m,\u001b[0m \u001b[0;34m'in_types'\u001b[0m\u001b[0;34m,\u001b[0m \u001b[0mFalse\u001b[0m\u001b[0;34m)\u001b[0m\u001b[0;34m\u001b[0m\u001b[0m\n\u001b[1;32m    289\u001b[0m         \u001b[0;32mwith\u001b[0m \u001b[0mtype_check\u001b[0m\u001b[0;34m.\u001b[0m\u001b[0mget_function_check_context\u001b[0m\u001b[0;34m(\u001b[0m\u001b[0mself\u001b[0m\u001b[0;34m)\u001b[0m\u001b[0;34m:\u001b[0m\u001b[0;34m\u001b[0m\u001b[0m\n\u001b[0;32m--> 290\u001b[0;31m             \u001b[0mself\u001b[0m\u001b[0;34m.\u001b[0m\u001b[0mcheck_type_forward\u001b[0m\u001b[0;34m(\u001b[0m\u001b[0min_type\u001b[0m\u001b[0;34m)\u001b[0m\u001b[0;34m\u001b[0m\u001b[0m\n\u001b[0m\u001b[1;32m    291\u001b[0m \u001b[0;34m\u001b[0m\u001b[0m\n\u001b[1;32m    292\u001b[0m     \u001b[0;32mdef\u001b[0m \u001b[0mcheck_type_forward\u001b[0m\u001b[0;34m(\u001b[0m\u001b[0mself\u001b[0m\u001b[0;34m,\u001b[0m \u001b[0min_types\u001b[0m\u001b[0;34m)\u001b[0m\u001b[0;34m:\u001b[0m\u001b[0;34m\u001b[0m\u001b[0m\n",
      "\u001b[0;32m/usr/local/lib/python2.7/dist-packages/chainer/functions/math/basic_math.pyc\u001b[0m in \u001b[0;36mcheck_type_forward\u001b[0;34m(self, in_types)\u001b[0m\n\u001b[1;32m    171\u001b[0m         type_check.expect(\n\u001b[1;32m    172\u001b[0m             \u001b[0min_types\u001b[0m\u001b[0;34m[\u001b[0m\u001b[0;36m0\u001b[0m\u001b[0;34m]\u001b[0m\u001b[0;34m.\u001b[0m\u001b[0mdtype\u001b[0m \u001b[0;34m==\u001b[0m \u001b[0min_types\u001b[0m\u001b[0;34m[\u001b[0m\u001b[0;36m1\u001b[0m\u001b[0;34m]\u001b[0m\u001b[0;34m.\u001b[0m\u001b[0mdtype\u001b[0m\u001b[0;34m,\u001b[0m\u001b[0;34m\u001b[0m\u001b[0m\n\u001b[0;32m--> 173\u001b[0;31m             \u001b[0min_types\u001b[0m\u001b[0;34m[\u001b[0m\u001b[0;36m0\u001b[0m\u001b[0;34m]\u001b[0m\u001b[0;34m.\u001b[0m\u001b[0mshape\u001b[0m \u001b[0;34m==\u001b[0m \u001b[0min_types\u001b[0m\u001b[0;34m[\u001b[0m\u001b[0;36m1\u001b[0m\u001b[0;34m]\u001b[0m\u001b[0;34m.\u001b[0m\u001b[0mshape\u001b[0m\u001b[0;34m\u001b[0m\u001b[0m\n\u001b[0m\u001b[1;32m    174\u001b[0m         )\n\u001b[1;32m    175\u001b[0m \u001b[0;34m\u001b[0m\u001b[0m\n",
      "\u001b[0;32m/usr/local/lib/python2.7/dist-packages/chainer/utils/type_check.pyc\u001b[0m in \u001b[0;36mexpect\u001b[0;34m(*bool_exprs)\u001b[0m\n\u001b[1;32m    512\u001b[0m         \u001b[0;32mfor\u001b[0m \u001b[0mexpr\u001b[0m \u001b[0;32min\u001b[0m \u001b[0mbool_exprs\u001b[0m\u001b[0;34m:\u001b[0m\u001b[0;34m\u001b[0m\u001b[0m\n\u001b[1;32m    513\u001b[0m             \u001b[0;32massert\u001b[0m \u001b[0misinstance\u001b[0m\u001b[0;34m(\u001b[0m\u001b[0mexpr\u001b[0m\u001b[0;34m,\u001b[0m \u001b[0mTestable\u001b[0m\u001b[0;34m)\u001b[0m\u001b[0;34m\u001b[0m\u001b[0m\n\u001b[0;32m--> 514\u001b[0;31m             \u001b[0mexpr\u001b[0m\u001b[0;34m.\u001b[0m\u001b[0mexpect\u001b[0m\u001b[0;34m(\u001b[0m\u001b[0;34m)\u001b[0m\u001b[0;34m\u001b[0m\u001b[0m\n\u001b[0m\u001b[1;32m    515\u001b[0m \u001b[0;34m\u001b[0m\u001b[0m\n\u001b[1;32m    516\u001b[0m \u001b[0;34m\u001b[0m\u001b[0m\n",
      "\u001b[0;32m/usr/local/lib/python2.7/dist-packages/chainer/utils/type_check.pyc\u001b[0m in \u001b[0;36mexpect\u001b[0;34m(self)\u001b[0m\n\u001b[1;32m    470\u001b[0m             raise InvalidType(\n\u001b[1;32m    471\u001b[0m                 \u001b[0;34m'{0} {1} {2}'\u001b[0m\u001b[0;34m.\u001b[0m\u001b[0mformat\u001b[0m\u001b[0;34m(\u001b[0m\u001b[0mself\u001b[0m\u001b[0;34m.\u001b[0m\u001b[0mlhs\u001b[0m\u001b[0;34m,\u001b[0m \u001b[0mself\u001b[0m\u001b[0;34m.\u001b[0m\u001b[0mexp\u001b[0m\u001b[0;34m,\u001b[0m \u001b[0mself\u001b[0m\u001b[0;34m.\u001b[0m\u001b[0mrhs\u001b[0m\u001b[0;34m)\u001b[0m\u001b[0;34m,\u001b[0m\u001b[0;34m\u001b[0m\u001b[0m\n\u001b[0;32m--> 472\u001b[0;31m                 '{0} {1} {2}'.format(left, self.inv, right))\n\u001b[0m\u001b[1;32m    473\u001b[0m \u001b[0;34m\u001b[0m\u001b[0m\n\u001b[1;32m    474\u001b[0m \u001b[0;34m\u001b[0m\u001b[0m\n",
      "\u001b[0;31mInvalidType\u001b[0m: \nInvalid operation is performed in: _ - _ (Forward)\n\nExpect: in_types[0].dtype == in_types[1].dtype\nActual: float64 != float32"
     ]
    }
   ],
   "source": [
    "regression_loss(pred_boxes[0], gt[0], def_boxes[0])"
   ]
  },
  {
   "cell_type": "markdown",
   "metadata": {
    "deletable": true,
    "editable": true
   },
   "source": [
    "Awesome. No bugs. Still have to check it for logical consistency though. Moving on to implement classification loss"
   ]
  },
  {
   "cell_type": "markdown",
   "metadata": {
    "deletable": true,
    "editable": true
   },
   "source": [
    "## Compute classification loss from indices (brute force for loop cpu). All DONE!"
   ]
  },
  {
   "cell_type": "code",
   "execution_count": null,
   "metadata": {
    "ExecuteTime": {
     "end_time": "2017-11-13T04:37:30.092629Z",
     "start_time": "2017-11-13T04:37:30.068310Z"
    },
    "collapsed": true,
    "deletable": true,
    "editable": true
   },
   "outputs": [],
   "source": [
    "from chainer.functions import softmax, log, matmul\n",
    "\n",
    "def soft_max(x): \n",
    "    \n",
    "    x = x.reshape([1,2])\n",
    "    soft_score  = F.softmax(x)\n",
    "    soft_score =soft_score.reshape([2])\n",
    "    return soft_score\n",
    "\n",
    "def classification_loss(pred_box, gt_box, switch):\n",
    "    \"\"\"\n",
    "    Calculates classification loss between two predicted and true box.\n",
    "    \n",
    "    Args:\n",
    "        pred_box: 6x1 box, last two are classification scores\n",
    "        gt_box: 6x1 box, last two are classification scores\n",
    "        switch: Positive or negative indicator\n",
    "        \n",
    "    Returns:\n",
    "        loss: Scalar positive or negative cross entropy loss. Only one is active at a time.\n",
    "    \"\"\"\n",
    "    pred_prob = soft_max(pred_box[4:6])\n",
    "    gt_prob =soft_max(gt_box[4:6])\n",
    "    \n",
    "    pos_loss = -matmul(gt_prob, log(pred_prob).transpose())\n",
    "    neg_loss = -matmul(gt_prob, log(1.0 - pred_prob).transpose())\n",
    "    \n",
    "    loss = switch * pos_loss + (1 - switch) * neg_loss\n",
    "    return loss\n",
    "    \n",
    "classification_loss(pred_boxes[0], gt[0], 1.0)    \n",
    "\n"
   ]
  },
  {
   "cell_type": "code",
   "execution_count": null,
   "metadata": {
    "ExecuteTime": {
     "end_time": "2017-11-13T04:37:30.821813Z",
     "start_time": "2017-11-13T04:37:30.808646Z"
    },
    "collapsed": true,
    "deletable": true,
    "editable": true
   },
   "outputs": [],
   "source": [
    "pred_box= pred_boxes[0]\n",
    "gt_box = gt[0]\n",
    "\n",
    "c1_scores = pred_box[4:6]\n",
    "c1_scores = c1_scores.reshape([1,2])\n",
    "\n",
    "c2_scores = gt_box[4:6]\n",
    "c2_scores = c2_scores.reshape([1,2])\n",
    "\n",
    "c1_prob = F.softmax(c1_scores)\n",
    "c2_prob =F.softmax(c2_scores)\n",
    "print(c1_prob, c2_prob)\n",
    "\n"
   ]
  },
  {
   "cell_type": "code",
   "execution_count": null,
   "metadata": {
    "ExecuteTime": {
     "end_time": "2017-11-13T04:37:31.163459Z",
     "start_time": "2017-11-13T04:37:31.158752Z"
    },
    "collapsed": true,
    "deletable": true,
    "editable": true
   },
   "outputs": [],
   "source": [
    "c1_prob-1"
   ]
  },
  {
   "cell_type": "code",
   "execution_count": null,
   "metadata": {
    "ExecuteTime": {
     "end_time": "2017-11-13T04:37:31.581636Z",
     "start_time": "2017-11-13T04:37:31.574046Z"
    },
    "collapsed": true,
    "deletable": true,
    "editable": true
   },
   "outputs": [],
   "source": [
    "from chainer.functions import matmul\n",
    "matmul(c1_prob, c2_prob.transpose())"
   ]
  },
  {
   "cell_type": "code",
   "execution_count": null,
   "metadata": {
    "ExecuteTime": {
     "end_time": "2017-11-12T17:47:45.785641Z",
     "start_time": "2017-11-12T17:47:45.780956Z"
    },
    "collapsed": true,
    "deletable": true,
    "editable": true
   },
   "outputs": [],
   "source": []
  },
  {
   "cell_type": "code",
   "execution_count": 22,
   "metadata": {
    "collapsed": true,
    "deletable": true,
    "editable": true
   },
   "outputs": [],
   "source": [
    "boxA = np.array([ 17.,  26.,   5.,   5.,   1.,   0.])\n",
    "boxB = np.array([ 19.50171089,  19.50994492,   5.96479464,   4.55632353,\n",
    "            -0.3940168 ,  -0.52048916])"
   ]
  },
  {
   "cell_type": "code",
   "execution_count": 23,
   "metadata": {
    "collapsed": false
   },
   "outputs": [
    {
     "data": {
      "text/plain": [
       "<function __main__.iou_cpu>"
      ]
     },
     "execution_count": 23,
     "metadata": {},
     "output_type": "execute_result"
    }
   ],
   "source": [
    "iou_cpu"
   ]
  },
  {
   "cell_type": "code",
   "execution_count": null,
   "metadata": {
    "collapsed": true
   },
   "outputs": [],
   "source": []
  }
 ],
 "metadata": {
  "kernelspec": {
   "display_name": "Python 2",
   "language": "python",
   "name": "python2"
  },
  "language_info": {
   "codemirror_mode": {
    "name": "ipython",
    "version": 2
   },
   "file_extension": ".py",
   "mimetype": "text/x-python",
   "name": "python",
   "nbconvert_exporter": "python",
   "pygments_lexer": "ipython2",
   "version": "2.7.12"
  },
  "toc": {
   "colors": {
    "hover_highlight": "#DAA520",
    "navigate_num": "#000000",
    "navigate_text": "#333333",
    "running_highlight": "#FF0000",
    "selected_highlight": "#FFD700",
    "sidebar_border": "#EEEEEE",
    "wrapper_background": "#FFFFFF"
   },
   "moveMenuLeft": true,
   "navigate_menu": false,
   "number_sections": true,
   "sideBar": true,
   "threshold": 4,
   "toc_cell": false,
   "toc_section_display": "block",
   "toc_window_display": false,
   "widenNotebook": false
  },
  "varInspector": {
   "cols": {
    "lenName": 16,
    "lenType": 16,
    "lenVar": 40
   },
   "kernels_config": {
    "python": {
     "delete_cmd_postfix": "",
     "delete_cmd_prefix": "del ",
     "library": "var_list.py",
     "varRefreshCmd": "print(var_dic_list())"
    },
    "r": {
     "delete_cmd_postfix": ") ",
     "delete_cmd_prefix": "rm(",
     "library": "var_list.r",
     "varRefreshCmd": "cat(var_dic_list()) "
    }
   },
   "types_to_exclude": [
    "module",
    "function",
    "builtin_function_or_method",
    "instance",
    "_Feature"
   ],
   "window_display": false
  }
 },
 "nbformat": 4,
 "nbformat_minor": 2
}
