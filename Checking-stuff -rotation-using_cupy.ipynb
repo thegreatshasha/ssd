{
 "cells": [
  {
   "cell_type": "markdown",
   "metadata": {
    "toc": "true"
   },
   "source": [
    "# Table of Contents\n",
    " <p><div class=\"lev1 toc-item\"><a href=\"#Checking-regression\" data-toc-modified-id=\"Checking-regression-1\"><span class=\"toc-item-num\">1&nbsp;&nbsp;</span>Checking regression</a></div><div class=\"lev2 toc-item\"><a href=\"#Checking-functions\" data-toc-modified-id=\"Checking-functions-11\"><span class=\"toc-item-num\">1.1&nbsp;&nbsp;</span>Checking functions</a></div><div class=\"lev3 toc-item\"><a href=\"#Generate-boxes\" data-toc-modified-id=\"Generate-boxes-111\"><span class=\"toc-item-num\">1.1.1&nbsp;&nbsp;</span>Generate boxes</a></div><div class=\"lev3 toc-item\"><a href=\"#Generate-rotated-boxes\" data-toc-modified-id=\"Generate-rotated-boxes-112\"><span class=\"toc-item-num\">1.1.2&nbsp;&nbsp;</span>Generate rotated boxes</a></div><div class=\"lev3 toc-item\"><a href=\"#Generate-test-dataset\" data-toc-modified-id=\"Generate-test-dataset-113\"><span class=\"toc-item-num\">1.1.3&nbsp;&nbsp;</span>Generate test dataset</a></div><div class=\"lev3 toc-item\"><a href=\"#Rotated-boxes-test-set\" data-toc-modified-id=\"Rotated-boxes-test-set-114\"><span class=\"toc-item-num\">1.1.4&nbsp;&nbsp;</span>Rotated boxes test set</a></div><div class=\"lev3 toc-item\"><a href=\"#Conv-net-definitions\" data-toc-modified-id=\"Conv-net-definitions-115\"><span class=\"toc-item-num\">1.1.5&nbsp;&nbsp;</span>Conv net definitions</a></div><div class=\"lev3 toc-item\"><a href=\"#Generate-Default-boxes\" data-toc-modified-id=\"Generate-Default-boxes-116\"><span class=\"toc-item-num\">1.1.6&nbsp;&nbsp;</span>Generate Default boxes</a></div><div class=\"lev3 toc-item\"><a href=\"#Center-to-coords\" data-toc-modified-id=\"Center-to-coords-117\"><span class=\"toc-item-num\">1.1.7&nbsp;&nbsp;</span>Center to coords</a></div><div class=\"lev3 toc-item\"><a href=\"#Get-prediction-boxes\" data-toc-modified-id=\"Get-prediction-boxes-118\"><span class=\"toc-item-num\">1.1.8&nbsp;&nbsp;</span>Get prediction boxes</a></div><div class=\"lev3 toc-item\"><a href=\"#Draw-all-boxes\" data-toc-modified-id=\"Draw-all-boxes-119\"><span class=\"toc-item-num\">1.1.9&nbsp;&nbsp;</span>Draw all boxes</a></div><div class=\"lev3 toc-item\"><a href=\"#Normalize-shifts\" data-toc-modified-id=\"Normalize-shifts-1110\"><span class=\"toc-item-num\">1.1.10&nbsp;&nbsp;</span>Normalize shifts</a></div><div class=\"lev3 toc-item\"><a href=\"#Regression-loss\" data-toc-modified-id=\"Regression-loss-1111\"><span class=\"toc-item-num\">1.1.11&nbsp;&nbsp;</span>Regression loss</a></div><div class=\"lev3 toc-item\"><a href=\"#Get-aspect-ratio\" data-toc-modified-id=\"Get-aspect-ratio-1112\"><span class=\"toc-item-num\">1.1.12&nbsp;&nbsp;</span>Get aspect ratio</a></div><div class=\"lev3 toc-item\"><a href=\"#Eveyrthing-connected\" data-toc-modified-id=\"Eveyrthing-connected-1113\"><span class=\"toc-item-num\">1.1.13&nbsp;&nbsp;</span>Eveyrthing connected</a></div><div class=\"lev2 toc-item\"><a href=\"#Experiments\" data-toc-modified-id=\"Experiments-12\"><span class=\"toc-item-num\">1.2&nbsp;&nbsp;</span>Experiments</a></div>"
   ]
  },
  {
   "cell_type": "markdown",
   "metadata": {},
   "source": [
    "# Checking regression "
   ]
  },
  {
   "cell_type": "markdown",
   "metadata": {},
   "source": [
    "The strategy will be to check regression in x and y and see how that works out when you combine it. Clearly something must be amiss. So the list of things to do is the following - \n",
    "\n",
    "\n",
    "1) check regression in x \n",
    "\n",
    "2) check regression in y \n",
    "\n",
    "3) check regression when you combine both\n",
    "\n",
    "4) For all of this you need to check each function to make sure that it is doing what its supposed to do\n",
    "\n",
    "\n"
   ]
  },
  {
   "cell_type": "markdown",
   "metadata": {},
   "source": [
    "## Checking functions "
   ]
  },
  {
   "cell_type": "markdown",
   "metadata": {},
   "source": [
    "### Generate boxes\n",
    "\n",
    "First attempt chose a static box to see what is going on,  you will replicate the code for random boxes"
   ]
  },
  {
   "cell_type": "code",
   "execution_count": 1,
   "metadata": {
    "ExecuteTime": {
     "end_time": "2017-11-27T16:35:16.260697Z",
     "start_time": "2017-11-27T16:35:15.541162Z"
    },
    "collapsed": true
   },
   "outputs": [],
   "source": [
    "import chainer\n",
    "import numpy as np\n",
    "import matplotlib.pyplot as plt\n",
    "from matplotlib import patches, transforms \n",
    "import random \n",
    "from chainer.functions import log, hstack, huber_loss\n",
    "from chainer import cuda \n",
    "import cupy \n",
    "# %matplotlib notebook\n",
    "def get_single_image(pos_r, pos_c, height, width, angle  ): \n",
    "    \n",
    "    image = np.zeros((1,3,128,128), dtype=np.float32)\n",
    "\n",
    "    gts = []\n",
    "\n",
    "    for i in range(1):\n",
    "        # Choose random coordinate, this can also be run in a loop\n",
    "        width = width\n",
    "        height =height\n",
    "        pos_r =pos_r\n",
    "        pos_c =pos_c\n",
    "        image[0,:,pos_r-int(height/2):pos_r+int(height/2),pos_c-int(width/2):pos_c+int(width/2)]=1\n",
    "        #print(pos_r, pos_c)\n",
    "\n",
    "        cx = pos_c #+ width/2.0\n",
    "        cy = pos_r #+ #height/2.0\n",
    "\n",
    "        box = [cx, cy, width, height,angle, 1, 0]\n",
    "\n",
    "        gts.append(box)\n",
    "\n",
    "    # Create ground truth object\n",
    "    gts2 = chainer.Variable(cuda.to_gpu(np.array(gts, dtype=np.float32))) \n",
    "    \n",
    "    return gts2,image \n",
    "\n",
    "\n",
    "gt, img  = get_single_image(50,50, 50,20, 0.0)\n",
    "# for i in range(1):\n",
    "    # Initialize the image\n",
    "    \n",
    "    # Visualize the entire thing\n",
    "#     img_np = np.array(img)\n",
    "#     plt.imshow(img[0,0,:,:])\n",
    "#     plt.show()"
   ]
  },
  {
   "cell_type": "code",
   "execution_count": 2,
   "metadata": {
    "ExecuteTime": {
     "end_time": "2017-11-27T16:35:16.267398Z",
     "start_time": "2017-11-27T16:35:16.262510Z"
    }
   },
   "outputs": [
    {
     "name": "stdout",
     "output_type": "stream",
     "text": [
      "ground truth box coordinates:  variable([[ 50.  50.  20.  50.   0.   1.   0.]]) gt shape : (1, 7)\n",
      "-----------------------------------------------\n",
      "Image shape (1, 3, 128, 128)\n"
     ]
    }
   ],
   "source": [
    "print('ground truth box coordinates: ' ,gt,'gt shape :' ,gt.shape)\n",
    "print('-----------------------------------------------')\n",
    "print('Image shape', img.shape)\n"
   ]
  },
  {
   "cell_type": "code",
   "execution_count": 3,
   "metadata": {
    "ExecuteTime": {
     "end_time": "2017-11-27T16:35:16.471237Z",
     "start_time": "2017-11-27T16:35:16.268814Z"
    }
   },
   "outputs": [
    {
     "data": {
      "text/plain": [
       "array([[[[ 0.,  0.,  0., ...,  0.,  0.,  0.],\n",
       "         [ 0.,  0.,  0., ...,  0.,  0.,  0.],\n",
       "         [ 0.,  0.,  0., ...,  0.,  0.,  0.],\n",
       "         ..., \n",
       "         [ 0.,  0.,  0., ...,  0.,  0.,  0.],\n",
       "         [ 0.,  0.,  0., ...,  0.,  0.,  0.],\n",
       "         [ 0.,  0.,  0., ...,  0.,  0.,  0.]],\n",
       "\n",
       "        [[ 0.,  0.,  0., ...,  0.,  0.,  0.],\n",
       "         [ 0.,  0.,  0., ...,  0.,  0.,  0.],\n",
       "         [ 0.,  0.,  0., ...,  0.,  0.,  0.],\n",
       "         ..., \n",
       "         [ 0.,  0.,  0., ...,  0.,  0.,  0.],\n",
       "         [ 0.,  0.,  0., ...,  0.,  0.,  0.],\n",
       "         [ 0.,  0.,  0., ...,  0.,  0.,  0.]],\n",
       "\n",
       "        [[ 0.,  0.,  0., ...,  0.,  0.,  0.],\n",
       "         [ 0.,  0.,  0., ...,  0.,  0.,  0.],\n",
       "         [ 0.,  0.,  0., ...,  0.,  0.,  0.],\n",
       "         ..., \n",
       "         [ 0.,  0.,  0., ...,  0.,  0.,  0.],\n",
       "         [ 0.,  0.,  0., ...,  0.,  0.,  0.],\n",
       "         [ 0.,  0.,  0., ...,  0.,  0.,  0.]]]], dtype=float32)"
      ]
     },
     "execution_count": 3,
     "metadata": {},
     "output_type": "execute_result"
    }
   ],
   "source": [
    "img"
   ]
  },
  {
   "cell_type": "markdown",
   "metadata": {},
   "source": [
    "### Generate rotated boxes"
   ]
  },
  {
   "cell_type": "code",
   "execution_count": 4,
   "metadata": {
    "ExecuteTime": {
     "end_time": "2017-11-27T16:35:16.625671Z",
     "start_time": "2017-11-27T16:35:16.472713Z"
    }
   },
   "outputs": [
    {
     "name": "stdout",
     "output_type": "stream",
     "text": [
      "ground truth box coordinates:  variable([[ 60.          60.          30.          50.           1.67551613\n",
      "             1.           0.        ]]) gt shape : (1, 7)\n",
      "-----------------------------------------------\n",
      "Image shape (1, 3, 128, 128)\n"
     ]
    }
   ],
   "source": [
    "# checking how to generate rotated rectangles \n",
    "from PIL import Image\n",
    "from PIL import ImageDraw\n",
    "import math\n",
    "\n",
    "def rotate_point(origin, point, angle):\n",
    "    \"\"\"\n",
    "    Rotate a point counterclockwise by a given angle around a given origin.\n",
    "\n",
    "    The angle should be given in radians.\n",
    "    \"\"\"\n",
    "    ox, oy = origin\n",
    "    px, py = point\n",
    "\n",
    "    qx = ox + math.cos(angle) * (px - ox) - math.sin(angle) * (py - oy)\n",
    "    qy = oy + math.sin(angle) * (px - ox) + math.cos(angle) * (py - oy)\n",
    "\n",
    "    return qx, qy\n",
    "\n",
    "angle= np.deg2rad(96)\n",
    "img_size = img.shape[2]\n",
    "centerx= 60\n",
    "centery = 60 \n",
    "width =30 \n",
    "height= 50 \n",
    "\n",
    "\n",
    "\n",
    "def rotated_generated_image(centerx, centery, width, height, angle, plot_image=False): \n",
    "    \"\"\"\n",
    "     Input- \n",
    "     \n",
    "     img_size : (2,2) array -size of the input image to draw on \n",
    "     \n",
    "     Output- \n",
    "     box      : 1*7 numpy array [centerx, centery, width, height, angle,1,0]\n",
    "     \n",
    "    \"\"\"\n",
    "  \n",
    "    img_size= 128\n",
    "    \n",
    "    angle = angle\n",
    "    points =np.array([[centerx-(width/2),centery-(height/2)],\n",
    "            [centerx-(width/2),centery+(height/2)], \n",
    "            [centerx+(width/2),centery+(height/2)], \n",
    "             [centerx+(width/2),centery-(height/2)]])\n",
    "    center = [centerx, centery]\n",
    "    all_rotated_points = [ rotate_point(center,points[x,:], angle) for x in range(0,4)]    \n",
    "\n",
    "    img = Image.new('RGB', (img_size, img_size), (0, 0, 0))\n",
    "    draw = ImageDraw.Draw(img, 'RGBA')\n",
    "    draw.polygon(all_rotated_points, (255, 0, 0))\n",
    "    img_numpy = np.array(img, dtype=np.float32)\n",
    "    box = chainer.Variable(cuda.to_gpu(np.array([centerx, centery, width, height, angle, 1, 0], dtype=np.float32)))       \n",
    "    box =chainer.functions.reshape(box,(1,7))\n",
    "  \n",
    "    \n",
    "    if plot_image==True: \n",
    "        plt.figure()\n",
    "        plt.imshow(img_numpy[:,:,0])\n",
    "        plt.show()\n",
    "    \n",
    "    for i in range(3): \n",
    "        single_channel = img_numpy[:,:,i]\n",
    "    \n",
    "        if i==0:     \n",
    "            tr_image = np.reshape(single_channel,[1,1,single_channel.shape[0], single_channel.shape[1]], order='C')\n",
    "        else: \n",
    "            tr_image =np.hstack((tr_image,  np.reshape(single_channel,[1,1,single_channel.shape[0], single_channel.shape[1]], order='C')))\n",
    "        \n",
    "    \n",
    "    return box, tr_image\n",
    "\n",
    "\n",
    "rot_gt,rot_img= rotated_generated_image(centerx, centery, width, height, angle,plot_image=False )    \n",
    "print('ground truth box coordinates: ' ,rot_gt,'gt shape :' ,rot_gt.shape)\n",
    "print('-----------------------------------------------')\n",
    "print('Image shape', rot_img.shape)\n",
    "\n"
   ]
  },
  {
   "cell_type": "code",
   "execution_count": 5,
   "metadata": {
    "ExecuteTime": {
     "end_time": "2017-11-27T16:35:16.853655Z",
     "start_time": "2017-11-27T16:35:16.627178Z"
    }
   },
   "outputs": [
    {
     "data": {
      "image/png": "[encoded data removed]",
      "text/plain": [
       "<matplotlib.figure.Figure at 0x7f25ec0cd588>"
      ]
     },
     "metadata": {},
     "output_type": "display_data"
    }
   ],
   "source": [
    "\n",
    "        \n",
    "plt.figure()\n",
    "plt.imshow(rot_img[0,0,:,:])\n",
    "plt.show()\n"
   ]
  },
  {
   "cell_type": "markdown",
   "metadata": {},
   "source": [
    "### Generate test dataset"
   ]
  },
  {
   "cell_type": "code",
   "execution_count": 6,
   "metadata": {
    "ExecuteTime": {
     "end_time": "2017-11-27T16:35:17.007989Z",
     "start_time": "2017-11-27T16:35:16.859221Z"
    }
   },
   "outputs": [
    {
     "data": {
      "image/png": "[encoded data removed]",
      "text/plain": [
       "<matplotlib.figure.Figure at 0x7f25d5263b00>"
      ]
     },
     "metadata": {},
     "output_type": "display_data"
    }
   ],
   "source": [
    "def generate_test_set():\n",
    "    \n",
    "    image_sizes = [10,15,20,25,30,35,40,45,50,55,60]\n",
    "    locx =[20,20,30,30,40,40,50, 60,60,60,60]\n",
    "    locy = [60,60,30,30,40,60,50, 45,45,50,50]\n",
    "    test_gts = []\n",
    "    imgs = []\n",
    "    \n",
    "    for i in range(len(locx)): \n",
    "\n",
    "        image = np.zeros((1,3,128,128), dtype=np.float32)\n",
    "        # Choose random coordinate, this can also be run in a loop\n",
    "        width = image_sizes[i]\n",
    "        height =image_sizes[i]\n",
    "        pos_r =locx[i]\n",
    "        pos_c =locy[i]\n",
    "        image[0,:,pos_r:pos_r+height,pos_c:pos_c+width]=1\n",
    "        #print(pos_r, pos_c)\n",
    "\n",
    "        cx = pos_c #+ width/2.0\n",
    "        cy = pos_r #- height/2.0\n",
    "\n",
    "        box = [cx, cy, width, height, 1, 0]\n",
    "\n",
    "        test_gts.append(box)\n",
    "        imgs.append(image)\n",
    "    # Create ground truth object\n",
    "    test_gts2 = chainer.Variable(np.array(test_gts, dtype=np.float32))\n",
    "    return test_gts2, imgs \n",
    "\n",
    "test_gts, test_imgs = generate_test_set()\n",
    "test_gts\n",
    "\n",
    "img_test = test_imgs[1]\n",
    "\n",
    "plt.imshow(img_test[0,0,:,:])\n",
    "\n",
    "\n",
    "plt.show()\n"
   ]
  },
  {
   "cell_type": "markdown",
   "metadata": {},
   "source": [
    "### Rotated boxes test set"
   ]
  },
  {
   "cell_type": "code",
   "execution_count": 7,
   "metadata": {
    "ExecuteTime": {
     "end_time": "2017-11-27T16:35:17.031300Z",
     "start_time": "2017-11-27T16:35:17.009696Z"
    }
   },
   "outputs": [],
   "source": [
    "def get_test_results(angles, widths, positions, model,select_index,def_boxes): \n",
    "    test_pred_boxes_all =[]\n",
    "    test_gt_all= []\n",
    "    test_def_boxes =def_boxes \n",
    "    \n",
    "    for i in range(len(angles)): \n",
    "            angle =np.deg2rad(angles[i])\n",
    "            width = widths[i]\n",
    "            height = heights[i]\n",
    "            center_x, center_y = positions[i]\n",
    "            test_gt, rotated_test_image= rotated_generated_image(center_x, center_y, width, height, angle, plot_image=False)\n",
    "            gpu_test_image =chainer.Variable(cuda.to_gpu(rotated_test_image))\n",
    "            test_shifts  = get_shifts(boxnet(gpu_test_image))    \n",
    "            test_pred_boxes = get_pred_boxes(test_shifts, test_def_boxes)\n",
    "            test_pred_boxes_all.append(test_pred_boxes)    \n",
    "            test_gt_all.append(test_gt)\n",
    "            print('Angle- ', np.rad2deg(angle), 'Width- ', width, 'Height- ', height, ' Position- ', center_x, center_y)\n",
    "            draw_pred_boxes(test_pred_boxes,test_def_boxes, rotated_test_image)\n",
    "            \n",
    "            \n",
    "    return test_pred_boxes_all,test_gt_all\n",
    "\n"
   ]
  },
  {
   "cell_type": "code",
   "execution_count": null,
   "metadata": {
    "ExecuteTime": {
     "end_time": "2017-11-27T08:38:54.681732Z",
     "start_time": "2017-11-27T08:38:54.677595Z"
    }
   },
   "outputs": [],
   "source": [
    " \n",
    "    "
   ]
  },
  {
   "cell_type": "markdown",
   "metadata": {},
   "source": [
    "### Conv net definitions "
   ]
  },
  {
   "cell_type": "code",
   "execution_count": 8,
   "metadata": {
    "ExecuteTime": {
     "end_time": "2017-11-27T16:35:17.118508Z",
     "start_time": "2017-11-27T16:35:17.035799Z"
    }
   },
   "outputs": [],
   "source": [
    "from chainer import Chain\n",
    "import chainer\n",
    "import chainer.functions as F\n",
    "import chainer.links as L\n",
    "\n",
    "class ConvNet(Chain):\n",
    "    def __init__(self):\n",
    "        super(ConvNet, self).__init__(\n",
    "            l1=L.Convolution2D(None,64,ksize=(3,3),stride=1,pad=1),\n",
    "            b1 =L.BatchNormalization(64),\n",
    "            \n",
    "            l2=L.Convolution2D(64,64,ksize=(3,3),stride=1,pad=1),\n",
    "            b2 =L.BatchNormalization(64),            \n",
    "            \n",
    "            l3=L.DilatedConvolution2D(64,64,ksize=(5,5),stride=1,pad=1),\n",
    "            \n",
    "            l4=L.Convolution2D(64,64,ksize=(3,3),stride=1,pad=1),\n",
    "            b4 =L.BatchNormalization(64),\n",
    "            \n",
    "            l5=L.Convolution2D(64,128,ksize=(3,3),stride=1,pad=1),    \n",
    "            b5 =L.BatchNormalization(128),\n",
    "            \n",
    "            l6=L.DilatedConvolution2D(128,256,ksize=(7,7),stride=1,pad=1),\n",
    "            b6 =L.BatchNormalization(256),\n",
    "            \n",
    "            l7=L.Convolution2D(256,256,ksize=(3,3),stride=1,pad=1),\n",
    "            b7 =L.BatchNormalization(256),\n",
    "            \n",
    "            l8=L.Convolution2D(256,256,ksize=(3,3),stride=1,pad=1),\n",
    "            b8 =L.BatchNormalization(256),\n",
    "            \n",
    "        )\n",
    "        \n",
    "        \n",
    "    def __call__(self, x):\n",
    "        h = F.relu((self.l1(x)))\n",
    "        h= F.relu((self.l2(h)))\n",
    "       \n",
    "        \n",
    "        h = F.relu(self.l3(h))\n",
    "#         h4 = F.max_pooling_2d(h3, 2)\n",
    "        \n",
    "        h = F.relu((self.l4(h)))\n",
    "        h= F.relu((self.l5(h)))\n",
    "        \n",
    "        h = F.relu((self.l6(h)))\n",
    "        h = F.relu((self.l7(h)))\n",
    "       \n",
    "        \n",
    "        \n",
    "        return self.l8(F.sigmoid(h))\n",
    "    "
   ]
  },
  {
   "cell_type": "code",
   "execution_count": 9,
   "metadata": {
    "ExecuteTime": {
     "end_time": "2017-11-27T16:35:17.979105Z",
     "start_time": "2017-11-27T16:35:17.120444Z"
    }
   },
   "outputs": [
    {
     "data": {
      "text/plain": [
       "(1, 7, 122, 122)"
      ]
     },
     "execution_count": 9,
     "metadata": {},
     "output_type": "execute_result"
    }
   ],
   "source": [
    "class BoxNet(Chain):\n",
    "    def __init__(self, predictor):\n",
    "        super(BoxNet, self).__init__(\n",
    "            l1=L.Convolution2D(None,7,ksize=(3,3),stride=1,pad=1)\n",
    "        )\n",
    "        self.predictor = predictor\n",
    "        \n",
    "    def __call__(self, x):\n",
    "        h1 = self.l1(self.predictor(x))\n",
    "        return h1\n",
    "convnet = ConvNet()   \n",
    "convnet.to_gpu(0)\n",
    "boxnet = BoxNet(convnet)\n",
    "boxnet.to_gpu(0)\n",
    "\n",
    "img_gpu= chainer.Variable(cuda.to_gpu(img))\n",
    "\n",
    "\n",
    "fm = convnet(img_gpu)\n",
    "shifts_all = boxnet(img_gpu)\n",
    "\n",
    "select_index  = 64\n",
    "shifts= shifts_all[:,:,select_index,select_index]\n",
    "shifts =F.reshape(shifts,[1,7,1,1])\n",
    "shifts_all.shape\n"
   ]
  },
  {
   "cell_type": "code",
   "execution_count": 10,
   "metadata": {
    "ExecuteTime": {
     "end_time": "2017-11-27T16:35:18.129161Z",
     "start_time": "2017-11-27T16:35:17.981041Z"
    }
   },
   "outputs": [
    {
     "name": "stdout",
     "output_type": "stream",
     "text": [
      "shifts all shape : (1, 7, 122, 122)  \n",
      " shifts shape : (1, 7, 1, 1)\n",
      "------------------------------------------\n",
      "shifts value : variable([[[ 0.18286584]]\n",
      "\n",
      "          [[ 0.12371329]]\n",
      "\n",
      "          [[ 0.40683699]]\n",
      "\n",
      "          [[-0.35185733]]\n",
      "\n",
      "          [[-0.38958791]]\n",
      "\n",
      "          [[ 0.33083138]]\n",
      "\n",
      "          [[ 0.10097257]]])\n"
     ]
    }
   ],
   "source": [
    "print('shifts all shape :', shifts_all.shape,  ' \\n shifts shape :', shifts.shape)\n",
    "print('------------------------------------------')\n",
    "print('shifts value :', shifts[0])"
   ]
  },
  {
   "cell_type": "code",
   "execution_count": null,
   "metadata": {
    "ExecuteTime": {
     "end_time": "2017-11-26T09:38:44.573182Z",
     "start_time": "2017-11-26T09:38:44.567015Z"
    },
    "collapsed": true
   },
   "outputs": [],
   "source": []
  },
  {
   "cell_type": "markdown",
   "metadata": {},
   "source": [
    "### Generate Default boxes"
   ]
  },
  {
   "cell_type": "code",
   "execution_count": 11,
   "metadata": {
    "ExecuteTime": {
     "end_time": "2017-11-27T16:35:18.159932Z",
     "start_time": "2017-11-27T16:35:18.131017Z"
    },
    "collapsed": true
   },
   "outputs": [],
   "source": [
    "def defaultgen(I, F, width, height,angle ):\n",
    "    \"\"\"\n",
    "    Generates an array of default boxes: Chainer TESTED\n",
    "    \n",
    "    Args:\n",
    "        I: Input image tensor (N,channels,rows,cols)\n",
    "        F: Feature map tensor to generate default boxes for\n",
    "        width: Width of the box\n",
    "        height: Height of the box\n",
    "        \n",
    "    Returns:\n",
    "        db: Default boxes tensor, flattened\n",
    "    \"\"\"\n",
    "    scale = (I.shape[2] / F.shape[2])\n",
    "    offset = np.ones((2,F.shape[2],F.shape[3]), dtype=np.float32)\n",
    "    iterator = np.flip(np.indices((F.shape[2],F.shape[3])), axis=0).astype(np.float32)\n",
    "    \n",
    "    xys = offset * ((scale-1)/2) + iterator * scale\n",
    "    xys = np.moveaxis(xys,0,2)\n",
    "    ws = np.full((F.shape[2],F.shape[3],1), width, dtype=np.float32)\n",
    "    hs = np.full((F.shape[2],F.shape[3],1), height,dtype=np.float32)\n",
    "    class_scores = np.zeros((F.shape[2],F.shape[3],2), dtype=np.float32)\n",
    "    angle = np.full((F.shape[2],F.shape[3],1), angle,dtype=np.float32)\n",
    "\n",
    "    db = np.dstack([xys, ws, hs,angle, class_scores])\n",
    "   \n",
    "#     db = db[64,64,:]\n",
    "#     db = db.reshape([1,1,6])\n",
    "    db = cuda.to_gpu(db)\n",
    "    return chainer.Variable(db.reshape((db.shape[0] * db.shape[1], 7)))\n"
   ]
  },
  {
   "cell_type": "code",
   "execution_count": 12,
   "metadata": {
    "ExecuteTime": {
     "end_time": "2017-11-27T16:35:18.276898Z",
     "start_time": "2017-11-27T16:35:18.161652Z"
    }
   },
   "outputs": [
    {
     "name": "stdout",
     "output_type": "stream",
     "text": [
      "def_boxes values: variable([[ 67.17212677  67.17212677  60.          60.           0.           0.\n",
      "             0.        ]])\n",
      "---------------------------------------\n",
      "print shape of def boxes : (1, 7)\n"
     ]
    }
   ],
   "source": [
    "def_boxes = defaultgen(img,fm, 60,60, 0.0)\n",
    "def_box_index =np.ravel_multi_index((select_index,select_index),(shifts_all.shape[2],shifts_all.shape[3]))\n",
    "def_boxes = def_boxes[def_box_index,:]\n",
    "def_boxes =def_boxes.reshape([1,1,7])\n",
    "def_boxes = def_boxes[0]\n",
    "\n",
    "print('def_boxes values:', def_boxes)\n",
    "print('---------------------------------------')\n",
    "print('print shape of def boxes :', def_boxes.shape)"
   ]
  },
  {
   "cell_type": "code",
   "execution_count": null,
   "metadata": {
    "ExecuteTime": {
     "end_time": "2017-11-22T08:48:39.808214Z",
     "start_time": "2017-11-22T08:48:39.804425Z"
    },
    "collapsed": true
   },
   "outputs": [],
   "source": []
  },
  {
   "cell_type": "markdown",
   "metadata": {},
   "source": [
    "### Center to coords \n",
    "\n",
    "This function has been checked, seems correct, some examples below"
   ]
  },
  {
   "cell_type": "code",
   "execution_count": 13,
   "metadata": {
    "ExecuteTime": {
     "end_time": "2017-11-27T16:35:18.383754Z",
     "start_time": "2017-11-27T16:35:18.278965Z"
    },
    "collapsed": true
   },
   "outputs": [],
   "source": [
    "def center_to_coords(box):\n",
    "    \"\"\" \n",
    "    Converts bounding box from (cx, cy, w, h) format to (x1, y1, x2, y2) format\n",
    "    \n",
    "    Args:\n",
    "        box: 7d numpy array\n",
    "        \n",
    "    Returns:\n",
    "        box_transformed: Box in the second format\n",
    "    \n",
    "    \"\"\"\n",
    "    box_transformed = np.array([box[0]-box[2]/2.0, box[1]-box[3]/2.0, box[0]+box[2]/2.0, box[1]+box[3]/2.0, box[4], box[5], box[6]])\n",
    "    return box_transformed\n",
    "\n"
   ]
  },
  {
   "cell_type": "markdown",
   "metadata": {
    "ExecuteTime": {
     "end_time": "2017-11-19T04:14:15.764172Z",
     "start_time": "2017-11-19T04:14:15.761232Z"
    }
   },
   "source": [
    "Checking center to coords..."
   ]
  },
  {
   "cell_type": "code",
   "execution_count": 14,
   "metadata": {
    "ExecuteTime": {
     "end_time": "2017-11-27T16:35:18.499324Z",
     "start_time": "2017-11-27T16:35:18.385667Z"
    }
   },
   "outputs": [
    {
     "data": {
      "text/plain": [
       "array([variable(37.17212677001953), variable(37.17212677001953),\n",
       "       variable(97.17212677001953), variable(97.17212677001953),\n",
       "       variable(0.0), variable(0.0), variable(0.0)], dtype=object)"
      ]
     },
     "execution_count": 14,
     "metadata": {},
     "output_type": "execute_result"
    }
   ],
   "source": [
    "center_to_coords(def_boxes[0])\n"
   ]
  },
  {
   "cell_type": "code",
   "execution_count": 15,
   "metadata": {
    "ExecuteTime": {
     "end_time": "2017-11-27T16:35:18.571195Z",
     "start_time": "2017-11-27T16:35:18.501089Z"
    }
   },
   "outputs": [
    {
     "name": "stdout",
     "output_type": "stream",
     "text": [
      "[  73.5   -1.5  106.5   31.5    0.     5.     0. ] [  8.5   7.5  11.5  10.5   0.5   0.    0. ]\n"
     ]
    }
   ],
   "source": [
    "# some more checks \n",
    "\n",
    "box1= np.array([10,9, 3,3,0.5,0,0])\n",
    "box2= np.array([90,15, 33,33,0,5, 0,0])\n",
    "\n",
    "print(center_to_coords(box2), center_to_coords(box1)) "
   ]
  },
  {
   "cell_type": "markdown",
   "metadata": {},
   "source": [
    "### Get prediction boxes \n",
    "\n",
    "This seems to be correct as well"
   ]
  },
  {
   "cell_type": "code",
   "execution_count": 16,
   "metadata": {
    "ExecuteTime": {
     "end_time": "2017-11-27T16:35:18.674367Z",
     "start_time": "2017-11-27T16:35:18.573182Z"
    },
    "collapsed": true
   },
   "outputs": [],
   "source": [
    "def get_pred_boxes(shift_vals, default_boxes ): \n",
    "    \"\"\"\n",
    "    Get predicted boxes by combining shift values to default boxes\n",
    "    Input: \n",
    "\n",
    "    shift_values : Shifts generated by the network  NDarray (None, Num of Default boxes, 4+num of classes)\n",
    "    Default boxes  : Default boxes generated by the network NDarray (None, Num of Default boxes, 4+num of classes)\n",
    "\n",
    "    Output: \n",
    "\n",
    "    Predicted boxes  : Predicted boxes, same shape as default boxes  NDarray (None, Num of Default boxes, 4+num of classes)\n",
    "\n",
    "    \"\"\"\n",
    "    \n",
    "    shift_val_shape= default_boxes.shape\n",
    "    shift_vals= F.swapaxes(shift_vals,1,3)\n",
    "    shift_vals= F.reshape(shift_vals,shift_val_shape)\n",
    "    \n",
    "    shifts = shift_vals \n",
    "    def_boxes= default_boxes\n",
    "    \n",
    "\n",
    "    cx_pred = (shifts[:,0]*def_boxes[:,2])+def_boxes[:,0]\n",
    "    cy_pred = (shifts[:,1]*def_boxes[:,3])+def_boxes[:,1]\n",
    "    H_pred = F.exp(shifts[:,3])*def_boxes[:,3]\n",
    "    W_pred = F.exp(shifts[:,2])*def_boxes[:,2]\n",
    "    \n",
    "    class1 = shifts[:,5]\n",
    "    class2 = shifts[:,6]\n",
    "    \n",
    "    angle_pred  =shifts[:,4]\n",
    "    \n",
    "    pred_boxes = F.vstack((cx_pred,cy_pred,W_pred,H_pred,angle_pred, class1, class2))\n",
    "    pred_boxes = F.transpose(pred_boxes)\n",
    "    \n",
    "    return  pred_boxes "
   ]
  },
  {
   "cell_type": "code",
   "execution_count": 17,
   "metadata": {
    "ExecuteTime": {
     "end_time": "2017-11-27T16:35:18.768160Z",
     "start_time": "2017-11-27T16:35:18.676304Z"
    }
   },
   "outputs": [
    {
     "name": "stdout",
     "output_type": "stream",
     "text": [
      "prediction box coordinates : variable([[ 78.14407349  74.59492493  90.12355804  42.20282364  -0.38958791\n",
      "             0.33083138   0.10097257]])\n"
     ]
    }
   ],
   "source": [
    "pred_boxes= get_pred_boxes(shifts, def_boxes)\n",
    "print('prediction box coordinates :', pred_boxes)"
   ]
  },
  {
   "cell_type": "code",
   "execution_count": 18,
   "metadata": {
    "ExecuteTime": {
     "end_time": "2017-11-27T16:35:18.837398Z",
     "start_time": "2017-11-27T16:35:18.771227Z"
    }
   },
   "outputs": [
    {
     "data": {
      "text/plain": [
       "variable([[[[ 0.18286584]],\n",
       "\n",
       "           [[ 0.12371329]],\n",
       "\n",
       "           [[ 0.40683699]],\n",
       "\n",
       "           [[-0.35185733]],\n",
       "\n",
       "           [[-0.38958791]],\n",
       "\n",
       "           [[ 0.33083138]],\n",
       "\n",
       "           [[ 0.10097257]]]])"
      ]
     },
     "execution_count": 18,
     "metadata": {},
     "output_type": "execute_result"
    }
   ],
   "source": [
    "shifts"
   ]
  },
  {
   "cell_type": "code",
   "execution_count": 19,
   "metadata": {
    "ExecuteTime": {
     "end_time": "2017-11-27T16:35:18.914853Z",
     "start_time": "2017-11-27T16:35:18.839451Z"
    }
   },
   "outputs": [
    {
     "data": {
      "text/plain": [
       "variable([[ 67.17212677,  67.17212677,  60.        ,  60.        ,\n",
       "             0.        ,   0.        ,   0.        ]])"
      ]
     },
     "execution_count": 19,
     "metadata": {},
     "output_type": "execute_result"
    }
   ],
   "source": [
    "def_boxes"
   ]
  },
  {
   "cell_type": "markdown",
   "metadata": {},
   "source": [
    "### Draw all boxes"
   ]
  },
  {
   "cell_type": "code",
   "execution_count": 20,
   "metadata": {
    "ExecuteTime": {
     "end_time": "2017-11-27T16:35:19.086795Z",
     "start_time": "2017-11-27T16:35:18.916756Z"
    }
   },
   "outputs": [
    {
     "data": {
      "image/png": "[encoded data removed]",
      "text/plain": [
       "<matplotlib.figure.Figure at 0x7f25d438ebe0>"
      ]
     },
     "metadata": {},
     "output_type": "display_data"
    }
   ],
   "source": [
    "\n",
    "def draw_pred_boxes(prediction_boxes,default_boxes, img): \n",
    "    \"\"\"Draw predicted boxes on the original image \"\"\"\n",
    "    img = img\n",
    "    plt.figure()\n",
    "    ax = plt.axes()\n",
    "    pbox =prediction_boxes\n",
    "\n",
    "\n",
    "    for box in default_boxes:\n",
    "        box = center_to_coords(box.data)\n",
    "        ax.imshow(img[0,0,:,:])\n",
    "        p = patches.Rectangle((box[0], box[1]), box[2]-box[0], box[3]-box[1], fill=False, color = 'red')\n",
    "        ax.add_patch(p)\n",
    "    \n",
    "    for box in pbox:\n",
    "        box2= cuda.to_cpu(box.data)\n",
    "        cbox = center_to_coords(box2)\n",
    "        \n",
    "#         ax.imshow(img[0,0,:,:])\n",
    "#         print(box)\n",
    "        q = patches.Rectangle((cbox[0], cbox[1]), cbox[2]-cbox[0], cbox[3]-cbox[1], fill=False, color = 'green')\n",
    "        t = transforms.Affine2D().rotate_around(box2[0], box2[1], box2[4])+ ax.transData\n",
    "        q.set_transform(t)\n",
    "        \n",
    "        ax.add_patch(q)\n",
    "\n",
    "\n",
    "    plt.show()\n",
    "\n",
    "    \n",
    "draw_pred_boxes(pred_boxes,def_boxes, rot_img)\n"
   ]
  },
  {
   "cell_type": "code",
   "execution_count": 21,
   "metadata": {
    "ExecuteTime": {
     "end_time": "2017-11-27T16:35:19.109574Z",
     "start_time": "2017-11-27T16:35:19.088157Z"
    }
   },
   "outputs": [
    {
     "data": {
      "text/plain": [
       "variable([[ 78.14407349,  74.59492493,  90.12355804,  42.20282364,\n",
       "            -0.38958791,   0.33083138,   0.10097257]])"
      ]
     },
     "execution_count": 21,
     "metadata": {},
     "output_type": "execute_result"
    }
   ],
   "source": [
    "pred_boxes"
   ]
  },
  {
   "cell_type": "code",
   "execution_count": 22,
   "metadata": {
    "ExecuteTime": {
     "end_time": "2017-11-27T16:35:19.180315Z",
     "start_time": "2017-11-27T16:35:19.111047Z"
    }
   },
   "outputs": [
    {
     "data": {
      "text/plain": [
       "variable([[ 50.,  50.,  20.,  50.,   0.,   1.,   0.]])"
      ]
     },
     "execution_count": 22,
     "metadata": {},
     "output_type": "execute_result"
    }
   ],
   "source": [
    "gt"
   ]
  },
  {
   "cell_type": "markdown",
   "metadata": {
    "ExecuteTime": {
     "end_time": "2017-11-19T06:23:08.749346Z",
     "start_time": "2017-11-19T06:23:08.729143Z"
    }
   },
   "source": [
    "### Normalize shifts     "
   ]
  },
  {
   "cell_type": "code",
   "execution_count": 23,
   "metadata": {
    "ExecuteTime": {
     "end_time": "2017-11-27T16:35:19.250036Z",
     "start_time": "2017-11-27T16:35:19.181759Z"
    },
    "collapsed": true
   },
   "outputs": [],
   "source": [
    "\n",
    "def normalize_shift(box, def_box):\n",
    "    \"\"\"\n",
    "    Scales down absolute shifts, % for centers, log for height and width.\n",
    "    \n",
    "    Args:\n",
    "        box: 6x1 bounding box coordinates\n",
    "        def_box: 6x1 reference box coordinates\n",
    "        \n",
    "    Returns:\n",
    "        normalized_shift_vector: 4x1 normalized shift vector. Note that we discard the last 2 channels.\n",
    "    \"\"\"\n",
    "    tx = (box[0] - def_box[0])/def_box[2]\n",
    "    ty = (box[1] - def_box[1])/def_box[3]\n",
    "    tw = log(box[2]/def_box[2])\n",
    "    th = log(box[3]/def_box[3])\n",
    "    ang  = box[4]- def_box[4]\n",
    "    return hstack([tx, ty, tw, th, ang])\n",
    "    "
   ]
  },
  {
   "cell_type": "markdown",
   "metadata": {},
   "source": [
    "### Regression loss \n",
    "\n",
    "This too seems to work "
   ]
  },
  {
   "cell_type": "code",
   "execution_count": 24,
   "metadata": {
    "ExecuteTime": {
     "end_time": "2017-11-27T16:35:19.376431Z",
     "start_time": "2017-11-27T16:35:19.251430Z"
    }
   },
   "outputs": [
    {
     "name": "stdout",
     "output_type": "stream",
     "text": [
      " regression loss value : variable([ 0.48917538])\n"
     ]
    }
   ],
   "source": [
    "def regression_loss(pred_box, gt_box, def_box):\n",
    "    \"\"\"\n",
    "    Calculates regression loss between two boxes w.r.t a reference default box.\n",
    "    \n",
    "    Args:\n",
    "        pred_box: 6x1 bounding box predicted by the network\n",
    "        gt_box: 6x1 bounding box overlapping with pred_box\n",
    "        def_box: 6x1 bounding box with same index as pred_box\n",
    "        \n",
    "    Returns:\n",
    "        reg_loss: Scalar of huber loss between two vectors\n",
    "    \"\"\"\n",
    "    \n",
    "    gt_normalized  = normalize_shift(gt_box[0],def_box[0])\n",
    "    pred_normalized = normalize_shift(pred_box[0],def_box[0])\n",
    "  \n",
    "    gt_normalized = gt_normalized\n",
    "    pred_normalized = pred_normalized\n",
    "    gt_normalized = gt_normalized.reshape((1,5))\n",
    "    pred_normalized = pred_normalized.reshape((1,5))\n",
    "    \n",
    "    # l1 loss \n",
    "#     loss_val= pred_normalized - gt_normalized \n",
    "#     x_reg = F.absolute(loss_val )\n",
    "#     x_reg =F.sum(x_reg)\n",
    "    \n",
    "    #huber loss \n",
    "    return F.huber_loss(gt_normalized,pred_normalized, delta =0.2)\n",
    "    \n",
    "reg_loss_value = regression_loss(pred_boxes, gt, def_boxes)\n",
    "print(' regression loss value :', reg_loss_value)\n",
    "\n",
    "\n"
   ]
  },
  {
   "cell_type": "code",
   "execution_count": 25,
   "metadata": {
    "ExecuteTime": {
     "end_time": "2017-11-27T16:35:19.477931Z",
     "start_time": "2017-11-27T16:35:19.378117Z"
    },
    "collapsed": true
   },
   "outputs": [],
   "source": [
    "def compute_loss(gt_boxes, pred_boxes, def_boxes):\n",
    "    \n",
    "    loss_class = chainer.Variable(np.array([0.], dtype=np.float32))\n",
    "    loss_reg = chainer.Variable(np.array([0.], dtype=np.float32))\n",
    "    \n",
    "    gt_box, pred_box, def_box = gt_boxes, pred_boxes, def_boxes    \n",
    "#     loss_reg += regression_loss(pred_box, gt_box, def_box)\n",
    "    loss_reg = regression_loss(pred_box, gt_box, def_box)\n",
    "    \n",
    "    return loss_reg \n"
   ]
  },
  {
   "cell_type": "markdown",
   "metadata": {},
   "source": [
    "### Get aspect ratio "
   ]
  },
  {
   "cell_type": "code",
   "execution_count": 26,
   "metadata": {
    "ExecuteTime": {
     "end_time": "2017-11-27T16:35:19.590567Z",
     "start_time": "2017-11-27T16:35:19.479350Z"
    }
   },
   "outputs": [
    {
     "name": "stdout",
     "output_type": "stream",
     "text": [
      "height list : [360, 240, 60, 30]\n",
      "------------------------------\n",
      "width list : [40, 60, 240, 480]\n"
     ]
    }
   ],
   "source": [
    "def get_aspect_ratios(def_size ):\n",
    "\n",
    "    def_area = def_size*def_size\n",
    "    aspect_ratios = [3, 2,0.50, 0.25]\n",
    "    height_list =[]\n",
    "    width_list = []\n",
    "\n",
    "    for i in aspect_ratios: \n",
    "\n",
    "        height_list.append(int(def_size*i))  \n",
    "        width_list.append(int(def_area/(def_size*i)) )\n",
    "\n",
    "    return height_list,width_list\n",
    "\n",
    "def_size= 120 \n",
    "height_list, width_list= get_aspect_ratios(def_size)\n",
    "\n",
    "\n",
    "print('height list :',height_list)\n",
    "print('------------------------------')\n",
    "print('width list :', width_list)"
   ]
  },
  {
   "cell_type": "markdown",
   "metadata": {
    "ExecuteTime": {
     "end_time": "2017-11-19T06:31:55.610205Z",
     "start_time": "2017-11-19T06:31:55.606389Z"
    }
   },
   "source": [
    "### Eveyrthing connected\n",
    "\n",
    "Now we connect it all and first test x regression, they y regression and then combination of both\n",
    "\n",
    "could it be that the aspect ratio of a box vs the aspect ratio of the default box have something to do with the loss? \n"
   ]
  },
  {
   "cell_type": "code",
   "execution_count": 27,
   "metadata": {
    "ExecuteTime": {
     "end_time": "2017-11-27T16:35:19.774307Z",
     "start_time": "2017-11-27T16:35:19.592064Z"
    },
    "collapsed": true
   },
   "outputs": [],
   "source": [
    "from chainer.optimizers import SGD,Adam,MomentumSGD\n",
    "from tqdm import tqdm\n",
    "import matplotlib.pyplot as plt\n",
    "\n",
    "select_index =64 \n",
    "def get_shifts(shift_input):\n",
    "    \"\"\"Get shifts\"\"\"\n",
    "    \n",
    "    shifts = shift_input\n",
    "    shifts= shifts[:,:,select_index,select_index]\n",
    "    shifts =F.reshape(shifts,[1,7,1,1])\n",
    "    \n",
    "    return shifts \n",
    "\n",
    "def get_gt_coords(posdiff,angle, posr, posc):\n",
    "    \"\"\"Generate coordinates for the gt box\"\"\"\n",
    "    \n",
    "    width_gt =  np.random.randint(40, 55) \n",
    "    height_gt = width_gt\n",
    "    posx = posr+posdiff\n",
    "    posy = posc+posdiff\n",
    "    posr = np.random.randint(posr, posx) \n",
    "    posc = np.random.randint(posc, posy) \n",
    "   \n",
    "    angle = np.deg2rad(np.random.randint(0, angle)) \n",
    "    \n",
    "    return posr,posc, width_gt, height_gt, angle \n",
    "\n",
    "\n",
    "def predict_box(boxnet, posr, posc,width_gt, height_gt,angle, def_size, def_boxes): \n",
    "    \"\"\"Get prediction boxes\"\"\"\n",
    "    \n",
    "    \n",
    "    \"\"\"generate image\"\"\"\n",
    "    gt, img =rotated_generated_image(posr, posc, width_gt, height_gt,angle )\n",
    "    img_gpu =  chainer.Variable(cuda.to_gpu(img))\n",
    "    \n",
    "    \"\"\"Get shifts\"\"\"\n",
    "    shifts  = get_shifts(boxnet(img_gpu))\n",
    "    \n",
    "    \"\"\"Get default_boxes and predictions\"\"\"\n",
    "    # Forward pass ends here\n",
    "    \n",
    "    pred_boxes = get_pred_boxes(shifts, def_boxes)\n",
    "\n",
    "    \"\"\"compute loss\"\"\"\n",
    "    loss = compute_loss( gt ,pred_boxes, def_boxes)\n",
    "    \n",
    "    return gt,img, loss, pred_boxes\n",
    "\n",
    "\n",
    "\n",
    "def all_connected(boxnet,input_angle, posr, posc, width_gt, height_gt, alpha, number_loops, pos_diff, def_boxes):\n",
    "    \"\"\"\n",
    "    Input\n",
    "    posr         : average x location of a gt box \n",
    "    posc         : average y location of a gt box\n",
    "    width_gt     : width of the ground truth box \n",
    "    height_gt    : height of the ground truth box \n",
    "    alpha        : alpha value for the adam optimizer \n",
    "    number_loops : number of examples generate\n",
    "\n",
    "\n",
    "    Ouput \n",
    "    Image of the loss function \n",
    "    Loss history \n",
    "    prediction boxes\n",
    "    default boxes\n",
    "    ground truths \n",
    "    model \n",
    "    \"\"\"\n",
    "\n",
    "    \n",
    "#     boxnet = BoxNet(ConvNet())\n",
    "\n",
    "#     optimizer =Adam(alpha= alpha)\n",
    "    optimizer = MomentumSGD(lr= alpha, momentum=0.8)\n",
    "    optimizer.setup(boxnet)\n",
    "    \n",
    "    def_size =120   \n",
    "    loss_history = []\n",
    "    size_list =[]\n",
    "    \n",
    "    \n",
    "    for i in tqdm(range(number_loops)):\n",
    "       \n",
    "        \"\"\"Get image coordinates\"\"\"\n",
    "        pos_r, pos_c, width_gt, height_gt, angle =get_gt_coords(posdiff,input_angle, posr,posc)\n",
    "        \n",
    "        \"\"\"Predict a box and calculate loss\"\"\"\n",
    "        gt,img, loss , pred_boxes= predict_box(boxnet, pos_r, pos_c,width_gt,\n",
    "                                            height_gt,angle, def_size ,def_boxes)\n",
    "                                                      \n",
    "                                            \n",
    "        # plot every 100 iterations \n",
    "        if i% 50== 0 : \n",
    "            \n",
    "            draw_pred_boxes(pred_boxes,def_boxes, img)\n",
    "            print('pred box:  ', pred_boxes)\n",
    "            print('gt: ', gt)      \n",
    "                       \n",
    "            plt.show()\n",
    "        \n",
    "        loss_history.append(loss.data)\n",
    "        size_list.append(width_gt)\n",
    "        \n",
    "        boxnet.zerograds()\n",
    "        loss.backward()\n",
    "        optimizer.update()\n",
    "    \n",
    "    return loss_history, pred_boxes,def_boxes,  gt,img, boxnet\n"
   ]
  },
  {
   "cell_type": "code",
   "execution_count": 28,
   "metadata": {
    "ExecuteTime": {
     "end_time": "2017-11-27T16:35:19.869300Z",
     "start_time": "2017-11-27T16:35:19.775847Z"
    },
    "collapsed": true
   },
   "outputs": [],
   "source": [
    "def display_loss(loss_history, angle, nloops, alpha): \n",
    "  # plot loss \n",
    "\n",
    "    plt.figure(figsize=(30,10))\n",
    "    plt.xlabel('number of runs', size =30)\n",
    "    plt.ylabel('Loss value', size =30)\n",
    "\n",
    "    title_name =['Loss_vs_loops num-'+  \n",
    "                 str(nloops)+'-box_angle-'+ str(angle) + \n",
    "                 '-alpha-'+str(alpha)]\n",
    "\n",
    "    plt.title(title_name, size=22 )\n",
    "    plt.ylim([0,1])\n",
    "    plt.plot(range(len(loss_history)), loss_history)\n",
    "    plt.savefig(title_name[0]+'.png')\n",
    "    plt.show()\n",
    "    \n",
    "    "
   ]
  },
  {
   "cell_type": "code",
   "execution_count": null,
   "metadata": {
    "ExecuteTime": {
     "end_time": "2017-11-27T09:22:23.631164Z",
     "start_time": "2017-11-27T09:22:23.627338Z"
    }
   },
   "outputs": [],
   "source": []
  },
  {
   "cell_type": "markdown",
   "metadata": {},
   "source": [
    "\n",
    "## Experiments "
   ]
  },
  {
   "cell_type": "code",
   "execution_count": 29,
   "metadata": {
    "ExecuteTime": {
     "end_time": "2017-11-27T16:37:16.302677Z",
     "start_time": "2017-11-27T16:35:19.872496Z"
    },
    "scrolled": false
   },
   "outputs": [
    {
     "name": "stderr",
     "output_type": "stream",
     "text": [
      "\r",
      "  0%|          | 0/201 [00:00<?, ?it/s]"
     ]
    },
    {
     "data": {
      "image/png": "[encoded data removed]",
      "text/plain": [
       "<matplotlib.figure.Figure at 0x7f25d524e898>"
      ]
     },
     "metadata": {},
     "output_type": "display_data"
    },
    {
     "name": "stdout",
     "output_type": "stream",
     "text": [
      "pred box:   variable([[-26.3460083   93.21324158  41.90962219  41.03674316   0.33855659\n",
      "             0.38339189  -1.68310642]])\n",
      "gt:  variable([[ 56.          60.          44.          44.           0.06981317\n",
      "             1.           0.        ]])\n"
     ]
    },
    {
     "name": "stderr",
     "output_type": "stream",
     "text": [
      " 25%|██▍       | 50/201 [00:27<01:24,  1.79it/s]"
     ]
    },
    {
     "data": {
      "image/png": "[encoded data removed]",
      "text/plain": [
       "<matplotlib.figure.Figure at 0x7f25d49c7518>"
      ]
     },
     "metadata": {},
     "output_type": "display_data"
    },
    {
     "name": "stderr",
     "output_type": "stream",
     "text": [
      "\r",
      " 25%|██▌       | 51/201 [00:28<01:30,  1.65it/s]"
     ]
    },
    {
     "name": "stdout",
     "output_type": "stream",
     "text": [
      "pred box:   variable([[ 11.75816345  60.23761749  46.48476028  46.17172623   0.07753171\n",
      "             0.39058077  -1.68402505]])\n",
      "gt:  variable([[ 59.  59.  49.  49.   0.   1.   0.]])\n"
     ]
    },
    {
     "name": "stderr",
     "output_type": "stream",
     "text": [
      " 50%|████▉     | 100/201 [00:55<00:56,  1.79it/s]"
     ]
    },
    {
     "data": {
      "image/png": "[encoded data removed]",
      "text/plain": [
       "<matplotlib.figure.Figure at 0x7f25d43b8748>"
      ]
     },
     "metadata": {},
     "output_type": "display_data"
    },
    {
     "name": "stderr",
     "output_type": "stream",
     "text": [
      "\r",
      " 50%|█████     | 101/201 [00:56<01:00,  1.66it/s]"
     ]
    },
    {
     "name": "stdout",
     "output_type": "stream",
     "text": [
      "pred box:   variable([[ 53.23146057  59.43809128  46.37054062  46.77181625   0.09243283\n",
      "             0.39076522  -1.68761265]])\n",
      "gt:  variable([[ 57.  56.  43.  43.   0.   1.   0.]])\n"
     ]
    },
    {
     "name": "stderr",
     "output_type": "stream",
     "text": [
      " 75%|███████▍  | 150/201 [01:24<00:28,  1.78it/s]"
     ]
    },
    {
     "data": {
      "image/png": "[encoded data removed]",
      "text/plain": [
       "<matplotlib.figure.Figure at 0x7f25d431be10>"
      ]
     },
     "metadata": {},
     "output_type": "display_data"
    },
    {
     "name": "stderr",
     "output_type": "stream",
     "text": [
      "\r",
      " 75%|███████▌  | 151/201 [01:24<00:30,  1.66it/s]"
     ]
    },
    {
     "name": "stdout",
     "output_type": "stream",
     "text": [
      "pred box:   variable([[ 58.81789017  58.61220551  47.03479004  46.86470795   0.07497445\n",
      "             0.39058077  -1.68402505]])\n",
      "gt:  variable([[ 59.          62.          48.          48.           0.10471976\n",
      "             1.           0.        ]])\n"
     ]
    },
    {
     "name": "stderr",
     "output_type": "stream",
     "text": [
      "100%|█████████▉| 200/201 [01:53<00:00,  1.75it/s]"
     ]
    },
    {
     "data": {
      "image/png": "[encoded data removed]",
      "text/plain": [
       "<matplotlib.figure.Figure at 0x7f25ec9b06a0>"
      ]
     },
     "metadata": {},
     "output_type": "display_data"
    },
    {
     "name": "stderr",
     "output_type": "stream",
     "text": [
      "\r",
      "100%|██████████| 201/201 [01:54<00:00,  1.62it/s]"
     ]
    },
    {
     "name": "stdout",
     "output_type": "stream",
     "text": [
      "pred box:   variable([[ 58.19522095  59.61459732  46.33935928  45.99300385   0.08791844\n",
      "             0.39058077  -1.68402505]])\n",
      "gt:  variable([[ 59.  62.  48.  48.   0.   1.   0.]])\n"
     ]
    },
    {
     "name": "stderr",
     "output_type": "stream",
     "text": [
      "\n"
     ]
    },
    {
     "data": {
      "image/png": "[encoded data removed]",
      "text/plain": [
       "<matplotlib.figure.Figure at 0x7f25d524a9b0>"
      ]
     },
     "metadata": {},
     "output_type": "display_data"
    },
    {
     "name": "stdout",
     "output_type": "stream",
     "text": [
      "angle 10\n",
      "test_angles [3, 5, 7, 10]\n",
      "Angle-  3.0 Width-  55 Height-  55  Position-  55 55\n"
     ]
    },
    {
     "data": {
      "image/png": "[encoded data removed]",
      "text/plain": [
       "<matplotlib.figure.Figure at 0x7f25d43be2e8>"
      ]
     },
     "metadata": {},
     "output_type": "display_data"
    },
    {
     "name": "stdout",
     "output_type": "stream",
     "text": [
      "Angle-  5.0 Width-  45 Height-  45  Position-  55 55\n"
     ]
    },
    {
     "data": {
      "image/png": "[encoded data removed]",
      "text/plain": [
       "<matplotlib.figure.Figure at 0x7f25d4343198>"
      ]
     },
     "metadata": {},
     "output_type": "display_data"
    },
    {
     "name": "stdout",
     "output_type": "stream",
     "text": [
      "Angle-  7.0 Width-  50 Height-  50  Position-  60 60\n"
     ]
    },
    {
     "data": {
      "image/png": "[encoded data removed]",
      "text/plain": [
       "<matplotlib.figure.Figure at 0x7f259003c400>"
      ]
     },
     "metadata": {},
     "output_type": "display_data"
    },
    {
     "name": "stdout",
     "output_type": "stream",
     "text": [
      "Angle-  10.0 Width-  55 Height-  55  Position-  45 60\n"
     ]
    },
    {
     "data": {
      "image/png": "[encoded data removed]",
      "text/plain": [
       "<matplotlib.figure.Figure at 0x7f25844344a8>"
      ]
     },
     "metadata": {},
     "output_type": "display_data"
    },
    {
     "data": {
      "text/plain": [
       "(0,)"
      ]
     },
     "execution_count": 29,
     "metadata": {},
     "output_type": "execute_result"
    }
   ],
   "source": [
    "\"\"\"Main code \"\"\"\n",
    "import chainer.cuda as cuda \n",
    "all_losses = []\n",
    "\n",
    "size= 10\n",
    "nloops= 201\n",
    "posdiff = 8\n",
    "alphas = [0.000008,0.001,0.0005,0.0008 ]\n",
    "angles = [10,20,30,40,50,60,70,80,90]\n",
    "angles =[10]\n",
    "\n",
    "\n",
    "for i in range(len(angles)): \n",
    "    convnet = ConvNet()   \n",
    "    convnet.to_gpu(0)\n",
    "    boxnet = BoxNet(convnet)\n",
    "    boxnet.to_gpu(0)\n",
    "\n",
    "    \n",
    "    # generate random x and y locations\n",
    "    avg_locx= 55\n",
    "    avg_locy= 55\n",
    "    alpha = alphas[i]\n",
    "    angle = angles[i]\n",
    "    # generate default box \n",
    "    def_boxes = defaultgen(img,fm, 60,60,0.0)\n",
    "    def_box_index =np.ravel_multi_index((select_index,select_index),(shifts_all.shape[2],shifts_all.shape[3]))\n",
    "    def_boxes = def_boxes[def_box_index,:]\n",
    "    def_boxes =def_boxes.reshape([1,1,7])\n",
    "    def_boxes = def_boxes[0]\n",
    "\n",
    "\n",
    "\n",
    "    # training network \n",
    "    loss_history, pred_boxes, def_boxes, ground_truth, image,boxnet = all_connected(boxnet,angle, avg_locx,\n",
    "                                                                                    avg_locy,\n",
    "                                                                                    size,size,\n",
    "                                                                                    alpha, nloops,\n",
    "                                                                                    posdiff,def_boxes)\n",
    "    \n",
    "    display_loss(loss_history, angle, nloops, alpha )\n",
    "  \n",
    "    #test set_parameters \n",
    "    \n",
    "    angles_test =[3,5,7,10,25,45,65]\n",
    "    widths = [55,45,50,55,45,60,55]\n",
    "    heights =[55,45,50,55,45,60,55 ] \n",
    "    positions=[[55,55],[55,55],[60,60],[45,60],[60,45], [55,55],[40,40]  ]\n",
    "    \n",
    "    model = boxnet\n",
    "    print('angle', angle)\n",
    "    angles_test_np = np.array(angles_test)\n",
    "    angles_test_np =angles_test_np[np.where(angles_test_np<angle)] \n",
    "    ang = angles_test_np.shape[0]\n",
    "    \n",
    "#     for ang in range(len(angles_test_np)-1): \n",
    "        \n",
    "    test_angles= angles_test[0:ang+1] \n",
    "    test_widths = widths[0:ang+1]\n",
    "    test_heights = heights[0:ang+1]\n",
    "    test_positions =positions[0:ang+1]\n",
    "    print('test_angles', test_angles)\n",
    "\n",
    "    \n",
    "    all_predicted_boxes,all_gts = get_test_results(test_angles, test_widths, test_positions, model,select_index, def_boxes)    \n",
    "    \n",
    "    \n",
    "    \n",
    "all_losses = np.array(all_losses)\n",
    "all_losses2 = all_losses.transpose()\n",
    "all_losses2.shape  \n",
    "\n"
   ]
  },
  {
   "cell_type": "code",
   "execution_count": 30,
   "metadata": {
    "ExecuteTime": {
     "end_time": "2017-11-27T16:37:16.308641Z",
     "start_time": "2017-11-27T16:37:16.304238Z"
    }
   },
   "outputs": [
    {
     "data": {
      "text/plain": [
       "[variable([[ 58.12628174,  59.60799408,  46.3058548 ,  45.96310043,\n",
       "              0.08699152,   0.39058077,  -1.68402505]]),\n",
       " variable([[ 59.37829971,  59.69752884,  46.43282318,  46.49919891,\n",
       "              0.07682332,   0.38896373,  -1.66046751]]),\n",
       " variable([[ 58.12628174,  59.60799408,  46.3058548 ,  45.96310043,\n",
       "              0.08699152,   0.39058077,  -1.68402505]]),\n",
       " variable([[ 67.05422211,  46.31154251,  52.54001999,  43.24941254,\n",
       "              0.21780472,   0.23241574,  -1.73947239]])]"
      ]
     },
     "execution_count": 30,
     "metadata": {},
     "output_type": "execute_result"
    }
   ],
   "source": [
    "all_predicted_boxes"
   ]
  },
  {
   "cell_type": "code",
   "execution_count": 31,
   "metadata": {
    "ExecuteTime": {
     "end_time": "2017-11-27T16:37:16.389347Z",
     "start_time": "2017-11-27T16:37:16.310003Z"
    }
   },
   "outputs": [
    {
     "data": {
      "text/plain": [
       "[variable([[  5.50000000e+01,   5.50000000e+01,   5.50000000e+01,\n",
       "              5.50000000e+01,   5.23598790e-02,   1.00000000e+00,\n",
       "              0.00000000e+00]]),\n",
       " variable([[ 55.        ,  55.        ,  45.        ,  45.        ,\n",
       "              0.08726646,   1.        ,   0.        ]]),\n",
       " variable([[ 60.        ,  60.        ,  50.        ,  50.        ,\n",
       "              0.12217305,   1.        ,   0.        ]]),\n",
       " variable([[ 45.        ,  60.        ,  55.        ,  55.        ,\n",
       "              0.17453292,   1.        ,   0.        ]])]"
      ]
     },
     "execution_count": 31,
     "metadata": {},
     "output_type": "execute_result"
    }
   ],
   "source": [
    "all_gts"
   ]
  },
  {
   "cell_type": "code",
   "execution_count": 32,
   "metadata": {
    "ExecuteTime": {
     "end_time": "2017-11-27T16:37:16.523778Z",
     "start_time": "2017-11-27T16:37:16.390959Z"
    }
   },
   "outputs": [
    {
     "data": {
      "text/plain": [
       "[array([ 0.38256139], dtype=float32),\n",
       " array([ 0.40973532], dtype=float32),\n",
       " array([ 0.40158001], dtype=float32),\n",
       " array([ 0.41978329], dtype=float32),\n",
       " array([ 0.42629457], dtype=float32),\n",
       " array([ 0.35440919], dtype=float32),\n",
       " array([ 0.36238378], dtype=float32),\n",
       " array([ 0.40110868], dtype=float32),\n",
       " array([ 0.36261547], dtype=float32),\n",
       " array([ 0.36677524], dtype=float32),\n",
       " array([ 0.34617239], dtype=float32),\n",
       " array([ 0.38588914], dtype=float32),\n",
       " array([ 0.35398626], dtype=float32),\n",
       " array([ 0.34659782], dtype=float32),\n",
       " array([ 0.34546527], dtype=float32),\n",
       " array([ 0.29689866], dtype=float32),\n",
       " array([ 0.29131994], dtype=float32),\n",
       " array([ 0.305033], dtype=float32),\n",
       " array([ 0.3080073], dtype=float32),\n",
       " array([ 0.28266868], dtype=float32),\n",
       " array([ 0.25585833], dtype=float32),\n",
       " array([ 0.28688163], dtype=float32),\n",
       " array([ 0.25326186], dtype=float32),\n",
       " array([ 0.24884996], dtype=float32),\n",
       " array([ 0.27798706], dtype=float32),\n",
       " array([ 0.25600383], dtype=float32),\n",
       " array([ 0.24233894], dtype=float32),\n",
       " array([ 0.27274799], dtype=float32),\n",
       " array([ 0.25309625], dtype=float32),\n",
       " array([ 0.23618264], dtype=float32),\n",
       " array([ 0.23021857], dtype=float32),\n",
       " array([ 0.21621548], dtype=float32),\n",
       " array([ 0.19616921], dtype=float32),\n",
       " array([ 0.20753485], dtype=float32),\n",
       " array([ 0.22223476], dtype=float32),\n",
       " array([ 0.18412404], dtype=float32),\n",
       " array([ 0.18458852], dtype=float32),\n",
       " array([ 0.19667511], dtype=float32),\n",
       " array([ 0.16680495], dtype=float32),\n",
       " array([ 0.17740351], dtype=float32),\n",
       " array([ 0.19716722], dtype=float32),\n",
       " array([ 0.16377555], dtype=float32),\n",
       " array([ 0.15312523], dtype=float32),\n",
       " array([ 0.18629563], dtype=float32),\n",
       " array([ 0.16118695], dtype=float32),\n",
       " array([ 0.16939785], dtype=float32),\n",
       " array([ 0.14920169], dtype=float32),\n",
       " array([ 0.16037481], dtype=float32),\n",
       " array([ 0.15337969], dtype=float32),\n",
       " array([ 0.16530403], dtype=float32),\n",
       " array([ 0.14384684], dtype=float32),\n",
       " array([ 0.12656844], dtype=float32),\n",
       " array([ 0.13084289], dtype=float32),\n",
       " array([ 0.13916719], dtype=float32),\n",
       " array([ 0.12354352], dtype=float32),\n",
       " array([ 0.12835871], dtype=float32),\n",
       " array([ 0.11675072], dtype=float32),\n",
       " array([ 0.11725952], dtype=float32),\n",
       " array([ 0.12209816], dtype=float32),\n",
       " array([ 0.11481353], dtype=float32),\n",
       " array([ 0.1374974], dtype=float32),\n",
       " array([ 0.09414024], dtype=float32),\n",
       " array([ 0.10861948], dtype=float32),\n",
       " array([ 0.0997227], dtype=float32),\n",
       " array([ 0.10420313], dtype=float32),\n",
       " array([ 0.1133012], dtype=float32),\n",
       " array([ 0.08483722], dtype=float32),\n",
       " array([ 0.0949235], dtype=float32),\n",
       " array([ 0.07935405], dtype=float32),\n",
       " array([ 0.08478457], dtype=float32),\n",
       " array([ 0.10115773], dtype=float32),\n",
       " array([ 0.08943595], dtype=float32),\n",
       " array([ 0.09767503], dtype=float32),\n",
       " array([ 0.08227809], dtype=float32),\n",
       " array([ 0.07132065], dtype=float32),\n",
       " array([ 0.08048795], dtype=float32),\n",
       " array([ 0.06956887], dtype=float32),\n",
       " array([ 0.07279046], dtype=float32),\n",
       " array([ 0.0792335], dtype=float32),\n",
       " array([ 0.08026713], dtype=float32),\n",
       " array([ 0.04520043], dtype=float32),\n",
       " array([ 0.05242249], dtype=float32),\n",
       " array([ 0.05680693], dtype=float32),\n",
       " array([ 0.05494254], dtype=float32),\n",
       " array([ 0.03787756], dtype=float32),\n",
       " array([ 0.05098005], dtype=float32),\n",
       " array([ 0.05918187], dtype=float32),\n",
       " array([ 0.0526251], dtype=float32),\n",
       " array([ 0.03182413], dtype=float32),\n",
       " array([ 0.03088217], dtype=float32),\n",
       " array([ 0.02909672], dtype=float32),\n",
       " array([ 0.03805654], dtype=float32),\n",
       " array([ 0.02387046], dtype=float32),\n",
       " array([ 0.04033896], dtype=float32),\n",
       " array([ 0.03271261], dtype=float32),\n",
       " array([ 0.01447622], dtype=float32),\n",
       " array([ 0.04158899], dtype=float32),\n",
       " array([ 0.01859007], dtype=float32),\n",
       " array([ 0.00781872], dtype=float32),\n",
       " array([ 0.01820738], dtype=float32),\n",
       " array([ 0.01426834], dtype=float32),\n",
       " array([ 0.00284176], dtype=float32),\n",
       " array([ 0.02190942], dtype=float32),\n",
       " array([ 0.00458152], dtype=float32),\n",
       " array([ 0.01421556], dtype=float32),\n",
       " array([ 0.01398296], dtype=float32),\n",
       " array([ 0.0117869], dtype=float32),\n",
       " array([ 0.00750266], dtype=float32),\n",
       " array([ 0.00203896], dtype=float32),\n",
       " array([ 0.0142974], dtype=float32),\n",
       " array([ 0.01656497], dtype=float32),\n",
       " array([ 0.00685238], dtype=float32),\n",
       " array([ 0.03395516], dtype=float32),\n",
       " array([ 0.01483798], dtype=float32),\n",
       " array([ 0.02086864], dtype=float32),\n",
       " array([ 0.01761893], dtype=float32),\n",
       " array([ 0.00720362], dtype=float32),\n",
       " array([ 0.03058894], dtype=float32),\n",
       " array([ 0.00909922], dtype=float32),\n",
       " array([ 0.00677352], dtype=float32),\n",
       " array([ 0.00407588], dtype=float32),\n",
       " array([ 0.00658084], dtype=float32),\n",
       " array([ 0.02019119], dtype=float32),\n",
       " array([ 0.00484233], dtype=float32),\n",
       " array([ 0.00270302], dtype=float32),\n",
       " array([ 0.00163155], dtype=float32),\n",
       " array([ 0.01532333], dtype=float32),\n",
       " array([ 0.00259879], dtype=float32),\n",
       " array([ 0.02347554], dtype=float32),\n",
       " array([ 0.03166395], dtype=float32),\n",
       " array([ 0.00805469], dtype=float32),\n",
       " array([ 0.02891403], dtype=float32),\n",
       " array([ 0.00109811], dtype=float32),\n",
       " array([ 0.00697272], dtype=float32),\n",
       " array([ 0.00666599], dtype=float32),\n",
       " array([ 0.00335126], dtype=float32),\n",
       " array([ 0.02468754], dtype=float32),\n",
       " array([ 0.00940569], dtype=float32),\n",
       " array([ 0.00032948], dtype=float32),\n",
       " array([ 0.00213358], dtype=float32),\n",
       " array([ 0.01157124], dtype=float32),\n",
       " array([ 0.00491471], dtype=float32),\n",
       " array([ 0.00562156], dtype=float32),\n",
       " array([ 0.01194807], dtype=float32),\n",
       " array([ 0.0151804], dtype=float32),\n",
       " array([ 0.00452101], dtype=float32),\n",
       " array([ 0.02296487], dtype=float32),\n",
       " array([ 0.00664991], dtype=float32),\n",
       " array([ 0.03073419], dtype=float32),\n",
       " array([ 0.00896932], dtype=float32),\n",
       " array([ 0.00253383], dtype=float32),\n",
       " array([ 0.00082615], dtype=float32),\n",
       " array([ 0.01098287], dtype=float32),\n",
       " array([ 0.018769], dtype=float32),\n",
       " array([ 0.00349244], dtype=float32),\n",
       " array([ 0.00557029], dtype=float32),\n",
       " array([ 0.02381614], dtype=float32),\n",
       " array([ 0.00128361], dtype=float32),\n",
       " array([ 0.00269024], dtype=float32),\n",
       " array([ 0.00607932], dtype=float32),\n",
       " array([ 0.00318982], dtype=float32),\n",
       " array([ 0.01058506], dtype=float32),\n",
       " array([ 0.00395006], dtype=float32),\n",
       " array([ 0.00860235], dtype=float32),\n",
       " array([ 0.00493149], dtype=float32),\n",
       " array([ 0.01479961], dtype=float32),\n",
       " array([ 0.01466972], dtype=float32),\n",
       " array([ 0.00143729], dtype=float32),\n",
       " array([ 0.01767949], dtype=float32),\n",
       " array([ 0.00811435], dtype=float32),\n",
       " array([ 0.01358267], dtype=float32),\n",
       " array([ 0.02683297], dtype=float32),\n",
       " array([ 0.02191769], dtype=float32),\n",
       " array([ 0.01386569], dtype=float32),\n",
       " array([ 0.00513974], dtype=float32),\n",
       " array([ 0.01321027], dtype=float32),\n",
       " array([ 0.00817022], dtype=float32),\n",
       " array([ 0.01733809], dtype=float32),\n",
       " array([ 0.01917526], dtype=float32),\n",
       " array([ 0.01404812], dtype=float32),\n",
       " array([ 0.01241551], dtype=float32),\n",
       " array([ 0.0095997], dtype=float32),\n",
       " array([ 0.00132904], dtype=float32),\n",
       " array([ 0.02143624], dtype=float32),\n",
       " array([ 0.02542263], dtype=float32),\n",
       " array([ 0.01007712], dtype=float32),\n",
       " array([ 0.0055925], dtype=float32),\n",
       " array([ 0.00712917], dtype=float32),\n",
       " array([ 0.0031279], dtype=float32),\n",
       " array([ 0.00875961], dtype=float32),\n",
       " array([ 0.00841677], dtype=float32),\n",
       " array([ 0.00118998], dtype=float32),\n",
       " array([ 0.02927728], dtype=float32),\n",
       " array([ 0.00636345], dtype=float32),\n",
       " array([ 0.01881088], dtype=float32),\n",
       " array([ 0.00266397], dtype=float32),\n",
       " array([ 0.01852508], dtype=float32),\n",
       " array([ 0.00990982], dtype=float32),\n",
       " array([ 0.00631333], dtype=float32),\n",
       " array([ 0.00196881], dtype=float32),\n",
       " array([ 0.00627707], dtype=float32)]"
      ]
     },
     "execution_count": 32,
     "metadata": {},
     "output_type": "execute_result"
    }
   ],
   "source": [
    "loss_history\n"
   ]
  },
  {
   "cell_type": "code",
   "execution_count": null,
   "metadata": {
    "collapsed": true
   },
   "outputs": [],
   "source": []
  }
 ],
 "metadata": {
  "kernelspec": {
   "display_name": "Python 3",
   "language": "python",
   "name": "python3"
  },
  "language_info": {
   "codemirror_mode": {
    "name": "ipython",
    "version": 3
   },
   "file_extension": ".py",
   "mimetype": "text/x-python",
   "name": "python",
   "nbconvert_exporter": "python",
   "pygments_lexer": "ipython3",
   "version": "3.5.2"
  },
  "toc": {
   "colors": {
    "hover_highlight": "#DAA520",
    "navigate_num": "#000000",
    "navigate_text": "#333333",
    "running_highlight": "#FF0000",
    "selected_highlight": "#FFD700",
    "sidebar_border": "#EEEEEE",
    "wrapper_background": "#FFFFFF"
   },
   "moveMenuLeft": true,
   "nav_menu": {
    "height": "228px",
    "width": "252px"
   },
   "navigate_menu": true,
   "number_sections": false,
   "sideBar": true,
   "threshold": 4,
   "toc_cell": true,
   "toc_position": {
    "height": "858px",
    "left": "0px",
    "right": "1653px",
    "top": "107px",
    "width": "212px"
   },
   "toc_section_display": "block",
   "toc_window_display": true,
   "widenNotebook": false
  },
  "varInspector": {
   "cols": {
    "lenName": 16,
    "lenType": 16,
    "lenVar": 40
   },
   "kernels_config": {
    "python": {
     "delete_cmd_postfix": "",
     "delete_cmd_prefix": "del ",
     "library": "var_list.py",
     "varRefreshCmd": "print(var_dic_list())"
    },
    "r": {
     "delete_cmd_postfix": ") ",
     "delete_cmd_prefix": "rm(",
     "library": "var_list.r",
     "varRefreshCmd": "cat(var_dic_list()) "
    }
   },
   "types_to_exclude": [
    "module",
    "function",
    "builtin_function_or_method",
    "instance",
    "_Feature"
   ],
   "window_display": false
  }
 },
 "nbformat": 4,
 "nbformat_minor": 2
}
