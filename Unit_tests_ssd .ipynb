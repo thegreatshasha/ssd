{
 "cells": [
  {
   "cell_type": "markdown",
   "metadata": {
    "toc": "true"
   },
   "source": [
    "# Table of Contents\n",
    " <p><div class=\"lev2 toc-item\"><a href=\"#Defaultgen-function\" data-toc-modified-id=\"Defaultgen-function-01\"><span class=\"toc-item-num\">0.1&nbsp;&nbsp;</span>Defaultgen function</a></div><div class=\"lev2 toc-item\"><a href=\"#Predict-function\" data-toc-modified-id=\"Predict-function-02\"><span class=\"toc-item-num\">0.2&nbsp;&nbsp;</span>Predict function</a></div><div class=\"lev2 toc-item\"><a href=\"#Find-Match-indices--function\" data-toc-modified-id=\"Find-Match-indices--function-03\"><span class=\"toc-item-num\">0.3&nbsp;&nbsp;</span>Find Match indices  function</a></div><div class=\"lev2 toc-item\"><a href=\"#conf_loss-function\" data-toc-modified-id=\"conf_loss-function-04\"><span class=\"toc-item-num\">0.4&nbsp;&nbsp;</span>conf_loss function</a></div>"
   ]
  },
  {
   "cell_type": "markdown",
   "metadata": {},
   "source": [
    "## Defaultgen function "
   ]
  },
  {
   "cell_type": "markdown",
   "metadata": {},
   "source": [
    "Input parameters:  original input image, Feature map, width of default_box, height of default_box \n",
    "Output parameters : list of default boxes "
   ]
  },
  {
   "cell_type": "code",
   "execution_count": 3,
   "metadata": {
    "ExecuteTime": {
     "end_time": "2017-11-10T12:04:29.715279Z",
     "start_time": "2017-11-10T12:04:29.703383Z"
    },
    "collapsed": true
   },
   "outputs": [],
   "source": [
    "import numpy as np \n",
    "\n",
    "Input_image  = np.ones((8,8))\n",
    "Feature_map = np.ones((4, 4))\n",
    "Width=  10 \n",
    "Height = 10 \n"
   ]
  },
  {
   "cell_type": "code",
   "execution_count": 4,
   "metadata": {
    "ExecuteTime": {
     "end_time": "2017-11-10T12:04:30.212510Z",
     "start_time": "2017-11-10T12:04:30.179921Z"
    },
    "collapsed": true
   },
   "outputs": [],
   "source": [
    "def defaultgen( Input_image, Feature_map, Width, Height): \n",
    "    \n",
    "    \n",
    "    #number of boxes is the number of pixels in feature map. Default box for each pixel.  \n",
    "    boxes = np.zeros((Feature_map.shape[0], Feature_map.shape[1], 6))\n",
    "    \n",
    "    for i in range(Feature_map.shape[0]): \n",
    "        for j in range(Feature_map.shape[1]): \n",
    "            \n",
    "            # d depends on the number of max pooling layers\n",
    "          \n",
    "            scale = int(Input_image.shape[0]/ Feature_map.shape[0]) \n",
    "            cx  = int((( scale- 1)/ 2 )+ (j*(scale )))\n",
    "            cy  = int(((scale - 1)/ 2 )+ (i*(scale ))) \n",
    "            \n",
    "            boxes[i,j,:] = np.array([cx,cy,Width, Height, 0, 0])\n",
    "            \n",
    "    return boxes\n",
    "    "
   ]
  },
  {
   "cell_type": "code",
   "execution_count": 5,
   "metadata": {
    "ExecuteTime": {
     "end_time": "2017-11-10T12:04:30.945366Z",
     "start_time": "2017-11-10T12:04:30.940279Z"
    }
   },
   "outputs": [
    {
     "data": {
      "text/plain": [
       "(16, 6)"
      ]
     },
     "execution_count": 5,
     "metadata": {},
     "output_type": "execute_result"
    }
   ],
   "source": [
    "boxes = defaultgen( Input_image, Feature_map, Width, Height)\n",
    "boxes2 = boxes.reshape([boxes.shape[0]*boxes.shape[1],6])\n",
    "boxes2.shape"
   ]
  },
  {
   "cell_type": "markdown",
   "metadata": {
    "ExecuteTime": {
     "end_time": "2017-11-09T12:50:34.248050Z",
     "start_time": "2017-11-09T12:50:34.240899Z"
    }
   },
   "source": [
    "## Predict function "
   ]
  },
  {
   "cell_type": "code",
   "execution_count": 6,
   "metadata": {
    "ExecuteTime": {
     "end_time": "2017-11-10T12:04:33.232970Z",
     "start_time": "2017-11-10T12:04:33.212735Z"
    },
    "collapsed": true,
    "run_control": {
     "marked": true
    }
   },
   "outputs": [],
   "source": [
    "Bshift= np.zeros((Feature_map.shape[0]*Feature_map.shape[0], 6))\n",
    "Bshift[:,0:4]= 1\n",
    "\n",
    "\n",
    "def predict(Bshift, B): \n",
    "    \n",
    "    cx_pred = Bshift[:,0]*B[:,2] + B[:,0]\n",
    "    cy_pred = Bshift[:,1]*B[:,2] + B[:,1]\n",
    "    W_pred = np.exp(Bshift[:,2])*B[:,2]\n",
    "    H_pred = np.exp(Bshift[:,3])*B[:,3]\n",
    "    class1 = Bshift[:,4]\n",
    "    class2 = Bshift[:,5]\n",
    "    Predicted_boxes = np.vstack((cx_pred,cy_pred,W_pred,H_pred, class1, class2))\n",
    "    Predicted_boxes = np.transpose(Predicted_boxes)\n",
    "    \n",
    "    return Predicted_boxes\n",
    "\n"
   ]
  },
  {
   "cell_type": "code",
   "execution_count": 7,
   "metadata": {
    "ExecuteTime": {
     "end_time": "2017-11-10T12:04:33.603745Z",
     "start_time": "2017-11-10T12:04:33.597995Z"
    }
   },
   "outputs": [],
   "source": [
    "predicted_boxes = predict(Bshift, boxes2)"
   ]
  },
  {
   "cell_type": "code",
   "execution_count": 8,
   "metadata": {
    "ExecuteTime": {
     "end_time": "2017-11-10T12:04:33.868233Z",
     "start_time": "2017-11-10T12:04:33.859360Z"
    }
   },
   "outputs": [
    {
     "data": {
      "text/plain": [
       "array([[ 10.        ,  10.        ,  27.18281828,  27.18281828,\n",
       "          0.        ,   0.        ],\n",
       "       [ 12.        ,  10.        ,  27.18281828,  27.18281828,\n",
       "          0.        ,   0.        ],\n",
       "       [ 14.        ,  10.        ,  27.18281828,  27.18281828,\n",
       "          0.        ,   0.        ],\n",
       "       [ 16.        ,  10.        ,  27.18281828,  27.18281828,\n",
       "          0.        ,   0.        ],\n",
       "       [ 10.        ,  12.        ,  27.18281828,  27.18281828,\n",
       "          0.        ,   0.        ],\n",
       "       [ 12.        ,  12.        ,  27.18281828,  27.18281828,\n",
       "          0.        ,   0.        ],\n",
       "       [ 14.        ,  12.        ,  27.18281828,  27.18281828,\n",
       "          0.        ,   0.        ],\n",
       "       [ 16.        ,  12.        ,  27.18281828,  27.18281828,\n",
       "          0.        ,   0.        ],\n",
       "       [ 10.        ,  14.        ,  27.18281828,  27.18281828,\n",
       "          0.        ,   0.        ],\n",
       "       [ 12.        ,  14.        ,  27.18281828,  27.18281828,\n",
       "          0.        ,   0.        ],\n",
       "       [ 14.        ,  14.        ,  27.18281828,  27.18281828,\n",
       "          0.        ,   0.        ],\n",
       "       [ 16.        ,  14.        ,  27.18281828,  27.18281828,\n",
       "          0.        ,   0.        ],\n",
       "       [ 10.        ,  16.        ,  27.18281828,  27.18281828,\n",
       "          0.        ,   0.        ],\n",
       "       [ 12.        ,  16.        ,  27.18281828,  27.18281828,\n",
       "          0.        ,   0.        ],\n",
       "       [ 14.        ,  16.        ,  27.18281828,  27.18281828,\n",
       "          0.        ,   0.        ],\n",
       "       [ 16.        ,  16.        ,  27.18281828,  27.18281828,\n",
       "          0.        ,   0.        ]])"
      ]
     },
     "execution_count": 8,
     "metadata": {},
     "output_type": "execute_result"
    }
   ],
   "source": [
    "predicted_boxes"
   ]
  },
  {
   "cell_type": "code",
   "execution_count": 89,
   "metadata": {
    "ExecuteTime": {
     "end_time": "2017-11-10T12:04:34.417126Z",
     "start_time": "2017-11-10T12:04:34.407320Z"
    }
   },
   "outputs": [
    {
     "data": {
      "text/plain": [
       "array([  0.,   0.,  10.,  10.,   0.,   0.])"
      ]
     },
     "execution_count": 89,
     "metadata": {},
     "output_type": "execute_result"
    }
   ],
   "source": [
    "boxes2[0]"
   ]
  },
  {
   "cell_type": "code",
   "execution_count": 90,
   "metadata": {
    "ExecuteTime": {
     "end_time": "2017-11-10T12:04:34.811364Z",
     "start_time": "2017-11-10T12:04:34.803885Z"
    }
   },
   "outputs": [
    {
     "data": {
      "text/plain": [
       "array([ 1.,  1.,  1.,  1.,  0.,  0.])"
      ]
     },
     "execution_count": 90,
     "metadata": {},
     "output_type": "execute_result"
    }
   ],
   "source": [
    "Bshift[0]"
   ]
  },
  {
   "cell_type": "markdown",
   "metadata": {
    "collapsed": true
   },
   "source": [
    "## Find Match indices  function \n"
   ]
  },
  {
   "cell_type": "code",
   "execution_count": 465,
   "metadata": {
    "ExecuteTime": {
     "end_time": "2017-11-10T16:01:01.970230Z",
     "start_time": "2017-11-10T16:01:01.939722Z"
    },
    "collapsed": true
   },
   "outputs": [],
   "source": [
    "def bb_intersection_over_union(boxA, boxB):\n",
    "        # determine the (x, y)-coordinates of the intersection rectangle\n",
    "        \n",
    "    boxA = [boxA[0],boxA[1], boxA[0]+boxA[2],boxA[1]+boxA[3]  ]\n",
    "    boxB = [boxB[0],boxB[1], boxB[0]+boxB[2],boxB[1]+boxB[3]  ]\n",
    "    \n",
    "    xA = max(boxA[0], boxB[0])\n",
    "    yA = max(boxA[1], boxB[1])\n",
    "    xB = min(boxA[2], boxB[2])\n",
    "    yB = min(boxA[3], boxB[3])\n",
    "    \n",
    "    # compute the area of intersection rectangle\n",
    "    interArea = (xB - xA ) * (yB - yA )\n",
    "    \n",
    "    # compute the area of both the prediction and ground-truth\n",
    "    # rectangles\n",
    "    boxa_area = (boxA[2] - boxA[0] ) * (boxA[3] - boxA[1] )\n",
    "    boxb_area = (boxB[2] - boxB[0] ) * (boxB[3] - boxB[1] )\n",
    "    \n",
    "    # compute the intersection over union by taking the intersection\n",
    "    # area and dividing it by the sum of prediction + ground-truth\n",
    "    # areas - the interesection area\n",
    "    iou = interArea / float(boxa_area + boxb_area - interArea)\n",
    "\n",
    "    # return the intersection over union value\n",
    "    return iou"
   ]
  },
  {
   "cell_type": "code",
   "execution_count": 466,
   "metadata": {
    "ExecuteTime": {
     "end_time": "2017-11-10T16:01:02.764734Z",
     "start_time": "2017-11-10T16:01:02.689393Z"
    },
    "collapsed": true
   },
   "outputs": [],
   "source": [
    "gt = np.array(([2,2,3,3,1,0],[3,3,3,3,1,0]))\n",
    "\n",
    "# pred_boxes= np.array([[2,2,1,1,0,1],[2,2,1,2,0,1],[2,2,3,3,1,0 ],[3,3,3,3,1,0 ],[1,1,3,3,1,0 ],[4,4,3,3,1,0 ],[1,1,1,1,1,0 ]   ] )\n",
    "pred_boxes= np.array([[2,2,1,1,0,1],[2,2,1,2,0,1],[2,2,3,3,1,0 ]  ] )\n",
    "\n",
    "def find_match_indices(gt, pred_boxes): \n",
    "    \n",
    "    pos_iou_score =  np.zeros((pred_boxes.shape[0]*gt.shape[0],3 ))\n",
    "    neg_iou_score = np.zeros((pred_boxes.shape[0]*gt.shape[0], 3 ))\n",
    "    \n",
    "    iterator =0\n",
    "    \n",
    "    for i in range(gt.shape[0]): \n",
    "        for j in range(pred_boxes.shape[0]): \n",
    "            iou_score  = bb_intersection_over_union(gt[i,0:4],pred_boxes[j,0:4] )\n",
    "            print(i,j, iou_score)\n",
    "        \n",
    "            if iou_score > 0.5:  \n",
    "                pos_iou_score[iterator,:] =i,j,iou_score\n",
    "                neg_iou_score[iterator,:] = [i,j,-1]\n",
    "            else :\n",
    "                neg_iou_score[iterator,:] = [i,j,iou_score]\n",
    "            \n",
    "            iterator+=1\n",
    "    pos_inds  = pos_iou_score[np.where(pos_iou_score[:,2]>0),0:2]\n",
    "    neg_samples = pos_inds.shape[0]*3 \n",
    "    \n",
    "    neg_iou_score2 = neg_iou_score[np.where(neg_iou_score[:,2]>-1),:]\n",
    "    neg_iou_score2 =neg_iou_score2[0]\n",
    "    \n",
    "    neg_iou_score2 = neg_iou_score2[neg_iou_score2[:,2].argsort()]\n",
    "    neg_iou_score2 = neg_iou_score2[neg_iou_score2.shape[0]-neg_samples:neg_iou_score2.shape[0], :]\n",
    "    neg_inds = neg_iou_score2[:,0:2]\n",
    "    return  pos_inds, neg_inds, pos_iou_score, neg_iou_score2"
   ]
  },
  {
   "cell_type": "code",
   "execution_count": 467,
   "metadata": {
    "ExecuteTime": {
     "end_time": "2017-11-10T16:01:03.316263Z",
     "start_time": "2017-11-10T16:01:03.299392Z"
    },
    "scrolled": true
   },
   "outputs": [
    {
     "name": "stdout",
     "output_type": "stream",
     "text": [
      "0 0 0.111111111111\n",
      "0 1 0.222222222222\n",
      "0 2 1.0\n",
      "1 0 0.0\n",
      "1 1 0.0\n",
      "1 2 0.285714285714\n"
     ]
    }
   ],
   "source": [
    "pos_inds, neg_inds, pos_iou_score, neg_iou_score= find_match_indices(gt, pred_boxes)"
   ]
  },
  {
   "cell_type": "code",
   "execution_count": 468,
   "metadata": {
    "ExecuteTime": {
     "end_time": "2017-11-10T16:01:03.896170Z",
     "start_time": "2017-11-10T16:01:03.886141Z"
    }
   },
   "outputs": [
    {
     "data": {
      "text/plain": [
       "array([[[ 0.,  2.]]])"
      ]
     },
     "execution_count": 468,
     "metadata": {},
     "output_type": "execute_result"
    }
   ],
   "source": [
    "pos_inds"
   ]
  },
  {
   "cell_type": "code",
   "execution_count": 469,
   "metadata": {
    "ExecuteTime": {
     "end_time": "2017-11-10T16:01:05.068244Z",
     "start_time": "2017-11-10T16:01:05.064841Z"
    }
   },
   "outputs": [
    {
     "data": {
      "text/plain": [
       "array([[ 0.,  0.],\n",
       "       [ 0.,  1.],\n",
       "       [ 1.,  2.]])"
      ]
     },
     "execution_count": 469,
     "metadata": {},
     "output_type": "execute_result"
    }
   ],
   "source": [
    "neg_inds"
   ]
  },
  {
   "cell_type": "markdown",
   "metadata": {},
   "source": [
    "## conf_loss function\n",
    "\n",
    "class loss where the loss is calculated between the predicted and the ground truth boxes. Loss if first calculated for the positive indices and then for the negative indices "
   ]
  },
  {
   "cell_type": "code",
   "execution_count": 541,
   "metadata": {
    "ExecuteTime": {
     "end_time": "2017-11-10T18:52:59.172924Z",
     "start_time": "2017-11-10T18:52:59.136553Z"
    }
   },
   "outputs": [
    {
     "ename": "ValueError",
     "evalue": "operands could not be broadcast together with shapes (2,) (3,) ",
     "output_type": "error",
     "traceback": [
      "\u001b[0;31m---------------------------------------------------------------------------\u001b[0m",
      "\u001b[0;31mValueError\u001b[0m                                Traceback (most recent call last)",
      "\u001b[0;32m<ipython-input-541-12290597d3a7>\u001b[0m in \u001b[0;36m<module>\u001b[0;34m()\u001b[0m\n\u001b[1;32m     11\u001b[0m \u001b[0msum_exp_dbclass\u001b[0m \u001b[0;34m=\u001b[0m \u001b[0mnp\u001b[0m\u001b[0;34m.\u001b[0m\u001b[0msum\u001b[0m\u001b[0;34m(\u001b[0m\u001b[0mnp\u001b[0m\u001b[0;34m.\u001b[0m\u001b[0mexp\u001b[0m\u001b[0;34m(\u001b[0m\u001b[0mdbclass\u001b[0m\u001b[0;34m)\u001b[0m\u001b[0;34m,\u001b[0m \u001b[0maxis\u001b[0m\u001b[0;34m=\u001b[0m\u001b[0;36m1\u001b[0m\u001b[0;34m)\u001b[0m\u001b[0;34m\u001b[0m\u001b[0m\n\u001b[1;32m     12\u001b[0m \u001b[0;34m\u001b[0m\u001b[0m\n\u001b[0;32m---> 13\u001b[0;31m \u001b[0mdb_probs\u001b[0m \u001b[0;34m=\u001b[0m\u001b[0mnp\u001b[0m\u001b[0;34m.\u001b[0m\u001b[0marray\u001b[0m\u001b[0;34m(\u001b[0m\u001b[0;34m[\u001b[0m\u001b[0mexp_dbclass\u001b[0m\u001b[0;34m[\u001b[0m\u001b[0;34m:\u001b[0m\u001b[0;34m,\u001b[0m\u001b[0;36m0\u001b[0m\u001b[0;34m]\u001b[0m\u001b[0;34m/\u001b[0m\u001b[0msum_exp_dbclass\u001b[0m\u001b[0;34m,\u001b[0m\u001b[0mexp_dbclass\u001b[0m\u001b[0;34m[\u001b[0m\u001b[0;34m:\u001b[0m\u001b[0;34m,\u001b[0m\u001b[0;36m1\u001b[0m\u001b[0;34m]\u001b[0m\u001b[0;34m/\u001b[0m\u001b[0msum_exp_dbclass\u001b[0m\u001b[0;34m]\u001b[0m \u001b[0;34m)\u001b[0m\u001b[0;34m\u001b[0m\u001b[0m\n\u001b[0m\u001b[1;32m     14\u001b[0m \u001b[0mdb_probs\u001b[0m \u001b[0;34m=\u001b[0m \u001b[0mdb_probs\u001b[0m\u001b[0;34m.\u001b[0m\u001b[0mtranspose\u001b[0m\u001b[0;34m(\u001b[0m\u001b[0;34m)\u001b[0m\u001b[0;34m\u001b[0m\u001b[0m\n\u001b[1;32m     15\u001b[0m \u001b[0;34m\u001b[0m\u001b[0m\n",
      "\u001b[0;31mValueError\u001b[0m: operands could not be broadcast together with shapes (2,) (3,) "
     ]
    }
   ],
   "source": [
    "# predicted boxes classes\n",
    "dbclass = pred_boxes[:,4:6]\n",
    "\n",
    "#ground truth boxes classes\n",
    "gtclass = gt[:,4:6]\n",
    "\n",
    "#exponential of the predicted classes\n",
    "exp_dbclass=np.exp(dbclass) \n",
    "\n",
    "#sum of the exponential \n",
    "sum_exp_dbclass = np.sum(np.exp(dbclass), axis=1)\n",
    "\n",
    "db_probs =np.array([exp_dbclass[:,0]/sum_exp_dbclass,exp_dbclass[:,1]/sum_exp_dbclass] )\n",
    "db_probs = db_probs.transpose()\n",
    "\n",
    "pos_loss= 0 \n",
    "\n",
    "for i in range(pos_inds.shape[0]):\n",
    "    \n",
    "    p_ind = pos_inds[i,:]\n",
    "    p_ind = p_ind[0].astype(np.uint8)\n",
    "    gt_prob = gtclass[p_ind[0], : ]\n",
    "    db_prob = db_probs[p_ind[1], : ]\n",
    "    pos_loss+= np.dot(gt_prob, -np.log(db_prob))\n",
    "\n",
    "neg_loss= 0     \n",
    "for i in range(neg_inds.shape[0]):\n",
    "    p_ind = neg_inds[i,:]\n",
    "    p_ind = p_ind.astype(np.uint8)\n",
    "    gt_prob = gtclass[p_ind[0], : ]\n",
    "    db_prob = db_probs[p_ind[1], : ]\n",
    "    neg_loss+= np.dot(gt_prob, -np.log(1-db_prob))\n"
   ]
  },
  {
   "cell_type": "code",
   "execution_count": 540,
   "metadata": {
    "ExecuteTime": {
     "end_time": "2017-11-10T18:48:50.998518Z",
     "start_time": "2017-11-10T18:48:50.995333Z"
    }
   },
   "outputs": [
    {
     "data": {
      "text/plain": [
       "1.9397850625546684"
      ]
     },
     "execution_count": 540,
     "metadata": {},
     "output_type": "execute_result"
    }
   ],
   "source": [
    "neg_loss"
   ]
  },
  {
   "cell_type": "code",
   "execution_count": 520,
   "metadata": {
    "ExecuteTime": {
     "end_time": "2017-11-10T16:54:39.693554Z",
     "start_time": "2017-11-10T16:54:39.689993Z"
    }
   },
   "outputs": [
    {
     "data": {
      "text/plain": [
       "0.0"
      ]
     },
     "execution_count": 520,
     "metadata": {},
     "output_type": "execute_result"
    }
   ],
   "source": [
    "pos_inds[0][0][0]\n"
   ]
  },
  {
   "cell_type": "code",
   "execution_count": null,
   "metadata": {
    "collapsed": true
   },
   "outputs": [],
   "source": []
  }
 ],
 "metadata": {
  "kernelspec": {
   "display_name": "Python 3",
   "language": "python",
   "name": "python3"
  },
  "language_info": {
   "codemirror_mode": {
    "name": "ipython",
    "version": 3
   },
   "file_extension": ".py",
   "mimetype": "text/x-python",
   "name": "python",
   "nbconvert_exporter": "python",
   "pygments_lexer": "ipython3",
   "version": "3.5.2"
  },
  "toc": {
   "colors": {
    "hover_highlight": "#DAA520",
    "navigate_num": "#000000",
    "navigate_text": "#333333",
    "running_highlight": "#FF0000",
    "selected_highlight": "#FFD700",
    "sidebar_border": "#EEEEEE",
    "wrapper_background": "#FFFFFF"
   },
   "moveMenuLeft": true,
   "nav_menu": {
    "height": "66px",
    "width": "252px"
   },
   "navigate_menu": true,
   "number_sections": false,
   "sideBar": true,
   "threshold": 4,
   "toc_cell": true,
   "toc_section_display": "block",
   "toc_window_display": true,
   "widenNotebook": false
  },
  "varInspector": {
   "cols": {
    "lenName": 16,
    "lenType": 16,
    "lenVar": 40
   },
   "kernels_config": {
    "python": {
     "delete_cmd_postfix": "",
     "delete_cmd_prefix": "del ",
     "library": "var_list.py",
     "varRefreshCmd": "print(var_dic_list())"
    },
    "r": {
     "delete_cmd_postfix": ") ",
     "delete_cmd_prefix": "rm(",
     "library": "var_list.r",
     "varRefreshCmd": "cat(var_dic_list()) "
    }
   },
   "types_to_exclude": [
    "module",
    "function",
    "builtin_function_or_method",
    "instance",
    "_Feature"
   ],
   "window_display": false
  }
 },
 "nbformat": 4,
 "nbformat_minor": 2
}
