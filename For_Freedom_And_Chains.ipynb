{
 "cells": [
  {
   "cell_type": "markdown",
   "metadata": {
    "deletable": true,
    "editable": true
   },
   "source": [
    "## Generating Dataset\n",
    "Let's create the toy dataset. We'll have a 1 16x16 image with a 4x4 square placed somewhere inside."
   ]
  },
  {
   "cell_type": "code",
   "execution_count": 1,
   "metadata": {
    "ExecuteTime": {
     "end_time": "2017-11-13T05:02:08.824945Z",
     "start_time": "2017-11-13T05:02:08.285636Z"
    },
    "collapsed": false,
    "deletable": true,
    "editable": true
   },
   "outputs": [
    {
     "name": "stdout",
     "output_type": "stream",
     "text": [
      "(21, 3)\n"
     ]
    },
    {
     "data": {
      "image/png": "[encoded data removed]",
      "text/plain": [
       "<matplotlib.figure.Figure at 0x7f981ee76d90>"
      ]
     },
     "metadata": {},
     "output_type": "display_data"
    }
   ],
   "source": [
    "import numpy as np\n",
    "import matplotlib.pyplot as plt\n",
    "#%matplotlib notebook\n",
    "for i in range(1):\n",
    "\n",
    "    img = np.zeros((1,3,32,32), dtype=np.float32)\n",
    "    pos_r = np.random.randint(0, img.shape[2]-4-1)\n",
    "    pos_c = np.random.randint(0, img.shape[3]-4-1)\n",
    "    img[0,:,pos_r:pos_r+4,pos_c:pos_c+4]=1\n",
    "    print(pos_r, pos_c)\n",
    "    plt.imshow(img[0,0,:,:])\n",
    "    plt.show()"
   ]
  },
  {
   "cell_type": "markdown",
   "metadata": {
    "deletable": true,
    "editable": true
   },
   "source": [
    "## Generating Feature maps\n",
    "Now that we have the image, we'll go over it one by one and generate feature maps of size 4x4."
   ]
  },
  {
   "cell_type": "code",
   "execution_count": 2,
   "metadata": {
    "ExecuteTime": {
     "end_time": "2017-11-13T05:02:08.868115Z",
     "start_time": "2017-11-13T05:02:08.849486Z"
    },
    "collapsed": true,
    "deletable": true,
    "editable": true
   },
   "outputs": [],
   "source": [
    "from chainer import Chain\n",
    "import chainer\n",
    "import chainer.functions as F\n",
    "import chainer.links as L\n",
    "\n",
    "class ConvNet(Chain):\n",
    "    def __init__(self):\n",
    "        super(ConvNet, self).__init__(\n",
    "            l1=L.Convolution2D(None,32,ksize=(3,3),stride=1,pad=1),\n",
    "            l2=L.Convolution2D(32,32,ksize=(3,3),stride=1,pad=1),\n",
    "            l3=L.Convolution2D(32,32,ksize=(3,3),stride=1,pad=1)\n",
    "        )\n",
    "        \n",
    "    def __call__(self, x):\n",
    "        h1 = F.relu(self.l1(x))\n",
    "        h2 = F.max_pooling_2d(h1, 2)\n",
    "        h3 = F.relu(self.l2(h2))\n",
    "        h4 = F.max_pooling_2d(h3, 2)\n",
    "        h5 = F.relu(self.l3(h4))\n",
    "        h6 = F.max_pooling_2d(h5, 2)\n",
    "        return self.l3(F.sigmoid(h6))"
   ]
  },
  {
   "cell_type": "markdown",
   "metadata": {
    "deletable": true,
    "editable": true
   },
   "source": [
    "## Linear Convolution to generate shifts"
   ]
  },
  {
   "cell_type": "code",
   "execution_count": 3,
   "metadata": {
    "ExecuteTime": {
     "end_time": "2017-11-13T05:02:09.180697Z",
     "start_time": "2017-11-13T05:02:09.158920Z"
    },
    "collapsed": false,
    "deletable": true,
    "editable": true
   },
   "outputs": [
    {
     "name": "stdout",
     "output_type": "stream",
     "text": [
      "variable([[[[ 0.45976922  0.40112996  0.51736915  0.34598389]\n",
      "            [ 0.57402825  0.33297735  0.84572393  0.56235605]\n",
      "            [ 0.40487584  0.16616133  0.56619662  0.45600194]\n",
      "            [ 0.04791279 -0.26768538  0.15233217  0.08246399]]\n",
      "\n",
      "           [[-0.02188161  0.03374011 -0.23523176 -0.01293643]\n",
      "            [ 0.15483524  0.21648404  0.05507505  0.32877094]\n",
      "            [ 0.38730511  0.43340415  0.37244579  0.39978412]\n",
      "            [ 0.3198736   0.27535442  0.43722737  0.34053043]]\n",
      "\n",
      "           [[ 0.02683508 -0.19594419 -0.15914419 -0.06210155]\n",
      "            [-0.03558571 -0.476235   -0.36638373 -0.11773308]\n",
      "            [-0.2238944  -0.4648003  -0.28938156  0.10858022]\n",
      "            [-0.2058202  -0.3753143  -0.28579921 -0.02827108]]\n",
      "\n",
      "           [[-0.0798402  -0.05341408  0.25284484  0.09295136]\n",
      "            [-0.02901044 -0.12594888  0.2955296   0.15175523]\n",
      "            [ 0.07705521 -0.01409788  0.56632966  0.48204327]\n",
      "            [ 0.16336443 -0.02054657  0.20553887  0.15296824]]\n",
      "\n",
      "           [[-0.28342405  0.21535656  0.1420687   0.52042544]\n",
      "            [-0.39980394  0.24871229  0.24763241  0.65026003]\n",
      "            [-0.36676335  0.28176916  0.19263317  0.48070803]\n",
      "            [-0.03478307  0.18254028  0.16981278  0.344367  ]]\n",
      "\n",
      "           [[-0.12618822 -0.23607191  0.12476391  0.15149647]\n",
      "            [-0.05686234 -0.43349767  0.01300226  0.00572114]\n",
      "            [-0.33140671 -0.97984117 -0.39399624 -0.29742393]\n",
      "            [ 0.00500503 -0.61977518 -0.2282248  -0.30457151]]]])\n"
     ]
    }
   ],
   "source": [
    "class BoxNet(Chain):\n",
    "    def __init__(self):\n",
    "        super(BoxNet, self).__init__(\n",
    "            l1=L.Convolution2D(None,6,ksize=(3,3),stride=1,pad=1)\n",
    "        )\n",
    "        \n",
    "    def __call__(self, x):\n",
    "        h1 = self.l1(x)\n",
    "        return h1\n",
    "    \n",
    "convnet = ConvNet()\n",
    "boxnet = BoxNet()\n",
    "fm = convnet(img)\n",
    "shifts = boxnet(fm)\n",
    "print(shifts)"
   ]
  },
  {
   "cell_type": "markdown",
   "metadata": {
    "deletable": true,
    "editable": true
   },
   "source": [
    "## Draw generated default boxes on top of the original image"
   ]
  },
  {
   "cell_type": "code",
   "execution_count": 4,
   "metadata": {
    "ExecuteTime": {
     "end_time": "2017-11-13T05:02:10.035939Z",
     "start_time": "2017-11-13T05:02:09.602325Z"
    },
    "collapsed": false,
    "deletable": true,
    "editable": true
   },
   "outputs": [
    {
     "data": {
      "image/png": "[encoded data removed]",
      "text/plain": [
       "<matplotlib.figure.Figure at 0x7f9818af4710>"
      ]
     },
     "metadata": {},
     "output_type": "display_data"
    },
    {
     "data": {
      "text/plain": [
       "dtype('float32')"
      ]
     },
     "execution_count": 4,
     "metadata": {},
     "output_type": "execute_result"
    }
   ],
   "source": [
    "from matplotlib import patches\n",
    "\n",
    "def defaultgen(I, F, width, height):\n",
    "    \"\"\"\n",
    "    Generates an array of default boxes: Chainer TESTED\n",
    "    \n",
    "    Args:\n",
    "        I: Input image tensor (N,channels,rows,cols)\n",
    "        F: Feature map tensor to generate default boxes for\n",
    "        width: Width of the box\n",
    "        height: Height of the box\n",
    "        \n",
    "    Returns:\n",
    "        db: Default boxes tensor, flattened\n",
    "    \"\"\"\n",
    "    scale = I.shape[2] / F.shape[2]\n",
    "    offset = np.ones((2,F.shape[2],F.shape[3]), dtype=np.float32)\n",
    "    iterator = np.flip(np.indices((F.shape[2],F.shape[3])), axis=0).astype(np.float32)\n",
    "    \n",
    "    xys = offset * ((scale-1)/2) + iterator * scale\n",
    "    xys = np.moveaxis(xys,0,2)\n",
    "    ws = np.full((F.shape[2],F.shape[3],1), width, dtype=np.float32)\n",
    "    hs = np.full((F.shape[2],F.shape[3],1), height,dtype=np.float32)\n",
    "    class_scores = np.zeros((F.shape[2],F.shape[3],2), dtype=np.float32)\n",
    "    \n",
    "    db = np.dstack([xys, ws, hs, class_scores])\n",
    "    \n",
    "    return chainer.Variable(db.reshape((db.shape[0] * db.shape[1], 6)))\n",
    "\n",
    "def center_to_coords(box):\n",
    "    \"\"\" \n",
    "    Converts bounding box from (cx, cy, w, h) format to (x1, y1, x2, y2) format\n",
    "    \n",
    "    Args:\n",
    "        box: 6d numpy array\n",
    "        \n",
    "    Returns:\n",
    "        box_transformed: Box in the second format\n",
    "    \n",
    "    \"\"\"\n",
    "    box_transformed = np.array([box[0]-box[2]/2.0, box[1]+box[3]/2.0, box[0]+box[2]/2.0, box[1]-box[3]/2.0, box[4], box[5]])\n",
    "    return box_transformed\n",
    "\n",
    "\n",
    "def draw_boxes(img, boxes):\n",
    "    plt.figure()\n",
    "    ax = plt.axes()\n",
    "\n",
    "    for box in boxes:\n",
    "        box = center_to_coords(box.data)\n",
    "        ax.imshow(img[0,0,:,:])\n",
    "        p = patches.Rectangle((box[0], box[1]), box[2]-box[0], box[3]-box[1], fill=False, color='red')\n",
    "        ax.add_patch(p)\n",
    "\n",
    "    plt.show()\n",
    "\n",
    "def_boxes = defaultgen(img, fm, 5,5)\n",
    "def_boxes[0][2:4]\n",
    "draw_boxes(img, def_boxes)\n",
    "def_boxes.dtype\n"
   ]
  },
  {
   "cell_type": "markdown",
   "metadata": {
    "deletable": true,
    "editable": true
   },
   "source": [
    "## Draw predictions on top of the original image\n",
    "Now with the shift tensor we have obtained from running convnet and boxnet together, let's offset the default boxes."
   ]
  },
  {
   "cell_type": "code",
   "execution_count": 5,
   "metadata": {
    "ExecuteTime": {
     "end_time": "2017-11-13T05:02:10.862451Z",
     "start_time": "2017-11-13T05:02:10.514974Z"
    },
    "collapsed": false,
    "deletable": true,
    "editable": true
   },
   "outputs": [
    {
     "data": {
      "image/png": "[encoded data removed]",
      "text/plain": [
       "<matplotlib.figure.Figure at 0x7f9818b65610>"
      ]
     },
     "metadata": {},
     "output_type": "display_data"
    }
   ],
   "source": [
    "def get_pred_boxes(shift_vals, default_boxes ): \n",
    "    \"\"\"\n",
    "    Get predicted boxes by combining shift values to default boxes\n",
    "    Input: \n",
    "\n",
    "    shift_values : Shifts generated by the network  NDarray (None, Num of Default boxes, 4+num of classes)\n",
    "    Default boxes  : Default boxes generated by the network NDarray (None, Num of Default boxes, 4+num of classes)\n",
    "\n",
    "    Output: \n",
    "\n",
    "    Predicted boxes  : Predicted boxes, same shape as default boxes  NDarray (None, Num of Default boxes, 4+num of classes)\n",
    "\n",
    "    \"\"\"\n",
    "    shift_vals= shift_vals.reshape(4*4,6)\n",
    "\n",
    "    shifts = shift_vals \n",
    "    def_boxes= default_boxes\n",
    "    \n",
    "    \n",
    "    cx_pred = (shifts[:,0]*shifts[:,2])+def_boxes[:,0]\n",
    "    cy_pred = (shifts[:,1]*shifts[:,2])+def_boxes[:,1]\n",
    "    \n",
    "    H_pred = F.exp(shifts[:,2])*def_boxes[:,2]\n",
    "    W_pred = F.exp(shifts[:,3])*def_boxes[:,3]\n",
    "    \n",
    "    class1 = shifts[:,4]\n",
    "    class2 = shifts[:,5]\n",
    "    \n",
    "    \n",
    "    pred_boxes = F.vstack((cx_pred,cy_pred,W_pred,H_pred, class1, class2))\n",
    "    pred_boxes = F.transpose(pred_boxes)\n",
    "    \n",
    "    return  pred_boxes \n",
    "\n",
    "\n",
    "def draw_pred_boxes(prediction_boxes, default_boxes): \n",
    "    \"\"\"Draw predicted boxes on the original image \"\"\"\n",
    "    \n",
    "    pred_boxes= prediction_boxes\n",
    "    def_boxes =default_boxes.data\n",
    "    pred_boxes = get_pred_boxes(shifts, def_boxes)\n",
    "     \n",
    "    boxes = pred_boxes.data\n",
    "    \n",
    "    plt.figure()\n",
    "    ax = plt.axes()\n",
    "\n",
    "    for i in range(def_boxes.shape[0]):\n",
    "        box = def_boxes[i]\n",
    "        box2 =boxes[i]            \n",
    "        box = center_to_coords(box)\n",
    "        box2 = center_to_coords(box2)            \n",
    "        ax.imshow(img[0,0,:,:])\n",
    "\n",
    "        default_boxes = patches.Rectangle((box[0], box[1]), box[2]-box[0], box[3]-box[1], fill=False, color = 'red')\n",
    "        pred_boxes = patches.Rectangle((box2[0], box2[1]), box2[2]-box2[0], box2[3]-box2[1], fill=False, color = 'yellow')\n",
    "\n",
    "        ax.add_patch(default_boxes)\n",
    "        ax.add_patch(pred_boxes)\n",
    "\n",
    "\n",
    "    plt.show()\n",
    "#     plt.savefig('shifts')\n",
    "\n",
    "\n",
    "\n",
    "\n",
    "\n",
    "pred_boxes = get_pred_boxes(shifts, def_boxes)\n",
    "draw_pred_boxes(pred_boxes, def_boxes)"
   ]
  },
  {
   "cell_type": "markdown",
   "metadata": {
    "deletable": true,
    "editable": true
   },
   "source": [
    "## Do matching"
   ]
  },
  {
   "cell_type": "code",
   "execution_count": 6,
   "metadata": {
    "ExecuteTime": {
     "end_time": "2017-11-13T04:37:24.766510Z",
     "start_time": "2017-11-13T04:37:24.698870Z"
    },
    "collapsed": true,
    "deletable": true,
    "editable": true
   },
   "outputs": [],
   "source": [
    "# Let's define some useful functions first.\n",
    "# Work with chainer variables for instahook.\n",
    "#from chainer.functions import max, min, hstack\n",
    "\n",
    "def iou_cpu(boxA, boxB):\n",
    "    \"\"\"\n",
    "    Calculates intersection over union score of two rectangles, none of them rotated.: TESTED\n",
    "    \n",
    "    Args:\n",
    "        boxA: Box1\n",
    "        boxB: Box2\n",
    "        \n",
    "    Returns:\n",
    "        iou (scalar): IOU score of the two boxes\n",
    "    \"\"\"\n",
    "        # determine the (x, y)-coordinates of the intersection rectangle\n",
    "        # Maybe we can accelerate this by writing this as a cython extension\n",
    "        \n",
    "    boxA = center_to_coords(boxA)\n",
    "    boxB = center_to_coords(boxB)\n",
    "    \n",
    "    xA = max(boxA[0], boxB[0])\n",
    "    yA = min(boxA[1], boxB[1])\n",
    "    xB = min(boxA[2], boxB[2])\n",
    "    yB = max(boxA[3], boxB[3])\n",
    "    \n",
    "    # compute the area of intersection rectangle\n",
    "    interArea = (xB - xA) * (yB - yA)\n",
    "    \n",
    "    # compute the area of both the prediction and ground-truth\n",
    "    # rectangles\n",
    "    boxa_area = (boxA[2] - boxA[0]) * (boxA[3] - boxA[1])\n",
    "    boxb_area = (boxB[2] - boxB[0]) * (boxB[3] - boxB[1])\n",
    "    \n",
    "    # compute the intersection over union by taking the intersection\n",
    "    # area and dividing it by the sum of prediction + ground-truth\n",
    "    # areas - the interesection area\n",
    "    #print(interArea, boxa_area, boxb_area)\n",
    "    iou = interArea / (boxa_area + boxb_area - interArea)\n",
    "\n",
    "    # return the intersection over union value\n",
    "    return iou\n",
    "\n",
    "def find_match_indices_cpu(pred_boxes, gt): \n",
    "    \"\"\"\n",
    "    Find matches between ground truth boxes and boxes predicted by network.\n",
    "    \n",
    "    Args:\n",
    "        gt (): Tensor of ground truth boxes\n",
    "        pred_boxes (): Tensor of predicted boxes\n",
    "        \n",
    "    Returns:\n",
    "        pos_inds: Indices of the connectivity matrix where there is a positive match\n",
    "        neg_inds: Indices of the connectivity matrix where there is a negative match\n",
    "    \"\"\"\n",
    "    \n",
    "    pos_iou_score =  np.zeros((gt.shape[0], pred_boxes.shape[0]))\n",
    "    neg_iou_score = np.ones((gt.shape[0], pred_boxes.shape[0]))\n",
    "    \n",
    "    for i in range(gt.shape[0]): \n",
    "        for j in range(pred_boxes.shape[0]): \n",
    "            iou_score  = iou_cpu(gt[i].data, pred_boxes[j].data)\n",
    "            \n",
    "            if iou_score > 0.5:  \n",
    "                pos_iou_score[i,j] = iou_score\n",
    "            else :\n",
    "                neg_iou_score[i,j] = iou_score\n",
    "    \n",
    "    pos_inds  = np.argwhere(pos_iou_score>0.5)\n",
    "    neg_inds = np.argwhere(neg_iou_score<=0.5)\n",
    "    \n",
    "    return  pos_inds, neg_inds"
   ]
  },
  {
   "cell_type": "markdown",
   "metadata": {
    "deletable": true,
    "editable": true
   },
   "source": [
    "Ok let's try some examples now and see if it works. Copy pasting some unit tests from before."
   ]
  },
  {
   "cell_type": "code",
   "execution_count": 7,
   "metadata": {
    "ExecuteTime": {
     "end_time": "2017-11-13T04:37:26.020932Z",
     "start_time": "2017-11-13T04:37:25.996607Z"
    },
    "collapsed": true,
    "deletable": true,
    "editable": true
   },
   "outputs": [],
   "source": [
    "# In the default network, these variables will be parameterized\n",
    "gt = chainer.Variable(np.array([[0.5,0.5,3,3,0,0]], dtype=np.float32))\n",
    "pred_boxes = chainer.Variable(np.array([[0,0,4,2,0,0], [2.5,2.5,3,3,0,0], [12.5,2.5,3,3,0,0]], dtype=np.float32))\n",
    "def_boxes = chainer.Variable(np.array([[0,0,4,2,0,0], [2.5,2.5,3,3,0,0], [12.5,2.5,3,3,0,0]], dtype=np.float32))\n",
    "\n",
    "iou_cpu(gt[0].data, pred_boxes[1].data)\n",
    "pos_inds, neg_inds = find_match_indices_cpu(pred_boxes, gt)\n",
    "\n",
    "#pos_inds\n",
    "np.testing.assert_array_equal(pos_inds[0], [0, 0], 'Posititve matching not working')\n",
    "np.testing.assert_array_equal(neg_inds[0], [0, 1], 'Negative matching not working')\n",
    "np.testing.assert_array_equal(neg_inds[1], [0, 2], 'Positive matching not working')\n",
    "\n",
    "#box1 = gt[0]\n",
    "#box2 = pred_boxes[0]"
   ]
  },
  {
   "cell_type": "markdown",
   "metadata": {
    "deletable": true,
    "editable": true
   },
   "source": [
    "Awesome. The tests work and we are able to get the pos_inds just fine."
   ]
  },
  {
   "cell_type": "markdown",
   "metadata": {
    "deletable": true,
    "editable": true
   },
   "source": [
    "## Compute regression loss from indices (brute force for loop cpu)\n",
    "* Run for loop over all the positive indices.\n",
    "* Calculate relative shift vector for ground truth.\n",
    "* Regress for relative shift vector with prediction shift vector."
   ]
  },
  {
   "cell_type": "code",
   "execution_count": 8,
   "metadata": {
    "ExecuteTime": {
     "end_time": "2017-11-13T04:37:27.146314Z",
     "start_time": "2017-11-13T04:37:27.143391Z"
    },
    "collapsed": true,
    "deletable": true,
    "editable": true
   },
   "outputs": [],
   "source": [
    "regression_loss = chainer.Variable(np.array([0]))\n",
    "regression_loss += 1"
   ]
  },
  {
   "cell_type": "code",
   "execution_count": 9,
   "metadata": {
    "ExecuteTime": {
     "end_time": "2017-11-13T04:37:27.525140Z",
     "start_time": "2017-11-13T04:37:27.497087Z"
    },
    "collapsed": true,
    "deletable": true,
    "editable": true
   },
   "outputs": [],
   "source": [
    "from chainer.functions import log, hstack, huber_loss\n",
    "\n",
    "def normalize_shift(box, def_box):\n",
    "    \"\"\"\n",
    "    Scales down absolute shifts, % for centers, log for height and width.\n",
    "    \n",
    "    Args:\n",
    "        box: 6x1 bounding box coordinates\n",
    "        def_box: 6x1 reference box coordinates\n",
    "        \n",
    "    Returns:\n",
    "        normalized_shift_vector: 4x1 normalized shift vector. Note that we discard the last 2 channels.\n",
    "    \"\"\"\n",
    "    tx = (box[0] - def_box[0])/def_box[2]\n",
    "    ty = (box[1] - def_box[1])/def_box[3]\n",
    "    tw = log(box[2]/def_box[2])\n",
    "    th = log(box[3]/def_box[3])\n",
    "    \n",
    "    return hstack([tx, ty, tw, th])\n",
    "    \n",
    "\n",
    "def regression_loss(pred_box, gt_box, def_box):\n",
    "    \"\"\"\n",
    "    Calculates regression loss between two boxes w.r.t a reference default box.\n",
    "    \n",
    "    Args:\n",
    "        pred_box: 6x1 bounding box predicted by the network\n",
    "        gt_box: 6x1 bounding box overlapping with pred_box\n",
    "        def_box: 6x1 bounding box with same index as pred_box\n",
    "        \n",
    "    Returns:\n",
    "        reg_loss: Scalar of huber loss between two vectors\n",
    "    \"\"\"\n",
    "    pred_shift = normalize_shift(pred_box, def_box).reshape((1, 4))\n",
    "    gt_shift = normalize_shift(gt_box, def_box).reshape((1, 4))\n",
    "    \n",
    "    return huber_loss(pred_shift, gt_shift, delta=0.5)"
   ]
  },
  {
   "cell_type": "markdown",
   "metadata": {
    "deletable": true,
    "editable": true
   },
   "source": [
    "So let's try it for the boxes above and see if it actually works."
   ]
  },
  {
   "cell_type": "code",
   "execution_count": 10,
   "metadata": {
    "ExecuteTime": {
     "end_time": "2017-11-13T04:37:28.244331Z",
     "start_time": "2017-11-13T04:37:28.238064Z"
    },
    "collapsed": false,
    "deletable": true,
    "editable": true
   },
   "outputs": [
    {
     "data": {
      "text/plain": [
       "variable([ 0.16264397])"
      ]
     },
     "execution_count": 10,
     "metadata": {},
     "output_type": "execute_result"
    }
   ],
   "source": [
    "regression_loss(pred_boxes[0], gt[0], def_boxes[0])"
   ]
  },
  {
   "cell_type": "markdown",
   "metadata": {
    "deletable": true,
    "editable": true
   },
   "source": [
    "Awesome. No bugs. Still have to check it for logical consistency though. Moving on to implement classification loss"
   ]
  },
  {
   "cell_type": "markdown",
   "metadata": {
    "deletable": true,
    "editable": true
   },
   "source": [
    "## Compute classification loss from indices (brute force for loop cpu). All DONE!"
   ]
  },
  {
   "cell_type": "code",
   "execution_count": 11,
   "metadata": {
    "ExecuteTime": {
     "end_time": "2017-11-13T04:37:30.092629Z",
     "start_time": "2017-11-13T04:37:30.068310Z"
    },
    "collapsed": false,
    "deletable": true,
    "editable": true
   },
   "outputs": [
    {
     "data": {
      "text/plain": [
       "variable([[ 0.69314718]])"
      ]
     },
     "execution_count": 11,
     "metadata": {},
     "output_type": "execute_result"
    }
   ],
   "source": [
    "from chainer.functions import softmax, log, matmul\n",
    "\n",
    "def soft_max(x): \n",
    "    \n",
    "    x = x.reshape([1,2])\n",
    "    soft_score  = F.softmax(x)\n",
    "    #soft_score =soft_score.reshape([2])\n",
    "    return soft_score\n",
    "\n",
    "def classification_loss(pred_box, gt_box, switch):\n",
    "    \"\"\"\n",
    "    Calculates classification loss between two predicted and true box.\n",
    "    \n",
    "    Args:\n",
    "        pred_box: 6x1 box, last two are classification scores\n",
    "        gt_box: 6x1 box, last two are classification scores\n",
    "        switch: Positive or negative indicator\n",
    "        \n",
    "    Returns:\n",
    "        loss: Scalar positive or negative cross entropy loss. Only one is active at a time.\n",
    "    \"\"\"\n",
    "    pred_prob = soft_max(pred_box[4:6])\n",
    "    gt_prob =soft_max(gt_box[4:6])\n",
    "    \n",
    "    pos_loss = -matmul(gt_prob, log(pred_prob).transpose())\n",
    "    neg_loss = -matmul(gt_prob, log(1.0 - pred_prob).transpose())\n",
    "    \n",
    "    loss = switch * pos_loss + (1 - switch) * neg_loss\n",
    "    return loss\n",
    "    \n",
    "classification_loss(pred_boxes[0], gt[0], 1.0)    \n",
    "\n"
   ]
  },
  {
   "cell_type": "code",
   "execution_count": null,
   "metadata": {
    "ExecuteTime": {
     "end_time": "2017-11-12T17:47:45.785641Z",
     "start_time": "2017-11-12T17:47:45.780956Z"
    },
    "collapsed": true,
    "deletable": true,
    "editable": true
   },
   "outputs": [],
   "source": []
  },
  {
   "cell_type": "code",
   "execution_count": null,
   "metadata": {
    "collapsed": true,
    "deletable": true,
    "editable": true
   },
   "outputs": [],
   "source": []
  }
 ],
 "metadata": {
  "kernelspec": {
   "display_name": "Python 2",
   "language": "python",
   "name": "python2"
  },
  "language_info": {
   "codemirror_mode": {
    "name": "ipython",
    "version": 2
   },
   "file_extension": ".py",
   "mimetype": "text/x-python",
   "name": "python",
   "nbconvert_exporter": "python",
   "pygments_lexer": "ipython2",
   "version": "2.7.12"
  },
  "toc": {
   "colors": {
    "hover_highlight": "#DAA520",
    "navigate_num": "#000000",
    "navigate_text": "#333333",
    "running_highlight": "#FF0000",
    "selected_highlight": "#FFD700",
    "sidebar_border": "#EEEEEE",
    "wrapper_background": "#FFFFFF"
   },
   "moveMenuLeft": true,
   "navigate_menu": false,
   "number_sections": true,
   "sideBar": true,
   "threshold": 4,
   "toc_cell": false,
   "toc_section_display": "block",
   "toc_window_display": false,
   "widenNotebook": false
  },
  "varInspector": {
   "cols": {
    "lenName": 16,
    "lenType": 16,
    "lenVar": 40
   },
   "kernels_config": {
    "python": {
     "delete_cmd_postfix": "",
     "delete_cmd_prefix": "del ",
     "library": "var_list.py",
     "varRefreshCmd": "print(var_dic_list())"
    },
    "r": {
     "delete_cmd_postfix": ") ",
     "delete_cmd_prefix": "rm(",
     "library": "var_list.r",
     "varRefreshCmd": "cat(var_dic_list()) "
    }
   },
   "types_to_exclude": [
    "module",
    "function",
    "builtin_function_or_method",
    "instance",
    "_Feature"
   ],
   "window_display": false
  }
 },
 "nbformat": 4,
 "nbformat_minor": 2
}
