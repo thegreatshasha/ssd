{
 "cells": [
  {
   "cell_type": "markdown",
   "metadata": {},
   "source": [
    "## Generating Dataset\n",
    "Let's create the toy dataset. We'll have a 1 16x16 image with a 4x4 square placed somewhere inside."
   ]
  },
  {
   "cell_type": "code",
   "execution_count": 2,
   "metadata": {
    "ExecuteTime": {
     "end_time": "2017-11-12T17:14:41.549336Z",
     "start_time": "2017-11-12T17:14:40.795124Z"
    }
   },
   "outputs": [
    {
     "data": {
      "image/png": "[encoded data removed]",
      "text/plain": [
       "<matplotlib.figure.Figure at 0x7f82a073c518>"
      ]
     },
     "metadata": {},
     "output_type": "display_data"
    },
    {
     "data": {
      "image/png": "[encoded data removed]",
      "text/plain": [
       "<matplotlib.figure.Figure at 0x7f82a07414a8>"
      ]
     },
     "metadata": {},
     "output_type": "display_data"
    },
    {
     "data": {
      "image/png": "[encoded data removed]",
      "text/plain": [
       "<matplotlib.figure.Figure at 0x7f82a08f5dd8>"
      ]
     },
     "metadata": {},
     "output_type": "display_data"
    },
    {
     "data": {
      "image/png": "[encoded data removed]",
      "text/plain": [
       "<matplotlib.figure.Figure at 0x7f82a08f10f0>"
      ]
     },
     "metadata": {},
     "output_type": "display_data"
    },
    {
     "data": {
      "image/png": "[encoded data removed]",
      "text/plain": [
       "<matplotlib.figure.Figure at 0x7f826f190b38>"
      ]
     },
     "metadata": {},
     "output_type": "display_data"
    }
   ],
   "source": [
    "import numpy as np\n",
    "import matplotlib.pyplot as plt\n",
    "\n",
    "for i in range(5):\n",
    "\n",
    "    img = np.zeros((1,3,32,32), dtype=np.float32)\n",
    "    pos_r = np.random.randint(0, img.shape[2]-4-1)\n",
    "    pos_c = np.random.randint(0, img.shape[3]-4-1)\n",
    "    img[0,:,pos_r:pos_r+4,pos_c:pos_c+4]=1\n",
    "    plt.imshow(img[0,0,:,:])\n",
    "    plt.show()"
   ]
  },
  {
   "cell_type": "markdown",
   "metadata": {},
   "source": [
    "## Generating Feature maps\n",
    "Now that we have the image, we'll go over it one by one and generate feature maps of size 4x4."
   ]
  },
  {
   "cell_type": "code",
   "execution_count": 3,
   "metadata": {
    "ExecuteTime": {
     "end_time": "2017-11-12T17:14:46.861106Z",
     "start_time": "2017-11-12T17:14:41.831952Z"
    },
    "collapsed": true
   },
   "outputs": [],
   "source": [
    "from chainer import Chain\n",
    "import chainer\n",
    "import chainer.functions as F\n",
    "import chainer.links as L\n",
    "\n",
    "class ConvNet(Chain):\n",
    "    def __init__(self):\n",
    "        super(ConvNet, self).__init__(\n",
    "            l1=L.Convolution2D(None,32,ksize=(3,3),stride=1,pad=1),\n",
    "            l2=L.Convolution2D(32,32,ksize=(3,3),stride=1,pad=1),\n",
    "            l3=L.Convolution2D(32,32,ksize=(3,3),stride=1,pad=1)\n",
    "        )\n",
    "        \n",
    "    def __call__(self, x):\n",
    "        h1 = F.relu(self.l1(x))\n",
    "        h2 = F.max_pooling_2d(h1, 2)\n",
    "        h3 = F.relu(self.l2(h2))\n",
    "        h4 = F.max_pooling_2d(h3, 2)\n",
    "        h5 = F.relu(self.l3(h4))\n",
    "        h6 = F.max_pooling_2d(h5, 2)\n",
    "        return self.l3(F.sigmoid(h6))"
   ]
  },
  {
   "cell_type": "markdown",
   "metadata": {},
   "source": [
    "## Linear Convolution to generate shifts"
   ]
  },
  {
   "cell_type": "code",
   "execution_count": 4,
   "metadata": {
    "ExecuteTime": {
     "end_time": "2017-11-12T17:14:46.924983Z",
     "start_time": "2017-11-12T17:14:46.883103Z"
    }
   },
   "outputs": [
    {
     "name": "stdout",
     "output_type": "stream",
     "text": [
      "variable([[[[-0.36071786 -0.19244461 -0.15116414 -0.03234246]\n",
      "            [-0.29521295 -0.11573106 -0.16106099 -0.05226336]\n",
      "            [-0.34400609 -0.04768443 -0.17597973 -0.12443991]\n",
      "            [-0.03656964  0.12339301  0.10677342  0.12385847]]\n",
      "\n",
      "           [[ 0.00660185 -0.10596132 -0.10229736 -0.19858544]\n",
      "            [ 0.13316636  0.32600918  0.17343761  0.01779454]\n",
      "            [ 0.05221607 -0.07285676 -0.18436199 -0.23378077]\n",
      "            [ 0.14010797  0.22465672  0.0974351   0.00954574]]\n",
      "\n",
      "           [[-0.07971666  0.06511129  0.15471275  0.27061489]\n",
      "            [ 0.03636021  0.02244106  0.20303433  0.25405821]\n",
      "            [-0.07025024 -0.05856837  0.09264641  0.23933551]\n",
      "            [-0.03393208 -0.12307545 -0.07495316 -0.00958716]]\n",
      "\n",
      "           [[ 0.26725051  0.357416    0.25120863  0.32100552]\n",
      "            [ 0.45334727  0.78933805  0.73209798  0.5604279 ]\n",
      "            [ 0.51723284  0.71645093  0.67062372  0.50775224]\n",
      "            [ 0.21804281  0.39547858  0.45435822  0.32928857]]\n",
      "\n",
      "           [[-0.30940393 -0.37586948 -0.51808506 -0.39464566]\n",
      "            [-0.26880476 -0.34294128 -0.41520247 -0.41554821]\n",
      "            [-0.08423801 -0.3296729  -0.49412933 -0.52199554]\n",
      "            [ 0.05958379  0.17699504  0.11675347  0.00699118]]\n",
      "\n",
      "           [[-0.05408339 -0.17889288 -0.50433689 -0.23891357]\n",
      "            [-0.3401041  -0.3725175  -0.60738623  0.00920009]\n",
      "            [-0.29036471 -0.21246801 -0.30403948  0.30769536]\n",
      "            [-0.40663475 -0.23866628 -0.09632181  0.36942181]]]])\n"
     ]
    }
   ],
   "source": [
    "class BoxNet(Chain):\n",
    "    def __init__(self):\n",
    "        super(BoxNet, self).__init__(\n",
    "            l1=L.Convolution2D(None,6,ksize=(3,3),stride=1,pad=1)\n",
    "        )\n",
    "        \n",
    "    def __call__(self, x):\n",
    "        h1 = self.l1(x)\n",
    "        return h1\n",
    "    \n",
    "convnet = ConvNet()\n",
    "boxnet = BoxNet()\n",
    "fm = convnet(img)\n",
    "shifts = boxnet(fm)\n",
    "print(shifts)"
   ]
  },
  {
   "cell_type": "markdown",
   "metadata": {},
   "source": [
    "## Draw generated default boxes on top of the original image"
   ]
  },
  {
   "cell_type": "code",
   "execution_count": 5,
   "metadata": {
    "ExecuteTime": {
     "end_time": "2017-11-12T17:14:47.354542Z",
     "start_time": "2017-11-12T17:14:46.975415Z"
    }
   },
   "outputs": [
    {
     "data": {
      "image/png": "[encoded data removed]",
      "text/plain": [
       "<matplotlib.figure.Figure at 0x7f826f1d2630>"
      ]
     },
     "metadata": {},
     "output_type": "display_data"
    },
    {
     "data": {
      "text/plain": [
       "dtype('float64')"
      ]
     },
     "execution_count": 5,
     "metadata": {},
     "output_type": "execute_result"
    }
   ],
   "source": [
    "from matplotlib import patches\n",
    "\n",
    "def defaultgen(I, F, width, height):\n",
    "    \"\"\"\n",
    "    Generates an array of default boxes: Chainer TESTED\n",
    "    \n",
    "    Args:\n",
    "        I: Input image tensor (N,channels,rows,cols)\n",
    "        F: Feature map tensor to generate default boxes for\n",
    "        width: Width of the box\n",
    "        height: Height of the box\n",
    "        \n",
    "    Returns:\n",
    "        db: Default boxes tensor, flattened\n",
    "    \"\"\"\n",
    "    scale = I.shape[2] / F.shape[2]\n",
    "    offset = np.ones((2,F.shape[2],F.shape[3]))\n",
    "    iterator = np.flip(np.indices((F.shape[2],F.shape[3])), axis=0)\n",
    "    \n",
    "    xys = offset * ((scale-1)/2) + iterator * scale\n",
    "    xys = np.moveaxis(xys,0,2)\n",
    "    ws = np.full((F.shape[2],F.shape[3],1), width)\n",
    "    hs = np.full((F.shape[2],F.shape[3],1), height)\n",
    "    class_scores = np.zeros((F.shape[2],F.shape[3],2))\n",
    "    \n",
    "    db = np.dstack([xys, ws, hs, class_scores])\n",
    "    return chainer.Variable(db.reshape((db.shape[0] * db.shape[1], 6)))\n",
    "\n",
    "def center_to_coords(box):\n",
    "    \"\"\" \n",
    "    Converts bounding box from (cx, cy, w, h) format to (x1, y1, x2, y2) format\n",
    "    \n",
    "    Args:\n",
    "        box: 6d numpy array\n",
    "        \n",
    "    Returns:\n",
    "        box_transformed: Box in the second format\n",
    "    \n",
    "    \"\"\"\n",
    "    box_transformed = np.array([box[0]-box[2]/2.0, box[1]+box[3]/2.0, box[0]+box[2]/2.0, box[1]-box[3]/2.0, box[4], box[5]])\n",
    "    return box_transformed\n",
    "\n",
    "\n",
    "def draw_boxes(img, boxes):\n",
    "    plt.figure()\n",
    "    ax = plt.axes()\n",
    "\n",
    "    for box in boxes:\n",
    "        box = center_to_coords(box.data)\n",
    "        ax.imshow(img[0,0,:,:])\n",
    "        p = patches.Rectangle((box[0], box[1]), box[2]-box[0], box[3]-box[1], fill=False, color='red')\n",
    "        ax.add_patch(p)\n",
    "\n",
    "    plt.show()\n",
    "\n",
    "def_boxes = defaultgen(img, fm, 5,5)\n",
    "def_boxes[0][2:4]\n",
    "draw_boxes(img, def_boxes)\n",
    "def_boxes.dtype"
   ]
  },
  {
   "cell_type": "markdown",
   "metadata": {},
   "source": [
    "## Draw predictions on top of the original image\n",
    "Now with the shift tensor we have obtained from running convnet and boxnet together, let's offset the default boxes."
   ]
  },
  {
   "cell_type": "markdown",
   "metadata": {},
   "source": [
    "## Do matching"
   ]
  },
  {
   "cell_type": "code",
   "execution_count": 6,
   "metadata": {
    "ExecuteTime": {
     "end_time": "2017-11-12T17:14:47.479326Z",
     "start_time": "2017-11-12T17:14:47.409577Z"
    },
    "collapsed": true
   },
   "outputs": [],
   "source": [
    "# Let's define some useful functions first.\n",
    "# Work with chainer variables for instahook.\n",
    "#from chainer.functions import max, min, hstack\n",
    "\n",
    "def iou_cpu(boxA, boxB):\n",
    "    \"\"\"\n",
    "    Calculates intersection over union score of two rectangles, none of them rotated.: TESTED\n",
    "    \n",
    "    Args:\n",
    "        boxA: Box1\n",
    "        boxB: Box2\n",
    "        \n",
    "    Returns:\n",
    "        iou (scalar): IOU score of the two boxes\n",
    "    \"\"\"\n",
    "        # determine the (x, y)-coordinates of the intersection rectangle\n",
    "        # Maybe we can accelerate this by writing this as a cython extension\n",
    "        \n",
    "    boxA = center_to_coords(boxA)\n",
    "    boxB = center_to_coords(boxB)\n",
    "    \n",
    "    xA = max(boxA[0], boxB[0])\n",
    "    yA = min(boxA[1], boxB[1])\n",
    "    xB = min(boxA[2], boxB[2])\n",
    "    yB = max(boxA[3], boxB[3])\n",
    "    \n",
    "    # compute the area of intersection rectangle\n",
    "    interArea = (xB - xA) * (yB - yA)\n",
    "    \n",
    "    # compute the area of both the prediction and ground-truth\n",
    "    # rectangles\n",
    "    boxa_area = (boxA[2] - boxA[0]) * (boxA[3] - boxA[1])\n",
    "    boxb_area = (boxB[2] - boxB[0]) * (boxB[3] - boxB[1])\n",
    "    \n",
    "    # compute the intersection over union by taking the intersection\n",
    "    # area and dividing it by the sum of prediction + ground-truth\n",
    "    # areas - the interesection area\n",
    "    #print(interArea, boxa_area, boxb_area)\n",
    "    iou = interArea / (boxa_area + boxb_area - interArea)\n",
    "\n",
    "    # return the intersection over union value\n",
    "    return iou\n",
    "\n",
    "def find_match_indices_cpu(pred_boxes, gt): \n",
    "    \"\"\"\n",
    "    Find matches between ground truth boxes and boxes predicted by network.\n",
    "    \n",
    "    Args:\n",
    "        gt (): Tensor of ground truth boxes\n",
    "        pred_boxes (): Tensor of predicted boxes\n",
    "        \n",
    "    Returns:\n",
    "        pos_inds: Indices of the connectivity matrix where there is a positive match\n",
    "        neg_inds: Indices of the connectivity matrix where there is a negative match\n",
    "    \"\"\"\n",
    "    \n",
    "    pos_iou_score =  np.zeros((gt.shape[0], pred_boxes.shape[0]))\n",
    "    neg_iou_score = np.ones((gt.shape[0], pred_boxes.shape[0]))\n",
    "    \n",
    "    for i in range(gt.shape[0]): \n",
    "        for j in range(pred_boxes.shape[0]): \n",
    "            iou_score  = iou_cpu(gt[i].data, pred_boxes[j].data)\n",
    "            \n",
    "            if iou_score > 0.5:  \n",
    "                pos_iou_score[i,j] = iou_score\n",
    "            else :\n",
    "                neg_iou_score[i,j] = iou_score\n",
    "    \n",
    "    pos_inds  = np.argwhere(pos_iou_score>0.5)\n",
    "    neg_inds = np.argwhere(neg_iou_score<=0.5)\n",
    "    \n",
    "    return  pos_inds, neg_inds"
   ]
  },
  {
   "cell_type": "markdown",
   "metadata": {},
   "source": [
    "Ok let's try some examples now and see if it works. Copy pasting some unit tests from before."
   ]
  },
  {
   "cell_type": "code",
   "execution_count": 7,
   "metadata": {
    "ExecuteTime": {
     "end_time": "2017-11-12T17:14:47.641958Z",
     "start_time": "2017-11-12T17:14:47.516934Z"
    },
    "collapsed": true
   },
   "outputs": [],
   "source": [
    "# In the default network, these variables will be parameterized\n",
    "gt = chainer.Variable(np.array([[0.5,0.5,3,3,0,0]], dtype=np.float32))\n",
    "pred_boxes = chainer.Variable(np.array([[0,0,4,2,0,0], [2.5,2.5,3,3,0,0], [12.5,2.5,3,3,0,0]], dtype=np.float32))\n",
    "def_boxes = chainer.Variable(np.array([[0,0,4,2,0,0], [2.5,2.5,3,3,0,0], [12.5,2.5,3,3,0,0]], dtype=np.float32))\n",
    "\n",
    "iou_cpu(gt[0].data, pred_boxes[1].data)\n",
    "pos_inds, neg_inds = find_match_indices_cpu(pred_boxes, gt)\n",
    "\n",
    "#pos_inds\n",
    "np.testing.assert_array_equal(pos_inds[0], [0, 0], 'Posititve matching not working')\n",
    "np.testing.assert_array_equal(neg_inds[0], [0, 1], 'Negative matching not working')\n",
    "np.testing.assert_array_equal(neg_inds[1], [0, 2], 'Positive matching not working')\n",
    "\n",
    "#box1 = gt[0]\n",
    "#box2 = pred_boxes[0]"
   ]
  },
  {
   "cell_type": "markdown",
   "metadata": {},
   "source": [
    "Awesome. The tests work and we are able to get the pos_inds just fine."
   ]
  },
  {
   "cell_type": "markdown",
   "metadata": {},
   "source": [
    "## Compute regression loss from indices (brute force for loop cpu)\n",
    "* Run for loop over all the positive indices.\n",
    "* Calculate relative shift vector for ground truth.\n",
    "* Regress for relative shift vector with prediction shift vector."
   ]
  },
  {
   "cell_type": "code",
   "execution_count": 8,
   "metadata": {
    "ExecuteTime": {
     "end_time": "2017-11-12T17:14:47.838026Z",
     "start_time": "2017-11-12T17:14:47.700771Z"
    },
    "collapsed": true
   },
   "outputs": [],
   "source": [
    "regression_loss = chainer.Variable(np.array([0]))\n",
    "regression_loss += 1"
   ]
  },
  {
   "cell_type": "code",
   "execution_count": 9,
   "metadata": {
    "ExecuteTime": {
     "end_time": "2017-11-12T17:14:47.957142Z",
     "start_time": "2017-11-12T17:14:47.880563Z"
    },
    "collapsed": true
   },
   "outputs": [],
   "source": [
    "from chainer.functions import log, hstack, huber_loss\n",
    "\n",
    "def normalize_shift(box, def_box):\n",
    "    \"\"\"\n",
    "    Scales down absolute shifts, % for centers, log for height and width.\n",
    "    \n",
    "    Args:\n",
    "        box: 6x1 bounding box coordinates\n",
    "        def_box: 6x1 reference box coordinates\n",
    "        \n",
    "    Returns:\n",
    "        normalized_shift_vector: 4x1 normalized shift vector. Note that we discard the last 2 channels.\n",
    "    \"\"\"\n",
    "    tx = (box[0] - def_box[0])/def_box[2]\n",
    "    ty = (box[1] - def_box[1])/def_box[3]\n",
    "    tw = log(box[2]/def_box[2])\n",
    "    th = log(box[3]/def_box[3])\n",
    "    \n",
    "    return hstack([tx, ty, tw, th])\n",
    "    \n",
    "\n",
    "def regression_loss(pred_box, gt_box, def_box):\n",
    "    \"\"\"\n",
    "    Calculates regression loss between two boxes w.r.t a reference default box.\n",
    "    \n",
    "    Args:\n",
    "        pred_box: 6x1 bounding box predicted by the network\n",
    "        gt_box: 6x1 bounding box overlapping with pred_box\n",
    "        def_box: 6x1 bounding box with same index as pred_box\n",
    "        \n",
    "    Returns:\n",
    "        reg_loss: Scalar of huber loss between two vectors\n",
    "    \"\"\"\n",
    "    pred_shift = normalize_shift(pred_box, def_box).reshape((1, 4))\n",
    "    gt_shift = normalize_shift(gt_box, def_box).reshape((1, 4))\n",
    "    \n",
    "    return huber_loss(pred_shift, gt_shift, delta=0.5)"
   ]
  },
  {
   "cell_type": "markdown",
   "metadata": {},
   "source": [
    "So let's try it for the boxes above and see if it actually works."
   ]
  },
  {
   "cell_type": "code",
   "execution_count": 10,
   "metadata": {
    "ExecuteTime": {
     "end_time": "2017-11-12T17:14:48.117420Z",
     "start_time": "2017-11-12T17:14:47.997103Z"
    }
   },
   "outputs": [
    {
     "data": {
      "text/plain": [
       "variable([ 0.16264397])"
      ]
     },
     "execution_count": 10,
     "metadata": {},
     "output_type": "execute_result"
    }
   ],
   "source": [
    "regression_loss(pred_boxes[0], gt[0], def_boxes[0])"
   ]
  },
  {
   "cell_type": "markdown",
   "metadata": {},
   "source": [
    "Awesome. No bugs. Still have to check it for logical consistency though. Moving on to implement classification loss"
   ]
  },
  {
   "cell_type": "markdown",
   "metadata": {},
   "source": [
    "## Compute classification loss from indices (brute force for loop cpu). All DONE!"
   ]
  },
  {
   "cell_type": "code",
   "execution_count": 75,
   "metadata": {
    "ExecuteTime": {
     "end_time": "2017-11-12T17:54:37.876876Z",
     "start_time": "2017-11-12T17:54:37.851460Z"
    }
   },
   "outputs": [
    {
     "data": {
      "text/plain": [
       "variable(0.6931471824645996)"
      ]
     },
     "execution_count": 75,
     "metadata": {},
     "output_type": "execute_result"
    }
   ],
   "source": [
    "from chainer.functions import softmax, log, matmul\n",
    "\n",
    "def soft_max(x): \n",
    "    \n",
    "    x = x.reshape([1,2])\n",
    "    soft_score  = F.softmax(x)\n",
    "    soft_score =soft_score.reshape([2])\n",
    "    return soft_score\n",
    "\n",
    "def classification_loss(pred_box, gt_box, switch):\n",
    "    \"\"\"\n",
    "    Calculates classification loss between two predicted and true box.\n",
    "    \n",
    "    Args:\n",
    "        pred_box: 6x1 box, last two are classification scores\n",
    "        gt_box: 6x1 box, last two are classification scores\n",
    "        switch: Positive or negative indicator\n",
    "        \n",
    "    Returns:\n",
    "        loss: Scalar positive or negative cross entropy loss. Only one is active at a time.\n",
    "    \"\"\"\n",
    "    pred_prob = soft_max(pred_box[4:6])\n",
    "    gt_prob =soft_max(gt_box[4:6])\n",
    "    \n",
    "    pos_loss = -matmul(gt_prob, log(pred_prob).transpose())\n",
    "    neg_loss = -matmul(gt_prob, log(1.0 - pred_prob).transpose())\n",
    "    \n",
    "    loss = switch * pos_loss + (1 - switch) * neg_loss\n",
    "    return loss\n",
    "    \n",
    "classification_loss(pred_boxes[0], gt[0], 1.0)    \n",
    "\n"
   ]
  },
  {
   "cell_type": "code",
   "execution_count": 57,
   "metadata": {
    "ExecuteTime": {
     "end_time": "2017-11-12T17:39:02.397171Z",
     "start_time": "2017-11-12T17:39:02.385232Z"
    }
   },
   "outputs": [
    {
     "name": "stdout",
     "output_type": "stream",
     "text": [
      "variable([[ 0.5  0.5]]) variable([[ 0.5  0.5]])\n"
     ]
    }
   ],
   "source": [
    "pred_box= pred_boxes[0]\n",
    "gt_box = gt[0]\n",
    "\n",
    "c1_scores = pred_box[4:6]\n",
    "c1_scores = c1_scores.reshape([1,2])\n",
    "\n",
    "c2_scores = gt_box[4:6]\n",
    "c2_scores = c2_scores.reshape([1,2])\n",
    "\n",
    "c1_prob = F.softmax(c1_scores)\n",
    "c2_prob =F.softmax(c2_scores)\n",
    "print(c1_prob, c2_prob)\n",
    "\n"
   ]
  },
  {
   "cell_type": "code",
   "execution_count": 71,
   "metadata": {
    "ExecuteTime": {
     "end_time": "2017-11-12T17:50:36.274481Z",
     "start_time": "2017-11-12T17:50:36.263844Z"
    }
   },
   "outputs": [
    {
     "data": {
      "text/plain": [
       "variable([[-0.5, -0.5]])"
      ]
     },
     "execution_count": 71,
     "metadata": {},
     "output_type": "execute_result"
    }
   ],
   "source": [
    "c1_prob-1"
   ]
  },
  {
   "cell_type": "code",
   "execution_count": 65,
   "metadata": {
    "ExecuteTime": {
     "end_time": "2017-11-12T17:42:55.766875Z",
     "start_time": "2017-11-12T17:42:55.742883Z"
    }
   },
   "outputs": [
    {
     "data": {
      "text/plain": [
       "variable([[ 0.5]])"
      ]
     },
     "execution_count": 65,
     "metadata": {},
     "output_type": "execute_result"
    }
   ],
   "source": [
    "from chainer.functions import matmul\n",
    "matmul(c1_prob, c2_prob.transpose())"
   ]
  },
  {
   "cell_type": "code",
   "execution_count": 70,
   "metadata": {
    "ExecuteTime": {
     "end_time": "2017-11-12T17:47:45.785641Z",
     "start_time": "2017-11-12T17:47:45.780956Z"
    }
   },
   "outputs": [
    {
     "data": {
      "text/plain": [
       "variable([[-0.69314718]])"
      ]
     },
     "execution_count": 70,
     "metadata": {},
     "output_type": "execute_result"
    }
   ],
   "source": []
  },
  {
   "cell_type": "code",
   "execution_count": null,
   "metadata": {
    "collapsed": true
   },
   "outputs": [],
   "source": []
  }
 ],
 "metadata": {
  "kernelspec": {
   "display_name": "Python 3",
   "language": "python",
   "name": "python3"
  },
  "language_info": {
   "codemirror_mode": {
    "name": "ipython",
    "version": 3
   },
   "file_extension": ".py",
   "mimetype": "text/x-python",
   "name": "python",
   "nbconvert_exporter": "python",
   "pygments_lexer": "ipython3",
   "version": "3.5.2"
  },
  "toc": {
   "colors": {
    "hover_highlight": "#DAA520",
    "navigate_num": "#000000",
    "navigate_text": "#333333",
    "running_highlight": "#FF0000",
    "selected_highlight": "#FFD700",
    "sidebar_border": "#EEEEEE",
    "wrapper_background": "#FFFFFF"
   },
   "moveMenuLeft": true,
   "navigate_menu": false,
   "number_sections": true,
   "sideBar": true,
   "threshold": 4,
   "toc_cell": false,
   "toc_section_display": "block",
   "toc_window_display": false,
   "widenNotebook": false
  },
  "varInspector": {
   "cols": {
    "lenName": 16,
    "lenType": 16,
    "lenVar": 40
   },
   "kernels_config": {
    "python": {
     "delete_cmd_postfix": "",
     "delete_cmd_prefix": "del ",
     "library": "var_list.py",
     "varRefreshCmd": "print(var_dic_list())"
    },
    "r": {
     "delete_cmd_postfix": ") ",
     "delete_cmd_prefix": "rm(",
     "library": "var_list.r",
     "varRefreshCmd": "cat(var_dic_list()) "
    }
   },
   "types_to_exclude": [
    "module",
    "function",
    "builtin_function_or_method",
    "instance",
    "_Feature"
   ],
   "window_display": false
  }
 },
 "nbformat": 4,
 "nbformat_minor": 2
}
