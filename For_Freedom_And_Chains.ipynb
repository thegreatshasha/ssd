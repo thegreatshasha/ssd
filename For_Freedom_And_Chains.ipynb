{
 "cells": [
  {
   "cell_type": "markdown",
   "metadata": {
    "deletable": true,
    "editable": true
   },
   "source": [
    "## Generating Dataset\n",
    "Let's create the toy dataset. We'll have a 1 16x16 image with a 4x4 square placed somewhere inside."
   ]
  },
  {
   "cell_type": "code",
<<<<<<< HEAD
   "execution_count": 7,
   "metadata": {
    "ExecuteTime": {
     "end_time": "2017-11-13T05:41:51.287415Z",
     "start_time": "2017-11-13T05:41:51.224699Z"
    }
   },
   "outputs": [
    {
     "name": "stdout",
     "output_type": "stream",
     "text": [
      "11 10\n"
     ]
    },
    {
     "data": {
      "application/javascript": [
       "/* Put everything inside the global mpl namespace */\n",
       "window.mpl = {};\n",
       "\n",
       "\n",
       "mpl.get_websocket_type = function() {\n",
       "    if (typeof(WebSocket) !== 'undefined') {\n",
       "        return WebSocket;\n",
       "    } else if (typeof(MozWebSocket) !== 'undefined') {\n",
       "        return MozWebSocket;\n",
       "    } else {\n",
       "        alert('Your browser does not have WebSocket support.' +\n",
       "              'Please try Chrome, Safari or Firefox ≥ 6. ' +\n",
       "              'Firefox 4 and 5 are also supported but you ' +\n",
       "              'have to enable WebSockets in about:config.');\n",
       "    };\n",
       "}\n",
       "\n",
       "mpl.figure = function(figure_id, websocket, ondownload, parent_element) {\n",
       "    this.id = figure_id;\n",
       "\n",
       "    this.ws = websocket;\n",
       "\n",
       "    this.supports_binary = (this.ws.binaryType != undefined);\n",
       "\n",
       "    if (!this.supports_binary) {\n",
       "        var warnings = document.getElementById(\"mpl-warnings\");\n",
       "        if (warnings) {\n",
       "            warnings.style.display = 'block';\n",
       "            warnings.textContent = (\n",
       "                \"This browser does not support binary websocket messages. \" +\n",
       "                    \"Performance may be slow.\");\n",
       "        }\n",
       "    }\n",
       "\n",
       "    this.imageObj = new Image();\n",
       "\n",
       "    this.context = undefined;\n",
       "    this.message = undefined;\n",
       "    this.canvas = undefined;\n",
       "    this.rubberband_canvas = undefined;\n",
       "    this.rubberband_context = undefined;\n",
       "    this.format_dropdown = undefined;\n",
       "\n",
       "    this.image_mode = 'full';\n",
       "\n",
       "    this.root = $('<div/>');\n",
       "    this._root_extra_style(this.root)\n",
       "    this.root.attr('style', 'display: inline-block');\n",
       "\n",
       "    $(parent_element).append(this.root);\n",
       "\n",
       "    this._init_header(this);\n",
       "    this._init_canvas(this);\n",
       "    this._init_toolbar(this);\n",
       "\n",
       "    var fig = this;\n",
       "\n",
       "    this.waiting = false;\n",
       "\n",
       "    this.ws.onopen =  function () {\n",
       "            fig.send_message(\"supports_binary\", {value: fig.supports_binary});\n",
       "            fig.send_message(\"send_image_mode\", {});\n",
       "            if (mpl.ratio != 1) {\n",
       "                fig.send_message(\"set_dpi_ratio\", {'dpi_ratio': mpl.ratio});\n",
       "            }\n",
       "            fig.send_message(\"refresh\", {});\n",
       "        }\n",
       "\n",
       "    this.imageObj.onload = function() {\n",
       "            if (fig.image_mode == 'full') {\n",
       "                // Full images could contain transparency (where diff images\n",
       "                // almost always do), so we need to clear the canvas so that\n",
       "                // there is no ghosting.\n",
       "                fig.context.clearRect(0, 0, fig.canvas.width, fig.canvas.height);\n",
       "            }\n",
       "            fig.context.drawImage(fig.imageObj, 0, 0);\n",
       "        };\n",
       "\n",
       "    this.imageObj.onunload = function() {\n",
       "        this.ws.close();\n",
       "    }\n",
       "\n",
       "    this.ws.onmessage = this._make_on_message_function(this);\n",
       "\n",
       "    this.ondownload = ondownload;\n",
       "}\n",
       "\n",
       "mpl.figure.prototype._init_header = function() {\n",
       "    var titlebar = $(\n",
       "        '<div class=\"ui-dialog-titlebar ui-widget-header ui-corner-all ' +\n",
       "        'ui-helper-clearfix\"/>');\n",
       "    var titletext = $(\n",
       "        '<div class=\"ui-dialog-title\" style=\"width: 100%; ' +\n",
       "        'text-align: center; padding: 3px;\"/>');\n",
       "    titlebar.append(titletext)\n",
       "    this.root.append(titlebar);\n",
       "    this.header = titletext[0];\n",
       "}\n",
       "\n",
       "\n",
       "\n",
       "mpl.figure.prototype._canvas_extra_style = function(canvas_div) {\n",
       "\n",
       "}\n",
       "\n",
       "\n",
       "mpl.figure.prototype._root_extra_style = function(canvas_div) {\n",
       "\n",
       "}\n",
       "\n",
       "mpl.figure.prototype._init_canvas = function() {\n",
       "    var fig = this;\n",
       "\n",
       "    var canvas_div = $('<div/>');\n",
       "\n",
       "    canvas_div.attr('style', 'position: relative; clear: both; outline: 0');\n",
       "\n",
       "    function canvas_keyboard_event(event) {\n",
       "        return fig.key_event(event, event['data']);\n",
       "    }\n",
       "\n",
       "    canvas_div.keydown('key_press', canvas_keyboard_event);\n",
       "    canvas_div.keyup('key_release', canvas_keyboard_event);\n",
       "    this.canvas_div = canvas_div\n",
       "    this._canvas_extra_style(canvas_div)\n",
       "    this.root.append(canvas_div);\n",
       "\n",
       "    var canvas = $('<canvas/>');\n",
       "    canvas.addClass('mpl-canvas');\n",
       "    canvas.attr('style', \"left: 0; top: 0; z-index: 0; outline: 0\")\n",
       "\n",
       "    this.canvas = canvas[0];\n",
       "    this.context = canvas[0].getContext(\"2d\");\n",
       "\n",
       "    var backingStore = this.context.backingStorePixelRatio ||\n",
       "\tthis.context.webkitBackingStorePixelRatio ||\n",
       "\tthis.context.mozBackingStorePixelRatio ||\n",
       "\tthis.context.msBackingStorePixelRatio ||\n",
       "\tthis.context.oBackingStorePixelRatio ||\n",
       "\tthis.context.backingStorePixelRatio || 1;\n",
       "\n",
       "    mpl.ratio = (window.devicePixelRatio || 1) / backingStore;\n",
       "\n",
       "    var rubberband = $('<canvas/>');\n",
       "    rubberband.attr('style', \"position: absolute; left: 0; top: 0; z-index: 1;\")\n",
       "\n",
       "    var pass_mouse_events = true;\n",
       "\n",
       "    canvas_div.resizable({\n",
       "        start: function(event, ui) {\n",
       "            pass_mouse_events = false;\n",
       "        },\n",
       "        resize: function(event, ui) {\n",
       "            fig.request_resize(ui.size.width, ui.size.height);\n",
       "        },\n",
       "        stop: function(event, ui) {\n",
       "            pass_mouse_events = true;\n",
       "            fig.request_resize(ui.size.width, ui.size.height);\n",
       "        },\n",
       "    });\n",
       "\n",
       "    function mouse_event_fn(event) {\n",
       "        if (pass_mouse_events)\n",
       "            return fig.mouse_event(event, event['data']);\n",
       "    }\n",
       "\n",
       "    rubberband.mousedown('button_press', mouse_event_fn);\n",
       "    rubberband.mouseup('button_release', mouse_event_fn);\n",
       "    // Throttle sequential mouse events to 1 every 20ms.\n",
       "    rubberband.mousemove('motion_notify', mouse_event_fn);\n",
       "\n",
       "    rubberband.mouseenter('figure_enter', mouse_event_fn);\n",
       "    rubberband.mouseleave('figure_leave', mouse_event_fn);\n",
       "\n",
       "    canvas_div.on(\"wheel\", function (event) {\n",
       "        event = event.originalEvent;\n",
       "        event['data'] = 'scroll'\n",
       "        if (event.deltaY < 0) {\n",
       "            event.step = 1;\n",
       "        } else {\n",
       "            event.step = -1;\n",
       "        }\n",
       "        mouse_event_fn(event);\n",
       "    });\n",
       "\n",
       "    canvas_div.append(canvas);\n",
       "    canvas_div.append(rubberband);\n",
       "\n",
       "    this.rubberband = rubberband;\n",
       "    this.rubberband_canvas = rubberband[0];\n",
       "    this.rubberband_context = rubberband[0].getContext(\"2d\");\n",
       "    this.rubberband_context.strokeStyle = \"#000000\";\n",
       "\n",
       "    this._resize_canvas = function(width, height) {\n",
       "        // Keep the size of the canvas, canvas container, and rubber band\n",
       "        // canvas in synch.\n",
       "        canvas_div.css('width', width)\n",
       "        canvas_div.css('height', height)\n",
       "\n",
       "        canvas.attr('width', width * mpl.ratio);\n",
       "        canvas.attr('height', height * mpl.ratio);\n",
       "        canvas.attr('style', 'width: ' + width + 'px; height: ' + height + 'px;');\n",
       "\n",
       "        rubberband.attr('width', width);\n",
       "        rubberband.attr('height', height);\n",
       "    }\n",
       "\n",
       "    // Set the figure to an initial 600x600px, this will subsequently be updated\n",
       "    // upon first draw.\n",
       "    this._resize_canvas(600, 600);\n",
       "\n",
       "    // Disable right mouse context menu.\n",
       "    $(this.rubberband_canvas).bind(\"contextmenu\",function(e){\n",
       "        return false;\n",
       "    });\n",
       "\n",
       "    function set_focus () {\n",
       "        canvas.focus();\n",
       "        canvas_div.focus();\n",
       "    }\n",
       "\n",
       "    window.setTimeout(set_focus, 100);\n",
       "}\n",
       "\n",
       "mpl.figure.prototype._init_toolbar = function() {\n",
       "    var fig = this;\n",
       "\n",
       "    var nav_element = $('<div/>')\n",
       "    nav_element.attr('style', 'width: 100%');\n",
       "    this.root.append(nav_element);\n",
       "\n",
       "    // Define a callback function for later on.\n",
       "    function toolbar_event(event) {\n",
       "        return fig.toolbar_button_onclick(event['data']);\n",
       "    }\n",
       "    function toolbar_mouse_event(event) {\n",
       "        return fig.toolbar_button_onmouseover(event['data']);\n",
       "    }\n",
       "\n",
       "    for(var toolbar_ind in mpl.toolbar_items) {\n",
       "        var name = mpl.toolbar_items[toolbar_ind][0];\n",
       "        var tooltip = mpl.toolbar_items[toolbar_ind][1];\n",
       "        var image = mpl.toolbar_items[toolbar_ind][2];\n",
       "        var method_name = mpl.toolbar_items[toolbar_ind][3];\n",
       "\n",
       "        if (!name) {\n",
       "            // put a spacer in here.\n",
       "            continue;\n",
       "        }\n",
       "        var button = $('<button/>');\n",
       "        button.addClass('ui-button ui-widget ui-state-default ui-corner-all ' +\n",
       "                        'ui-button-icon-only');\n",
       "        button.attr('role', 'button');\n",
       "        button.attr('aria-disabled', 'false');\n",
       "        button.click(method_name, toolbar_event);\n",
       "        button.mouseover(tooltip, toolbar_mouse_event);\n",
       "\n",
       "        var icon_img = $('<span/>');\n",
       "        icon_img.addClass('ui-button-icon-primary ui-icon');\n",
       "        icon_img.addClass(image);\n",
       "        icon_img.addClass('ui-corner-all');\n",
       "\n",
       "        var tooltip_span = $('<span/>');\n",
       "        tooltip_span.addClass('ui-button-text');\n",
       "        tooltip_span.html(tooltip);\n",
       "\n",
       "        button.append(icon_img);\n",
       "        button.append(tooltip_span);\n",
       "\n",
       "        nav_element.append(button);\n",
       "    }\n",
       "\n",
       "    var fmt_picker_span = $('<span/>');\n",
       "\n",
       "    var fmt_picker = $('<select/>');\n",
       "    fmt_picker.addClass('mpl-toolbar-option ui-widget ui-widget-content');\n",
       "    fmt_picker_span.append(fmt_picker);\n",
       "    nav_element.append(fmt_picker_span);\n",
       "    this.format_dropdown = fmt_picker[0];\n",
       "\n",
       "    for (var ind in mpl.extensions) {\n",
       "        var fmt = mpl.extensions[ind];\n",
       "        var option = $(\n",
       "            '<option/>', {selected: fmt === mpl.default_extension}).html(fmt);\n",
       "        fmt_picker.append(option)\n",
       "    }\n",
       "\n",
       "    // Add hover states to the ui-buttons\n",
       "    $( \".ui-button\" ).hover(\n",
       "        function() { $(this).addClass(\"ui-state-hover\");},\n",
       "        function() { $(this).removeClass(\"ui-state-hover\");}\n",
       "    );\n",
       "\n",
       "    var status_bar = $('<span class=\"mpl-message\"/>');\n",
       "    nav_element.append(status_bar);\n",
       "    this.message = status_bar[0];\n",
       "}\n",
       "\n",
       "mpl.figure.prototype.request_resize = function(x_pixels, y_pixels) {\n",
       "    // Request matplotlib to resize the figure. Matplotlib will then trigger a resize in the client,\n",
       "    // which will in turn request a refresh of the image.\n",
       "    this.send_message('resize', {'width': x_pixels, 'height': y_pixels});\n",
       "}\n",
       "\n",
       "mpl.figure.prototype.send_message = function(type, properties) {\n",
       "    properties['type'] = type;\n",
       "    properties['figure_id'] = this.id;\n",
       "    this.ws.send(JSON.stringify(properties));\n",
       "}\n",
       "\n",
       "mpl.figure.prototype.send_draw_message = function() {\n",
       "    if (!this.waiting) {\n",
       "        this.waiting = true;\n",
       "        this.ws.send(JSON.stringify({type: \"draw\", figure_id: this.id}));\n",
       "    }\n",
       "}\n",
       "\n",
       "\n",
       "mpl.figure.prototype.handle_save = function(fig, msg) {\n",
       "    var format_dropdown = fig.format_dropdown;\n",
       "    var format = format_dropdown.options[format_dropdown.selectedIndex].value;\n",
       "    fig.ondownload(fig, format);\n",
       "}\n",
       "\n",
       "\n",
       "mpl.figure.prototype.handle_resize = function(fig, msg) {\n",
       "    var size = msg['size'];\n",
       "    if (size[0] != fig.canvas.width || size[1] != fig.canvas.height) {\n",
       "        fig._resize_canvas(size[0], size[1]);\n",
       "        fig.send_message(\"refresh\", {});\n",
       "    };\n",
       "}\n",
       "\n",
       "mpl.figure.prototype.handle_rubberband = function(fig, msg) {\n",
       "    var x0 = msg['x0'] / mpl.ratio;\n",
       "    var y0 = (fig.canvas.height - msg['y0']) / mpl.ratio;\n",
       "    var x1 = msg['x1'] / mpl.ratio;\n",
       "    var y1 = (fig.canvas.height - msg['y1']) / mpl.ratio;\n",
       "    x0 = Math.floor(x0) + 0.5;\n",
       "    y0 = Math.floor(y0) + 0.5;\n",
       "    x1 = Math.floor(x1) + 0.5;\n",
       "    y1 = Math.floor(y1) + 0.5;\n",
       "    var min_x = Math.min(x0, x1);\n",
       "    var min_y = Math.min(y0, y1);\n",
       "    var width = Math.abs(x1 - x0);\n",
       "    var height = Math.abs(y1 - y0);\n",
       "\n",
       "    fig.rubberband_context.clearRect(\n",
       "        0, 0, fig.canvas.width, fig.canvas.height);\n",
       "\n",
       "    fig.rubberband_context.strokeRect(min_x, min_y, width, height);\n",
       "}\n",
       "\n",
       "mpl.figure.prototype.handle_figure_label = function(fig, msg) {\n",
       "    // Updates the figure title.\n",
       "    fig.header.textContent = msg['label'];\n",
       "}\n",
       "\n",
       "mpl.figure.prototype.handle_cursor = function(fig, msg) {\n",
       "    var cursor = msg['cursor'];\n",
       "    switch(cursor)\n",
       "    {\n",
       "    case 0:\n",
       "        cursor = 'pointer';\n",
       "        break;\n",
       "    case 1:\n",
       "        cursor = 'default';\n",
       "        break;\n",
       "    case 2:\n",
       "        cursor = 'crosshair';\n",
       "        break;\n",
       "    case 3:\n",
       "        cursor = 'move';\n",
       "        break;\n",
       "    }\n",
       "    fig.rubberband_canvas.style.cursor = cursor;\n",
       "}\n",
       "\n",
       "mpl.figure.prototype.handle_message = function(fig, msg) {\n",
       "    fig.message.textContent = msg['message'];\n",
       "}\n",
       "\n",
       "mpl.figure.prototype.handle_draw = function(fig, msg) {\n",
       "    // Request the server to send over a new figure.\n",
       "    fig.send_draw_message();\n",
       "}\n",
       "\n",
       "mpl.figure.prototype.handle_image_mode = function(fig, msg) {\n",
       "    fig.image_mode = msg['mode'];\n",
       "}\n",
       "\n",
       "mpl.figure.prototype.updated_canvas_event = function() {\n",
       "    // Called whenever the canvas gets updated.\n",
       "    this.send_message(\"ack\", {});\n",
       "}\n",
       "\n",
       "// A function to construct a web socket function for onmessage handling.\n",
       "// Called in the figure constructor.\n",
       "mpl.figure.prototype._make_on_message_function = function(fig) {\n",
       "    return function socket_on_message(evt) {\n",
       "        if (evt.data instanceof Blob) {\n",
       "            /* FIXME: We get \"Resource interpreted as Image but\n",
       "             * transferred with MIME type text/plain:\" errors on\n",
       "             * Chrome.  But how to set the MIME type?  It doesn't seem\n",
       "             * to be part of the websocket stream */\n",
       "            evt.data.type = \"image/png\";\n",
       "\n",
       "            /* Free the memory for the previous frames */\n",
       "            if (fig.imageObj.src) {\n",
       "                (window.URL || window.webkitURL).revokeObjectURL(\n",
       "                    fig.imageObj.src);\n",
       "            }\n",
       "\n",
       "            fig.imageObj.src = (window.URL || window.webkitURL).createObjectURL(\n",
       "                evt.data);\n",
       "            fig.updated_canvas_event();\n",
       "            fig.waiting = false;\n",
       "            return;\n",
       "        }\n",
       "        else if (typeof evt.data === 'string' && evt.data.slice(0, 21) == \"data:image/png;base64\") {\n",
       "            fig.imageObj.src = evt.data;\n",
       "            fig.updated_canvas_event();\n",
       "            fig.waiting = false;\n",
       "            return;\n",
       "        }\n",
       "\n",
       "        var msg = JSON.parse(evt.data);\n",
       "        var msg_type = msg['type'];\n",
       "\n",
       "        // Call the  \"handle_{type}\" callback, which takes\n",
       "        // the figure and JSON message as its only arguments.\n",
       "        try {\n",
       "            var callback = fig[\"handle_\" + msg_type];\n",
       "        } catch (e) {\n",
       "            console.log(\"No handler for the '\" + msg_type + \"' message type: \", msg);\n",
       "            return;\n",
       "        }\n",
       "\n",
       "        if (callback) {\n",
       "            try {\n",
       "                // console.log(\"Handling '\" + msg_type + \"' message: \", msg);\n",
       "                callback(fig, msg);\n",
       "            } catch (e) {\n",
       "                console.log(\"Exception inside the 'handler_\" + msg_type + \"' callback:\", e, e.stack, msg);\n",
       "            }\n",
       "        }\n",
       "    };\n",
       "}\n",
       "\n",
       "// from http://stackoverflow.com/questions/1114465/getting-mouse-location-in-canvas\n",
       "mpl.findpos = function(e) {\n",
       "    //this section is from http://www.quirksmode.org/js/events_properties.html\n",
       "    var targ;\n",
       "    if (!e)\n",
       "        e = window.event;\n",
       "    if (e.target)\n",
       "        targ = e.target;\n",
       "    else if (e.srcElement)\n",
       "        targ = e.srcElement;\n",
       "    if (targ.nodeType == 3) // defeat Safari bug\n",
       "        targ = targ.parentNode;\n",
       "\n",
       "    // jQuery normalizes the pageX and pageY\n",
       "    // pageX,Y are the mouse positions relative to the document\n",
       "    // offset() returns the position of the element relative to the document\n",
       "    var x = e.pageX - $(targ).offset().left;\n",
       "    var y = e.pageY - $(targ).offset().top;\n",
       "\n",
       "    return {\"x\": x, \"y\": y};\n",
       "};\n",
       "\n",
       "/*\n",
       " * return a copy of an object with only non-object keys\n",
       " * we need this to avoid circular references\n",
       " * http://stackoverflow.com/a/24161582/3208463\n",
       " */\n",
       "function simpleKeys (original) {\n",
       "  return Object.keys(original).reduce(function (obj, key) {\n",
       "    if (typeof original[key] !== 'object')\n",
       "        obj[key] = original[key]\n",
       "    return obj;\n",
       "  }, {});\n",
       "}\n",
       "\n",
       "mpl.figure.prototype.mouse_event = function(event, name) {\n",
       "    var canvas_pos = mpl.findpos(event)\n",
       "\n",
       "    if (name === 'button_press')\n",
       "    {\n",
       "        this.canvas.focus();\n",
       "        this.canvas_div.focus();\n",
       "    }\n",
       "\n",
       "    var x = canvas_pos.x * mpl.ratio;\n",
       "    var y = canvas_pos.y * mpl.ratio;\n",
       "\n",
       "    this.send_message(name, {x: x, y: y, button: event.button,\n",
       "                             step: event.step,\n",
       "                             guiEvent: simpleKeys(event)});\n",
       "\n",
       "    /* This prevents the web browser from automatically changing to\n",
       "     * the text insertion cursor when the button is pressed.  We want\n",
       "     * to control all of the cursor setting manually through the\n",
       "     * 'cursor' event from matplotlib */\n",
       "    event.preventDefault();\n",
       "    return false;\n",
       "}\n",
       "\n",
       "mpl.figure.prototype._key_event_extra = function(event, name) {\n",
       "    // Handle any extra behaviour associated with a key event\n",
       "}\n",
       "\n",
       "mpl.figure.prototype.key_event = function(event, name) {\n",
       "\n",
       "    // Prevent repeat events\n",
       "    if (name == 'key_press')\n",
       "    {\n",
       "        if (event.which === this._key)\n",
       "            return;\n",
       "        else\n",
       "            this._key = event.which;\n",
       "    }\n",
       "    if (name == 'key_release')\n",
       "        this._key = null;\n",
       "\n",
       "    var value = '';\n",
       "    if (event.ctrlKey && event.which != 17)\n",
       "        value += \"ctrl+\";\n",
       "    if (event.altKey && event.which != 18)\n",
       "        value += \"alt+\";\n",
       "    if (event.shiftKey && event.which != 16)\n",
       "        value += \"shift+\";\n",
       "\n",
       "    value += 'k';\n",
       "    value += event.which.toString();\n",
       "\n",
       "    this._key_event_extra(event, name);\n",
       "\n",
       "    this.send_message(name, {key: value,\n",
       "                             guiEvent: simpleKeys(event)});\n",
       "    return false;\n",
       "}\n",
       "\n",
       "mpl.figure.prototype.toolbar_button_onclick = function(name) {\n",
       "    if (name == 'download') {\n",
       "        this.handle_save(this, null);\n",
       "    } else {\n",
       "        this.send_message(\"toolbar_button\", {name: name});\n",
       "    }\n",
       "};\n",
       "\n",
       "mpl.figure.prototype.toolbar_button_onmouseover = function(tooltip) {\n",
       "    this.message.textContent = tooltip;\n",
       "};\n",
       "mpl.toolbar_items = [[\"Home\", \"Reset original view\", \"fa fa-home icon-home\", \"home\"], [\"Back\", \"Back to  previous view\", \"fa fa-arrow-left icon-arrow-left\", \"back\"], [\"Forward\", \"Forward to next view\", \"fa fa-arrow-right icon-arrow-right\", \"forward\"], [\"\", \"\", \"\", \"\"], [\"Pan\", \"Pan axes with left mouse, zoom with right\", \"fa fa-arrows icon-move\", \"pan\"], [\"Zoom\", \"Zoom to rectangle\", \"fa fa-square-o icon-check-empty\", \"zoom\"], [\"\", \"\", \"\", \"\"], [\"Download\", \"Download plot\", \"fa fa-floppy-o icon-save\", \"download\"]];\n",
       "\n",
       "mpl.extensions = [\"eps\", \"jpeg\", \"pdf\", \"png\", \"ps\", \"raw\", \"svg\", \"tif\"];\n",
       "\n",
       "mpl.default_extension = \"png\";var comm_websocket_adapter = function(comm) {\n",
       "    // Create a \"websocket\"-like object which calls the given IPython comm\n",
       "    // object with the appropriate methods. Currently this is a non binary\n",
       "    // socket, so there is still some room for performance tuning.\n",
       "    var ws = {};\n",
       "\n",
       "    ws.close = function() {\n",
       "        comm.close()\n",
       "    };\n",
       "    ws.send = function(m) {\n",
       "        //console.log('sending', m);\n",
       "        comm.send(m);\n",
       "    };\n",
       "    // Register the callback with on_msg.\n",
       "    comm.on_msg(function(msg) {\n",
       "        //console.log('receiving', msg['content']['data'], msg);\n",
       "        // Pass the mpl event to the overriden (by mpl) onmessage function.\n",
       "        ws.onmessage(msg['content']['data'])\n",
       "    });\n",
       "    return ws;\n",
       "}\n",
       "\n",
       "mpl.mpl_figure_comm = function(comm, msg) {\n",
       "    // This is the function which gets called when the mpl process\n",
       "    // starts-up an IPython Comm through the \"matplotlib\" channel.\n",
       "\n",
       "    var id = msg.content.data.id;\n",
       "    // Get hold of the div created by the display call when the Comm\n",
       "    // socket was opened in Python.\n",
       "    var element = $(\"#\" + id);\n",
       "    var ws_proxy = comm_websocket_adapter(comm)\n",
       "\n",
       "    function ondownload(figure, format) {\n",
       "        window.open(figure.imageObj.src);\n",
       "    }\n",
       "\n",
       "    var fig = new mpl.figure(id, ws_proxy,\n",
       "                           ondownload,\n",
       "                           element.get(0));\n",
       "\n",
       "    // Call onopen now - mpl needs it, as it is assuming we've passed it a real\n",
       "    // web socket which is closed, not our websocket->open comm proxy.\n",
       "    ws_proxy.onopen();\n",
       "\n",
       "    fig.parent_element = element.get(0);\n",
       "    fig.cell_info = mpl.find_output_cell(\"<div id='\" + id + \"'></div>\");\n",
       "    if (!fig.cell_info) {\n",
       "        console.error(\"Failed to find cell for figure\", id, fig);\n",
       "        return;\n",
       "    }\n",
       "\n",
       "    var output_index = fig.cell_info[2]\n",
       "    var cell = fig.cell_info[0];\n",
       "\n",
       "};\n",
       "\n",
       "mpl.figure.prototype.handle_close = function(fig, msg) {\n",
       "    var width = fig.canvas.width/mpl.ratio\n",
       "    fig.root.unbind('remove')\n",
       "\n",
       "    // Update the output cell to use the data from the current canvas.\n",
       "    fig.push_to_output();\n",
       "    var dataURL = fig.canvas.toDataURL();\n",
       "    // Re-enable the keyboard manager in IPython - without this line, in FF,\n",
       "    // the notebook keyboard shortcuts fail.\n",
       "    IPython.keyboard_manager.enable()\n",
       "    $(fig.parent_element).html('<img src=\"' + dataURL + '\" width=\"' + width + '\">');\n",
       "    fig.close_ws(fig, msg);\n",
       "}\n",
       "\n",
       "mpl.figure.prototype.close_ws = function(fig, msg){\n",
       "    fig.send_message('closing', msg);\n",
       "    // fig.ws.close()\n",
       "}\n",
       "\n",
       "mpl.figure.prototype.push_to_output = function(remove_interactive) {\n",
       "    // Turn the data on the canvas into data in the output cell.\n",
       "    var width = this.canvas.width/mpl.ratio\n",
       "    var dataURL = this.canvas.toDataURL();\n",
       "    this.cell_info[1]['text/html'] = '<img src=\"' + dataURL + '\" width=\"' + width + '\">';\n",
       "}\n",
       "\n",
       "mpl.figure.prototype.updated_canvas_event = function() {\n",
       "    // Tell IPython that the notebook contents must change.\n",
       "    IPython.notebook.set_dirty(true);\n",
       "    this.send_message(\"ack\", {});\n",
       "    var fig = this;\n",
       "    // Wait a second, then push the new image to the DOM so\n",
       "    // that it is saved nicely (might be nice to debounce this).\n",
       "    setTimeout(function () { fig.push_to_output() }, 1000);\n",
       "}\n",
       "\n",
       "mpl.figure.prototype._init_toolbar = function() {\n",
       "    var fig = this;\n",
       "\n",
       "    var nav_element = $('<div/>')\n",
       "    nav_element.attr('style', 'width: 100%');\n",
       "    this.root.append(nav_element);\n",
       "\n",
       "    // Define a callback function for later on.\n",
       "    function toolbar_event(event) {\n",
       "        return fig.toolbar_button_onclick(event['data']);\n",
       "    }\n",
       "    function toolbar_mouse_event(event) {\n",
       "        return fig.toolbar_button_onmouseover(event['data']);\n",
       "    }\n",
       "\n",
       "    for(var toolbar_ind in mpl.toolbar_items){\n",
       "        var name = mpl.toolbar_items[toolbar_ind][0];\n",
       "        var tooltip = mpl.toolbar_items[toolbar_ind][1];\n",
       "        var image = mpl.toolbar_items[toolbar_ind][2];\n",
       "        var method_name = mpl.toolbar_items[toolbar_ind][3];\n",
       "\n",
       "        if (!name) { continue; };\n",
       "\n",
       "        var button = $('<button class=\"btn btn-default\" href=\"#\" title=\"' + name + '\"><i class=\"fa ' + image + ' fa-lg\"></i></button>');\n",
       "        button.click(method_name, toolbar_event);\n",
       "        button.mouseover(tooltip, toolbar_mouse_event);\n",
       "        nav_element.append(button);\n",
       "    }\n",
       "\n",
       "    // Add the status bar.\n",
       "    var status_bar = $('<span class=\"mpl-message\" style=\"text-align:right; float: right;\"/>');\n",
       "    nav_element.append(status_bar);\n",
       "    this.message = status_bar[0];\n",
       "\n",
       "    // Add the close button to the window.\n",
       "    var buttongrp = $('<div class=\"btn-group inline pull-right\"></div>');\n",
       "    var button = $('<button class=\"btn btn-mini btn-primary\" href=\"#\" title=\"Stop Interaction\"><i class=\"fa fa-power-off icon-remove icon-large\"></i></button>');\n",
       "    button.click(function (evt) { fig.handle_close(fig, {}); } );\n",
       "    button.mouseover('Stop Interaction', toolbar_mouse_event);\n",
       "    buttongrp.append(button);\n",
       "    var titlebar = this.root.find($('.ui-dialog-titlebar'));\n",
       "    titlebar.prepend(buttongrp);\n",
       "}\n",
       "\n",
       "mpl.figure.prototype._root_extra_style = function(el){\n",
       "    var fig = this\n",
       "    el.on(\"remove\", function(){\n",
       "\tfig.close_ws(fig, {});\n",
       "    });\n",
       "}\n",
       "\n",
       "mpl.figure.prototype._canvas_extra_style = function(el){\n",
       "    // this is important to make the div 'focusable\n",
       "    el.attr('tabindex', 0)\n",
       "    // reach out to IPython and tell the keyboard manager to turn it's self\n",
       "    // off when our div gets focus\n",
       "\n",
       "    // location in version 3\n",
       "    if (IPython.notebook.keyboard_manager) {\n",
       "        IPython.notebook.keyboard_manager.register_events(el);\n",
       "    }\n",
       "    else {\n",
       "        // location in version 2\n",
       "        IPython.keyboard_manager.register_events(el);\n",
       "    }\n",
       "\n",
       "}\n",
       "\n",
       "mpl.figure.prototype._key_event_extra = function(event, name) {\n",
       "    var manager = IPython.notebook.keyboard_manager;\n",
       "    if (!manager)\n",
       "        manager = IPython.keyboard_manager;\n",
       "\n",
       "    // Check for shift+enter\n",
       "    if (event.shiftKey && event.which == 13) {\n",
       "        this.canvas_div.blur();\n",
       "        // select the cell after this one\n",
       "        var index = IPython.notebook.find_cell_index(this.cell_info[0]);\n",
       "        IPython.notebook.select(index + 1);\n",
       "    }\n",
       "}\n",
       "\n",
       "mpl.figure.prototype.handle_save = function(fig, msg) {\n",
       "    fig.ondownload(fig, null);\n",
       "}\n",
       "\n",
       "\n",
       "mpl.find_output_cell = function(html_output) {\n",
       "    // Return the cell and output element which can be found *uniquely* in the notebook.\n",
       "    // Note - this is a bit hacky, but it is done because the \"notebook_saving.Notebook\"\n",
       "    // IPython event is triggered only after the cells have been serialised, which for\n",
       "    // our purposes (turning an active figure into a static one), is too late.\n",
       "    var cells = IPython.notebook.get_cells();\n",
       "    var ncells = cells.length;\n",
       "    for (var i=0; i<ncells; i++) {\n",
       "        var cell = cells[i];\n",
       "        if (cell.cell_type === 'code'){\n",
       "            for (var j=0; j<cell.output_area.outputs.length; j++) {\n",
       "                var data = cell.output_area.outputs[j];\n",
       "                if (data.data) {\n",
       "                    // IPython >= 3 moved mimebundle to data attribute of output\n",
       "                    data = data.data;\n",
       "                }\n",
       "                if (data['text/html'] == html_output) {\n",
       "                    return [cell, data, j];\n",
       "                }\n",
       "            }\n",
       "        }\n",
       "    }\n",
       "}\n",
       "\n",
       "// Register the function which deals with the matplotlib target/channel.\n",
       "// The kernel may be null if the page has been refreshed.\n",
       "if (IPython.notebook.kernel != null) {\n",
       "    IPython.notebook.kernel.comm_manager.register_target('matplotlib', mpl.mpl_figure_comm);\n",
       "}\n"
      ],
      "text/plain": [
       "<IPython.core.display.Javascript object>"
=======
   "execution_count": 1,
   "metadata": {
    "ExecuteTime": {
     "end_time": "2017-11-13T05:02:08.824945Z",
     "start_time": "2017-11-13T05:02:08.285636Z"
    },
    "collapsed": false,
    "deletable": true,
    "editable": true
   },
   "outputs": [
    {
     "data": {
      "image/png": "iVBORw0KGgoAAAANSUhEUgAAAP8AAAD8CAYAAAC4nHJkAAAABHNCSVQICAgIfAhkiAAAAAlwSFlz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\nOwAAAABJRU5ErkJggg==\n",
      "text/plain": [
       "<matplotlib.figure.Figure at 0x7fc02e9281d0>"
      ]
     },
     "metadata": {},
     "output_type": "display_data"
    },
    {
     "data": {
      "image/png": "iVBORw0KGgoAAAANSUhEUgAAAP8AAAD8CAYAAAC4nHJkAAAABHNCSVQICAgIfAhkiAAAAAlwSFlz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\nAAAAAElFTkSuQmCC\n",
      "text/plain": [
       "<matplotlib.figure.Figure at 0x7fc02c857bd0>"
      ]
     },
     "metadata": {},
     "output_type": "display_data"
    },
    {
     "data": {
      "image/png": "iVBORw0KGgoAAAANSUhEUgAAAP8AAAD8CAYAAAC4nHJkAAAABHNCSVQICAgIfAhkiAAAAAlwSFlz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\n/4aqOQAAAABJRU5ErkJggg==\n",
      "text/plain": [
       "<matplotlib.figure.Figure at 0x7fc02c72bd90>"
>>>>>>> ecdc3e20c3400c9e4e6fd387fb9174c35cd665db
      ]
     },
     "metadata": {},
     "output_type": "display_data"
    },
    {
     "data": {
<<<<<<< HEAD
      "text/html": [
       "<img src=\"data:image/png;base64,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\" width=\"640\">"
      ],
      "text/plain": [
       "<IPython.core.display.HTML object>"
=======
      "image/png": "iVBORw0KGgoAAAANSUhEUgAAAP8AAAD8CAYAAAC4nHJkAAAABHNCSVQICAgIfAhkiAAAAAlwSFlz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\nYlHggocAAAAASUVORK5CYII=\n",
      "text/plain": [
       "<matplotlib.figure.Figure at 0x7fc02c7ff410>"
>>>>>>> ecdc3e20c3400c9e4e6fd387fb9174c35cd665db
      ]
     },
     "metadata": {},
     "output_type": "display_data"
    },
    {
<<<<<<< HEAD
     "name": "stdout",
     "output_type": "stream",
     "text": [
      "18 5\n",
      "14 3\n",
      "15 11\n",
      "9 10\n"
     ]
=======
     "data": {
      "image/png": "iVBORw0KGgoAAAANSUhEUgAAAP8AAAD8CAYAAAC4nHJkAAAABHNCSVQICAgIfAhkiAAAAAlwSFlz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\nKeOXmjJ+qan/BfPaHKUMRbT3AAAAAElFTkSuQmCC\n",
      "text/plain": [
       "<matplotlib.figure.Figure at 0x7fc02c74c650>"
      ]
     },
     "metadata": {},
     "output_type": "display_data"
>>>>>>> ecdc3e20c3400c9e4e6fd387fb9174c35cd665db
    }
   ],
   "source": [
    "import numpy as np\n",
    "import matplotlib.pyplot as plt\n",
    "%matplotlib notebook\n",
    "number_of_boxes= 5 \n",
    "\n",
    "gt_generated = np.zeros([1,number_of_boxes, 6])\n",
    "\n",
    "for i in range(5):\n",
    "\n",
    "    img = np.zeros((1,3,32,32), dtype=np.float32)\n",
    "    pos_r = np.random.randint(0, img.shape[2]-4-1)\n",
    "    pos_c = np.random.randint(0, img.shape[3]-4-1)\n",
    "    gt_generated\n",
    "    img[0,:,pos_r:pos_r+4,pos_c:pos_c+4]=1\n",
    "    print(pos_c, pos_r)\n",
    "    plt.imshow(img[0,0,:,:])\n",
    "    plt.show()\n",
    "    "
   ]
  },
  {
   "cell_type": "code",
   "execution_count": null,
   "metadata": {
    "collapsed": true
   },
   "outputs": [],
   "source": []
  },
  {
   "cell_type": "markdown",
   "metadata": {
    "deletable": true,
    "editable": true
   },
   "source": [
    "## Generating Feature maps\n",
    "Now that we have the image, we'll go over it one by one and generate feature maps of size 4x4."
   ]
  },
  {
   "cell_type": "code",
<<<<<<< HEAD
   "execution_count": null,
=======
   "execution_count": 2,
>>>>>>> ecdc3e20c3400c9e4e6fd387fb9174c35cd665db
   "metadata": {
    "ExecuteTime": {
     "end_time": "2017-11-13T05:02:08.868115Z",
     "start_time": "2017-11-13T05:02:08.849486Z"
    },
    "collapsed": true,
    "deletable": true,
    "editable": true
   },
   "outputs": [],
   "source": [
    "from chainer import Chain\n",
    "import chainer\n",
    "import chainer.functions as F\n",
    "import chainer.links as L\n",
    "\n",
    "class ConvNet(Chain):\n",
    "    def __init__(self):\n",
    "        super(ConvNet, self).__init__(\n",
    "            l1=L.Convolution2D(None,32,ksize=(3,3),stride=1,pad=1),\n",
    "            l2=L.Convolution2D(32,32,ksize=(3,3),stride=1,pad=1),\n",
    "            l3=L.Convolution2D(32,32,ksize=(3,3),stride=1,pad=1)\n",
    "        )\n",
    "        \n",
    "    def __call__(self, x):\n",
    "        h1 = F.relu(self.l1(x))\n",
    "        h2 = F.max_pooling_2d(h1, 2)\n",
    "        h3 = F.relu(self.l2(h2))\n",
    "        h4 = F.max_pooling_2d(h3, 2)\n",
    "        h5 = F.relu(self.l3(h4))\n",
    "        h6 = F.max_pooling_2d(h5, 2)\n",
    "        return self.l3(F.sigmoid(h6))"
   ]
  },
  {
   "cell_type": "markdown",
   "metadata": {
    "deletable": true,
    "editable": true
   },
   "source": [
    "## Linear Convolution to generate shifts"
   ]
  },
  {
   "cell_type": "code",
<<<<<<< HEAD
   "execution_count": null,
=======
   "execution_count": 3,
>>>>>>> ecdc3e20c3400c9e4e6fd387fb9174c35cd665db
   "metadata": {
    "ExecuteTime": {
     "end_time": "2017-11-13T05:02:09.180697Z",
     "start_time": "2017-11-13T05:02:09.158920Z"
    },
<<<<<<< HEAD
    "collapsed": true
   },
   "outputs": [],
=======
    "collapsed": false,
    "deletable": true,
    "editable": true
   },
   "outputs": [
    {
     "name": "stdout",
     "output_type": "stream",
     "text": [
      "variable([[[[-0.37791914 -0.43158185 -0.49208209  0.08930296]\n",
      "            [-0.33665535 -0.30048689 -0.42012659  0.03593366]\n",
      "            [-0.33348179 -0.56969327 -0.83930004 -0.31335935]\n",
      "            [-0.25285673 -0.65019464 -0.85893768 -0.54652828]]\n",
      "\n",
      "           [[-0.02373353  0.11186037  0.12125742 -0.06770688]\n",
      "            [-0.16229992 -0.13479194 -0.05632504 -0.367434  ]\n",
      "            [-0.0377339   0.06236687 -0.05833015 -0.53944355]\n",
      "            [-0.01905463 -0.00904478  0.07798768 -0.35433123]]\n",
      "\n",
      "           [[-0.23600589 -0.15307131 -0.03792046  0.24621589]\n",
      "            [ 0.22743958 -0.01503603 -0.09071279 -0.06827872]\n",
      "            [ 0.28008753 -0.04536588 -0.28974736 -0.17859079]\n",
      "            [ 0.41875401  0.2222141  -0.01282565 -0.17020902]]\n",
      "\n",
      "           [[-0.07046004  0.09124584  0.11673556  0.06904937]\n",
      "            [-0.24150465 -0.28177118 -0.21108592 -0.09555548]\n",
      "            [-0.24252447 -0.08167254  0.12837544  0.06310338]\n",
      "            [-0.1166952  -0.05584195  0.06562136 -0.04929039]]\n",
      "\n",
      "           [[-0.2319586   0.04235752 -0.22069387  0.24407345]\n",
      "            [-0.49558175 -0.36292744 -0.69908178  0.02831979]\n",
      "            [-0.47127476 -0.50551778 -0.97887337 -0.35119045]\n",
      "            [-0.36551574 -0.52557611 -0.80602509 -0.37480682]]\n",
      "\n",
      "           [[-0.16575071 -0.10298646  0.18938449  0.23939323]\n",
      "            [ 0.14065704  0.09112756  0.47668031  0.33023432]\n",
      "            [ 0.15311813  0.01003276  0.49621272  0.292698  ]\n",
      "            [ 0.57676101  0.64095449  0.87899238  0.61028612]]]])\n"
     ]
    }
   ],
>>>>>>> ecdc3e20c3400c9e4e6fd387fb9174c35cd665db
   "source": [
    "class BoxNet(Chain):\n",
    "    def __init__(self):\n",
    "        super(BoxNet, self).__init__(\n",
    "            l1=L.Convolution2D(None,6,ksize=(3,3),stride=1,pad=1)\n",
    "        )\n",
    "        \n",
    "    def __call__(self, x):\n",
    "        h1 = self.l1(x)\n",
    "        return h1\n",
    "    \n",
    "convnet = ConvNet()\n",
    "boxnet = BoxNet()\n",
    "fm = convnet(img)\n",
    "shifts = boxnet(fm)\n",
    "print(shifts)"
   ]
  },
  {
   "cell_type": "markdown",
   "metadata": {
    "deletable": true,
    "editable": true
   },
   "source": [
    "## Draw generated default boxes on top of the original image"
   ]
  },
  {
   "cell_type": "code",
<<<<<<< HEAD
   "execution_count": null,
=======
   "execution_count": 4,
>>>>>>> ecdc3e20c3400c9e4e6fd387fb9174c35cd665db
   "metadata": {
    "ExecuteTime": {
     "end_time": "2017-11-13T05:02:10.035939Z",
     "start_time": "2017-11-13T05:02:09.602325Z"
<<<<<<< HEAD
    },
    "collapsed": true
   },
   "outputs": [],
=======
    },
    "collapsed": false,
    "deletable": true,
    "editable": true
   },
   "outputs": [
    {
     "data": {
      "image/png": "iVBORw0KGgoAAAANSUhEUgAAAP8AAAD8CAYAAAC4nHJkAAAABHNCSVQICAgIfAhkiAAAAAlwSFlz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\nRK5CYII=\n",
      "text/plain": [
       "<matplotlib.figure.Figure at 0x7fc060136d50>"
      ]
     },
     "metadata": {},
     "output_type": "display_data"
    },
    {
     "data": {
      "text/plain": [
       "dtype('float32')"
      ]
     },
     "execution_count": 4,
     "metadata": {},
     "output_type": "execute_result"
    }
   ],
>>>>>>> ecdc3e20c3400c9e4e6fd387fb9174c35cd665db
   "source": [
    "from matplotlib import patches\n",
    "\n",
    "def defaultgen(I, F, width, height):\n",
    "    \"\"\"\n",
    "    Generates an array of default boxes: Chainer TESTED\n",
    "    \n",
    "    Args:\n",
    "        I: Input image tensor (N,channels,rows,cols)\n",
    "        F: Feature map tensor to generate default boxes for\n",
    "        width: Width of the box\n",
    "        height: Height of the box\n",
    "        \n",
    "    Returns:\n",
    "        db: Default boxes tensor, flattened\n",
    "    \"\"\"\n",
    "    scale = I.shape[2] / F.shape[2]\n",
    "    offset = np.ones((2,F.shape[2],F.shape[3]), dtype=np.float32)\n",
    "    iterator = np.flip(np.indices((F.shape[2],F.shape[3])), axis=0).astype(np.float32)\n",
    "    \n",
    "    xys = offset * ((scale-1)/2) + iterator * scale\n",
    "    xys = np.moveaxis(xys,0,2)\n",
    "    ws = np.full((F.shape[2],F.shape[3],1), width, dtype=np.float32)\n",
    "    hs = np.full((F.shape[2],F.shape[3],1), height,dtype=np.float32)\n",
    "    class_scores = np.zeros((F.shape[2],F.shape[3],2), dtype=np.float32)\n",
    "    \n",
    "    db = np.dstack([xys, ws, hs, class_scores])\n",
    "    \n",
    "    return chainer.Variable(db.reshape((db.shape[0] * db.shape[1], 6)))\n",
    "\n",
    "def center_to_coords(box):\n",
    "    \"\"\" \n",
    "    Converts bounding box from (cx, cy, w, h) format to (x1, y1, x2, y2) format\n",
    "    \n",
    "    Args:\n",
    "        box: 6d numpy array\n",
    "        \n",
    "    Returns:\n",
    "        box_transformed: Box in the second format\n",
    "    \n",
    "    \"\"\"\n",
    "    box_transformed = np.array([box[0]-box[2]/2.0, box[1]+box[3]/2.0, box[0]+box[2]/2.0, box[1]-box[3]/2.0, box[4], box[5]])\n",
    "    return box_transformed\n",
    "\n",
    "\n",
    "def draw_boxes(img, boxes):\n",
    "    plt.figure()\n",
    "    ax = plt.axes()\n",
    "\n",
    "    for box in boxes:\n",
    "        box = center_to_coords(box.data)\n",
    "        ax.imshow(img[0,0,:,:])\n",
    "        p = patches.Rectangle((box[0], box[1]), box[2]-box[0], box[3]-box[1], fill=False, color='red')\n",
    "        ax.add_patch(p)\n",
    "\n",
    "    plt.show()\n",
    "\n",
    "def_boxes = defaultgen(img, fm, 5,5)\n",
    "def_boxes[0][2:4]\n",
    "draw_boxes(img, def_boxes)\n",
    "def_boxes.dtype\n"
   ]
  },
  {
   "cell_type": "markdown",
   "metadata": {
    "deletable": true,
    "editable": true
   },
   "source": [
    "## Draw predictions on top of the original image\n",
    "Now with the shift tensor we have obtained from running convnet and boxnet together, let's offset the default boxes."
   ]
  },
  {
   "cell_type": "code",
<<<<<<< HEAD
   "execution_count": null,
=======
   "execution_count": 5,
>>>>>>> ecdc3e20c3400c9e4e6fd387fb9174c35cd665db
   "metadata": {
    "ExecuteTime": {
     "end_time": "2017-11-13T05:02:10.862451Z",
     "start_time": "2017-11-13T05:02:10.514974Z"
    },
<<<<<<< HEAD
    "collapsed": true
   },
   "outputs": [],
=======
    "collapsed": false,
    "deletable": true,
    "editable": true
   },
   "outputs": [
    {
     "data": {
      "image/png": "iVBORw0KGgoAAAANSUhEUgAAAP8AAAD8CAYAAAC4nHJkAAAABHNCSVQICAgIfAhkiAAAAAlwSFlz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\n",
      "text/plain": [
       "<matplotlib.figure.Figure at 0x7fc028715f10>"
      ]
     },
     "metadata": {},
     "output_type": "display_data"
    }
   ],
>>>>>>> ecdc3e20c3400c9e4e6fd387fb9174c35cd665db
   "source": [
    "def get_pred_boxes(shift_vals, default_boxes ): \n",
    "    \"\"\"\n",
    "    Get predicted boxes by combining shift values to default boxes\n",
    "    Input: \n",
    "\n",
    "    shift_values : Shifts generated by the network  NDarray (None, Num of Default boxes, 4+num of classes)\n",
    "    Default boxes  : Default boxes generated by the network NDarray (None, Num of Default boxes, 4+num of classes)\n",
    "\n",
    "    Output: \n",
    "\n",
    "    Predicted boxes  : Predicted boxes, same shape as default boxes  NDarray (None, Num of Default boxes, 4+num of classes)\n",
    "\n",
    "    \"\"\"\n",
    "    shift_vals= shift_vals.reshape(4*4,6)\n",
    "\n",
    "    shifts = shift_vals \n",
    "    def_boxes= default_boxes\n",
    "    \n",
    "    \n",
    "    cx_pred = (shifts[:,0]*shifts[:,2])+def_boxes[:,0]\n",
    "    cy_pred = (shifts[:,1]*shifts[:,2])+def_boxes[:,1]\n",
    "    \n",
    "    H_pred = F.exp(shifts[:,2])*def_boxes[:,2]\n",
    "    W_pred = F.exp(shifts[:,3])*def_boxes[:,3]\n",
    "    \n",
    "    class1 = shifts[:,4]\n",
    "    class2 = shifts[:,5]\n",
    "    \n",
    "    \n",
    "    pred_boxes = F.vstack((cx_pred,cy_pred,W_pred,H_pred, class1, class2))\n",
    "    pred_boxes = F.transpose(pred_boxes)\n",
    "    \n",
    "    return  pred_boxes \n",
    "\n",
    "\n",
    "def draw_pred_boxes(prediction_boxes, default_boxes): \n",
    "    \"\"\"Draw predicted boxes on the original image \"\"\"\n",
    "    \n",
    "    pred_boxes= prediction_boxes\n",
    "    def_boxes =default_boxes.data\n",
    "    pred_boxes = get_pred_boxes(shifts, def_boxes)\n",
    "     \n",
    "    boxes = pred_boxes.data\n",
    "    \n",
    "    plt.figure()\n",
    "    ax = plt.axes()\n",
    "\n",
    "    for i in range(def_boxes.shape[0]):\n",
    "        box = def_boxes[i]\n",
    "        box2 =boxes[i]            \n",
    "        box = center_to_coords(box)\n",
    "        box2 = center_to_coords(box2)            \n",
    "        ax.imshow(img[0,0,:,:])\n",
    "\n",
    "        default_boxes = patches.Rectangle((box[0], box[1]), box[2]-box[0], box[3]-box[1], fill=False, color = 'red')\n",
    "        pred_boxes = patches.Rectangle((box2[0], box2[1]), box2[2]-box2[0], box2[3]-box2[1], fill=False, color = 'yellow')\n",
    "\n",
    "        ax.add_patch(default_boxes)\n",
    "        ax.add_patch(pred_boxes)\n",
    "\n",
    "\n",
    "    plt.show()\n",
    "#     plt.savefig('shifts')\n",
    "\n",
    "\n",
    "\n",
    "\n",
    "\n",
    "pred_boxes = get_pred_boxes(shifts, def_boxes)\n",
    "draw_pred_boxes(pred_boxes, def_boxes)"
   ]
  },
  {
   "cell_type": "markdown",
   "metadata": {
    "deletable": true,
    "editable": true
   },
   "source": [
    "## Do matching"
   ]
  },
  {
   "cell_type": "code",
   "execution_count": 3,
   "metadata": {
    "ExecuteTime": {
<<<<<<< HEAD
     "end_time": "2017-11-13T18:17:28.490523Z",
     "start_time": "2017-11-13T18:17:28.408173Z"
    }
=======
     "end_time": "2017-11-13T04:37:24.766510Z",
     "start_time": "2017-11-13T04:37:24.698870Z"
    },
    "collapsed": true,
    "deletable": true,
    "editable": true
>>>>>>> ecdc3e20c3400c9e4e6fd387fb9174c35cd665db
   },
   "outputs": [
    {
     "ename": "NameError",
     "evalue": "name 'pred_boxes' is not defined",
     "output_type": "error",
     "traceback": [
      "\u001b[0;31m---------------------------------------------------------------------------\u001b[0m",
      "\u001b[0;31mNameError\u001b[0m                                 Traceback (most recent call last)",
      "\u001b[0;32m<ipython-input-3-1cc11774dd14>\u001b[0m in \u001b[0;36m<module>\u001b[0;34m()\u001b[0m\n\u001b[1;32m     73\u001b[0m \u001b[0;34m\u001b[0m\u001b[0m\n\u001b[1;32m     74\u001b[0m \u001b[0;34m\u001b[0m\u001b[0m\n\u001b[0;32m---> 75\u001b[0;31m \u001b[0mpos_inds\u001b[0m\u001b[0;34m,\u001b[0m \u001b[0mneg_inds\u001b[0m \u001b[0;34m=\u001b[0m \u001b[0mfind_match_indices_cpu\u001b[0m\u001b[0;34m(\u001b[0m\u001b[0mpred_boxes\u001b[0m\u001b[0;34m,\u001b[0m \u001b[0mgt\u001b[0m\u001b[0;34m)\u001b[0m\u001b[0;34m\u001b[0m\u001b[0m\n\u001b[0m",
      "\u001b[0;31mNameError\u001b[0m: name 'pred_boxes' is not defined"
     ]
    }
   ],
   "source": [
    "# Let's define some useful functions first.\n",
    "# Work with chainer variables for instahook.\n",
    "#from chainer.functions import max, min, hstack\n",
    "\n",
    "def iou_cpu(boxA, boxB):\n",
    "    \"\"\"\n",
    "    Calculates intersection over union score of two rectangles, none of them rotated.: TESTED\n",
    "    \n",
    "    Args:\n",
    "        boxA: Box1\n",
    "        boxB: Box2\n",
    "        \n",
    "    Returns:\n",
    "        iou (scalar): IOU score of the two boxes\n",
    "    \"\"\"\n",
    "        # determine the (x, y)-coordinates of the intersection rectangle\n",
    "        # Maybe we can accelerate this by writing this as a cython extension\n",
    "        \n",
    "    boxA = center_to_coords(boxA)\n",
    "    boxB = center_to_coords(boxB)\n",
    "    \n",
    "    xA = max(boxA[0], boxB[0])\n",
    "    yA = min(boxA[1], boxB[1])\n",
    "    xB = min(boxA[2], boxB[2])\n",
    "    yB = max(boxA[3], boxB[3])\n",
    "    \n",
    "    # compute the area of intersection rectangle\n",
    "    interArea = (xB - xA) * (yB - yA)\n",
    "    \n",
    "    # compute the area of both the prediction and ground-truth\n",
    "    # rectangles\n",
    "    boxa_area = (boxA[2] - boxA[0]) * (boxA[3] - boxA[1])\n",
    "    boxb_area = (boxB[2] - boxB[0]) * (boxB[3] - boxB[1])\n",
    "    \n",
    "    # compute the intersection over union by taking the intersection\n",
    "    # area and dividing it by the sum of prediction + ground-truth\n",
    "    # areas - the interesection area\n",
    "    #print(interArea, boxa_area, boxb_area)\n",
    "    iou = interArea / (boxa_area + boxb_area - interArea)\n",
    "\n",
    "    # return the intersection over union value\n",
    "    return iou\n",
    "\n",
    "def find_match_indices_cpu(pred_boxes, gt): \n",
    "    \"\"\"\n",
    "    Find matches between ground truth boxes and boxes predicted by network.\n",
    "    \n",
    "    Args:\n",
    "        gt (): Tensor of ground truth boxes\n",
    "        pred_boxes (): Tensor of predicted boxes\n",
    "        \n",
    "    Returns:\n",
    "        pos_inds: Indices of the connectivity matrix where there is a positive match\n",
    "        neg_inds: Indices of the connectivity matrix where there is a negative match\n",
    "    \"\"\"\n",
    "    \n",
    "    pos_iou_score =  np.zeros((gt.shape[0], pred_boxes.shape[0]))\n",
    "    neg_iou_score = np.ones((gt.shape[0], pred_boxes.shape[0]))\n",
    "    \n",
    "    for i in range(gt.shape[0]): \n",
    "        for j in range(pred_boxes.shape[0]): \n",
    "            iou_score  = iou_cpu(gt[i].data, pred_boxes[j].data)\n",
    "            \n",
    "            if iou_score > 0.5:  \n",
    "                pos_iou_score[i,j] = iou_score\n",
    "            else :\n",
    "                neg_iou_score[i,j] = iou_score\n",
    "    \n",
    "    pos_inds  = np.argwhere(pos_iou_score>0.5)\n",
    "    neg_inds = np.argwhere(neg_iou_score<=0.5)\n",
    "    \n",
    "    return  pos_inds, neg_inds\n",
    "\n",
    "\n",
    "pos_inds, neg_inds = find_match_indices_cpu(pred_boxes, gt)"
   ]
  },
  {
   "cell_type": "markdown",
   "metadata": {
    "deletable": true,
    "editable": true
   },
   "source": [
    "Ok let's try some examples now and see if it works. Copy pasting some unit tests from before."
   ]
  },
  {
   "cell_type": "code",
   "execution_count": null,
   "metadata": {
    "ExecuteTime": {
     "end_time": "2017-11-13T04:37:26.020932Z",
     "start_time": "2017-11-13T04:37:25.996607Z"
    },
    "collapsed": true,
    "deletable": true,
    "editable": true
   },
   "outputs": [],
   "source": [
    "# In the default network, these variables will be parameterized\n",
    "gt = chainer.Variable(np.array([[0.5,0.5,3,3,0,0]], dtype=np.float32))\n",
    "pred_boxes = chainer.Variable(np.array([[0,0,4,2,0,0], [2.5,2.5,3,3,0,0], [12.5,2.5,3,3,0,0]], dtype=np.float32))\n",
    "def_boxes = chainer.Variable(np.array([[0,0,4,2,0,0], [2.5,2.5,3,3,0,0], [12.5,2.5,3,3,0,0]], dtype=np.float32))\n",
    "\n",
    "iou_cpu(gt[0].data, pred_boxes[1].data)\n",
    "pos_inds, neg_inds = find_match_indices_cpu(pred_boxes, gt)\n",
    "\n",
    "#pos_inds\n",
    "np.testing.assert_array_equal(pos_inds[0], [0, 0], 'Posititve matching not working')\n",
    "np.testing.assert_array_equal(neg_inds[0], [0, 1], 'Negative matching not working')\n",
    "np.testing.assert_array_equal(neg_inds[1], [0, 2], 'Positive matching not working')\n",
    "\n",
    "#box1 = gt[0]\n",
    "#box2 = pred_boxes[0]"
   ]
  },
  {
   "cell_type": "markdown",
   "metadata": {
    "deletable": true,
    "editable": true
   },
   "source": [
    "Awesome. The tests work and we are able to get the pos_inds just fine."
   ]
  },
  {
   "cell_type": "markdown",
   "metadata": {
    "deletable": true,
    "editable": true
   },
   "source": [
    "## Compute regression loss from indices (brute force for loop cpu)\n",
    "* Run for loop over all the positive indices.\n",
    "* Calculate relative shift vector for ground truth.\n",
    "* Regress for relative shift vector with prediction shift vector."
   ]
  },
  {
   "cell_type": "code",
   "execution_count": null,
   "metadata": {
    "ExecuteTime": {
     "end_time": "2017-11-13T04:37:27.146314Z",
     "start_time": "2017-11-13T04:37:27.143391Z"
    },
    "collapsed": true,
    "deletable": true,
    "editable": true
   },
   "outputs": [],
   "source": [
    "regression_loss = chainer.Variable(np.array([0]))\n",
    "regression_loss += 1"
   ]
  },
  {
   "cell_type": "code",
   "execution_count": null,
   "metadata": {
    "ExecuteTime": {
     "end_time": "2017-11-13T04:37:27.525140Z",
     "start_time": "2017-11-13T04:37:27.497087Z"
    },
    "collapsed": true,
    "deletable": true,
    "editable": true
   },
   "outputs": [],
   "source": [
    "from chainer.functions import log, hstack, huber_loss\n",
    "\n",
    "def normalize_shift(box, def_box):\n",
    "    \"\"\"\n",
    "    Scales down absolute shifts, % for centers, log for height and width.\n",
    "    \n",
    "    Args:\n",
    "        box: 6x1 bounding box coordinates\n",
    "        def_box: 6x1 reference box coordinates\n",
    "        \n",
    "    Returns:\n",
    "        normalized_shift_vector: 4x1 normalized shift vector. Note that we discard the last 2 channels.\n",
    "    \"\"\"\n",
    "    tx = (box[0] - def_box[0])/def_box[2]\n",
    "    ty = (box[1] - def_box[1])/def_box[3]\n",
    "    tw = log(box[2]/def_box[2])\n",
    "    th = log(box[3]/def_box[3])\n",
    "    \n",
    "    return hstack([tx, ty, tw, th])\n",
    "    \n",
    "\n",
    "def regression_loss(pred_box, gt_box, def_box):\n",
    "    \"\"\"\n",
    "    Calculates regression loss between two boxes w.r.t a reference default box.\n",
    "    \n",
    "    Args:\n",
    "        pred_box: 6x1 bounding box predicted by the network\n",
    "        gt_box: 6x1 bounding box overlapping with pred_box\n",
    "        def_box: 6x1 bounding box with same index as pred_box\n",
    "        \n",
    "    Returns:\n",
    "        reg_loss: Scalar of huber loss between two vectors\n",
    "    \"\"\"\n",
    "    pred_shift = normalize_shift(pred_box, def_box).reshape((1, 4))\n",
    "    gt_shift = normalize_shift(gt_box, def_box).reshape((1, 4))\n",
    "    \n",
    "    return huber_loss(pred_shift, gt_shift, delta=0.5)"
   ]
  },
  {
   "cell_type": "markdown",
   "metadata": {
    "deletable": true,
    "editable": true
   },
   "source": [
    "So let's try it for the boxes above and see if it actually works."
   ]
  },
  {
   "cell_type": "code",
   "execution_count": null,
   "metadata": {
    "ExecuteTime": {
     "end_time": "2017-11-13T04:37:28.244331Z",
     "start_time": "2017-11-13T04:37:28.238064Z"
    },
<<<<<<< HEAD
    "collapsed": true
=======
    "collapsed": false,
    "deletable": true,
    "editable": true
>>>>>>> ecdc3e20c3400c9e4e6fd387fb9174c35cd665db
   },
   "outputs": [],
   "source": [
    "regression_loss(pred_boxes[0], gt[0], def_boxes[0])"
   ]
  },
  {
   "cell_type": "markdown",
   "metadata": {
    "deletable": true,
    "editable": true
   },
   "source": [
    "Awesome. No bugs. Still have to check it for logical consistency though. Moving on to implement classification loss"
   ]
  },
  {
   "cell_type": "markdown",
   "metadata": {
    "deletable": true,
    "editable": true
   },
   "source": [
    "## Compute classification loss from indices (brute force for loop cpu). All DONE!"
   ]
  },
  {
   "cell_type": "code",
<<<<<<< HEAD
   "execution_count": null,
=======
   "execution_count": 12,
>>>>>>> ecdc3e20c3400c9e4e6fd387fb9174c35cd665db
   "metadata": {
    "ExecuteTime": {
     "end_time": "2017-11-13T04:37:30.092629Z",
     "start_time": "2017-11-13T04:37:30.068310Z"
    },
<<<<<<< HEAD
    "collapsed": true
   },
   "outputs": [],
=======
    "collapsed": false,
    "deletable": true,
    "editable": true
   },
   "outputs": [
    {
     "data": {
      "text/plain": [
       "variable([[ 0.69314718]])"
      ]
     },
     "execution_count": 12,
     "metadata": {},
     "output_type": "execute_result"
    }
   ],
>>>>>>> ecdc3e20c3400c9e4e6fd387fb9174c35cd665db
   "source": [
    "from chainer.functions import softmax, log, matmul\n",
    "\n",
    "def soft_max(x): \n",
    "    \n",
    "    x = x.reshape([1,2])\n",
    "    soft_score  = F.softmax(x)\n",
    "    #soft_score =soft_score.reshape([2])\n",
    "    return soft_score\n",
    "\n",
    "def classification_loss(pred_box, gt_box, switch):\n",
    "    \"\"\"\n",
    "    Calculates classification loss between two predicted and true box.\n",
    "    \n",
    "    Args:\n",
    "        pred_box: 6x1 box, last two are classification scores\n",
    "        gt_box: 6x1 box, last two are classification scores\n",
    "        switch: Positive or negative indicator\n",
    "        \n",
    "    Returns:\n",
    "        loss: Scalar positive or negative cross entropy loss. Only one is active at a time.\n",
    "    \"\"\"\n",
    "    pred_prob = soft_max(pred_box[4:6])\n",
    "    gt_prob =soft_max(gt_box[4:6])\n",
    "    \n",
    "    pos_loss = -matmul(gt_prob, log(pred_prob).transpose())\n",
    "    neg_loss = -matmul(gt_prob, log(1.0 - pred_prob).transpose())\n",
    "    \n",
    "    loss = switch * pos_loss + (1 - switch) * neg_loss\n",
    "    return loss\n",
    "    \n",
    "classification_loss(pred_boxes[0], gt[0], 1.0)    \n",
    "\n"
   ]
  },
  {
   "cell_type": "code",
<<<<<<< HEAD
   "execution_count": null,
   "metadata": {
    "ExecuteTime": {
     "end_time": "2017-11-13T04:37:30.821813Z",
     "start_time": "2017-11-13T04:37:30.808646Z"
    },
    "collapsed": true
   },
   "outputs": [],
   "source": [
    "pred_box= pred_boxes[0]\n",
    "gt_box = gt[0]\n",
    "\n",
    "c1_scores = pred_box[4:6]\n",
    "c1_scores = c1_scores.reshape([1,2])\n",
    "\n",
    "c2_scores = gt_box[4:6]\n",
    "c2_scores = c2_scores.reshape([1,2])\n",
    "\n",
    "c1_prob = F.softmax(c1_scores)\n",
    "c2_prob =F.softmax(c2_scores)\n",
    "print(c1_prob, c2_prob)\n",
    "\n"
   ]
  },
  {
   "cell_type": "code",
   "execution_count": null,
   "metadata": {
    "ExecuteTime": {
     "end_time": "2017-11-13T04:37:31.163459Z",
     "start_time": "2017-11-13T04:37:31.158752Z"
    },
    "collapsed": true
   },
   "outputs": [],
   "source": [
    "c1_prob-1"
   ]
  },
  {
   "cell_type": "code",
   "execution_count": null,
   "metadata": {
    "ExecuteTime": {
     "end_time": "2017-11-13T04:37:31.581636Z",
     "start_time": "2017-11-13T04:37:31.574046Z"
    },
    "collapsed": true
   },
   "outputs": [],
   "source": [
    "from chainer.functions import matmul\n",
    "matmul(c1_prob, c2_prob.transpose())"
   ]
  },
  {
   "cell_type": "code",
=======
>>>>>>> ecdc3e20c3400c9e4e6fd387fb9174c35cd665db
   "execution_count": null,
   "metadata": {
    "ExecuteTime": {
     "end_time": "2017-11-12T17:47:45.785641Z",
     "start_time": "2017-11-12T17:47:45.780956Z"
    },
<<<<<<< HEAD
    "collapsed": true
=======
    "collapsed": true,
    "deletable": true,
    "editable": true
>>>>>>> ecdc3e20c3400c9e4e6fd387fb9174c35cd665db
   },
   "outputs": [],
   "source": []
  },
  {
   "cell_type": "code",
   "execution_count": null,
   "metadata": {
    "collapsed": true,
    "deletable": true,
    "editable": true
   },
   "outputs": [],
   "source": []
  }
 ],
 "metadata": {
  "kernelspec": {
   "display_name": "Python 2",
   "language": "python",
   "name": "python2"
  },
  "language_info": {
   "codemirror_mode": {
    "name": "ipython",
    "version": 2
   },
   "file_extension": ".py",
   "mimetype": "text/x-python",
   "name": "python",
   "nbconvert_exporter": "python",
   "pygments_lexer": "ipython2",
   "version": "2.7.12"
  },
  "toc": {
   "colors": {
    "hover_highlight": "#DAA520",
    "navigate_num": "#000000",
    "navigate_text": "#333333",
    "running_highlight": "#FF0000",
    "selected_highlight": "#FFD700",
    "sidebar_border": "#EEEEEE",
    "wrapper_background": "#FFFFFF"
   },
   "moveMenuLeft": true,
   "navigate_menu": false,
   "number_sections": true,
   "sideBar": true,
   "threshold": 4,
   "toc_cell": false,
   "toc_section_display": "block",
   "toc_window_display": false,
   "widenNotebook": false
  },
  "varInspector": {
   "cols": {
    "lenName": 16,
    "lenType": 16,
    "lenVar": 40
   },
   "kernels_config": {
    "python": {
     "delete_cmd_postfix": "",
     "delete_cmd_prefix": "del ",
     "library": "var_list.py",
     "varRefreshCmd": "print(var_dic_list())"
    },
    "r": {
     "delete_cmd_postfix": ") ",
     "delete_cmd_prefix": "rm(",
     "library": "var_list.r",
     "varRefreshCmd": "cat(var_dic_list()) "
    }
   },
   "types_to_exclude": [
    "module",
    "function",
    "builtin_function_or_method",
    "instance",
    "_Feature"
   ],
   "window_display": false
  }
 },
 "nbformat": 4,
 "nbformat_minor": 2
}
