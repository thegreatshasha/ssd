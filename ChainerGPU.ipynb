{
 "cells": [
  {
   "cell_type": "markdown",
   "metadata": {
    "toc": "true"
   },
   "source": [
    "# Table of Contents\n",
    " <p><div class=\"lev1 toc-item\"><a href=\"#Model-with-gpu\" data-toc-modified-id=\"Model-with-gpu-1\"><span class=\"toc-item-num\">1&nbsp;&nbsp;</span>Model with gpu</a></div><div class=\"lev1 toc-item\"><a href=\"#Model-Without-gpu\" data-toc-modified-id=\"Model-Without-gpu-2\"><span class=\"toc-item-num\">2&nbsp;&nbsp;</span>Model Without gpu</a></div>"
   ]
  },
  {
   "cell_type": "markdown",
   "metadata": {},
   "source": [
    "## Model with gpu"
   ]
  },
  {
   "cell_type": "code",
   "execution_count": 8,
   "metadata": {
    "ExecuteTime": {
     "end_time": "2017-11-26T08:27:26.608588Z",
     "start_time": "2017-11-26T08:27:26.581494Z"
    },
    "collapsed": true
   },
   "outputs": [],
   "source": [
    "import chainer\n",
    "from chainer import Chain\n",
    "from chainer import optimizers\n",
    "import chainer.links as L\n",
    "import chainer.functions as F\n",
    "from chainer import datasets, iterators, training\n",
    "from chainer.training import extensions\n",
    "import numpy as np\n",
    "\n",
    "class MLP(Chain):\n",
    "       def __init__(self, n_units, n_out):\n",
    "           super(MLP, self).__init__()\n",
    "           with self.init_scope():\n",
    "               self.l1 = L.Linear(None, n_units)\n",
    "               self.l2 = L.Linear(None, n_units)\n",
    "               self.l3 = L.Linear(None, n_out)\n",
    "\n",
    "       def __call__(self, x):\n",
    "           h1 = F.relu(self.l1(x))\n",
    "           h2 = F.relu(self.l2(h1))\n",
    "           y = self.l3(h2)\n",
    "           return y\n",
    "\n",
    "model = L.Classifier(MLP(1000, 10)).to_gpu(0)  # to_gpu returns itself\n",
    "optimizer = optimizers.SGD()\n",
    "optimizer.setup(model)"
   ]
  },
  {
   "cell_type": "code",
   "execution_count": 15,
   "metadata": {
    "ExecuteTime": {
     "end_time": "2017-11-26T08:29:42.003758Z",
     "start_time": "2017-11-26T08:29:40.935021Z"
    },
    "collapsed": true
   },
   "outputs": [],
   "source": [
    "data = np.random.rand(70000, 784).astype(np.float32)\n",
    "target = np.random.randint(10, size=70000).astype(np.int32)\n",
    "train = datasets.TupleDataset(data[:60000], target[:60000])\n",
    "test = datasets.TupleDataset(data[60000:], target[60000:])\n",
    "train_iter = iterators.SerialIterator(train, batch_size=100)\n",
    "test_iter = iterators.SerialIterator(test, batch_size=100, repeat=False, shuffle=False)"
   ]
  },
  {
   "cell_type": "code",
   "execution_count": null,
   "metadata": {
    "ExecuteTime": {
     "end_time": "2017-11-26T08:29:42.018319Z",
     "start_time": "2017-11-26T08:29:41.366Z"
    }
   },
   "outputs": [],
   "source": [
    "# model.to_gpu()\n",
    "# batchsize = 100\n",
    "# datasize = len(x_train)\n",
    "# for epoch in range(20):\n",
    "#     print('epoch %d' % epoch)\n",
    "#     indexes = np.random.permutation(datasize)\n",
    "#     for i in range(0, datasize, batchsize):\n",
    "#         x = Variable(cuda.to_gpu(x_train[indexes[i : i + batchsize]]))\n",
    "# #         t = Variable(cuda.to_gpu(y_train[indexes[i : i + batchsize]]))\n",
    "# #         optimizer.update(model, x, t)\n",
    "\n",
    "\n"
   ]
  },
  {
   "cell_type": "code",
   "execution_count": 18,
   "metadata": {
    "ExecuteTime": {
     "end_time": "2017-11-26T08:30:02.288548Z",
     "start_time": "2017-11-26T08:30:02.277375Z"
    }
   },
   "outputs": [
    {
     "data": {
      "text/plain": [
       "<chainer.datasets.tuple_dataset.TupleDataset at 0x7f7610550048>"
      ]
     },
     "execution_count": 18,
     "metadata": {},
     "output_type": "execute_result"
    }
   ],
   "source": [
    "x_train"
   ]
  },
  {
   "cell_type": "code",
   "execution_count": 3,
   "metadata": {
    "ExecuteTime": {
     "end_time": "2017-11-26T06:39:48.667668Z",
     "start_time": "2017-11-26T06:39:48.654232Z"
    },
    "collapsed": true
   },
   "outputs": [],
   "source": [
    "updater = training.StandardUpdater(train_iter, optimizer, device=0)\n",
    "trainer = training.Trainer(updater, (30, 'epoch'), out='result')\n",
    "trainer.extend(extensions.LogReport())\n",
    "trainer.extend(extensions.snapshot(filename='snapshot_epoch-{.updater.epoch}'))\n",
    "trainer.extend(extensions.snapshot_object(model.predictor, filename='model_epoch-{.updater.epoch}'))\n",
    "trainer.extend(extensions.Evaluator(test_iter, model, device=0))\n",
    "trainer.extend(extensions.PrintReport(['epoch', 'main/loss', 'main/accuracy', 'validation/main/loss', 'validation/main/accuracy', 'elapsed_time']))\n",
    "trainer.extend(extensions.PlotReport(['main/loss', 'validation/main/loss'], x_key='epoch', file_name='loss.png'))\n",
    "trainer.extend(extensions.PlotReport(['main/accuracy', 'validation/main/accuracy'], x_key='epoch', file_name='accuracy.png'))\n",
    "trainer.extend(extensions.dump_graph('main/loss'))"
   ]
  },
  {
   "cell_type": "code",
   "execution_count": 4,
   "metadata": {
    "ExecuteTime": {
     "end_time": "2017-11-26T06:41:34.662673Z",
     "start_time": "2017-11-26T06:39:48.669638Z"
    },
    "scrolled": true
   },
   "outputs": [
    {
     "name": "stdout",
     "output_type": "stream",
     "text": [
      "epoch       main/loss   main/accuracy  validation/main/loss  validation/main/accuracy  elapsed_time\n",
      "\u001b[J1           2.31265     0.09955        2.31211               0.1006                    3.31361       \n",
      "\u001b[J2           2.30468     0.105817       2.30965               0.1016                    6.61322       \n",
      "\u001b[J3           2.30014     0.112767       2.30857               0.0993                    10.1756       \n",
      "\u001b[J4           2.29644     0.119267       2.30781               0.1009                    13.6854       \n",
      "\u001b[J5           2.29302     0.1241         2.31043               0.0999                    16.989        \n",
      "\u001b[J6           2.29003     0.129417       2.31072               0.1021                    20.2314       \n",
      "\u001b[J7           2.28713     0.132033       2.31092               0.1021                    23.5109       \n",
      "\u001b[J8           2.28413     0.137883       2.31151               0.1016                    26.7419       \n",
      "\u001b[J9           2.28139     0.1412         2.31065               0.1003                    30.1066       \n",
      "\u001b[J10          2.27807     0.14615        2.31175               0.1009                    33.5108       \n",
      "\u001b[J11          2.27539     0.14765        2.31604               0.1021                    36.734        \n",
      "\u001b[J12          2.2719      0.151233       2.31433               0.1007                    41.8963       \n",
      "\u001b[J13          2.26915     0.15245        2.31456               0.1007                    45.423        \n",
      "\u001b[J14          2.26574     0.157333       2.31668               0.0986                    48.9237       \n",
      "\u001b[J15          2.26264     0.160633       2.31861               0.0994                    52.4566       \n",
      "\u001b[J16          2.25926     0.1628         2.32144               0.101                     55.8989       \n",
      "\u001b[J17          2.25569     0.165517       2.32262               0.0998                    59.329        \n",
      "\u001b[J18          2.2517      0.168033       2.32279               0.1014                    62.9885       \n",
      "\u001b[J19          2.24825     0.17155        2.32476               0.0991                    66.4265       \n",
      "\u001b[J20          2.2446      0.175817       2.32695               0.1046                    70.0321       \n",
      "\u001b[J21          2.24076     0.17785        2.32712               0.1005                    73.4678       \n",
      "\u001b[J22          2.23664     0.179983       2.33054               0.1011                    77.4339       \n",
      "\u001b[J23          2.23293     0.18085        2.33253               0.1058                    80.7595       \n",
      "\u001b[J24          2.22866     0.18655        2.34091               0.1037                    84.0625       \n",
      "\u001b[J25          2.22469     0.188467       2.33846               0.1026                    87.3112       \n",
      "\u001b[J26          2.22027     0.192          2.33697               0.1008                    91.5881       \n",
      "\u001b[J27          2.21602     0.192517       2.34144               0.1022                    94.9417       \n",
      "\u001b[J28          2.21084     0.194267       2.34417               0.1014                    98.1938       \n",
      "\u001b[J29          2.20605     0.198933       2.34371               0.1018                    101.584       \n",
      "\u001b[J30          2.20134     0.202134       2.34909               0.1024                    104.947       \n"
     ]
    }
   ],
   "source": [
    "trainer.run()"
   ]
  },
  {
   "cell_type": "markdown",
   "metadata": {},
   "source": [
    "## Model Without gpu"
   ]
  },
  {
   "cell_type": "code",
   "execution_count": 5,
   "metadata": {
    "ExecuteTime": {
     "end_time": "2017-11-26T06:41:34.687665Z",
     "start_time": "2017-11-26T06:41:34.664339Z"
    },
    "collapsed": true
   },
   "outputs": [],
   "source": [
    "import chainer\n",
    "from chainer import Chain\n",
    "from chainer import optimizers\n",
    "import chainer.links as L\n",
    "import chainer.functions as F\n",
    "from chainer import datasets, iterators, training\n",
    "from chainer.training import extensions\n",
    "import numpy as np\n",
    "\n",
    "class MLP(Chain):\n",
    "       def __init__(self, n_units, n_out):\n",
    "           super(MLP, self).__init__()\n",
    "           with self.init_scope():\n",
    "               self.l1 = L.Linear(None, n_units)\n",
    "               self.l2 = L.Linear(None, n_units)\n",
    "               self.l3 = L.Linear(None, n_out)\n",
    "\n",
    "       def __call__(self, x):\n",
    "           h1 = F.relu(self.l1(x))\n",
    "           h2 = F.relu(self.l2(h1))\n",
    "           y = self.l3(h2)\n",
    "           return y\n",
    "\n",
    "model = L.Classifier(MLP(1000, 10))  # to_gpu returns itself\n",
    "optimizer = optimizers.SGD()\n",
    "optimizer.setup(model)"
   ]
  },
  {
   "cell_type": "code",
   "execution_count": 6,
   "metadata": {
    "ExecuteTime": {
     "end_time": "2017-11-26T06:41:35.328619Z",
     "start_time": "2017-11-26T06:41:34.689735Z"
    },
    "collapsed": true
   },
   "outputs": [],
   "source": [
    "data = np.random.rand(70000, 784).astype(np.float32)\n",
    "target = np.random.randint(10, size=70000).astype(np.int32)\n",
    "train = datasets.TupleDataset(data[:60000], target[:60000])\n",
    "test = datasets.TupleDataset(data[60000:], target[60000:])\n",
    "train_iter = iterators.SerialIterator(train, batch_size=100)\n",
    "test_iter = iterators.SerialIterator(test, batch_size=100, repeat=False, shuffle=False)"
   ]
  },
  {
   "cell_type": "code",
   "execution_count": 7,
   "metadata": {
    "ExecuteTime": {
     "end_time": "2017-11-26T06:41:58.060754Z",
     "start_time": "2017-11-26T06:41:35.330347Z"
    }
   },
   "outputs": [
    {
     "name": "stdout",
     "output_type": "stream",
     "text": [
      "epoch       main/loss   main/accuracy  validation/main/loss  validation/main/accuracy  elapsed_time\n",
      "\u001b[J1           2.31081     0.0991833      2.31142               0.0977                    10.0181       \n",
      "\u001b[J2           2.30428     0.107733       2.30804               0.0949                    21.696        \n"
     ]
    }
   ],
   "source": [
    "updater = training.StandardUpdater(train_iter, optimizer)\n",
    "trainer = training.Trainer(updater, (2, 'epoch'), out='result')\n",
    "trainer.extend(extensions.LogReport())\n",
    "trainer.extend(extensions.snapshot(filename='snapshot_epoch-{.updater.epoch}'))\n",
    "trainer.extend(extensions.snapshot_object(model.predictor, filename='model_epoch-{.updater.epoch}'))\n",
    "trainer.extend(extensions.Evaluator(test_iter, model))\n",
    "trainer.extend(extensions.PrintReport(['epoch', 'main/loss', 'main/accuracy', 'validation/main/loss', 'validation/main/accuracy', 'elapsed_time']))\n",
    "trainer.extend(extensions.PlotReport(['main/loss', 'validation/main/loss'], x_key='epoch', file_name='loss.png'))\n",
    "trainer.extend(extensions.PlotReport(['main/accuracy', 'validation/main/accuracy'], x_key='epoch', file_name='accuracy.png'))\n",
    "trainer.extend(extensions.dump_graph('main/loss'))\n",
    "trainer.run()"
   ]
  },
  {
   "cell_type": "code",
   "execution_count": null,
   "metadata": {
    "collapsed": true
   },
   "outputs": [],
   "source": []
  }
 ],
 "metadata": {
  "kernelspec": {
   "display_name": "Python 3",
   "language": "python",
   "name": "python3"
  },
  "language_info": {
   "codemirror_mode": {
    "name": "ipython",
    "version": 3
   },
   "file_extension": ".py",
   "mimetype": "text/x-python",
   "name": "python",
   "nbconvert_exporter": "python",
   "pygments_lexer": "ipython3",
   "version": "3.5.2"
  },
  "toc": {
   "colors": {
    "hover_highlight": "#DAA520",
    "navigate_num": "#000000",
    "navigate_text": "#333333",
    "running_highlight": "#FF0000",
    "selected_highlight": "#FFD700",
    "sidebar_border": "#EEEEEE",
    "wrapper_background": "#FFFFFF"
   },
   "moveMenuLeft": true,
   "nav_menu": {
    "height": "48px",
    "width": "252px"
   },
   "navigate_menu": true,
   "number_sections": true,
   "sideBar": true,
   "threshold": 4,
   "toc_cell": true,
   "toc_section_display": "block",
   "toc_window_display": true,
   "widenNotebook": false
  },
  "varInspector": {
   "cols": {
    "lenName": 16,
    "lenType": 16,
    "lenVar": 40
   },
   "kernels_config": {
    "python": {
     "delete_cmd_postfix": "",
     "delete_cmd_prefix": "del ",
     "library": "var_list.py",
     "varRefreshCmd": "print(var_dic_list())"
    },
    "r": {
     "delete_cmd_postfix": ") ",
     "delete_cmd_prefix": "rm(",
     "library": "var_list.r",
     "varRefreshCmd": "cat(var_dic_list()) "
    }
   },
   "types_to_exclude": [
    "module",
    "function",
    "builtin_function_or_method",
    "instance",
    "_Feature"
   ],
   "window_display": false
  }
 },
 "nbformat": 4,
 "nbformat_minor": 2
}
