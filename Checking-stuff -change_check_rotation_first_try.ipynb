{
 "cells": [
  {
   "cell_type": "markdown",
   "metadata": {
    "toc": "true"
   },
   "source": [
    "# Table of Contents\n",
    " <p><div class=\"lev1 toc-item\"><a href=\"#Checking-regression\" data-toc-modified-id=\"Checking-regression-1\"><span class=\"toc-item-num\">1&nbsp;&nbsp;</span>Checking regression</a></div><div class=\"lev2 toc-item\"><a href=\"#Checking-functions\" data-toc-modified-id=\"Checking-functions-11\"><span class=\"toc-item-num\">1.1&nbsp;&nbsp;</span>Checking functions</a></div><div class=\"lev3 toc-item\"><a href=\"#Generate-gt-boxes\" data-toc-modified-id=\"Generate-gt-boxes-111\"><span class=\"toc-item-num\">1.1.1&nbsp;&nbsp;</span>Generate gt boxes</a></div><div class=\"lev3 toc-item\"><a href=\"#Generate-test-dataset\" data-toc-modified-id=\"Generate-test-dataset-112\"><span class=\"toc-item-num\">1.1.2&nbsp;&nbsp;</span>Generate test dataset</a></div><div class=\"lev3 toc-item\"><a href=\"#Conv-net-definitions\" data-toc-modified-id=\"Conv-net-definitions-113\"><span class=\"toc-item-num\">1.1.3&nbsp;&nbsp;</span>Conv net definitions</a></div><div class=\"lev3 toc-item\"><a href=\"#Generate-Default-boxes\" data-toc-modified-id=\"Generate-Default-boxes-114\"><span class=\"toc-item-num\">1.1.4&nbsp;&nbsp;</span>Generate Default boxes</a></div><div class=\"lev3 toc-item\"><a href=\"#Center-to-coords\" data-toc-modified-id=\"Center-to-coords-115\"><span class=\"toc-item-num\">1.1.5&nbsp;&nbsp;</span>Center to coords</a></div><div class=\"lev3 toc-item\"><a href=\"#Draw-boxes\" data-toc-modified-id=\"Draw-boxes-116\"><span class=\"toc-item-num\">1.1.6&nbsp;&nbsp;</span>Draw boxes</a></div><div class=\"lev3 toc-item\"><a href=\"#Get-prediction-boxes\" data-toc-modified-id=\"Get-prediction-boxes-117\"><span class=\"toc-item-num\">1.1.7&nbsp;&nbsp;</span>Get prediction boxes</a></div><div class=\"lev3 toc-item\"><a href=\"#Draw-predicted-boxes\" data-toc-modified-id=\"Draw-predicted-boxes-118\"><span class=\"toc-item-num\">1.1.8&nbsp;&nbsp;</span>Draw predicted boxes</a></div><div class=\"lev3 toc-item\"><a href=\"#Normalize-shifts\" data-toc-modified-id=\"Normalize-shifts-119\"><span class=\"toc-item-num\">1.1.9&nbsp;&nbsp;</span>Normalize shifts</a></div><div class=\"lev3 toc-item\"><a href=\"#Regression-loss\" data-toc-modified-id=\"Regression-loss-1110\"><span class=\"toc-item-num\">1.1.10&nbsp;&nbsp;</span>Regression loss</a></div><div class=\"lev3 toc-item\"><a href=\"#Get-aspect-ratio\" data-toc-modified-id=\"Get-aspect-ratio-1111\"><span class=\"toc-item-num\">1.1.11&nbsp;&nbsp;</span>Get aspect ratio</a></div><div class=\"lev3 toc-item\"><a href=\"#Do-the-matching\" data-toc-modified-id=\"Do-the-matching-1112\"><span class=\"toc-item-num\">1.1.12&nbsp;&nbsp;</span>Do the matching</a></div><div class=\"lev4 toc-item\"><a href=\"#IOU-cpu\" data-toc-modified-id=\"IOU-cpu-11121\"><span class=\"toc-item-num\">1.1.12.1&nbsp;&nbsp;</span>IOU cpu</a></div><div class=\"lev4 toc-item\"><a href=\"#Find-matching-indices\" data-toc-modified-id=\"Find-matching-indices-11122\"><span class=\"toc-item-num\">1.1.12.2&nbsp;&nbsp;</span>Find matching indices</a></div><div class=\"lev3 toc-item\"><a href=\"#Eveyrthing-connected\" data-toc-modified-id=\"Eveyrthing-connected-1113\"><span class=\"toc-item-num\">1.1.13&nbsp;&nbsp;</span>Eveyrthing connected</a></div><div class=\"lev2 toc-item\"><a href=\"#Experiments\" data-toc-modified-id=\"Experiments-12\"><span class=\"toc-item-num\">1.2&nbsp;&nbsp;</span>Experiments</a></div>"
   ]
  },
  {
   "cell_type": "markdown",
   "metadata": {},
   "source": [
    "# Checking regression "
   ]
  },
  {
   "cell_type": "markdown",
   "metadata": {},
   "source": [
    "The strategy will be to check regression in x and y and see how that works out when you combine it. Clearly something must be amiss. So the list of things to do is the following - \n",
    "\n",
    "\n",
    "1) check regression in x \n",
    "\n",
    "2) check regression in y \n",
    "\n",
    "3) check regression when you combine both\n",
    "\n",
    "4) For all of this you need to check each function to make sure that it is doing what its supposed to do\n",
    "\n",
    "\n"
   ]
  },
  {
   "cell_type": "markdown",
   "metadata": {},
   "source": [
    "## Checking functions "
   ]
  },
  {
   "cell_type": "markdown",
   "metadata": {},
   "source": [
    "### Generate gt boxes\n",
    "\n",
    "First attempt chose a static box to see what is going on,  you will replicate the code for random boxes"
   ]
  },
  {
   "cell_type": "code",
   "execution_count": 78,
   "metadata": {
    "ExecuteTime": {
     "end_time": "2017-11-22T07:35:27.083432Z",
     "start_time": "2017-11-22T07:35:26.935409Z"
    }
   },
   "outputs": [
    {
     "data": {
      "application/javascript": [
       "/* Put everything inside the global mpl namespace */\n",
       "window.mpl = {};\n",
       "\n",
       "\n",
       "mpl.get_websocket_type = function() {\n",
       "    if (typeof(WebSocket) !== 'undefined') {\n",
       "        return WebSocket;\n",
       "    } else if (typeof(MozWebSocket) !== 'undefined') {\n",
       "        return MozWebSocket;\n",
       "    } else {\n",
       "        alert('Your browser does not have WebSocket support.' +\n",
       "              'Please try Chrome, Safari or Firefox ≥ 6. ' +\n",
       "              'Firefox 4 and 5 are also supported but you ' +\n",
       "              'have to enable WebSockets in about:config.');\n",
       "    };\n",
       "}\n",
       "\n",
       "mpl.figure = function(figure_id, websocket, ondownload, parent_element) {\n",
       "    this.id = figure_id;\n",
       "\n",
       "    this.ws = websocket;\n",
       "\n",
       "    this.supports_binary = (this.ws.binaryType != undefined);\n",
       "\n",
       "    if (!this.supports_binary) {\n",
       "        var warnings = document.getElementById(\"mpl-warnings\");\n",
       "        if (warnings) {\n",
       "            warnings.style.display = 'block';\n",
       "            warnings.textContent = (\n",
       "                \"This browser does not support binary websocket messages. \" +\n",
       "                    \"Performance may be slow.\");\n",
       "        }\n",
       "    }\n",
       "\n",
       "    this.imageObj = new Image();\n",
       "\n",
       "    this.context = undefined;\n",
       "    this.message = undefined;\n",
       "    this.canvas = undefined;\n",
       "    this.rubberband_canvas = undefined;\n",
       "    this.rubberband_context = undefined;\n",
       "    this.format_dropdown = undefined;\n",
       "\n",
       "    this.image_mode = 'full';\n",
       "\n",
       "    this.root = $('<div/>');\n",
       "    this._root_extra_style(this.root)\n",
       "    this.root.attr('style', 'display: inline-block');\n",
       "\n",
       "    $(parent_element).append(this.root);\n",
       "\n",
       "    this._init_header(this);\n",
       "    this._init_canvas(this);\n",
       "    this._init_toolbar(this);\n",
       "\n",
       "    var fig = this;\n",
       "\n",
       "    this.waiting = false;\n",
       "\n",
       "    this.ws.onopen =  function () {\n",
       "            fig.send_message(\"supports_binary\", {value: fig.supports_binary});\n",
       "            fig.send_message(\"send_image_mode\", {});\n",
       "            if (mpl.ratio != 1) {\n",
       "                fig.send_message(\"set_dpi_ratio\", {'dpi_ratio': mpl.ratio});\n",
       "            }\n",
       "            fig.send_message(\"refresh\", {});\n",
       "        }\n",
       "\n",
       "    this.imageObj.onload = function() {\n",
       "            if (fig.image_mode == 'full') {\n",
       "                // Full images could contain transparency (where diff images\n",
       "                // almost always do), so we need to clear the canvas so that\n",
       "                // there is no ghosting.\n",
       "                fig.context.clearRect(0, 0, fig.canvas.width, fig.canvas.height);\n",
       "            }\n",
       "            fig.context.drawImage(fig.imageObj, 0, 0);\n",
       "        };\n",
       "\n",
       "    this.imageObj.onunload = function() {\n",
       "        fig.ws.close();\n",
       "    }\n",
       "\n",
       "    this.ws.onmessage = this._make_on_message_function(this);\n",
       "\n",
       "    this.ondownload = ondownload;\n",
       "}\n",
       "\n",
       "mpl.figure.prototype._init_header = function() {\n",
       "    var titlebar = $(\n",
       "        '<div class=\"ui-dialog-titlebar ui-widget-header ui-corner-all ' +\n",
       "        'ui-helper-clearfix\"/>');\n",
       "    var titletext = $(\n",
       "        '<div class=\"ui-dialog-title\" style=\"width: 100%; ' +\n",
       "        'text-align: center; padding: 3px;\"/>');\n",
       "    titlebar.append(titletext)\n",
       "    this.root.append(titlebar);\n",
       "    this.header = titletext[0];\n",
       "}\n",
       "\n",
       "\n",
       "\n",
       "mpl.figure.prototype._canvas_extra_style = function(canvas_div) {\n",
       "\n",
       "}\n",
       "\n",
       "\n",
       "mpl.figure.prototype._root_extra_style = function(canvas_div) {\n",
       "\n",
       "}\n",
       "\n",
       "mpl.figure.prototype._init_canvas = function() {\n",
       "    var fig = this;\n",
       "\n",
       "    var canvas_div = $('<div/>');\n",
       "\n",
       "    canvas_div.attr('style', 'position: relative; clear: both; outline: 0');\n",
       "\n",
       "    function canvas_keyboard_event(event) {\n",
       "        return fig.key_event(event, event['data']);\n",
       "    }\n",
       "\n",
       "    canvas_div.keydown('key_press', canvas_keyboard_event);\n",
       "    canvas_div.keyup('key_release', canvas_keyboard_event);\n",
       "    this.canvas_div = canvas_div\n",
       "    this._canvas_extra_style(canvas_div)\n",
       "    this.root.append(canvas_div);\n",
       "\n",
       "    var canvas = $('<canvas/>');\n",
       "    canvas.addClass('mpl-canvas');\n",
       "    canvas.attr('style', \"left: 0; top: 0; z-index: 0; outline: 0\")\n",
       "\n",
       "    this.canvas = canvas[0];\n",
       "    this.context = canvas[0].getContext(\"2d\");\n",
       "\n",
       "    var backingStore = this.context.backingStorePixelRatio ||\n",
       "\tthis.context.webkitBackingStorePixelRatio ||\n",
       "\tthis.context.mozBackingStorePixelRatio ||\n",
       "\tthis.context.msBackingStorePixelRatio ||\n",
       "\tthis.context.oBackingStorePixelRatio ||\n",
       "\tthis.context.backingStorePixelRatio || 1;\n",
       "\n",
       "    mpl.ratio = (window.devicePixelRatio || 1) / backingStore;\n",
       "\n",
       "    var rubberband = $('<canvas/>');\n",
       "    rubberband.attr('style', \"position: absolute; left: 0; top: 0; z-index: 1;\")\n",
       "\n",
       "    var pass_mouse_events = true;\n",
       "\n",
       "    canvas_div.resizable({\n",
       "        start: function(event, ui) {\n",
       "            pass_mouse_events = false;\n",
       "        },\n",
       "        resize: function(event, ui) {\n",
       "            fig.request_resize(ui.size.width, ui.size.height);\n",
       "        },\n",
       "        stop: function(event, ui) {\n",
       "            pass_mouse_events = true;\n",
       "            fig.request_resize(ui.size.width, ui.size.height);\n",
       "        },\n",
       "    });\n",
       "\n",
       "    function mouse_event_fn(event) {\n",
       "        if (pass_mouse_events)\n",
       "            return fig.mouse_event(event, event['data']);\n",
       "    }\n",
       "\n",
       "    rubberband.mousedown('button_press', mouse_event_fn);\n",
       "    rubberband.mouseup('button_release', mouse_event_fn);\n",
       "    // Throttle sequential mouse events to 1 every 20ms.\n",
       "    rubberband.mousemove('motion_notify', mouse_event_fn);\n",
       "\n",
       "    rubberband.mouseenter('figure_enter', mouse_event_fn);\n",
       "    rubberband.mouseleave('figure_leave', mouse_event_fn);\n",
       "\n",
       "    canvas_div.on(\"wheel\", function (event) {\n",
       "        event = event.originalEvent;\n",
       "        event['data'] = 'scroll'\n",
       "        if (event.deltaY < 0) {\n",
       "            event.step = 1;\n",
       "        } else {\n",
       "            event.step = -1;\n",
       "        }\n",
       "        mouse_event_fn(event);\n",
       "    });\n",
       "\n",
       "    canvas_div.append(canvas);\n",
       "    canvas_div.append(rubberband);\n",
       "\n",
       "    this.rubberband = rubberband;\n",
       "    this.rubberband_canvas = rubberband[0];\n",
       "    this.rubberband_context = rubberband[0].getContext(\"2d\");\n",
       "    this.rubberband_context.strokeStyle = \"#000000\";\n",
       "\n",
       "    this._resize_canvas = function(width, height) {\n",
       "        // Keep the size of the canvas, canvas container, and rubber band\n",
       "        // canvas in synch.\n",
       "        canvas_div.css('width', width)\n",
       "        canvas_div.css('height', height)\n",
       "\n",
       "        canvas.attr('width', width * mpl.ratio);\n",
       "        canvas.attr('height', height * mpl.ratio);\n",
       "        canvas.attr('style', 'width: ' + width + 'px; height: ' + height + 'px;');\n",
       "\n",
       "        rubberband.attr('width', width);\n",
       "        rubberband.attr('height', height);\n",
       "    }\n",
       "\n",
       "    // Set the figure to an initial 600x600px, this will subsequently be updated\n",
       "    // upon first draw.\n",
       "    this._resize_canvas(600, 600);\n",
       "\n",
       "    // Disable right mouse context menu.\n",
       "    $(this.rubberband_canvas).bind(\"contextmenu\",function(e){\n",
       "        return false;\n",
       "    });\n",
       "\n",
       "    function set_focus () {\n",
       "        canvas.focus();\n",
       "        canvas_div.focus();\n",
       "    }\n",
       "\n",
       "    window.setTimeout(set_focus, 100);\n",
       "}\n",
       "\n",
       "mpl.figure.prototype._init_toolbar = function() {\n",
       "    var fig = this;\n",
       "\n",
       "    var nav_element = $('<div/>')\n",
       "    nav_element.attr('style', 'width: 100%');\n",
       "    this.root.append(nav_element);\n",
       "\n",
       "    // Define a callback function for later on.\n",
       "    function toolbar_event(event) {\n",
       "        return fig.toolbar_button_onclick(event['data']);\n",
       "    }\n",
       "    function toolbar_mouse_event(event) {\n",
       "        return fig.toolbar_button_onmouseover(event['data']);\n",
       "    }\n",
       "\n",
       "    for(var toolbar_ind in mpl.toolbar_items) {\n",
       "        var name = mpl.toolbar_items[toolbar_ind][0];\n",
       "        var tooltip = mpl.toolbar_items[toolbar_ind][1];\n",
       "        var image = mpl.toolbar_items[toolbar_ind][2];\n",
       "        var method_name = mpl.toolbar_items[toolbar_ind][3];\n",
       "\n",
       "        if (!name) {\n",
       "            // put a spacer in here.\n",
       "            continue;\n",
       "        }\n",
       "        var button = $('<button/>');\n",
       "        button.addClass('ui-button ui-widget ui-state-default ui-corner-all ' +\n",
       "                        'ui-button-icon-only');\n",
       "        button.attr('role', 'button');\n",
       "        button.attr('aria-disabled', 'false');\n",
       "        button.click(method_name, toolbar_event);\n",
       "        button.mouseover(tooltip, toolbar_mouse_event);\n",
       "\n",
       "        var icon_img = $('<span/>');\n",
       "        icon_img.addClass('ui-button-icon-primary ui-icon');\n",
       "        icon_img.addClass(image);\n",
       "        icon_img.addClass('ui-corner-all');\n",
       "\n",
       "        var tooltip_span = $('<span/>');\n",
       "        tooltip_span.addClass('ui-button-text');\n",
       "        tooltip_span.html(tooltip);\n",
       "\n",
       "        button.append(icon_img);\n",
       "        button.append(tooltip_span);\n",
       "\n",
       "        nav_element.append(button);\n",
       "    }\n",
       "\n",
       "    var fmt_picker_span = $('<span/>');\n",
       "\n",
       "    var fmt_picker = $('<select/>');\n",
       "    fmt_picker.addClass('mpl-toolbar-option ui-widget ui-widget-content');\n",
       "    fmt_picker_span.append(fmt_picker);\n",
       "    nav_element.append(fmt_picker_span);\n",
       "    this.format_dropdown = fmt_picker[0];\n",
       "\n",
       "    for (var ind in mpl.extensions) {\n",
       "        var fmt = mpl.extensions[ind];\n",
       "        var option = $(\n",
       "            '<option/>', {selected: fmt === mpl.default_extension}).html(fmt);\n",
       "        fmt_picker.append(option)\n",
       "    }\n",
       "\n",
       "    // Add hover states to the ui-buttons\n",
       "    $( \".ui-button\" ).hover(\n",
       "        function() { $(this).addClass(\"ui-state-hover\");},\n",
       "        function() { $(this).removeClass(\"ui-state-hover\");}\n",
       "    );\n",
       "\n",
       "    var status_bar = $('<span class=\"mpl-message\"/>');\n",
       "    nav_element.append(status_bar);\n",
       "    this.message = status_bar[0];\n",
       "}\n",
       "\n",
       "mpl.figure.prototype.request_resize = function(x_pixels, y_pixels) {\n",
       "    // Request matplotlib to resize the figure. Matplotlib will then trigger a resize in the client,\n",
       "    // which will in turn request a refresh of the image.\n",
       "    this.send_message('resize', {'width': x_pixels, 'height': y_pixels});\n",
       "}\n",
       "\n",
       "mpl.figure.prototype.send_message = function(type, properties) {\n",
       "    properties['type'] = type;\n",
       "    properties['figure_id'] = this.id;\n",
       "    this.ws.send(JSON.stringify(properties));\n",
       "}\n",
       "\n",
       "mpl.figure.prototype.send_draw_message = function() {\n",
       "    if (!this.waiting) {\n",
       "        this.waiting = true;\n",
       "        this.ws.send(JSON.stringify({type: \"draw\", figure_id: this.id}));\n",
       "    }\n",
       "}\n",
       "\n",
       "\n",
       "mpl.figure.prototype.handle_save = function(fig, msg) {\n",
       "    var format_dropdown = fig.format_dropdown;\n",
       "    var format = format_dropdown.options[format_dropdown.selectedIndex].value;\n",
       "    fig.ondownload(fig, format);\n",
       "}\n",
       "\n",
       "\n",
       "mpl.figure.prototype.handle_resize = function(fig, msg) {\n",
       "    var size = msg['size'];\n",
       "    if (size[0] != fig.canvas.width || size[1] != fig.canvas.height) {\n",
       "        fig._resize_canvas(size[0], size[1]);\n",
       "        fig.send_message(\"refresh\", {});\n",
       "    };\n",
       "}\n",
       "\n",
       "mpl.figure.prototype.handle_rubberband = function(fig, msg) {\n",
       "    var x0 = msg['x0'] / mpl.ratio;\n",
       "    var y0 = (fig.canvas.height - msg['y0']) / mpl.ratio;\n",
       "    var x1 = msg['x1'] / mpl.ratio;\n",
       "    var y1 = (fig.canvas.height - msg['y1']) / mpl.ratio;\n",
       "    x0 = Math.floor(x0) + 0.5;\n",
       "    y0 = Math.floor(y0) + 0.5;\n",
       "    x1 = Math.floor(x1) + 0.5;\n",
       "    y1 = Math.floor(y1) + 0.5;\n",
       "    var min_x = Math.min(x0, x1);\n",
       "    var min_y = Math.min(y0, y1);\n",
       "    var width = Math.abs(x1 - x0);\n",
       "    var height = Math.abs(y1 - y0);\n",
       "\n",
       "    fig.rubberband_context.clearRect(\n",
       "        0, 0, fig.canvas.width, fig.canvas.height);\n",
       "\n",
       "    fig.rubberband_context.strokeRect(min_x, min_y, width, height);\n",
       "}\n",
       "\n",
       "mpl.figure.prototype.handle_figure_label = function(fig, msg) {\n",
       "    // Updates the figure title.\n",
       "    fig.header.textContent = msg['label'];\n",
       "}\n",
       "\n",
       "mpl.figure.prototype.handle_cursor = function(fig, msg) {\n",
       "    var cursor = msg['cursor'];\n",
       "    switch(cursor)\n",
       "    {\n",
       "    case 0:\n",
       "        cursor = 'pointer';\n",
       "        break;\n",
       "    case 1:\n",
       "        cursor = 'default';\n",
       "        break;\n",
       "    case 2:\n",
       "        cursor = 'crosshair';\n",
       "        break;\n",
       "    case 3:\n",
       "        cursor = 'move';\n",
       "        break;\n",
       "    }\n",
       "    fig.rubberband_canvas.style.cursor = cursor;\n",
       "}\n",
       "\n",
       "mpl.figure.prototype.handle_message = function(fig, msg) {\n",
       "    fig.message.textContent = msg['message'];\n",
       "}\n",
       "\n",
       "mpl.figure.prototype.handle_draw = function(fig, msg) {\n",
       "    // Request the server to send over a new figure.\n",
       "    fig.send_draw_message();\n",
       "}\n",
       "\n",
       "mpl.figure.prototype.handle_image_mode = function(fig, msg) {\n",
       "    fig.image_mode = msg['mode'];\n",
       "}\n",
       "\n",
       "mpl.figure.prototype.updated_canvas_event = function() {\n",
       "    // Called whenever the canvas gets updated.\n",
       "    this.send_message(\"ack\", {});\n",
       "}\n",
       "\n",
       "// A function to construct a web socket function for onmessage handling.\n",
       "// Called in the figure constructor.\n",
       "mpl.figure.prototype._make_on_message_function = function(fig) {\n",
       "    return function socket_on_message(evt) {\n",
       "        if (evt.data instanceof Blob) {\n",
       "            /* FIXME: We get \"Resource interpreted as Image but\n",
       "             * transferred with MIME type text/plain:\" errors on\n",
       "             * Chrome.  But how to set the MIME type?  It doesn't seem\n",
       "             * to be part of the websocket stream */\n",
       "            evt.data.type = \"image/png\";\n",
       "\n",
       "            /* Free the memory for the previous frames */\n",
       "            if (fig.imageObj.src) {\n",
       "                (window.URL || window.webkitURL).revokeObjectURL(\n",
       "                    fig.imageObj.src);\n",
       "            }\n",
       "\n",
       "            fig.imageObj.src = (window.URL || window.webkitURL).createObjectURL(\n",
       "                evt.data);\n",
       "            fig.updated_canvas_event();\n",
       "            fig.waiting = false;\n",
       "            return;\n",
       "        }\n",
       "        else if (typeof evt.data === 'string' && evt.data.slice(0, 21) == \"data:image/png;base64\") {\n",
       "            fig.imageObj.src = evt.data;\n",
       "            fig.updated_canvas_event();\n",
       "            fig.waiting = false;\n",
       "            return;\n",
       "        }\n",
       "\n",
       "        var msg = JSON.parse(evt.data);\n",
       "        var msg_type = msg['type'];\n",
       "\n",
       "        // Call the  \"handle_{type}\" callback, which takes\n",
       "        // the figure and JSON message as its only arguments.\n",
       "        try {\n",
       "            var callback = fig[\"handle_\" + msg_type];\n",
       "        } catch (e) {\n",
       "            console.log(\"No handler for the '\" + msg_type + \"' message type: \", msg);\n",
       "            return;\n",
       "        }\n",
       "\n",
       "        if (callback) {\n",
       "            try {\n",
       "                // console.log(\"Handling '\" + msg_type + \"' message: \", msg);\n",
       "                callback(fig, msg);\n",
       "            } catch (e) {\n",
       "                console.log(\"Exception inside the 'handler_\" + msg_type + \"' callback:\", e, e.stack, msg);\n",
       "            }\n",
       "        }\n",
       "    };\n",
       "}\n",
       "\n",
       "// from http://stackoverflow.com/questions/1114465/getting-mouse-location-in-canvas\n",
       "mpl.findpos = function(e) {\n",
       "    //this section is from http://www.quirksmode.org/js/events_properties.html\n",
       "    var targ;\n",
       "    if (!e)\n",
       "        e = window.event;\n",
       "    if (e.target)\n",
       "        targ = e.target;\n",
       "    else if (e.srcElement)\n",
       "        targ = e.srcElement;\n",
       "    if (targ.nodeType == 3) // defeat Safari bug\n",
       "        targ = targ.parentNode;\n",
       "\n",
       "    // jQuery normalizes the pageX and pageY\n",
       "    // pageX,Y are the mouse positions relative to the document\n",
       "    // offset() returns the position of the element relative to the document\n",
       "    var x = e.pageX - $(targ).offset().left;\n",
       "    var y = e.pageY - $(targ).offset().top;\n",
       "\n",
       "    return {\"x\": x, \"y\": y};\n",
       "};\n",
       "\n",
       "/*\n",
       " * return a copy of an object with only non-object keys\n",
       " * we need this to avoid circular references\n",
       " * http://stackoverflow.com/a/24161582/3208463\n",
       " */\n",
       "function simpleKeys (original) {\n",
       "  return Object.keys(original).reduce(function (obj, key) {\n",
       "    if (typeof original[key] !== 'object')\n",
       "        obj[key] = original[key]\n",
       "    return obj;\n",
       "  }, {});\n",
       "}\n",
       "\n",
       "mpl.figure.prototype.mouse_event = function(event, name) {\n",
       "    var canvas_pos = mpl.findpos(event)\n",
       "\n",
       "    if (name === 'button_press')\n",
       "    {\n",
       "        this.canvas.focus();\n",
       "        this.canvas_div.focus();\n",
       "    }\n",
       "\n",
       "    var x = canvas_pos.x * mpl.ratio;\n",
       "    var y = canvas_pos.y * mpl.ratio;\n",
       "\n",
       "    this.send_message(name, {x: x, y: y, button: event.button,\n",
       "                             step: event.step,\n",
       "                             guiEvent: simpleKeys(event)});\n",
       "\n",
       "    /* This prevents the web browser from automatically changing to\n",
       "     * the text insertion cursor when the button is pressed.  We want\n",
       "     * to control all of the cursor setting manually through the\n",
       "     * 'cursor' event from matplotlib */\n",
       "    event.preventDefault();\n",
       "    return false;\n",
       "}\n",
       "\n",
       "mpl.figure.prototype._key_event_extra = function(event, name) {\n",
       "    // Handle any extra behaviour associated with a key event\n",
       "}\n",
       "\n",
       "mpl.figure.prototype.key_event = function(event, name) {\n",
       "\n",
       "    // Prevent repeat events\n",
       "    if (name == 'key_press')\n",
       "    {\n",
       "        if (event.which === this._key)\n",
       "            return;\n",
       "        else\n",
       "            this._key = event.which;\n",
       "    }\n",
       "    if (name == 'key_release')\n",
       "        this._key = null;\n",
       "\n",
       "    var value = '';\n",
       "    if (event.ctrlKey && event.which != 17)\n",
       "        value += \"ctrl+\";\n",
       "    if (event.altKey && event.which != 18)\n",
       "        value += \"alt+\";\n",
       "    if (event.shiftKey && event.which != 16)\n",
       "        value += \"shift+\";\n",
       "\n",
       "    value += 'k';\n",
       "    value += event.which.toString();\n",
       "\n",
       "    this._key_event_extra(event, name);\n",
       "\n",
       "    this.send_message(name, {key: value,\n",
       "                             guiEvent: simpleKeys(event)});\n",
       "    return false;\n",
       "}\n",
       "\n",
       "mpl.figure.prototype.toolbar_button_onclick = function(name) {\n",
       "    if (name == 'download') {\n",
       "        this.handle_save(this, null);\n",
       "    } else {\n",
       "        this.send_message(\"toolbar_button\", {name: name});\n",
       "    }\n",
       "};\n",
       "\n",
       "mpl.figure.prototype.toolbar_button_onmouseover = function(tooltip) {\n",
       "    this.message.textContent = tooltip;\n",
       "};\n",
       "mpl.toolbar_items = [[\"Home\", \"Reset original view\", \"fa fa-home icon-home\", \"home\"], [\"Back\", \"Back to  previous view\", \"fa fa-arrow-left icon-arrow-left\", \"back\"], [\"Forward\", \"Forward to next view\", \"fa fa-arrow-right icon-arrow-right\", \"forward\"], [\"\", \"\", \"\", \"\"], [\"Pan\", \"Pan axes with left mouse, zoom with right\", \"fa fa-arrows icon-move\", \"pan\"], [\"Zoom\", \"Zoom to rectangle\", \"fa fa-square-o icon-check-empty\", \"zoom\"], [\"\", \"\", \"\", \"\"], [\"Download\", \"Download plot\", \"fa fa-floppy-o icon-save\", \"download\"]];\n",
       "\n",
       "mpl.extensions = [\"eps\", \"jpeg\", \"pdf\", \"png\", \"ps\", \"raw\", \"svg\", \"tif\"];\n",
       "\n",
       "mpl.default_extension = \"png\";var comm_websocket_adapter = function(comm) {\n",
       "    // Create a \"websocket\"-like object which calls the given IPython comm\n",
       "    // object with the appropriate methods. Currently this is a non binary\n",
       "    // socket, so there is still some room for performance tuning.\n",
       "    var ws = {};\n",
       "\n",
       "    ws.close = function() {\n",
       "        comm.close()\n",
       "    };\n",
       "    ws.send = function(m) {\n",
       "        //console.log('sending', m);\n",
       "        comm.send(m);\n",
       "    };\n",
       "    // Register the callback with on_msg.\n",
       "    comm.on_msg(function(msg) {\n",
       "        //console.log('receiving', msg['content']['data'], msg);\n",
       "        // Pass the mpl event to the overriden (by mpl) onmessage function.\n",
       "        ws.onmessage(msg['content']['data'])\n",
       "    });\n",
       "    return ws;\n",
       "}\n",
       "\n",
       "mpl.mpl_figure_comm = function(comm, msg) {\n",
       "    // This is the function which gets called when the mpl process\n",
       "    // starts-up an IPython Comm through the \"matplotlib\" channel.\n",
       "\n",
       "    var id = msg.content.data.id;\n",
       "    // Get hold of the div created by the display call when the Comm\n",
       "    // socket was opened in Python.\n",
       "    var element = $(\"#\" + id);\n",
       "    var ws_proxy = comm_websocket_adapter(comm)\n",
       "\n",
       "    function ondownload(figure, format) {\n",
       "        window.open(figure.imageObj.src);\n",
       "    }\n",
       "\n",
       "    var fig = new mpl.figure(id, ws_proxy,\n",
       "                           ondownload,\n",
       "                           element.get(0));\n",
       "\n",
       "    // Call onopen now - mpl needs it, as it is assuming we've passed it a real\n",
       "    // web socket which is closed, not our websocket->open comm proxy.\n",
       "    ws_proxy.onopen();\n",
       "\n",
       "    fig.parent_element = element.get(0);\n",
       "    fig.cell_info = mpl.find_output_cell(\"<div id='\" + id + \"'></div>\");\n",
       "    if (!fig.cell_info) {\n",
       "        console.error(\"Failed to find cell for figure\", id, fig);\n",
       "        return;\n",
       "    }\n",
       "\n",
       "    var output_index = fig.cell_info[2]\n",
       "    var cell = fig.cell_info[0];\n",
       "\n",
       "};\n",
       "\n",
       "mpl.figure.prototype.handle_close = function(fig, msg) {\n",
       "    var width = fig.canvas.width/mpl.ratio\n",
       "    fig.root.unbind('remove')\n",
       "\n",
       "    // Update the output cell to use the data from the current canvas.\n",
       "    fig.push_to_output();\n",
       "    var dataURL = fig.canvas.toDataURL();\n",
       "    // Re-enable the keyboard manager in IPython - without this line, in FF,\n",
       "    // the notebook keyboard shortcuts fail.\n",
       "    IPython.keyboard_manager.enable()\n",
       "    $(fig.parent_element).html('<img src=\"' + dataURL + '\" width=\"' + width + '\">');\n",
       "    fig.close_ws(fig, msg);\n",
       "}\n",
       "\n",
       "mpl.figure.prototype.close_ws = function(fig, msg){\n",
       "    fig.send_message('closing', msg);\n",
       "    // fig.ws.close()\n",
       "}\n",
       "\n",
       "mpl.figure.prototype.push_to_output = function(remove_interactive) {\n",
       "    // Turn the data on the canvas into data in the output cell.\n",
       "    var width = this.canvas.width/mpl.ratio\n",
       "    var dataURL = this.canvas.toDataURL();\n",
       "    this.cell_info[1]['text/html'] = '<img src=\"' + dataURL + '\" width=\"' + width + '\">';\n",
       "}\n",
       "\n",
       "mpl.figure.prototype.updated_canvas_event = function() {\n",
       "    // Tell IPython that the notebook contents must change.\n",
       "    IPython.notebook.set_dirty(true);\n",
       "    this.send_message(\"ack\", {});\n",
       "    var fig = this;\n",
       "    // Wait a second, then push the new image to the DOM so\n",
       "    // that it is saved nicely (might be nice to debounce this).\n",
       "    setTimeout(function () { fig.push_to_output() }, 1000);\n",
       "}\n",
       "\n",
       "mpl.figure.prototype._init_toolbar = function() {\n",
       "    var fig = this;\n",
       "\n",
       "    var nav_element = $('<div/>')\n",
       "    nav_element.attr('style', 'width: 100%');\n",
       "    this.root.append(nav_element);\n",
       "\n",
       "    // Define a callback function for later on.\n",
       "    function toolbar_event(event) {\n",
       "        return fig.toolbar_button_onclick(event['data']);\n",
       "    }\n",
       "    function toolbar_mouse_event(event) {\n",
       "        return fig.toolbar_button_onmouseover(event['data']);\n",
       "    }\n",
       "\n",
       "    for(var toolbar_ind in mpl.toolbar_items){\n",
       "        var name = mpl.toolbar_items[toolbar_ind][0];\n",
       "        var tooltip = mpl.toolbar_items[toolbar_ind][1];\n",
       "        var image = mpl.toolbar_items[toolbar_ind][2];\n",
       "        var method_name = mpl.toolbar_items[toolbar_ind][3];\n",
       "\n",
       "        if (!name) { continue; };\n",
       "\n",
       "        var button = $('<button class=\"btn btn-default\" href=\"#\" title=\"' + name + '\"><i class=\"fa ' + image + ' fa-lg\"></i></button>');\n",
       "        button.click(method_name, toolbar_event);\n",
       "        button.mouseover(tooltip, toolbar_mouse_event);\n",
       "        nav_element.append(button);\n",
       "    }\n",
       "\n",
       "    // Add the status bar.\n",
       "    var status_bar = $('<span class=\"mpl-message\" style=\"text-align:right; float: right;\"/>');\n",
       "    nav_element.append(status_bar);\n",
       "    this.message = status_bar[0];\n",
       "\n",
       "    // Add the close button to the window.\n",
       "    var buttongrp = $('<div class=\"btn-group inline pull-right\"></div>');\n",
       "    var button = $('<button class=\"btn btn-mini btn-primary\" href=\"#\" title=\"Stop Interaction\"><i class=\"fa fa-power-off icon-remove icon-large\"></i></button>');\n",
       "    button.click(function (evt) { fig.handle_close(fig, {}); } );\n",
       "    button.mouseover('Stop Interaction', toolbar_mouse_event);\n",
       "    buttongrp.append(button);\n",
       "    var titlebar = this.root.find($('.ui-dialog-titlebar'));\n",
       "    titlebar.prepend(buttongrp);\n",
       "}\n",
       "\n",
       "mpl.figure.prototype._root_extra_style = function(el){\n",
       "    var fig = this\n",
       "    el.on(\"remove\", function(){\n",
       "\tfig.close_ws(fig, {});\n",
       "    });\n",
       "}\n",
       "\n",
       "mpl.figure.prototype._canvas_extra_style = function(el){\n",
       "    // this is important to make the div 'focusable\n",
       "    el.attr('tabindex', 0)\n",
       "    // reach out to IPython and tell the keyboard manager to turn it's self\n",
       "    // off when our div gets focus\n",
       "\n",
       "    // location in version 3\n",
       "    if (IPython.notebook.keyboard_manager) {\n",
       "        IPython.notebook.keyboard_manager.register_events(el);\n",
       "    }\n",
       "    else {\n",
       "        // location in version 2\n",
       "        IPython.keyboard_manager.register_events(el);\n",
       "    }\n",
       "\n",
       "}\n",
       "\n",
       "mpl.figure.prototype._key_event_extra = function(event, name) {\n",
       "    var manager = IPython.notebook.keyboard_manager;\n",
       "    if (!manager)\n",
       "        manager = IPython.keyboard_manager;\n",
       "\n",
       "    // Check for shift+enter\n",
       "    if (event.shiftKey && event.which == 13) {\n",
       "        this.canvas_div.blur();\n",
       "        event.shiftKey = false;\n",
       "        // Send a \"J\" for go to next cell\n",
       "        event.which = 74;\n",
       "        event.keyCode = 74;\n",
       "        manager.command_mode();\n",
       "        manager.handle_keydown(event);\n",
       "    }\n",
       "}\n",
       "\n",
       "mpl.figure.prototype.handle_save = function(fig, msg) {\n",
       "    fig.ondownload(fig, null);\n",
       "}\n",
       "\n",
       "\n",
       "mpl.find_output_cell = function(html_output) {\n",
       "    // Return the cell and output element which can be found *uniquely* in the notebook.\n",
       "    // Note - this is a bit hacky, but it is done because the \"notebook_saving.Notebook\"\n",
       "    // IPython event is triggered only after the cells have been serialised, which for\n",
       "    // our purposes (turning an active figure into a static one), is too late.\n",
       "    var cells = IPython.notebook.get_cells();\n",
       "    var ncells = cells.length;\n",
       "    for (var i=0; i<ncells; i++) {\n",
       "        var cell = cells[i];\n",
       "        if (cell.cell_type === 'code'){\n",
       "            for (var j=0; j<cell.output_area.outputs.length; j++) {\n",
       "                var data = cell.output_area.outputs[j];\n",
       "                if (data.data) {\n",
       "                    // IPython >= 3 moved mimebundle to data attribute of output\n",
       "                    data = data.data;\n",
       "                }\n",
       "                if (data['text/html'] == html_output) {\n",
       "                    return [cell, data, j];\n",
       "                }\n",
       "            }\n",
       "        }\n",
       "    }\n",
       "}\n",
       "\n",
       "// Register the function which deals with the matplotlib target/channel.\n",
       "// The kernel may be null if the page has been refreshed.\n",
       "if (IPython.notebook.kernel != null) {\n",
       "    IPython.notebook.kernel.comm_manager.register_target('matplotlib', mpl.mpl_figure_comm);\n",
       "}\n"
      ],
      "text/plain": [
       "<IPython.core.display.Javascript object>"
      ]
     },
     "metadata": {},
     "output_type": "display_data"
    },
    {
     "data": {
      "text/html": [
       "<img src=\"data:image/png;base64,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\" width=\"640\">"
      ],
      "text/plain": [
       "<IPython.core.display.HTML object>"
      ]
     },
     "metadata": {},
     "output_type": "display_data"
    }
   ],
   "source": [
    "import chainer\n",
    "import numpy as np\n",
    "import matplotlib.pyplot as plt\n",
    "from matplotlib import patches\n",
    "import random \n",
    "from chainer.functions import log, hstack, huber_loss\n",
    "%matplotlib notebook\n",
    "# %matplotlib notebook\n",
    "\n",
    "\n",
    "\n",
    "\n",
    "\n",
    "def get_single_image(pos_r, pos_c, height, width  ): \n",
    "    \n",
    "    image = np.zeros((1,3,128,128), dtype=np.float32)\n",
    "\n",
    "    gts = []\n",
    "\n",
    "    for i in range(1):\n",
    "        # Choose random coordinate, this can also be run in a loop\n",
    "        width = width\n",
    "        height =height\n",
    "        pos_r =pos_r\n",
    "        pos_c =pos_c\n",
    "        image[0,:,pos_r:pos_r+height,pos_c:pos_c+width]=1\n",
    "        #print(pos_r, pos_c)\n",
    "\n",
    "        cx = pos_c #+ width/2.0\n",
    "        cy = pos_r #- height/2.0\n",
    "\n",
    "        box = [cx, cy, width, height, 1, 0]\n",
    "\n",
    "        gts.append(box)\n",
    "\n",
    "    # Create ground truth object\n",
    "    gts2 = chainer.Variable(np.array(gts, dtype=np.float32))\n",
    "    return gts2, image \n",
    "\n",
    "\n",
    "gt, img  = get_single_image(50,50, 50,20)\n",
    "for i in range(1):\n",
    "    # Initialize the image\n",
    "    \n",
    "    # Visualize the entire thing\n",
    "    plt.imshow(img[0,0,:,:])\n",
    "    plt.show()"
   ]
  },
  {
   "cell_type": "code",
   "execution_count": 79,
   "metadata": {
    "ExecuteTime": {
     "end_time": "2017-11-22T07:35:27.224184Z",
     "start_time": "2017-11-22T07:35:27.219533Z"
    }
   },
   "outputs": [
    {
     "name": "stdout",
     "output_type": "stream",
     "text": [
      "ground truth box coordinates:  variable([[ 50.  50.  20.  50.   1.   0.]]) gt shape : (1, 6)\n",
      "-----------------------------------------------\n",
      "Image shape (1, 3, 128, 128)\n"
     ]
    }
   ],
   "source": [
    "print('ground truth box coordinates: ' ,gt,'gt shape :' ,gt.shape)\n",
    "print('-----------------------------------------------')\n",
    "print('Image shape', img.shape)\n"
   ]
  },
  {
   "cell_type": "code",
   "execution_count": 77,
   "metadata": {
    "ExecuteTime": {
     "end_time": "2017-11-22T07:35:21.206655Z",
     "start_time": "2017-11-22T07:35:21.006687Z"
    }
   },
   "outputs": [
    {
     "ename": "TypeError",
     "evalue": "only length-1 arrays can be converted to Python scalars",
     "output_type": "error",
     "traceback": [
      "\u001b[0;31m---------------------------------------------------------------------------\u001b[0m",
      "\u001b[0;31mTypeError\u001b[0m                                 Traceback (most recent call last)",
      "\u001b[0;32m<ipython-input-77-dca776d26a48>\u001b[0m in \u001b[0;36m<module>\u001b[0;34m()\u001b[0m\n\u001b[1;32m     63\u001b[0m \u001b[0;34m\u001b[0m\u001b[0m\n\u001b[1;32m     64\u001b[0m \u001b[0;34m\u001b[0m\u001b[0m\n\u001b[0;32m---> 65\u001b[0;31m \u001b[0mbox1\u001b[0m\u001b[0;34m,\u001b[0m\u001b[0mrot_img\u001b[0m\u001b[0;34m=\u001b[0m \u001b[0mrotated_generated_image\u001b[0m\u001b[0;34m(\u001b[0m\u001b[0mbox1\u001b[0m\u001b[0;34m,\u001b[0m \u001b[0mimg_size\u001b[0m\u001b[0;34m,\u001b[0m\u001b[0mplot_image\u001b[0m\u001b[0;34m=\u001b[0m\u001b[0;32mFalse\u001b[0m \u001b[0;34m)\u001b[0m\u001b[0;34m\u001b[0m\u001b[0m\n\u001b[0m\u001b[1;32m     66\u001b[0m \u001b[0;34m\u001b[0m\u001b[0m\n\u001b[1;32m     67\u001b[0m \u001b[0;34m\u001b[0m\u001b[0m\n",
      "\u001b[0;32m<ipython-input-77-dca776d26a48>\u001b[0m in \u001b[0;36mrotated_generated_image\u001b[0;34m(box, img_size, plot_image)\u001b[0m\n\u001b[1;32m     44\u001b[0m              [centerx+(width/2),centery-(height/2)]])\n\u001b[1;32m     45\u001b[0m     \u001b[0mcenter\u001b[0m \u001b[0;34m=\u001b[0m \u001b[0;34m[\u001b[0m\u001b[0mcenterx\u001b[0m\u001b[0;34m,\u001b[0m \u001b[0mcentery\u001b[0m\u001b[0;34m]\u001b[0m\u001b[0;34m\u001b[0m\u001b[0m\n\u001b[0;32m---> 46\u001b[0;31m     \u001b[0mall_rotated_points\u001b[0m \u001b[0;34m=\u001b[0m \u001b[0;34m[\u001b[0m \u001b[0mrotate_point\u001b[0m\u001b[0;34m(\u001b[0m\u001b[0mcenter\u001b[0m\u001b[0;34m,\u001b[0m\u001b[0mpoints\u001b[0m\u001b[0;34m[\u001b[0m\u001b[0mx\u001b[0m\u001b[0;34m,\u001b[0m\u001b[0;34m:\u001b[0m\u001b[0;34m]\u001b[0m\u001b[0;34m,\u001b[0m \u001b[0mangle\u001b[0m\u001b[0;34m)\u001b[0m \u001b[0;32mfor\u001b[0m \u001b[0mx\u001b[0m \u001b[0;32min\u001b[0m \u001b[0mrange\u001b[0m\u001b[0;34m(\u001b[0m\u001b[0;36m0\u001b[0m\u001b[0;34m,\u001b[0m\u001b[0;36m4\u001b[0m\u001b[0;34m)\u001b[0m\u001b[0;34m]\u001b[0m\u001b[0;34m\u001b[0m\u001b[0m\n\u001b[0m\u001b[1;32m     47\u001b[0m \u001b[0;34m\u001b[0m\u001b[0m\n\u001b[1;32m     48\u001b[0m     \u001b[0mimg\u001b[0m \u001b[0;34m=\u001b[0m \u001b[0mImage\u001b[0m\u001b[0;34m.\u001b[0m\u001b[0mnew\u001b[0m\u001b[0;34m(\u001b[0m\u001b[0;34m'RGB'\u001b[0m\u001b[0;34m,\u001b[0m \u001b[0;34m(\u001b[0m\u001b[0mimg_size\u001b[0m\u001b[0;34m,\u001b[0m \u001b[0mimg_size\u001b[0m\u001b[0;34m)\u001b[0m\u001b[0;34m,\u001b[0m \u001b[0;34m(\u001b[0m\u001b[0;36m0\u001b[0m\u001b[0;34m,\u001b[0m \u001b[0;36m0\u001b[0m\u001b[0;34m,\u001b[0m \u001b[0;36m0\u001b[0m\u001b[0;34m)\u001b[0m\u001b[0;34m)\u001b[0m\u001b[0;34m\u001b[0m\u001b[0m\n",
      "\u001b[0;32m<ipython-input-77-dca776d26a48>\u001b[0m in \u001b[0;36m<listcomp>\u001b[0;34m(.0)\u001b[0m\n\u001b[1;32m     44\u001b[0m              [centerx+(width/2),centery-(height/2)]])\n\u001b[1;32m     45\u001b[0m     \u001b[0mcenter\u001b[0m \u001b[0;34m=\u001b[0m \u001b[0;34m[\u001b[0m\u001b[0mcenterx\u001b[0m\u001b[0;34m,\u001b[0m \u001b[0mcentery\u001b[0m\u001b[0;34m]\u001b[0m\u001b[0;34m\u001b[0m\u001b[0m\n\u001b[0;32m---> 46\u001b[0;31m     \u001b[0mall_rotated_points\u001b[0m \u001b[0;34m=\u001b[0m \u001b[0;34m[\u001b[0m \u001b[0mrotate_point\u001b[0m\u001b[0;34m(\u001b[0m\u001b[0mcenter\u001b[0m\u001b[0;34m,\u001b[0m\u001b[0mpoints\u001b[0m\u001b[0;34m[\u001b[0m\u001b[0mx\u001b[0m\u001b[0;34m,\u001b[0m\u001b[0;34m:\u001b[0m\u001b[0;34m]\u001b[0m\u001b[0;34m,\u001b[0m \u001b[0mangle\u001b[0m\u001b[0;34m)\u001b[0m \u001b[0;32mfor\u001b[0m \u001b[0mx\u001b[0m \u001b[0;32min\u001b[0m \u001b[0mrange\u001b[0m\u001b[0;34m(\u001b[0m\u001b[0;36m0\u001b[0m\u001b[0;34m,\u001b[0m\u001b[0;36m4\u001b[0m\u001b[0;34m)\u001b[0m\u001b[0;34m]\u001b[0m\u001b[0;34m\u001b[0m\u001b[0m\n\u001b[0m\u001b[1;32m     47\u001b[0m \u001b[0;34m\u001b[0m\u001b[0m\n\u001b[1;32m     48\u001b[0m     \u001b[0mimg\u001b[0m \u001b[0;34m=\u001b[0m \u001b[0mImage\u001b[0m\u001b[0;34m.\u001b[0m\u001b[0mnew\u001b[0m\u001b[0;34m(\u001b[0m\u001b[0;34m'RGB'\u001b[0m\u001b[0;34m,\u001b[0m \u001b[0;34m(\u001b[0m\u001b[0mimg_size\u001b[0m\u001b[0;34m,\u001b[0m \u001b[0mimg_size\u001b[0m\u001b[0;34m)\u001b[0m\u001b[0;34m,\u001b[0m \u001b[0;34m(\u001b[0m\u001b[0;36m0\u001b[0m\u001b[0;34m,\u001b[0m \u001b[0;36m0\u001b[0m\u001b[0;34m,\u001b[0m \u001b[0;36m0\u001b[0m\u001b[0;34m)\u001b[0m\u001b[0;34m)\u001b[0m\u001b[0;34m\u001b[0m\u001b[0m\n",
      "\u001b[0;32m<ipython-input-77-dca776d26a48>\u001b[0m in \u001b[0;36mrotate_point\u001b[0;34m(origin, point, angle)\u001b[0m\n\u001b[1;32m     13\u001b[0m     \u001b[0mpx\u001b[0m\u001b[0;34m,\u001b[0m \u001b[0mpy\u001b[0m \u001b[0;34m=\u001b[0m \u001b[0mpoint\u001b[0m\u001b[0;34m\u001b[0m\u001b[0m\n\u001b[1;32m     14\u001b[0m \u001b[0;34m\u001b[0m\u001b[0m\n\u001b[0;32m---> 15\u001b[0;31m     \u001b[0mqx\u001b[0m \u001b[0;34m=\u001b[0m \u001b[0mox\u001b[0m \u001b[0;34m+\u001b[0m \u001b[0mmath\u001b[0m\u001b[0;34m.\u001b[0m\u001b[0mcos\u001b[0m\u001b[0;34m(\u001b[0m\u001b[0mangle\u001b[0m\u001b[0;34m)\u001b[0m \u001b[0;34m*\u001b[0m \u001b[0;34m(\u001b[0m\u001b[0mpx\u001b[0m \u001b[0;34m-\u001b[0m \u001b[0mox\u001b[0m\u001b[0;34m)\u001b[0m \u001b[0;34m-\u001b[0m \u001b[0mmath\u001b[0m\u001b[0;34m.\u001b[0m\u001b[0msin\u001b[0m\u001b[0;34m(\u001b[0m\u001b[0mangle\u001b[0m\u001b[0;34m)\u001b[0m \u001b[0;34m*\u001b[0m \u001b[0;34m(\u001b[0m\u001b[0mpy\u001b[0m \u001b[0;34m-\u001b[0m \u001b[0moy\u001b[0m\u001b[0;34m)\u001b[0m\u001b[0;34m\u001b[0m\u001b[0m\n\u001b[0m\u001b[1;32m     16\u001b[0m     \u001b[0mqy\u001b[0m \u001b[0;34m=\u001b[0m \u001b[0moy\u001b[0m \u001b[0;34m+\u001b[0m \u001b[0mmath\u001b[0m\u001b[0;34m.\u001b[0m\u001b[0msin\u001b[0m\u001b[0;34m(\u001b[0m\u001b[0mangle\u001b[0m\u001b[0;34m)\u001b[0m \u001b[0;34m*\u001b[0m \u001b[0;34m(\u001b[0m\u001b[0mpx\u001b[0m \u001b[0;34m-\u001b[0m \u001b[0mox\u001b[0m\u001b[0;34m)\u001b[0m \u001b[0;34m+\u001b[0m \u001b[0mmath\u001b[0m\u001b[0;34m.\u001b[0m\u001b[0mcos\u001b[0m\u001b[0;34m(\u001b[0m\u001b[0mangle\u001b[0m\u001b[0;34m)\u001b[0m \u001b[0;34m*\u001b[0m \u001b[0;34m(\u001b[0m\u001b[0mpy\u001b[0m \u001b[0;34m-\u001b[0m \u001b[0moy\u001b[0m\u001b[0;34m)\u001b[0m\u001b[0;34m\u001b[0m\u001b[0m\n\u001b[1;32m     17\u001b[0m \u001b[0;34m\u001b[0m\u001b[0m\n",
      "\u001b[0;31mTypeError\u001b[0m: only length-1 arrays can be converted to Python scalars"
     ]
    }
   ],
   "source": [
    "# checking how to generate rotated rectangles \n",
    "from PIL import Image\n",
    "from PIL import ImageDraw\n",
    "import math\n",
    "\n",
    "def rotate_point(origin, point, angle):\n",
    "    \"\"\"\n",
    "    Rotate a point counterclockwise by a given angle around a given origin.\n",
    "\n",
    "    The angle should be given in radians.\n",
    "    \"\"\"\n",
    "    ox, oy = origin\n",
    "    px, py = point\n",
    "\n",
    "    qx = ox + math.cos(angle) * (px - ox) - math.sin(angle) * (py - oy)\n",
    "    qy = oy + math.sin(angle) * (px - ox) + math.cos(angle) * (py - oy)\n",
    "\n",
    "    return qx, qy\n",
    "\n",
    "angle= 120\n",
    "img_size = img.shape[2]\n",
    "centerx= 40\n",
    "centery = 50 \n",
    "width =30 \n",
    "height= 50 \n",
    "\n",
    "\n",
    "\n",
    "def rotated_generated_image(box, img_size, plot_image=True): \n",
    "    \"\"\"\n",
    "     Input- \n",
    "     \n",
    "     img_size : (2,2) array -size of the input image to draw on \n",
    "     \n",
    "     Output- \n",
    "     box      : 1*7 numpy array [centerx, centery, width, height, angle,1,0]\n",
    "     \n",
    "    \"\"\"\n",
    "    box = box[0:5]\n",
    "    centerx, centery, width, height, angle = box \n",
    "    points =np.array([[centerx-(width/2),centery-(height/2)],\n",
    "            [centerx-(width/2),centery+(height/2)], \n",
    "            [centerx+(width/2),centery+(height/2)], \n",
    "             [centerx+(width/2),centery-(height/2)]])\n",
    "    center = [centerx, centery]\n",
    "    all_rotated_points = [ rotate_point(center,points[x,:], angle) for x in range(0,4)]    \n",
    "\n",
    "    img = Image.new('RGB', (img_size, img_size), (0, 0, 0))\n",
    "    draw = ImageDraw.Draw(img, 'RGBA')\n",
    "    \n",
    "    draw.polygon(all_rotated_points, (255, 0, 0))\n",
    "    img_numpy = np.array(img)\n",
    "    box = np.array([centerx, centery, width, height, angle, 1, 0]) \n",
    "    \n",
    "    if plot_image==True: \n",
    "        plt.figure()\n",
    "        plt.imshow(img_numpy[:,:,0])\n",
    "        plt.show()\n",
    "    \n",
    "    \n",
    "    return box, img_numpy \n",
    "\n",
    "\n",
    "\n",
    "box1,rot_img= rotated_generated_image(box1, img_size,plot_image=False )    \n",
    "\n",
    "\n",
    "# def draw_rotated_image(box, img_size):\n",
    "#     \"\"\"\n",
    "#     Input - \n",
    "#     box      : 1*7 numpy array [centerx, centery, width, height, angle,1,0]\n",
    "    \n",
    "#     Output-  \n",
    "#     Figure of rotated rectangle \n",
    "    \n",
    "#     \"\"\"   \n",
    "    \n",
    "    \n",
    "#     box = box[0:5]\n",
    "#     centerx, centery, width, height, angle = box\n",
    "#     points =np.array([[centerx-(width/2),centery-(height/2)],\n",
    "#                 [centerx-(width/2),centery+(height/2)], \n",
    "#                 [centerx+(width/2),centery+(height/2)], \n",
    "#                  [centerx+(width/2),centery-(height/2)]])\n",
    "#     center = [centerx, centery]\n",
    "#     all_rotated_points = [ rotate_point(center,points[x,:], angle) for x in range(0,4)]    \n",
    "\n",
    "#     canvas = Image.new('RGB', (img_size, img_size), (0, 0, 0))\n",
    "#     draw = ImageDraw.Draw(canvas, 'RGBA')\n",
    "\n",
    "#     draw.polygon(all_rotated_points, (255, 0, 0))\n",
    "#     img_numpy = np.array(canvas)\n",
    "#     plt.figure()\n",
    "#     plt.imshow(img_numpy[:,:,0])\n",
    "#     plt.show()\n",
    "    \n",
    "# draw_rotated_image(box1,img_size)    \n",
    "\n"
   ]
  },
  {
   "cell_type": "code",
   "execution_count": null,
   "metadata": {
    "ExecuteTime": {
     "end_time": "2017-11-22T05:39:06.920766Z",
     "start_time": "2017-11-22T05:39:06.909257Z"
    }
   },
   "outputs": [],
   "source": []
  },
  {
   "cell_type": "markdown",
   "metadata": {},
   "source": [
    "### Generate test dataset"
   ]
  },
  {
   "cell_type": "code",
   "execution_count": 3,
   "metadata": {
    "ExecuteTime": {
     "end_time": "2017-11-21T17:45:08.019346Z",
     "start_time": "2017-11-21T17:45:07.743268Z"
    }
   },
   "outputs": [
    {
     "data": {
      "image/png": "[encoded data removed]",
      "text/plain": [
       "<matplotlib.figure.Figure at 0x7f9c17ac50f0>"
      ]
     },
     "metadata": {},
     "output_type": "display_data"
    }
   ],
   "source": [
    "def generate_test_set():\n",
    "    \n",
    "    image_sizes = [10,15,20,25,30,35,40,45,50,55,60]\n",
    "    locx =[20,20,30,30,40,40,50, 60,60,60,60]\n",
    "    locy = [60,60,30,30,40,60,50, 45,45,50,50]\n",
    "    test_gts = []\n",
    "    imgs = []\n",
    "    \n",
    "    for i in range(len(locx)): \n",
    "\n",
    "        image = np.zeros((1,3,128,128), dtype=np.float32)\n",
    "        # Choose random coordinate, this can also be run in a loop\n",
    "        width = image_sizes[i]\n",
    "        height =image_sizes[i]\n",
    "        pos_r =locx[i]\n",
    "        pos_c =locy[i]\n",
    "        image[0,:,pos_r:pos_r+height,pos_c:pos_c+width]=1\n",
    "        #print(pos_r, pos_c)\n",
    "\n",
    "        cx = pos_c #+ width/2.0\n",
    "        cy = pos_r #- height/2.0\n",
    "\n",
    "        box = [cx, cy, width, height, 1, 0]\n",
    "\n",
    "        test_gts.append(box)\n",
    "        imgs.append(image)\n",
    "    # Create ground truth object\n",
    "    test_gts2 = chainer.Variable(np.array(test_gts, dtype=np.float32))\n",
    "    return test_gts2, imgs \n",
    "\n",
    "test_gts, test_imgs = generate_test_set()\n",
    "test_gts\n",
    "\n",
    "img_test = test_imgs[1]\n",
    "\n",
    "plt.imshow(img_test[0,0,:,:])\n",
    "\n",
    "\n",
    "plt.show()\n"
   ]
  },
  {
   "cell_type": "markdown",
   "metadata": {},
   "source": [
    "### Conv net definitions "
   ]
  },
  {
   "cell_type": "code",
   "execution_count": 4,
   "metadata": {
    "ExecuteTime": {
     "end_time": "2017-11-21T17:45:08.081330Z",
     "start_time": "2017-11-21T17:45:08.021097Z"
    },
    "collapsed": true
   },
   "outputs": [],
   "source": [
    "from chainer import Chain\n",
    "import chainer\n",
    "import chainer.functions as F\n",
    "import chainer.links as L\n",
    "\n",
    "class ConvNet(Chain):\n",
    "    def __init__(self):\n",
    "        super(ConvNet, self).__init__(\n",
    "            l1=L.Convolution2D(None,32,ksize=(3,3),stride=1,pad=1),\n",
    "            l2=L.Convolution2D(32,32,ksize=(3,3),stride=1,pad=1),\n",
    "            l3=L.DilatedConvolution2D(32,32,ksize=(5,5),stride=1,pad=1),\n",
    "            l4=L.Convolution2D(32,32,ksize=(3,3),stride=1,pad=1),\n",
    "            l5=L.Convolution2D(32,32,ksize=(3,3),stride=1,pad=1),    \n",
    "            l6=L.DilatedConvolution2D(32,32,ksize=(7,7),stride=1,pad=1),\n",
    "            l7=L.Convolution2D(32,32,ksize=(3,3),stride=1,pad=1),\n",
    "            l8=L.Convolution2D(32,32,ksize=(3,3),stride=1,pad=1)\n",
    "            \n",
    "        )\n",
    "        \n",
    "    def __call__(self, x):\n",
    "        h1 = F.relu(self.l1(x))\n",
    "        h2= F.relu(self.l2(h1))\n",
    "        h3 = F.relu(self.l3(h2))\n",
    "#         h4 = F.max_pooling_2d(h3, 2)\n",
    "        \n",
    "        h5 = F.relu(self.l4(h3))\n",
    "        h6= F.relu(self.l5(h5))\n",
    "        h7 = F.relu(self.l6(h6))\n",
    "        h8 = F.relu(self.l7(h7))\n",
    "       \n",
    "        \n",
    "#         h8 = F.max_pooling_2d(h7, 2)\n",
    "#         h5 = F.relu(self.l3(h4))\n",
    "#         h6 = F.max_pooling_2d(h5, 2)\n",
    "#         h7 = F.relu(self.l4(h6))\n",
    "        \n",
    "        return self.l8(F.sigmoid(h8))\n",
    "    "
   ]
  },
  {
   "cell_type": "code",
   "execution_count": 5,
   "metadata": {
    "ExecuteTime": {
     "end_time": "2017-11-21T17:45:08.638800Z",
     "start_time": "2017-11-21T17:45:08.082754Z"
    }
   },
   "outputs": [
    {
     "data": {
      "text/plain": [
       "(1, 6, 122, 122)"
      ]
     },
     "execution_count": 5,
     "metadata": {},
     "output_type": "execute_result"
    }
   ],
   "source": [
    "class BoxNet(Chain):\n",
    "    def __init__(self, predictor):\n",
    "        super(BoxNet, self).__init__(\n",
    "            l1=L.Convolution2D(None,6,ksize=(3,3),stride=1,pad=1)\n",
    "        )\n",
    "        self.predictor = predictor\n",
    "        \n",
    "    def __call__(self, x):\n",
    "        h1 = self.l1(self.predictor(x))\n",
    "        return h1\n",
    "    \n",
    "convnet = ConvNet()\n",
    "boxnet = BoxNet(ConvNet())\n",
    "fm = convnet(img)\n",
    "shifts_all = boxnet(img)\n",
    "\n",
    "shifts= shifts_all[:,:,64,64]\n",
    "shifts =F.reshape(shifts,[1,6,1,1])\n",
    "shifts_all.shape"
   ]
  },
  {
   "cell_type": "code",
   "execution_count": 6,
   "metadata": {
    "ExecuteTime": {
     "end_time": "2017-11-21T17:45:08.651978Z",
     "start_time": "2017-11-21T17:45:08.644524Z"
    }
   },
   "outputs": [
    {
     "name": "stdout",
     "output_type": "stream",
     "text": [
      "shifts all shape : (1, 6, 122, 122)  \n",
      " shifts shape : (1, 6, 1, 1)\n",
      "------------------------------------------\n",
      "shifts value : variable([[[-0.19281699]]\n",
      "\n",
      "          [[-0.02144091]]\n",
      "\n",
      "          [[-1.23025   ]]\n",
      "\n",
      "          [[ 0.17830004]]\n",
      "\n",
      "          [[ 0.05188383]]\n",
      "\n",
      "          [[-0.49652088]]])\n"
     ]
    }
   ],
   "source": [
    "print('shifts all shape :', shifts_all.shape,  ' \\n shifts shape :', shifts.shape)\n",
    "print('------------------------------------------')\n",
    "print('shifts value :', shifts[0])"
   ]
  },
  {
   "cell_type": "markdown",
   "metadata": {},
   "source": [
    "### Generate Default boxes"
   ]
  },
  {
   "cell_type": "code",
   "execution_count": 7,
   "metadata": {
    "ExecuteTime": {
     "end_time": "2017-11-21T17:45:08.734330Z",
     "start_time": "2017-11-21T17:45:08.654843Z"
    },
    "collapsed": true
   },
   "outputs": [],
   "source": [
    "def defaultgen(I, F, width, height):\n",
    "    \"\"\"\n",
    "    Generates an array of default boxes: Chainer TESTED\n",
    "    \n",
    "    Args:\n",
    "        I: Input image tensor (N,channels,rows,cols)\n",
    "        F: Feature map tensor to generate default boxes for\n",
    "        width: Width of the box\n",
    "        height: Height of the box\n",
    "        \n",
    "    Returns:\n",
    "        db: Default boxes tensor, flattened\n",
    "    \"\"\"\n",
    "    scale = (I.shape[2] / F.shape[2])\n",
    "    offset = np.ones((2,F.shape[2],F.shape[3]), dtype=np.float32)\n",
    "    iterator = np.flip(np.indices((F.shape[2],F.shape[3])), axis=0).astype(np.float32)\n",
    "    \n",
    "    xys = offset * ((scale-1)/2) + iterator * scale\n",
    "    xys = np.moveaxis(xys,0,2)\n",
    "    ws = np.full((F.shape[2],F.shape[3],1), width, dtype=np.float32)\n",
    "    hs = np.full((F.shape[2],F.shape[3],1), height,dtype=np.float32)\n",
    "    class_scores = np.zeros((F.shape[2],F.shape[3],2), dtype=np.float32)\n",
    "    db = np.dstack([xys, ws, hs, class_scores])\n",
    "   \n",
    "    db = db[64,64,:]\n",
    "    db = db.reshape([1,1,6])\n",
    "    \n",
    "    return chainer.Variable(db.reshape((db.shape[0] * db.shape[1], 6)))\n"
   ]
  },
  {
   "cell_type": "code",
   "execution_count": 8,
   "metadata": {
    "ExecuteTime": {
     "end_time": "2017-11-21T17:45:08.824719Z",
     "start_time": "2017-11-21T17:45:08.736381Z"
    }
   },
   "outputs": [
    {
     "name": "stdout",
     "output_type": "stream",
     "text": [
      "def_boxes values: variable([[ 67.17212677  67.17212677  60.          60.           0.           0.        ]])\n",
      "---------------------------------------\n",
      "print shape of def boxes : (1, 6)\n"
     ]
    }
   ],
   "source": [
    "def_boxes = defaultgen(img,fm, 60,60)\n",
    "print('def_boxes values:', def_boxes)\n",
    "print('---------------------------------------')\n",
    "print('print shape of def boxes :', def_boxes.shape)"
   ]
  },
  {
   "cell_type": "markdown",
   "metadata": {},
   "source": [
    "### Center to coords \n",
    "\n",
    "This function has been checked, seems correct, some examples below"
   ]
  },
  {
   "cell_type": "code",
   "execution_count": 9,
   "metadata": {
    "ExecuteTime": {
     "end_time": "2017-11-21T17:45:08.893853Z",
     "start_time": "2017-11-21T17:45:08.826594Z"
    },
    "collapsed": true
   },
   "outputs": [],
   "source": [
    "def center_to_coords(box):\n",
    "    \"\"\" \n",
    "    Converts bounding box from (cx, cy, w, h) format to (x1, y1, x2, y2) format\n",
    "    \n",
    "    Args:\n",
    "        box: 6d numpy array\n",
    "        \n",
    "    Returns:\n",
    "        box_transformed: Box in the second format\n",
    "    \n",
    "    \"\"\"\n",
    "    box_transformed = np.array([box[0]-box[2]/2.0, box[1]-box[3]/2.0, box[0]+box[2]/2.0, box[1]+box[3]/2.0, box[4], box[5]])\n",
    "    return box_transformed\n",
    "\n"
   ]
  },
  {
   "cell_type": "markdown",
   "metadata": {
    "ExecuteTime": {
     "end_time": "2017-11-19T04:14:15.764172Z",
     "start_time": "2017-11-19T04:14:15.761232Z"
    }
   },
   "source": [
    "Checking center to coords..."
   ]
  },
  {
   "cell_type": "code",
   "execution_count": 10,
   "metadata": {
    "ExecuteTime": {
     "end_time": "2017-11-21T17:45:08.981964Z",
     "start_time": "2017-11-21T17:45:08.895373Z"
    }
   },
   "outputs": [
    {
     "data": {
      "text/plain": [
       "array([variable(37.17212677001953), variable(37.17212677001953),\n",
       "       variable(97.17212677001953), variable(97.17212677001953),\n",
       "       variable(0.0), variable(0.0)], dtype=object)"
      ]
     },
     "execution_count": 10,
     "metadata": {},
     "output_type": "execute_result"
    }
   ],
   "source": [
    "center_to_coords(def_boxes[0])"
   ]
  },
  {
   "cell_type": "code",
   "execution_count": 11,
   "metadata": {
    "ExecuteTime": {
     "end_time": "2017-11-21T17:45:09.049753Z",
     "start_time": "2017-11-21T17:45:08.983659Z"
    }
   },
   "outputs": [
    {
     "name": "stdout",
     "output_type": "stream",
     "text": [
      "[  73.5   -1.5  106.5   31.5    0.     0. ] [  8.5   7.5  11.5  10.5   0.    0. ]\n"
     ]
    }
   ],
   "source": [
    "# some more checks \n",
    "\n",
    "box1= np.array([10,9, 3,3,0,0])\n",
    "box2= np.array([90,15, 33,33,0,0])\n",
    "\n",
    "print(center_to_coords(box2), center_to_coords(box1)) "
   ]
  },
  {
   "cell_type": "markdown",
   "metadata": {},
   "source": [
    "### Draw boxes \n"
   ]
  },
  {
   "cell_type": "code",
   "execution_count": 12,
   "metadata": {
    "ExecuteTime": {
     "end_time": "2017-11-21T17:45:09.162961Z",
     "start_time": "2017-11-21T17:45:09.051708Z"
    },
    "collapsed": true
   },
   "outputs": [],
   "source": [
    "def draw_boxes(image, boxes):\n",
    "    img = image\n",
    "    plt.figure()\n",
    "    ax = plt.axes()\n",
    "\n",
    "    for box in boxes:\n",
    "        box = center_to_coords(box.data)\n",
    "        ax.imshow(img[0,0,:,:])\n",
    "        p = patches.Rectangle((box[0], box[1]), box[2]-box[0], box[3]-box[1], fill=False, color = 'red')\n",
    "        ax.add_patch(p)\n",
    "\n",
    "    \n",
    "    return ax\n",
    "ax  = draw_boxes(img, def_boxes)"
   ]
  },
  {
   "cell_type": "markdown",
   "metadata": {},
   "source": [
    "### Get prediction boxes \n",
    "\n",
    "This seems to be correct as well"
   ]
  },
  {
   "cell_type": "code",
   "execution_count": 13,
   "metadata": {
    "ExecuteTime": {
     "end_time": "2017-11-21T17:45:09.236748Z",
     "start_time": "2017-11-21T17:45:09.164805Z"
    },
    "collapsed": true
   },
   "outputs": [],
   "source": [
    "def get_pred_boxes(shift_vals, default_boxes ): \n",
    "    \"\"\"\n",
    "    Get predicted boxes by combining shift values to default boxes\n",
    "    Input: \n",
    "\n",
    "    shift_values : Shifts generated by the network  NDarray (None, Num of Default boxes, 4+num of classes)\n",
    "    Default boxes  : Default boxes generated by the network NDarray (None, Num of Default boxes, 4+num of classes)\n",
    "\n",
    "    Output: \n",
    "\n",
    "    Predicted boxes  : Predicted boxes, same shape as default boxes  NDarray (None, Num of Default boxes, 4+num of classes)\n",
    "\n",
    "    \"\"\"\n",
    "    \n",
    "    shift_val_shape= default_boxes.shape\n",
    "    shift_vals= F.swapaxes(shift_vals,1,3)\n",
    "    shift_vals= F.reshape(shift_vals,shift_val_shape)\n",
    "    \n",
    "    shifts = shift_vals \n",
    "    def_boxes= default_boxes\n",
    "    \n",
    "    \n",
    "    cx_pred = (shifts[:,0]*def_boxes[:,2])+def_boxes[:,0]\n",
    "    cy_pred = (shifts[:,1]*def_boxes[:,3])+def_boxes[:,1]\n",
    "    \n",
    "    H_pred = F.exp(shifts[:,3])*def_boxes[:,3]\n",
    "    W_pred = F.exp(shifts[:,2])*def_boxes[:,2]\n",
    "    \n",
    "    class1 = shifts[:,4]\n",
    "    class2 = shifts[:,5]\n",
    "    \n",
    "    \n",
    "    pred_boxes = F.vstack((cx_pred,cy_pred,W_pred,H_pred, class1, class2))\n",
    "    pred_boxes = F.transpose(pred_boxes)\n",
    "    \n",
    "    return  pred_boxes "
   ]
  },
  {
   "cell_type": "code",
   "execution_count": 14,
   "metadata": {
    "ExecuteTime": {
     "end_time": "2017-11-21T17:45:09.350243Z",
     "start_time": "2017-11-21T17:45:09.238708Z"
    }
   },
   "outputs": [
    {
     "name": "stdout",
     "output_type": "stream",
     "text": [
      "prediction box coordinates : variable([[  5.56031075e+01   6.58856735e+01   1.75331707e+01\n",
      "             7.17110291e+01   5.18838316e-02  -4.96520877e-01]])\n"
     ]
    }
   ],
   "source": [
    "pred_boxes= get_pred_boxes(shifts, def_boxes)\n",
    "print('prediction box coordinates :', pred_boxes)"
   ]
  },
  {
   "cell_type": "code",
   "execution_count": 15,
   "metadata": {
    "ExecuteTime": {
     "end_time": "2017-11-21T17:45:09.451421Z",
     "start_time": "2017-11-21T17:45:09.352091Z"
    }
   },
   "outputs": [
    {
     "data": {
      "text/plain": [
       "variable([[[[-0.19281699]],\n",
       "\n",
       "           [[-0.02144091]],\n",
       "\n",
       "           [[-1.23025   ]],\n",
       "\n",
       "           [[ 0.17830004]],\n",
       "\n",
       "           [[ 0.05188383]],\n",
       "\n",
       "           [[-0.49652088]]]])"
      ]
     },
     "execution_count": 15,
     "metadata": {},
     "output_type": "execute_result"
    }
   ],
   "source": [
    "shifts"
   ]
  },
  {
   "cell_type": "code",
   "execution_count": 16,
   "metadata": {
    "ExecuteTime": {
     "end_time": "2017-11-21T17:45:09.537457Z",
     "start_time": "2017-11-21T17:45:09.453355Z"
    }
   },
   "outputs": [
    {
     "data": {
      "text/plain": [
       "variable([[ 67.17212677,  67.17212677,  60.        ,  60.        ,\n",
       "             0.        ,   0.        ]])"
      ]
     },
     "execution_count": 16,
     "metadata": {},
     "output_type": "execute_result"
    }
   ],
   "source": [
    "def_boxes"
   ]
  },
  {
   "cell_type": "markdown",
   "metadata": {},
   "source": [
    "### Draw predicted boxes"
   ]
  },
  {
   "cell_type": "code",
   "execution_count": 17,
   "metadata": {
    "ExecuteTime": {
     "end_time": "2017-11-21T17:45:09.685919Z",
     "start_time": "2017-11-21T17:45:09.539310Z"
    }
   },
   "outputs": [
    {
     "data": {
      "image/png": "[encoded data removed]",
      "text/plain": [
       "<matplotlib.figure.Figure at 0x7f9c6c2b0e48>"
      ]
     },
     "metadata": {},
     "output_type": "display_data"
    }
   ],
   "source": [
    "\n",
    "def draw_pred_boxes(prediction_boxes,img, ax): \n",
    "    \"\"\"Draw predicted boxes on the original image \"\"\"\n",
    "    box =prediction_boxes\n",
    "    \n",
    "    for box in prediction_boxes:\n",
    "        box2= box.data\n",
    "        box = center_to_coords(box.data)\n",
    "        ax.imshow(img[0,0,:,:])\n",
    "        p = patches.Rectangle((box2[0], box2[1]), box[2]-box[0], box[3]-box[1], fill=False, color = 'green')\n",
    "        ax.add_patch(p)\n",
    "\n",
    "\n",
    "    plt.show()\n",
    "\n",
    "draw_pred_boxes(pred_boxes, img, ax)"
   ]
  },
  {
   "cell_type": "markdown",
   "metadata": {
    "ExecuteTime": {
     "end_time": "2017-11-19T06:23:08.749346Z",
     "start_time": "2017-11-19T06:23:08.729143Z"
    }
   },
   "source": [
    "### Normalize shifts     "
   ]
  },
  {
   "cell_type": "code",
   "execution_count": 18,
   "metadata": {
    "ExecuteTime": {
     "end_time": "2017-11-21T17:45:09.717096Z",
     "start_time": "2017-11-21T17:45:09.687558Z"
    },
    "collapsed": true
   },
   "outputs": [],
   "source": [
    "\n",
    "def normalize_shift(box, def_box):\n",
    "    \"\"\"\n",
    "    Scales down absolute shifts, % for centers, log for height and width.\n",
    "    \n",
    "    Args:\n",
    "        box: 6x1 bounding box coordinates\n",
    "        def_box: 6x1 reference box coordinates\n",
    "        \n",
    "    Returns:\n",
    "        normalized_shift_vector: 4x1 normalized shift vector. Note that we discard the last 2 channels.\n",
    "    \"\"\"\n",
    "    tx = (box[0] - def_box[0])/def_box[2]\n",
    "    ty = (box[1] - def_box[1])/def_box[3]\n",
    "    tw = log(box[2]/def_box[2])\n",
    "    th = log(box[3]/def_box[3])\n",
    "    \n",
    "    return hstack([tx, ty, tw, th])\n",
    "    "
   ]
  },
  {
   "cell_type": "markdown",
   "metadata": {},
   "source": [
    "### Regression loss \n",
    "\n",
    "This too seems to work "
   ]
  },
  {
   "cell_type": "code",
   "execution_count": 19,
   "metadata": {
    "ExecuteTime": {
     "end_time": "2017-11-21T17:45:09.798608Z",
     "start_time": "2017-11-21T17:45:09.719170Z"
    }
   },
   "outputs": [
    {
     "name": "stdout",
     "output_type": "stream",
     "text": [
      " regression loss value : variable([ 0.12900761])\n"
     ]
    }
   ],
   "source": [
    "def regression_loss(pred_box, gt_box, def_box):\n",
    "    \"\"\"\n",
    "    Calculates regression loss between two boxes w.r.t a reference default box.\n",
    "    \n",
    "    Args:\n",
    "        pred_box: 6x1 bounding box predicted by the network\n",
    "        gt_box: 6x1 bounding box overlapping with pred_box\n",
    "        def_box: 6x1 bounding box with same index as pred_box\n",
    "        \n",
    "    Returns:\n",
    "        reg_loss: Scalar of huber loss between two vectors\n",
    "    \"\"\"\n",
    "    \n",
    "    gt_normalized  = normalize_shift(gt_box[0],def_box[0])\n",
    "    pred_normalized = normalize_shift(pred_box[0],def_box[0])\n",
    "  \n",
    "    gt_normalized = gt_normalized\n",
    "    pred_normalized = pred_normalized\n",
    "    gt_normalized = gt_normalized.reshape((1,4))\n",
    "    pred_normalized = pred_normalized.reshape((1,4))\n",
    "    # l1 loss \n",
    "#     loss_val= pred_normalized - gt_normalized \n",
    "#     x_reg = F.absolute(loss_val )\n",
    "#     x_reg =F.sum(x_reg)\n",
    "    \n",
    "    #huber loss \n",
    "    return F.huber_loss(gt_normalized,pred_normalized, delta =0.2)\n",
    "    \n",
    "    \n",
    "reg_loss_value = regression_loss(pred_boxes, gt, pred_boxes)\n",
    "print(' regression loss value :', reg_loss_value)\n",
    "\n",
    "\n"
   ]
  },
  {
   "cell_type": "code",
   "execution_count": 20,
   "metadata": {
    "ExecuteTime": {
     "end_time": "2017-11-21T17:45:10.018522Z",
     "start_time": "2017-11-21T17:45:09.800123Z"
    },
    "collapsed": true
   },
   "outputs": [],
   "source": [
    "def compute_loss(gt_boxes, pred_boxes, def_boxes):\n",
    "    \n",
    "    loss_class = chainer.Variable(np.array([0.], dtype=np.float32))\n",
    "    loss_reg = chainer.Variable(np.array([0.], dtype=np.float32))\n",
    "    \n",
    "    gt_box, pred_box, def_box = gt_boxes, pred_boxes, def_boxes    \n",
    "#     loss_reg += regression_loss(pred_box, gt_box, def_box)\n",
    "    loss_reg = regression_loss(pred_box, gt_box, def_box)\n",
    "    \n",
    "    return loss_reg \n"
   ]
  },
  {
   "cell_type": "markdown",
   "metadata": {},
   "source": [
    "### Get aspect ratio "
   ]
  },
  {
   "cell_type": "code",
   "execution_count": 21,
   "metadata": {
    "ExecuteTime": {
     "end_time": "2017-11-21T17:45:10.131392Z",
     "start_time": "2017-11-21T17:45:10.020079Z"
    }
   },
   "outputs": [
    {
     "name": "stdout",
     "output_type": "stream",
     "text": [
      "height list : [360, 240, 60, 30]\n",
      "------------------------------\n",
      "width list : [40, 60, 240, 480]\n"
     ]
    }
   ],
   "source": [
    "def get_aspect_ratios(def_size ):\n",
    "\n",
    "    def_area = def_size*def_size\n",
    "    aspect_ratios = [3, 2,0.50, 0.25]\n",
    "    height_list =[]\n",
    "    width_list = []\n",
    "\n",
    "    for i in aspect_ratios: \n",
    "\n",
    "        height_list.append(int(def_size*i))  \n",
    "        width_list.append(int(def_area/(def_size*i)) )\n",
    "\n",
    "    return height_list,width_list\n",
    "\n",
    "def_size= 120 \n",
    "height_list, width_list= get_aspect_ratios(def_size)\n",
    "\n",
    "\n",
    "print('height list :',height_list)\n",
    "print('------------------------------')\n",
    "print('width list :', width_list)"
   ]
  },
  {
   "cell_type": "markdown",
   "metadata": {},
   "source": [
    "### Do the matching "
   ]
  },
  {
   "cell_type": "markdown",
   "metadata": {},
   "source": [
    "#### IOU cpu"
   ]
  },
  {
   "cell_type": "code",
   "execution_count": 22,
   "metadata": {
    "ExecuteTime": {
     "end_time": "2017-11-21T17:45:10.220028Z",
     "start_time": "2017-11-21T17:45:10.133442Z"
    },
    "collapsed": true
   },
   "outputs": [],
   "source": [
    "# Let's define some useful functions first.\n",
    "# Work with chainer variables for instahook.\n",
    "#from chainer.functions import max, min, hstack\n",
    "\n",
    "def iou_cpu(boxA, boxB):\n",
    "    \"\"\"\n",
    "    Calculates intersection over union score of two rectangles, none of them rotated.: TESTED\n",
    "    \n",
    "    Args:\n",
    "        boxA: Box1\n",
    "        boxB: Box2\n",
    "        \n",
    "    Returns:\n",
    "        iou (scalar): IOU score of the two boxes\n",
    "    \"\"\"\n",
    "        # determine the (x, y)-coordinates of the intersection rectangle\n",
    "        # Maybe we can accelerate this by writing this as a cython extension\n",
    "        \n",
    "    boxA = center_to_coords(boxA)\n",
    "    boxB = center_to_coords(boxB)\n",
    "    \n",
    "    xA = max(boxA[0], boxB[0])\n",
    "    yA = max(boxA[1], boxB[1])\n",
    "    xB = min(boxA[2], boxB[2])\n",
    "    yB = min(boxA[3], boxB[3])\n",
    "    \n",
    "    # compute the area of intersection rectangle\n",
    "    interArea = max((xB - xA), 0) * max((yB - yA), 0)\n",
    "    \n",
    "    # compute the area of both the prediction and ground-truth\n",
    "    # rectangles\n",
    "    boxa_area = (boxA[2] - boxA[0]) * (boxA[3] - boxA[1])\n",
    "    boxb_area = (boxB[2] - boxB[0]) * (boxB[3] - boxB[1])\n",
    "    \n",
    "    # compute the intersection over union by taking the intersection\n",
    "    # area and dividing it by the sum of prediction + ground-truth\n",
    "    # areas - the interesection area\n",
    "    #print(interArea, boxa_area, boxb_area)\n",
    "    iou = interArea / (boxa_area + boxb_area - interArea)\n",
    "\n",
    "    # return the intersection over union value\n",
    "    return iou\n",
    "\n",
    "\n"
   ]
  },
  {
   "cell_type": "markdown",
   "metadata": {},
   "source": [
    "#### Find matching indices "
   ]
  },
  {
   "cell_type": "code",
   "execution_count": 23,
   "metadata": {
    "ExecuteTime": {
     "end_time": "2017-11-21T17:45:10.342550Z",
     "start_time": "2017-11-21T17:45:10.221879Z"
    },
    "collapsed": true
   },
   "outputs": [],
   "source": [
    "def find_match_indices_cpu(def_box, gt): \n",
    "    \"\"\"\n",
    "    Find matches between ground truth boxes and boxes predicted by network.\n",
    "    \n",
    "    Args:\n",
    "        gt (): Tensor of ground truth boxes\n",
    "        pred_boxes (): Tensor of default boxes\n",
    "        \n",
    "    Returns:\n",
    "        pos_inds: Indices of the connectivity matrix where there is a positive match\n",
    "        neg_inds: Indices of the connectivity matrix where there is a negative match\n",
    "    \"\"\"\n",
    "    \n",
    "    \n",
    "    pos_iou_score =  np.zeros((gt.shape[0], def_box.shape[0]), dtype=np.float32)\n",
    "    neg_iou_score = np.ones((gt.shape[0], def_box.shape[0]), dtype=np.float32)\n",
    "    iou_score =  np.zeros((gt.shape[0], def_box.shape[0]), dtype=np.float32)\n",
    "    \n",
    "    thresh = 0.1\n",
    "    \n",
    "    for i in range(gt.shape[0]): \n",
    "        for j in range(def_box.shape[0]): \n",
    "            iou_score[i,j]  = iou_cpu(gt[i].data, def_box[j].data)\n",
    "            iou_value =  iou_cpu(gt[i].data, def_box[j].data)\n",
    "            \n",
    "            if iou_value > thresh:  \n",
    "                pos_iou_score[i,j] = iou_value\n",
    "            else :\n",
    "                neg_iou_score[i,j] = iou_value\n",
    "    \n",
    "    pos_inds  = np.argwhere(pos_iou_score>thresh)\n",
    "    \n",
    "    if not pos_inds: \n",
    "         pos_inds = np.argwhere(np.max(iou_score))\n",
    "            \n",
    "    neg_inds = np.argwhere(neg_iou_score<=thresh)\n",
    "    \n",
    "    return  pos_inds, neg_inds,iou_score, pos_iou_score, neg_iou_score\n"
   ]
  },
  {
   "cell_type": "code",
   "execution_count": 24,
   "metadata": {
    "ExecuteTime": {
     "end_time": "2017-11-21T17:45:10.436654Z",
     "start_time": "2017-11-21T17:45:10.344861Z"
    }
   },
   "outputs": [
    {
     "data": {
      "text/plain": [
       "array([[ 0.06944445,  0.03749517,  0.05166527,  0.06944445,  0.02607795]], dtype=float32)"
      ]
     },
     "execution_count": 24,
     "metadata": {},
     "output_type": "execute_result"
    }
   ],
   "source": [
    "## lets test the above functions \n",
    "def_size =120 \n",
    "height_list, width_list  = get_aspect_ratios(def_size )\n",
    "def_boxes_all = defaultgen(img,fm,def_size, def_size)\n",
    "def_box_new = chainer.Variable(np.zeros([1,6],dtype = np.float32) )\n",
    "def_box_new.copydata(def_boxes_all)\n",
    "\n",
    "for i in range(len(height_list)): \n",
    "\n",
    "    def_box_new.data[0][2:4]=height_list[i], width_list[i]    \n",
    "    def_boxes_all = F.vstack((def_boxes_all,def_box_new))\n",
    "    \n",
    "\n",
    "pos_inds, neg_inds, iou_score, pos_iou_score, neg_iou_score = find_match_indices_cpu(def_boxes_all, gt)\n",
    "iou_score\n",
    "\n"
   ]
  },
  {
   "cell_type": "markdown",
   "metadata": {
    "ExecuteTime": {
     "end_time": "2017-11-19T06:31:55.610205Z",
     "start_time": "2017-11-19T06:31:55.606389Z"
    }
   },
   "source": [
    "### Eveyrthing connected\n",
    "\n",
    "Now we connect it all and first test x regression, they y regression and then combination of both\n",
    "\n",
    "could it be that the aspect ratio of a box vs the aspect ratio of the default box have something to do with the loss? \n"
   ]
  },
  {
   "cell_type": "code",
   "execution_count": 25,
   "metadata": {
    "ExecuteTime": {
     "end_time": "2017-11-21T17:45:10.755722Z",
     "start_time": "2017-11-21T17:45:10.438654Z"
    },
    "collapsed": true
   },
   "outputs": [],
   "source": [
    "from chainer.optimizers import SGD,Adam,MomentumSGD\n",
    "from tqdm import tqdm\n",
    "import matplotlib.pyplot as plt\n",
    "\n",
    "def all_connected(posr, posc, width_gt, height_gt, alpha, number_loops, pos_diff):\n",
    "    \"\"\"\n",
    "    Input\n",
    "\n",
    "    width_gt     : width of the ground truth box \n",
    "    height_gt    : height of the ground truth box \n",
    "    alpha        : alpha value for the adam optimizer \n",
    "    number_loops : number of examples generate\n",
    "\n",
    "\n",
    "    Ouput \n",
    "    Image of the loss function \n",
    "    Loss history \n",
    "    \"\"\"\n",
    "\n",
    "    \n",
    "    \n",
    "    boxnet = BoxNet(ConvNet())\n",
    "\n",
    "    optimizer =Adam(alpha= alpha)\n",
    "    optimizer.setup(boxnet)\n",
    "    loss_history = []\n",
    "    def_size =120 \n",
    "    height_list, width_list = get_aspect_ratios(def_size)\n",
    "    width_list=[def_size]\n",
    "    height_list=[def_size]\n",
    "    run_number =[]\n",
    "    size_list =[]\n",
    "    \n",
    "    for i in tqdm(range(number_loops)):\n",
    "        \n",
    "        width_gt =  np.random.randint(40, 55) \n",
    "        height_gt = width_gt\n",
    "        posy = 40+posdiff\n",
    "        posr = np.random.randint(40, posy) \n",
    "        posc = np.random.randint(40,  posy) \n",
    "        \n",
    "        gt, img =get_single_image(posr, posc, width_gt, height_gt)\n",
    "\n",
    "\n",
    "        # Initializing the network and computing the features and shifts\n",
    "        #fm = convnet(img)\n",
    "        shifts2 = boxnet(img)\n",
    "        shifts2= shifts2[:,:,64,64]\n",
    "        shifts2 =F.reshape(shifts2,[1,6,1,1])\n",
    "\n",
    "        # Getting default_boxes and predictions\n",
    "        # Forward pass ends here\n",
    "        loss_total = chainer.Variable(np.array([0.], dtype=np.float32))\n",
    "\n",
    "        for j in [0]: \n",
    "            \n",
    "            def_boxes2 = defaultgen(img, fm,60 ,60 )\n",
    "            pred_boxes2 = get_pred_boxes(shifts2, def_boxes2)\n",
    "            \n",
    "            loss = compute_loss( gt ,pred_boxes2, def_boxes2)\n",
    "            loss_total += loss\n",
    "\n",
    "        if i % 100==0: \n",
    "            ax=draw_boxes(img,def_boxes2)\n",
    "            draw_pred_boxes(pred_boxes2, img, ax)\n",
    "            print('pred box loc:  ' , pred_boxes2[0][0],pred_boxes2[0][1] )\n",
    "            print('gt', gt)\n",
    "        boxnet.zerograds()\n",
    "        loss_history.append(loss_total.data)\n",
    "        size_list.append(width_gt)\n",
    "        \n",
    "        loss_total.backward()\n",
    "\n",
    "        optimizer.update()\n",
    "\n",
    "#     plt.figure(figsize=(30,10))\n",
    "#     plt.plot(range(len(loss_history)), loss_history)\n",
    "#     plt.ylim([0,1])\n",
    "#     plt.show()\n",
    "\n",
    "    return loss_history, pred_boxes2,def_boxes2,  gt,img, boxnet\n"
   ]
  },
  {
   "cell_type": "code",
   "execution_count": 26,
   "metadata": {
    "ExecuteTime": {
     "end_time": "2017-11-21T17:45:10.768414Z",
     "start_time": "2017-11-21T17:45:10.757465Z"
    },
    "collapsed": true
   },
   "outputs": [],
   "source": [
    "def testing_model(model, test_imgs,test_gts): \n",
    "\n",
    "    test_pred_boxes_all = []\n",
    "\n",
    "    for i in range(len(test_imgs)): \n",
    "        test_shifts=boxnet(test_imgs[i])\n",
    "        test_shifts = test_shifts[:,:,64,64]\n",
    "\n",
    "        test_shifts =F.reshape(test_shifts,[1,6,1,1])\n",
    "        test_def_boxes = defaultgen(test_imgs[i], fm,height_list[0] ,width_list[0])\n",
    "        test_pred_boxes = get_pred_boxes(test_shifts, test_def_boxes)\n",
    "        test_pred_boxes_all.append(test_pred_boxes)\n",
    "\n",
    "    return test_pred_boxes_all "
   ]
  },
  {
   "cell_type": "code",
   "execution_count": 27,
   "metadata": {
    "ExecuteTime": {
     "end_time": "2017-11-21T17:45:10.877678Z",
     "start_time": "2017-11-21T17:45:10.770327Z"
    }
   },
   "outputs": [
    {
     "data": {
      "text/plain": [
       "([360, 240, 60, 30], [40, 60, 240, 480])"
      ]
     },
     "execution_count": 27,
     "metadata": {},
     "output_type": "execute_result"
    }
   ],
   "source": [
    "height_list, width_list"
   ]
  },
  {
   "cell_type": "markdown",
   "metadata": {},
   "source": [
    "\n",
    "## Experiments "
   ]
  },
  {
   "cell_type": "code",
   "execution_count": 28,
   "metadata": {
    "ExecuteTime": {
     "end_time": "2017-11-21T18:08:25.902965Z",
     "start_time": "2017-11-21T17:45:10.879327Z"
    },
    "scrolled": false
   },
   "outputs": [
    {
     "name": "stderr",
     "output_type": "stream",
     "text": [
      "\r",
      "  0%|          | 0/3000 [00:00<?, ?it/s]"
     ]
    },
    {
     "data": {
      "image/png": "[encoded data removed]",
      "text/plain": [
       "<matplotlib.figure.Figure at 0x7f9c1568cb70>"
      ]
     },
     "metadata": {},
     "output_type": "display_data"
    },
    {
     "name": "stdout",
     "output_type": "stream",
     "text": [
      "pred box loc:   variable(81.0177993774414) variable(31.027008056640625)\n",
      "gt variable([[ 46.  46.  50.  50.   1.   0.]])\n"
     ]
    },
    {
     "name": "stderr",
     "output_type": "stream",
     "text": [
      "  3%|▎         | 100/3000 [00:48<22:22,  2.16it/s]"
     ]
    },
    {
     "data": {
      "image/png": "[encoded data removed]",
      "text/plain": [
       "<matplotlib.figure.Figure at 0x7f9c15687fd0>"
      ]
     },
     "metadata": {},
     "output_type": "display_data"
    },
    {
     "name": "stdout",
     "output_type": "stream",
     "text": [
      "pred box loc:   variable(74.76278686523438) variable(36.689781188964844)\n",
      "gt variable([[ 41.  43.  52.  52.   1.   0.]])\n"
     ]
    },
    {
     "name": "stderr",
     "output_type": "stream",
     "text": [
      "  7%|▋         | 200/3000 [01:34<21:33,  2.16it/s]"
     ]
    },
    {
     "data": {
      "image/png": "[encoded data removed]",
      "text/plain": [
       "<matplotlib.figure.Figure at 0x7f9c15620400>"
      ]
     },
     "metadata": {},
     "output_type": "display_data"
    },
    {
     "name": "stdout",
     "output_type": "stream",
     "text": [
      "pred box loc:   variable(68.50778198242188) variable(40.64240646362305)\n",
      "gt variable([[ 45.  42.  41.  41.   1.   0.]])\n"
     ]
    },
    {
     "name": "stderr",
     "output_type": "stream",
     "text": [
      " 10%|█         | 300/3000 [02:20<20:39,  2.18it/s]"
     ]
    },
    {
     "data": {
      "image/png": "[encoded data removed]",
      "text/plain": [
       "<matplotlib.figure.Figure at 0x7f9c155892b0>"
      ]
     },
     "metadata": {},
     "output_type": "display_data"
    },
    {
     "name": "stdout",
     "output_type": "stream",
     "text": [
      "pred box loc:   variable(62.252777099609375) variable(42.71815872192383)\n",
      "gt variable([[ 43.  44.  40.  40.   1.   0.]])\n"
     ]
    },
    {
     "name": "stderr",
     "output_type": "stream",
     "text": [
      " 13%|█▎        | 400/3000 [03:07<20:02,  2.16it/s]"
     ]
    },
    {
     "data": {
      "image/png": "[encoded data removed]",
      "text/plain": [
       "<matplotlib.figure.Figure at 0x7f9c155aac88>"
      ]
     },
     "metadata": {},
     "output_type": "display_data"
    },
    {
     "name": "stdout",
     "output_type": "stream",
     "text": [
      "pred box loc:   variable(56.03458786010742) variable(43.29572677612305)\n",
      "gt variable([[ 40.  45.  43.  43.   1.   0.]])\n"
     ]
    },
    {
     "name": "stderr",
     "output_type": "stream",
     "text": [
      " 17%|█▋        | 500/3000 [03:53<19:20,  2.15it/s]"
     ]
    },
    {
     "data": {
      "image/png": "[encoded data removed]",
      "text/plain": [
       "<matplotlib.figure.Figure at 0x7f9c15593320>"
      ]
     },
     "metadata": {},
     "output_type": "display_data"
    },
    {
     "name": "stdout",
     "output_type": "stream",
     "text": [
      "pred box loc:   variable(50.888511657714844) variable(43.776363372802734)\n",
      "gt variable([[ 44.  40.  41.  41.   1.   0.]])\n"
     ]
    },
    {
     "name": "stderr",
     "output_type": "stream",
     "text": [
      " 20%|██        | 600/3000 [04:39<18:13,  2.19it/s]"
     ]
    },
    {
     "data": {
      "image/png": "[encoded data removed]",
      "text/plain": [
       "<matplotlib.figure.Figure at 0x7f9c155d6fd0>"
      ]
     },
     "metadata": {},
     "output_type": "display_data"
    },
    {
     "name": "stdout",
     "output_type": "stream",
     "text": [
      "pred box loc:   variable(47.60572052001953) variable(43.58045196533203)\n",
      "gt variable([[ 43.  46.  48.  48.   1.   0.]])\n"
     ]
    },
    {
     "name": "stderr",
     "output_type": "stream",
     "text": [
      " 23%|██▎       | 700/3000 [05:27<18:23,  2.09it/s]"
     ]
    },
    {
     "data": {
      "image/png": "[encoded data removed]",
      "text/plain": [
       "<matplotlib.figure.Figure at 0x7f9c1573af60>"
      ]
     },
     "metadata": {},
     "output_type": "display_data"
    },
    {
     "name": "stdout",
     "output_type": "stream",
     "text": [
      "pred box loc:   variable(45.62382507324219) variable(43.47063064575195)\n",
      "gt variable([[ 41.  45.  43.  43.   1.   0.]])\n"
     ]
    },
    {
     "name": "stderr",
     "output_type": "stream",
     "text": [
      " 27%|██▋       | 800/3000 [06:14<17:31,  2.09it/s]"
     ]
    },
    {
     "data": {
      "image/png": "[encoded data removed]",
      "text/plain": [
       "<matplotlib.figure.Figure at 0x7f9c15782668>"
      ]
     },
     "metadata": {},
     "output_type": "display_data"
    },
    {
     "name": "stdout",
     "output_type": "stream",
     "text": [
      "pred box loc:   variable(44.389732360839844) variable(43.80272674560547)\n",
      "gt variable([[ 46.  46.  50.  50.   1.   0.]])\n"
     ]
    },
    {
     "name": "stderr",
     "output_type": "stream",
     "text": [
      " 30%|███       | 900/3000 [07:00<15:57,  2.19it/s]"
     ]
    },
    {
     "data": {
      "image/png": "[encoded data removed]",
      "text/plain": [
       "<matplotlib.figure.Figure at 0x7f9c15632358>"
      ]
     },
     "metadata": {},
     "output_type": "display_data"
    },
    {
     "name": "stdout",
     "output_type": "stream",
     "text": [
      "pred box loc:   variable(43.83335876464844) variable(43.91937255859375)\n",
      "gt variable([[ 46.  40.  42.  42.   1.   0.]])\n"
     ]
    },
    {
     "name": "stderr",
     "output_type": "stream",
     "text": [
      " 33%|███▎      | 1000/3000 [07:46<15:53,  2.10it/s]"
     ]
    },
    {
     "data": {
      "image/png": "[encoded data removed]",
      "text/plain": [
       "<matplotlib.figure.Figure at 0x7f9c15511cc0>"
      ]
     },
     "metadata": {},
     "output_type": "display_data"
    },
    {
     "name": "stdout",
     "output_type": "stream",
     "text": [
      "pred box loc:   variable(43.67223358154297) variable(43.335411071777344)\n",
      "gt variable([[ 40.  40.  43.  43.   1.   0.]])\n"
     ]
    },
    {
     "name": "stderr",
     "output_type": "stream",
     "text": [
      " 37%|███▋      | 1100/3000 [08:32<14:37,  2.17it/s]"
     ]
    },
    {
     "data": {
      "image/png": "[encoded data removed]",
      "text/plain": [
       "<matplotlib.figure.Figure at 0x7f9c154cb470>"
      ]
     },
     "metadata": {},
     "output_type": "display_data"
    },
    {
     "name": "stdout",
     "output_type": "stream",
     "text": [
      "pred box loc:   variable(43.846134185791016) variable(43.730133056640625)\n",
      "gt variable([[ 43.  45.  49.  49.   1.   0.]])\n"
     ]
    },
    {
     "name": "stderr",
     "output_type": "stream",
     "text": [
      " 40%|████      | 1200/3000 [09:19<13:41,  2.19it/s]"
     ]
    },
    {
     "data": {
      "image/png": "[encoded data removed]",
      "text/plain": [
       "<matplotlib.figure.Figure at 0x7f9c1549f240>"
      ]
     },
     "metadata": {},
     "output_type": "display_data"
    },
    {
     "name": "stdout",
     "output_type": "stream",
     "text": [
      "pred box loc:   variable(43.55897521972656) variable(43.650604248046875)\n",
      "gt variable([[ 46.  45.  42.  42.   1.   0.]])\n"
     ]
    },
    {
     "name": "stderr",
     "output_type": "stream",
     "text": [
      " 43%|████▎     | 1300/3000 [10:05<13:00,  2.18it/s]"
     ]
    },
    {
     "data": {
      "image/png": "[encoded data removed]",
      "text/plain": [
       "<matplotlib.figure.Figure at 0x7f9c1549b5c0>"
      ]
     },
     "metadata": {},
     "output_type": "display_data"
    },
    {
     "name": "stdout",
     "output_type": "stream",
     "text": [
      "pred box loc:   variable(43.51398468017578) variable(43.3160400390625)\n",
      "gt variable([[ 43.  46.  45.  45.   1.   0.]])\n"
     ]
    },
    {
     "name": "stderr",
     "output_type": "stream",
     "text": [
      " 47%|████▋     | 1400/3000 [10:51<12:17,  2.17it/s]"
     ]
    },
    {
     "data": {
      "image/png": "[encoded data removed]",
      "text/plain": [
       "<matplotlib.figure.Figure at 0x7f9c153c8a90>"
      ]
     },
     "metadata": {},
     "output_type": "display_data"
    },
    {
     "name": "stdout",
     "output_type": "stream",
     "text": [
      "pred box loc:   variable(43.20158386230469) variable(43.59858322143555)\n",
      "gt variable([[ 45.  41.  50.  50.   1.   0.]])\n"
     ]
    },
    {
     "name": "stderr",
     "output_type": "stream",
     "text": [
      " 50%|█████     | 1500/3000 [11:37<11:24,  2.19it/s]"
     ]
    },
    {
     "data": {
      "image/png": "[encoded data removed]",
      "text/plain": [
       "<matplotlib.figure.Figure at 0x7f9c1540af60>"
      ]
     },
     "metadata": {},
     "output_type": "display_data"
    },
    {
     "name": "stdout",
     "output_type": "stream",
     "text": [
      "pred box loc:   variable(43.1336669921875) variable(43.392181396484375)\n",
      "gt variable([[ 46.  47.  42.  42.   1.   0.]])\n"
     ]
    },
    {
     "name": "stderr",
     "output_type": "stream",
     "text": [
      " 53%|█████▎    | 1600/3000 [12:25<10:50,  2.15it/s]"
     ]
    },
    {
     "data": {
      "image/png": "[encoded data removed]",
      "text/plain": [
       "<matplotlib.figure.Figure at 0x7f9c154f1ac8>"
      ]
     },
     "metadata": {},
     "output_type": "display_data"
    },
    {
     "name": "stdout",
     "output_type": "stream",
     "text": [
      "pred box loc:   variable(43.32940673828125) variable(43.50252151489258)\n",
      "gt variable([[ 40.  46.  41.  41.   1.   0.]])\n"
     ]
    },
    {
     "name": "stderr",
     "output_type": "stream",
     "text": [
      " 57%|█████▋    | 1700/3000 [13:11<09:57,  2.17it/s]"
     ]
    },
    {
     "data": {
      "image/png": "[encoded data removed]",
      "text/plain": [
       "<matplotlib.figure.Figure at 0x7f9c1547ea58>"
      ]
     },
     "metadata": {},
     "output_type": "display_data"
    },
    {
     "name": "stdout",
     "output_type": "stream",
     "text": [
      "pred box loc:   variable(43.36263656616211) variable(43.46795654296875)\n",
      "gt variable([[ 47.  46.  44.  44.   1.   0.]])\n"
     ]
    },
    {
     "name": "stderr",
     "output_type": "stream",
     "text": [
      " 60%|██████    | 1800/3000 [13:59<09:07,  2.19it/s]"
     ]
    },
    {
     "data": {
      "image/png": "[encoded data removed]",
      "text/plain": [
       "<matplotlib.figure.Figure at 0x7f9c154c0ba8>"
      ]
     },
     "metadata": {},
     "output_type": "display_data"
    },
    {
     "name": "stdout",
     "output_type": "stream",
     "text": [
      "pred box loc:   variable(43.49610900878906) variable(43.370262145996094)\n",
      "gt variable([[ 44.  44.  50.  50.   1.   0.]])\n"
     ]
    },
    {
     "name": "stderr",
     "output_type": "stream",
     "text": [
      " 63%|██████▎   | 1900/3000 [14:45<08:33,  2.14it/s]"
     ]
    },
    {
     "data": {
      "image/png": "[encoded data removed]",
      "text/plain": [
       "<matplotlib.figure.Figure at 0x7f9c15821710>"
      ]
     },
     "metadata": {},
     "output_type": "display_data"
    },
    {
     "name": "stdout",
     "output_type": "stream",
     "text": [
      "pred box loc:   variable(43.414306640625) variable(43.86474609375)\n",
      "gt variable([[ 43.  46.  40.  40.   1.   0.]])\n"
     ]
    },
    {
     "name": "stderr",
     "output_type": "stream",
     "text": [
      " 67%|██████▋   | 2000/3000 [15:32<07:43,  2.16it/s]"
     ]
    },
    {
     "data": {
      "image/png": "[encoded data removed]",
      "text/plain": [
       "<matplotlib.figure.Figure at 0x7f9c155e0ba8>"
      ]
     },
     "metadata": {},
     "output_type": "display_data"
    },
    {
     "name": "stdout",
     "output_type": "stream",
     "text": [
      "pred box loc:   variable(43.51881408691406) variable(43.906368255615234)\n",
      "gt variable([[ 40.  43.  51.  51.   1.   0.]])\n"
     ]
    },
    {
     "name": "stderr",
     "output_type": "stream",
     "text": [
      " 70%|███████   | 2100/3000 [16:18<06:55,  2.17it/s]"
     ]
    },
    {
     "data": {
      "image/png": "[encoded data removed]",
      "text/plain": [
       "<matplotlib.figure.Figure at 0x7f9c155602b0>"
      ]
     },
     "metadata": {},
     "output_type": "display_data"
    },
    {
     "name": "stdout",
     "output_type": "stream",
     "text": [
      "pred box loc:   variable(43.36302185058594) variable(43.266639709472656)\n",
      "gt variable([[ 41.  40.  40.  40.   1.   0.]])\n"
     ]
    },
    {
     "name": "stderr",
     "output_type": "stream",
     "text": [
      " 73%|███████▎  | 2200/3000 [17:05<06:14,  2.14it/s]"
     ]
    },
    {
     "data": {
      "image/png": "[encoded data removed]",
      "text/plain": [
       "<matplotlib.figure.Figure at 0x7f9c155c3048>"
      ]
     },
     "metadata": {},
     "output_type": "display_data"
    },
    {
     "name": "stdout",
     "output_type": "stream",
     "text": [
      "pred box loc:   variable(43.47772216796875) variable(43.69501495361328)\n",
      "gt variable([[ 44.  44.  47.  47.   1.   0.]])\n"
     ]
    },
    {
     "name": "stderr",
     "output_type": "stream",
     "text": [
      " 77%|███████▋  | 2300/3000 [17:52<05:22,  2.17it/s]"
     ]
    },
    {
     "data": {
      "image/png": "[encoded data removed]",
      "text/plain": [
       "<matplotlib.figure.Figure at 0x7f9c15614c18>"
      ]
     },
     "metadata": {},
     "output_type": "display_data"
    },
    {
     "name": "stdout",
     "output_type": "stream",
     "text": [
      "pred box loc:   variable(43.1379508972168) variable(43.38538360595703)\n",
      "gt variable([[ 43.  40.  45.  45.   1.   0.]])\n"
     ]
    },
    {
     "name": "stderr",
     "output_type": "stream",
     "text": [
      " 80%|████████  | 2400/3000 [18:37<04:37,  2.16it/s]"
     ]
    },
    {
     "data": {
      "image/png": "[encoded data removed]",
      "text/plain": [
       "<matplotlib.figure.Figure at 0x7f9c15591668>"
      ]
     },
     "metadata": {},
     "output_type": "display_data"
    },
    {
     "name": "stdout",
     "output_type": "stream",
     "text": [
      "pred box loc:   variable(43.326690673828125) variable(43.94501495361328)\n",
      "gt variable([[ 46.  40.  53.  53.   1.   0.]])\n"
     ]
    },
    {
     "name": "stderr",
     "output_type": "stream",
     "text": [
      " 83%|████████▎ | 2500/3000 [19:23<03:49,  2.18it/s]"
     ]
    },
    {
     "data": {
      "image/png": "[encoded data removed]",
      "text/plain": [
       "<matplotlib.figure.Figure at 0x7f9c155a3a58>"
      ]
     },
     "metadata": {},
     "output_type": "display_data"
    },
    {
     "name": "stdout",
     "output_type": "stream",
     "text": [
      "pred box loc:   variable(43.583003997802734) variable(43.90435791015625)\n",
      "gt variable([[ 46.  45.  53.  53.   1.   0.]])\n"
     ]
    },
    {
     "name": "stderr",
     "output_type": "stream",
     "text": [
      " 87%|████████▋ | 2600/3000 [20:09<03:03,  2.18it/s]"
     ]
    },
    {
     "data": {
      "image/png": "[encoded data removed]",
      "text/plain": [
       "<matplotlib.figure.Figure at 0x7f9c1553a5c0>"
      ]
     },
     "metadata": {},
     "output_type": "display_data"
    },
    {
     "name": "stdout",
     "output_type": "stream",
     "text": [
      "pred box loc:   variable(43.322994232177734) variable(43.95722579956055)\n",
      "gt variable([[ 40.  47.  45.  45.   1.   0.]])\n"
     ]
    },
    {
     "name": "stderr",
     "output_type": "stream",
     "text": [
      " 90%|█████████ | 2700/3000 [20:55<02:20,  2.13it/s]"
     ]
    },
    {
     "data": {
      "image/png": "[encoded data removed]",
      "text/plain": [
       "<matplotlib.figure.Figure at 0x7f9c1566f748>"
      ]
     },
     "metadata": {},
     "output_type": "display_data"
    },
    {
     "name": "stdout",
     "output_type": "stream",
     "text": [
      "pred box loc:   variable(43.36383056640625) variable(43.143310546875)\n",
      "gt variable([[ 43.  41.  46.  46.   1.   0.]])\n"
     ]
    },
    {
     "name": "stderr",
     "output_type": "stream",
     "text": [
      " 93%|█████████▎| 2800/3000 [21:41<01:31,  2.18it/s]"
     ]
    },
    {
     "data": {
      "image/png": "[encoded data removed]",
      "text/plain": [
       "<matplotlib.figure.Figure at 0x7f9c15654a20>"
      ]
     },
     "metadata": {},
     "output_type": "display_data"
    },
    {
     "name": "stdout",
     "output_type": "stream",
     "text": [
      "pred box loc:   variable(43.188560485839844) variable(43.28596496582031)\n",
      "gt variable([[ 41.  43.  43.  43.   1.   0.]])\n"
     ]
    },
    {
     "name": "stderr",
     "output_type": "stream",
     "text": [
      " 97%|█████████▋| 2900/3000 [22:28<00:46,  2.15it/s]"
     ]
    },
    {
     "data": {
      "image/png": "[encoded data removed]",
      "text/plain": [
       "<matplotlib.figure.Figure at 0x7f9c1551cdd8>"
      ]
     },
     "metadata": {},
     "output_type": "display_data"
    },
    {
     "name": "stdout",
     "output_type": "stream",
     "text": [
      "pred box loc:   variable(43.47749328613281) variable(43.40114212036133)\n",
      "gt variable([[ 43.  43.  43.  43.   1.   0.]])\n"
     ]
    },
    {
     "name": "stderr",
     "output_type": "stream",
     "text": [
      "100%|██████████| 3000/3000 [23:14<00:00,  2.16it/s]\n"
     ]
    },
    {
     "data": {
      "image/png": "[encoded data removed]",
      "text/plain": [
       "<matplotlib.figure.Figure at 0x7f9c1575d9e8>"
      ]
     },
     "metadata": {},
     "output_type": "display_data"
    },
    {
     "data": {
      "image/png": "[encoded data removed]",
      "text/plain": [
       "<matplotlib.figure.Figure at 0x7f9c15527a58>"
      ]
     },
     "metadata": {},
     "output_type": "display_data"
    },
    {
     "data": {
      "text/plain": [
       "(1, 3000, 1)"
      ]
     },
     "execution_count": 28,
     "metadata": {},
     "output_type": "execute_result"
    }
   ],
   "source": [
    "all_losses = []\n",
    "alpha = 0.00001\n",
    "locx= np.random.randint(10, 60) \n",
    "locy= np.random.randint(10, 60) \n",
    "size= 10\n",
    "nloops= 3000\n",
    "ensemble = 1\n",
    "posdiff = 8\n",
    "\n",
    "for i in range(ensemble): \n",
    "\n",
    "    locx= np.random.randint(10, 90) \n",
    "    locy= np.random.randint(10, 90) \n",
    "\n",
    "    loss_history, pred_boxes, def_boxes, ground_truth, image,boxnet = all_connected(locx,locy, size,size, alpha, nloops, posdiff)\n",
    "    \n",
    "    \n",
    "    ax=draw_boxes(image,def_boxes)\n",
    "    draw_pred_boxes(pred_boxes, image, ax)\n",
    "    all_losses.append(loss_history)\n",
    "\n",
    "    \n",
    "    random_or_not = 'both_xy'\n",
    "    plt.figure(figsize=(30,10))\n",
    "    plt.xlabel('number of runs', size =20)\n",
    "    plt.ylabel('Loss value', size =20)\n",
    "    title_name ='Loss_vs_loops num-'+ str(nloops)+ '-size-'+ str(size) + '-alpha-'+ str(alpha)+'-ensemble-'+str(ensemble)+'-random-'+random_or_not\n",
    "    plt.title(title_name, size=22 )\n",
    "    plt.ylim([0,1])\n",
    "    plt.plot(range(len(loss_history)), loss_history)\n",
    "    # plt.savefig(title_name+'.png')\n",
    "    plt.show()\n",
    "    \n",
    "    \n",
    "    \n",
    "    \n",
    "    \n",
    "    \n",
    "    \n",
    "    \n",
    "all_losses = np.array(all_losses)\n",
    "all_losses2 = all_losses.transpose()\n",
    "all_losses2.shape  \n",
    "\n"
   ]
  },
  {
   "cell_type": "code",
   "execution_count": 29,
   "metadata": {
    "ExecuteTime": {
     "end_time": "2017-11-21T18:08:25.908013Z",
     "start_time": "2017-11-21T18:08:25.904522Z"
    }
   },
   "outputs": [
    {
     "data": {
      "text/plain": [
       "variable([[ 47.,  46.,  46.,  46.,   1.,   0.]])"
      ]
     },
     "execution_count": 29,
     "metadata": {},
     "output_type": "execute_result"
    }
   ],
   "source": [
    "ground_truth"
   ]
  },
  {
   "cell_type": "code",
   "execution_count": 30,
   "metadata": {
    "ExecuteTime": {
     "end_time": "2017-11-21T18:08:26.013441Z",
     "start_time": "2017-11-21T18:08:25.909554Z"
    }
   },
   "outputs": [
    {
     "data": {
      "text/plain": [
       "variable([[ 43.32609177,  43.37437057,  46.12434387,  46.13005066,\n",
       "            -0.51527196,   0.35045794]])"
      ]
     },
     "execution_count": 30,
     "metadata": {},
     "output_type": "execute_result"
    }
   ],
   "source": [
    "pred_boxes"
   ]
  },
  {
   "cell_type": "code",
   "execution_count": 31,
   "metadata": {
    "ExecuteTime": {
     "end_time": "2017-11-21T18:08:26.090929Z",
     "start_time": "2017-11-21T18:08:26.015907Z"
    }
   },
   "outputs": [
    {
     "data": {
      "text/plain": [
       "variable([[ 67.17212677,  67.17212677,  60.        ,  60.        ,\n",
       "             0.        ,   0.        ]])"
      ]
     },
     "execution_count": 31,
     "metadata": {},
     "output_type": "execute_result"
    }
   ],
   "source": [
    "def_boxes"
   ]
  },
  {
   "cell_type": "code",
   "execution_count": null,
   "metadata": {
    "collapsed": true
   },
   "outputs": [],
   "source": []
  }
 ],
 "metadata": {
  "kernelspec": {
   "display_name": "Python 3",
   "language": "python",
   "name": "python3"
  },
  "language_info": {
   "codemirror_mode": {
    "name": "ipython",
    "version": 3
   },
   "file_extension": ".py",
   "mimetype": "text/x-python",
   "name": "python",
   "nbconvert_exporter": "python",
   "pygments_lexer": "ipython3",
   "version": "3.5.2"
  },
  "toc": {
   "colors": {
    "hover_highlight": "#DAA520",
    "navigate_num": "#000000",
    "navigate_text": "#333333",
    "running_highlight": "#FF0000",
    "selected_highlight": "#FFD700",
    "sidebar_border": "#EEEEEE",
    "wrapper_background": "#FFFFFF"
   },
   "moveMenuLeft": true,
   "nav_menu": {
    "height": "228px",
    "width": "252px"
   },
   "navigate_menu": true,
   "number_sections": false,
   "sideBar": true,
   "threshold": 4,
   "toc_cell": true,
   "toc_position": {
    "height": "838px",
    "left": "0px",
    "right": "1653px",
    "top": "107px",
    "width": "212px"
   },
   "toc_section_display": "block",
   "toc_window_display": true,
   "widenNotebook": false
  },
  "varInspector": {
   "cols": {
    "lenName": 16,
    "lenType": 16,
    "lenVar": 40
   },
   "kernels_config": {
    "python": {
     "delete_cmd_postfix": "",
     "delete_cmd_prefix": "del ",
     "library": "var_list.py",
     "varRefreshCmd": "print(var_dic_list())"
    },
    "r": {
     "delete_cmd_postfix": ") ",
     "delete_cmd_prefix": "rm(",
     "library": "var_list.r",
     "varRefreshCmd": "cat(var_dic_list()) "
    }
   },
   "types_to_exclude": [
    "module",
    "function",
    "builtin_function_or_method",
    "instance",
    "_Feature"
   ],
   "window_display": false
  }
 },
 "nbformat": 4,
 "nbformat_minor": 2
}
