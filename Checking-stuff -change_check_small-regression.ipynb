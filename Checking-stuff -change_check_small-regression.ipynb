{
 "cells": [
  {
   "cell_type": "markdown",
   "metadata": {
    "toc": "true"
   },
   "source": [
    "# Table of Contents\n",
    " <p><div class=\"lev1 toc-item\"><a href=\"#Checking-regression\" data-toc-modified-id=\"Checking-regression-1\"><span class=\"toc-item-num\">1&nbsp;&nbsp;</span>Checking regression</a></div><div class=\"lev2 toc-item\"><a href=\"#Checking-functions\" data-toc-modified-id=\"Checking-functions-11\"><span class=\"toc-item-num\">1.1&nbsp;&nbsp;</span>Checking functions</a></div><div class=\"lev3 toc-item\"><a href=\"#Generate-boxes\" data-toc-modified-id=\"Generate-boxes-111\"><span class=\"toc-item-num\">1.1.1&nbsp;&nbsp;</span>Generate boxes</a></div><div class=\"lev3 toc-item\"><a href=\"#Generate-test-dataset\" data-toc-modified-id=\"Generate-test-dataset-112\"><span class=\"toc-item-num\">1.1.2&nbsp;&nbsp;</span>Generate test dataset</a></div><div class=\"lev3 toc-item\"><a href=\"#Conv-net-definitions\" data-toc-modified-id=\"Conv-net-definitions-113\"><span class=\"toc-item-num\">1.1.3&nbsp;&nbsp;</span>Conv net definitions</a></div><div class=\"lev3 toc-item\"><a href=\"#Generate-Default-boxes\" data-toc-modified-id=\"Generate-Default-boxes-114\"><span class=\"toc-item-num\">1.1.4&nbsp;&nbsp;</span>Generate Default boxes</a></div><div class=\"lev3 toc-item\"><a href=\"#Center-to-coords\" data-toc-modified-id=\"Center-to-coords-115\"><span class=\"toc-item-num\">1.1.5&nbsp;&nbsp;</span>Center to coords</a></div><div class=\"lev3 toc-item\"><a href=\"#Draw-boxes\" data-toc-modified-id=\"Draw-boxes-116\"><span class=\"toc-item-num\">1.1.6&nbsp;&nbsp;</span>Draw boxes</a></div><div class=\"lev3 toc-item\"><a href=\"#Get-prediction-boxes\" data-toc-modified-id=\"Get-prediction-boxes-117\"><span class=\"toc-item-num\">1.1.7&nbsp;&nbsp;</span>Get prediction boxes</a></div><div class=\"lev3 toc-item\"><a href=\"#Draw-predicted-boxes\" data-toc-modified-id=\"Draw-predicted-boxes-118\"><span class=\"toc-item-num\">1.1.8&nbsp;&nbsp;</span>Draw predicted boxes</a></div><div class=\"lev3 toc-item\"><a href=\"#Normalize-shifts\" data-toc-modified-id=\"Normalize-shifts-119\"><span class=\"toc-item-num\">1.1.9&nbsp;&nbsp;</span>Normalize shifts</a></div><div class=\"lev3 toc-item\"><a href=\"#Regression-loss\" data-toc-modified-id=\"Regression-loss-1110\"><span class=\"toc-item-num\">1.1.10&nbsp;&nbsp;</span>Regression loss</a></div><div class=\"lev3 toc-item\"><a href=\"#Get-aspect-ratio\" data-toc-modified-id=\"Get-aspect-ratio-1111\"><span class=\"toc-item-num\">1.1.11&nbsp;&nbsp;</span>Get aspect ratio</a></div><div class=\"lev3 toc-item\"><a href=\"#Do-the-matching\" data-toc-modified-id=\"Do-the-matching-1112\"><span class=\"toc-item-num\">1.1.12&nbsp;&nbsp;</span>Do the matching</a></div><div class=\"lev4 toc-item\"><a href=\"#IOU-cpu\" data-toc-modified-id=\"IOU-cpu-11121\"><span class=\"toc-item-num\">1.1.12.1&nbsp;&nbsp;</span>IOU cpu</a></div><div class=\"lev4 toc-item\"><a href=\"#Find-matching-indices\" data-toc-modified-id=\"Find-matching-indices-11122\"><span class=\"toc-item-num\">1.1.12.2&nbsp;&nbsp;</span>Find matching indices</a></div><div class=\"lev3 toc-item\"><a href=\"#Eveyrthing-connected\" data-toc-modified-id=\"Eveyrthing-connected-1113\"><span class=\"toc-item-num\">1.1.13&nbsp;&nbsp;</span>Eveyrthing connected</a></div><div class=\"lev2 toc-item\"><a href=\"#Experiments\" data-toc-modified-id=\"Experiments-12\"><span class=\"toc-item-num\">1.2&nbsp;&nbsp;</span>Experiments</a></div>"
   ]
  },
  {
   "cell_type": "markdown",
   "metadata": {},
   "source": [
    "# Checking regression "
   ]
  },
  {
   "cell_type": "markdown",
   "metadata": {},
   "source": [
    "The strategy will be to check regression in x and y and see how that works out when you combine it. Clearly something must be amiss. So the list of things to do is the following - \n",
    "\n",
    "\n",
    "1) check regression in x \n",
    "\n",
    "2) check regression in y \n",
    "\n",
    "3) check regression when you combine both\n",
    "\n",
    "4) For all of this you need to check each function to make sure that it is doing what its supposed to do\n",
    "\n",
    "\n"
   ]
  },
  {
   "cell_type": "markdown",
   "metadata": {},
   "source": [
    "## Checking functions "
   ]
  },
  {
   "cell_type": "markdown",
   "metadata": {},
   "source": [
    "### Generate boxes\n",
    "\n",
    "First attempt chose a static box to see what is going on,  you will replicate the code for random boxes"
   ]
  },
  {
   "cell_type": "code",
   "execution_count": 1,
   "metadata": {
    "ExecuteTime": {
     "end_time": "2017-11-22T08:58:23.516762Z",
     "start_time": "2017-11-22T08:58:22.921494Z"
    }
   },
   "outputs": [
    {
     "data": {
      "image/png": "[encoded data removed]",
      "text/plain": [
       "<matplotlib.figure.Figure at 0x7fee101f9e48>"
      ]
     },
     "metadata": {},
     "output_type": "display_data"
    }
   ],
   "source": [
    "import chainer\n",
    "import numpy as np\n",
    "import matplotlib.pyplot as plt\n",
    "from matplotlib import patches\n",
    "import random \n",
    "from chainer.functions import log, hstack, huber_loss\n",
    "\n",
    "# %matplotlib notebook\n",
    "def get_single_image(pos_r, pos_c, height, width  ): \n",
    "    \n",
    "    image = np.zeros((1,3,128,128), dtype=np.float32)\n",
    "\n",
    "    gts = []\n",
    "\n",
    "    for i in range(1):\n",
    "        # Choose random coordinate, this can also be run in a loop\n",
    "        width = width\n",
    "        height =height\n",
    "        pos_r =pos_r\n",
    "        pos_c =pos_c\n",
    "        image[0,:,pos_r:pos_r+height,pos_c:pos_c+width]=1\n",
    "        #print(pos_r, pos_c)\n",
    "\n",
    "        cx = pos_c #+ width/2.0\n",
    "        cy = pos_r #- height/2.0\n",
    "\n",
    "        box = [cx, cy, width, height, 1, 0]\n",
    "\n",
    "        gts.append(box)\n",
    "\n",
    "    # Create ground truth object\n",
    "    gts2 = chainer.Variable(np.array(gts, dtype=np.float32))\n",
    "    return gts2, image \n",
    "\n",
    "\n",
    "gt, img  = get_single_image(50,50, 50,20)\n",
    "for i in range(1):\n",
    "    # Initialize the image\n",
    "    \n",
    "    # Visualize the entire thing\n",
    "    plt.imshow(img[0,0,:,:])\n",
    "    plt.show()"
   ]
  },
  {
   "cell_type": "code",
   "execution_count": 2,
   "metadata": {
    "ExecuteTime": {
     "end_time": "2017-11-22T08:58:23.523755Z",
     "start_time": "2017-11-22T08:58:23.518698Z"
    }
   },
   "outputs": [
    {
     "name": "stdout",
     "output_type": "stream",
     "text": [
      "ground truth box coordinates:  variable([[ 50.  50.  20.  50.   1.   0.]]) gt shape : (1, 6)\n",
      "-----------------------------------------------\n",
      "Image shape (1, 3, 128, 128)\n"
     ]
    }
   ],
   "source": [
    "print('ground truth box coordinates: ' ,gt,'gt shape :' ,gt.shape)\n",
    "print('-----------------------------------------------')\n",
    "print('Image shape', img.shape)\n"
   ]
  },
  {
   "cell_type": "markdown",
   "metadata": {},
   "source": [
    "### Generate test dataset"
   ]
  },
  {
   "cell_type": "code",
   "execution_count": 3,
   "metadata": {
    "ExecuteTime": {
     "end_time": "2017-11-22T08:58:23.697175Z",
     "start_time": "2017-11-22T08:58:23.525223Z"
    }
   },
   "outputs": [
    {
     "data": {
      "image/png": "[encoded data removed]",
      "text/plain": [
       "<matplotlib.figure.Figure at 0x7fedba6c40b8>"
      ]
     },
     "metadata": {},
     "output_type": "display_data"
    }
   ],
   "source": [
    "def generate_test_set():\n",
    "    \n",
    "    image_sizes = [10,15,20,25,30,35,40,45,50,55,60]\n",
    "    locx =[20,20,30,30,40,40,50, 60,60,60,60]\n",
    "    locy = [60,60,30,30,40,60,50, 45,45,50,50]\n",
    "    test_gts = []\n",
    "    imgs = []\n",
    "    \n",
    "    for i in range(len(locx)): \n",
    "\n",
    "        image = np.zeros((1,3,128,128), dtype=np.float32)\n",
    "        # Choose random coordinate, this can also be run in a loop\n",
    "        width = image_sizes[i]\n",
    "        height =image_sizes[i]\n",
    "        pos_r =locx[i]\n",
    "        pos_c =locy[i]\n",
    "        image[0,:,pos_r:pos_r+height,pos_c:pos_c+width]=1\n",
    "        #print(pos_r, pos_c)\n",
    "\n",
    "        cx = pos_c #+ width/2.0\n",
    "        cy = pos_r #- height/2.0\n",
    "\n",
    "        box = [cx, cy, width, height, 1, 0]\n",
    "\n",
    "        test_gts.append(box)\n",
    "        imgs.append(image)\n",
    "    # Create ground truth object\n",
    "    test_gts2 = chainer.Variable(np.array(test_gts, dtype=np.float32))\n",
    "    return test_gts2, imgs \n",
    "\n",
    "test_gts, test_imgs = generate_test_set()\n",
    "test_gts\n",
    "\n",
    "img_test = test_imgs[1]\n",
    "\n",
    "plt.imshow(img_test[0,0,:,:])\n",
    "\n",
    "\n",
    "plt.show()\n"
   ]
  },
  {
   "cell_type": "markdown",
   "metadata": {},
   "source": [
    "### Conv net definitions "
   ]
  },
  {
   "cell_type": "code",
   "execution_count": 4,
   "metadata": {
    "ExecuteTime": {
     "end_time": "2017-11-22T08:58:23.772024Z",
     "start_time": "2017-11-22T08:58:23.698753Z"
    },
    "collapsed": true
   },
   "outputs": [],
   "source": [
    "from chainer import Chain\n",
    "import chainer\n",
    "import chainer.functions as F\n",
    "import chainer.links as L\n",
    "\n",
    "class ConvNet(Chain):\n",
    "    def __init__(self):\n",
    "        super(ConvNet, self).__init__(\n",
    "            l1=L.Convolution2D(None,32,ksize=(3,3),stride=1,pad=1),\n",
    "            l2=L.Convolution2D(32,32,ksize=(3,3),stride=1,pad=1),\n",
    "            l3=L.DilatedConvolution2D(32,32,ksize=(5,5),stride=1,pad=1),\n",
    "            l4=L.Convolution2D(32,32,ksize=(3,3),stride=1,pad=1),\n",
    "            l5=L.Convolution2D(32,32,ksize=(3,3),stride=1,pad=1),    \n",
    "            l6=L.DilatedConvolution2D(32,32,ksize=(7,7),stride=1,pad=1),\n",
    "            l7=L.Convolution2D(32,32,ksize=(3,3),stride=1,pad=1),\n",
    "            l8=L.Convolution2D(32,32,ksize=(3,3),stride=1,pad=1)\n",
    "            \n",
    "        )\n",
    "        \n",
    "    def __call__(self, x):\n",
    "        h1 = F.relu(self.l1(x))\n",
    "        h2= F.relu(self.l2(h1))\n",
    "        h3 = F.relu(self.l3(h2))\n",
    "#         h4 = F.max_pooling_2d(h3, 2)\n",
    "        \n",
    "        h5 = F.relu(self.l4(h3))\n",
    "        h6= F.relu(self.l5(h5))\n",
    "        h7 = F.relu(self.l6(h6))\n",
    "        h8 = F.relu(self.l7(h7))\n",
    "       \n",
    "        \n",
    "#         h8 = F.max_pooling_2d(h7, 2)\n",
    "#         h5 = F.relu(self.l3(h4))\n",
    "#         h6 = F.max_pooling_2d(h5, 2)\n",
    "#         h7 = F.relu(self.l4(h6))\n",
    "        \n",
    "        return self.l8(F.sigmoid(h8))\n",
    "    "
   ]
  },
  {
   "cell_type": "code",
   "execution_count": 5,
   "metadata": {
    "ExecuteTime": {
     "end_time": "2017-11-22T08:58:24.398230Z",
     "start_time": "2017-11-22T08:58:23.774090Z"
    }
   },
   "outputs": [
    {
     "data": {
      "text/plain": [
       "(1, 6, 122, 122)"
      ]
     },
     "execution_count": 5,
     "metadata": {},
     "output_type": "execute_result"
    }
   ],
   "source": [
    "class BoxNet(Chain):\n",
    "    def __init__(self, predictor):\n",
    "        super(BoxNet, self).__init__(\n",
    "            l1=L.Convolution2D(None,6,ksize=(3,3),stride=1,pad=1)\n",
    "        )\n",
    "        self.predictor = predictor\n",
    "        \n",
    "    def __call__(self, x):\n",
    "        h1 = self.l1(self.predictor(x))\n",
    "        return h1\n",
    "    \n",
    "convnet = ConvNet()\n",
    "boxnet = BoxNet(ConvNet())\n",
    "fm = convnet(img)\n",
    "shifts_all = boxnet(img)\n",
    "\n",
    "select_index  = 64\n",
    "shifts= shifts_all[:,:,select_index,select_index]\n",
    "shifts =F.reshape(shifts,[1,6,1,1])\n",
    "shifts_all.shape"
   ]
  },
  {
   "cell_type": "code",
   "execution_count": 6,
   "metadata": {
    "ExecuteTime": {
     "end_time": "2017-11-22T08:58:24.413412Z",
     "start_time": "2017-11-22T08:58:24.404173Z"
    }
   },
   "outputs": [
    {
     "name": "stdout",
     "output_type": "stream",
     "text": [
      "shifts all shape : (1, 6, 122, 122)  \n",
      " shifts shape : (1, 6, 1, 1)\n",
      "------------------------------------------\n",
      "shifts value : variable([[[-0.41783351]]\n",
      "\n",
      "          [[-0.24781306]]\n",
      "\n",
      "          [[ 0.20499913]]\n",
      "\n",
      "          [[ 0.09268792]]\n",
      "\n",
      "          [[ 0.44697204]]\n",
      "\n",
      "          [[-0.41210034]]])\n"
     ]
    }
   ],
   "source": [
    "print('shifts all shape :', shifts_all.shape,  ' \\n shifts shape :', shifts.shape)\n",
    "print('------------------------------------------')\n",
    "print('shifts value :', shifts[0])"
   ]
  },
  {
   "cell_type": "markdown",
   "metadata": {},
   "source": [
    "### Generate Default boxes"
   ]
  },
  {
   "cell_type": "code",
   "execution_count": 7,
   "metadata": {
    "ExecuteTime": {
     "end_time": "2017-11-22T08:58:24.468872Z",
     "start_time": "2017-11-22T08:58:24.418920Z"
    },
    "collapsed": true
   },
   "outputs": [],
   "source": [
    "def defaultgen(I, F, width, height):\n",
    "    \"\"\"\n",
    "    Generates an array of default boxes: Chainer TESTED\n",
    "    \n",
    "    Args:\n",
    "        I: Input image tensor (N,channels,rows,cols)\n",
    "        F: Feature map tensor to generate default boxes for\n",
    "        width: Width of the box\n",
    "        height: Height of the box\n",
    "        \n",
    "    Returns:\n",
    "        db: Default boxes tensor, flattened\n",
    "    \"\"\"\n",
    "    scale = (I.shape[2] / F.shape[2])\n",
    "    offset = np.ones((2,F.shape[2],F.shape[3]), dtype=np.float32)\n",
    "    iterator = np.flip(np.indices((F.shape[2],F.shape[3])), axis=0).astype(np.float32)\n",
    "    \n",
    "    xys = offset * ((scale-1)/2) + iterator * scale\n",
    "    xys = np.moveaxis(xys,0,2)\n",
    "    ws = np.full((F.shape[2],F.shape[3],1), width, dtype=np.float32)\n",
    "    hs = np.full((F.shape[2],F.shape[3],1), height,dtype=np.float32)\n",
    "    class_scores = np.zeros((F.shape[2],F.shape[3],2), dtype=np.float32)\n",
    "    db = np.dstack([xys, ws, hs, class_scores])\n",
    "   \n",
    "#     db = db[64,64,:]\n",
    "#     db = db.reshape([1,1,6])\n",
    "    \n",
    "    return chainer.Variable(db.reshape((db.shape[0] * db.shape[1], 6)))\n"
   ]
  },
  {
   "cell_type": "code",
   "execution_count": 8,
   "metadata": {
    "ExecuteTime": {
     "end_time": "2017-11-22T08:58:24.575186Z",
     "start_time": "2017-11-22T08:58:24.470625Z"
    }
   },
   "outputs": [
    {
     "name": "stdout",
     "output_type": "stream",
     "text": [
      "def_boxes values: variable([[ 67.17212677  67.17212677  60.          60.           0.           0.        ]])\n",
      "---------------------------------------\n",
      "print shape of def boxes : (1, 6)\n"
     ]
    }
   ],
   "source": [
    "def_boxes = defaultgen(img,fm, 60,60)\n",
    "def_box_index =np.ravel_multi_index((select_index,select_index),(shifts_all.shape[2],shifts_all.shape[3]))\n",
    "def_boxes = def_boxes[def_box_index,:]\n",
    "def_boxes =def_boxes.reshape([1,1,6])\n",
    "def_boxes = def_boxes[0]\n",
    "\n",
    "print('def_boxes values:', def_boxes)\n",
    "print('---------------------------------------')\n",
    "print('print shape of def boxes :', def_boxes.shape)"
   ]
  },
  {
   "cell_type": "code",
   "execution_count": null,
   "metadata": {
    "ExecuteTime": {
     "end_time": "2017-11-22T08:48:39.808214Z",
     "start_time": "2017-11-22T08:48:39.804425Z"
    }
   },
   "outputs": [],
   "source": []
  },
  {
   "cell_type": "markdown",
   "metadata": {},
   "source": [
    "### Center to coords \n",
    "\n",
    "This function has been checked, seems correct, some examples below"
   ]
  },
  {
   "cell_type": "code",
   "execution_count": 9,
   "metadata": {
    "ExecuteTime": {
     "end_time": "2017-11-22T08:58:24.645315Z",
     "start_time": "2017-11-22T08:58:24.576642Z"
    },
    "collapsed": true
   },
   "outputs": [],
   "source": [
    "def center_to_coords(box):\n",
    "    \"\"\" \n",
    "    Converts bounding box from (cx, cy, w, h) format to (x1, y1, x2, y2) format\n",
    "    \n",
    "    Args:\n",
    "        box: 6d numpy array\n",
    "        \n",
    "    Returns:\n",
    "        box_transformed: Box in the second format\n",
    "    \n",
    "    \"\"\"\n",
    "    box_transformed = np.array([box[0]-box[2]/2.0, box[1]-box[3]/2.0, box[0]+box[2]/2.0, box[1]+box[3]/2.0, box[4], box[5]])\n",
    "    return box_transformed\n",
    "\n"
   ]
  },
  {
   "cell_type": "markdown",
   "metadata": {
    "ExecuteTime": {
     "end_time": "2017-11-19T04:14:15.764172Z",
     "start_time": "2017-11-19T04:14:15.761232Z"
    }
   },
   "source": [
    "Checking center to coords..."
   ]
  },
  {
   "cell_type": "code",
   "execution_count": 10,
   "metadata": {
    "ExecuteTime": {
     "end_time": "2017-11-22T08:58:24.753454Z",
     "start_time": "2017-11-22T08:58:24.647052Z"
    }
   },
   "outputs": [
    {
     "data": {
      "text/plain": [
       "array([variable(37.17212677001953), variable(37.17212677001953),\n",
       "       variable(97.17212677001953), variable(97.17212677001953),\n",
       "       variable(0.0), variable(0.0)], dtype=object)"
      ]
     },
     "execution_count": 10,
     "metadata": {},
     "output_type": "execute_result"
    }
   ],
   "source": [
    "center_to_coords(def_boxes[0])\n"
   ]
  },
  {
   "cell_type": "code",
   "execution_count": 11,
   "metadata": {
    "ExecuteTime": {
     "end_time": "2017-11-22T08:58:24.824258Z",
     "start_time": "2017-11-22T08:58:24.755267Z"
    }
   },
   "outputs": [
    {
     "name": "stdout",
     "output_type": "stream",
     "text": [
      "[  73.5   -1.5  106.5   31.5    0.     0. ] [  8.5   7.5  11.5  10.5   0.    0. ]\n"
     ]
    }
   ],
   "source": [
    "# some more checks \n",
    "\n",
    "box1= np.array([10,9, 3,3,0,0])\n",
    "box2= np.array([90,15, 33,33,0,0])\n",
    "\n",
    "print(center_to_coords(box2), center_to_coords(box1)) "
   ]
  },
  {
   "cell_type": "markdown",
   "metadata": {},
   "source": [
    "### Draw boxes \n"
   ]
  },
  {
   "cell_type": "code",
   "execution_count": 12,
   "metadata": {
    "ExecuteTime": {
     "end_time": "2017-11-22T08:58:24.949825Z",
     "start_time": "2017-11-22T08:58:24.826395Z"
    },
    "collapsed": true
   },
   "outputs": [],
   "source": [
    "def draw_boxes(image, boxes):\n",
    "    img = image\n",
    "    plt.figure()\n",
    "    ax = plt.axes()\n",
    "\n",
    "    for box in boxes:\n",
    "        box = center_to_coords(box.data)\n",
    "        ax.imshow(img[0,0,:,:])\n",
    "        p = patches.Rectangle((box[0], box[1]), box[2]-box[0], box[3]-box[1], fill=False, color = 'red')\n",
    "        ax.add_patch(p)\n",
    "\n",
    "    \n",
    "    return ax\n",
    "ax  = draw_boxes(img, def_boxes)"
   ]
  },
  {
   "cell_type": "markdown",
   "metadata": {},
   "source": [
    "### Get prediction boxes \n",
    "\n",
    "This seems to be correct as well"
   ]
  },
  {
   "cell_type": "code",
   "execution_count": 13,
   "metadata": {
    "ExecuteTime": {
     "end_time": "2017-11-22T08:58:25.019812Z",
     "start_time": "2017-11-22T08:58:24.951431Z"
    },
    "collapsed": true
   },
   "outputs": [],
   "source": [
    "def get_pred_boxes(shift_vals, default_boxes ): \n",
    "    \"\"\"\n",
    "    Get predicted boxes by combining shift values to default boxes\n",
    "    Input: \n",
    "\n",
    "    shift_values : Shifts generated by the network  NDarray (None, Num of Default boxes, 4+num of classes)\n",
    "    Default boxes  : Default boxes generated by the network NDarray (None, Num of Default boxes, 4+num of classes)\n",
    "\n",
    "    Output: \n",
    "\n",
    "    Predicted boxes  : Predicted boxes, same shape as default boxes  NDarray (None, Num of Default boxes, 4+num of classes)\n",
    "\n",
    "    \"\"\"\n",
    "    \n",
    "    shift_val_shape= default_boxes.shape\n",
    "    shift_vals= F.swapaxes(shift_vals,1,3)\n",
    "    shift_vals= F.reshape(shift_vals,shift_val_shape)\n",
    "    \n",
    "    shifts = shift_vals \n",
    "    def_boxes= default_boxes\n",
    "    \n",
    "    \n",
    "    cx_pred = (shifts[:,0]*def_boxes[:,2])+def_boxes[:,0]\n",
    "    cy_pred = (shifts[:,1]*def_boxes[:,3])+def_boxes[:,1]\n",
    "    \n",
    "    H_pred = F.exp(shifts[:,3])*def_boxes[:,3]\n",
    "    W_pred = F.exp(shifts[:,2])*def_boxes[:,2]\n",
    "    \n",
    "    class1 = shifts[:,4]\n",
    "    class2 = shifts[:,5]\n",
    "    \n",
    "    \n",
    "    pred_boxes = F.vstack((cx_pred,cy_pred,W_pred,H_pred, class1, class2))\n",
    "    pred_boxes = F.transpose(pred_boxes)\n",
    "    \n",
    "    return  pred_boxes "
   ]
  },
  {
   "cell_type": "code",
   "execution_count": 14,
   "metadata": {
    "ExecuteTime": {
     "end_time": "2017-11-22T08:58:25.111017Z",
     "start_time": "2017-11-22T08:58:25.021224Z"
    }
   },
   "outputs": [
    {
     "name": "stdout",
     "output_type": "stream",
     "text": [
      "prediction box coordinates : variable([[ 42.10211563  52.30334473  73.65144348  65.8271637    0.44697204\n",
      "            -0.41210034]])\n"
     ]
    }
   ],
   "source": [
    "pred_boxes= get_pred_boxes(shifts, def_boxes)\n",
    "print('prediction box coordinates :', pred_boxes)"
   ]
  },
  {
   "cell_type": "code",
   "execution_count": 15,
   "metadata": {
    "ExecuteTime": {
     "end_time": "2017-11-22T08:58:25.222384Z",
     "start_time": "2017-11-22T08:58:25.112583Z"
    }
   },
   "outputs": [
    {
     "data": {
      "text/plain": [
       "variable([[[[-0.41783351]],\n",
       "\n",
       "           [[-0.24781306]],\n",
       "\n",
       "           [[ 0.20499913]],\n",
       "\n",
       "           [[ 0.09268792]],\n",
       "\n",
       "           [[ 0.44697204]],\n",
       "\n",
       "           [[-0.41210034]]]])"
      ]
     },
     "execution_count": 15,
     "metadata": {},
     "output_type": "execute_result"
    }
   ],
   "source": [
    "shifts"
   ]
  },
  {
   "cell_type": "code",
   "execution_count": 16,
   "metadata": {
    "ExecuteTime": {
     "end_time": "2017-11-22T08:58:25.311590Z",
     "start_time": "2017-11-22T08:58:25.223851Z"
    }
   },
   "outputs": [
    {
     "data": {
      "text/plain": [
       "variable([[ 67.17212677,  67.17212677,  60.        ,  60.        ,\n",
       "             0.        ,   0.        ]])"
      ]
     },
     "execution_count": 16,
     "metadata": {},
     "output_type": "execute_result"
    }
   ],
   "source": [
    "def_boxes"
   ]
  },
  {
   "cell_type": "markdown",
   "metadata": {},
   "source": [
    "### Draw predicted boxes"
   ]
  },
  {
   "cell_type": "code",
   "execution_count": 17,
   "metadata": {
    "ExecuteTime": {
     "end_time": "2017-11-22T08:58:25.458027Z",
     "start_time": "2017-11-22T08:58:25.313532Z"
    }
   },
   "outputs": [
    {
     "data": {
      "image/png": "[encoded data removed]",
      "text/plain": [
       "<matplotlib.figure.Figure at 0x7fedba5bc438>"
      ]
     },
     "metadata": {},
     "output_type": "display_data"
    }
   ],
   "source": [
    "\n",
    "def draw_pred_boxes(prediction_boxes,img, ax): \n",
    "    \"\"\"Draw predicted boxes on the original image \"\"\"\n",
    "    box =prediction_boxes\n",
    "    \n",
    "    for box in prediction_boxes:\n",
    "        box2= box.data\n",
    "        box = center_to_coords(box.data)\n",
    "        ax.imshow(img[0,0,:,:])\n",
    "        p = patches.Rectangle((box2[0], box2[1]), box[2]-box[0], box[3]-box[1], fill=False, color = 'green')\n",
    "        ax.add_patch(p)\n",
    "\n",
    "\n",
    "    plt.show()\n",
    "\n",
    "draw_pred_boxes(pred_boxes, img, ax)"
   ]
  },
  {
   "cell_type": "markdown",
   "metadata": {
    "ExecuteTime": {
     "end_time": "2017-11-19T06:23:08.749346Z",
     "start_time": "2017-11-19T06:23:08.729143Z"
    }
   },
   "source": [
    "### Normalize shifts     "
   ]
  },
  {
   "cell_type": "code",
   "execution_count": 18,
   "metadata": {
    "ExecuteTime": {
     "end_time": "2017-11-22T08:58:25.478499Z",
     "start_time": "2017-11-22T08:58:25.459443Z"
    },
    "collapsed": true
   },
   "outputs": [],
   "source": [
    "\n",
    "def normalize_shift(box, def_box):\n",
    "    \"\"\"\n",
    "    Scales down absolute shifts, % for centers, log for height and width.\n",
    "    \n",
    "    Args:\n",
    "        box: 6x1 bounding box coordinates\n",
    "        def_box: 6x1 reference box coordinates\n",
    "        \n",
    "    Returns:\n",
    "        normalized_shift_vector: 4x1 normalized shift vector. Note that we discard the last 2 channels.\n",
    "    \"\"\"\n",
    "    tx = (box[0] - def_box[0])/def_box[2]\n",
    "    ty = (box[1] - def_box[1])/def_box[3]\n",
    "    tw = log(box[2]/def_box[2])\n",
    "    th = log(box[3]/def_box[3])\n",
    "    \n",
    "    return hstack([tx, ty, tw, th])\n",
    "    "
   ]
  },
  {
   "cell_type": "markdown",
   "metadata": {},
   "source": [
    "### Regression loss \n",
    "\n",
    "This too seems to work "
   ]
  },
  {
   "cell_type": "code",
   "execution_count": 19,
   "metadata": {
    "ExecuteTime": {
     "end_time": "2017-11-22T08:58:25.592954Z",
     "start_time": "2017-11-22T08:58:25.479960Z"
    }
   },
   "outputs": [
    {
     "name": "stdout",
     "output_type": "stream",
     "text": [
      " regression loss value : variable([ 0.28208587])\n"
     ]
    }
   ],
   "source": [
    "def regression_loss(pred_box, gt_box, def_box):\n",
    "    \"\"\"\n",
    "    Calculates regression loss between two boxes w.r.t a reference default box.\n",
    "    \n",
    "    Args:\n",
    "        pred_box: 6x1 bounding box predicted by the network\n",
    "        gt_box: 6x1 bounding box overlapping with pred_box\n",
    "        def_box: 6x1 bounding box with same index as pred_box\n",
    "        \n",
    "    Returns:\n",
    "        reg_loss: Scalar of huber loss between two vectors\n",
    "    \"\"\"\n",
    "    \n",
    "    gt_normalized  = normalize_shift(gt_box[0],def_box[0])\n",
    "    pred_normalized = normalize_shift(pred_box[0],def_box[0])\n",
    "  \n",
    "    gt_normalized = gt_normalized\n",
    "    pred_normalized = pred_normalized\n",
    "    gt_normalized = gt_normalized.reshape((1,4))\n",
    "    pred_normalized = pred_normalized.reshape((1,4))\n",
    "    # l1 loss \n",
    "#     loss_val= pred_normalized - gt_normalized \n",
    "#     x_reg = F.absolute(loss_val )\n",
    "#     x_reg =F.sum(x_reg)\n",
    "    \n",
    "    #huber loss \n",
    "    return F.huber_loss(gt_normalized,pred_normalized, delta =0.2)\n",
    "    \n",
    "    \n",
    "reg_loss_value = regression_loss(pred_boxes, gt, pred_boxes)\n",
    "print(' regression loss value :', reg_loss_value)\n",
    "\n",
    "\n"
   ]
  },
  {
   "cell_type": "code",
   "execution_count": 20,
   "metadata": {
    "ExecuteTime": {
     "end_time": "2017-11-22T08:58:25.679569Z",
     "start_time": "2017-11-22T08:58:25.594489Z"
    },
    "collapsed": true
   },
   "outputs": [],
   "source": [
    "def compute_loss(gt_boxes, pred_boxes, def_boxes):\n",
    "    \n",
    "    loss_class = chainer.Variable(np.array([0.], dtype=np.float32))\n",
    "    loss_reg = chainer.Variable(np.array([0.], dtype=np.float32))\n",
    "    \n",
    "    gt_box, pred_box, def_box = gt_boxes, pred_boxes, def_boxes    \n",
    "#     loss_reg += regression_loss(pred_box, gt_box, def_box)\n",
    "    loss_reg = regression_loss(pred_box, gt_box, def_box)\n",
    "    \n",
    "    return loss_reg \n"
   ]
  },
  {
   "cell_type": "markdown",
   "metadata": {},
   "source": [
    "### Get aspect ratio "
   ]
  },
  {
   "cell_type": "code",
   "execution_count": 21,
   "metadata": {
    "ExecuteTime": {
     "end_time": "2017-11-22T08:58:25.781907Z",
     "start_time": "2017-11-22T08:58:25.681237Z"
    }
   },
   "outputs": [
    {
     "name": "stdout",
     "output_type": "stream",
     "text": [
      "height list : [360, 240, 60, 30]\n",
      "------------------------------\n",
      "width list : [40, 60, 240, 480]\n"
     ]
    }
   ],
   "source": [
    "def get_aspect_ratios(def_size ):\n",
    "\n",
    "    def_area = def_size*def_size\n",
    "    aspect_ratios = [3, 2,0.50, 0.25]\n",
    "    height_list =[]\n",
    "    width_list = []\n",
    "\n",
    "    for i in aspect_ratios: \n",
    "\n",
    "        height_list.append(int(def_size*i))  \n",
    "        width_list.append(int(def_area/(def_size*i)) )\n",
    "\n",
    "    return height_list,width_list\n",
    "\n",
    "def_size= 120 \n",
    "height_list, width_list= get_aspect_ratios(def_size)\n",
    "\n",
    "\n",
    "print('height list :',height_list)\n",
    "print('------------------------------')\n",
    "print('width list :', width_list)"
   ]
  },
  {
   "cell_type": "markdown",
   "metadata": {},
   "source": [
    "### Do the matching "
   ]
  },
  {
   "cell_type": "markdown",
   "metadata": {},
   "source": [
    "#### IOU cpu"
   ]
  },
  {
   "cell_type": "code",
   "execution_count": 22,
   "metadata": {
    "ExecuteTime": {
     "end_time": "2017-11-22T08:58:25.869815Z",
     "start_time": "2017-11-22T08:58:25.783635Z"
    },
    "collapsed": true
   },
   "outputs": [],
   "source": [
    "# Let's define some useful functions first.\n",
    "# Work with chainer variables for instahook.\n",
    "#from chainer.functions import max, min, hstack\n",
    "\n",
    "def iou_cpu(boxA, boxB):\n",
    "    \"\"\"\n",
    "    Calculates intersection over union score of two rectangles, none of them rotated.: TESTED\n",
    "    \n",
    "    Args:\n",
    "        boxA: Box1\n",
    "        boxB: Box2\n",
    "        \n",
    "    Returns:\n",
    "        iou (scalar): IOU score of the two boxes\n",
    "    \"\"\"\n",
    "        # determine the (x, y)-coordinates of the intersection rectangle\n",
    "        # Maybe we can accelerate this by writing this as a cython extension\n",
    "        \n",
    "    boxA = center_to_coords(boxA)\n",
    "    boxB = center_to_coords(boxB)\n",
    "    \n",
    "    xA = max(boxA[0], boxB[0])\n",
    "    yA = max(boxA[1], boxB[1])\n",
    "    xB = min(boxA[2], boxB[2])\n",
    "    yB = min(boxA[3], boxB[3])\n",
    "    \n",
    "    # compute the area of intersection rectangle\n",
    "    interArea = max((xB - xA), 0) * max((yB - yA), 0)\n",
    "    \n",
    "    # compute the area of both the prediction and ground-truth\n",
    "    # rectangles\n",
    "    boxa_area = (boxA[2] - boxA[0]) * (boxA[3] - boxA[1])\n",
    "    boxb_area = (boxB[2] - boxB[0]) * (boxB[3] - boxB[1])\n",
    "    \n",
    "    # compute the intersection over union by taking the intersection\n",
    "    # area and dividing it by the sum of prediction + ground-truth\n",
    "    # areas - the interesection area\n",
    "    #print(interArea, boxa_area, boxb_area)\n",
    "    iou = interArea / (boxa_area + boxb_area - interArea)\n",
    "\n",
    "    # return the intersection over union value\n",
    "    return iou\n",
    "\n",
    "\n"
   ]
  },
  {
   "cell_type": "markdown",
   "metadata": {},
   "source": [
    "#### Find matching indices "
   ]
  },
  {
   "cell_type": "code",
   "execution_count": 23,
   "metadata": {
    "ExecuteTime": {
     "end_time": "2017-11-22T08:58:25.970142Z",
     "start_time": "2017-11-22T08:58:25.871603Z"
    },
    "collapsed": true
   },
   "outputs": [],
   "source": [
    "def find_match_indices_cpu(def_box, gt): \n",
    "    \"\"\"\n",
    "    Find matches between ground truth boxes and boxes predicted by network.\n",
    "    \n",
    "    Args:\n",
    "        gt (): Tensor of ground truth boxes\n",
    "        pred_boxes (): Tensor of default boxes\n",
    "        \n",
    "    Returns:\n",
    "        pos_inds: Indices of the connectivity matrix where there is a positive match\n",
    "        neg_inds: Indices of the connectivity matrix where there is a negative match\n",
    "    \"\"\"\n",
    "    \n",
    "    \n",
    "    pos_iou_score =  np.zeros((gt.shape[0], def_box.shape[0]), dtype=np.float32)\n",
    "    neg_iou_score = np.ones((gt.shape[0], def_box.shape[0]), dtype=np.float32)\n",
    "    iou_score =  np.zeros((gt.shape[0], def_box.shape[0]), dtype=np.float32)\n",
    "    \n",
    "    thresh = 0.1\n",
    "    \n",
    "    for i in range(gt.shape[0]): \n",
    "        for j in range(def_box.shape[0]): \n",
    "            iou_score[i,j]  = iou_cpu(gt[i].data, def_box[j].data)\n",
    "            iou_value =  iou_cpu(gt[i].data, def_box[j].data)\n",
    "            \n",
    "            if iou_value > thresh:  \n",
    "                pos_iou_score[i,j] = iou_value\n",
    "            else :\n",
    "                neg_iou_score[i,j] = iou_value\n",
    "    \n",
    "    pos_inds  = np.argwhere(pos_iou_score>thresh)\n",
    "    \n",
    "    if not pos_inds: \n",
    "         pos_inds = np.argwhere(np.max(iou_score))\n",
    "            \n",
    "    neg_inds = np.argwhere(neg_iou_score<=thresh)\n",
    "    \n",
    "    return  pos_inds, neg_inds,iou_score, pos_iou_score, neg_iou_score\n"
   ]
  },
  {
   "cell_type": "code",
   "execution_count": 24,
   "metadata": {
    "ExecuteTime": {
     "end_time": "2017-11-22T08:58:26.059178Z",
     "start_time": "2017-11-22T08:58:25.971603Z"
    }
   },
   "outputs": [],
   "source": [
    "## lets test the above functions \n",
    "# def_size =120 \n",
    "# height_list, width_list  = get_aspect_ratios(def_size )\n",
    "# def_boxes_all = defaultgen(img,fm,def_size, def_size)\n",
    "# def_box_new = chainer.Variable(np.zeros([1,6],dtype = np.float32) )\n",
    "# def_box_new.copydata(def_boxes_all)\n",
    "\n",
    "# for i in range(len(height_list)): \n",
    "\n",
    "#     def_box_new.data[0][2:4]=height_list[i], width_list[i]    \n",
    "#     def_boxes_all = F.vstack((def_boxes_all,def_box_new))\n",
    "    \n",
    "\n",
    "# pos_inds, neg_inds, iou_score, pos_iou_score, neg_iou_score = find_match_indices_cpu(def_boxes_all, gt)\n",
    "# iou_score\n",
    "\n"
   ]
  },
  {
   "cell_type": "markdown",
   "metadata": {
    "ExecuteTime": {
     "end_time": "2017-11-19T06:31:55.610205Z",
     "start_time": "2017-11-19T06:31:55.606389Z"
    }
   },
   "source": [
    "### Eveyrthing connected\n",
    "\n",
    "Now we connect it all and first test x regression, they y regression and then combination of both\n",
    "\n",
    "could it be that the aspect ratio of a box vs the aspect ratio of the default box have something to do with the loss? \n"
   ]
  },
  {
   "cell_type": "code",
   "execution_count": 25,
   "metadata": {
    "ExecuteTime": {
     "end_time": "2017-11-22T08:58:26.225792Z",
     "start_time": "2017-11-22T08:58:26.060804Z"
    }
   },
   "outputs": [],
   "source": [
    "from chainer.optimizers import SGD,Adam,MomentumSGD\n",
    "from tqdm import tqdm\n",
    "import matplotlib.pyplot as plt\n",
    "\n",
    "select_index =64 \n",
    "def get_shifts(shift_input):\n",
    "    \"\"\"Get shifts\"\"\"\n",
    "    \n",
    "    shifts = shift_input\n",
    "    shifts= shifts[:,:,select_index,select_index]\n",
    "    shifts =F.reshape(shifts,[1,6,1,1])\n",
    "    \n",
    "    return shifts \n",
    "\n",
    "def get_gt_coords(posdiff, posr, posc):\n",
    "    \"\"\"Generate coordinates for the gt box\"\"\"\n",
    "    \n",
    "    width_gt =  np.random.randint(40, 55) \n",
    "    height_gt = width_gt\n",
    "    posx = posr+posdiff\n",
    "    posy = posc+posdiff\n",
    "    posr = np.random.randint(posr, posx) \n",
    "    posc = np.random.randint(posc, posy) \n",
    "    \n",
    "    return posr,posc, width_gt, height_gt\n",
    "\n",
    "\n",
    "def predict_box(boxnet, posr, posc,width_gt, height_gt, def_size, def_boxes): \n",
    "    \"\"\"Get prediction boxes\"\"\"\n",
    "    \n",
    "    \n",
    "    \"\"\"generate image\"\"\"\n",
    "    gt, img =get_single_image(posr, posc, width_gt, height_gt)\n",
    "    \n",
    "    \"\"\"Get shifts\"\"\"\n",
    "    shifts  = get_shifts(boxnet(img))\n",
    "    \n",
    "    \"\"\"Get default_boxes and predictions\"\"\"\n",
    "    # Forward pass ends here\n",
    "    \n",
    "    pred_boxes = get_pred_boxes(shifts, def_boxes)\n",
    "\n",
    "    \"\"\"compute loss\"\"\"\n",
    "    loss = compute_loss( gt ,pred_boxes, def_boxes)\n",
    "    \n",
    "    return gt,img, loss, pred_boxes\n",
    "\n",
    "\n",
    "\n",
    "def all_connected(posr, posc, width_gt, height_gt, alpha, number_loops, pos_diff, def_boxes):\n",
    "    \"\"\"\n",
    "    Input\n",
    "    posr         : average x location of a gt box \n",
    "    posc         : average y location of a gt box\n",
    "    width_gt     : width of the ground truth box \n",
    "    height_gt    : height of the ground truth box \n",
    "    alpha        : alpha value for the adam optimizer \n",
    "    number_loops : number of examples generate\n",
    "\n",
    "\n",
    "    Ouput \n",
    "    Image of the loss function \n",
    "    Loss history \n",
    "    prediction boxes\n",
    "    default boxes\n",
    "    ground truths \n",
    "    model \n",
    "    \"\"\"\n",
    "\n",
    "    \n",
    "    boxnet = BoxNet(ConvNet())\n",
    "\n",
    "    optimizer =Adam(alpha= alpha)\n",
    "    optimizer.setup(boxnet)\n",
    "    \n",
    "    def_size =120   \n",
    "    loss_history = []\n",
    "    size_list =[]\n",
    "    \n",
    "    \n",
    "    for i in tqdm(range(number_loops)):\n",
    "        \n",
    "        \"\"\"Get image coordinates\"\"\"\n",
    "        pos_r, pos_c, width_gt, height_gt =get_gt_coords(posdiff, posr,posc)\n",
    "        \n",
    "        \"\"\"Predict a box and calculate loss\"\"\"\n",
    "        gt,img, loss , pred_boxes= predict_box(boxnet, pos_r, pos_c,width_gt,\n",
    "                                            height_gt, def_size ,def_boxes)\n",
    "                                                      \n",
    "                                            \n",
    "        # plot every 100 iterations \n",
    "        if i % 100==0: \n",
    "            ax=draw_boxes(img,def_boxes)\n",
    "            draw_pred_boxes(pred_boxes, img, ax)\n",
    "            print('pred box:  ', pred_boxes)\n",
    "            print('gt: ', gt)      \n",
    "     \n",
    "        loss_history.append(loss.data)\n",
    "        size_list.append(width_gt)\n",
    "    \n",
    "        boxnet.zerograds()\n",
    "        loss.backward()\n",
    "        optimizer.update()\n",
    "\n",
    "\n",
    "    return loss_history, pred_boxes,def_boxes,  gt,img, boxnet\n"
   ]
  },
  {
   "cell_type": "code",
   "execution_count": 26,
   "metadata": {
    "ExecuteTime": {
     "end_time": "2017-11-22T08:58:26.326871Z",
     "start_time": "2017-11-22T08:58:26.227497Z"
    },
    "collapsed": true
   },
   "outputs": [],
   "source": [
    "def testing_model(model, test_imgs,test_gts): \n",
    "\n",
    "    test_pred_boxes_all = []\n",
    "\n",
    "    for i in range(len(test_imgs)): \n",
    "        test_shifts=boxnet(test_imgs[i])\n",
    "        test_shifts = test_shifts[:,:,64,64]\n",
    "\n",
    "        test_shifts =F.reshape(test_shifts,[1,6,1,1])\n",
    "        test_def_boxes = defaultgen(test_imgs[i], fm,height_list[0] ,width_list[0])\n",
    "        test_pred_boxes = get_pred_boxes(test_shifts, test_def_boxes)\n",
    "        test_pred_boxes_all.append(test_pred_boxes)\n",
    "\n",
    "    return test_pred_boxes_all "
   ]
  },
  {
   "cell_type": "code",
   "execution_count": 27,
   "metadata": {
    "ExecuteTime": {
     "end_time": "2017-11-22T08:58:26.450391Z",
     "start_time": "2017-11-22T08:58:26.328522Z"
    }
   },
   "outputs": [
    {
     "data": {
      "text/plain": [
       "([360, 240, 60, 30], [40, 60, 240, 480])"
      ]
     },
     "execution_count": 27,
     "metadata": {},
     "output_type": "execute_result"
    }
   ],
   "source": [
    "height_list, width_list"
   ]
  },
  {
   "cell_type": "markdown",
   "metadata": {},
   "source": [
    "\n",
    "## Experiments "
   ]
  },
  {
   "cell_type": "code",
   "execution_count": 28,
   "metadata": {
    "ExecuteTime": {
     "end_time": "2017-11-22T09:01:04.123400Z",
     "start_time": "2017-11-22T08:58:26.452199Z"
    },
    "scrolled": false
   },
   "outputs": [
    {
     "name": "stderr",
     "output_type": "stream",
     "text": [
      "\r",
      "  0%|          | 0/300 [00:00<?, ?it/s]"
     ]
    },
    {
     "data": {
      "image/png": "[encoded data removed]",
      "text/plain": [
       "<matplotlib.figure.Figure at 0x7fedba552f98>"
      ]
     },
     "metadata": {},
     "output_type": "display_data"
    },
    {
     "name": "stdout",
     "output_type": "stream",
     "text": [
      "pred box:   variable([[ 79.74530792 -18.16590881  90.05259705  75.12429047  -0.35561332\n",
      "             0.13017915]])\n",
      "gt:  variable([[ 40.  42.  43.  43.   1.   0.]])\n"
     ]
    },
    {
     "name": "stderr",
     "output_type": "stream",
     "text": [
      " 33%|███▎      | 100/300 [00:49<01:38,  2.03it/s]"
     ]
    },
    {
     "data": {
      "image/png": "[encoded data removed]",
      "text/plain": [
       "<matplotlib.figure.Figure at 0x7fedba5c83c8>"
      ]
     },
     "metadata": {},
     "output_type": "display_data"
    },
    {
     "name": "stdout",
     "output_type": "stream",
     "text": [
      "pred box:   variable([[ 44.93878937  22.07015228  48.83415604  46.36914825  -0.35561332\n",
      "             0.13017915]])\n",
      "gt:  variable([[ 47.  45.  50.  50.   1.   0.]])\n"
     ]
    },
    {
     "name": "stderr",
     "output_type": "stream",
     "text": [
      " 67%|██████▋   | 200/300 [01:41<00:54,  1.83it/s]"
     ]
    },
    {
     "data": {
      "image/png": "[encoded data removed]",
      "text/plain": [
       "<matplotlib.figure.Figure at 0x7fedba5829b0>"
      ]
     },
     "metadata": {},
     "output_type": "display_data"
    },
    {
     "name": "stdout",
     "output_type": "stream",
     "text": [
      "pred box:   variable([[ 43.22973633  43.40673828  46.45663071  46.50481415  -0.35561332\n",
      "             0.13017915]])\n",
      "gt:  variable([[ 41.  43.  44.  44.   1.   0.]])\n"
     ]
    },
    {
     "name": "stderr",
     "output_type": "stream",
     "text": [
      "100%|██████████| 300/300 [02:37<00:00,  1.71it/s]\n"
     ]
    },
    {
     "data": {
      "image/png": "[encoded data removed]",
      "text/plain": [
       "<matplotlib.figure.Figure at 0x7fedba6d65c0>"
      ]
     },
     "metadata": {},
     "output_type": "display_data"
    },
    {
     "data": {
      "text/plain": [
       "(0,)"
      ]
     },
     "execution_count": 28,
     "metadata": {},
     "output_type": "execute_result"
    }
   ],
   "source": [
    "\"\"\"Main code \"\"\"\n",
    "\n",
    "all_losses = []\n",
    "alpha = 0.00006\n",
    "size= 10\n",
    "nloops= 300\n",
    "posdiff = 8\n",
    " \n",
    "    \n",
    "# generate random x and y locations\n",
    "avg_locx= 40\n",
    "avg_locy= 40\n",
    "\n",
    "# generate default box \n",
    "def_boxes = defaultgen(img,fm, 60,60)\n",
    "def_box_index =np.ravel_multi_index((select_index,select_index),(shifts_all.shape[2],shifts_all.shape[3]))\n",
    "def_boxes = def_boxes[def_box_index,:]\n",
    "def_boxes =def_boxes.reshape([1,1,6])\n",
    "def_boxes = def_boxes[0]\n",
    "\n",
    "\n",
    "\n",
    "# training network \n",
    "loss_history, pred_boxes, def_boxes, ground_truth, image,boxnet = all_connected(avg_locx,\n",
    "                                                                                avg_locy,\n",
    "                                                                                size,size,\n",
    "                                                                                alpha, nloops,\n",
    "                                                                                posdiff,def_boxes)\n",
    "                                                                    \n",
    "\n",
    "# plot loss \n",
    "random_or_not = 'both_xy'\n",
    "plt.figure(figsize=(30,10))\n",
    "plt.xlabel('number of runs', size =20)\n",
    "plt.ylabel('Loss value', size =20)\n",
    "\n",
    "title_name =['Loss_vs_loops num-'+  \n",
    "             str(nloops)+'-size-'+ str(size) + \n",
    "             '-alpha-'+str(alpha)+'-random-'+ \n",
    "             random_or_not]\n",
    "\n",
    "plt.title(title_name, size=22 )\n",
    "plt.ylim([0,1])\n",
    "plt.plot(range(len(loss_history)), loss_history)\n",
    "plt.show()\n",
    "\n",
    "    # end for \n",
    "    \n",
    "all_losses = np.array(all_losses)\n",
    "all_losses2 = all_losses.transpose()\n",
    "all_losses2.shape  \n",
    "\n"
   ]
  },
  {
   "cell_type": "code",
   "execution_count": 29,
   "metadata": {
    "ExecuteTime": {
     "end_time": "2017-11-22T09:01:04.127469Z",
     "start_time": "2017-11-22T09:01:04.124619Z"
    }
   },
   "outputs": [
    {
     "data": {
      "text/plain": [
       "variable([[ 40.,  46.,  46.,  46.,   1.,   0.]])"
      ]
     },
     "execution_count": 29,
     "metadata": {},
     "output_type": "execute_result"
    }
   ],
   "source": [
    "ground_truth"
   ]
  },
  {
   "cell_type": "code",
   "execution_count": 30,
   "metadata": {
    "ExecuteTime": {
     "end_time": "2017-11-22T09:01:04.246734Z",
     "start_time": "2017-11-22T09:01:04.128682Z"
    }
   },
   "outputs": [
    {
     "data": {
      "text/plain": [
       "variable([[ 43.09477997,  43.38217926,  47.21910095,  47.2707901 ,\n",
       "            -0.35561332,   0.13017915]])"
      ]
     },
     "execution_count": 30,
     "metadata": {},
     "output_type": "execute_result"
    }
   ],
   "source": [
    "pred_boxes"
   ]
  },
  {
   "cell_type": "code",
   "execution_count": 31,
   "metadata": {
    "ExecuteTime": {
     "end_time": "2017-11-22T09:01:04.316131Z",
     "start_time": "2017-11-22T09:01:04.248294Z"
    }
   },
   "outputs": [
    {
     "data": {
      "text/plain": [
       "variable([[ 67.17212677,  67.17212677,  60.        ,  60.        ,\n",
       "             0.        ,   0.        ]])"
      ]
     },
     "execution_count": 31,
     "metadata": {},
     "output_type": "execute_result"
    }
   ],
   "source": [
    "def_boxes"
   ]
  },
  {
   "cell_type": "code",
   "execution_count": null,
   "metadata": {
    "ExecuteTime": {
     "end_time": "2017-11-22T08:18:55.460711Z",
     "start_time": "2017-11-22T08:18:55.455515Z"
    }
   },
   "outputs": [],
   "source": []
  },
  {
   "cell_type": "code",
   "execution_count": null,
   "metadata": {
    "collapsed": true
   },
   "outputs": [],
   "source": []
  }
 ],
 "metadata": {
  "kernelspec": {
   "display_name": "Python 3",
   "language": "python",
   "name": "python3"
  },
  "language_info": {
   "codemirror_mode": {
    "name": "ipython",
    "version": 3
   },
   "file_extension": ".py",
   "mimetype": "text/x-python",
   "name": "python",
   "nbconvert_exporter": "python",
   "pygments_lexer": "ipython3",
   "version": "3.5.2"
  },
  "toc": {
   "colors": {
    "hover_highlight": "#DAA520",
    "navigate_num": "#000000",
    "navigate_text": "#333333",
    "running_highlight": "#FF0000",
    "selected_highlight": "#FFD700",
    "sidebar_border": "#EEEEEE",
    "wrapper_background": "#FFFFFF"
   },
   "moveMenuLeft": true,
   "nav_menu": {
    "height": "228px",
    "width": "252px"
   },
   "navigate_menu": true,
   "number_sections": false,
   "sideBar": true,
   "threshold": 4,
   "toc_cell": true,
   "toc_position": {
    "height": "838px",
    "left": "0px",
    "right": "1653px",
    "top": "107px",
    "width": "212px"
   },
   "toc_section_display": "block",
   "toc_window_display": true,
   "widenNotebook": false
  },
  "varInspector": {
   "cols": {
    "lenName": 16,
    "lenType": 16,
    "lenVar": 40
   },
   "kernels_config": {
    "python": {
     "delete_cmd_postfix": "",
     "delete_cmd_prefix": "del ",
     "library": "var_list.py",
     "varRefreshCmd": "print(var_dic_list())"
    },
    "r": {
     "delete_cmd_postfix": ") ",
     "delete_cmd_prefix": "rm(",
     "library": "var_list.r",
     "varRefreshCmd": "cat(var_dic_list()) "
    }
   },
   "types_to_exclude": [
    "module",
    "function",
    "builtin_function_or_method",
    "instance",
    "_Feature"
   ],
   "window_display": false
  }
 },
 "nbformat": 4,
 "nbformat_minor": 2
}
