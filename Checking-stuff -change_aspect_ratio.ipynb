{
 "cells": [
  {
   "cell_type": "markdown",
   "metadata": {
    "toc": "true"
   },
   "source": [
    "# Table of Contents\n",
    " <p><div class=\"lev1 toc-item\"><a href=\"#Checking-regression\" data-toc-modified-id=\"Checking-regression-1\"><span class=\"toc-item-num\">1&nbsp;&nbsp;</span>Checking regression</a></div><div class=\"lev2 toc-item\"><a href=\"#Checking-functions\" data-toc-modified-id=\"Checking-functions-11\"><span class=\"toc-item-num\">1.1&nbsp;&nbsp;</span>Checking functions</a></div><div class=\"lev3 toc-item\"><a href=\"#Generate-boxes\" data-toc-modified-id=\"Generate-boxes-111\"><span class=\"toc-item-num\">1.1.1&nbsp;&nbsp;</span>Generate boxes</a></div><div class=\"lev3 toc-item\"><a href=\"#Generate-test-dataset\" data-toc-modified-id=\"Generate-test-dataset-112\"><span class=\"toc-item-num\">1.1.2&nbsp;&nbsp;</span>Generate test dataset</a></div><div class=\"lev3 toc-item\"><a href=\"#Conv-net-definitions\" data-toc-modified-id=\"Conv-net-definitions-113\"><span class=\"toc-item-num\">1.1.3&nbsp;&nbsp;</span>Conv net definitions</a></div><div class=\"lev3 toc-item\"><a href=\"#Generate-Default-boxes\" data-toc-modified-id=\"Generate-Default-boxes-114\"><span class=\"toc-item-num\">1.1.4&nbsp;&nbsp;</span>Generate Default boxes</a></div><div class=\"lev3 toc-item\"><a href=\"#Center-to-coords\" data-toc-modified-id=\"Center-to-coords-115\"><span class=\"toc-item-num\">1.1.5&nbsp;&nbsp;</span>Center to coords</a></div><div class=\"lev3 toc-item\"><a href=\"#Draw-boxes\" data-toc-modified-id=\"Draw-boxes-116\"><span class=\"toc-item-num\">1.1.6&nbsp;&nbsp;</span>Draw boxes</a></div><div class=\"lev3 toc-item\"><a href=\"#Get-prediction-boxes\" data-toc-modified-id=\"Get-prediction-boxes-117\"><span class=\"toc-item-num\">1.1.7&nbsp;&nbsp;</span>Get prediction boxes</a></div><div class=\"lev3 toc-item\"><a href=\"#Draw-predicted-boxes\" data-toc-modified-id=\"Draw-predicted-boxes-118\"><span class=\"toc-item-num\">1.1.8&nbsp;&nbsp;</span>Draw predicted boxes</a></div><div class=\"lev3 toc-item\"><a href=\"#Normalize-shifts\" data-toc-modified-id=\"Normalize-shifts-119\"><span class=\"toc-item-num\">1.1.9&nbsp;&nbsp;</span>Normalize shifts</a></div><div class=\"lev3 toc-item\"><a href=\"#Regression-loss\" data-toc-modified-id=\"Regression-loss-1110\"><span class=\"toc-item-num\">1.1.10&nbsp;&nbsp;</span>Regression loss</a></div><div class=\"lev3 toc-item\"><a href=\"#Get-aspect-ratio\" data-toc-modified-id=\"Get-aspect-ratio-1111\"><span class=\"toc-item-num\">1.1.11&nbsp;&nbsp;</span>Get aspect ratio</a></div><div class=\"lev3 toc-item\"><a href=\"#Do-the-matching\" data-toc-modified-id=\"Do-the-matching-1112\"><span class=\"toc-item-num\">1.1.12&nbsp;&nbsp;</span>Do the matching</a></div><div class=\"lev4 toc-item\"><a href=\"#IOU-cpu\" data-toc-modified-id=\"IOU-cpu-11121\"><span class=\"toc-item-num\">1.1.12.1&nbsp;&nbsp;</span>IOU cpu</a></div><div class=\"lev4 toc-item\"><a href=\"#Find-matching-indices\" data-toc-modified-id=\"Find-matching-indices-11122\"><span class=\"toc-item-num\">1.1.12.2&nbsp;&nbsp;</span>Find matching indices</a></div><div class=\"lev3 toc-item\"><a href=\"#Eveyrthing-connected\" data-toc-modified-id=\"Eveyrthing-connected-1113\"><span class=\"toc-item-num\">1.1.13&nbsp;&nbsp;</span>Eveyrthing connected</a></div><div class=\"lev2 toc-item\"><a href=\"#Experiments\" data-toc-modified-id=\"Experiments-12\"><span class=\"toc-item-num\">1.2&nbsp;&nbsp;</span>Experiments</a></div>"
   ]
  },
  {
   "cell_type": "markdown",
   "metadata": {},
   "source": [
    "# Checking regression "
   ]
  },
  {
   "cell_type": "markdown",
   "metadata": {},
   "source": [
    "The strategy will be to check regression in x and y and see how that works out when you combine it. Clearly something must be amiss. So the list of things to do is the following - \n",
    "\n",
    "\n",
    "1) check regression in x \n",
    "\n",
    "2) check regression in y \n",
    "\n",
    "3) check regression when you combine both\n",
    "\n",
    "4) For all of this you need to check each function to make sure that it is doing what its supposed to do\n",
    "\n",
    "\n"
   ]
  },
  {
   "cell_type": "markdown",
   "metadata": {},
   "source": [
    "## Checking functions "
   ]
  },
  {
   "cell_type": "markdown",
   "metadata": {},
   "source": [
    "### Generate boxes\n",
    "\n",
    "First attempt chose a static box to see what is going on,  you will replicate the code for random boxes"
   ]
  },
  {
   "cell_type": "code",
   "execution_count": 1,
   "metadata": {
    "ExecuteTime": {
     "end_time": "2017-11-21T12:28:37.121931Z",
     "start_time": "2017-11-21T12:28:36.523636Z"
    }
   },
   "outputs": [
    {
     "data": {
      "image/png": "[encoded data removed]",
      "text/plain": [
       "<matplotlib.figure.Figure at 0x7f4228df10b8>"
      ]
     },
     "metadata": {},
     "output_type": "display_data"
    }
   ],
   "source": [
    "import chainer\n",
    "import numpy as np\n",
    "import matplotlib.pyplot as plt\n",
    "from matplotlib import patches\n",
    "import random \n",
    "from chainer.functions import log, hstack, huber_loss\n",
    "\n",
    "# %matplotlib notebook\n",
    "def get_single_image(pos_r, pos_c, height, width  ): \n",
    "    \n",
    "    image = np.zeros((1,3,128,128), dtype=np.float32)\n",
    "\n",
    "    gts = []\n",
    "\n",
    "    for i in range(1):\n",
    "        # Choose random coordinate, this can also be run in a loop\n",
    "        width = width\n",
    "        height =height\n",
    "        pos_r =pos_r\n",
    "        pos_c =pos_c\n",
    "        image[0,:,pos_r:pos_r+height,pos_c:pos_c+width]=1\n",
    "        #print(pos_r, pos_c)\n",
    "\n",
    "        cx = pos_c #+ width/2.0\n",
    "        cy = pos_r #- height/2.0\n",
    "\n",
    "        box = [cx, cy, width, height, 1, 0]\n",
    "\n",
    "        gts.append(box)\n",
    "\n",
    "    # Create ground truth object\n",
    "    gts2 = chainer.Variable(np.array(gts, dtype=np.float32))\n",
    "    return gts2, image \n",
    "\n",
    "\n",
    "gt, img  = get_single_image(50,50, 50,20)\n",
    "for i in range(1):\n",
    "    # Initialize the image\n",
    "    \n",
    "    # Visualize the entire thing\n",
    "    plt.imshow(img[0,0,:,:])\n",
    "    plt.show()"
   ]
  },
  {
   "cell_type": "code",
   "execution_count": 2,
   "metadata": {
    "ExecuteTime": {
     "end_time": "2017-11-21T12:28:37.129295Z",
     "start_time": "2017-11-21T12:28:37.124174Z"
    }
   },
   "outputs": [
    {
     "name": "stdout",
     "output_type": "stream",
     "text": [
      "ground truth box coordinates:  variable([[ 50.  50.  20.  50.   1.   0.]]) gt shape : (1, 6)\n",
      "-----------------------------------------------\n",
      "Image shape (1, 3, 128, 128)\n"
     ]
    }
   ],
   "source": [
    "print('ground truth box coordinates: ' ,gt,'gt shape :' ,gt.shape)\n",
    "print('-----------------------------------------------')\n",
    "print('Image shape', img.shape)\n"
   ]
  },
  {
   "cell_type": "markdown",
   "metadata": {},
   "source": [
    "### Generate test dataset"
   ]
  },
  {
   "cell_type": "code",
   "execution_count": 3,
   "metadata": {
    "ExecuteTime": {
     "end_time": "2017-11-21T12:28:37.327242Z",
     "start_time": "2017-11-21T12:28:37.131143Z"
    }
   },
   "outputs": [
    {
     "data": {
      "image/png": "[encoded data removed]",
      "text/plain": [
       "<matplotlib.figure.Figure at 0x7f41d8301128>"
      ]
     },
     "metadata": {},
     "output_type": "display_data"
    }
   ],
   "source": [
    "def generate_test_set():\n",
    "    \n",
    "    image_sizes = [10,15,20,25,30,35,40,45,50,55,60]\n",
    "    locx =[20,20,30,30,40,40,50, 60,60,60,60]\n",
    "    locy = [60,60,30,30,40,60,50, 45,45,50,50]\n",
    "    test_gts = []\n",
    "    imgs = []\n",
    "    \n",
    "    for i in range(len(locx)): \n",
    "\n",
    "        image = np.zeros((1,3,128,128), dtype=np.float32)\n",
    "        # Choose random coordinate, this can also be run in a loop\n",
    "        width = image_sizes[i]\n",
    "        height =image_sizes[i]\n",
    "        pos_r =locx[i]\n",
    "        pos_c =locy[i]\n",
    "        image[0,:,pos_r:pos_r+height,pos_c:pos_c+width]=1\n",
    "        #print(pos_r, pos_c)\n",
    "\n",
    "        cx = pos_c #+ width/2.0\n",
    "        cy = pos_r #- height/2.0\n",
    "\n",
    "        box = [cx, cy, width, height, 1, 0]\n",
    "\n",
    "        test_gts.append(box)\n",
    "        imgs.append(image)\n",
    "    # Create ground truth object\n",
    "    test_gts2 = chainer.Variable(np.array(test_gts, dtype=np.float32))\n",
    "    return test_gts2, imgs \n",
    "\n",
    "test_gts, test_imgs = generate_test_set()\n",
    "test_gts\n",
    "\n",
    "img_test = test_imgs[1]\n",
    "\n",
    "plt.imshow(img_test[0,0,:,:])\n",
    "\n",
    "\n",
    "plt.show()\n"
   ]
  },
  {
   "cell_type": "markdown",
   "metadata": {},
   "source": [
    "### Conv net definitions "
   ]
  },
  {
   "cell_type": "code",
   "execution_count": 4,
   "metadata": {
    "ExecuteTime": {
     "end_time": "2017-11-21T12:28:37.382965Z",
     "start_time": "2017-11-21T12:28:37.328848Z"
    },
    "collapsed": true
   },
   "outputs": [],
   "source": [
    "from chainer import Chain\n",
    "import chainer\n",
    "import chainer.functions as F\n",
    "import chainer.links as L\n",
    "\n",
    "class ConvNet(Chain):\n",
    "    def __init__(self):\n",
    "        super(ConvNet, self).__init__(\n",
    "            l1=L.Convolution2D(None,32,ksize=(3,3),stride=1,pad=1),\n",
    "            l2=L.Convolution2D(32,32,ksize=(3,3),stride=1,pad=1),\n",
    "            l3=L.DilatedConvolution2D(32,32,ksize=(5,5),stride=1,pad=1),\n",
    "            l4=L.Convolution2D(32,32,ksize=(3,3),stride=1,pad=1),\n",
    "            l5=L.Convolution2D(32,32,ksize=(3,3),stride=1,pad=1),    \n",
    "            l6=L.DilatedConvolution2D(32,32,ksize=(7,7),stride=1,pad=1),\n",
    "            l7=L.Convolution2D(32,32,ksize=(3,3),stride=1,pad=1),\n",
    "            l8=L.Convolution2D(32,32,ksize=(3,3),stride=1,pad=1)\n",
    "            \n",
    "        )\n",
    "        \n",
    "    def __call__(self, x):\n",
    "        h1 = F.relu(self.l1(x))\n",
    "        h2= F.relu(self.l2(h1))\n",
    "        h3 = F.relu(self.l3(h2))\n",
    "#         h4 = F.max_pooling_2d(h3, 2)\n",
    "        \n",
    "        h5 = F.relu(self.l4(h3))\n",
    "        h6= F.relu(self.l5(h5))\n",
    "        h7 = F.relu(self.l6(h6))\n",
    "        h8 = F.relu(self.l7(h7))\n",
    "       \n",
    "        \n",
    "#         h8 = F.max_pooling_2d(h7, 2)\n",
    "#         h5 = F.relu(self.l3(h4))\n",
    "#         h6 = F.max_pooling_2d(h5, 2)\n",
    "#         h7 = F.relu(self.l4(h6))\n",
    "        \n",
    "        return self.l8(F.sigmoid(h8))\n",
    "    "
   ]
  },
  {
   "cell_type": "code",
   "execution_count": 5,
   "metadata": {
    "ExecuteTime": {
     "end_time": "2017-11-21T12:28:37.923225Z",
     "start_time": "2017-11-21T12:28:37.384763Z"
    }
   },
   "outputs": [
    {
     "data": {
      "text/plain": [
       "(1, 6, 122, 122)"
      ]
     },
     "execution_count": 5,
     "metadata": {},
     "output_type": "execute_result"
    }
   ],
   "source": [
    "class BoxNet(Chain):\n",
    "    def __init__(self, predictor):\n",
    "        super(BoxNet, self).__init__(\n",
    "            l1=L.Convolution2D(None,6,ksize=(3,3),stride=1,pad=1)\n",
    "        )\n",
    "        self.predictor = predictor\n",
    "        \n",
    "    def __call__(self, x):\n",
    "        h1 = self.l1(self.predictor(x))\n",
    "        return h1\n",
    "    \n",
    "convnet = ConvNet()\n",
    "boxnet = BoxNet(ConvNet())\n",
    "fm = convnet(img)\n",
    "shifts_all = boxnet(img)\n",
    "\n",
    "shifts= shifts_all[:,:,64,64]\n",
    "shifts =F.reshape(shifts,[1,6,1,1])\n",
    "shifts_all.shape"
   ]
  },
  {
   "cell_type": "code",
   "execution_count": 6,
   "metadata": {
    "ExecuteTime": {
     "end_time": "2017-11-21T12:28:37.936364Z",
     "start_time": "2017-11-21T12:28:37.929001Z"
    }
   },
   "outputs": [
    {
     "name": "stdout",
     "output_type": "stream",
     "text": [
      "shifts all shape : (1, 6, 122, 122)  \n",
      " shifts shape : (1, 6, 1, 1)\n",
      "------------------------------------------\n",
      "shifts value : variable([[[ 0.05029006]]\n",
      "\n",
      "          [[-0.38703772]]\n",
      "\n",
      "          [[ 0.41759109]]\n",
      "\n",
      "          [[ 0.71459198]]\n",
      "\n",
      "          [[-0.21204697]]\n",
      "\n",
      "          [[-0.02093881]]])\n"
     ]
    }
   ],
   "source": [
    "print('shifts all shape :', shifts_all.shape,  ' \\n shifts shape :', shifts.shape)\n",
    "print('------------------------------------------')\n",
    "print('shifts value :', shifts[0])"
   ]
  },
  {
   "cell_type": "markdown",
   "metadata": {},
   "source": [
    "### Generate Default boxes"
   ]
  },
  {
   "cell_type": "code",
   "execution_count": 7,
   "metadata": {
    "ExecuteTime": {
     "end_time": "2017-11-21T12:28:38.019409Z",
     "start_time": "2017-11-21T12:28:37.939207Z"
    },
    "collapsed": true
   },
   "outputs": [],
   "source": [
    "def defaultgen(I, F, width, height):\n",
    "    \"\"\"\n",
    "    Generates an array of default boxes: Chainer TESTED\n",
    "    \n",
    "    Args:\n",
    "        I: Input image tensor (N,channels,rows,cols)\n",
    "        F: Feature map tensor to generate default boxes for\n",
    "        width: Width of the box\n",
    "        height: Height of the box\n",
    "        \n",
    "    Returns:\n",
    "        db: Default boxes tensor, flattened\n",
    "    \"\"\"\n",
    "    scale = (I.shape[2] / F.shape[2])\n",
    "    offset = np.ones((2,F.shape[2],F.shape[3]), dtype=np.float32)\n",
    "    iterator = np.flip(np.indices((F.shape[2],F.shape[3])), axis=0).astype(np.float32)\n",
    "    \n",
    "    xys = offset * ((scale-1)/2) + iterator * scale\n",
    "    xys = np.moveaxis(xys,0,2)\n",
    "    ws = np.full((F.shape[2],F.shape[3],1), width, dtype=np.float32)\n",
    "    hs = np.full((F.shape[2],F.shape[3],1), height,dtype=np.float32)\n",
    "    class_scores = np.zeros((F.shape[2],F.shape[3],2), dtype=np.float32)\n",
    "    db = np.dstack([xys, ws, hs, class_scores])\n",
    "   \n",
    "    db = db[64,64,:]\n",
    "    db = db.reshape([1,1,6])\n",
    "    \n",
    "    return chainer.Variable(db.reshape((db.shape[0] * db.shape[1], 6)))\n"
   ]
  },
  {
   "cell_type": "code",
   "execution_count": 8,
   "metadata": {
    "ExecuteTime": {
     "end_time": "2017-11-21T12:28:38.121614Z",
     "start_time": "2017-11-21T12:28:38.021179Z"
    }
   },
   "outputs": [
    {
     "name": "stdout",
     "output_type": "stream",
     "text": [
      "def_boxes values: variable([[ 67.17212677  67.17212677  60.          60.           0.           0.        ]])\n",
      "---------------------------------------\n",
      "print shape of def boxes : (1, 6)\n"
     ]
    }
   ],
   "source": [
    "def_boxes = defaultgen(img,fm, 60,60)\n",
    "print('def_boxes values:', def_boxes)\n",
    "print('---------------------------------------')\n",
    "print('print shape of def boxes :', def_boxes.shape)"
   ]
  },
  {
   "cell_type": "markdown",
   "metadata": {},
   "source": [
    "### Center to coords \n",
    "\n",
    "This function has been checked, seems correct, some examples below"
   ]
  },
  {
   "cell_type": "code",
   "execution_count": 9,
   "metadata": {
    "ExecuteTime": {
     "end_time": "2017-11-21T12:28:38.204955Z",
     "start_time": "2017-11-21T12:28:38.123436Z"
    },
    "collapsed": true
   },
   "outputs": [],
   "source": [
    "def center_to_coords(box):\n",
    "    \"\"\" \n",
    "    Converts bounding box from (cx, cy, w, h) format to (x1, y1, x2, y2) format\n",
    "    \n",
    "    Args:\n",
    "        box: 6d numpy array\n",
    "        \n",
    "    Returns:\n",
    "        box_transformed: Box in the second format\n",
    "    \n",
    "    \"\"\"\n",
    "    box_transformed = np.array([box[0]-box[2]/2.0, box[1]-box[3]/2.0, box[0]+box[2]/2.0, box[1]+box[3]/2.0, box[4], box[5]])\n",
    "    return box_transformed\n",
    "\n"
   ]
  },
  {
   "cell_type": "markdown",
   "metadata": {
    "ExecuteTime": {
     "end_time": "2017-11-19T04:14:15.764172Z",
     "start_time": "2017-11-19T04:14:15.761232Z"
    }
   },
   "source": [
    "Checking center to coords..."
   ]
  },
  {
   "cell_type": "code",
   "execution_count": 10,
   "metadata": {
    "ExecuteTime": {
     "end_time": "2017-11-21T12:28:38.300167Z",
     "start_time": "2017-11-21T12:28:38.206818Z"
    }
   },
   "outputs": [
    {
     "data": {
      "text/plain": [
       "array([variable(37.17212677001953), variable(37.17212677001953),\n",
       "       variable(97.17212677001953), variable(97.17212677001953),\n",
       "       variable(0.0), variable(0.0)], dtype=object)"
      ]
     },
     "execution_count": 10,
     "metadata": {},
     "output_type": "execute_result"
    }
   ],
   "source": [
    "center_to_coords(def_boxes[0])"
   ]
  },
  {
   "cell_type": "code",
   "execution_count": 11,
   "metadata": {
    "ExecuteTime": {
     "end_time": "2017-11-21T12:28:38.373275Z",
     "start_time": "2017-11-21T12:28:38.301649Z"
    }
   },
   "outputs": [
    {
     "name": "stdout",
     "output_type": "stream",
     "text": [
      "[  73.5   -1.5  106.5   31.5    0.     0. ] [  8.5   7.5  11.5  10.5   0.    0. ]\n"
     ]
    }
   ],
   "source": [
    "# some more checks \n",
    "\n",
    "box1= np.array([10,9, 3,3,0,0])\n",
    "box2= np.array([90,15, 33,33,0,0])\n",
    "\n",
    "print(center_to_coords(box2), center_to_coords(box1)) "
   ]
  },
  {
   "cell_type": "markdown",
   "metadata": {},
   "source": [
    "### Draw boxes \n"
   ]
  },
  {
   "cell_type": "code",
   "execution_count": 12,
   "metadata": {
    "ExecuteTime": {
     "end_time": "2017-11-21T12:28:38.492407Z",
     "start_time": "2017-11-21T12:28:38.375280Z"
    },
    "collapsed": true
   },
   "outputs": [],
   "source": [
    "def draw_boxes(image, boxes):\n",
    "    img = image\n",
    "    plt.figure()\n",
    "    ax = plt.axes()\n",
    "\n",
    "    for box in boxes:\n",
    "        box = center_to_coords(box.data)\n",
    "        ax.imshow(img[0,0,:,:])\n",
    "        p = patches.Rectangle((box[0], box[1]), box[2]-box[0], box[3]-box[1], fill=False, color = 'red')\n",
    "        ax.add_patch(p)\n",
    "\n",
    "    \n",
    "    return ax\n",
    "ax  = draw_boxes(img, def_boxes)"
   ]
  },
  {
   "cell_type": "markdown",
   "metadata": {},
   "source": [
    "### Get prediction boxes \n",
    "\n",
    "This seems to be correct as well"
   ]
  },
  {
   "cell_type": "code",
   "execution_count": 13,
   "metadata": {
    "ExecuteTime": {
     "end_time": "2017-11-21T12:28:38.567281Z",
     "start_time": "2017-11-21T12:28:38.494442Z"
    },
    "collapsed": true
   },
   "outputs": [],
   "source": [
    "def get_pred_boxes(shift_vals, default_boxes ): \n",
    "    \"\"\"\n",
    "    Get predicted boxes by combining shift values to default boxes\n",
    "    Input: \n",
    "\n",
    "    shift_values : Shifts generated by the network  NDarray (None, Num of Default boxes, 4+num of classes)\n",
    "    Default boxes  : Default boxes generated by the network NDarray (None, Num of Default boxes, 4+num of classes)\n",
    "\n",
    "    Output: \n",
    "\n",
    "    Predicted boxes  : Predicted boxes, same shape as default boxes  NDarray (None, Num of Default boxes, 4+num of classes)\n",
    "\n",
    "    \"\"\"\n",
    "    \n",
    "    shift_val_shape= default_boxes.shape\n",
    "    shift_vals= F.swapaxes(shift_vals,1,3)\n",
    "    shift_vals= F.reshape(shift_vals,shift_val_shape)\n",
    "    \n",
    "    shifts = shift_vals \n",
    "    def_boxes= default_boxes\n",
    "    \n",
    "    \n",
    "    cx_pred = (shifts[:,0]*def_boxes[:,2])+def_boxes[:,0]\n",
    "    cy_pred = (shifts[:,1]*def_boxes[:,3])+def_boxes[:,1]\n",
    "    \n",
    "    H_pred = F.exp(shifts[:,3])*def_boxes[:,3]\n",
    "    W_pred = F.exp(shifts[:,2])*def_boxes[:,2]\n",
    "    \n",
    "    class1 = shifts[:,4]\n",
    "    class2 = shifts[:,5]\n",
    "    \n",
    "    \n",
    "    pred_boxes = F.vstack((cx_pred,cy_pred,W_pred,H_pred, class1, class2))\n",
    "    pred_boxes = F.transpose(pred_boxes)\n",
    "    \n",
    "    return  pred_boxes "
   ]
  },
  {
   "cell_type": "code",
   "execution_count": 14,
   "metadata": {
    "ExecuteTime": {
     "end_time": "2017-11-21T12:28:38.670112Z",
     "start_time": "2017-11-21T12:28:38.569069Z"
    }
   },
   "outputs": [
    {
     "name": "stdout",
     "output_type": "stream",
     "text": [
      "prediction box coordinates : variable([[  7.01895294e+01   4.39498634e+01   9.10979843e+01\n",
      "             1.22601173e+02  -2.12046966e-01  -2.09388100e-02]])\n"
     ]
    }
   ],
   "source": [
    "pred_boxes= get_pred_boxes(shifts, def_boxes)\n",
    "print('prediction box coordinates :', pred_boxes)"
   ]
  },
  {
   "cell_type": "code",
   "execution_count": 15,
   "metadata": {
    "ExecuteTime": {
     "end_time": "2017-11-21T12:28:38.780552Z",
     "start_time": "2017-11-21T12:28:38.671944Z"
    }
   },
   "outputs": [
    {
     "data": {
      "text/plain": [
       "variable([[[[ 0.05029006]],\n",
       "\n",
       "           [[-0.38703772]],\n",
       "\n",
       "           [[ 0.41759109]],\n",
       "\n",
       "           [[ 0.71459198]],\n",
       "\n",
       "           [[-0.21204697]],\n",
       "\n",
       "           [[-0.02093881]]]])"
      ]
     },
     "execution_count": 15,
     "metadata": {},
     "output_type": "execute_result"
    }
   ],
   "source": [
    "shifts"
   ]
  },
  {
   "cell_type": "code",
   "execution_count": 16,
   "metadata": {
    "ExecuteTime": {
     "end_time": "2017-11-21T12:28:38.870767Z",
     "start_time": "2017-11-21T12:28:38.781947Z"
    }
   },
   "outputs": [
    {
     "data": {
      "text/plain": [
       "variable([[ 67.17212677,  67.17212677,  60.        ,  60.        ,\n",
       "             0.        ,   0.        ]])"
      ]
     },
     "execution_count": 16,
     "metadata": {},
     "output_type": "execute_result"
    }
   ],
   "source": [
    "def_boxes"
   ]
  },
  {
   "cell_type": "markdown",
   "metadata": {},
   "source": [
    "### Draw predicted boxes"
   ]
  },
  {
   "cell_type": "code",
   "execution_count": 17,
   "metadata": {
    "ExecuteTime": {
     "end_time": "2017-11-21T12:28:39.025671Z",
     "start_time": "2017-11-21T12:28:38.872438Z"
    }
   },
   "outputs": [
    {
     "data": {
      "image/png": "[encoded data removed]",
      "text/plain": [
       "<matplotlib.figure.Figure at 0x7f41d82087f0>"
      ]
     },
     "metadata": {},
     "output_type": "display_data"
    }
   ],
   "source": [
    "\n",
    "def draw_pred_boxes(prediction_boxes,img, ax): \n",
    "    \"\"\"Draw predicted boxes on the original image \"\"\"\n",
    "    box =prediction_boxes\n",
    "    \n",
    "    for box in prediction_boxes:\n",
    "        box2= box.data\n",
    "        box = center_to_coords(box.data)\n",
    "        ax.imshow(img[0,0,:,:])\n",
    "        p = patches.Rectangle((box2[0], box2[1]), box[2]-box[0], box[3]-box[1], fill=False, color = 'green')\n",
    "        ax.add_patch(p)\n",
    "\n",
    "\n",
    "    plt.show()\n",
    "\n",
    "draw_pred_boxes(pred_boxes, img, ax)"
   ]
  },
  {
   "cell_type": "markdown",
   "metadata": {
    "ExecuteTime": {
     "end_time": "2017-11-19T06:23:08.749346Z",
     "start_time": "2017-11-19T06:23:08.729143Z"
    }
   },
   "source": [
    "### Normalize shifts     "
   ]
  },
  {
   "cell_type": "code",
   "execution_count": 18,
   "metadata": {
    "ExecuteTime": {
     "end_time": "2017-11-21T12:28:39.046973Z",
     "start_time": "2017-11-21T12:28:39.027523Z"
    },
    "collapsed": true
   },
   "outputs": [],
   "source": [
    "\n",
    "def normalize_shift(box, def_box):\n",
    "    \"\"\"\n",
    "    Scales down absolute shifts, % for centers, log for height and width.\n",
    "    \n",
    "    Args:\n",
    "        box: 6x1 bounding box coordinates\n",
    "        def_box: 6x1 reference box coordinates\n",
    "        \n",
    "    Returns:\n",
    "        normalized_shift_vector: 4x1 normalized shift vector. Note that we discard the last 2 channels.\n",
    "    \"\"\"\n",
    "    tx = (box[0] - def_box[0])/def_box[2]\n",
    "    ty = (box[1] - def_box[1])/def_box[3]\n",
    "    tw = log(box[2]/def_box[2])\n",
    "    th = log(box[3]/def_box[3])\n",
    "    \n",
    "    return hstack([tx, ty, tw, th])\n",
    "    "
   ]
  },
  {
   "cell_type": "markdown",
   "metadata": {},
   "source": [
    "### Regression loss \n",
    "\n",
    "This too seems to work "
   ]
  },
  {
   "cell_type": "code",
   "execution_count": 19,
   "metadata": {
    "ExecuteTime": {
     "end_time": "2017-11-21T12:28:39.161898Z",
     "start_time": "2017-11-21T12:28:39.048741Z"
    }
   },
   "outputs": [
    {
     "name": "stdout",
     "output_type": "stream",
     "text": [
      " regression loss value : variable([ 0.46816593])\n"
     ]
    }
   ],
   "source": [
    "def regression_loss(pred_box, gt_box, def_box):\n",
    "    \"\"\"\n",
    "    Calculates regression loss between two boxes w.r.t a reference default box.\n",
    "    \n",
    "    Args:\n",
    "        pred_box: 6x1 bounding box predicted by the network\n",
    "        gt_box: 6x1 bounding box overlapping with pred_box\n",
    "        def_box: 6x1 bounding box with same index as pred_box\n",
    "        \n",
    "    Returns:\n",
    "        reg_loss: Scalar of huber loss between two vectors\n",
    "    \"\"\"\n",
    "    \n",
    "    gt_normalized  = normalize_shift(gt_box[0],def_box[0])\n",
    "    pred_normalized = normalize_shift(pred_box[0],def_box[0])\n",
    "  \n",
    "    gt_normalized = gt_normalized\n",
    "    pred_normalized = pred_normalized\n",
    "    gt_normalized = gt_normalized.reshape((1,4))\n",
    "    pred_normalized = pred_normalized.reshape((1,4))\n",
    "    # l1 loss \n",
    "#     loss_val= pred_normalized - gt_normalized \n",
    "#     x_reg = F.absolute(loss_val )\n",
    "#     x_reg =F.sum(x_reg)\n",
    "    \n",
    "    #huber loss \n",
    "    return F.huber_loss(gt_normalized,pred_normalized, delta =0.2)\n",
    "    \n",
    "    \n",
    "reg_loss_value = regression_loss(pred_boxes, gt, pred_boxes)\n",
    "print(' regression loss value :', reg_loss_value)\n",
    "\n",
    "\n"
   ]
  },
  {
   "cell_type": "code",
   "execution_count": 20,
   "metadata": {
    "ExecuteTime": {
     "end_time": "2017-11-21T12:28:39.269959Z",
     "start_time": "2017-11-21T12:28:39.163698Z"
    },
    "collapsed": true
   },
   "outputs": [],
   "source": [
    "def compute_loss(gt_boxes, pred_boxes, def_boxes):\n",
    "    \n",
    "    loss_class = chainer.Variable(np.array([0.], dtype=np.float32))\n",
    "    loss_reg = chainer.Variable(np.array([0.], dtype=np.float32))\n",
    "    \n",
    "    gt_box, pred_box, def_box = gt_boxes, pred_boxes, def_boxes    \n",
    "#     loss_reg += regression_loss(pred_box, gt_box, def_box)\n",
    "    loss_reg = regression_loss(pred_box, gt_box, def_box)\n",
    "    \n",
    "    return loss_reg \n"
   ]
  },
  {
   "cell_type": "markdown",
   "metadata": {},
   "source": [
    "### Get aspect ratio "
   ]
  },
  {
   "cell_type": "code",
   "execution_count": 21,
   "metadata": {
    "ExecuteTime": {
     "end_time": "2017-11-21T12:28:39.382128Z",
     "start_time": "2017-11-21T12:28:39.271651Z"
    }
   },
   "outputs": [
    {
     "name": "stdout",
     "output_type": "stream",
     "text": [
      "height list : [360, 240, 60, 30]\n",
      "------------------------------\n",
      "width list : [40, 60, 240, 480]\n"
     ]
    }
   ],
   "source": [
    "def get_aspect_ratios(def_size ):\n",
    "\n",
    "    def_area = def_size*def_size\n",
    "    aspect_ratios = [3, 2,0.50, 0.25]\n",
    "    height_list =[]\n",
    "    width_list = []\n",
    "\n",
    "    for i in aspect_ratios: \n",
    "\n",
    "        height_list.append(int(def_size*i))  \n",
    "        width_list.append(int(def_area/(def_size*i)) )\n",
    "\n",
    "    return height_list,width_list\n",
    "\n",
    "def_size= 120 \n",
    "height_list, width_list= get_aspect_ratios(def_size)\n",
    "\n",
    "\n",
    "print('height list :',height_list)\n",
    "print('------------------------------')\n",
    "print('width list :', width_list)"
   ]
  },
  {
   "cell_type": "markdown",
   "metadata": {},
   "source": [
    "### Do the matching "
   ]
  },
  {
   "cell_type": "markdown",
   "metadata": {},
   "source": [
    "#### IOU cpu"
   ]
  },
  {
   "cell_type": "code",
   "execution_count": 22,
   "metadata": {
    "ExecuteTime": {
     "end_time": "2017-11-21T12:28:39.471632Z",
     "start_time": "2017-11-21T12:28:39.383656Z"
    },
    "collapsed": true
   },
   "outputs": [],
   "source": [
    "# Let's define some useful functions first.\n",
    "# Work with chainer variables for instahook.\n",
    "#from chainer.functions import max, min, hstack\n",
    "\n",
    "def iou_cpu(boxA, boxB):\n",
    "    \"\"\"\n",
    "    Calculates intersection over union score of two rectangles, none of them rotated.: TESTED\n",
    "    \n",
    "    Args:\n",
    "        boxA: Box1\n",
    "        boxB: Box2\n",
    "        \n",
    "    Returns:\n",
    "        iou (scalar): IOU score of the two boxes\n",
    "    \"\"\"\n",
    "        # determine the (x, y)-coordinates of the intersection rectangle\n",
    "        # Maybe we can accelerate this by writing this as a cython extension\n",
    "        \n",
    "    boxA = center_to_coords(boxA)\n",
    "    boxB = center_to_coords(boxB)\n",
    "    \n",
    "    xA = max(boxA[0], boxB[0])\n",
    "    yA = max(boxA[1], boxB[1])\n",
    "    xB = min(boxA[2], boxB[2])\n",
    "    yB = min(boxA[3], boxB[3])\n",
    "    \n",
    "    # compute the area of intersection rectangle\n",
    "    interArea = max((xB - xA), 0) * max((yB - yA), 0)\n",
    "    \n",
    "    # compute the area of both the prediction and ground-truth\n",
    "    # rectangles\n",
    "    boxa_area = (boxA[2] - boxA[0]) * (boxA[3] - boxA[1])\n",
    "    boxb_area = (boxB[2] - boxB[0]) * (boxB[3] - boxB[1])\n",
    "    \n",
    "    # compute the intersection over union by taking the intersection\n",
    "    # area and dividing it by the sum of prediction + ground-truth\n",
    "    # areas - the interesection area\n",
    "    #print(interArea, boxa_area, boxb_area)\n",
    "    iou = interArea / (boxa_area + boxb_area - interArea)\n",
    "\n",
    "    # return the intersection over union value\n",
    "    return iou\n",
    "\n",
    "\n"
   ]
  },
  {
   "cell_type": "markdown",
   "metadata": {},
   "source": [
    "#### Find matching indices "
   ]
  },
  {
   "cell_type": "code",
   "execution_count": 23,
   "metadata": {
    "ExecuteTime": {
     "end_time": "2017-11-21T12:28:39.572024Z",
     "start_time": "2017-11-21T12:28:39.473085Z"
    },
    "collapsed": true
   },
   "outputs": [],
   "source": [
    "def find_match_indices_cpu(def_box, gt): \n",
    "    \"\"\"\n",
    "    Find matches between ground truth boxes and boxes predicted by network.\n",
    "    \n",
    "    Args:\n",
    "        gt (): Tensor of ground truth boxes\n",
    "        pred_boxes (): Tensor of default boxes\n",
    "        \n",
    "    Returns:\n",
    "        pos_inds: Indices of the connectivity matrix where there is a positive match\n",
    "        neg_inds: Indices of the connectivity matrix where there is a negative match\n",
    "    \"\"\"\n",
    "    \n",
    "    \n",
    "    pos_iou_score =  np.zeros((gt.shape[0], def_box.shape[0]), dtype=np.float32)\n",
    "    neg_iou_score = np.ones((gt.shape[0], def_box.shape[0]), dtype=np.float32)\n",
    "    iou_score =  np.zeros((gt.shape[0], def_box.shape[0]), dtype=np.float32)\n",
    "    \n",
    "    thresh = 0.1\n",
    "    \n",
    "    for i in range(gt.shape[0]): \n",
    "        for j in range(def_box.shape[0]): \n",
    "            iou_score[i,j]  = iou_cpu(gt[i].data, def_box[j].data)\n",
    "            iou_value =  iou_cpu(gt[i].data, def_box[j].data)\n",
    "            \n",
    "            if iou_value > thresh:  \n",
    "                pos_iou_score[i,j] = iou_value\n",
    "            else :\n",
    "                neg_iou_score[i,j] = iou_value\n",
    "    \n",
    "    pos_inds  = np.argwhere(pos_iou_score>thresh)\n",
    "    \n",
    "    if not pos_inds: \n",
    "         pos_inds = np.argwhere(np.max(iou_score))\n",
    "            \n",
    "    neg_inds = np.argwhere(neg_iou_score<=thresh)\n",
    "    \n",
    "    return  pos_inds, neg_inds,iou_score, pos_iou_score, neg_iou_score\n"
   ]
  },
  {
   "cell_type": "code",
   "execution_count": 24,
   "metadata": {
    "ExecuteTime": {
     "end_time": "2017-11-21T12:28:39.680226Z",
     "start_time": "2017-11-21T12:28:39.573516Z"
    }
   },
   "outputs": [
    {
     "data": {
      "text/plain": [
       "array([[ 0.06944445,  0.03749517,  0.05166527,  0.06944445,  0.02607795]], dtype=float32)"
      ]
     },
     "execution_count": 24,
     "metadata": {},
     "output_type": "execute_result"
    }
   ],
   "source": [
    "## lets test the above functions \n",
    "def_size =120 \n",
    "height_list, width_list  = get_aspect_ratios(def_size )\n",
    "def_boxes_all = defaultgen(img,fm,def_size, def_size)\n",
    "def_box_new = chainer.Variable(np.zeros([1,6],dtype = np.float32) )\n",
    "def_box_new.copydata(def_boxes_all)\n",
    "\n",
    "for i in range(len(height_list)): \n",
    "\n",
    "    def_box_new.data[0][2:4]=height_list[i], width_list[i]    \n",
    "    def_boxes_all = F.vstack((def_boxes_all,def_box_new))\n",
    "    \n",
    "\n",
    "pos_inds, neg_inds, iou_score, pos_iou_score, neg_iou_score = find_match_indices_cpu(def_boxes_all, gt)\n",
    "iou_score\n",
    "\n"
   ]
  },
  {
   "cell_type": "markdown",
   "metadata": {
    "ExecuteTime": {
     "end_time": "2017-11-19T06:31:55.610205Z",
     "start_time": "2017-11-19T06:31:55.606389Z"
    }
   },
   "source": [
    "### Eveyrthing connected\n",
    "\n",
    "Now we connect it all and first test x regression, they y regression and then combination of both\n",
    "\n",
    "could it be that the aspect ratio of a box vs the aspect ratio of the default box have something to do with the loss? \n"
   ]
  },
  {
   "cell_type": "code",
   "execution_count": 25,
   "metadata": {
    "ExecuteTime": {
     "end_time": "2017-11-21T12:28:39.797032Z",
     "start_time": "2017-11-21T12:28:39.681920Z"
    }
   },
   "outputs": [],
   "source": [
    "from chainer.optimizers import SGD,Adam,MomentumSGD\n",
    "from tqdm import tqdm\n",
    "import matplotlib.pyplot as plt\n",
    "\n",
    "def all_connected(posr, posc, width_gt, height_gt, alpha, number_loops):\n",
    "    \"\"\"\n",
    "    Input\n",
    "\n",
    "    width_gt     : width of the ground truth box \n",
    "    height_gt    : height of the ground truth box \n",
    "    alpha        : alpha value for the adam optimizer \n",
    "    number_loops : number of examples generate\n",
    "\n",
    "\n",
    "    Ouput \n",
    "    Image of the loss function \n",
    "    Loss history \n",
    "    \"\"\"\n",
    "\n",
    "    \n",
    "    \n",
    "    boxnet = BoxNet(ConvNet())\n",
    "\n",
    "    optimizer =Adam(alpha= alpha)\n",
    "    optimizer.setup(boxnet)\n",
    "    loss_history = []\n",
    "    def_size =120 \n",
    "    height_list, width_list = get_aspect_ratios(def_size)\n",
    "    width_list=[def_size]\n",
    "    height_list=[def_size]\n",
    "    run_number =[]\n",
    "    size_list =[]\n",
    "    \n",
    "    for i in tqdm(range(number_loops)):\n",
    "        \n",
    "        width_gt = np.random.randint(40, 60)\n",
    "        height_gt = width_gt\n",
    "        posr = np.random.randint(10, 90) \n",
    "        posc = np.random.randint(10, 90) \n",
    "        \n",
    "        gt, img =get_single_image(posr, posc, width_gt, height_gt)\n",
    "\n",
    "\n",
    "        # Initializing the network and computing the features and shifts\n",
    "        #fm = convnet(img)\n",
    "        shifts2 = boxnet(img)\n",
    "        shifts2= shifts2[:,:,64,64]\n",
    "        shifts2 =F.reshape(shifts2,[1,6,1,1])\n",
    "\n",
    "        # Getting default_boxes and predictions\n",
    "        # Forward pass ends here\n",
    "        loss_total = chainer.Variable(np.array([0.], dtype=np.float32))\n",
    "\n",
    "        for j in [0]: \n",
    "            \n",
    "            def_boxes2 = defaultgen(img, fm,120 ,120 )\n",
    "            pred_boxes2 = get_pred_boxes(shifts2, def_boxes2)\n",
    "            \n",
    "            loss = compute_loss( gt ,pred_boxes2, def_boxes2)\n",
    "            loss_total += loss\n",
    "\n",
    "        if i % 100==0: \n",
    "            ax=draw_boxes(img,def_boxes2)\n",
    "            draw_pred_boxes(pred_boxes2, img, ax)\n",
    "            print('pred box loc:  ' , pred_boxes2[0][0],pred_boxes2[0][1] )\n",
    "            print('gt', gt)\n",
    "        boxnet.zerograds()\n",
    "        loss_history.append(loss_total.data)\n",
    "        size_list.append(width_gt)\n",
    "        \n",
    "        loss_total.backward()\n",
    "\n",
    "        optimizer.update()\n",
    "\n",
    "#     plt.figure(figsize=(30,10))\n",
    "#     plt.plot(range(len(loss_history)), loss_history)\n",
    "#     plt.ylim([0,1])\n",
    "#     plt.show()\n",
    "\n",
    "    return loss_history, pred_boxes2,def_boxes2,  gt,img, boxnet\n"
   ]
  },
  {
   "cell_type": "code",
   "execution_count": 26,
   "metadata": {
    "ExecuteTime": {
     "end_time": "2017-11-21T12:28:39.896499Z",
     "start_time": "2017-11-21T12:28:39.798364Z"
    },
    "collapsed": true
   },
   "outputs": [],
   "source": [
    "def testing_model(model, test_imgs,test_gts): \n",
    "\n",
    "    test_pred_boxes_all = []\n",
    "\n",
    "    for i in range(len(test_imgs)): \n",
    "        test_shifts=boxnet(test_imgs[i])\n",
    "        test_shifts = test_shifts[:,:,64,64]\n",
    "\n",
    "        test_shifts =F.reshape(test_shifts,[1,6,1,1])\n",
    "        test_def_boxes = defaultgen(test_imgs[i], fm,height_list[0] ,width_list[0])\n",
    "        test_pred_boxes = get_pred_boxes(test_shifts, test_def_boxes)\n",
    "        test_pred_boxes_all.append(test_pred_boxes)\n",
    "\n",
    "    return test_pred_boxes_all "
   ]
  },
  {
   "cell_type": "code",
   "execution_count": 27,
   "metadata": {
    "ExecuteTime": {
     "end_time": "2017-11-21T12:28:39.997830Z",
     "start_time": "2017-11-21T12:28:39.898220Z"
    }
   },
   "outputs": [
    {
     "data": {
      "text/plain": [
       "([360, 240, 60, 30], [40, 60, 240, 480])"
      ]
     },
     "execution_count": 27,
     "metadata": {},
     "output_type": "execute_result"
    }
   ],
   "source": [
    "height_list, width_list"
   ]
  },
  {
   "cell_type": "code",
   "execution_count": null,
   "metadata": {
    "ExecuteTime": {
     "end_time": "2017-11-21T09:45:42.089935Z",
     "start_time": "2017-11-21T09:45:41.921726Z"
    },
    "collapsed": true
   },
   "outputs": [],
   "source": []
  },
  {
   "cell_type": "markdown",
   "metadata": {},
   "source": [
    "\n",
    "## Experiments "
   ]
  },
  {
   "cell_type": "code",
   "execution_count": 28,
   "metadata": {
    "ExecuteTime": {
     "end_time": "2017-11-21T12:32:45.188892Z",
     "start_time": "2017-11-21T12:28:39.999530Z"
    },
    "scrolled": false
   },
   "outputs": [
    {
     "name": "stderr",
     "output_type": "stream",
     "text": [
      "\r",
      "  0%|          | 0/500 [00:00<?, ?it/s]"
     ]
    },
    {
     "data": {
      "image/png": "[encoded data removed]",
      "text/plain": [
       "<matplotlib.figure.Figure at 0x7f41d818cb38>"
      ]
     },
     "metadata": {},
     "output_type": "display_data"
    },
    {
     "name": "stdout",
     "output_type": "stream",
     "text": [
      "pred box loc:   variable(56.735015869140625) variable(-41.11676788330078)\n",
      "gt variable([[ 34.  62.  58.  58.   1.   0.]])\n"
     ]
    },
    {
     "name": "stderr",
     "output_type": "stream",
     "text": [
      " 20%|██        | 100/500 [00:50<02:54,  2.29it/s]"
     ]
    },
    {
     "data": {
      "image/png": "[encoded data removed]",
      "text/plain": [
       "<matplotlib.figure.Figure at 0x7f41d818ee10>"
      ]
     },
     "metadata": {},
     "output_type": "display_data"
    },
    {
     "name": "stdout",
     "output_type": "stream",
     "text": [
      "pred box loc:   variable(49.83814239501953) variable(34.157047271728516)\n",
      "gt variable([[ 71.  85.  51.  51.   1.   0.]])\n"
     ]
    },
    {
     "name": "stderr",
     "output_type": "stream",
     "text": [
      " 40%|████      | 200/500 [01:39<02:28,  2.03it/s]"
     ]
    },
    {
     "data": {
      "image/png": "[encoded data removed]",
      "text/plain": [
       "<matplotlib.figure.Figure at 0x7f41d812d518>"
      ]
     },
     "metadata": {},
     "output_type": "display_data"
    },
    {
     "name": "stdout",
     "output_type": "stream",
     "text": [
      "pred box loc:   variable(49.74725341796875) variable(50.50972366333008)\n",
      "gt variable([[ 37.  46.  51.  51.   1.   0.]])\n"
     ]
    },
    {
     "name": "stderr",
     "output_type": "stream",
     "text": [
      " 60%|██████    | 300/500 [02:28<01:38,  2.03it/s]"
     ]
    },
    {
     "data": {
      "image/png": "[encoded data removed]",
      "text/plain": [
       "<matplotlib.figure.Figure at 0x7f41d817ab00>"
      ]
     },
     "metadata": {},
     "output_type": "display_data"
    },
    {
     "name": "stdout",
     "output_type": "stream",
     "text": [
      "pred box loc:   variable(48.95432662963867) variable(54.502288818359375)\n",
      "gt variable([[ 28.  11.  46.  46.   1.   0.]])\n"
     ]
    },
    {
     "name": "stderr",
     "output_type": "stream",
     "text": [
      " 80%|████████  | 400/500 [03:17<00:47,  2.09it/s]"
     ]
    },
    {
     "data": {
      "image/png": "[encoded data removed]",
      "text/plain": [
       "<matplotlib.figure.Figure at 0x7f41d823da20>"
      ]
     },
     "metadata": {},
     "output_type": "display_data"
    },
    {
     "name": "stdout",
     "output_type": "stream",
     "text": [
      "pred box loc:   variable(52.91669464111328) variable(52.688873291015625)\n",
      "gt variable([[ 39.  76.  45.  45.   1.   0.]])\n"
     ]
    },
    {
     "name": "stderr",
     "output_type": "stream",
     "text": [
      "100%|██████████| 500/500 [04:04<00:00,  2.15it/s]\n"
     ]
    },
    {
     "data": {
      "image/png": "[encoded data removed]",
      "text/plain": [
       "<matplotlib.figure.Figure at 0x7f4228dc7eb8>"
      ]
     },
     "metadata": {},
     "output_type": "display_data"
    },
    {
     "data": {
      "image/png": "[encoded data removed]",
      "text/plain": [
       "<matplotlib.figure.Figure at 0x7f41d809c7f0>"
      ]
     },
     "metadata": {},
     "output_type": "display_data"
    },
    {
     "data": {
      "text/plain": [
       "(1, 500, 1)"
      ]
     },
     "execution_count": 28,
     "metadata": {},
     "output_type": "execute_result"
    }
   ],
   "source": [
    "all_losses = []\n",
    "alpha = 0.00005\n",
    "locx= np.random.randint(10, 60) \n",
    "locy= np.random.randint(10, 60) \n",
    "size= 20\n",
    "nloops= 500\n",
    "ensemble = 1\n",
    "\n",
    "\n",
    "for i in range(ensemble): \n",
    "\n",
    "    locx= np.random.randint(, 90) \n",
    "    locy= np.random.randint(10, 90) \n",
    "\n",
    "    loss_history, pred_boxes, def_boxes, ground_truth, image,boxnet = all_connected(locx,locy, size,size, alpha, nloops)\n",
    "    \n",
    "    \n",
    "    ax=draw_boxes(image,def_boxes)\n",
    "    draw_pred_boxes(pred_boxes, image, ax)\n",
    "    all_losses.append(loss_history)\n",
    "\n",
    "    \n",
    "    random_or_not = 'both_xy'\n",
    "    plt.figure(figsize=(30,10))\n",
    "    plt.xlabel('number of runs', size =20)\n",
    "    plt.ylabel('Loss value', size =20)\n",
    "    title_name ='Loss_vs_loops num-'+ str(nloops)+ '-size-'+ str(size) + '-alpha-'+ str(alpha)+'-ensemble-'+str(ensemble)+'-random-'+random_or_not\n",
    "    plt.title(title_name, size=22 )\n",
    "    plt.ylim([0,1])\n",
    "    plt.plot(range(len(loss_history)), loss_history)\n",
    "    # plt.savefig(title_name+'.png')\n",
    "    plt.show()\n",
    "    \n",
    "    \n",
    "    \n",
    "    \n",
    "    \n",
    "    \n",
    "    \n",
    "    \n",
    "all_losses = np.array(all_losses)\n",
    "all_losses2 = all_losses.transpose()\n",
    "all_losses2.shape  \n",
    "\n",
    "\n",
    "\n",
    "\n",
    "# random_or_not = 'both_xy'\n",
    "# plt.figure(figsize=(30,10))\n",
    "# plt.xlabel('number of runs', size =20)\n",
    "# plt.ylabel('Loss value', size =20)\n",
    "# title_name ='Loss_vs_loops num-'+ str(nloops)+ '-size-'+ str(size) + '-alpha-'+ str(alpha)+'-ensemble-'+str(ensemble)+'-random-'+random_or_not\n",
    "# plt.title(title_name, size=22 )\n",
    "# plt.ylim([0,1])\n",
    "# plt.plot(range(len(loss_history)), np.mean(all_losses2,axis=1))\n",
    "# # plt.savefig(title_name+'.png')\n",
    "# plt.show()"
   ]
  },
  {
   "cell_type": "code",
   "execution_count": 29,
   "metadata": {
    "ExecuteTime": {
     "end_time": "2017-11-21T12:32:45.194253Z",
     "start_time": "2017-11-21T12:32:45.190656Z"
    }
   },
   "outputs": [
    {
     "data": {
      "text/plain": [
       "variable([[ 67.,  35.,  53.,  53.,   1.,   0.]])"
      ]
     },
     "execution_count": 29,
     "metadata": {},
     "output_type": "execute_result"
    }
   ],
   "source": [
    "ground_truth"
   ]
  },
  {
   "cell_type": "code",
   "execution_count": 30,
   "metadata": {
    "ExecuteTime": {
     "end_time": "2017-11-21T12:32:45.348594Z",
     "start_time": "2017-11-21T12:32:45.195689Z"
    }
   },
   "outputs": [
    {
     "data": {
      "text/plain": [
       "variable([[ 51.16051483,  50.272995  ,  48.28991318,  48.21246719,\n",
       "             0.64464885,   0.08710552]])"
      ]
     },
     "execution_count": 30,
     "metadata": {},
     "output_type": "execute_result"
    }
   ],
   "source": [
    "pred_boxes"
   ]
  },
  {
   "cell_type": "code",
   "execution_count": null,
   "metadata": {
    "ExecuteTime": {
     "end_time": "2017-11-21T12:17:37.355081Z",
     "start_time": "2017-11-21T12:17:37.190984Z"
    }
   },
   "outputs": [],
   "source": [
    "\n",
    "    "
   ]
  },
  {
   "cell_type": "code",
   "execution_count": null,
   "metadata": {
    "ExecuteTime": {
     "end_time": "2017-11-21T10:56:54.976690Z",
     "start_time": "2017-11-21T10:56:54.877651Z"
    }
   },
   "outputs": [],
   "source": []
  },
  {
   "cell_type": "code",
   "execution_count": 31,
   "metadata": {
    "ExecuteTime": {
     "end_time": "2017-11-21T12:32:47.534295Z",
     "start_time": "2017-11-21T12:32:45.350156Z"
    }
   },
   "outputs": [
    {
     "data": {
      "text/plain": [
       "[variable([[ 50.87026215,  48.94193268,  48.45976639,  49.41189194,\n",
       "              0.64766961,   0.0851017 ]]),\n",
       " variable([[ 50.87026215,  48.94193268,  48.45976639,  49.41189194,\n",
       "              0.64766961,   0.0851017 ]]),\n",
       " variable([[ 50.87026215,  48.94193268,  48.45976639,  49.41189194,\n",
       "              0.64766961,   0.0851017 ]]),\n",
       " variable([[ 50.87026215,  48.94193268,  48.45976639,  49.41189194,\n",
       "              0.64766961,   0.0851017 ]]),\n",
       " variable([[ 50.78208542,  49.75242996,  48.53586197,  48.22953415,\n",
       "              0.6393562 ,   0.09330568]]),\n",
       " variable([[ 51.02495575,  50.32294083,  48.46580887,  47.83997345,\n",
       "              0.64341909,   0.0881644 ]]),\n",
       " variable([[ 51.05023575,  50.53017807,  48.47847748,  47.72773361,\n",
       "              0.64324766,   0.08772252]]),\n",
       " variable([[ 50.93701935,  50.39622116,  48.42960739,  47.73781204,\n",
       "              0.64429289,   0.08744891]]),\n",
       " variable([[ 50.93701935,  50.39622116,  48.42960739,  47.73781204,\n",
       "              0.64429289,   0.08744891]]),\n",
       " variable([[ 50.93701935,  50.39622116,  48.42960739,  47.73781204,\n",
       "              0.64429289,   0.08744891]])]"
      ]
     },
     "execution_count": 31,
     "metadata": {},
     "output_type": "execute_result"
    }
   ],
   "source": [
    "pred_box_list = []\n",
    "for i in range(10):     \n",
    "    test_shifts=boxnet(test_imgs[i])\n",
    "    test_shifts = test_shifts[:,:,64,64]\n",
    "    test_shifts =F.reshape(test_shifts,[1,6,1,1])\n",
    "    test_pred_boxes=get_pred_boxes(test_shifts,def_boxes)\n",
    "    pred_box_list.append(test_pred_boxes)\n",
    "    \n",
    "pred_box_list    "
   ]
  },
  {
   "cell_type": "code",
   "execution_count": 32,
   "metadata": {
    "ExecuteTime": {
     "end_time": "2017-11-21T12:32:48.654161Z",
     "start_time": "2017-11-21T12:32:47.540180Z"
    },
    "scrolled": false
   },
   "outputs": [
    {
     "data": {
      "image/png": "[encoded data removed]",
      "text/plain": [
       "<matplotlib.figure.Figure at 0x7f41d81ff780>"
      ]
     },
     "metadata": {},
     "output_type": "display_data"
    },
    {
     "data": {
      "image/png": "[encoded data removed]",
      "text/plain": [
       "<matplotlib.figure.Figure at 0x7f41d82aaf28>"
      ]
     },
     "metadata": {},
     "output_type": "display_data"
    },
    {
     "data": {
      "image/png": "[encoded data removed]",
      "text/plain": [
       "<matplotlib.figure.Figure at 0x7f41d801ce80>"
      ]
     },
     "metadata": {},
     "output_type": "display_data"
    },
    {
     "data": {
      "image/png": "[encoded data removed]",
      "text/plain": [
       "<matplotlib.figure.Figure at 0x7f41d8081390>"
      ]
     },
     "metadata": {},
     "output_type": "display_data"
    },
    {
     "data": {
      "image/png": "[encoded data removed]",
      "text/plain": [
       "<matplotlib.figure.Figure at 0x7f41d7f9d128>"
      ]
     },
     "metadata": {},
     "output_type": "display_data"
    },
    {
     "data": {
      "image/png": "[encoded data removed]",
      "text/plain": [
       "<matplotlib.figure.Figure at 0x7f41d7f4f978>"
      ]
     },
     "metadata": {},
     "output_type": "display_data"
    },
    {
     "data": {
      "image/png": "[encoded data removed]",
      "text/plain": [
       "<matplotlib.figure.Figure at 0x7f41d7fd0080>"
      ]
     },
     "metadata": {},
     "output_type": "display_data"
    },
    {
     "data": {
      "image/png": "[encoded data removed]",
      "text/plain": [
       "<matplotlib.figure.Figure at 0x7f41d7ed20b8>"
      ]
     },
     "metadata": {},
     "output_type": "display_data"
    },
    {
     "data": {
      "image/png": "[encoded data removed]",
      "text/plain": [
       "<matplotlib.figure.Figure at 0x7f41d7f53a20>"
      ]
     },
     "metadata": {},
     "output_type": "display_data"
    },
    {
     "data": {
      "image/png": "[encoded data removed]",
      "text/plain": [
       "<matplotlib.figure.Figure at 0x7f41d7fe0c50>"
      ]
     },
     "metadata": {},
     "output_type": "display_data"
    }
   ],
   "source": [
    "for i in range(10): \n",
    "    img_test = test_imgs[i]\n",
    "    ax=draw_boxes(img_test,def_boxes)\n",
    "    draw_pred_boxes(test_pred_boxes, img_test, ax)\n"
   ]
  },
  {
   "cell_type": "code",
   "execution_count": 33,
   "metadata": {
    "ExecuteTime": {
     "end_time": "2017-11-21T12:32:48.658876Z",
     "start_time": "2017-11-21T12:32:48.655709Z"
    }
   },
   "outputs": [
    {
     "data": {
      "text/plain": [
       "variable([[ 51.16051483,  50.272995  ,  48.28991318,  48.21246719,\n",
       "             0.64464885,   0.08710552]])"
      ]
     },
     "execution_count": 33,
     "metadata": {},
     "output_type": "execute_result"
    }
   ],
   "source": [
    "pred_boxes\n"
   ]
  },
  {
   "cell_type": "code",
   "execution_count": 34,
   "metadata": {
    "ExecuteTime": {
     "end_time": "2017-11-21T12:32:48.713606Z",
     "start_time": "2017-11-21T12:32:48.660261Z"
    }
   },
   "outputs": [
    {
     "data": {
      "text/plain": [
       "variable([[  67.17212677,   67.17212677,  120.        ,  120.        ,\n",
       "              0.        ,    0.        ]])"
      ]
     },
     "execution_count": 34,
     "metadata": {},
     "output_type": "execute_result"
    }
   ],
   "source": [
    "def_boxes"
   ]
  },
  {
   "cell_type": "code",
   "execution_count": 35,
   "metadata": {
    "ExecuteTime": {
     "end_time": "2017-11-21T12:32:48.857087Z",
     "start_time": "2017-11-21T12:32:48.714987Z"
    }
   },
   "outputs": [
    {
     "ename": "NameError",
     "evalue": "name 'size_list' is not defined",
     "output_type": "error",
     "traceback": [
      "\u001b[0;31m---------------------------------------------------------------------------\u001b[0m",
      "\u001b[0;31mNameError\u001b[0m                                 Traceback (most recent call last)",
      "\u001b[0;32m<ipython-input-35-0f605c50b468>\u001b[0m in \u001b[0;36m<module>\u001b[0;34m()\u001b[0m\n\u001b[0;32m----> 1\u001b[0;31m \u001b[0msize_list\u001b[0m\u001b[0;34m\u001b[0m\u001b[0m\n\u001b[0m",
      "\u001b[0;31mNameError\u001b[0m: name 'size_list' is not defined"
     ]
    }
   ],
   "source": [
    "size_list"
   ]
  },
  {
   "cell_type": "code",
   "execution_count": null,
   "metadata": {
    "collapsed": true
   },
   "outputs": [],
   "source": []
  }
 ],
 "metadata": {
  "kernelspec": {
   "display_name": "Python 3",
   "language": "python",
   "name": "python3"
  },
  "language_info": {
   "codemirror_mode": {
    "name": "ipython",
    "version": 3
   },
   "file_extension": ".py",
   "mimetype": "text/x-python",
   "name": "python",
   "nbconvert_exporter": "python",
   "pygments_lexer": "ipython3",
   "version": "3.5.2"
  },
  "toc": {
   "colors": {
    "hover_highlight": "#DAA520",
    "navigate_num": "#000000",
    "navigate_text": "#333333",
    "running_highlight": "#FF0000",
    "selected_highlight": "#FFD700",
    "sidebar_border": "#EEEEEE",
    "wrapper_background": "#FFFFFF"
   },
   "moveMenuLeft": true,
   "nav_menu": {
    "height": "228px",
    "width": "252px"
   },
   "navigate_menu": true,
   "number_sections": false,
   "sideBar": true,
   "threshold": 4,
   "toc_cell": true,
   "toc_position": {
    "height": "838px",
    "left": "0px",
    "right": "1653px",
    "top": "107px",
    "width": "212px"
   },
   "toc_section_display": "block",
   "toc_window_display": true,
   "widenNotebook": false
  },
  "varInspector": {
   "cols": {
    "lenName": 16,
    "lenType": 16,
    "lenVar": 40
   },
   "kernels_config": {
    "python": {
     "delete_cmd_postfix": "",
     "delete_cmd_prefix": "del ",
     "library": "var_list.py",
     "varRefreshCmd": "print(var_dic_list())"
    },
    "r": {
     "delete_cmd_postfix": ") ",
     "delete_cmd_prefix": "rm(",
     "library": "var_list.r",
     "varRefreshCmd": "cat(var_dic_list()) "
    }
   },
   "types_to_exclude": [
    "module",
    "function",
    "builtin_function_or_method",
    "instance",
    "_Feature"
   ],
   "window_display": false
  }
 },
 "nbformat": 4,
 "nbformat_minor": 2
}
