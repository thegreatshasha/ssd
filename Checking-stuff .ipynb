{
 "cells": [
  {
   "cell_type": "markdown",
   "metadata": {
    "toc": "true"
   },
   "source": [
    "# Table of Contents\n",
    " <p><div class=\"lev1 toc-item\"><a href=\"#Checking-regression\" data-toc-modified-id=\"Checking-regression-1\"><span class=\"toc-item-num\">1&nbsp;&nbsp;</span>Checking regression</a></div><div class=\"lev2 toc-item\"><a href=\"#Checking-functions\" data-toc-modified-id=\"Checking-functions-11\"><span class=\"toc-item-num\">1.1&nbsp;&nbsp;</span>Checking functions</a></div><div class=\"lev3 toc-item\"><a href=\"#Generate-boxes\" data-toc-modified-id=\"Generate-boxes-111\"><span class=\"toc-item-num\">1.1.1&nbsp;&nbsp;</span>Generate boxes</a></div><div class=\"lev3 toc-item\"><a href=\"#Conv-net-definitions\" data-toc-modified-id=\"Conv-net-definitions-112\"><span class=\"toc-item-num\">1.1.2&nbsp;&nbsp;</span>Conv net definitions</a></div><div class=\"lev3 toc-item\"><a href=\"#Generate-Default-boxes\" data-toc-modified-id=\"Generate-Default-boxes-113\"><span class=\"toc-item-num\">1.1.3&nbsp;&nbsp;</span>Generate Default boxes</a></div><div class=\"lev3 toc-item\"><a href=\"#Center-to-coords\" data-toc-modified-id=\"Center-to-coords-114\"><span class=\"toc-item-num\">1.1.4&nbsp;&nbsp;</span>Center to coords</a></div><div class=\"lev3 toc-item\"><a href=\"#Draw-boxes\" data-toc-modified-id=\"Draw-boxes-115\"><span class=\"toc-item-num\">1.1.5&nbsp;&nbsp;</span>Draw boxes</a></div><div class=\"lev3 toc-item\"><a href=\"#Get-prediction-boxes\" data-toc-modified-id=\"Get-prediction-boxes-116\"><span class=\"toc-item-num\">1.1.6&nbsp;&nbsp;</span>Get prediction boxes</a></div><div class=\"lev3 toc-item\"><a href=\"#Draw-predicted-boxes\" data-toc-modified-id=\"Draw-predicted-boxes-117\"><span class=\"toc-item-num\">1.1.7&nbsp;&nbsp;</span>Draw predicted boxes</a></div><div class=\"lev3 toc-item\"><a href=\"#Normalize-shifts\" data-toc-modified-id=\"Normalize-shifts-118\"><span class=\"toc-item-num\">1.1.8&nbsp;&nbsp;</span>Normalize shifts</a></div><div class=\"lev3 toc-item\"><a href=\"#Regression-loss\" data-toc-modified-id=\"Regression-loss-119\"><span class=\"toc-item-num\">1.1.9&nbsp;&nbsp;</span>Regression loss</a></div><div class=\"lev3 toc-item\"><a href=\"#Eveyrthing-connected\" data-toc-modified-id=\"Eveyrthing-connected-1110\"><span class=\"toc-item-num\">1.1.10&nbsp;&nbsp;</span>Eveyrthing connected</a></div><div class=\"lev2 toc-item\"><a href=\"#Experiments\" data-toc-modified-id=\"Experiments-12\"><span class=\"toc-item-num\">1.2&nbsp;&nbsp;</span>Experiments</a></div>"
   ]
  },
  {
   "cell_type": "markdown",
   "metadata": {},
   "source": [
    "# Checking regression "
   ]
  },
  {
   "cell_type": "markdown",
   "metadata": {},
   "source": [
    "The strategy will be to check regression in x and y and see how that works out when you combine it. Clearly something must be amiss. So the list of things to do is the following - \n",
    "\n",
    "\n",
    "1) check regression in x \n",
    "\n",
    "2) check regression in y \n",
    "\n",
    "3) check regression when you combine both\n",
    "\n",
    "4) For all of this you need to check each function to make sure that it is doing what its supposed to do\n",
    "\n",
    "\n"
   ]
  },
  {
   "cell_type": "markdown",
   "metadata": {},
   "source": [
    "## Checking functions "
   ]
  },
  {
   "cell_type": "markdown",
   "metadata": {},
   "source": [
    "### Generate boxes\n",
    "\n",
    "First attempt chose a static box to see what is going on,  you will replicate the code for random boxes"
   ]
  },
  {
   "cell_type": "code",
   "execution_count": 1,
   "metadata": {
    "ExecuteTime": {
     "end_time": "2017-11-19T10:31:09.345143Z",
     "start_time": "2017-11-19T10:31:08.733440Z"
    }
   },
   "outputs": [
    {
     "data": {
      "image/png": "[encoded data removed]",
      "text/plain": [
       "<matplotlib.figure.Figure at 0x7fe13043fa90>"
      ]
     },
     "metadata": {},
     "output_type": "display_data"
    }
   ],
   "source": [
    "import chainer\n",
    "import numpy as np\n",
    "import matplotlib.pyplot as plt\n",
    "from matplotlib import patches\n",
    "import random \n",
    "from chainer.functions import log, hstack, huber_loss\n",
    "\n",
    "# %matplotlib notebook\n",
    "def get_single_image(pos_r, pos_c, height, width  ): \n",
    "    \n",
    "    image = np.zeros((1,3,128,128), dtype=np.float32)\n",
    "\n",
    "    gts = []\n",
    "\n",
    "    for i in range(1):\n",
    "        # Choose random coordinate, this can also be run in a loop\n",
    "        width = width\n",
    "        height =height\n",
    "        pos_r =pos_r\n",
    "        pos_c =pos_c\n",
    "        image[0,:,pos_r:pos_r+height,pos_c:pos_c+width]=1\n",
    "        #print(pos_r, pos_c)\n",
    "\n",
    "        cx = pos_c #+ width/2.0\n",
    "        cy = pos_r #+ height/2.0\n",
    "\n",
    "        box = [cx, cy, width, height, 1, 0]\n",
    "\n",
    "        gts.append(box)\n",
    "\n",
    "    # Create ground truth object\n",
    "    gts2 = chainer.Variable(np.array(gts, dtype=np.float32))\n",
    "    return gts2, image \n",
    "\n",
    "\n",
    "gt, img  = get_single_image(50,50, 20,20)\n",
    "for i in range(1):\n",
    "    # Initialize the image\n",
    "    \n",
    "    # Visualize the entire thing\n",
    "    plt.imshow(img[0,0,:,:])\n",
    "    plt.show()"
   ]
  },
  {
   "cell_type": "code",
   "execution_count": 2,
   "metadata": {
    "ExecuteTime": {
     "end_time": "2017-11-19T10:31:09.352085Z",
     "start_time": "2017-11-19T10:31:09.347245Z"
    }
   },
   "outputs": [
    {
     "name": "stdout",
     "output_type": "stream",
     "text": [
      "ground truth box coordinates:  variable([[ 50.  50.  20.  20.   1.   0.]]) gt shape : (1, 6)\n",
      "-----------------------------------------------\n",
      "Image shape (1, 3, 128, 128)\n"
     ]
    }
   ],
   "source": [
    "print('ground truth box coordinates: ' ,gt,'gt shape :' ,gt.shape)\n",
    "print('-----------------------------------------------')\n",
    "print('Image shape', img.shape)\n"
   ]
  },
  {
   "cell_type": "markdown",
   "metadata": {},
   "source": [
    "### Conv net definitions "
   ]
  },
  {
   "cell_type": "code",
   "execution_count": 3,
   "metadata": {
    "ExecuteTime": {
     "end_time": "2017-11-19T10:31:09.462210Z",
     "start_time": "2017-11-19T10:31:09.353569Z"
    },
    "collapsed": true
   },
   "outputs": [],
   "source": [
    "from chainer import Chain\n",
    "import chainer\n",
    "import chainer.functions as F\n",
    "import chainer.links as L\n",
    "\n",
    "class ConvNet(Chain):\n",
    "    def __init__(self):\n",
    "        super(ConvNet, self).__init__(\n",
    "            l1=L.Convolution2D(None,32,ksize=(3,3),stride=1,pad=1),\n",
    "            l2=L.Convolution2D(32,32,ksize=(3,3),stride=1,pad=1),\n",
    "            l3=L.Convolution2D(32,32,ksize=(3,3),stride=1,pad=1),\n",
    "            l4=L.Convolution2D(32,32,ksize=(3,3),stride=1,pad=1)\n",
    "        )\n",
    "        \n",
    "    def __call__(self, x):\n",
    "        h1 = F.relu(self.l1(x))\n",
    "        h2 = F.max_pooling_2d(h1, 2)\n",
    "        h3 = F.relu(self.l2(h2))\n",
    "        h4 = F.max_pooling_2d(h3, 2)\n",
    "        h5 = F.relu(self.l3(h4))\n",
    "#         h6 = F.max_pooling_2d(h5, 2)\n",
    "#         h7 = F.relu(self.l4(h6))\n",
    "        \n",
    "        return self.l3(F.sigmoid(h5))"
   ]
  },
  {
   "cell_type": "code",
   "execution_count": 4,
   "metadata": {
    "ExecuteTime": {
     "end_time": "2017-11-19T10:31:09.666124Z",
     "start_time": "2017-11-19T10:31:09.467477Z"
    },
    "collapsed": true
   },
   "outputs": [],
   "source": [
    "class BoxNet(Chain):\n",
    "    def __init__(self, predictor):\n",
    "        super(BoxNet, self).__init__(\n",
    "            l1=L.Convolution2D(None,6,ksize=(3,3),stride=1,pad=1)\n",
    "        )\n",
    "        self.predictor = predictor\n",
    "        \n",
    "    def __call__(self, x):\n",
    "        h1 = self.l1(self.predictor(x))\n",
    "        return h1\n",
    "    \n",
    "convnet = ConvNet()\n",
    "boxnet = BoxNet(ConvNet())\n",
    "fm = convnet(img)\n",
    "shifts_all = boxnet(img)\n",
    "\n",
    "shifts= shifts_all[:,:,8,8]\n",
    "shifts =F.reshape(shifts,[1,6,1,1])\n"
   ]
  },
  {
   "cell_type": "code",
   "execution_count": 5,
   "metadata": {
    "ExecuteTime": {
     "end_time": "2017-11-19T10:31:09.683509Z",
     "start_time": "2017-11-19T10:31:09.669098Z"
    }
   },
   "outputs": [
    {
     "name": "stdout",
     "output_type": "stream",
     "text": [
      "shifts all shape : (1, 6, 32, 32)  \n",
      " shifts shape : (1, 6, 1, 1)\n",
      "------------------------------------------\n",
      "shifts value : variable([[[-0.47344169]]\n",
      "\n",
      "          [[-0.30662483]]\n",
      "\n",
      "          [[ 0.64211667]]\n",
      "\n",
      "          [[-0.26554367]]\n",
      "\n",
      "          [[ 0.1163116 ]]\n",
      "\n",
      "          [[ 0.64353192]]])\n"
     ]
    }
   ],
   "source": [
    "print('shifts all shape :', shifts_all.shape,  ' \\n shifts shape :', shifts.shape)\n",
    "print('------------------------------------------')\n",
    "print('shifts value :', shifts[0])"
   ]
  },
  {
   "cell_type": "markdown",
   "metadata": {},
   "source": [
    "### Generate Default boxes"
   ]
  },
  {
   "cell_type": "code",
   "execution_count": 6,
   "metadata": {
    "ExecuteTime": {
     "end_time": "2017-11-19T10:31:09.783701Z",
     "start_time": "2017-11-19T10:31:09.685587Z"
    },
    "collapsed": true
   },
   "outputs": [],
   "source": [
    "def defaultgen(I, F, width, height):\n",
    "    \"\"\"\n",
    "    Generates an array of default boxes: Chainer TESTED\n",
    "    \n",
    "    Args:\n",
    "        I: Input image tensor (N,channels,rows,cols)\n",
    "        F: Feature map tensor to generate default boxes for\n",
    "        width: Width of the box\n",
    "        height: Height of the box\n",
    "        \n",
    "    Returns:\n",
    "        db: Default boxes tensor, flattened\n",
    "    \"\"\"\n",
    "    scale = (I.shape[2] / F.shape[2])\n",
    "    offset = np.ones((2,F.shape[2],F.shape[3]), dtype=np.float32)\n",
    "    iterator = np.flip(np.indices((F.shape[2],F.shape[3])), axis=0).astype(np.float32)\n",
    "    \n",
    "    xys = offset * ((scale-1)/2) + iterator * scale\n",
    "    xys = np.moveaxis(xys,0,2)\n",
    "    ws = np.full((F.shape[2],F.shape[3],1), width, dtype=np.float32)\n",
    "    hs = np.full((F.shape[2],F.shape[3],1), height,dtype=np.float32)\n",
    "    class_scores = np.zeros((F.shape[2],F.shape[3],2), dtype=np.float32)\n",
    "    db = np.dstack([xys, ws, hs, class_scores])\n",
    "   \n",
    "    db = db[8,8,:]\n",
    "    db = db.reshape([1,1,6])\n",
    "    \n",
    "    return chainer.Variable(db.reshape((db.shape[0] * db.shape[1], 6)))\n"
   ]
  },
  {
   "cell_type": "code",
   "execution_count": 7,
   "metadata": {
    "ExecuteTime": {
     "end_time": "2017-11-19T10:31:09.872951Z",
     "start_time": "2017-11-19T10:31:09.785568Z"
    }
   },
   "outputs": [
    {
     "name": "stdout",
     "output_type": "stream",
     "text": [
      "def_boxes values: variable([[ 33.5  33.5  60.   60.    0.    0. ]])\n",
      "---------------------------------------\n",
      "print shape of def boxes : (1, 6)\n"
     ]
    }
   ],
   "source": [
    "def_boxes = defaultgen(img,fm, 60,60)\n",
    "print('def_boxes values:', def_boxes)\n",
    "print('---------------------------------------')\n",
    "print('print shape of def boxes :', def_boxes.shape)"
   ]
  },
  {
   "cell_type": "markdown",
   "metadata": {},
   "source": [
    "### Center to coords \n",
    "\n",
    "This function has been checked, seems correct, some examples below"
   ]
  },
  {
   "cell_type": "code",
   "execution_count": 8,
   "metadata": {
    "ExecuteTime": {
     "end_time": "2017-11-19T10:31:09.943825Z",
     "start_time": "2017-11-19T10:31:09.874646Z"
    },
    "collapsed": true
   },
   "outputs": [],
   "source": [
    "def center_to_coords(box):\n",
    "    \"\"\" \n",
    "    Converts bounding box from (cx, cy, w, h) format to (x1, y1, x2, y2) format\n",
    "    \n",
    "    Args:\n",
    "        box: 6d numpy array\n",
    "        \n",
    "    Returns:\n",
    "        box_transformed: Box in the second format\n",
    "    \n",
    "    \"\"\"\n",
    "    box_transformed = np.array([box[0]-box[2]/2.0, box[1]-box[3]/2.0, box[0]+box[2]/2.0, box[1]+box[3]/2.0, box[4], box[5]])\n",
    "    return box_transformed\n",
    "\n"
   ]
  },
  {
   "cell_type": "markdown",
   "metadata": {
    "ExecuteTime": {
     "end_time": "2017-11-19T04:14:15.764172Z",
     "start_time": "2017-11-19T04:14:15.761232Z"
    }
   },
   "source": [
    "Checking center to coords..."
   ]
  },
  {
   "cell_type": "code",
   "execution_count": 9,
   "metadata": {
    "ExecuteTime": {
     "end_time": "2017-11-19T10:31:10.041973Z",
     "start_time": "2017-11-19T10:31:09.945267Z"
    }
   },
   "outputs": [
    {
     "data": {
      "text/plain": [
       "array([variable(3.5), variable(3.5), variable(63.5), variable(63.5),\n",
       "       variable(0.0), variable(0.0)], dtype=object)"
      ]
     },
     "execution_count": 9,
     "metadata": {},
     "output_type": "execute_result"
    }
   ],
   "source": [
    "center_to_coords(def_boxes[0])"
   ]
  },
  {
   "cell_type": "code",
   "execution_count": 10,
   "metadata": {
    "ExecuteTime": {
     "end_time": "2017-11-19T10:31:10.111764Z",
     "start_time": "2017-11-19T10:31:10.044126Z"
    }
   },
   "outputs": [
    {
     "name": "stdout",
     "output_type": "stream",
     "text": [
      "[  73.5   -1.5  106.5   31.5    0.     0. ] [  8.5   7.5  11.5  10.5   0.    0. ]\n"
     ]
    }
   ],
   "source": [
    "# some more checks \n",
    "\n",
    "box1= np.array([10,9, 3,3,0,0])\n",
    "box2= np.array([90,15, 33,33,0,0])\n",
    "\n",
    "print(center_to_coords(box2), center_to_coords(box1)) "
   ]
  },
  {
   "cell_type": "markdown",
   "metadata": {},
   "source": [
    "### Draw boxes \n"
   ]
  },
  {
   "cell_type": "code",
   "execution_count": 11,
   "metadata": {
    "ExecuteTime": {
     "end_time": "2017-11-19T10:31:10.233023Z",
     "start_time": "2017-11-19T10:31:10.114018Z"
    },
    "collapsed": true
   },
   "outputs": [],
   "source": [
    "def draw_boxes(image, boxes):\n",
    "    img = image\n",
    "    plt.figure()\n",
    "    ax = plt.axes()\n",
    "\n",
    "    for box in boxes:\n",
    "        box = center_to_coords(box.data)\n",
    "        ax.imshow(img[0,0,:,:])\n",
    "        p = patches.Rectangle((box[0], box[1]), box[2]-box[0], box[3]-box[1], fill=False, color = 'red')\n",
    "        ax.add_patch(p)\n",
    "\n",
    "    \n",
    "    return ax\n",
    "ax  = draw_boxes(img, def_boxes)"
   ]
  },
  {
   "cell_type": "markdown",
   "metadata": {},
   "source": [
    "### Get prediction boxes \n",
    "\n",
    "This seems to be correct as well"
   ]
  },
  {
   "cell_type": "code",
   "execution_count": 12,
   "metadata": {
    "ExecuteTime": {
     "end_time": "2017-11-19T10:31:10.308576Z",
     "start_time": "2017-11-19T10:31:10.234816Z"
    },
    "collapsed": true
   },
   "outputs": [],
   "source": [
    "def get_pred_boxes(shift_vals, default_boxes ): \n",
    "    \"\"\"\n",
    "    Get predicted boxes by combining shift values to default boxes\n",
    "    Input: \n",
    "\n",
    "    shift_values : Shifts generated by the network  NDarray (None, Num of Default boxes, 4+num of classes)\n",
    "    Default boxes  : Default boxes generated by the network NDarray (None, Num of Default boxes, 4+num of classes)\n",
    "\n",
    "    Output: \n",
    "\n",
    "    Predicted boxes  : Predicted boxes, same shape as default boxes  NDarray (None, Num of Default boxes, 4+num of classes)\n",
    "\n",
    "    \"\"\"\n",
    "    \n",
    "    shift_val_shape= default_boxes.shape\n",
    "    shift_vals= F.swapaxes(shift_vals,1,3)\n",
    "    shift_vals= F.reshape(shift_vals,shift_val_shape)\n",
    "    \n",
    "    shifts = shift_vals \n",
    "    def_boxes= default_boxes\n",
    "    \n",
    "    \n",
    "    cx_pred = (shifts[:,0]*def_boxes[:,2])+def_boxes[:,0]\n",
    "    cy_pred = (shifts[:,1]*def_boxes[:,3])+def_boxes[:,1]\n",
    "    \n",
    "    H_pred = F.exp(shifts[:,3])*def_boxes[:,3]\n",
    "    W_pred = F.exp(shifts[:,2])*def_boxes[:,2]\n",
    "    \n",
    "    class1 = shifts[:,4]\n",
    "    class2 = shifts[:,5]\n",
    "    \n",
    "    \n",
    "    pred_boxes = F.vstack((cx_pred,cy_pred,W_pred,H_pred, class1, class2))\n",
    "    pred_boxes = F.transpose(pred_boxes)\n",
    "    \n",
    "    return  pred_boxes "
   ]
  },
  {
   "cell_type": "code",
   "execution_count": 13,
   "metadata": {
    "ExecuteTime": {
     "end_time": "2017-11-19T10:31:10.399441Z",
     "start_time": "2017-11-19T10:31:10.310373Z"
    }
   },
   "outputs": [
    {
     "name": "stdout",
     "output_type": "stream",
     "text": [
      "prediction box coordinates : variable([[   5.09349823   15.10251045  114.02996063   46.00733948\n",
      "              0.1163116     0.64353192]])\n"
     ]
    }
   ],
   "source": [
    "pred_boxes= get_pred_boxes(shifts, def_boxes)\n",
    "print('prediction box coordinates :', pred_boxes)"
   ]
  },
  {
   "cell_type": "code",
   "execution_count": 14,
   "metadata": {
    "ExecuteTime": {
     "end_time": "2017-11-19T10:31:10.509936Z",
     "start_time": "2017-11-19T10:31:10.401195Z"
    }
   },
   "outputs": [
    {
     "data": {
      "text/plain": [
       "variable([[[[-0.47344169]],\n",
       "\n",
       "           [[-0.30662483]],\n",
       "\n",
       "           [[ 0.64211667]],\n",
       "\n",
       "           [[-0.26554367]],\n",
       "\n",
       "           [[ 0.1163116 ]],\n",
       "\n",
       "           [[ 0.64353192]]]])"
      ]
     },
     "execution_count": 14,
     "metadata": {},
     "output_type": "execute_result"
    }
   ],
   "source": [
    "shifts"
   ]
  },
  {
   "cell_type": "code",
   "execution_count": 15,
   "metadata": {
    "ExecuteTime": {
     "end_time": "2017-11-19T10:31:10.598669Z",
     "start_time": "2017-11-19T10:31:10.511574Z"
    }
   },
   "outputs": [
    {
     "data": {
      "text/plain": [
       "variable([[ 33.5,  33.5,  60. ,  60. ,   0. ,   0. ]])"
      ]
     },
     "execution_count": 15,
     "metadata": {},
     "output_type": "execute_result"
    }
   ],
   "source": [
    "def_boxes"
   ]
  },
  {
   "cell_type": "markdown",
   "metadata": {},
   "source": [
    "### Draw predicted boxes"
   ]
  },
  {
   "cell_type": "code",
   "execution_count": 16,
   "metadata": {
    "ExecuteTime": {
     "end_time": "2017-11-19T10:31:10.789555Z",
     "start_time": "2017-11-19T10:31:10.600174Z"
    }
   },
   "outputs": [
    {
     "data": {
      "image/png": "[encoded data removed]",
      "text/plain": [
       "<matplotlib.figure.Figure at 0x7fe0da8399e8>"
      ]
     },
     "metadata": {},
     "output_type": "display_data"
    }
   ],
   "source": [
    "\n",
    "def draw_pred_boxes(prediction_boxes,img, ax): \n",
    "    \"\"\"Draw predicted boxes on the original image \"\"\"\n",
    "    \n",
    "    pred_boxes= prediction_boxes\n",
    "    \n",
    "     \n",
    "    boxes = pred_boxes.data\n",
    "    \n",
    "    \n",
    "    for i in range(pred_boxes.shape[0]):\n",
    "        box2 =boxes[i]         \n",
    "        \n",
    "        box2cx = box2[0]\n",
    "        box2cy = box2[1]\n",
    "        \n",
    "        box2 = center_to_coords(box2)  \n",
    "        \n",
    "        ax.imshow(img[0,0,:,:])\n",
    "\n",
    "        boxes2 = patches.Rectangle((box2cx, box2cy), box2[2]-box2[0], box2[3]-box2[1], fill=False, color = 'green')\n",
    "\n",
    "        ax.add_patch(boxes2)\n",
    "\n",
    "\n",
    "    plt.show()\n",
    "\n",
    "draw_pred_boxes(pred_boxes, img, ax)"
   ]
  },
  {
   "cell_type": "markdown",
   "metadata": {
    "ExecuteTime": {
     "end_time": "2017-11-19T06:23:08.749346Z",
     "start_time": "2017-11-19T06:23:08.729143Z"
    }
   },
   "source": [
    "### Normalize shifts     "
   ]
  },
  {
   "cell_type": "code",
   "execution_count": 17,
   "metadata": {
    "ExecuteTime": {
     "end_time": "2017-11-19T10:31:10.798620Z",
     "start_time": "2017-11-19T10:31:10.791103Z"
    },
    "collapsed": true
   },
   "outputs": [],
   "source": [
    "\n",
    "def normalize_shift(box, def_box):\n",
    "    \"\"\"\n",
    "    Scales down absolute shifts, % for centers, log for height and width.\n",
    "    \n",
    "    Args:\n",
    "        box: 6x1 bounding box coordinates\n",
    "        def_box: 6x1 reference box coordinates\n",
    "        \n",
    "    Returns:\n",
    "        normalized_shift_vector: 4x1 normalized shift vector. Note that we discard the last 2 channels.\n",
    "    \"\"\"\n",
    "    tx = (box[0] - def_box[0])/def_box[2]\n",
    "    ty = (box[1] - def_box[1])/def_box[3]\n",
    "    tw = log(box[2]/def_box[2])\n",
    "    th = log(box[3]/def_box[3])\n",
    "    \n",
    "    return hstack([tx, ty, tw, th])\n",
    "    "
   ]
  },
  {
   "cell_type": "markdown",
   "metadata": {},
   "source": [
    "### Regression loss \n",
    "\n",
    "This too seems to work "
   ]
  },
  {
   "cell_type": "code",
   "execution_count": 18,
   "metadata": {
    "ExecuteTime": {
     "end_time": "2017-11-19T10:31:10.912649Z",
     "start_time": "2017-11-19T10:31:10.800202Z"
    }
   },
   "outputs": [
    {
     "name": "stdout",
     "output_type": "stream",
     "text": [
      " regression loss value : variable(3.726130723953247)\n"
     ]
    }
   ],
   "source": [
    "def regression_loss(pred_box, gt_box, def_box):\n",
    "    \"\"\"\n",
    "    Calculates regression loss between two boxes w.r.t a reference default box.\n",
    "    \n",
    "    Args:\n",
    "        pred_box: 6x1 bounding box predicted by the network\n",
    "        gt_box: 6x1 bounding box overlapping with pred_box\n",
    "        def_box: 6x1 bounding box with same index as pred_box\n",
    "        \n",
    "    Returns:\n",
    "        reg_loss: Scalar of huber loss between two vectors\n",
    "    \"\"\"\n",
    "    \n",
    "    gt_normalized  = normalize_shift(gt_box[0],def_box[0])\n",
    "    pred_normalized = normalize_shift(pred_box[0],def_box[0])\n",
    "    \n",
    "    gt_normalized = gt_normalized\n",
    "    pred_normalized = pred_normalized\n",
    "    loss_val= pred_normalized - gt_normalized \n",
    "   \n",
    "    x_reg = F.absolute(loss_val )\n",
    "    x_reg =F.sum(x_reg)\n",
    "    # for now no sum since there is no other dimension \n",
    "    \n",
    "    return x_reg\n",
    "    \n",
    "reg_loss_value = regression_loss(pred_boxes, gt, pred_boxes)\n",
    "print(' regression loss value :', reg_loss_value)\n",
    "\n",
    "\n"
   ]
  },
  {
   "cell_type": "code",
   "execution_count": 19,
   "metadata": {
    "ExecuteTime": {
     "end_time": "2017-11-19T10:31:11.021481Z",
     "start_time": "2017-11-19T10:31:10.914167Z"
    },
    "collapsed": true
   },
   "outputs": [],
   "source": [
    "def compute_loss(gt_boxes, pred_boxes, def_boxes):\n",
    "    \n",
    "    loss_class = chainer.Variable(np.array([0.], dtype=np.float32))\n",
    "    loss_reg = chainer.Variable(np.array([0.], dtype=np.float32))\n",
    "    \n",
    "    gt_box, pred_box, def_box = gt_boxes, pred_boxes, def_boxes    \n",
    "#     loss_reg += regression_loss(pred_box, gt_box, def_box)\n",
    "    loss_reg = regression_loss(pred_box, gt_box, def_box)\n",
    "    \n",
    "    return loss_reg \n"
   ]
  },
  {
   "cell_type": "code",
   "execution_count": null,
   "metadata": {
    "ExecuteTime": {
     "end_time": "2017-11-19T10:09:01.820497Z",
     "start_time": "2017-11-19T10:09:01.810879Z"
    }
   },
   "outputs": [],
   "source": []
  },
  {
   "cell_type": "markdown",
   "metadata": {
    "ExecuteTime": {
     "end_time": "2017-11-19T06:31:55.610205Z",
     "start_time": "2017-11-19T06:31:55.606389Z"
    }
   },
   "source": [
    "### Eveyrthing connected\n",
    "\n",
    "Now we connect it all and first test x regression, they y regression and then combination of both\n"
   ]
  },
  {
   "cell_type": "code",
   "execution_count": 20,
   "metadata": {
    "ExecuteTime": {
     "end_time": "2017-11-19T10:31:11.124991Z",
     "start_time": "2017-11-19T10:31:11.023121Z"
    }
   },
   "outputs": [],
   "source": [
    "from chainer.optimizers import SGD,Adam,MomentumSGD\n",
    "from tqdm import tqdm\n",
    "import matplotlib.pyplot as plt\n",
    "\n",
    "def all_connected(posr, posc, width_gt, height_gt, alpha, number_loops):\n",
    "    \"\"\"\n",
    "    Input\n",
    "\n",
    "    width_gt     : width of the ground truth box \n",
    "    height_gt    : height of the ground truth box \n",
    "    alpha        : alpha value for the adam optimizer \n",
    "    number_loops : number of examples generate\n",
    "\n",
    "\n",
    "    Ouput \n",
    "    Image of the loss function \n",
    "    Loss history \n",
    "    \"\"\"\n",
    "\n",
    "    \n",
    "    \n",
    "    boxnet = BoxNet(ConvNet())\n",
    "\n",
    "    optimizer =Adam(alpha= alpha)\n",
    "    optimizer.setup(boxnet)\n",
    "    loss_history = []\n",
    "\n",
    "\n",
    "\n",
    "    for i in tqdm(range(number_loops)):\n",
    "        gt, img =get_single_image(posr, posc, width_gt, height_gt)\n",
    "\n",
    "\n",
    "        # Initializing the network and computing the features and shifts\n",
    "        #fm = convnet(img)\n",
    "        shifts2 = boxnet(img)\n",
    "        shifts2= shifts2[:,:,8,8]\n",
    "        shifts2 =F.reshape(shifts2,[1,6,1,1])\n",
    "\n",
    "\n",
    "        # Getting default_boxes and predictions\n",
    "        # Forward pass ends here\n",
    "\n",
    "        def_boxes2 = defaultgen(img, fm, 60,60)\n",
    "        pred_boxes2 = get_pred_boxes(shifts2, def_boxes2)\n",
    "\n",
    "    # #     print(pred_boxes)\n",
    "\n",
    "    #     # Computing the loss\n",
    "        boxnet.zerograds()\n",
    "        loss = compute_loss( gt ,pred_boxes2, def_boxes2)\n",
    "\n",
    "    #     if i % 50 == 0:\n",
    "    #         draw_pred_boxes(pred_boxes2,img, ax)\n",
    "    #         print('pred box loc:  ' , pred_boxes2[0][0],pred_boxes2[0][1] )\n",
    "    #         print('gt', gt)\n",
    "\n",
    "        loss_history.append(loss.data)\n",
    "        loss.backward()\n",
    "\n",
    "        optimizer.update()\n",
    "\n",
    "#     plt.figure(figsize=(30,10))\n",
    "#     plt.plot(range(len(loss_history)), loss_history)\n",
    "#     plt.ylim([0,1])\n",
    "#     plt.show()\n",
    "\n",
    "    return loss_history, pred_boxes2,def_boxes2,  gt,img \n",
    "\n"
   ]
  },
  {
   "cell_type": "markdown",
   "metadata": {},
   "source": [
    "## Experiments "
   ]
  },
  {
   "cell_type": "markdown",
   "metadata": {},
   "source": [
    "In all experiments using, adam optimizer- \n",
    "\n",
    "First case is where we have a 20 by 20 box located at 50, 50 for 100 runs using a rate of 0.01  "
   ]
  },
  {
   "cell_type": "code",
   "execution_count": 21,
   "metadata": {
    "ExecuteTime": {
     "end_time": "2017-11-19T10:31:11.222324Z",
     "start_time": "2017-11-19T10:31:11.126341Z"
    },
    "code_folding": [
     0
    ]
   },
   "outputs": [],
   "source": [
    "# all_losses = []\n",
    "# alpha = 0.01\n",
    "# locx= 50 \n",
    "# locy= 50\n",
    "# size= 20\n",
    "# nloops= 100 \n",
    "# ensemble = 5\n",
    "# for i in range(ensemble): \n",
    "    \n",
    "#     loss_history, pred_boxes2, ground_truth,image = all_connected(locx,locy, size,size, alpha, nloops)\n",
    "#     all_losses.append(loss_history)\n",
    "\n",
    "    \n",
    "# all_losses = np.array(all_losses)\n",
    "# all_losses2 = all_losses.transpose()\n",
    "# all_losses2.shape   "
   ]
  },
  {
   "cell_type": "code",
   "execution_count": 22,
   "metadata": {
    "ExecuteTime": {
     "end_time": "2017-11-19T10:31:11.311714Z",
     "start_time": "2017-11-19T10:31:11.223953Z"
    },
    "code_folding": [
     0
    ],
    "run_control": {
     "marked": false
    }
   },
   "outputs": [],
   "source": [
    "# random_or_not = 'no'\n",
    "# plt.figure(figsize=(30,10))\n",
    "# plt.xlabel('number of runs', size =20)\n",
    "# plt.ylabel('Loss value', size =20)\n",
    "# title_name ='Loss_vs_loops num-'+ str(nloops)+ '-size-'+ str(size) + '-alpha-'+ str(alpha)+'-ensemble-'+str(ensemble)+'-random-'+random_or_not\n",
    "# plt.title(title_name, size=22 )\n",
    "# plt.ylim([0,1])\n",
    "# plt.plot(range(len(loss_history)), np.mean(all_losses2,axis=1))\n",
    "# plt.savefig(title_name+'.png')\n",
    "# plt.show()"
   ]
  },
  {
   "cell_type": "markdown",
   "metadata": {},
   "source": [
    "\n",
    "Second case is where we have a 5 by 5 box located at 50, 50 for 100 runs using a rate of 0.0001  "
   ]
  },
  {
   "cell_type": "code",
   "execution_count": 23,
   "metadata": {
    "ExecuteTime": {
     "end_time": "2017-11-19T10:31:11.402087Z",
     "start_time": "2017-11-19T10:31:11.313535Z"
    },
    "code_folding": [
     0
    ]
   },
   "outputs": [],
   "source": [
    "# all_losses = []\n",
    "# alpha = 0.0001\n",
    "# locx= 50 \n",
    "# locy= 50\n",
    "# size= 5\n",
    "# nloops= 300 \n",
    "# ensemble = 5\n",
    "\n",
    "# for i in range(ensemble): \n",
    "    \n",
    "#     loss_history, pred_boxes2, ground_truth,image = all_connected(locx,locy, size,size, alpha, nloops)\n",
    "#     all_losses.append(loss_history)\n",
    "\n",
    "    \n",
    "# all_losses = np.array(all_losses)\n",
    "# all_losses2 = all_losses.transpose()\n",
    "# all_losses2.shape  \n",
    "\n",
    "\n",
    "\n",
    "\n",
    "# random_or_not = 'no'\n",
    "# plt.figure(figsize=(30,10))\n",
    "# plt.xlabel('number of runs', size =20)\n",
    "# plt.ylabel('Loss value', size =20)\n",
    "# title_name ='Loss_vs_loops num-'+ str(nloops)+ '-size-'+ str(size) + '-alpha-'+ str(alpha)+'-ensemble-'+str(ensemble)+'-random-'+random_or_not\n",
    "# plt.title(title_name, size=22 )\n",
    "# plt.ylim([0,1])\n",
    "# plt.plot(range(len(loss_history)), np.mean(all_losses2,axis=1))\n",
    "# plt.savefig(title_name+'.png')\n",
    "# plt.show()"
   ]
  },
  {
   "cell_type": "code",
   "execution_count": 24,
   "metadata": {
    "ExecuteTime": {
     "end_time": "2017-11-19T10:31:11.514527Z",
     "start_time": "2017-11-19T10:31:11.403585Z"
    },
    "code_folding": [
     0
    ],
    "run_control": {
     "marked": true
    }
   },
   "outputs": [],
   "source": [
    "# all_losses = []\n",
    "# alpha = 0.0001\n",
    "# locx= np.random.randint(10, 60) \n",
    "# locy= 50\n",
    "# size= 5\n",
    "# nloops= 300 \n",
    "# ensemble = 5\n",
    "\n",
    "# for i in range(ensemble): \n",
    "    \n",
    "#     loss_history, pred_boxes2, ground_truth, image = all_connected(locx,locy, size,size, alpha, nloops)\n",
    "#     all_losses.append(loss_history)\n",
    "\n",
    "    \n",
    "# all_losses = np.array(all_losses)\n",
    "# all_losses2 = all_losses.transpose()\n",
    "# all_losses2.shape  \n",
    "\n",
    "\n",
    "\n",
    "\n",
    "# random_or_not = 'random_x'\n",
    "# plt.figure(figsize=(30,10))\n",
    "# plt.xlabel('number of runs', size =20)\n",
    "# plt.ylabel('Loss value', size =20)\n",
    "# title_name ='Loss_vs_loops num-'+ str(nloops)+ '-size-'+ str(size) + '-alpha-'+ str(alpha)+'-ensemble-'+str(ensemble)+'-random-'+random_or_not\n",
    "# plt.title(title_name, size=22 )\n",
    "# plt.ylim([0,1])\n",
    "# plt.plot(range(len(loss_history)), np.mean(all_losses2,axis=1))\n",
    "# plt.savefig(title_name+'.png')\n",
    "# plt.show()"
   ]
  },
  {
   "cell_type": "code",
   "execution_count": 25,
   "metadata": {
    "ExecuteTime": {
     "end_time": "2017-11-19T10:32:44.947491Z",
     "start_time": "2017-11-19T10:31:11.516227Z"
    }
   },
   "outputs": [
    {
     "name": "stderr",
     "output_type": "stream",
     "text": [
      "100%|██████████| 300/300 [00:18<00:00, 16.16it/s]\n"
     ]
    },
    {
     "data": {
      "image/png": "[encoded data removed]",
      "text/plain": [
       "<matplotlib.figure.Figure at 0x7fe0da85f0f0>"
      ]
     },
     "metadata": {},
     "output_type": "display_data"
    },
    {
     "name": "stderr",
     "output_type": "stream",
     "text": [
      "100%|██████████| 300/300 [00:18<00:00, 16.65it/s]\n"
     ]
    },
    {
     "data": {
      "image/png": "[encoded data removed]",
      "text/plain": [
       "<matplotlib.figure.Figure at 0x7fe0da7cc240>"
      ]
     },
     "metadata": {},
     "output_type": "display_data"
    },
    {
     "name": "stderr",
     "output_type": "stream",
     "text": [
      "100%|██████████| 300/300 [00:18<00:00, 16.02it/s]\n"
     ]
    },
    {
     "data": {
      "image/png": "[encoded data removed]",
      "text/plain": [
       "<matplotlib.figure.Figure at 0x7fe0da7b90f0>"
      ]
     },
     "metadata": {},
     "output_type": "display_data"
    },
    {
     "name": "stderr",
     "output_type": "stream",
     "text": [
      "100%|██████████| 300/300 [00:18<00:00, 16.23it/s]\n"
     ]
    },
    {
     "data": {
      "image/png": "[encoded data removed]",
      "text/plain": [
       "<matplotlib.figure.Figure at 0x7fe0da70fac8>"
      ]
     },
     "metadata": {},
     "output_type": "display_data"
    },
    {
     "name": "stderr",
     "output_type": "stream",
     "text": [
      "100%|██████████| 300/300 [00:18<00:00, 16.24it/s]\n"
     ]
    },
    {
     "data": {
      "image/png": "[encoded data removed]",
      "text/plain": [
       "<matplotlib.figure.Figure at 0x7fe0da6c9c88>"
      ]
     },
     "metadata": {},
     "output_type": "display_data"
    },
    {
     "data": {
      "image/png": "[encoded data removed]",
      "text/plain": [
       "<matplotlib.figure.Figure at 0x7fe0da760588>"
      ]
     },
     "metadata": {},
     "output_type": "display_data"
    }
   ],
   "source": [
    "all_losses = []\n",
    "alpha = 0.0001\n",
    "locx= np.random.randint(10, 60) \n",
    "locy= np.random.randint(10, 60) \n",
    "size= 20\n",
    "nloops= 300 \n",
    "ensemble = 5\n",
    "\n",
    "for i in range(ensemble): \n",
    "\n",
    "    locx= np.random.randint(10, 60) \n",
    "    locy= np.random.randint(10, 60) \n",
    "\n",
    "    loss_history, pred_boxes2, def_boxes, ground_truth, image = all_connected(locx,locy, size,size, alpha, nloops)\n",
    "    ax=draw_boxes(image,def_boxes)\n",
    "    draw_pred_boxes(pred_boxes2, image, ax)\n",
    "    all_losses.append(loss_history)\n",
    "\n",
    "    \n",
    "all_losses = np.array(all_losses)\n",
    "all_losses2 = all_losses.transpose()\n",
    "all_losses2.shape  \n",
    "\n",
    "\n",
    "\n",
    "\n",
    "random_or_not = 'both_xy'\n",
    "plt.figure(figsize=(30,10))\n",
    "plt.xlabel('number of runs', size =20)\n",
    "plt.ylabel('Loss value', size =20)\n",
    "title_name ='Loss_vs_loops num-'+ str(nloops)+ '-size-'+ str(size) + '-alpha-'+ str(alpha)+'-ensemble-'+str(ensemble)+'-random-'+random_or_not\n",
    "plt.title(title_name, size=22 )\n",
    "plt.ylim([0,1])\n",
    "plt.plot(range(len(loss_history)), np.mean(all_losses2,axis=1))\n",
    "plt.savefig(title_name+'.png')\n",
    "plt.show()"
   ]
  },
  {
   "cell_type": "code",
   "execution_count": 26,
   "metadata": {
    "ExecuteTime": {
     "end_time": "2017-11-19T10:32:44.953773Z",
     "start_time": "2017-11-19T10:32:44.949613Z"
    }
   },
   "outputs": [
    {
     "data": {
      "text/plain": [
       "variable([[ 17.,  16.,  20.,  20.,   1.,   0.]])"
      ]
     },
     "execution_count": 26,
     "metadata": {},
     "output_type": "execute_result"
    }
   ],
   "source": [
    "ground_truth"
   ]
  },
  {
   "cell_type": "code",
   "execution_count": 27,
   "metadata": {
    "ExecuteTime": {
     "end_time": "2017-11-19T10:32:45.086324Z",
     "start_time": "2017-11-19T10:32:44.955860Z"
    }
   },
   "outputs": [
    {
     "data": {
      "text/plain": [
       "variable([[ 16.97952271,  16.01995087,  19.95760918,  20.03989601,\n",
       "            -0.13021399,  -0.54850876]])"
      ]
     },
     "execution_count": 27,
     "metadata": {},
     "output_type": "execute_result"
    }
   ],
   "source": [
    "pred_boxes2"
   ]
  },
  {
   "cell_type": "code",
   "execution_count": null,
   "metadata": {
    "collapsed": true
   },
   "outputs": [],
   "source": []
  }
 ],
 "metadata": {
  "kernelspec": {
   "display_name": "Python 3",
   "language": "python",
   "name": "python3"
  },
  "language_info": {
   "codemirror_mode": {
    "name": "ipython",
    "version": 3
   },
   "file_extension": ".py",
   "mimetype": "text/x-python",
   "name": "python",
   "nbconvert_exporter": "python",
   "pygments_lexer": "ipython3",
   "version": "3.5.2"
  },
  "toc": {
   "colors": {
    "hover_highlight": "#DAA520",
    "navigate_num": "#000000",
    "navigate_text": "#333333",
    "running_highlight": "#FF0000",
    "selected_highlight": "#FFD700",
    "sidebar_border": "#EEEEEE",
    "wrapper_background": "#FFFFFF"
   },
   "moveMenuLeft": true,
   "nav_menu": {
    "height": "228px",
    "width": "252px"
   },
   "navigate_menu": true,
   "number_sections": false,
   "sideBar": true,
   "threshold": 4,
   "toc_cell": true,
   "toc_position": {
    "height": "858px",
    "left": "0px",
    "right": "1653px",
    "top": "107px",
    "width": "212px"
   },
   "toc_section_display": "block",
   "toc_window_display": true,
   "widenNotebook": false
  },
  "varInspector": {
   "cols": {
    "lenName": 16,
    "lenType": 16,
    "lenVar": 40
   },
   "kernels_config": {
    "python": {
     "delete_cmd_postfix": "",
     "delete_cmd_prefix": "del ",
     "library": "var_list.py",
     "varRefreshCmd": "print(var_dic_list())"
    },
    "r": {
     "delete_cmd_postfix": ") ",
     "delete_cmd_prefix": "rm(",
     "library": "var_list.r",
     "varRefreshCmd": "cat(var_dic_list()) "
    }
   },
   "types_to_exclude": [
    "module",
    "function",
    "builtin_function_or_method",
    "instance",
    "_Feature"
   ],
   "window_display": false
  }
 },
 "nbformat": 4,
 "nbformat_minor": 2
}
